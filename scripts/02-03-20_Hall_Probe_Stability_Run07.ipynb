{
 "cells": [
  {
   "cell_type": "markdown",
   "metadata": {},
   "source": [
    "# Background"
   ]
  },
  {
   "cell_type": "markdown",
   "metadata": {},
   "source": [
    "- Uses two datafiles starting 2020-01-27 and 2020-02-03\n",
    "- These are for the second set of temperature tests of Hall probes\n",
    "- These tests include one environment configuration (last one added chiller in the middle)"
   ]
  },
  {
   "cell_type": "markdown",
   "metadata": {},
   "source": [
    "# Code"
   ]
  },
  {
   "cell_type": "markdown",
   "metadata": {},
   "source": [
    "## Imports"
   ]
  },
  {
   "cell_type": "code",
   "execution_count": 1,
   "metadata": {},
   "outputs": [],
   "source": [
    "%load_ext autoreload\n",
    "%autoreload 2"
   ]
  },
  {
   "cell_type": "code",
   "execution_count": 3,
   "metadata": {},
   "outputs": [
    {
     "data": {
      "text/html": [
       "        <script type=\"text/javascript\">\n",
       "        window.PlotlyConfig = {MathJaxConfig: 'local'};\n",
       "        if (window.MathJax) {MathJax.Hub.Config({SVG: {font: \"STIX-Web\"}});}\n",
       "        if (typeof require !== 'undefined') {\n",
       "        require.undef(\"plotly\");\n",
       "        requirejs.config({\n",
       "            paths: {\n",
       "                'plotly': ['https://cdn.plot.ly/plotly-latest.min']\n",
       "            }\n",
       "        });\n",
       "        require(['plotly'], function(Plotly) {\n",
       "            window._Plotly = Plotly;\n",
       "        });\n",
       "        }\n",
       "        </script>\n",
       "        "
      ]
     },
     "metadata": {},
     "output_type": "display_data"
    }
   ],
   "source": [
    "import math\n",
    "import numpy as np\n",
    "import pandas as pd\n",
    "import pickle as pkl\n",
    "from datetime import datetime\n",
    "from dateutil import parser\n",
    "from datetime import datetime\n",
    "from sys import getsizeof\n",
    "import re\n",
    "\n",
    "import operator\n",
    "from scipy import stats\n",
    "import scipy.optimize as optimization\n",
    "import lmfit as lm\n",
    "\n",
    "import matplotlib.pyplot as plt\n",
    "from mpl_toolkits.mplot3d import Axes3D\n",
    "%matplotlib inline\n",
    "plt.rcParams['figure.figsize'] = (12.0, 8.0)\n",
    "plt.rcParams['axes.axisbelow'] = True\n",
    "\n",
    "from plotly.offline import init_notebook_mode, plot, iplot\n",
    "import plotly.graph_objs as go\n",
    "import plotly.io as pio\n",
    "from plotly.subplots import make_subplots\n",
    "import plotly.express as px\n",
    "init_notebook_mode(True)\n",
    "\n",
    "import seaborn as sns\n",
    "\n",
    "from wand.image import Image as WImage\n",
    "\n",
    "from hallprobecalib import hpc_ext_path\n",
    "from hallprobecalib.hpcplots import scatter2d,scatter3d,histo,py_profile"
   ]
  },
  {
   "cell_type": "code",
   "execution_count": 4,
   "metadata": {},
   "outputs": [],
   "source": [
    "make_plots = False"
   ]
  },
  {
   "cell_type": "code",
   "execution_count": 5,
   "metadata": {},
   "outputs": [],
   "source": [
    "plotdir = hpc_ext_path+'plots/hall_probe_stability/2020-01-27/'"
   ]
  },
  {
   "cell_type": "code",
   "execution_count": 6,
   "metadata": {},
   "outputs": [],
   "source": [
    "pkl_dir = hpc_ext_path+\"datafiles/hall_probe_stability/\"\n",
    "pkl_file_slow = \"hall_stability.run07.raw.slow.pkl\"\n",
    "#pkl_file_fast = \"hall_stability.run06.raw.fast.pkl\"\n",
    "#pkl_file_fast_sparse = \"hall_stability.run06.sparse.fast.pkl\""
   ]
  },
  {
   "cell_type": "code",
   "execution_count": 7,
   "metadata": {},
   "outputs": [],
   "source": [
    "df = pd.read_pickle(pkl_dir+pkl_file_slow)"
   ]
  },
  {
   "cell_type": "code",
   "execution_count": 8,
   "metadata": {},
   "outputs": [],
   "source": [
    "#df_fast = pd.read_pickle(pkl_dir+pkl_file_fast)\n",
    "#df_fast_sparse = pd.read_pickle(pkl_dir+pkl_file_fast_sparse)"
   ]
  },
  {
   "cell_type": "code",
   "execution_count": 9,
   "metadata": {},
   "outputs": [],
   "source": [
    "#df_fast['seconds_delta'].iloc[60:75]"
   ]
  },
  {
   "cell_type": "code",
   "execution_count": 10,
   "metadata": {},
   "outputs": [
    {
     "data": {
      "text/plain": [
       "Datetime\n",
       "2020-01-27 11:53:07      0.0\n",
       "2020-01-27 11:54:07     60.0\n",
       "2020-01-27 11:55:07    120.0\n",
       "2020-01-27 11:56:07    180.0\n",
       "2020-01-27 11:57:07    240.0\n",
       "2020-01-27 11:58:07    300.0\n",
       "2020-01-27 11:59:07    360.0\n",
       "2020-01-27 12:00:07    420.0\n",
       "2020-01-27 12:01:07    480.0\n",
       "2020-01-27 12:02:07    540.0\n",
       "Name: seconds_delta, dtype: float64"
      ]
     },
     "execution_count": 10,
     "metadata": {},
     "output_type": "execute_result"
    }
   ],
   "source": [
    "df['seconds_delta'].head(10)"
   ]
  },
  {
   "cell_type": "code",
   "execution_count": 11,
   "metadata": {},
   "outputs": [],
   "source": [
    "def pplot(fig):\n",
    "    pio.write_image(fig, 'temp.pdf')\n",
    "    img = WImage(filename='temp.pdf')\n",
    "    return img"
   ]
  },
  {
   "cell_type": "markdown",
   "metadata": {
    "heading_collapsed": true
   },
   "source": [
    "## Cleaning"
   ]
  },
  {
   "cell_type": "code",
   "execution_count": 12,
   "metadata": {
    "hidden": true
   },
   "outputs": [],
   "source": [
    "directory = \"/home/ckampa/Dropbox/LogFiles/\"\n",
    "filename_slow = '2020-01-27 115227slow.txt'\n",
    "filename_slow_2 = '2020-02-03 130728slow.txt'"
   ]
  },
  {
   "cell_type": "code",
   "execution_count": 13,
   "metadata": {
    "hidden": true
   },
   "outputs": [],
   "source": [
    "df = pd.read_csv(directory+filename_slow)\n",
    "df.columns = df.columns.str.lstrip(\" \")\n",
    "df.drop(\"\", axis=1, inplace=True)\n",
    "dates = [parser.parse(row.Time) for row in df.itertuples()]# if isdatetime(row.Time.values[0])]\n",
    "df[\"Datetime\"] = pd.to_datetime(dates)#.astype(\"str\")\n",
    "df = df.set_index(\"Datetime\")"
   ]
  },
  {
   "cell_type": "code",
   "execution_count": 14,
   "metadata": {
    "hidden": true
   },
   "outputs": [],
   "source": [
    "df2 = pd.read_csv(directory+filename_slow_2)\n",
    "df2.columns = df2.columns.str.lstrip(\" \")\n",
    "df2.drop(\"\", axis=1, inplace=True)\n",
    "dates = [parser.parse(row.Time) for row in df2.itertuples()]# if isdatetime(row.Time.values[0])]\n",
    "df2[\"Datetime\"] = pd.to_datetime(dates)#.astype(\"str\")\n",
    "df2 = df2.set_index(\"Datetime\")"
   ]
  },
  {
   "cell_type": "code",
   "execution_count": 15,
   "metadata": {
    "hidden": true
   },
   "outputs": [
    {
     "data": {
      "text/html": [
       "<div>\n",
       "<style scoped>\n",
       "    .dataframe tbody tr th:only-of-type {\n",
       "        vertical-align: middle;\n",
       "    }\n",
       "\n",
       "    .dataframe tbody tr th {\n",
       "        vertical-align: top;\n",
       "    }\n",
       "\n",
       "    .dataframe thead th {\n",
       "        text-align: right;\n",
       "    }\n",
       "</style>\n",
       "<table border=\"1\" class=\"dataframe\">\n",
       "  <thead>\n",
       "    <tr style=\"text-align: right;\">\n",
       "      <th></th>\n",
       "      <th>Time</th>\n",
       "      <th>Magnet Current [A]</th>\n",
       "      <th>Magnet Voltage [V]</th>\n",
       "      <th>Coil 1 (new)</th>\n",
       "      <th>Coil 2 (old)</th>\n",
       "      <th>LCW in Coil1</th>\n",
       "      <th>LCW out Coil 1</th>\n",
       "      <th>LCW in Coil 2</th>\n",
       "      <th>LCW out Coil 2</th>\n",
       "      <th>Yoke</th>\n",
       "      <th>...</th>\n",
       "      <th>C50000000D5E473A_Cal_Z</th>\n",
       "      <th>DF0000000D5E803A_Cal_T</th>\n",
       "      <th>6A0000000D61333A_Cal_T</th>\n",
       "      <th>C50000000D5E473A_Cal_T</th>\n",
       "      <th>Zaber_Meas_MicroStep_X</th>\n",
       "      <th>Zaber_Meas_Encoder_X</th>\n",
       "      <th>Zaber_Meas_MicroStep_Y</th>\n",
       "      <th>Zaber_Meas_Encoder_Y</th>\n",
       "      <th>Zaber_Meas_MicroStep_Z</th>\n",
       "      <th>Zaber_Meas_Encoder_Z</th>\n",
       "    </tr>\n",
       "    <tr>\n",
       "      <th>Datetime</th>\n",
       "      <th></th>\n",
       "      <th></th>\n",
       "      <th></th>\n",
       "      <th></th>\n",
       "      <th></th>\n",
       "      <th></th>\n",
       "      <th></th>\n",
       "      <th></th>\n",
       "      <th></th>\n",
       "      <th></th>\n",
       "      <th></th>\n",
       "      <th></th>\n",
       "      <th></th>\n",
       "      <th></th>\n",
       "      <th></th>\n",
       "      <th></th>\n",
       "      <th></th>\n",
       "      <th></th>\n",
       "      <th></th>\n",
       "      <th></th>\n",
       "      <th></th>\n",
       "    </tr>\n",
       "  </thead>\n",
       "  <tbody>\n",
       "    <tr>\n",
       "      <th>2020-02-03 13:07:31</th>\n",
       "      <td>2/3/2020 1:07:31 PM</td>\n",
       "      <td>240.070317</td>\n",
       "      <td>28.594900</td>\n",
       "      <td>31.084738</td>\n",
       "      <td>28.893194</td>\n",
       "      <td>7.666024</td>\n",
       "      <td>10.297763</td>\n",
       "      <td>12.776772</td>\n",
       "      <td>13.716893</td>\n",
       "      <td>19.217583</td>\n",
       "      <td>...</td>\n",
       "      <td>-0.007220</td>\n",
       "      <td>22.608</td>\n",
       "      <td>23.846</td>\n",
       "      <td>22.638</td>\n",
       "      <td>249952.34375</td>\n",
       "      <td>639878.0</td>\n",
       "      <td>184468.359375</td>\n",
       "      <td>472239.0</td>\n",
       "      <td>750000.0</td>\n",
       "      <td>1920000.0</td>\n",
       "    </tr>\n",
       "    <tr>\n",
       "      <th>2020-02-03 13:07:37</th>\n",
       "      <td>2/3/2020 1:07:37 PM</td>\n",
       "      <td>240.070317</td>\n",
       "      <td>28.594900</td>\n",
       "      <td>31.084738</td>\n",
       "      <td>28.893194</td>\n",
       "      <td>7.666024</td>\n",
       "      <td>10.297763</td>\n",
       "      <td>12.776772</td>\n",
       "      <td>13.716893</td>\n",
       "      <td>19.217583</td>\n",
       "      <td>...</td>\n",
       "      <td>-0.007220</td>\n",
       "      <td>22.608</td>\n",
       "      <td>23.846</td>\n",
       "      <td>22.638</td>\n",
       "      <td>249952.34375</td>\n",
       "      <td>639878.0</td>\n",
       "      <td>184468.359375</td>\n",
       "      <td>472239.0</td>\n",
       "      <td>750000.0</td>\n",
       "      <td>1920000.0</td>\n",
       "    </tr>\n",
       "    <tr>\n",
       "      <th>2020-02-03 13:09:10</th>\n",
       "      <td>2/3/2020 1:09:10 PM</td>\n",
       "      <td>240.070373</td>\n",
       "      <td>28.595083</td>\n",
       "      <td>31.092598</td>\n",
       "      <td>28.894592</td>\n",
       "      <td>7.645051</td>\n",
       "      <td>10.299427</td>\n",
       "      <td>12.721103</td>\n",
       "      <td>13.721147</td>\n",
       "      <td>19.232798</td>\n",
       "      <td>...</td>\n",
       "      <td>-0.007223</td>\n",
       "      <td>22.640</td>\n",
       "      <td>23.838</td>\n",
       "      <td>22.650</td>\n",
       "      <td>249952.34375</td>\n",
       "      <td>639878.0</td>\n",
       "      <td>184468.359375</td>\n",
       "      <td>472239.0</td>\n",
       "      <td>750000.0</td>\n",
       "      <td>1920000.0</td>\n",
       "    </tr>\n",
       "    <tr>\n",
       "      <th>2020-02-03 13:10:10</th>\n",
       "      <td>2/3/2020 1:10:10 PM</td>\n",
       "      <td>240.070260</td>\n",
       "      <td>28.595017</td>\n",
       "      <td>31.094372</td>\n",
       "      <td>28.906563</td>\n",
       "      <td>7.659137</td>\n",
       "      <td>10.299153</td>\n",
       "      <td>12.596836</td>\n",
       "      <td>13.739101</td>\n",
       "      <td>19.229990</td>\n",
       "      <td>...</td>\n",
       "      <td>-0.007231</td>\n",
       "      <td>22.597</td>\n",
       "      <td>23.845</td>\n",
       "      <td>22.655</td>\n",
       "      <td>249952.34375</td>\n",
       "      <td>639878.0</td>\n",
       "      <td>184468.359375</td>\n",
       "      <td>472239.0</td>\n",
       "      <td>750000.0</td>\n",
       "      <td>1920000.0</td>\n",
       "    </tr>\n",
       "    <tr>\n",
       "      <th>2020-02-03 13:11:10</th>\n",
       "      <td>2/3/2020 1:11:10 PM</td>\n",
       "      <td>240.070430</td>\n",
       "      <td>28.595050</td>\n",
       "      <td>31.081289</td>\n",
       "      <td>28.900419</td>\n",
       "      <td>7.655127</td>\n",
       "      <td>10.301816</td>\n",
       "      <td>12.659968</td>\n",
       "      <td>13.719030</td>\n",
       "      <td>19.222059</td>\n",
       "      <td>...</td>\n",
       "      <td>-0.007225</td>\n",
       "      <td>22.605</td>\n",
       "      <td>23.846</td>\n",
       "      <td>22.659</td>\n",
       "      <td>249952.34375</td>\n",
       "      <td>639878.0</td>\n",
       "      <td>184468.359375</td>\n",
       "      <td>472239.0</td>\n",
       "      <td>750000.0</td>\n",
       "      <td>1920000.0</td>\n",
       "    </tr>\n",
       "    <tr>\n",
       "      <th>2020-02-03 13:12:10</th>\n",
       "      <td>2/3/2020 1:12:10 PM</td>\n",
       "      <td>240.070260</td>\n",
       "      <td>28.595000</td>\n",
       "      <td>31.077211</td>\n",
       "      <td>28.887169</td>\n",
       "      <td>7.642233</td>\n",
       "      <td>10.293416</td>\n",
       "      <td>12.650877</td>\n",
       "      <td>13.735201</td>\n",
       "      <td>19.240808</td>\n",
       "      <td>...</td>\n",
       "      <td>-0.007272</td>\n",
       "      <td>22.604</td>\n",
       "      <td>23.846</td>\n",
       "      <td>22.646</td>\n",
       "      <td>249952.34375</td>\n",
       "      <td>639878.0</td>\n",
       "      <td>184468.359375</td>\n",
       "      <td>472239.0</td>\n",
       "      <td>750000.0</td>\n",
       "      <td>1920000.0</td>\n",
       "    </tr>\n",
       "    <tr>\n",
       "      <th>2020-02-03 13:13:10</th>\n",
       "      <td>2/3/2020 1:13:10 PM</td>\n",
       "      <td>240.070260</td>\n",
       "      <td>28.594967</td>\n",
       "      <td>31.076483</td>\n",
       "      <td>28.889315</td>\n",
       "      <td>7.659470</td>\n",
       "      <td>10.307475</td>\n",
       "      <td>12.692828</td>\n",
       "      <td>13.750979</td>\n",
       "      <td>19.252842</td>\n",
       "      <td>...</td>\n",
       "      <td>-0.007232</td>\n",
       "      <td>22.613</td>\n",
       "      <td>23.842</td>\n",
       "      <td>22.647</td>\n",
       "      <td>249952.34375</td>\n",
       "      <td>639878.0</td>\n",
       "      <td>184468.359375</td>\n",
       "      <td>472239.0</td>\n",
       "      <td>750000.0</td>\n",
       "      <td>1920000.0</td>\n",
       "    </tr>\n",
       "    <tr>\n",
       "      <th>2020-02-03 13:14:10</th>\n",
       "      <td>2/3/2020 1:14:10 PM</td>\n",
       "      <td>240.070260</td>\n",
       "      <td>28.594917</td>\n",
       "      <td>31.074787</td>\n",
       "      <td>28.896227</td>\n",
       "      <td>7.647516</td>\n",
       "      <td>10.298781</td>\n",
       "      <td>12.599618</td>\n",
       "      <td>13.742413</td>\n",
       "      <td>19.261835</td>\n",
       "      <td>...</td>\n",
       "      <td>-0.007232</td>\n",
       "      <td>22.608</td>\n",
       "      <td>23.853</td>\n",
       "      <td>22.664</td>\n",
       "      <td>249952.34375</td>\n",
       "      <td>639878.0</td>\n",
       "      <td>184468.359375</td>\n",
       "      <td>472239.0</td>\n",
       "      <td>750000.0</td>\n",
       "      <td>1920000.0</td>\n",
       "    </tr>\n",
       "    <tr>\n",
       "      <th>2020-02-03 13:15:10</th>\n",
       "      <td>2/3/2020 1:15:10 PM</td>\n",
       "      <td>240.070317</td>\n",
       "      <td>28.594783</td>\n",
       "      <td>31.084619</td>\n",
       "      <td>28.908098</td>\n",
       "      <td>7.635640</td>\n",
       "      <td>10.283665</td>\n",
       "      <td>12.678171</td>\n",
       "      <td>13.726576</td>\n",
       "      <td>19.263287</td>\n",
       "      <td>...</td>\n",
       "      <td>-0.007218</td>\n",
       "      <td>22.605</td>\n",
       "      <td>23.855</td>\n",
       "      <td>22.659</td>\n",
       "      <td>249952.34375</td>\n",
       "      <td>639878.0</td>\n",
       "      <td>184468.359375</td>\n",
       "      <td>472239.0</td>\n",
       "      <td>750000.0</td>\n",
       "      <td>1920000.0</td>\n",
       "    </tr>\n",
       "    <tr>\n",
       "      <th>2020-02-03 13:16:10</th>\n",
       "      <td>2/3/2020 1:16:10 PM</td>\n",
       "      <td>240.070260</td>\n",
       "      <td>28.594783</td>\n",
       "      <td>31.080364</td>\n",
       "      <td>28.899494</td>\n",
       "      <td>7.661681</td>\n",
       "      <td>10.288952</td>\n",
       "      <td>12.653659</td>\n",
       "      <td>13.716012</td>\n",
       "      <td>19.267607</td>\n",
       "      <td>...</td>\n",
       "      <td>-0.007242</td>\n",
       "      <td>22.602</td>\n",
       "      <td>23.862</td>\n",
       "      <td>22.666</td>\n",
       "      <td>249952.34375</td>\n",
       "      <td>639878.0</td>\n",
       "      <td>184468.359375</td>\n",
       "      <td>472239.0</td>\n",
       "      <td>750000.0</td>\n",
       "      <td>1920000.0</td>\n",
       "    </tr>\n",
       "    <tr>\n",
       "      <th>2020-02-03 13:17:10</th>\n",
       "      <td>2/3/2020 1:17:10 PM</td>\n",
       "      <td>240.070260</td>\n",
       "      <td>28.594783</td>\n",
       "      <td>31.061094</td>\n",
       "      <td>28.892662</td>\n",
       "      <td>7.665887</td>\n",
       "      <td>10.307436</td>\n",
       "      <td>12.711599</td>\n",
       "      <td>13.708917</td>\n",
       "      <td>19.276598</td>\n",
       "      <td>...</td>\n",
       "      <td>-0.007248</td>\n",
       "      <td>22.622</td>\n",
       "      <td>23.858</td>\n",
       "      <td>22.663</td>\n",
       "      <td>249952.34375</td>\n",
       "      <td>639878.0</td>\n",
       "      <td>184468.359375</td>\n",
       "      <td>472239.0</td>\n",
       "      <td>750000.0</td>\n",
       "      <td>1920000.0</td>\n",
       "    </tr>\n",
       "    <tr>\n",
       "      <th>2020-02-03 13:18:10</th>\n",
       "      <td>2/3/2020 1:18:10 PM</td>\n",
       "      <td>240.070260</td>\n",
       "      <td>28.594750</td>\n",
       "      <td>31.070139</td>\n",
       "      <td>28.893961</td>\n",
       "      <td>7.652485</td>\n",
       "      <td>10.287757</td>\n",
       "      <td>12.688302</td>\n",
       "      <td>13.725244</td>\n",
       "      <td>19.282900</td>\n",
       "      <td>...</td>\n",
       "      <td>-0.007249</td>\n",
       "      <td>22.610</td>\n",
       "      <td>23.855</td>\n",
       "      <td>22.651</td>\n",
       "      <td>249952.34375</td>\n",
       "      <td>639878.0</td>\n",
       "      <td>184468.359375</td>\n",
       "      <td>472239.0</td>\n",
       "      <td>750000.0</td>\n",
       "      <td>1920000.0</td>\n",
       "    </tr>\n",
       "    <tr>\n",
       "      <th>2020-02-03 13:19:10</th>\n",
       "      <td>2/3/2020 1:19:10 PM</td>\n",
       "      <td>240.070203</td>\n",
       "      <td>28.594617</td>\n",
       "      <td>31.048111</td>\n",
       "      <td>28.889000</td>\n",
       "      <td>7.618598</td>\n",
       "      <td>10.257662</td>\n",
       "      <td>12.749868</td>\n",
       "      <td>13.702017</td>\n",
       "      <td>19.296211</td>\n",
       "      <td>...</td>\n",
       "      <td>-0.007235</td>\n",
       "      <td>22.620</td>\n",
       "      <td>23.854</td>\n",
       "      <td>22.649</td>\n",
       "      <td>249952.34375</td>\n",
       "      <td>639878.0</td>\n",
       "      <td>184468.359375</td>\n",
       "      <td>472239.0</td>\n",
       "      <td>750000.0</td>\n",
       "      <td>1920000.0</td>\n",
       "    </tr>\n",
       "    <tr>\n",
       "      <th>2020-02-03 13:20:10</th>\n",
       "      <td>2/3/2020 1:20:10 PM</td>\n",
       "      <td>240.070317</td>\n",
       "      <td>28.594467</td>\n",
       "      <td>31.058535</td>\n",
       "      <td>28.889099</td>\n",
       "      <td>7.646479</td>\n",
       "      <td>10.261167</td>\n",
       "      <td>12.710463</td>\n",
       "      <td>13.692197</td>\n",
       "      <td>19.298155</td>\n",
       "      <td>...</td>\n",
       "      <td>-0.007240</td>\n",
       "      <td>22.605</td>\n",
       "      <td>23.857</td>\n",
       "      <td>22.663</td>\n",
       "      <td>249952.34375</td>\n",
       "      <td>639878.0</td>\n",
       "      <td>184468.359375</td>\n",
       "      <td>472239.0</td>\n",
       "      <td>750000.0</td>\n",
       "      <td>1920000.0</td>\n",
       "    </tr>\n",
       "    <tr>\n",
       "      <th>2020-02-03 13:21:10</th>\n",
       "      <td>2/3/2020 1:21:10 PM</td>\n",
       "      <td>240.070260</td>\n",
       "      <td>28.594250</td>\n",
       "      <td>31.075182</td>\n",
       "      <td>28.886440</td>\n",
       "      <td>7.625329</td>\n",
       "      <td>10.266238</td>\n",
       "      <td>12.622857</td>\n",
       "      <td>13.690943</td>\n",
       "      <td>19.306656</td>\n",
       "      <td>...</td>\n",
       "      <td>-0.007251</td>\n",
       "      <td>22.627</td>\n",
       "      <td>23.853</td>\n",
       "      <td>22.669</td>\n",
       "      <td>249952.34375</td>\n",
       "      <td>639878.0</td>\n",
       "      <td>184468.359375</td>\n",
       "      <td>472239.0</td>\n",
       "      <td>750000.0</td>\n",
       "      <td>1920000.0</td>\n",
       "    </tr>\n",
       "    <tr>\n",
       "      <th>2020-02-03 13:22:10</th>\n",
       "      <td>2/3/2020 1:22:10 PM</td>\n",
       "      <td>240.070260</td>\n",
       "      <td>28.593883</td>\n",
       "      <td>31.051264</td>\n",
       "      <td>28.895104</td>\n",
       "      <td>7.613590</td>\n",
       "      <td>10.251162</td>\n",
       "      <td>12.623641</td>\n",
       "      <td>13.701840</td>\n",
       "      <td>19.309738</td>\n",
       "      <td>...</td>\n",
       "      <td>-0.007243</td>\n",
       "      <td>22.619</td>\n",
       "      <td>23.856</td>\n",
       "      <td>22.669</td>\n",
       "      <td>249952.34375</td>\n",
       "      <td>639878.0</td>\n",
       "      <td>184468.359375</td>\n",
       "      <td>472239.0</td>\n",
       "      <td>750000.0</td>\n",
       "      <td>1920000.0</td>\n",
       "    </tr>\n",
       "    <tr>\n",
       "      <th>2020-02-03 13:23:10</th>\n",
       "      <td>2/3/2020 1:23:10 PM</td>\n",
       "      <td>240.070260</td>\n",
       "      <td>28.593450</td>\n",
       "      <td>31.040960</td>\n",
       "      <td>28.891422</td>\n",
       "      <td>7.603142</td>\n",
       "      <td>10.238552</td>\n",
       "      <td>12.565584</td>\n",
       "      <td>13.688571</td>\n",
       "      <td>19.311762</td>\n",
       "      <td>...</td>\n",
       "      <td>-0.007253</td>\n",
       "      <td>22.585</td>\n",
       "      <td>23.864</td>\n",
       "      <td>22.657</td>\n",
       "      <td>249952.34375</td>\n",
       "      <td>639878.0</td>\n",
       "      <td>184468.359375</td>\n",
       "      <td>472239.0</td>\n",
       "      <td>750000.0</td>\n",
       "      <td>1920000.0</td>\n",
       "    </tr>\n",
       "    <tr>\n",
       "      <th>2020-02-03 13:24:10</th>\n",
       "      <td>2/3/2020 1:24:10 PM</td>\n",
       "      <td>240.070260</td>\n",
       "      <td>28.592983</td>\n",
       "      <td>31.049353</td>\n",
       "      <td>28.884550</td>\n",
       "      <td>7.575888</td>\n",
       "      <td>10.252082</td>\n",
       "      <td>12.757706</td>\n",
       "      <td>13.678888</td>\n",
       "      <td>19.316042</td>\n",
       "      <td>...</td>\n",
       "      <td>-0.007241</td>\n",
       "      <td>22.583</td>\n",
       "      <td>23.862</td>\n",
       "      <td>22.646</td>\n",
       "      <td>249952.34375</td>\n",
       "      <td>639878.0</td>\n",
       "      <td>184468.359375</td>\n",
       "      <td>472239.0</td>\n",
       "      <td>750000.0</td>\n",
       "      <td>1920000.0</td>\n",
       "    </tr>\n",
       "    <tr>\n",
       "      <th>2020-02-03 13:25:10</th>\n",
       "      <td>2/3/2020 1:25:10 PM</td>\n",
       "      <td>240.070373</td>\n",
       "      <td>28.592567</td>\n",
       "      <td>31.049826</td>\n",
       "      <td>28.877167</td>\n",
       "      <td>7.583714</td>\n",
       "      <td>10.243545</td>\n",
       "      <td>12.677898</td>\n",
       "      <td>13.671166</td>\n",
       "      <td>19.327978</td>\n",
       "      <td>...</td>\n",
       "      <td>-0.007268</td>\n",
       "      <td>22.587</td>\n",
       "      <td>23.867</td>\n",
       "      <td>22.661</td>\n",
       "      <td>249952.34375</td>\n",
       "      <td>639878.0</td>\n",
       "      <td>184468.359375</td>\n",
       "      <td>472239.0</td>\n",
       "      <td>750000.0</td>\n",
       "      <td>1920000.0</td>\n",
       "    </tr>\n",
       "    <tr>\n",
       "      <th>2020-02-03 13:26:10</th>\n",
       "      <td>2/3/2020 1:26:10 PM</td>\n",
       "      <td>240.070260</td>\n",
       "      <td>28.592100</td>\n",
       "      <td>31.044939</td>\n",
       "      <td>28.876675</td>\n",
       "      <td>7.591599</td>\n",
       "      <td>10.231679</td>\n",
       "      <td>12.584237</td>\n",
       "      <td>13.676889</td>\n",
       "      <td>19.329332</td>\n",
       "      <td>...</td>\n",
       "      <td>-0.007237</td>\n",
       "      <td>22.566</td>\n",
       "      <td>23.867</td>\n",
       "      <td>22.654</td>\n",
       "      <td>249952.34375</td>\n",
       "      <td>639878.0</td>\n",
       "      <td>184468.359375</td>\n",
       "      <td>472239.0</td>\n",
       "      <td>750000.0</td>\n",
       "      <td>1920000.0</td>\n",
       "    </tr>\n",
       "    <tr>\n",
       "      <th>2020-02-03 13:27:10</th>\n",
       "      <td>2/3/2020 1:27:10 PM</td>\n",
       "      <td>240.070487</td>\n",
       "      <td>28.591750</td>\n",
       "      <td>31.030714</td>\n",
       "      <td>28.873505</td>\n",
       "      <td>7.591110</td>\n",
       "      <td>10.240451</td>\n",
       "      <td>12.636945</td>\n",
       "      <td>13.669696</td>\n",
       "      <td>19.338266</td>\n",
       "      <td>...</td>\n",
       "      <td>-0.007230</td>\n",
       "      <td>22.592</td>\n",
       "      <td>23.860</td>\n",
       "      <td>22.649</td>\n",
       "      <td>249952.34375</td>\n",
       "      <td>639878.0</td>\n",
       "      <td>184468.359375</td>\n",
       "      <td>472239.0</td>\n",
       "      <td>750000.0</td>\n",
       "      <td>1920000.0</td>\n",
       "    </tr>\n",
       "    <tr>\n",
       "      <th>2020-02-03 13:28:10</th>\n",
       "      <td>2/3/2020 1:28:10 PM</td>\n",
       "      <td>240.070543</td>\n",
       "      <td>28.591333</td>\n",
       "      <td>31.038380</td>\n",
       "      <td>28.874824</td>\n",
       "      <td>7.582951</td>\n",
       "      <td>10.220538</td>\n",
       "      <td>12.584276</td>\n",
       "      <td>13.659543</td>\n",
       "      <td>19.345432</td>\n",
       "      <td>...</td>\n",
       "      <td>-0.007231</td>\n",
       "      <td>22.604</td>\n",
       "      <td>23.856</td>\n",
       "      <td>22.656</td>\n",
       "      <td>249952.34375</td>\n",
       "      <td>639878.0</td>\n",
       "      <td>184468.359375</td>\n",
       "      <td>472239.0</td>\n",
       "      <td>750000.0</td>\n",
       "      <td>1920000.0</td>\n",
       "    </tr>\n",
       "    <tr>\n",
       "      <th>2020-02-03 13:29:10</th>\n",
       "      <td>2/3/2020 1:29:10 PM</td>\n",
       "      <td>240.070543</td>\n",
       "      <td>28.590850</td>\n",
       "      <td>31.055834</td>\n",
       "      <td>28.863995</td>\n",
       "      <td>7.570567</td>\n",
       "      <td>10.210983</td>\n",
       "      <td>12.647134</td>\n",
       "      <td>13.648450</td>\n",
       "      <td>19.352598</td>\n",
       "      <td>...</td>\n",
       "      <td>-0.007256</td>\n",
       "      <td>22.591</td>\n",
       "      <td>23.847</td>\n",
       "      <td>22.652</td>\n",
       "      <td>249952.34375</td>\n",
       "      <td>639878.0</td>\n",
       "      <td>184468.359375</td>\n",
       "      <td>472239.0</td>\n",
       "      <td>750000.0</td>\n",
       "      <td>1920000.0</td>\n",
       "    </tr>\n",
       "    <tr>\n",
       "      <th>2020-02-03 13:30:10</th>\n",
       "      <td>2/3/2020 1:30:10 PM</td>\n",
       "      <td>240.070487</td>\n",
       "      <td>28.590417</td>\n",
       "      <td>31.059479</td>\n",
       "      <td>28.885200</td>\n",
       "      <td>7.592205</td>\n",
       "      <td>10.211824</td>\n",
       "      <td>12.597659</td>\n",
       "      <td>13.653330</td>\n",
       "      <td>19.357428</td>\n",
       "      <td>...</td>\n",
       "      <td>-0.007269</td>\n",
       "      <td>22.595</td>\n",
       "      <td>23.856</td>\n",
       "      <td>22.653</td>\n",
       "      <td>249952.34375</td>\n",
       "      <td>639878.0</td>\n",
       "      <td>184468.359375</td>\n",
       "      <td>472239.0</td>\n",
       "      <td>750000.0</td>\n",
       "      <td>1920000.0</td>\n",
       "    </tr>\n",
       "    <tr>\n",
       "      <th>2020-02-03 13:31:10</th>\n",
       "      <td>2/3/2020 1:31:10 PM</td>\n",
       "      <td>240.070317</td>\n",
       "      <td>28.589983</td>\n",
       "      <td>31.033098</td>\n",
       "      <td>28.858875</td>\n",
       "      <td>7.563758</td>\n",
       "      <td>10.212863</td>\n",
       "      <td>12.700823</td>\n",
       "      <td>13.647391</td>\n",
       "      <td>19.360079</td>\n",
       "      <td>...</td>\n",
       "      <td>-0.007235</td>\n",
       "      <td>22.613</td>\n",
       "      <td>23.854</td>\n",
       "      <td>22.645</td>\n",
       "      <td>249952.34375</td>\n",
       "      <td>639878.0</td>\n",
       "      <td>184468.359375</td>\n",
       "      <td>472239.0</td>\n",
       "      <td>750000.0</td>\n",
       "      <td>1920000.0</td>\n",
       "    </tr>\n",
       "    <tr>\n",
       "      <th>2020-02-03 13:32:10</th>\n",
       "      <td>2/3/2020 1:32:10 PM</td>\n",
       "      <td>240.070543</td>\n",
       "      <td>28.589500</td>\n",
       "      <td>31.021219</td>\n",
       "      <td>28.848618</td>\n",
       "      <td>7.595433</td>\n",
       "      <td>10.210082</td>\n",
       "      <td>12.546226</td>\n",
       "      <td>13.657603</td>\n",
       "      <td>19.364672</td>\n",
       "      <td>...</td>\n",
       "      <td>-0.007258</td>\n",
       "      <td>22.604</td>\n",
       "      <td>23.850</td>\n",
       "      <td>22.652</td>\n",
       "      <td>249952.34375</td>\n",
       "      <td>639878.0</td>\n",
       "      <td>184468.359375</td>\n",
       "      <td>472239.0</td>\n",
       "      <td>750000.0</td>\n",
       "      <td>1920000.0</td>\n",
       "    </tr>\n",
       "    <tr>\n",
       "      <th>2020-02-03 13:33:10</th>\n",
       "      <td>2/3/2020 1:33:10 PM</td>\n",
       "      <td>240.070373</td>\n",
       "      <td>28.589067</td>\n",
       "      <td>31.033690</td>\n",
       "      <td>28.855116</td>\n",
       "      <td>7.573658</td>\n",
       "      <td>10.198804</td>\n",
       "      <td>12.614372</td>\n",
       "      <td>13.640374</td>\n",
       "      <td>19.374233</td>\n",
       "      <td>...</td>\n",
       "      <td>-0.007241</td>\n",
       "      <td>22.609</td>\n",
       "      <td>23.855</td>\n",
       "      <td>22.657</td>\n",
       "      <td>249952.34375</td>\n",
       "      <td>639878.0</td>\n",
       "      <td>184468.359375</td>\n",
       "      <td>472239.0</td>\n",
       "      <td>750000.0</td>\n",
       "      <td>1920000.0</td>\n",
       "    </tr>\n",
       "    <tr>\n",
       "      <th>2020-02-03 13:34:10</th>\n",
       "      <td>2/3/2020 1:34:10 PM</td>\n",
       "      <td>240.070317</td>\n",
       "      <td>28.588717</td>\n",
       "      <td>31.013534</td>\n",
       "      <td>28.839935</td>\n",
       "      <td>7.579742</td>\n",
       "      <td>10.228429</td>\n",
       "      <td>12.672019</td>\n",
       "      <td>13.668364</td>\n",
       "      <td>19.376354</td>\n",
       "      <td>...</td>\n",
       "      <td>-0.007221</td>\n",
       "      <td>22.615</td>\n",
       "      <td>23.856</td>\n",
       "      <td>22.649</td>\n",
       "      <td>249952.34375</td>\n",
       "      <td>639878.0</td>\n",
       "      <td>184468.359375</td>\n",
       "      <td>472239.0</td>\n",
       "      <td>750000.0</td>\n",
       "      <td>1920000.0</td>\n",
       "    </tr>\n",
       "    <tr>\n",
       "      <th>2020-02-03 13:35:10</th>\n",
       "      <td>2/3/2020 1:35:10 PM</td>\n",
       "      <td>240.070430</td>\n",
       "      <td>28.588400</td>\n",
       "      <td>31.016233</td>\n",
       "      <td>28.856001</td>\n",
       "      <td>7.583812</td>\n",
       "      <td>10.196004</td>\n",
       "      <td>12.690810</td>\n",
       "      <td>13.640492</td>\n",
       "      <td>19.381420</td>\n",
       "      <td>...</td>\n",
       "      <td>-0.007228</td>\n",
       "      <td>22.602</td>\n",
       "      <td>23.861</td>\n",
       "      <td>22.654</td>\n",
       "      <td>249952.34375</td>\n",
       "      <td>639878.0</td>\n",
       "      <td>184468.359375</td>\n",
       "      <td>472239.0</td>\n",
       "      <td>750000.0</td>\n",
       "      <td>1920000.0</td>\n",
       "    </tr>\n",
       "    <tr>\n",
       "      <th>2020-02-03 13:36:10</th>\n",
       "      <td>2/3/2020 1:36:10 PM</td>\n",
       "      <td>240.070430</td>\n",
       "      <td>28.588100</td>\n",
       "      <td>31.019190</td>\n",
       "      <td>28.853126</td>\n",
       "      <td>7.569764</td>\n",
       "      <td>10.199568</td>\n",
       "      <td>12.647761</td>\n",
       "      <td>13.636063</td>\n",
       "      <td>19.384895</td>\n",
       "      <td>...</td>\n",
       "      <td>-0.007255</td>\n",
       "      <td>22.604</td>\n",
       "      <td>23.854</td>\n",
       "      <td>22.648</td>\n",
       "      <td>249952.34375</td>\n",
       "      <td>639878.0</td>\n",
       "      <td>184468.359375</td>\n",
       "      <td>472239.0</td>\n",
       "      <td>750000.0</td>\n",
       "      <td>1920000.0</td>\n",
       "    </tr>\n",
       "    <tr>\n",
       "      <th>...</th>\n",
       "      <td>...</td>\n",
       "      <td>...</td>\n",
       "      <td>...</td>\n",
       "      <td>...</td>\n",
       "      <td>...</td>\n",
       "      <td>...</td>\n",
       "      <td>...</td>\n",
       "      <td>...</td>\n",
       "      <td>...</td>\n",
       "      <td>...</td>\n",
       "      <td>...</td>\n",
       "      <td>...</td>\n",
       "      <td>...</td>\n",
       "      <td>...</td>\n",
       "      <td>...</td>\n",
       "      <td>...</td>\n",
       "      <td>...</td>\n",
       "      <td>...</td>\n",
       "      <td>...</td>\n",
       "      <td>...</td>\n",
       "      <td>...</td>\n",
       "    </tr>\n",
       "    <tr>\n",
       "      <th>2020-02-12 11:01:26</th>\n",
       "      <td>2/12/2020 11:01:26 AM</td>\n",
       "      <td>240.070770</td>\n",
       "      <td>28.641083</td>\n",
       "      <td>32.150093</td>\n",
       "      <td>29.958447</td>\n",
       "      <td>8.289335</td>\n",
       "      <td>10.920894</td>\n",
       "      <td>13.414649</td>\n",
       "      <td>14.406351</td>\n",
       "      <td>21.949020</td>\n",
       "      <td>...</td>\n",
       "      <td>-0.007277</td>\n",
       "      <td>26.748</td>\n",
       "      <td>27.710</td>\n",
       "      <td>26.174</td>\n",
       "      <td>249952.34375</td>\n",
       "      <td>639878.0</td>\n",
       "      <td>184468.359375</td>\n",
       "      <td>472239.0</td>\n",
       "      <td>750000.0</td>\n",
       "      <td>1920000.0</td>\n",
       "    </tr>\n",
       "    <tr>\n",
       "      <th>2020-02-12 11:02:26</th>\n",
       "      <td>2/12/2020 11:02:26 AM</td>\n",
       "      <td>240.070600</td>\n",
       "      <td>28.641650</td>\n",
       "      <td>32.132889</td>\n",
       "      <td>29.979166</td>\n",
       "      <td>8.275343</td>\n",
       "      <td>10.925398</td>\n",
       "      <td>13.468565</td>\n",
       "      <td>14.428485</td>\n",
       "      <td>21.965586</td>\n",
       "      <td>...</td>\n",
       "      <td>-0.007255</td>\n",
       "      <td>26.875</td>\n",
       "      <td>27.775</td>\n",
       "      <td>26.242</td>\n",
       "      <td>249952.34375</td>\n",
       "      <td>639878.0</td>\n",
       "      <td>184468.359375</td>\n",
       "      <td>472239.0</td>\n",
       "      <td>750000.0</td>\n",
       "      <td>1920000.0</td>\n",
       "    </tr>\n",
       "    <tr>\n",
       "      <th>2020-02-12 11:03:26</th>\n",
       "      <td>2/12/2020 11:03:26 AM</td>\n",
       "      <td>240.070770</td>\n",
       "      <td>28.642167</td>\n",
       "      <td>32.158153</td>\n",
       "      <td>29.999924</td>\n",
       "      <td>8.308356</td>\n",
       "      <td>10.930098</td>\n",
       "      <td>13.548824</td>\n",
       "      <td>14.436209</td>\n",
       "      <td>21.982914</td>\n",
       "      <td>...</td>\n",
       "      <td>-0.007266</td>\n",
       "      <td>26.940</td>\n",
       "      <td>27.832</td>\n",
       "      <td>26.310</td>\n",
       "      <td>249952.34375</td>\n",
       "      <td>639878.0</td>\n",
       "      <td>184468.359375</td>\n",
       "      <td>472239.0</td>\n",
       "      <td>750000.0</td>\n",
       "      <td>1920000.0</td>\n",
       "    </tr>\n",
       "    <tr>\n",
       "      <th>2020-02-12 11:04:26</th>\n",
       "      <td>2/12/2020 11:04:26 AM</td>\n",
       "      <td>240.070827</td>\n",
       "      <td>28.642783</td>\n",
       "      <td>32.155315</td>\n",
       "      <td>29.987202</td>\n",
       "      <td>8.323365</td>\n",
       "      <td>10.936032</td>\n",
       "      <td>13.435698</td>\n",
       "      <td>14.433719</td>\n",
       "      <td>21.980341</td>\n",
       "      <td>...</td>\n",
       "      <td>-0.007273</td>\n",
       "      <td>27.020</td>\n",
       "      <td>27.892</td>\n",
       "      <td>26.372</td>\n",
       "      <td>249952.34375</td>\n",
       "      <td>639878.0</td>\n",
       "      <td>184468.359375</td>\n",
       "      <td>472239.0</td>\n",
       "      <td>750000.0</td>\n",
       "      <td>1920000.0</td>\n",
       "    </tr>\n",
       "    <tr>\n",
       "      <th>2020-02-12 11:05:26</th>\n",
       "      <td>2/12/2020 11:05:26 AM</td>\n",
       "      <td>240.070713</td>\n",
       "      <td>28.643383</td>\n",
       "      <td>32.191563</td>\n",
       "      <td>29.997147</td>\n",
       "      <td>8.302251</td>\n",
       "      <td>10.935171</td>\n",
       "      <td>13.502335</td>\n",
       "      <td>14.438953</td>\n",
       "      <td>22.000402</td>\n",
       "      <td>...</td>\n",
       "      <td>-0.007228</td>\n",
       "      <td>27.070</td>\n",
       "      <td>27.952</td>\n",
       "      <td>26.420</td>\n",
       "      <td>249952.34375</td>\n",
       "      <td>639878.0</td>\n",
       "      <td>184468.359375</td>\n",
       "      <td>472239.0</td>\n",
       "      <td>750000.0</td>\n",
       "      <td>1920000.0</td>\n",
       "    </tr>\n",
       "    <tr>\n",
       "      <th>2020-02-12 11:06:26</th>\n",
       "      <td>2/12/2020 11:06:26 AM</td>\n",
       "      <td>240.070713</td>\n",
       "      <td>28.643867</td>\n",
       "      <td>32.185097</td>\n",
       "      <td>30.012510</td>\n",
       "      <td>8.292544</td>\n",
       "      <td>10.937110</td>\n",
       "      <td>13.529969</td>\n",
       "      <td>14.454304</td>\n",
       "      <td>21.997868</td>\n",
       "      <td>...</td>\n",
       "      <td>-0.007256</td>\n",
       "      <td>26.993</td>\n",
       "      <td>28.008</td>\n",
       "      <td>26.472</td>\n",
       "      <td>249952.34375</td>\n",
       "      <td>639878.0</td>\n",
       "      <td>184468.359375</td>\n",
       "      <td>472239.0</td>\n",
       "      <td>750000.0</td>\n",
       "      <td>1920000.0</td>\n",
       "    </tr>\n",
       "    <tr>\n",
       "      <th>2020-02-12 11:07:26</th>\n",
       "      <td>2/12/2020 11:07:26 AM</td>\n",
       "      <td>240.070657</td>\n",
       "      <td>28.644333</td>\n",
       "      <td>32.231155</td>\n",
       "      <td>30.020210</td>\n",
       "      <td>8.296516</td>\n",
       "      <td>10.946060</td>\n",
       "      <td>13.448594</td>\n",
       "      <td>14.463930</td>\n",
       "      <td>22.015886</td>\n",
       "      <td>...</td>\n",
       "      <td>-0.007270</td>\n",
       "      <td>27.120</td>\n",
       "      <td>28.058</td>\n",
       "      <td>26.531</td>\n",
       "      <td>249952.34375</td>\n",
       "      <td>639878.0</td>\n",
       "      <td>184468.359375</td>\n",
       "      <td>472239.0</td>\n",
       "      <td>750000.0</td>\n",
       "      <td>1920000.0</td>\n",
       "    </tr>\n",
       "    <tr>\n",
       "      <th>2020-02-12 11:08:27</th>\n",
       "      <td>2/12/2020 11:08:27 AM</td>\n",
       "      <td>240.070600</td>\n",
       "      <td>28.644767</td>\n",
       "      <td>32.220985</td>\n",
       "      <td>30.017572</td>\n",
       "      <td>8.309863</td>\n",
       "      <td>10.948018</td>\n",
       "      <td>13.467056</td>\n",
       "      <td>14.446599</td>\n",
       "      <td>22.019875</td>\n",
       "      <td>...</td>\n",
       "      <td>-0.007276</td>\n",
       "      <td>27.146</td>\n",
       "      <td>28.109</td>\n",
       "      <td>26.572</td>\n",
       "      <td>249952.34375</td>\n",
       "      <td>639878.0</td>\n",
       "      <td>184468.359375</td>\n",
       "      <td>472239.0</td>\n",
       "      <td>750000.0</td>\n",
       "      <td>1920000.0</td>\n",
       "    </tr>\n",
       "    <tr>\n",
       "      <th>2020-02-12 11:09:26</th>\n",
       "      <td>2/12/2020 11:09:26 AM</td>\n",
       "      <td>240.070657</td>\n",
       "      <td>28.645133</td>\n",
       "      <td>32.209595</td>\n",
       "      <td>30.019127</td>\n",
       "      <td>8.306418</td>\n",
       "      <td>10.948155</td>\n",
       "      <td>13.437089</td>\n",
       "      <td>14.442404</td>\n",
       "      <td>22.025906</td>\n",
       "      <td>...</td>\n",
       "      <td>-0.007260</td>\n",
       "      <td>27.150</td>\n",
       "      <td>28.158</td>\n",
       "      <td>26.616</td>\n",
       "      <td>249952.34375</td>\n",
       "      <td>639878.0</td>\n",
       "      <td>184468.359375</td>\n",
       "      <td>472239.0</td>\n",
       "      <td>750000.0</td>\n",
       "      <td>1920000.0</td>\n",
       "    </tr>\n",
       "    <tr>\n",
       "      <th>2020-02-12 11:10:26</th>\n",
       "      <td>2/12/2020 11:10:26 AM</td>\n",
       "      <td>240.070600</td>\n",
       "      <td>28.645567</td>\n",
       "      <td>32.195602</td>\n",
       "      <td>30.018419</td>\n",
       "      <td>8.265206</td>\n",
       "      <td>10.922872</td>\n",
       "      <td>13.667188</td>\n",
       "      <td>14.431171</td>\n",
       "      <td>22.038424</td>\n",
       "      <td>...</td>\n",
       "      <td>-0.007263</td>\n",
       "      <td>27.187</td>\n",
       "      <td>28.206</td>\n",
       "      <td>26.655</td>\n",
       "      <td>249952.34375</td>\n",
       "      <td>639878.0</td>\n",
       "      <td>184468.359375</td>\n",
       "      <td>472239.0</td>\n",
       "      <td>750000.0</td>\n",
       "      <td>1920000.0</td>\n",
       "    </tr>\n",
       "    <tr>\n",
       "      <th>2020-02-12 11:11:27</th>\n",
       "      <td>2/12/2020 11:11:27 AM</td>\n",
       "      <td>240.070600</td>\n",
       "      <td>28.645917</td>\n",
       "      <td>32.223469</td>\n",
       "      <td>30.040655</td>\n",
       "      <td>8.298512</td>\n",
       "      <td>10.939774</td>\n",
       "      <td>13.440637</td>\n",
       "      <td>14.468027</td>\n",
       "      <td>22.045319</td>\n",
       "      <td>...</td>\n",
       "      <td>-0.007250</td>\n",
       "      <td>27.095</td>\n",
       "      <td>28.250</td>\n",
       "      <td>26.704</td>\n",
       "      <td>249952.34375</td>\n",
       "      <td>639878.0</td>\n",
       "      <td>184468.359375</td>\n",
       "      <td>472239.0</td>\n",
       "      <td>750000.0</td>\n",
       "      <td>1920000.0</td>\n",
       "    </tr>\n",
       "    <tr>\n",
       "      <th>2020-02-12 11:12:26</th>\n",
       "      <td>2/12/2020 11:12:26 AM</td>\n",
       "      <td>240.070657</td>\n",
       "      <td>28.646167</td>\n",
       "      <td>32.222523</td>\n",
       "      <td>30.050011</td>\n",
       "      <td>8.320117</td>\n",
       "      <td>10.955167</td>\n",
       "      <td>13.405339</td>\n",
       "      <td>14.461264</td>\n",
       "      <td>22.061413</td>\n",
       "      <td>...</td>\n",
       "      <td>-0.007272</td>\n",
       "      <td>27.165</td>\n",
       "      <td>28.291</td>\n",
       "      <td>26.730</td>\n",
       "      <td>249952.34375</td>\n",
       "      <td>639878.0</td>\n",
       "      <td>184468.359375</td>\n",
       "      <td>472239.0</td>\n",
       "      <td>750000.0</td>\n",
       "      <td>1920000.0</td>\n",
       "    </tr>\n",
       "    <tr>\n",
       "      <th>2020-02-12 11:13:26</th>\n",
       "      <td>2/12/2020 11:13:26 AM</td>\n",
       "      <td>240.070657</td>\n",
       "      <td>28.646533</td>\n",
       "      <td>32.241051</td>\n",
       "      <td>30.060350</td>\n",
       "      <td>8.351017</td>\n",
       "      <td>10.964586</td>\n",
       "      <td>13.455101</td>\n",
       "      <td>14.481457</td>\n",
       "      <td>22.074244</td>\n",
       "      <td>...</td>\n",
       "      <td>-0.007245</td>\n",
       "      <td>27.155</td>\n",
       "      <td>28.332</td>\n",
       "      <td>26.744</td>\n",
       "      <td>249952.34375</td>\n",
       "      <td>639878.0</td>\n",
       "      <td>184468.359375</td>\n",
       "      <td>472239.0</td>\n",
       "      <td>750000.0</td>\n",
       "      <td>1920000.0</td>\n",
       "    </tr>\n",
       "    <tr>\n",
       "      <th>2020-02-12 11:14:26</th>\n",
       "      <td>2/12/2020 11:14:26 AM</td>\n",
       "      <td>240.070600</td>\n",
       "      <td>28.646917</td>\n",
       "      <td>32.269173</td>\n",
       "      <td>30.062794</td>\n",
       "      <td>8.325322</td>\n",
       "      <td>10.969267</td>\n",
       "      <td>13.473132</td>\n",
       "      <td>14.458480</td>\n",
       "      <td>22.085148</td>\n",
       "      <td>...</td>\n",
       "      <td>-0.007270</td>\n",
       "      <td>27.254</td>\n",
       "      <td>28.371</td>\n",
       "      <td>26.774</td>\n",
       "      <td>249952.34375</td>\n",
       "      <td>639878.0</td>\n",
       "      <td>184468.359375</td>\n",
       "      <td>472239.0</td>\n",
       "      <td>750000.0</td>\n",
       "      <td>1920000.0</td>\n",
       "    </tr>\n",
       "    <tr>\n",
       "      <th>2020-02-12 11:15:27</th>\n",
       "      <td>2/12/2020 11:15:27 AM</td>\n",
       "      <td>240.070600</td>\n",
       "      <td>28.647217</td>\n",
       "      <td>32.290184</td>\n",
       "      <td>30.076284</td>\n",
       "      <td>8.327064</td>\n",
       "      <td>10.978648</td>\n",
       "      <td>13.505862</td>\n",
       "      <td>14.497847</td>\n",
       "      <td>22.094973</td>\n",
       "      <td>...</td>\n",
       "      <td>-0.007277</td>\n",
       "      <td>27.280</td>\n",
       "      <td>28.407</td>\n",
       "      <td>26.809</td>\n",
       "      <td>249952.34375</td>\n",
       "      <td>639878.0</td>\n",
       "      <td>184468.359375</td>\n",
       "      <td>472239.0</td>\n",
       "      <td>750000.0</td>\n",
       "      <td>1920000.0</td>\n",
       "    </tr>\n",
       "    <tr>\n",
       "      <th>2020-02-12 11:16:26</th>\n",
       "      <td>2/12/2020 11:16:26 AM</td>\n",
       "      <td>240.070600</td>\n",
       "      <td>28.647583</td>\n",
       "      <td>32.280487</td>\n",
       "      <td>30.089481</td>\n",
       "      <td>8.319198</td>\n",
       "      <td>10.967348</td>\n",
       "      <td>13.589062</td>\n",
       "      <td>14.449265</td>\n",
       "      <td>22.098490</td>\n",
       "      <td>...</td>\n",
       "      <td>-0.007266</td>\n",
       "      <td>27.269</td>\n",
       "      <td>28.445</td>\n",
       "      <td>26.845</td>\n",
       "      <td>249952.34375</td>\n",
       "      <td>639878.0</td>\n",
       "      <td>184468.359375</td>\n",
       "      <td>472239.0</td>\n",
       "      <td>750000.0</td>\n",
       "      <td>1920000.0</td>\n",
       "    </tr>\n",
       "    <tr>\n",
       "      <th>2020-02-12 11:17:27</th>\n",
       "      <td>2/12/2020 11:17:27 AM</td>\n",
       "      <td>240.070600</td>\n",
       "      <td>28.647783</td>\n",
       "      <td>32.288254</td>\n",
       "      <td>30.093361</td>\n",
       "      <td>8.329530</td>\n",
       "      <td>10.964410</td>\n",
       "      <td>13.593432</td>\n",
       "      <td>14.441404</td>\n",
       "      <td>22.109415</td>\n",
       "      <td>...</td>\n",
       "      <td>-0.007276</td>\n",
       "      <td>27.369</td>\n",
       "      <td>28.483</td>\n",
       "      <td>26.886</td>\n",
       "      <td>249952.34375</td>\n",
       "      <td>639878.0</td>\n",
       "      <td>184468.359375</td>\n",
       "      <td>472239.0</td>\n",
       "      <td>750000.0</td>\n",
       "      <td>1920000.0</td>\n",
       "    </tr>\n",
       "    <tr>\n",
       "      <th>2020-02-12 11:18:27</th>\n",
       "      <td>2/12/2020 11:18:27 AM</td>\n",
       "      <td>240.070600</td>\n",
       "      <td>28.648050</td>\n",
       "      <td>32.271618</td>\n",
       "      <td>30.077744</td>\n",
       "      <td>8.316731</td>\n",
       "      <td>10.941261</td>\n",
       "      <td>13.494260</td>\n",
       "      <td>14.482280</td>\n",
       "      <td>22.116764</td>\n",
       "      <td>...</td>\n",
       "      <td>-0.007263</td>\n",
       "      <td>27.286</td>\n",
       "      <td>28.516</td>\n",
       "      <td>26.908</td>\n",
       "      <td>249952.34375</td>\n",
       "      <td>639878.0</td>\n",
       "      <td>184468.359375</td>\n",
       "      <td>472239.0</td>\n",
       "      <td>750000.0</td>\n",
       "      <td>1920000.0</td>\n",
       "    </tr>\n",
       "    <tr>\n",
       "      <th>2020-02-12 11:19:26</th>\n",
       "      <td>2/12/2020 11:19:26 AM</td>\n",
       "      <td>240.070657</td>\n",
       "      <td>28.648367</td>\n",
       "      <td>32.272819</td>\n",
       "      <td>30.092161</td>\n",
       "      <td>8.332934</td>\n",
       "      <td>10.976494</td>\n",
       "      <td>13.472857</td>\n",
       "      <td>14.510315</td>\n",
       "      <td>22.125055</td>\n",
       "      <td>...</td>\n",
       "      <td>-0.007264</td>\n",
       "      <td>27.350</td>\n",
       "      <td>28.549</td>\n",
       "      <td>26.921</td>\n",
       "      <td>249952.34375</td>\n",
       "      <td>639878.0</td>\n",
       "      <td>184468.359375</td>\n",
       "      <td>472239.0</td>\n",
       "      <td>750000.0</td>\n",
       "      <td>1920000.0</td>\n",
       "    </tr>\n",
       "    <tr>\n",
       "      <th>2020-02-12 11:20:26</th>\n",
       "      <td>2/12/2020 11:20:26 AM</td>\n",
       "      <td>240.070543</td>\n",
       "      <td>28.648633</td>\n",
       "      <td>32.279362</td>\n",
       "      <td>30.092772</td>\n",
       "      <td>8.335341</td>\n",
       "      <td>10.964744</td>\n",
       "      <td>13.542317</td>\n",
       "      <td>14.462911</td>\n",
       "      <td>22.133427</td>\n",
       "      <td>...</td>\n",
       "      <td>-0.007263</td>\n",
       "      <td>27.291</td>\n",
       "      <td>28.579</td>\n",
       "      <td>26.938</td>\n",
       "      <td>249952.34375</td>\n",
       "      <td>639878.0</td>\n",
       "      <td>184468.359375</td>\n",
       "      <td>472239.0</td>\n",
       "      <td>750000.0</td>\n",
       "      <td>1920000.0</td>\n",
       "    </tr>\n",
       "    <tr>\n",
       "      <th>2020-02-12 11:21:27</th>\n",
       "      <td>2/12/2020 11:21:27 AM</td>\n",
       "      <td>240.070600</td>\n",
       "      <td>28.648917</td>\n",
       "      <td>32.295406</td>\n",
       "      <td>30.100767</td>\n",
       "      <td>8.348121</td>\n",
       "      <td>10.958457</td>\n",
       "      <td>13.505411</td>\n",
       "      <td>14.499669</td>\n",
       "      <td>22.144882</td>\n",
       "      <td>...</td>\n",
       "      <td>-0.007283</td>\n",
       "      <td>27.287</td>\n",
       "      <td>28.610</td>\n",
       "      <td>26.949</td>\n",
       "      <td>249952.34375</td>\n",
       "      <td>639878.0</td>\n",
       "      <td>184468.359375</td>\n",
       "      <td>472239.0</td>\n",
       "      <td>750000.0</td>\n",
       "      <td>1920000.0</td>\n",
       "    </tr>\n",
       "    <tr>\n",
       "      <th>2020-02-12 11:22:26</th>\n",
       "      <td>2/12/2020 11:22:26 AM</td>\n",
       "      <td>240.070657</td>\n",
       "      <td>28.649267</td>\n",
       "      <td>32.308453</td>\n",
       "      <td>30.097853</td>\n",
       "      <td>8.381956</td>\n",
       "      <td>10.981351</td>\n",
       "      <td>13.456140</td>\n",
       "      <td>14.478300</td>\n",
       "      <td>22.156868</td>\n",
       "      <td>...</td>\n",
       "      <td>-0.007261</td>\n",
       "      <td>27.375</td>\n",
       "      <td>28.636</td>\n",
       "      <td>26.966</td>\n",
       "      <td>249952.34375</td>\n",
       "      <td>639878.0</td>\n",
       "      <td>184468.359375</td>\n",
       "      <td>472239.0</td>\n",
       "      <td>750000.0</td>\n",
       "      <td>1920000.0</td>\n",
       "    </tr>\n",
       "    <tr>\n",
       "      <th>2020-02-12 11:23:27</th>\n",
       "      <td>2/12/2020 11:23:27 AM</td>\n",
       "      <td>240.070600</td>\n",
       "      <td>28.649500</td>\n",
       "      <td>32.316002</td>\n",
       "      <td>30.107050</td>\n",
       "      <td>8.375811</td>\n",
       "      <td>10.997998</td>\n",
       "      <td>13.456943</td>\n",
       "      <td>14.473457</td>\n",
       "      <td>22.177402</td>\n",
       "      <td>...</td>\n",
       "      <td>-0.007257</td>\n",
       "      <td>27.417</td>\n",
       "      <td>28.666</td>\n",
       "      <td>26.989</td>\n",
       "      <td>249952.34375</td>\n",
       "      <td>639878.0</td>\n",
       "      <td>184468.359375</td>\n",
       "      <td>472239.0</td>\n",
       "      <td>750000.0</td>\n",
       "      <td>1920000.0</td>\n",
       "    </tr>\n",
       "    <tr>\n",
       "      <th>2020-02-12 11:24:27</th>\n",
       "      <td>2/12/2020 11:24:27 AM</td>\n",
       "      <td>240.070657</td>\n",
       "      <td>28.649733</td>\n",
       "      <td>32.309635</td>\n",
       "      <td>30.111088</td>\n",
       "      <td>8.350430</td>\n",
       "      <td>11.001915</td>\n",
       "      <td>13.460412</td>\n",
       "      <td>14.512138</td>\n",
       "      <td>22.176243</td>\n",
       "      <td>...</td>\n",
       "      <td>-0.007245</td>\n",
       "      <td>27.394</td>\n",
       "      <td>28.698</td>\n",
       "      <td>26.993</td>\n",
       "      <td>249952.34375</td>\n",
       "      <td>639878.0</td>\n",
       "      <td>184468.359375</td>\n",
       "      <td>472239.0</td>\n",
       "      <td>750000.0</td>\n",
       "      <td>1920000.0</td>\n",
       "    </tr>\n",
       "    <tr>\n",
       "      <th>2020-02-12 11:25:26</th>\n",
       "      <td>2/12/2020 11:25:26 AM</td>\n",
       "      <td>240.070600</td>\n",
       "      <td>28.649917</td>\n",
       "      <td>32.318291</td>\n",
       "      <td>30.122454</td>\n",
       "      <td>8.335773</td>\n",
       "      <td>10.973145</td>\n",
       "      <td>13.522091</td>\n",
       "      <td>14.503160</td>\n",
       "      <td>22.183966</td>\n",
       "      <td>...</td>\n",
       "      <td>-0.007270</td>\n",
       "      <td>27.423</td>\n",
       "      <td>28.723</td>\n",
       "      <td>27.007</td>\n",
       "      <td>249952.34375</td>\n",
       "      <td>639878.0</td>\n",
       "      <td>184468.359375</td>\n",
       "      <td>472239.0</td>\n",
       "      <td>750000.0</td>\n",
       "      <td>1920000.0</td>\n",
       "    </tr>\n",
       "    <tr>\n",
       "      <th>2020-02-12 11:26:27</th>\n",
       "      <td>2/12/2020 11:26:27 AM</td>\n",
       "      <td>240.070600</td>\n",
       "      <td>28.650117</td>\n",
       "      <td>32.308414</td>\n",
       "      <td>30.125782</td>\n",
       "      <td>8.293386</td>\n",
       "      <td>10.997919</td>\n",
       "      <td>13.539299</td>\n",
       "      <td>14.517373</td>\n",
       "      <td>22.203203</td>\n",
       "      <td>...</td>\n",
       "      <td>-0.007301</td>\n",
       "      <td>27.436</td>\n",
       "      <td>28.748</td>\n",
       "      <td>27.028</td>\n",
       "      <td>249952.34375</td>\n",
       "      <td>639878.0</td>\n",
       "      <td>184468.359375</td>\n",
       "      <td>472239.0</td>\n",
       "      <td>750000.0</td>\n",
       "      <td>1920000.0</td>\n",
       "    </tr>\n",
       "    <tr>\n",
       "      <th>2020-02-12 11:27:27</th>\n",
       "      <td>2/12/2020 11:27:27 AM</td>\n",
       "      <td>240.070600</td>\n",
       "      <td>28.650367</td>\n",
       "      <td>32.317402</td>\n",
       "      <td>30.134664</td>\n",
       "      <td>8.318101</td>\n",
       "      <td>10.990301</td>\n",
       "      <td>13.511173</td>\n",
       "      <td>14.463773</td>\n",
       "      <td>22.206976</td>\n",
       "      <td>...</td>\n",
       "      <td>-0.007253</td>\n",
       "      <td>27.408</td>\n",
       "      <td>28.774</td>\n",
       "      <td>27.052</td>\n",
       "      <td>249952.34375</td>\n",
       "      <td>639878.0</td>\n",
       "      <td>184468.359375</td>\n",
       "      <td>472239.0</td>\n",
       "      <td>750000.0</td>\n",
       "      <td>1920000.0</td>\n",
       "    </tr>\n",
       "    <tr>\n",
       "      <th>2020-02-12 11:28:26</th>\n",
       "      <td>2/12/2020 11:28:26 AM</td>\n",
       "      <td>240.070600</td>\n",
       "      <td>28.650567</td>\n",
       "      <td>32.307251</td>\n",
       "      <td>30.126904</td>\n",
       "      <td>8.349901</td>\n",
       "      <td>10.987872</td>\n",
       "      <td>13.473720</td>\n",
       "      <td>14.512922</td>\n",
       "      <td>22.211868</td>\n",
       "      <td>...</td>\n",
       "      <td>-0.007246</td>\n",
       "      <td>27.460</td>\n",
       "      <td>28.800</td>\n",
       "      <td>27.052</td>\n",
       "      <td>249952.34375</td>\n",
       "      <td>639878.0</td>\n",
       "      <td>184468.359375</td>\n",
       "      <td>472239.0</td>\n",
       "      <td>750000.0</td>\n",
       "      <td>1920000.0</td>\n",
       "    </tr>\n",
       "    <tr>\n",
       "      <th>2020-02-12 11:29:26</th>\n",
       "      <td>2/12/2020 11:29:26 AM</td>\n",
       "      <td>240.070600</td>\n",
       "      <td>28.650850</td>\n",
       "      <td>32.326588</td>\n",
       "      <td>30.130707</td>\n",
       "      <td>8.358023</td>\n",
       "      <td>10.994943</td>\n",
       "      <td>13.513839</td>\n",
       "      <td>14.514196</td>\n",
       "      <td>22.224190</td>\n",
       "      <td>...</td>\n",
       "      <td>-0.007263</td>\n",
       "      <td>27.457</td>\n",
       "      <td>28.819</td>\n",
       "      <td>27.059</td>\n",
       "      <td>249952.34375</td>\n",
       "      <td>639878.0</td>\n",
       "      <td>184468.359375</td>\n",
       "      <td>472239.0</td>\n",
       "      <td>750000.0</td>\n",
       "      <td>1920000.0</td>\n",
       "    </tr>\n",
       "    <tr>\n",
       "      <th>2020-02-12 11:30:27</th>\n",
       "      <td>2/12/2020 11:30:27 AM</td>\n",
       "      <td>240.070600</td>\n",
       "      <td>28.651067</td>\n",
       "      <td>32.329288</td>\n",
       "      <td>30.131769</td>\n",
       "      <td>8.325420</td>\n",
       "      <td>10.983446</td>\n",
       "      <td>13.566287</td>\n",
       "      <td>14.512237</td>\n",
       "      <td>22.224464</td>\n",
       "      <td>...</td>\n",
       "      <td>-0.007248</td>\n",
       "      <td>27.527</td>\n",
       "      <td>28.840</td>\n",
       "      <td>27.090</td>\n",
       "      <td>249952.34375</td>\n",
       "      <td>639878.0</td>\n",
       "      <td>184468.359375</td>\n",
       "      <td>472239.0</td>\n",
       "      <td>750000.0</td>\n",
       "      <td>1920000.0</td>\n",
       "    </tr>\n",
       "  </tbody>\n",
       "</table>\n",
       "<p>12864 rows × 75 columns</p>\n",
       "</div>"
      ],
      "text/plain": [
       "                                      Time  Magnet Current [A]  \\\n",
       "Datetime                                                         \n",
       "2020-02-03 13:07:31    2/3/2020 1:07:31 PM          240.070317   \n",
       "2020-02-03 13:07:37    2/3/2020 1:07:37 PM          240.070317   \n",
       "2020-02-03 13:09:10    2/3/2020 1:09:10 PM          240.070373   \n",
       "2020-02-03 13:10:10    2/3/2020 1:10:10 PM          240.070260   \n",
       "2020-02-03 13:11:10    2/3/2020 1:11:10 PM          240.070430   \n",
       "2020-02-03 13:12:10    2/3/2020 1:12:10 PM          240.070260   \n",
       "2020-02-03 13:13:10    2/3/2020 1:13:10 PM          240.070260   \n",
       "2020-02-03 13:14:10    2/3/2020 1:14:10 PM          240.070260   \n",
       "2020-02-03 13:15:10    2/3/2020 1:15:10 PM          240.070317   \n",
       "2020-02-03 13:16:10    2/3/2020 1:16:10 PM          240.070260   \n",
       "2020-02-03 13:17:10    2/3/2020 1:17:10 PM          240.070260   \n",
       "2020-02-03 13:18:10    2/3/2020 1:18:10 PM          240.070260   \n",
       "2020-02-03 13:19:10    2/3/2020 1:19:10 PM          240.070203   \n",
       "2020-02-03 13:20:10    2/3/2020 1:20:10 PM          240.070317   \n",
       "2020-02-03 13:21:10    2/3/2020 1:21:10 PM          240.070260   \n",
       "2020-02-03 13:22:10    2/3/2020 1:22:10 PM          240.070260   \n",
       "2020-02-03 13:23:10    2/3/2020 1:23:10 PM          240.070260   \n",
       "2020-02-03 13:24:10    2/3/2020 1:24:10 PM          240.070260   \n",
       "2020-02-03 13:25:10    2/3/2020 1:25:10 PM          240.070373   \n",
       "2020-02-03 13:26:10    2/3/2020 1:26:10 PM          240.070260   \n",
       "2020-02-03 13:27:10    2/3/2020 1:27:10 PM          240.070487   \n",
       "2020-02-03 13:28:10    2/3/2020 1:28:10 PM          240.070543   \n",
       "2020-02-03 13:29:10    2/3/2020 1:29:10 PM          240.070543   \n",
       "2020-02-03 13:30:10    2/3/2020 1:30:10 PM          240.070487   \n",
       "2020-02-03 13:31:10    2/3/2020 1:31:10 PM          240.070317   \n",
       "2020-02-03 13:32:10    2/3/2020 1:32:10 PM          240.070543   \n",
       "2020-02-03 13:33:10    2/3/2020 1:33:10 PM          240.070373   \n",
       "2020-02-03 13:34:10    2/3/2020 1:34:10 PM          240.070317   \n",
       "2020-02-03 13:35:10    2/3/2020 1:35:10 PM          240.070430   \n",
       "2020-02-03 13:36:10    2/3/2020 1:36:10 PM          240.070430   \n",
       "...                                    ...                 ...   \n",
       "2020-02-12 11:01:26  2/12/2020 11:01:26 AM          240.070770   \n",
       "2020-02-12 11:02:26  2/12/2020 11:02:26 AM          240.070600   \n",
       "2020-02-12 11:03:26  2/12/2020 11:03:26 AM          240.070770   \n",
       "2020-02-12 11:04:26  2/12/2020 11:04:26 AM          240.070827   \n",
       "2020-02-12 11:05:26  2/12/2020 11:05:26 AM          240.070713   \n",
       "2020-02-12 11:06:26  2/12/2020 11:06:26 AM          240.070713   \n",
       "2020-02-12 11:07:26  2/12/2020 11:07:26 AM          240.070657   \n",
       "2020-02-12 11:08:27  2/12/2020 11:08:27 AM          240.070600   \n",
       "2020-02-12 11:09:26  2/12/2020 11:09:26 AM          240.070657   \n",
       "2020-02-12 11:10:26  2/12/2020 11:10:26 AM          240.070600   \n",
       "2020-02-12 11:11:27  2/12/2020 11:11:27 AM          240.070600   \n",
       "2020-02-12 11:12:26  2/12/2020 11:12:26 AM          240.070657   \n",
       "2020-02-12 11:13:26  2/12/2020 11:13:26 AM          240.070657   \n",
       "2020-02-12 11:14:26  2/12/2020 11:14:26 AM          240.070600   \n",
       "2020-02-12 11:15:27  2/12/2020 11:15:27 AM          240.070600   \n",
       "2020-02-12 11:16:26  2/12/2020 11:16:26 AM          240.070600   \n",
       "2020-02-12 11:17:27  2/12/2020 11:17:27 AM          240.070600   \n",
       "2020-02-12 11:18:27  2/12/2020 11:18:27 AM          240.070600   \n",
       "2020-02-12 11:19:26  2/12/2020 11:19:26 AM          240.070657   \n",
       "2020-02-12 11:20:26  2/12/2020 11:20:26 AM          240.070543   \n",
       "2020-02-12 11:21:27  2/12/2020 11:21:27 AM          240.070600   \n",
       "2020-02-12 11:22:26  2/12/2020 11:22:26 AM          240.070657   \n",
       "2020-02-12 11:23:27  2/12/2020 11:23:27 AM          240.070600   \n",
       "2020-02-12 11:24:27  2/12/2020 11:24:27 AM          240.070657   \n",
       "2020-02-12 11:25:26  2/12/2020 11:25:26 AM          240.070600   \n",
       "2020-02-12 11:26:27  2/12/2020 11:26:27 AM          240.070600   \n",
       "2020-02-12 11:27:27  2/12/2020 11:27:27 AM          240.070600   \n",
       "2020-02-12 11:28:26  2/12/2020 11:28:26 AM          240.070600   \n",
       "2020-02-12 11:29:26  2/12/2020 11:29:26 AM          240.070600   \n",
       "2020-02-12 11:30:27  2/12/2020 11:30:27 AM          240.070600   \n",
       "\n",
       "                     Magnet Voltage [V]  Coil 1 (new)  Coil 2 (old)  \\\n",
       "Datetime                                                              \n",
       "2020-02-03 13:07:31           28.594900     31.084738     28.893194   \n",
       "2020-02-03 13:07:37           28.594900     31.084738     28.893194   \n",
       "2020-02-03 13:09:10           28.595083     31.092598     28.894592   \n",
       "2020-02-03 13:10:10           28.595017     31.094372     28.906563   \n",
       "2020-02-03 13:11:10           28.595050     31.081289     28.900419   \n",
       "2020-02-03 13:12:10           28.595000     31.077211     28.887169   \n",
       "2020-02-03 13:13:10           28.594967     31.076483     28.889315   \n",
       "2020-02-03 13:14:10           28.594917     31.074787     28.896227   \n",
       "2020-02-03 13:15:10           28.594783     31.084619     28.908098   \n",
       "2020-02-03 13:16:10           28.594783     31.080364     28.899494   \n",
       "2020-02-03 13:17:10           28.594783     31.061094     28.892662   \n",
       "2020-02-03 13:18:10           28.594750     31.070139     28.893961   \n",
       "2020-02-03 13:19:10           28.594617     31.048111     28.889000   \n",
       "2020-02-03 13:20:10           28.594467     31.058535     28.889099   \n",
       "2020-02-03 13:21:10           28.594250     31.075182     28.886440   \n",
       "2020-02-03 13:22:10           28.593883     31.051264     28.895104   \n",
       "2020-02-03 13:23:10           28.593450     31.040960     28.891422   \n",
       "2020-02-03 13:24:10           28.592983     31.049353     28.884550   \n",
       "2020-02-03 13:25:10           28.592567     31.049826     28.877167   \n",
       "2020-02-03 13:26:10           28.592100     31.044939     28.876675   \n",
       "2020-02-03 13:27:10           28.591750     31.030714     28.873505   \n",
       "2020-02-03 13:28:10           28.591333     31.038380     28.874824   \n",
       "2020-02-03 13:29:10           28.590850     31.055834     28.863995   \n",
       "2020-02-03 13:30:10           28.590417     31.059479     28.885200   \n",
       "2020-02-03 13:31:10           28.589983     31.033098     28.858875   \n",
       "2020-02-03 13:32:10           28.589500     31.021219     28.848618   \n",
       "2020-02-03 13:33:10           28.589067     31.033690     28.855116   \n",
       "2020-02-03 13:34:10           28.588717     31.013534     28.839935   \n",
       "2020-02-03 13:35:10           28.588400     31.016233     28.856001   \n",
       "2020-02-03 13:36:10           28.588100     31.019190     28.853126   \n",
       "...                                 ...           ...           ...   \n",
       "2020-02-12 11:01:26           28.641083     32.150093     29.958447   \n",
       "2020-02-12 11:02:26           28.641650     32.132889     29.979166   \n",
       "2020-02-12 11:03:26           28.642167     32.158153     29.999924   \n",
       "2020-02-12 11:04:26           28.642783     32.155315     29.987202   \n",
       "2020-02-12 11:05:26           28.643383     32.191563     29.997147   \n",
       "2020-02-12 11:06:26           28.643867     32.185097     30.012510   \n",
       "2020-02-12 11:07:26           28.644333     32.231155     30.020210   \n",
       "2020-02-12 11:08:27           28.644767     32.220985     30.017572   \n",
       "2020-02-12 11:09:26           28.645133     32.209595     30.019127   \n",
       "2020-02-12 11:10:26           28.645567     32.195602     30.018419   \n",
       "2020-02-12 11:11:27           28.645917     32.223469     30.040655   \n",
       "2020-02-12 11:12:26           28.646167     32.222523     30.050011   \n",
       "2020-02-12 11:13:26           28.646533     32.241051     30.060350   \n",
       "2020-02-12 11:14:26           28.646917     32.269173     30.062794   \n",
       "2020-02-12 11:15:27           28.647217     32.290184     30.076284   \n",
       "2020-02-12 11:16:26           28.647583     32.280487     30.089481   \n",
       "2020-02-12 11:17:27           28.647783     32.288254     30.093361   \n",
       "2020-02-12 11:18:27           28.648050     32.271618     30.077744   \n",
       "2020-02-12 11:19:26           28.648367     32.272819     30.092161   \n",
       "2020-02-12 11:20:26           28.648633     32.279362     30.092772   \n",
       "2020-02-12 11:21:27           28.648917     32.295406     30.100767   \n",
       "2020-02-12 11:22:26           28.649267     32.308453     30.097853   \n",
       "2020-02-12 11:23:27           28.649500     32.316002     30.107050   \n",
       "2020-02-12 11:24:27           28.649733     32.309635     30.111088   \n",
       "2020-02-12 11:25:26           28.649917     32.318291     30.122454   \n",
       "2020-02-12 11:26:27           28.650117     32.308414     30.125782   \n",
       "2020-02-12 11:27:27           28.650367     32.317402     30.134664   \n",
       "2020-02-12 11:28:26           28.650567     32.307251     30.126904   \n",
       "2020-02-12 11:29:26           28.650850     32.326588     30.130707   \n",
       "2020-02-12 11:30:27           28.651067     32.329288     30.131769   \n",
       "\n",
       "                     LCW in Coil1  LCW out Coil 1  LCW in Coil 2  \\\n",
       "Datetime                                                           \n",
       "2020-02-03 13:07:31      7.666024       10.297763      12.776772   \n",
       "2020-02-03 13:07:37      7.666024       10.297763      12.776772   \n",
       "2020-02-03 13:09:10      7.645051       10.299427      12.721103   \n",
       "2020-02-03 13:10:10      7.659137       10.299153      12.596836   \n",
       "2020-02-03 13:11:10      7.655127       10.301816      12.659968   \n",
       "2020-02-03 13:12:10      7.642233       10.293416      12.650877   \n",
       "2020-02-03 13:13:10      7.659470       10.307475      12.692828   \n",
       "2020-02-03 13:14:10      7.647516       10.298781      12.599618   \n",
       "2020-02-03 13:15:10      7.635640       10.283665      12.678171   \n",
       "2020-02-03 13:16:10      7.661681       10.288952      12.653659   \n",
       "2020-02-03 13:17:10      7.665887       10.307436      12.711599   \n",
       "2020-02-03 13:18:10      7.652485       10.287757      12.688302   \n",
       "2020-02-03 13:19:10      7.618598       10.257662      12.749868   \n",
       "2020-02-03 13:20:10      7.646479       10.261167      12.710463   \n",
       "2020-02-03 13:21:10      7.625329       10.266238      12.622857   \n",
       "2020-02-03 13:22:10      7.613590       10.251162      12.623641   \n",
       "2020-02-03 13:23:10      7.603142       10.238552      12.565584   \n",
       "2020-02-03 13:24:10      7.575888       10.252082      12.757706   \n",
       "2020-02-03 13:25:10      7.583714       10.243545      12.677898   \n",
       "2020-02-03 13:26:10      7.591599       10.231679      12.584237   \n",
       "2020-02-03 13:27:10      7.591110       10.240451      12.636945   \n",
       "2020-02-03 13:28:10      7.582951       10.220538      12.584276   \n",
       "2020-02-03 13:29:10      7.570567       10.210983      12.647134   \n",
       "2020-02-03 13:30:10      7.592205       10.211824      12.597659   \n",
       "2020-02-03 13:31:10      7.563758       10.212863      12.700823   \n",
       "2020-02-03 13:32:10      7.595433       10.210082      12.546226   \n",
       "2020-02-03 13:33:10      7.573658       10.198804      12.614372   \n",
       "2020-02-03 13:34:10      7.579742       10.228429      12.672019   \n",
       "2020-02-03 13:35:10      7.583812       10.196004      12.690810   \n",
       "2020-02-03 13:36:10      7.569764       10.199568      12.647761   \n",
       "...                           ...             ...            ...   \n",
       "2020-02-12 11:01:26      8.289335       10.920894      13.414649   \n",
       "2020-02-12 11:02:26      8.275343       10.925398      13.468565   \n",
       "2020-02-12 11:03:26      8.308356       10.930098      13.548824   \n",
       "2020-02-12 11:04:26      8.323365       10.936032      13.435698   \n",
       "2020-02-12 11:05:26      8.302251       10.935171      13.502335   \n",
       "2020-02-12 11:06:26      8.292544       10.937110      13.529969   \n",
       "2020-02-12 11:07:26      8.296516       10.946060      13.448594   \n",
       "2020-02-12 11:08:27      8.309863       10.948018      13.467056   \n",
       "2020-02-12 11:09:26      8.306418       10.948155      13.437089   \n",
       "2020-02-12 11:10:26      8.265206       10.922872      13.667188   \n",
       "2020-02-12 11:11:27      8.298512       10.939774      13.440637   \n",
       "2020-02-12 11:12:26      8.320117       10.955167      13.405339   \n",
       "2020-02-12 11:13:26      8.351017       10.964586      13.455101   \n",
       "2020-02-12 11:14:26      8.325322       10.969267      13.473132   \n",
       "2020-02-12 11:15:27      8.327064       10.978648      13.505862   \n",
       "2020-02-12 11:16:26      8.319198       10.967348      13.589062   \n",
       "2020-02-12 11:17:27      8.329530       10.964410      13.593432   \n",
       "2020-02-12 11:18:27      8.316731       10.941261      13.494260   \n",
       "2020-02-12 11:19:26      8.332934       10.976494      13.472857   \n",
       "2020-02-12 11:20:26      8.335341       10.964744      13.542317   \n",
       "2020-02-12 11:21:27      8.348121       10.958457      13.505411   \n",
       "2020-02-12 11:22:26      8.381956       10.981351      13.456140   \n",
       "2020-02-12 11:23:27      8.375811       10.997998      13.456943   \n",
       "2020-02-12 11:24:27      8.350430       11.001915      13.460412   \n",
       "2020-02-12 11:25:26      8.335773       10.973145      13.522091   \n",
       "2020-02-12 11:26:27      8.293386       10.997919      13.539299   \n",
       "2020-02-12 11:27:27      8.318101       10.990301      13.511173   \n",
       "2020-02-12 11:28:26      8.349901       10.987872      13.473720   \n",
       "2020-02-12 11:29:26      8.358023       10.994943      13.513839   \n",
       "2020-02-12 11:30:27      8.325420       10.983446      13.566287   \n",
       "\n",
       "                     LCW out Coil 2       Yoke          ...           \\\n",
       "Datetime                                                ...            \n",
       "2020-02-03 13:07:31       13.716893  19.217583          ...            \n",
       "2020-02-03 13:07:37       13.716893  19.217583          ...            \n",
       "2020-02-03 13:09:10       13.721147  19.232798          ...            \n",
       "2020-02-03 13:10:10       13.739101  19.229990          ...            \n",
       "2020-02-03 13:11:10       13.719030  19.222059          ...            \n",
       "2020-02-03 13:12:10       13.735201  19.240808          ...            \n",
       "2020-02-03 13:13:10       13.750979  19.252842          ...            \n",
       "2020-02-03 13:14:10       13.742413  19.261835          ...            \n",
       "2020-02-03 13:15:10       13.726576  19.263287          ...            \n",
       "2020-02-03 13:16:10       13.716012  19.267607          ...            \n",
       "2020-02-03 13:17:10       13.708917  19.276598          ...            \n",
       "2020-02-03 13:18:10       13.725244  19.282900          ...            \n",
       "2020-02-03 13:19:10       13.702017  19.296211          ...            \n",
       "2020-02-03 13:20:10       13.692197  19.298155          ...            \n",
       "2020-02-03 13:21:10       13.690943  19.306656          ...            \n",
       "2020-02-03 13:22:10       13.701840  19.309738          ...            \n",
       "2020-02-03 13:23:10       13.688571  19.311762          ...            \n",
       "2020-02-03 13:24:10       13.678888  19.316042          ...            \n",
       "2020-02-03 13:25:10       13.671166  19.327978          ...            \n",
       "2020-02-03 13:26:10       13.676889  19.329332          ...            \n",
       "2020-02-03 13:27:10       13.669696  19.338266          ...            \n",
       "2020-02-03 13:28:10       13.659543  19.345432          ...            \n",
       "2020-02-03 13:29:10       13.648450  19.352598          ...            \n",
       "2020-02-03 13:30:10       13.653330  19.357428          ...            \n",
       "2020-02-03 13:31:10       13.647391  19.360079          ...            \n",
       "2020-02-03 13:32:10       13.657603  19.364672          ...            \n",
       "2020-02-03 13:33:10       13.640374  19.374233          ...            \n",
       "2020-02-03 13:34:10       13.668364  19.376354          ...            \n",
       "2020-02-03 13:35:10       13.640492  19.381420          ...            \n",
       "2020-02-03 13:36:10       13.636063  19.384895          ...            \n",
       "...                             ...        ...          ...            \n",
       "2020-02-12 11:01:26       14.406351  21.949020          ...            \n",
       "2020-02-12 11:02:26       14.428485  21.965586          ...            \n",
       "2020-02-12 11:03:26       14.436209  21.982914          ...            \n",
       "2020-02-12 11:04:26       14.433719  21.980341          ...            \n",
       "2020-02-12 11:05:26       14.438953  22.000402          ...            \n",
       "2020-02-12 11:06:26       14.454304  21.997868          ...            \n",
       "2020-02-12 11:07:26       14.463930  22.015886          ...            \n",
       "2020-02-12 11:08:27       14.446599  22.019875          ...            \n",
       "2020-02-12 11:09:26       14.442404  22.025906          ...            \n",
       "2020-02-12 11:10:26       14.431171  22.038424          ...            \n",
       "2020-02-12 11:11:27       14.468027  22.045319          ...            \n",
       "2020-02-12 11:12:26       14.461264  22.061413          ...            \n",
       "2020-02-12 11:13:26       14.481457  22.074244          ...            \n",
       "2020-02-12 11:14:26       14.458480  22.085148          ...            \n",
       "2020-02-12 11:15:27       14.497847  22.094973          ...            \n",
       "2020-02-12 11:16:26       14.449265  22.098490          ...            \n",
       "2020-02-12 11:17:27       14.441404  22.109415          ...            \n",
       "2020-02-12 11:18:27       14.482280  22.116764          ...            \n",
       "2020-02-12 11:19:26       14.510315  22.125055          ...            \n",
       "2020-02-12 11:20:26       14.462911  22.133427          ...            \n",
       "2020-02-12 11:21:27       14.499669  22.144882          ...            \n",
       "2020-02-12 11:22:26       14.478300  22.156868          ...            \n",
       "2020-02-12 11:23:27       14.473457  22.177402          ...            \n",
       "2020-02-12 11:24:27       14.512138  22.176243          ...            \n",
       "2020-02-12 11:25:26       14.503160  22.183966          ...            \n",
       "2020-02-12 11:26:27       14.517373  22.203203          ...            \n",
       "2020-02-12 11:27:27       14.463773  22.206976          ...            \n",
       "2020-02-12 11:28:26       14.512922  22.211868          ...            \n",
       "2020-02-12 11:29:26       14.514196  22.224190          ...            \n",
       "2020-02-12 11:30:27       14.512237  22.224464          ...            \n",
       "\n",
       "                     C50000000D5E473A_Cal_Z  DF0000000D5E803A_Cal_T  \\\n",
       "Datetime                                                              \n",
       "2020-02-03 13:07:31               -0.007220                  22.608   \n",
       "2020-02-03 13:07:37               -0.007220                  22.608   \n",
       "2020-02-03 13:09:10               -0.007223                  22.640   \n",
       "2020-02-03 13:10:10               -0.007231                  22.597   \n",
       "2020-02-03 13:11:10               -0.007225                  22.605   \n",
       "2020-02-03 13:12:10               -0.007272                  22.604   \n",
       "2020-02-03 13:13:10               -0.007232                  22.613   \n",
       "2020-02-03 13:14:10               -0.007232                  22.608   \n",
       "2020-02-03 13:15:10               -0.007218                  22.605   \n",
       "2020-02-03 13:16:10               -0.007242                  22.602   \n",
       "2020-02-03 13:17:10               -0.007248                  22.622   \n",
       "2020-02-03 13:18:10               -0.007249                  22.610   \n",
       "2020-02-03 13:19:10               -0.007235                  22.620   \n",
       "2020-02-03 13:20:10               -0.007240                  22.605   \n",
       "2020-02-03 13:21:10               -0.007251                  22.627   \n",
       "2020-02-03 13:22:10               -0.007243                  22.619   \n",
       "2020-02-03 13:23:10               -0.007253                  22.585   \n",
       "2020-02-03 13:24:10               -0.007241                  22.583   \n",
       "2020-02-03 13:25:10               -0.007268                  22.587   \n",
       "2020-02-03 13:26:10               -0.007237                  22.566   \n",
       "2020-02-03 13:27:10               -0.007230                  22.592   \n",
       "2020-02-03 13:28:10               -0.007231                  22.604   \n",
       "2020-02-03 13:29:10               -0.007256                  22.591   \n",
       "2020-02-03 13:30:10               -0.007269                  22.595   \n",
       "2020-02-03 13:31:10               -0.007235                  22.613   \n",
       "2020-02-03 13:32:10               -0.007258                  22.604   \n",
       "2020-02-03 13:33:10               -0.007241                  22.609   \n",
       "2020-02-03 13:34:10               -0.007221                  22.615   \n",
       "2020-02-03 13:35:10               -0.007228                  22.602   \n",
       "2020-02-03 13:36:10               -0.007255                  22.604   \n",
       "...                                     ...                     ...   \n",
       "2020-02-12 11:01:26               -0.007277                  26.748   \n",
       "2020-02-12 11:02:26               -0.007255                  26.875   \n",
       "2020-02-12 11:03:26               -0.007266                  26.940   \n",
       "2020-02-12 11:04:26               -0.007273                  27.020   \n",
       "2020-02-12 11:05:26               -0.007228                  27.070   \n",
       "2020-02-12 11:06:26               -0.007256                  26.993   \n",
       "2020-02-12 11:07:26               -0.007270                  27.120   \n",
       "2020-02-12 11:08:27               -0.007276                  27.146   \n",
       "2020-02-12 11:09:26               -0.007260                  27.150   \n",
       "2020-02-12 11:10:26               -0.007263                  27.187   \n",
       "2020-02-12 11:11:27               -0.007250                  27.095   \n",
       "2020-02-12 11:12:26               -0.007272                  27.165   \n",
       "2020-02-12 11:13:26               -0.007245                  27.155   \n",
       "2020-02-12 11:14:26               -0.007270                  27.254   \n",
       "2020-02-12 11:15:27               -0.007277                  27.280   \n",
       "2020-02-12 11:16:26               -0.007266                  27.269   \n",
       "2020-02-12 11:17:27               -0.007276                  27.369   \n",
       "2020-02-12 11:18:27               -0.007263                  27.286   \n",
       "2020-02-12 11:19:26               -0.007264                  27.350   \n",
       "2020-02-12 11:20:26               -0.007263                  27.291   \n",
       "2020-02-12 11:21:27               -0.007283                  27.287   \n",
       "2020-02-12 11:22:26               -0.007261                  27.375   \n",
       "2020-02-12 11:23:27               -0.007257                  27.417   \n",
       "2020-02-12 11:24:27               -0.007245                  27.394   \n",
       "2020-02-12 11:25:26               -0.007270                  27.423   \n",
       "2020-02-12 11:26:27               -0.007301                  27.436   \n",
       "2020-02-12 11:27:27               -0.007253                  27.408   \n",
       "2020-02-12 11:28:26               -0.007246                  27.460   \n",
       "2020-02-12 11:29:26               -0.007263                  27.457   \n",
       "2020-02-12 11:30:27               -0.007248                  27.527   \n",
       "\n",
       "                     6A0000000D61333A_Cal_T  C50000000D5E473A_Cal_T  \\\n",
       "Datetime                                                              \n",
       "2020-02-03 13:07:31                  23.846                  22.638   \n",
       "2020-02-03 13:07:37                  23.846                  22.638   \n",
       "2020-02-03 13:09:10                  23.838                  22.650   \n",
       "2020-02-03 13:10:10                  23.845                  22.655   \n",
       "2020-02-03 13:11:10                  23.846                  22.659   \n",
       "2020-02-03 13:12:10                  23.846                  22.646   \n",
       "2020-02-03 13:13:10                  23.842                  22.647   \n",
       "2020-02-03 13:14:10                  23.853                  22.664   \n",
       "2020-02-03 13:15:10                  23.855                  22.659   \n",
       "2020-02-03 13:16:10                  23.862                  22.666   \n",
       "2020-02-03 13:17:10                  23.858                  22.663   \n",
       "2020-02-03 13:18:10                  23.855                  22.651   \n",
       "2020-02-03 13:19:10                  23.854                  22.649   \n",
       "2020-02-03 13:20:10                  23.857                  22.663   \n",
       "2020-02-03 13:21:10                  23.853                  22.669   \n",
       "2020-02-03 13:22:10                  23.856                  22.669   \n",
       "2020-02-03 13:23:10                  23.864                  22.657   \n",
       "2020-02-03 13:24:10                  23.862                  22.646   \n",
       "2020-02-03 13:25:10                  23.867                  22.661   \n",
       "2020-02-03 13:26:10                  23.867                  22.654   \n",
       "2020-02-03 13:27:10                  23.860                  22.649   \n",
       "2020-02-03 13:28:10                  23.856                  22.656   \n",
       "2020-02-03 13:29:10                  23.847                  22.652   \n",
       "2020-02-03 13:30:10                  23.856                  22.653   \n",
       "2020-02-03 13:31:10                  23.854                  22.645   \n",
       "2020-02-03 13:32:10                  23.850                  22.652   \n",
       "2020-02-03 13:33:10                  23.855                  22.657   \n",
       "2020-02-03 13:34:10                  23.856                  22.649   \n",
       "2020-02-03 13:35:10                  23.861                  22.654   \n",
       "2020-02-03 13:36:10                  23.854                  22.648   \n",
       "...                                     ...                     ...   \n",
       "2020-02-12 11:01:26                  27.710                  26.174   \n",
       "2020-02-12 11:02:26                  27.775                  26.242   \n",
       "2020-02-12 11:03:26                  27.832                  26.310   \n",
       "2020-02-12 11:04:26                  27.892                  26.372   \n",
       "2020-02-12 11:05:26                  27.952                  26.420   \n",
       "2020-02-12 11:06:26                  28.008                  26.472   \n",
       "2020-02-12 11:07:26                  28.058                  26.531   \n",
       "2020-02-12 11:08:27                  28.109                  26.572   \n",
       "2020-02-12 11:09:26                  28.158                  26.616   \n",
       "2020-02-12 11:10:26                  28.206                  26.655   \n",
       "2020-02-12 11:11:27                  28.250                  26.704   \n",
       "2020-02-12 11:12:26                  28.291                  26.730   \n",
       "2020-02-12 11:13:26                  28.332                  26.744   \n",
       "2020-02-12 11:14:26                  28.371                  26.774   \n",
       "2020-02-12 11:15:27                  28.407                  26.809   \n",
       "2020-02-12 11:16:26                  28.445                  26.845   \n",
       "2020-02-12 11:17:27                  28.483                  26.886   \n",
       "2020-02-12 11:18:27                  28.516                  26.908   \n",
       "2020-02-12 11:19:26                  28.549                  26.921   \n",
       "2020-02-12 11:20:26                  28.579                  26.938   \n",
       "2020-02-12 11:21:27                  28.610                  26.949   \n",
       "2020-02-12 11:22:26                  28.636                  26.966   \n",
       "2020-02-12 11:23:27                  28.666                  26.989   \n",
       "2020-02-12 11:24:27                  28.698                  26.993   \n",
       "2020-02-12 11:25:26                  28.723                  27.007   \n",
       "2020-02-12 11:26:27                  28.748                  27.028   \n",
       "2020-02-12 11:27:27                  28.774                  27.052   \n",
       "2020-02-12 11:28:26                  28.800                  27.052   \n",
       "2020-02-12 11:29:26                  28.819                  27.059   \n",
       "2020-02-12 11:30:27                  28.840                  27.090   \n",
       "\n",
       "                     Zaber_Meas_MicroStep_X  Zaber_Meas_Encoder_X  \\\n",
       "Datetime                                                            \n",
       "2020-02-03 13:07:31            249952.34375              639878.0   \n",
       "2020-02-03 13:07:37            249952.34375              639878.0   \n",
       "2020-02-03 13:09:10            249952.34375              639878.0   \n",
       "2020-02-03 13:10:10            249952.34375              639878.0   \n",
       "2020-02-03 13:11:10            249952.34375              639878.0   \n",
       "2020-02-03 13:12:10            249952.34375              639878.0   \n",
       "2020-02-03 13:13:10            249952.34375              639878.0   \n",
       "2020-02-03 13:14:10            249952.34375              639878.0   \n",
       "2020-02-03 13:15:10            249952.34375              639878.0   \n",
       "2020-02-03 13:16:10            249952.34375              639878.0   \n",
       "2020-02-03 13:17:10            249952.34375              639878.0   \n",
       "2020-02-03 13:18:10            249952.34375              639878.0   \n",
       "2020-02-03 13:19:10            249952.34375              639878.0   \n",
       "2020-02-03 13:20:10            249952.34375              639878.0   \n",
       "2020-02-03 13:21:10            249952.34375              639878.0   \n",
       "2020-02-03 13:22:10            249952.34375              639878.0   \n",
       "2020-02-03 13:23:10            249952.34375              639878.0   \n",
       "2020-02-03 13:24:10            249952.34375              639878.0   \n",
       "2020-02-03 13:25:10            249952.34375              639878.0   \n",
       "2020-02-03 13:26:10            249952.34375              639878.0   \n",
       "2020-02-03 13:27:10            249952.34375              639878.0   \n",
       "2020-02-03 13:28:10            249952.34375              639878.0   \n",
       "2020-02-03 13:29:10            249952.34375              639878.0   \n",
       "2020-02-03 13:30:10            249952.34375              639878.0   \n",
       "2020-02-03 13:31:10            249952.34375              639878.0   \n",
       "2020-02-03 13:32:10            249952.34375              639878.0   \n",
       "2020-02-03 13:33:10            249952.34375              639878.0   \n",
       "2020-02-03 13:34:10            249952.34375              639878.0   \n",
       "2020-02-03 13:35:10            249952.34375              639878.0   \n",
       "2020-02-03 13:36:10            249952.34375              639878.0   \n",
       "...                                     ...                   ...   \n",
       "2020-02-12 11:01:26            249952.34375              639878.0   \n",
       "2020-02-12 11:02:26            249952.34375              639878.0   \n",
       "2020-02-12 11:03:26            249952.34375              639878.0   \n",
       "2020-02-12 11:04:26            249952.34375              639878.0   \n",
       "2020-02-12 11:05:26            249952.34375              639878.0   \n",
       "2020-02-12 11:06:26            249952.34375              639878.0   \n",
       "2020-02-12 11:07:26            249952.34375              639878.0   \n",
       "2020-02-12 11:08:27            249952.34375              639878.0   \n",
       "2020-02-12 11:09:26            249952.34375              639878.0   \n",
       "2020-02-12 11:10:26            249952.34375              639878.0   \n",
       "2020-02-12 11:11:27            249952.34375              639878.0   \n",
       "2020-02-12 11:12:26            249952.34375              639878.0   \n",
       "2020-02-12 11:13:26            249952.34375              639878.0   \n",
       "2020-02-12 11:14:26            249952.34375              639878.0   \n",
       "2020-02-12 11:15:27            249952.34375              639878.0   \n",
       "2020-02-12 11:16:26            249952.34375              639878.0   \n",
       "2020-02-12 11:17:27            249952.34375              639878.0   \n",
       "2020-02-12 11:18:27            249952.34375              639878.0   \n",
       "2020-02-12 11:19:26            249952.34375              639878.0   \n",
       "2020-02-12 11:20:26            249952.34375              639878.0   \n",
       "2020-02-12 11:21:27            249952.34375              639878.0   \n",
       "2020-02-12 11:22:26            249952.34375              639878.0   \n",
       "2020-02-12 11:23:27            249952.34375              639878.0   \n",
       "2020-02-12 11:24:27            249952.34375              639878.0   \n",
       "2020-02-12 11:25:26            249952.34375              639878.0   \n",
       "2020-02-12 11:26:27            249952.34375              639878.0   \n",
       "2020-02-12 11:27:27            249952.34375              639878.0   \n",
       "2020-02-12 11:28:26            249952.34375              639878.0   \n",
       "2020-02-12 11:29:26            249952.34375              639878.0   \n",
       "2020-02-12 11:30:27            249952.34375              639878.0   \n",
       "\n",
       "                     Zaber_Meas_MicroStep_Y  Zaber_Meas_Encoder_Y  \\\n",
       "Datetime                                                            \n",
       "2020-02-03 13:07:31           184468.359375              472239.0   \n",
       "2020-02-03 13:07:37           184468.359375              472239.0   \n",
       "2020-02-03 13:09:10           184468.359375              472239.0   \n",
       "2020-02-03 13:10:10           184468.359375              472239.0   \n",
       "2020-02-03 13:11:10           184468.359375              472239.0   \n",
       "2020-02-03 13:12:10           184468.359375              472239.0   \n",
       "2020-02-03 13:13:10           184468.359375              472239.0   \n",
       "2020-02-03 13:14:10           184468.359375              472239.0   \n",
       "2020-02-03 13:15:10           184468.359375              472239.0   \n",
       "2020-02-03 13:16:10           184468.359375              472239.0   \n",
       "2020-02-03 13:17:10           184468.359375              472239.0   \n",
       "2020-02-03 13:18:10           184468.359375              472239.0   \n",
       "2020-02-03 13:19:10           184468.359375              472239.0   \n",
       "2020-02-03 13:20:10           184468.359375              472239.0   \n",
       "2020-02-03 13:21:10           184468.359375              472239.0   \n",
       "2020-02-03 13:22:10           184468.359375              472239.0   \n",
       "2020-02-03 13:23:10           184468.359375              472239.0   \n",
       "2020-02-03 13:24:10           184468.359375              472239.0   \n",
       "2020-02-03 13:25:10           184468.359375              472239.0   \n",
       "2020-02-03 13:26:10           184468.359375              472239.0   \n",
       "2020-02-03 13:27:10           184468.359375              472239.0   \n",
       "2020-02-03 13:28:10           184468.359375              472239.0   \n",
       "2020-02-03 13:29:10           184468.359375              472239.0   \n",
       "2020-02-03 13:30:10           184468.359375              472239.0   \n",
       "2020-02-03 13:31:10           184468.359375              472239.0   \n",
       "2020-02-03 13:32:10           184468.359375              472239.0   \n",
       "2020-02-03 13:33:10           184468.359375              472239.0   \n",
       "2020-02-03 13:34:10           184468.359375              472239.0   \n",
       "2020-02-03 13:35:10           184468.359375              472239.0   \n",
       "2020-02-03 13:36:10           184468.359375              472239.0   \n",
       "...                                     ...                   ...   \n",
       "2020-02-12 11:01:26           184468.359375              472239.0   \n",
       "2020-02-12 11:02:26           184468.359375              472239.0   \n",
       "2020-02-12 11:03:26           184468.359375              472239.0   \n",
       "2020-02-12 11:04:26           184468.359375              472239.0   \n",
       "2020-02-12 11:05:26           184468.359375              472239.0   \n",
       "2020-02-12 11:06:26           184468.359375              472239.0   \n",
       "2020-02-12 11:07:26           184468.359375              472239.0   \n",
       "2020-02-12 11:08:27           184468.359375              472239.0   \n",
       "2020-02-12 11:09:26           184468.359375              472239.0   \n",
       "2020-02-12 11:10:26           184468.359375              472239.0   \n",
       "2020-02-12 11:11:27           184468.359375              472239.0   \n",
       "2020-02-12 11:12:26           184468.359375              472239.0   \n",
       "2020-02-12 11:13:26           184468.359375              472239.0   \n",
       "2020-02-12 11:14:26           184468.359375              472239.0   \n",
       "2020-02-12 11:15:27           184468.359375              472239.0   \n",
       "2020-02-12 11:16:26           184468.359375              472239.0   \n",
       "2020-02-12 11:17:27           184468.359375              472239.0   \n",
       "2020-02-12 11:18:27           184468.359375              472239.0   \n",
       "2020-02-12 11:19:26           184468.359375              472239.0   \n",
       "2020-02-12 11:20:26           184468.359375              472239.0   \n",
       "2020-02-12 11:21:27           184468.359375              472239.0   \n",
       "2020-02-12 11:22:26           184468.359375              472239.0   \n",
       "2020-02-12 11:23:27           184468.359375              472239.0   \n",
       "2020-02-12 11:24:27           184468.359375              472239.0   \n",
       "2020-02-12 11:25:26           184468.359375              472239.0   \n",
       "2020-02-12 11:26:27           184468.359375              472239.0   \n",
       "2020-02-12 11:27:27           184468.359375              472239.0   \n",
       "2020-02-12 11:28:26           184468.359375              472239.0   \n",
       "2020-02-12 11:29:26           184468.359375              472239.0   \n",
       "2020-02-12 11:30:27           184468.359375              472239.0   \n",
       "\n",
       "                     Zaber_Meas_MicroStep_Z  Zaber_Meas_Encoder_Z  \n",
       "Datetime                                                           \n",
       "2020-02-03 13:07:31                750000.0             1920000.0  \n",
       "2020-02-03 13:07:37                750000.0             1920000.0  \n",
       "2020-02-03 13:09:10                750000.0             1920000.0  \n",
       "2020-02-03 13:10:10                750000.0             1920000.0  \n",
       "2020-02-03 13:11:10                750000.0             1920000.0  \n",
       "2020-02-03 13:12:10                750000.0             1920000.0  \n",
       "2020-02-03 13:13:10                750000.0             1920000.0  \n",
       "2020-02-03 13:14:10                750000.0             1920000.0  \n",
       "2020-02-03 13:15:10                750000.0             1920000.0  \n",
       "2020-02-03 13:16:10                750000.0             1920000.0  \n",
       "2020-02-03 13:17:10                750000.0             1920000.0  \n",
       "2020-02-03 13:18:10                750000.0             1920000.0  \n",
       "2020-02-03 13:19:10                750000.0             1920000.0  \n",
       "2020-02-03 13:20:10                750000.0             1920000.0  \n",
       "2020-02-03 13:21:10                750000.0             1920000.0  \n",
       "2020-02-03 13:22:10                750000.0             1920000.0  \n",
       "2020-02-03 13:23:10                750000.0             1920000.0  \n",
       "2020-02-03 13:24:10                750000.0             1920000.0  \n",
       "2020-02-03 13:25:10                750000.0             1920000.0  \n",
       "2020-02-03 13:26:10                750000.0             1920000.0  \n",
       "2020-02-03 13:27:10                750000.0             1920000.0  \n",
       "2020-02-03 13:28:10                750000.0             1920000.0  \n",
       "2020-02-03 13:29:10                750000.0             1920000.0  \n",
       "2020-02-03 13:30:10                750000.0             1920000.0  \n",
       "2020-02-03 13:31:10                750000.0             1920000.0  \n",
       "2020-02-03 13:32:10                750000.0             1920000.0  \n",
       "2020-02-03 13:33:10                750000.0             1920000.0  \n",
       "2020-02-03 13:34:10                750000.0             1920000.0  \n",
       "2020-02-03 13:35:10                750000.0             1920000.0  \n",
       "2020-02-03 13:36:10                750000.0             1920000.0  \n",
       "...                                     ...                   ...  \n",
       "2020-02-12 11:01:26                750000.0             1920000.0  \n",
       "2020-02-12 11:02:26                750000.0             1920000.0  \n",
       "2020-02-12 11:03:26                750000.0             1920000.0  \n",
       "2020-02-12 11:04:26                750000.0             1920000.0  \n",
       "2020-02-12 11:05:26                750000.0             1920000.0  \n",
       "2020-02-12 11:06:26                750000.0             1920000.0  \n",
       "2020-02-12 11:07:26                750000.0             1920000.0  \n",
       "2020-02-12 11:08:27                750000.0             1920000.0  \n",
       "2020-02-12 11:09:26                750000.0             1920000.0  \n",
       "2020-02-12 11:10:26                750000.0             1920000.0  \n",
       "2020-02-12 11:11:27                750000.0             1920000.0  \n",
       "2020-02-12 11:12:26                750000.0             1920000.0  \n",
       "2020-02-12 11:13:26                750000.0             1920000.0  \n",
       "2020-02-12 11:14:26                750000.0             1920000.0  \n",
       "2020-02-12 11:15:27                750000.0             1920000.0  \n",
       "2020-02-12 11:16:26                750000.0             1920000.0  \n",
       "2020-02-12 11:17:27                750000.0             1920000.0  \n",
       "2020-02-12 11:18:27                750000.0             1920000.0  \n",
       "2020-02-12 11:19:26                750000.0             1920000.0  \n",
       "2020-02-12 11:20:26                750000.0             1920000.0  \n",
       "2020-02-12 11:21:27                750000.0             1920000.0  \n",
       "2020-02-12 11:22:26                750000.0             1920000.0  \n",
       "2020-02-12 11:23:27                750000.0             1920000.0  \n",
       "2020-02-12 11:24:27                750000.0             1920000.0  \n",
       "2020-02-12 11:25:26                750000.0             1920000.0  \n",
       "2020-02-12 11:26:27                750000.0             1920000.0  \n",
       "2020-02-12 11:27:27                750000.0             1920000.0  \n",
       "2020-02-12 11:28:26                750000.0             1920000.0  \n",
       "2020-02-12 11:29:26                750000.0             1920000.0  \n",
       "2020-02-12 11:30:27                750000.0             1920000.0  \n",
       "\n",
       "[12864 rows x 75 columns]"
      ]
     },
     "execution_count": 15,
     "metadata": {},
     "output_type": "execute_result"
    }
   ],
   "source": [
    "df2"
   ]
  },
  {
   "cell_type": "code",
   "execution_count": 16,
   "metadata": {
    "hidden": true
   },
   "outputs": [],
   "source": [
    "df = pd.concat([df,df2], axis=0)"
   ]
  },
  {
   "cell_type": "code",
   "execution_count": 17,
   "metadata": {
    "hidden": true
   },
   "outputs": [],
   "source": [
    "probes = np.array([])\n",
    "for col in df.columns:\n",
    "    #print(df_fast[col].dtype)\n",
    "    if (\"Raw\" in col) or (\"Cal\" in col):#type(df[col].iloc[0]) is np.float64:\n",
    "        #print(f\"{col}\")#\": mean: {df[col].mean()}\")\n",
    "        probes = np.append(probes, col[:16])\n",
    "probes = list(np.unique(probes))\n",
    "#print(probes)"
   ]
  },
  {
   "cell_type": "code",
   "execution_count": 18,
   "metadata": {
    "hidden": true
   },
   "outputs": [],
   "source": [
    "probe = probes[2]"
   ]
  },
  {
   "cell_type": "code",
   "execution_count": 19,
   "metadata": {
    "hidden": true
   },
   "outputs": [
    {
     "data": {
      "text/plain": [
       "'DF0000000D5E803A'"
      ]
     },
     "execution_count": 19,
     "metadata": {},
     "output_type": "execute_result"
    }
   ],
   "source": [
    "probe"
   ]
  },
  {
   "cell_type": "code",
   "execution_count": 20,
   "metadata": {
    "hidden": true,
    "scrolled": true
   },
   "outputs": [],
   "source": [
    "#for col in df.columns:\n",
    "#    if type(df[col].iloc[0]) is np.float64:\n",
    "#        print(f\"{col}: mean: {df[col].mean()}\")"
   ]
  },
  {
   "cell_type": "markdown",
   "metadata": {
    "hidden": true
   },
   "source": [
    "- Looks like maybe probe \"DF0000000D5E803A\" is in the field"
   ]
  },
  {
   "cell_type": "markdown",
   "metadata": {
    "hidden": true
   },
   "source": [
    "### Slow Control Data Cleaning"
   ]
  },
  {
   "cell_type": "code",
   "execution_count": 21,
   "metadata": {
    "code_folding": [],
    "hidden": true
   },
   "outputs": [],
   "source": [
    "for probe in probes:\n",
    "    for t in [\"Cal\", \"Raw\"]:\n",
    "        df[f\"{probe}_{t}_Bmag\"] = (df[f\"{probe}_{t}_X\"]**2+df[f\"{probe}_{t}_Y\"]**2+df[f\"{probe}_{t}_Z\"]**2)**(1/2)\n",
    "        df[f\"{probe}_{t}_Res\"] = df[f\"{probe}_{t}_Bmag\"] - df['NMR [T]']\n",
    "        df[f\"{probe}_{t}_Res_Rel\"] = (df[f\"{probe}_{t}_Bmag\"] - df['NMR [T]']) / df['NMR [T]']"
   ]
  },
  {
   "cell_type": "code",
   "execution_count": 22,
   "metadata": {
    "hidden": true
   },
   "outputs": [],
   "source": [
    "for B in [\"X\", \"Y\", \"Z\"]:\n",
    "    for probe in probes:\n",
    "        for t in [\"Cal\", \"Raw\"]:\n",
    "            #df[f\"{probe}_{t}_Bmag\"] = (df[f\"{probe}_{t}_X\"]**2+df[f\"{probe}_{t}_Y\"]**2+df[f\"{probe}_{t}_Z\"]**2)**(1/2)\n",
    "            df[f\"{probe}_{t}_{B}_Res\"] = df[f\"{probe}_{t}_{B}\"] - df['NMR [T]']\n",
    "            df[f\"{probe}_{t}_{B}_Res_Rel\"] = (df[f\"{probe}_{t}_{B}\"] - df['NMR [T]']) / df['NMR [T]']"
   ]
  },
  {
   "cell_type": "code",
   "execution_count": 23,
   "metadata": {
    "hidden": true
   },
   "outputs": [],
   "source": [
    "df[\"seconds_delta\"] = (df.index - df.index[0]).total_seconds()\n",
    "df[\"hours_delta\"] = (df.index - df.index[0]).total_seconds()/60**2\n",
    "df[\"days_delta\"] = (df.index - df.index[0]).total_seconds()/(24*60**2)"
   ]
  },
  {
   "cell_type": "code",
   "execution_count": 24,
   "metadata": {
    "hidden": true
   },
   "outputs": [],
   "source": [
    "for t in [\"Cal\", \"Raw\"]:\n",
    "    for probe in probes:\n",
    "        df[f\"{probe}_{t}_Transverse\"] = (df[f\"{probe}_Cal_X\"]**2+df[f\"{probe}_Cal_Y\"]**2)**(1/2)\n",
    "        df[f\"{probe}_{t}_Theta\"] = np.arccos(df[f\"{probe}_Cal_Z\"]/df[f\"{probe}_Cal_Bmag\"])\n",
    "        df[f\"{probe}_{t}_Phi\"] = np.arccos(df[f\"{probe}_Cal_X\"]/df[f\"{probe}_Cal_Transverse\"])"
   ]
  },
  {
   "cell_type": "code",
   "execution_count": 25,
   "metadata": {
    "hidden": true
   },
   "outputs": [],
   "source": [
    "# raw\n",
    "for probe in probes:\n",
    "    df[f\"{probe}_Raw_Bmag\"] = (df[f\"{probe}_Raw_X\"]**2+df[f\"{probe}_Raw_Y\"]**2+df[f\"{probe}_Raw_Z\"]**2)**(1/2)\n",
    "\n",
    "for probe in probes:\n",
    "    df[f\"{probe}_Raw_Transverse\"] = (df[f\"{probe}_Raw_X\"]**2+df[f\"{probe}_Raw_Y\"]**2)**(1/2)\n",
    "    df[f\"{probe}_Raw_Theta\"] = np.arccos(df[f\"{probe}_Raw_Z\"]/df[f\"{probe}_Raw_Bmag\"])\n",
    "    df[f\"{probe}_Raw_Phi\"] = np.arccos(df[f\"{probe}_Raw_X\"]/df[f\"{probe}_Raw_Transverse\"])"
   ]
  },
  {
   "cell_type": "code",
   "execution_count": 26,
   "metadata": {
    "hidden": true,
    "scrolled": true
   },
   "outputs": [],
   "source": [
    "# NOTE TAKES ~3 MINUTES TO RUN AT THIS POINT (02-03-2020)\n",
    "if make_plots:\n",
    "    ## TIME PLOTS\n",
    "    for col in df.columns:\n",
    "        fig = scatter2d(df.index, df[col], markers=False, lines=True, show_plot=False) \n",
    "        pio.write_image(fig, plotdir+f\"time/all/{col}_vs_time.pdf\")\n",
    "        pio.write_image(fig, plotdir+f\"time/all/{col}_vs_time.png\")\n",
    "    \n",
    "    ## PLOT HISTOS\n",
    "    for probe in probes:\n",
    "        for t in [\"Cal\", \"Raw\"]:\n",
    "            fig = histo(df[f\"{probe}_{t}_Bmag\"], bins=50, show_plot=False)\n",
    "            pio.write_image(fig, plotdir+f\"histo/{probe}_{t}_Bmag.pdf\")\n",
    "            pio.write_image(fig, plotdir+f\"histo/{probe}_{t}_Bmag.png\")\n",
    "\n",
    "    ## RES HISTOS\n",
    "    for t in [\"Cal\", \"Raw\"]:\n",
    "        for probe in probes:\n",
    "            for B in [\"X\",\"Y\",\"Z\"]:\n",
    "                fig = histo(df[f\"{probe}_{t}_{B}_Res\"], bins=50, show_plot=False)\n",
    "                pio.write_image(fig, plotdir+f\"histo/residuals/component/{probe}_{t}_{B}_Res.pdf\")\n",
    "                pio.write_image(fig, plotdir+f\"histo/residuals/component/{probe}_{t}_{B}_Res.png\")\n",
    "\n",
    "    ## REL_RES HISTOS\n",
    "    for t in [\"Cal\", \"Raw\"]:\n",
    "        for probe in probes:\n",
    "            for B in [\"X\",\"Y\",\"Z\"]:\n",
    "                fig = histo(df[f\"{probe}_{t}_{B}_Res_Rel\"], bins=50, show_plot=False)\n",
    "                pio.write_image(fig, plotdir+f\"histo/relative_residuals/component/{probe}_{t}_{B}_Res_Rel.pdf\")\n",
    "                pio.write_image(fig, plotdir+f\"histo/relative_residuals/component/{probe}_{t}_{B}_Res_Rel.png\")\n",
    "\n",
    "    ## BMAG RES HISTOS\n",
    "    for res in [\"Res\", \"Res_Rel\"]:\n",
    "        if res == \"Res\":\n",
    "            p = \"residuals\"\n",
    "        else:\n",
    "            p = \"relative_residuals\"\n",
    "        for t in [\"Cal\", \"Raw\"]:\n",
    "            for probe in probes:\n",
    "                #for B in [\"X\",\"Y\",\"Z\"]:\n",
    "                fig = histo(df[f\"{probe}_{t}_{res}\"], bins=50, show_plot=False)\n",
    "                pio.write_image(fig, plotdir+f\"histo/{p}/{probe}_{t}_Bmag_{res}.pdf\")\n",
    "                pio.write_image(fig, plotdir+f\"histo/{p}/{probe}_{t}_Bmag_{res}.png\")\n",
    "\n",
    "    ## PLOT HISTO ANGLE\n",
    "    for probe in probes:\n",
    "        for angle in [\"Transverse\", \"Theta\", \"Phi\"]:\n",
    "            fig = histo(df[f\"{probe}_Cal_{angle}\"], bins=30, show_plot=False)\n",
    "            pio.write_image(fig, plotdir+f\"histo/angles/{probe}_Cal_{angle}.pdf\")\n",
    "            pio.write_image(fig, plotdir+f\"histo/angles/{probe}_Cal_{angle}.png\")\n",
    "\n",
    "    ## PLOT ANGLE\n",
    "    for probe in probes:\n",
    "        for angle in [\"Transverse\", \"Theta\", \"Phi\"]:\n",
    "            fig = scatter2d(df.index, df[f\"{probe}_Cal_{angle}\"], show_plot=False)\n",
    "            pio.write_image(fig, plotdir+f\"time/angles/{probe}_Cal_{angle}.pdf\")\n",
    "            pio.write_image(fig, plotdir+f\"time/angles/{probe}_Cal_{angle}.png\")\n",
    "\n",
    "    ## PLOT ANGLES RAW\n",
    "    for probe in probes:\n",
    "        for angle in [\"Transverse\", \"Theta\", \"Phi\"]:\n",
    "            fig = histo(df[f\"{probe}_Raw_{angle}\"], bins=30, show_plot=False)\n",
    "            pio.write_image(fig, plotdir+f\"histo/angles/{probe}_Raw_{angle}.pdf\")\n",
    "            pio.write_image(fig, plotdir+f\"histo/angles/{probe}_Raw_{angle}.png\")\n",
    "\n",
    "    for probe in probes:\n",
    "        for angle in [\"Transverse\", \"Theta\", \"Phi\"]:\n",
    "            fig = scatter2d(df.index, df[f\"{probe}_Raw_{angle}\"], show_plot=False)\n",
    "            pio.write_image(fig, plotdir+f\"time/angles/{probe}_Raw_{angle}.pdf\")\n",
    "            pio.write_image(fig, plotdir+f\"time/angles/{probe}_Raw_{angle}.png\")"
   ]
  },
  {
   "cell_type": "code",
   "execution_count": 27,
   "metadata": {
    "hidden": true
   },
   "outputs": [],
   "source": [
    "df.to_pickle(pkl_dir+pkl_file_slow)"
   ]
  },
  {
   "cell_type": "code",
   "execution_count": 28,
   "metadata": {
    "hidden": true
   },
   "outputs": [
    {
     "data": {
      "text/plain": [
       "29.388072"
      ]
     },
     "execution_count": 28,
     "metadata": {},
     "output_type": "execute_result"
    }
   ],
   "source": [
    "getsizeof(df) / 1000/1000"
   ]
  },
  {
   "cell_type": "code",
   "execution_count": 29,
   "metadata": {
    "hidden": true
   },
   "outputs": [
    {
     "name": "stdout",
     "output_type": "stream",
     "text": [
      "<class 'pandas.core.frame.DataFrame'>\n",
      "DatetimeIndex: 23019 entries, 2020-01-27 11:53:07 to 2020-02-12 11:30:27\n",
      "Columns: 150 entries, Time to DF0000000D5E803A_Raw_Phi\n",
      "dtypes: float64(149), object(1)\n",
      "memory usage: 26.5+ MB\n"
     ]
    }
   ],
   "source": [
    "df.info()"
   ]
  },
  {
   "cell_type": "markdown",
   "metadata": {},
   "source": [
    "## Plotting"
   ]
  },
  {
   "cell_type": "markdown",
   "metadata": {},
   "source": [
    "### Gen Plots"
   ]
  },
  {
   "cell_type": "code",
   "execution_count": 8,
   "metadata": {},
   "outputs": [],
   "source": [
    "fig = scatter2d(df[\"DF0000000D5E803A_Cal_T\"], df[\"NMR [T]\"], inline=False)"
   ]
  },
  {
   "cell_type": "code",
   "execution_count": 9,
   "metadata": {},
   "outputs": [],
   "source": [
    "fig = scatter2d(df[\"Yoke (center magnet)\"], df[\"NMR [T]\"], inline=False)"
   ]
  },
  {
   "cell_type": "code",
   "execution_count": 10,
   "metadata": {},
   "outputs": [],
   "source": [
    "fig = scatter2d( df[\"NMR [T]\"],df[\"DF0000000D5E803A_Cal_Bmag\"], inline=False)"
   ]
  },
  {
   "cell_type": "code",
   "execution_count": 15,
   "metadata": {},
   "outputs": [],
   "source": [
    "fig = scatter2d( df[\"DF0000000D5E803A_Cal_T\"],(df[\"DF0000000D5E803A_Cal_X\"]-df[\"NMR [T]\"])/df[\"NMR [T]\"], markers=True, lines=False, inline=False)"
   ]
  },
  {
   "cell_type": "code",
   "execution_count": 30,
   "metadata": {
    "scrolled": true
   },
   "outputs": [
    {
     "data": {
      "text/html": [
       "<div>\n",
       "<style scoped>\n",
       "    .dataframe tbody tr th:only-of-type {\n",
       "        vertical-align: middle;\n",
       "    }\n",
       "\n",
       "    .dataframe tbody tr th {\n",
       "        vertical-align: top;\n",
       "    }\n",
       "\n",
       "    .dataframe thead th {\n",
       "        text-align: right;\n",
       "    }\n",
       "</style>\n",
       "<table border=\"1\" class=\"dataframe\">\n",
       "  <thead>\n",
       "    <tr style=\"text-align: right;\">\n",
       "      <th></th>\n",
       "      <th>Time</th>\n",
       "      <th>Magnet Current [A]</th>\n",
       "      <th>Magnet Voltage [V]</th>\n",
       "      <th>Coil 1 (new)</th>\n",
       "      <th>Coil 2 (old)</th>\n",
       "      <th>LCW in Coil1</th>\n",
       "      <th>LCW out Coil 1</th>\n",
       "      <th>LCW in Coil 2</th>\n",
       "      <th>LCW out Coil 2</th>\n",
       "      <th>Yoke</th>\n",
       "      <th>...</th>\n",
       "      <th>DF0000000D5E803A_Cal_Phi</th>\n",
       "      <th>6A0000000D61333A_Raw_Transverse</th>\n",
       "      <th>6A0000000D61333A_Raw_Theta</th>\n",
       "      <th>6A0000000D61333A_Raw_Phi</th>\n",
       "      <th>C50000000D5E473A_Raw_Transverse</th>\n",
       "      <th>C50000000D5E473A_Raw_Theta</th>\n",
       "      <th>C50000000D5E473A_Raw_Phi</th>\n",
       "      <th>DF0000000D5E803A_Raw_Transverse</th>\n",
       "      <th>DF0000000D5E803A_Raw_Theta</th>\n",
       "      <th>DF0000000D5E803A_Raw_Phi</th>\n",
       "    </tr>\n",
       "    <tr>\n",
       "      <th>Datetime</th>\n",
       "      <th></th>\n",
       "      <th></th>\n",
       "      <th></th>\n",
       "      <th></th>\n",
       "      <th></th>\n",
       "      <th></th>\n",
       "      <th></th>\n",
       "      <th></th>\n",
       "      <th></th>\n",
       "      <th></th>\n",
       "      <th></th>\n",
       "      <th></th>\n",
       "      <th></th>\n",
       "      <th></th>\n",
       "      <th></th>\n",
       "      <th></th>\n",
       "      <th></th>\n",
       "      <th></th>\n",
       "      <th></th>\n",
       "      <th></th>\n",
       "      <th></th>\n",
       "    </tr>\n",
       "  </thead>\n",
       "  <tbody>\n",
       "    <tr>\n",
       "      <th>2020-02-12 11:30:27</th>\n",
       "      <td>2/12/2020 11:30:27 AM</td>\n",
       "      <td>240.0706</td>\n",
       "      <td>28.651067</td>\n",
       "      <td>32.329288</td>\n",
       "      <td>30.131769</td>\n",
       "      <td>8.32542</td>\n",
       "      <td>10.983446</td>\n",
       "      <td>13.566287</td>\n",
       "      <td>14.512237</td>\n",
       "      <td>22.224464</td>\n",
       "      <td>...</td>\n",
       "      <td>1.56294</td>\n",
       "      <td>539.726783</td>\n",
       "      <td>0.128991</td>\n",
       "      <td>0.757882</td>\n",
       "      <td>59928.373313</td>\n",
       "      <td>1.254132</td>\n",
       "      <td>1.244276</td>\n",
       "      <td>3.387744e+06</td>\n",
       "      <td>1.56076</td>\n",
       "      <td>1.113235</td>\n",
       "    </tr>\n",
       "  </tbody>\n",
       "</table>\n",
       "<p>1 rows × 150 columns</p>\n",
       "</div>"
      ],
      "text/plain": [
       "                                      Time  Magnet Current [A]  \\\n",
       "Datetime                                                         \n",
       "2020-02-12 11:30:27  2/12/2020 11:30:27 AM            240.0706   \n",
       "\n",
       "                     Magnet Voltage [V]  Coil 1 (new)  Coil 2 (old)  \\\n",
       "Datetime                                                              \n",
       "2020-02-12 11:30:27           28.651067     32.329288     30.131769   \n",
       "\n",
       "                     LCW in Coil1  LCW out Coil 1  LCW in Coil 2  \\\n",
       "Datetime                                                           \n",
       "2020-02-12 11:30:27       8.32542       10.983446      13.566287   \n",
       "\n",
       "                     LCW out Coil 2       Yoke            ...             \\\n",
       "Datetime                                                  ...              \n",
       "2020-02-12 11:30:27       14.512237  22.224464            ...              \n",
       "\n",
       "                     DF0000000D5E803A_Cal_Phi  \\\n",
       "Datetime                                        \n",
       "2020-02-12 11:30:27                   1.56294   \n",
       "\n",
       "                     6A0000000D61333A_Raw_Transverse  \\\n",
       "Datetime                                               \n",
       "2020-02-12 11:30:27                       539.726783   \n",
       "\n",
       "                     6A0000000D61333A_Raw_Theta  6A0000000D61333A_Raw_Phi  \\\n",
       "Datetime                                                                    \n",
       "2020-02-12 11:30:27                    0.128991                  0.757882   \n",
       "\n",
       "                     C50000000D5E473A_Raw_Transverse  \\\n",
       "Datetime                                               \n",
       "2020-02-12 11:30:27                     59928.373313   \n",
       "\n",
       "                     C50000000D5E473A_Raw_Theta  C50000000D5E473A_Raw_Phi  \\\n",
       "Datetime                                                                    \n",
       "2020-02-12 11:30:27                    1.254132                  1.244276   \n",
       "\n",
       "                     DF0000000D5E803A_Raw_Transverse  \\\n",
       "Datetime                                               \n",
       "2020-02-12 11:30:27                     3.387744e+06   \n",
       "\n",
       "                     DF0000000D5E803A_Raw_Theta  DF0000000D5E803A_Raw_Phi  \n",
       "Datetime                                                                   \n",
       "2020-02-12 11:30:27                     1.56076                  1.113235  \n",
       "\n",
       "[1 rows x 150 columns]"
      ]
     },
     "execution_count": 30,
     "metadata": {},
     "output_type": "execute_result"
    }
   ],
   "source": [
    "df.tail(1)"
   ]
  },
  {
   "cell_type": "code",
   "execution_count": 31,
   "metadata": {
    "scrolled": true
   },
   "outputs": [
    {
     "data": {
      "text/plain": [
       "23019"
      ]
     },
     "execution_count": 31,
     "metadata": {},
     "output_type": "execute_result"
    }
   ],
   "source": [
    "len(df)"
   ]
  },
  {
   "cell_type": "code",
   "execution_count": 32,
   "metadata": {},
   "outputs": [
    {
     "data": {
      "text/plain": [
       "13.321180555555555"
      ]
     },
     "execution_count": 32,
     "metadata": {},
     "output_type": "execute_result"
    }
   ],
   "source": [
    "len(df) * 50 / 60 / 60 / 24"
   ]
  },
  {
   "cell_type": "code",
   "execution_count": null,
   "metadata": {},
   "outputs": [],
   "source": []
  },
  {
   "cell_type": "code",
   "execution_count": 33,
   "metadata": {},
   "outputs": [],
   "source": [
    "fig = histo(df[\"NMR [T]\"], bins=50, inline=False)"
   ]
  },
  {
   "cell_type": "code",
   "execution_count": null,
   "metadata": {},
   "outputs": [],
   "source": []
  },
  {
   "cell_type": "code",
   "execution_count": 34,
   "metadata": {},
   "outputs": [],
   "source": [
    "fig = scatter2d(3*[df.index], [df[col+\"_Cal_Bmag\"] for col in probes], inline=False);"
   ]
  },
  {
   "cell_type": "code",
   "execution_count": 35,
   "metadata": {},
   "outputs": [],
   "source": [
    "fig = scatter2d(2*[df.index], [df[\"NMR [T]\"], df[f\"{probe}_Cal_Bmag\"]], show_plot=False);"
   ]
  },
  {
   "cell_type": "code",
   "execution_count": 36,
   "metadata": {},
   "outputs": [
    {
     "data": {
      "text/plain": [
       "'temp-plot.html'"
      ]
     },
     "execution_count": 36,
     "metadata": {},
     "output_type": "execute_result"
    }
   ],
   "source": [
    "plot(fig)"
   ]
  },
  {
   "cell_type": "code",
   "execution_count": 37,
   "metadata": {},
   "outputs": [],
   "source": [
    "fig = scatter2d(df.index, df[f\"{probe}_Cal_Res_Rel\"], show_plot=False);"
   ]
  },
  {
   "cell_type": "code",
   "execution_count": 38,
   "metadata": {},
   "outputs": [
    {
     "data": {
      "text/plain": [
       "'temp-plot.html'"
      ]
     },
     "execution_count": 38,
     "metadata": {},
     "output_type": "execute_result"
    }
   ],
   "source": [
    "plot(fig)"
   ]
  },
  {
   "cell_type": "code",
   "execution_count": 39,
   "metadata": {},
   "outputs": [],
   "source": [
    "fig = scatter2d(df[f\"{probe}_Cal_T\"], df[f\"{probe}_Cal_Res_Rel\"], df.days_delta, inline=False);"
   ]
  },
  {
   "cell_type": "code",
   "execution_count": 40,
   "metadata": {},
   "outputs": [],
   "source": [
    "fig = scatter2d(df[\"Roof\"], df[f\"{probe}_Cal_Res_Rel\"], df.days_delta, inline=False);"
   ]
  },
  {
   "cell_type": "markdown",
   "metadata": {},
   "source": [
    "~ -2e-4 change in residual after changing temperature (+7 deg C)."
   ]
  },
  {
   "cell_type": "markdown",
   "metadata": {},
   "source": [
    "**(old, early Run06)**\n",
    "~ -5e-5 change in residual after changing temperature (+4 deg C)."
   ]
  },
  {
   "cell_type": "code",
   "execution_count": 41,
   "metadata": {},
   "outputs": [
    {
     "data": {
      "text/plain": [
       "'temp-plot.html'"
      ]
     },
     "execution_count": 41,
     "metadata": {},
     "output_type": "execute_result"
    }
   ],
   "source": [
    "fig = histo(df[f\"{probe}_Cal_Res_Rel\"], bins=75, show_plot=False);\n",
    "plot(fig)\n",
    "#fig = histo(df[f\"{probe}_Cal_Res_Rel\"], bins=50, yscale='log')"
   ]
  },
  {
   "cell_type": "code",
   "execution_count": 42,
   "metadata": {},
   "outputs": [],
   "source": [
    "df[\"day\"] = df.index.day"
   ]
  },
  {
   "cell_type": "code",
   "execution_count": 43,
   "metadata": {},
   "outputs": [],
   "source": [
    "fig = px.histogram(df, x=f\"{probe}_Cal_Res_Rel\", color=\"day\")"
   ]
  },
  {
   "cell_type": "code",
   "execution_count": 44,
   "metadata": {},
   "outputs": [],
   "source": [
    "fig.update_layout(\n",
    "    autosize=False,\n",
    "    width=1800,\n",
    "    height=800\n",
    "    #margin=dict(l=20, r=20, t=20, b=20),\n",
    "    #padding=dict(l=20, r=20, t=20, b=20),\n",
    "    #paper_bgcolor=\"LightSteelBlue\",\n",
    ");"
   ]
  },
  {
   "cell_type": "code",
   "execution_count": 45,
   "metadata": {},
   "outputs": [],
   "source": [
    "#fig.show()"
   ]
  },
  {
   "cell_type": "code",
   "execution_count": 46,
   "metadata": {},
   "outputs": [
    {
     "data": {
      "text/plain": [
       "'temp-plot.html'"
      ]
     },
     "execution_count": 46,
     "metadata": {},
     "output_type": "execute_result"
    }
   ],
   "source": [
    "plot(fig)"
   ]
  },
  {
   "cell_type": "markdown",
   "metadata": {},
   "source": [
    "### Temps"
   ]
  },
  {
   "cell_type": "code",
   "execution_count": 47,
   "metadata": {},
   "outputs": [],
   "source": [
    "temps_ch = [a for a in df.columns if (\"CH\" in a) and int(a[-2:])<21]# or \"HVAC\" in a]\n",
    "temps_ch.append(\"Hall Element\")\n",
    "temps_ch.append(\"Floor\")\n",
    "temps_ch.append(\"Roof\")\n",
    "temps_ch.append(\"Yoke\")\n",
    "temps_ch.append(\"Yoke (center magnet)\")\n",
    "temps_ch.append(f\"{probe}_Cal_T\")"
   ]
  },
  {
   "cell_type": "code",
   "execution_count": 48,
   "metadata": {},
   "outputs": [],
   "source": [
    "#temps_ch"
   ]
  },
  {
   "cell_type": "code",
   "execution_count": 49,
   "metadata": {},
   "outputs": [],
   "source": [
    "fig = scatter2d([df.index for c in temps_ch],[df[c] for c in temps_ch],inline=True, show_plot=False);\n",
    "fig.layout.title = \"Temp vs. Datetime\"\n",
    "fig.layout.yaxis.title = \"Temp [deg. C]\";"
   ]
  },
  {
   "cell_type": "code",
   "execution_count": 50,
   "metadata": {},
   "outputs": [
    {
     "data": {
      "text/plain": [
       "'/home/ckampa/Coding/hallprobecalib_extras/plots/hall_probe_stability/2020-01-27/time/temps/temps_scatter_full.html'"
      ]
     },
     "execution_count": 50,
     "metadata": {},
     "output_type": "execute_result"
    }
   ],
   "source": [
    "#fname = 'temps_scatter'\n",
    "fname = 'time/temps/temps_scatter_full'\n",
    "pio.write_image(fig, plotdir+fname+'.pdf')\n",
    "pio.write_image(fig, plotdir+fname+'.png')\n",
    "plot(fig, filename=plotdir+fname+'.html', auto_open=False)"
   ]
  },
  {
   "cell_type": "code",
   "execution_count": 51,
   "metadata": {},
   "outputs": [
    {
     "data": {
      "text/plain": [
       "'temp-plot.html'"
      ]
     },
     "execution_count": 51,
     "metadata": {},
     "output_type": "execute_result"
    }
   ],
   "source": [
    "plot(fig)"
   ]
  },
  {
   "cell_type": "code",
   "execution_count": 56,
   "metadata": {},
   "outputs": [],
   "source": [
    "temps_water = [col for col in df.columns if (\"ICW\" in col) or (\"LCW\" in col)]"
   ]
  },
  {
   "cell_type": "code",
   "execution_count": 105,
   "metadata": {},
   "outputs": [],
   "source": [
    "#temps_water"
   ]
  },
  {
   "cell_type": "code",
   "execution_count": 57,
   "metadata": {},
   "outputs": [],
   "source": [
    "fig = scatter2d([df.index for c in temps_water],[df[c] for c in temps_water],inline=True, show_plot=False);\n",
    "fig.layout.title = \"Water Temp vs. Datetime\"\n",
    "fig.layout.yaxis.title = \"Temp [deg. C]\""
   ]
  },
  {
   "cell_type": "code",
   "execution_count": 58,
   "metadata": {},
   "outputs": [
    {
     "data": {
      "text/plain": [
       "'temp-plot.html'"
      ]
     },
     "execution_count": 58,
     "metadata": {},
     "output_type": "execute_result"
    }
   ],
   "source": [
    "#fig.show()\n",
    "plot(fig)"
   ]
  },
  {
   "cell_type": "code",
   "execution_count": 59,
   "metadata": {},
   "outputs": [
    {
     "data": {
      "text/plain": [
       "'/home/ckampa/Coding/hallprobecalib_extras/plots/hall_probe_stability/2020-01-27/time/temps/temps_scatter_water.html'"
      ]
     },
     "execution_count": 59,
     "metadata": {},
     "output_type": "execute_result"
    }
   ],
   "source": [
    "#fname = 'temps_scatter'\n",
    "fname = 'time/temps/temps_scatter_water'\n",
    "pio.write_image(fig, plotdir+fname+'.pdf')\n",
    "pio.write_image(fig, plotdir+fname+'.png')\n",
    "plot(fig, filename=plotdir+fname+'.html', auto_open=False)"
   ]
  },
  {
   "cell_type": "code",
   "execution_count": 60,
   "metadata": {},
   "outputs": [],
   "source": [
    "temps_ambient = [col for col in df.columns if (\"Ambient\" in col)]\n",
    "#temps_ambient"
   ]
  },
  {
   "cell_type": "code",
   "execution_count": 61,
   "metadata": {},
   "outputs": [
    {
     "data": {
      "text/plain": [
       "'temp-plot.html'"
      ]
     },
     "execution_count": 61,
     "metadata": {},
     "output_type": "execute_result"
    }
   ],
   "source": [
    "fig = scatter2d([df.index for c in temps_ambient],[df[c] for c in temps_ambient],inline=True, show_plot=False);\n",
    "fig.layout.title = \"Ambient Temp vs. Datetime\"\n",
    "fig.layout.yaxis.title = \"Temp [deg. C]\"\n",
    "#fig.show()\n",
    "plot(fig)"
   ]
  },
  {
   "cell_type": "code",
   "execution_count": 62,
   "metadata": {},
   "outputs": [
    {
     "data": {
      "text/plain": [
       "'/home/ckampa/Coding/hallprobecalib_extras/plots/hall_probe_stability/2020-01-27/time/temps/temps_scatter_ambient.html'"
      ]
     },
     "execution_count": 62,
     "metadata": {},
     "output_type": "execute_result"
    }
   ],
   "source": [
    "#fname = 'temps_scatter'\n",
    "fname = 'time/temps/temps_scatter_ambient'\n",
    "pio.write_image(fig, plotdir+fname+'.pdf')\n",
    "pio.write_image(fig, plotdir+fname+'.png')\n",
    "plot(fig, filename=plotdir+fname+'.html', auto_open=False)"
   ]
  },
  {
   "cell_type": "code",
   "execution_count": 63,
   "metadata": {},
   "outputs": [],
   "source": [
    "temps_magnet = [col for col in df.columns if ((\"PS\" in col) or (\"Coil\" in col) or (\"Yoke\" in col)) and (\"Orange\" not in col)]\n",
    "#temps_magnet"
   ]
  },
  {
   "cell_type": "code",
   "execution_count": 64,
   "metadata": {},
   "outputs": [
    {
     "data": {
      "text/plain": [
       "'temp-plot.html'"
      ]
     },
     "execution_count": 64,
     "metadata": {},
     "output_type": "execute_result"
    }
   ],
   "source": [
    "fig = scatter2d([df.index for c in temps_magnet],[df[c] for c in temps_magnet],inline=True, show_plot=False);\n",
    "fig.layout.title = \"Magnet Temp vs. Datetime\"\n",
    "fig.layout.yaxis.title = \"Temp [deg. C]\"\n",
    "#fig.show()\n",
    "plot(fig)"
   ]
  },
  {
   "cell_type": "code",
   "execution_count": 65,
   "metadata": {},
   "outputs": [
    {
     "data": {
      "text/plain": [
       "'/home/ckampa/Coding/hallprobecalib_extras/plots/hall_probe_stability/2020-01-27/time/temps/temps_scatter_magnet.html'"
      ]
     },
     "execution_count": 65,
     "metadata": {},
     "output_type": "execute_result"
    }
   ],
   "source": [
    "#fname = 'temps_scatter'\n",
    "fname = 'time/temps/temps_scatter_magnet'\n",
    "pio.write_image(fig, plotdir+fname+'.pdf')\n",
    "pio.write_image(fig, plotdir+fname+'.png')\n",
    "plot(fig, filename=plotdir+fname+'.html', auto_open=False)"
   ]
  },
  {
   "cell_type": "markdown",
   "metadata": {},
   "source": [
    "## Seeing Temperature Corrections"
   ]
  },
  {
   "cell_type": "code",
   "execution_count": 66,
   "metadata": {},
   "outputs": [],
   "source": [
    "fig = scatter2d(df[f\"{probe}_Cal_T\"], df[\"NMR [T]\"], df.days_delta, show_plot=False)"
   ]
  },
  {
   "cell_type": "code",
   "execution_count": 67,
   "metadata": {},
   "outputs": [
    {
     "data": {
      "text/plain": [
       "'temp-plot.html'"
      ]
     },
     "execution_count": 67,
     "metadata": {},
     "output_type": "execute_result"
    }
   ],
   "source": [
    "plot(fig)"
   ]
  },
  {
   "cell_type": "code",
   "execution_count": 68,
   "metadata": {},
   "outputs": [],
   "source": [
    "fig = scatter2d(df[f\"{probe}_Cal_T\"], df[f\"{probe}_Cal_Bmag\"] / df[\"NMR [T]\"], df.days_delta, inline=False)"
   ]
  },
  {
   "cell_type": "code",
   "execution_count": 69,
   "metadata": {},
   "outputs": [],
   "source": [
    "fig = scatter2d(df[f\"{probe}_Cal_T\"], df[f\"{probe}_Raw_Bmag\"] / df[\"NMR [T]\"], df.days_delta, inline=False)"
   ]
  },
  {
   "cell_type": "code",
   "execution_count": 70,
   "metadata": {},
   "outputs": [],
   "source": [
    "fig = scatter2d(df[f\"{probe}_Cal_T\"], df[f\"{probe}_Raw_Bmag\"], df.days_delta, inline=False)"
   ]
  },
  {
   "cell_type": "code",
   "execution_count": 71,
   "metadata": {},
   "outputs": [],
   "source": [
    "fig = scatter2d(3*[df[f\"{probe}_Cal_T\"]], [df[f\"{probe}_Raw_{comp}\"] / df[\"NMR [T]\"] for comp in [\"X\",\"Y\",\"Z\"]],\n",
    "                3*[df.days_delta], inline=False)"
   ]
  },
  {
   "cell_type": "code",
   "execution_count": 72,
   "metadata": {},
   "outputs": [],
   "source": [
    "fig = scatter2d(df.index, df[f\"{probe}_Raw_Theta\"], df.days_delta, inline=False)"
   ]
  },
  {
   "cell_type": "code",
   "execution_count": 73,
   "metadata": {},
   "outputs": [],
   "source": [
    "fig = scatter2d(df.index, df[f\"{probe}_Raw_Phi\"], df.days_delta, inline=False)"
   ]
  },
  {
   "cell_type": "markdown",
   "metadata": {},
   "source": [
    "### Fit!"
   ]
  },
  {
   "cell_type": "code",
   "execution_count": 52,
   "metadata": {},
   "outputs": [],
   "source": [
    "df = df[df[\"NMR [T]\"] != 0]"
   ]
  },
  {
   "cell_type": "code",
   "execution_count": 53,
   "metadata": {},
   "outputs": [],
   "source": [
    "def volt(temp, A, B):\n",
    "    return A * temp + B"
   ]
  },
  {
   "cell_type": "code",
   "execution_count": 54,
   "metadata": {},
   "outputs": [],
   "source": [
    "guess = np.array([-1300 / 3.5, 2e6]) # A, B"
   ]
  },
  {
   "cell_type": "code",
   "execution_count": 55,
   "metadata": {},
   "outputs": [],
   "source": [
    "x_dat = df[f\"{probe}_Cal_T\"]\n",
    "#x_dat = df[stable_temp][f\"{probe}_Cal_T\"]"
   ]
  },
  {
   "cell_type": "code",
   "execution_count": 56,
   "metadata": {},
   "outputs": [],
   "source": [
    "params, cov = optimization.curve_fit(volt, x_dat, df[f\"{probe}_Raw_Bmag\"] / df[\"NMR [T]\"], guess)\n",
    "#params, cov = optimization.curve_fit(volt, x_dat, \n",
    "#                                     df[stable_temp][f\"{probe}_Raw_Bmag\"] / df[stable_temp][\"NMR [T]\"], guess)"
   ]
  },
  {
   "cell_type": "code",
   "execution_count": 57,
   "metadata": {},
   "outputs": [
    {
     "data": {
      "text/plain": [
       "(array([-1.18040565e+03,  2.83879530e+06]), array([[ 0.04191652, -0.88642618],\n",
       "        [-0.88642618, 19.31005472]]))"
      ]
     },
     "execution_count": 57,
     "metadata": {},
     "output_type": "execute_result"
    }
   ],
   "source": [
    "params, cov"
   ]
  },
  {
   "cell_type": "code",
   "execution_count": 58,
   "metadata": {},
   "outputs": [
    {
     "data": {
      "text/plain": [
       "0.20473523980511196"
      ]
     },
     "execution_count": 58,
     "metadata": {},
     "output_type": "execute_result"
    }
   ],
   "source": [
    "np.sqrt(cov[0,0])"
   ]
  },
  {
   "cell_type": "code",
   "execution_count": 59,
   "metadata": {},
   "outputs": [
    {
     "data": {
      "text/plain": [
       "-0.985276720331901"
      ]
     },
     "execution_count": 59,
     "metadata": {},
     "output_type": "execute_result"
    }
   ],
   "source": [
    "cov[0,1] / (np.sqrt(cov[0,0])*np.sqrt(cov[1,1]))"
   ]
  },
  {
   "cell_type": "markdown",
   "metadata": {},
   "source": [
    "Parameters have strong correlation"
   ]
  },
  {
   "cell_type": "code",
   "execution_count": 60,
   "metadata": {},
   "outputs": [],
   "source": [
    "A_fit, B_fit = params"
   ]
  },
  {
   "cell_type": "code",
   "execution_count": 61,
   "metadata": {},
   "outputs": [],
   "source": [
    "df[\"Bmag_lsq\"] = volt(x_dat, A_fit, B_fit)"
   ]
  },
  {
   "cell_type": "code",
   "execution_count": 84,
   "metadata": {},
   "outputs": [
    {
     "data": {
      "text/plain": [
       "'temp-plot.html'"
      ]
     },
     "execution_count": 84,
     "metadata": {},
     "output_type": "execute_result"
    }
   ],
   "source": [
    "fig = scatter2d(df[f\"{probe}_Cal_T\"], df[f\"{probe}_Raw_Bmag\"] / df[\"NMR [T]\"], df.days_delta, show_plot=False)\n",
    "#d = [df[f\"{probe}_Raw_X\"].min(), df[f\"{probe}_Raw_X\"].max()]\n",
    "fig.add_trace(go.Scatter(\n",
    "                    x=df[f\"{probe}_Cal_T\"], y=df[\"Bmag_lsq\"],\n",
    "                    mode='lines', name=\"unity\",\n",
    "                    line=dict(color='deeppink', width=2,\n",
    "                              dash='dash')));\n",
    "plot(fig)"
   ]
  },
  {
   "cell_type": "code",
   "execution_count": 85,
   "metadata": {},
   "outputs": [],
   "source": [
    "fig.update_traces(marker=dict(size=5));\n",
    "plot(fig);"
   ]
  },
  {
   "cell_type": "markdown",
   "metadata": {},
   "source": [
    "Bmag fit looks pretty good so far (4 data points)."
   ]
  },
  {
   "cell_type": "markdown",
   "metadata": {},
   "source": [
    "## Aggregate data"
   ]
  },
  {
   "cell_type": "code",
   "execution_count": 86,
   "metadata": {},
   "outputs": [],
   "source": [
    "#df[\"Floor\"].diff(5).rolling(5).mean().head()"
   ]
  },
  {
   "cell_type": "code",
   "execution_count": 62,
   "metadata": {},
   "outputs": [],
   "source": [
    "#fig = scatter2d(df.index, df[\"Floor\"].diff(5).rolling(5).mean(), inline=False)\n",
    "fig = scatter2d(2*[df.index], [df[\"Floor\"],df[\"Floor\"].diff(5).rolling(5).mean()], inline=False)"
   ]
  },
  {
   "cell_type": "code",
   "execution_count": 63,
   "metadata": {},
   "outputs": [],
   "source": [
    "#stable_temp = (abs(df[\"Floor\"].diff(5).rolling(5).mean()) < 0.008) #| (np.isnan(df[\"Floor\"].diff(5)))\n",
    "stable_temp = (abs(df[\"Floor\"].diff(5).rolling(5).mean()) < 0.025) #| (np.isnan(df[\"Floor\"].diff(5)))"
   ]
  },
  {
   "cell_type": "code",
   "execution_count": 64,
   "metadata": {},
   "outputs": [],
   "source": [
    "df_ = df[stable_temp]"
   ]
  },
  {
   "cell_type": "code",
   "execution_count": 65,
   "metadata": {},
   "outputs": [
    {
     "data": {
      "text/plain": [
       "(23019, 22119)"
      ]
     },
     "execution_count": 65,
     "metadata": {},
     "output_type": "execute_result"
    }
   ],
   "source": [
    "len(df), len(df_)"
   ]
  },
  {
   "cell_type": "code",
   "execution_count": 66,
   "metadata": {},
   "outputs": [
    {
     "data": {
      "text/html": [
       "<div>\n",
       "<style scoped>\n",
       "    .dataframe tbody tr th:only-of-type {\n",
       "        vertical-align: middle;\n",
       "    }\n",
       "\n",
       "    .dataframe tbody tr th {\n",
       "        vertical-align: top;\n",
       "    }\n",
       "\n",
       "    .dataframe thead th {\n",
       "        text-align: right;\n",
       "    }\n",
       "</style>\n",
       "<table border=\"1\" class=\"dataframe\">\n",
       "  <thead>\n",
       "    <tr style=\"text-align: right;\">\n",
       "      <th></th>\n",
       "      <th>Time</th>\n",
       "      <th>Magnet Current [A]</th>\n",
       "      <th>Magnet Voltage [V]</th>\n",
       "      <th>Coil 1 (new)</th>\n",
       "      <th>Coil 2 (old)</th>\n",
       "      <th>LCW in Coil1</th>\n",
       "      <th>LCW out Coil 1</th>\n",
       "      <th>LCW in Coil 2</th>\n",
       "      <th>LCW out Coil 2</th>\n",
       "      <th>Yoke</th>\n",
       "      <th>...</th>\n",
       "      <th>6A0000000D61333A_Raw_Theta</th>\n",
       "      <th>6A0000000D61333A_Raw_Phi</th>\n",
       "      <th>C50000000D5E473A_Raw_Transverse</th>\n",
       "      <th>C50000000D5E473A_Raw_Theta</th>\n",
       "      <th>C50000000D5E473A_Raw_Phi</th>\n",
       "      <th>DF0000000D5E803A_Raw_Transverse</th>\n",
       "      <th>DF0000000D5E803A_Raw_Theta</th>\n",
       "      <th>DF0000000D5E803A_Raw_Phi</th>\n",
       "      <th>day</th>\n",
       "      <th>Bmag_lsq</th>\n",
       "    </tr>\n",
       "    <tr>\n",
       "      <th>Datetime</th>\n",
       "      <th></th>\n",
       "      <th></th>\n",
       "      <th></th>\n",
       "      <th></th>\n",
       "      <th></th>\n",
       "      <th></th>\n",
       "      <th></th>\n",
       "      <th></th>\n",
       "      <th></th>\n",
       "      <th></th>\n",
       "      <th></th>\n",
       "      <th></th>\n",
       "      <th></th>\n",
       "      <th></th>\n",
       "      <th></th>\n",
       "      <th></th>\n",
       "      <th></th>\n",
       "      <th></th>\n",
       "      <th></th>\n",
       "      <th></th>\n",
       "      <th></th>\n",
       "    </tr>\n",
       "  </thead>\n",
       "  <tbody>\n",
       "    <tr>\n",
       "      <th>2020-02-12 10:43:26</th>\n",
       "      <td>2/12/2020 10:43:26 AM</td>\n",
       "      <td>240.070883</td>\n",
       "      <td>28.632033</td>\n",
       "      <td>31.722984</td>\n",
       "      <td>29.564817</td>\n",
       "      <td>8.06336</td>\n",
       "      <td>10.695252</td>\n",
       "      <td>13.167009</td>\n",
       "      <td>14.173713</td>\n",
       "      <td>21.753210</td>\n",
       "      <td>...</td>\n",
       "      <td>0.130385</td>\n",
       "      <td>0.723302</td>\n",
       "      <td>59932.263006</td>\n",
       "      <td>1.252390</td>\n",
       "      <td>1.245125</td>\n",
       "      <td>3.391588e+06</td>\n",
       "      <td>1.562459</td>\n",
       "      <td>1.113487</td>\n",
       "      <td>12</td>\n",
       "      <td>2.809498e+06</td>\n",
       "    </tr>\n",
       "    <tr>\n",
       "      <th>2020-02-12 10:44:26</th>\n",
       "      <td>2/12/2020 10:44:26 AM</td>\n",
       "      <td>240.070940</td>\n",
       "      <td>28.632233</td>\n",
       "      <td>31.783482</td>\n",
       "      <td>29.606745</td>\n",
       "      <td>8.10455</td>\n",
       "      <td>10.739941</td>\n",
       "      <td>13.157190</td>\n",
       "      <td>14.219605</td>\n",
       "      <td>21.770008</td>\n",
       "      <td>...</td>\n",
       "      <td>0.117138</td>\n",
       "      <td>0.893853</td>\n",
       "      <td>59994.372544</td>\n",
       "      <td>1.252968</td>\n",
       "      <td>1.244613</td>\n",
       "      <td>3.391355e+06</td>\n",
       "      <td>1.562461</td>\n",
       "      <td>1.113479</td>\n",
       "      <td>12</td>\n",
       "      <td>2.809295e+06</td>\n",
       "    </tr>\n",
       "  </tbody>\n",
       "</table>\n",
       "<p>2 rows × 152 columns</p>\n",
       "</div>"
      ],
      "text/plain": [
       "                                      Time  Magnet Current [A]  \\\n",
       "Datetime                                                         \n",
       "2020-02-12 10:43:26  2/12/2020 10:43:26 AM          240.070883   \n",
       "2020-02-12 10:44:26  2/12/2020 10:44:26 AM          240.070940   \n",
       "\n",
       "                     Magnet Voltage [V]  Coil 1 (new)  Coil 2 (old)  \\\n",
       "Datetime                                                              \n",
       "2020-02-12 10:43:26           28.632033     31.722984     29.564817   \n",
       "2020-02-12 10:44:26           28.632233     31.783482     29.606745   \n",
       "\n",
       "                     LCW in Coil1  LCW out Coil 1  LCW in Coil 2  \\\n",
       "Datetime                                                           \n",
       "2020-02-12 10:43:26       8.06336       10.695252      13.167009   \n",
       "2020-02-12 10:44:26       8.10455       10.739941      13.157190   \n",
       "\n",
       "                     LCW out Coil 2       Yoke      ...       \\\n",
       "Datetime                                            ...        \n",
       "2020-02-12 10:43:26       14.173713  21.753210      ...        \n",
       "2020-02-12 10:44:26       14.219605  21.770008      ...        \n",
       "\n",
       "                     6A0000000D61333A_Raw_Theta  6A0000000D61333A_Raw_Phi  \\\n",
       "Datetime                                                                    \n",
       "2020-02-12 10:43:26                    0.130385                  0.723302   \n",
       "2020-02-12 10:44:26                    0.117138                  0.893853   \n",
       "\n",
       "                     C50000000D5E473A_Raw_Transverse  \\\n",
       "Datetime                                               \n",
       "2020-02-12 10:43:26                     59932.263006   \n",
       "2020-02-12 10:44:26                     59994.372544   \n",
       "\n",
       "                     C50000000D5E473A_Raw_Theta  C50000000D5E473A_Raw_Phi  \\\n",
       "Datetime                                                                    \n",
       "2020-02-12 10:43:26                    1.252390                  1.245125   \n",
       "2020-02-12 10:44:26                    1.252968                  1.244613   \n",
       "\n",
       "                     DF0000000D5E803A_Raw_Transverse  \\\n",
       "Datetime                                               \n",
       "2020-02-12 10:43:26                     3.391588e+06   \n",
       "2020-02-12 10:44:26                     3.391355e+06   \n",
       "\n",
       "                     DF0000000D5E803A_Raw_Theta  DF0000000D5E803A_Raw_Phi  \\\n",
       "Datetime                                                                    \n",
       "2020-02-12 10:43:26                    1.562459                  1.113487   \n",
       "2020-02-12 10:44:26                    1.562461                  1.113479   \n",
       "\n",
       "                     day      Bmag_lsq  \n",
       "Datetime                                \n",
       "2020-02-12 10:43:26   12  2.809498e+06  \n",
       "2020-02-12 10:44:26   12  2.809295e+06  \n",
       "\n",
       "[2 rows x 152 columns]"
      ]
     },
     "execution_count": 66,
     "metadata": {},
     "output_type": "execute_result"
    }
   ],
   "source": [
    "df_.tail(2)"
   ]
  },
  {
   "cell_type": "code",
   "execution_count": 67,
   "metadata": {},
   "outputs": [],
   "source": [
    "fig = scatter2d(df[stable_temp][f\"{probe}_Cal_T\"],\n",
    "                df[stable_temp][f\"{probe}_Raw_Bmag\"] / df[stable_temp][\"NMR [T]\"],\n",
    "                df[stable_temp].days_delta, show_plot=False)\n",
    "#d = [df[f\"{probe}_Raw_X\"].min(), df[f\"{probe}_Raw_X\"].max()]\n",
    "fig.add_trace(go.Scatter(\n",
    "                    x=df[stable_temp][f\"{probe}_Cal_T\"], y=df[stable_temp][\"Bmag_lsq\"],\n",
    "                    mode='lines', name=\"unity\",\n",
    "                    line=dict(color='deeppink', width=2,\n",
    "                              dash='dash')));\n",
    "#plot(fig)\n",
    "\n",
    "fig.update_traces(marker=dict(size=5));\n",
    "plot(fig);"
   ]
  },
  {
   "cell_type": "code",
   "execution_count": 68,
   "metadata": {},
   "outputs": [],
   "source": [
    "phi0 = df_.iloc[0][f\"{probe}_Raw_Phi\"]\n",
    "theta0 = df_.iloc[0][f\"{probe}_Raw_Theta\"]"
   ]
  },
  {
   "cell_type": "code",
   "execution_count": 69,
   "metadata": {},
   "outputs": [],
   "source": [
    "df_[\"ANGLE\"] = np.sqrt((df_[f\"{probe}_Raw_Theta\"]-theta0)**2 + (df_[f\"{probe}_Raw_Phi\"]-phi0)**2)"
   ]
  },
  {
   "cell_type": "code",
   "execution_count": 70,
   "metadata": {},
   "outputs": [],
   "source": [
    "fig = scatter2d(df_[\"ANGLE\"], df_[f'{probe}_Cal_Res_Rel'],df_.days_delta, inline=False)"
   ]
  },
  {
   "cell_type": "code",
   "execution_count": 71,
   "metadata": {},
   "outputs": [],
   "source": [
    "fig = scatter2d(df_[f'{probe}_Raw_Theta'], df_[f'{probe}_Cal_Res_Rel'],df_.days_delta, inline=False)"
   ]
  },
  {
   "cell_type": "code",
   "execution_count": null,
   "metadata": {},
   "outputs": [],
   "source": []
  },
  {
   "cell_type": "code",
   "execution_count": 64,
   "metadata": {},
   "outputs": [],
   "source": [
    "## NEW, do all at once"
   ]
  },
  {
   "cell_type": "code",
   "execution_count": 72,
   "metadata": {},
   "outputs": [],
   "source": [
    "df_[\"Scaled Hall Voltage\"] = df_[f\"{probe}_Raw_Bmag\"] / df_[\"NMR [T]\"] * df_[\"NMR [T]\"].iloc[0]\n",
    "df_[\"Scaled Hall X\"] = df_[f\"{probe}_Raw_X\"] / df_[\"NMR [T]\"] * df_[\"NMR [T]\"].iloc[0]\n",
    "df_[\"Scaled Hall Y\"] = df_[f\"{probe}_Raw_Y\"] / df_[\"NMR [T]\"] * df_[\"NMR [T]\"].iloc[0]\n",
    "df_[\"Scaled Hall Z\"] = df_[f\"{probe}_Raw_Z\"] / df_[\"NMR [T]\"] * df_[\"NMR [T]\"].iloc[0]"
   ]
  },
  {
   "cell_type": "code",
   "execution_count": 90,
   "metadata": {},
   "outputs": [],
   "source": [
    "w = 0.3\n",
    "ts = np.array([15.9, 17.7, 19.3, 21.2, 22.75, 24.58, 26.1])#16.0,16.8,18.6,20.3,22.0,23.8,25.35,27.0,28.0])\n",
    "ts_h = ts + w\n",
    "ts_l = ts - w"
   ]
  },
  {
   "cell_type": "code",
   "execution_count": 91,
   "metadata": {},
   "outputs": [
    {
     "data": {
      "text/plain": [
       "array([15.6 , 17.4 , 19.  , 20.9 , 22.45, 24.28, 25.8 ])"
      ]
     },
     "execution_count": 91,
     "metadata": {},
     "output_type": "execute_result"
    }
   ],
   "source": [
    "ts_l"
   ]
  },
  {
   "cell_type": "code",
   "execution_count": 92,
   "metadata": {},
   "outputs": [
    {
     "data": {
      "text/plain": [
       "array([16.2 , 18.  , 19.6 , 21.5 , 23.05, 24.88, 26.4 ])"
      ]
     },
     "execution_count": 92,
     "metadata": {},
     "output_type": "execute_result"
    }
   ],
   "source": [
    "ts_h"
   ]
  },
  {
   "cell_type": "code",
   "execution_count": 93,
   "metadata": {},
   "outputs": [],
   "source": [
    "maps = [((df_[f\"{probe}_Cal_T\"] > ts_l[i]) & (df_[f\"{probe}_Cal_T\"] < ts_h[i])) for i in range(len(ts))]"
   ]
  },
  {
   "cell_type": "code",
   "execution_count": 94,
   "metadata": {},
   "outputs": [
    {
     "data": {
      "text/plain": [
       "7"
      ]
     },
     "execution_count": 94,
     "metadata": {},
     "output_type": "execute_result"
    }
   ],
   "source": [
    "len(maps)"
   ]
  },
  {
   "cell_type": "code",
   "execution_count": 95,
   "metadata": {},
   "outputs": [],
   "source": [
    "map_full = maps[0]\n",
    "\n",
    "for m in maps[1:]:\n",
    "    map_full = map_full | m\n",
    "    "
   ]
  },
  {
   "cell_type": "code",
   "execution_count": 96,
   "metadata": {},
   "outputs": [
    {
     "data": {
      "text/plain": [
       "22113"
      ]
     },
     "execution_count": 96,
     "metadata": {},
     "output_type": "execute_result"
    }
   ],
   "source": [
    "len(df_[map_full])"
   ]
  },
  {
   "cell_type": "code",
   "execution_count": 97,
   "metadata": {},
   "outputs": [
    {
     "data": {
      "text/plain": [
       "22119"
      ]
     },
     "execution_count": 97,
     "metadata": {},
     "output_type": "execute_result"
    }
   ],
   "source": [
    "len(df_)"
   ]
  },
  {
   "cell_type": "code",
   "execution_count": 98,
   "metadata": {
    "code_folding": []
   },
   "outputs": [],
   "source": [
    "xs = np.zeros_like(ts)\n",
    "ys = np.zeros_like(ts)\n",
    "xerrs = np.zeros_like(ts)\n",
    "yerrs = np.zeros_like(ts)\n",
    "ns = np.zeros_like(ts)\n",
    "\n",
    "## calculate averages\n",
    "for i,m in enumerate(maps):\n",
    "    df_sp = df_[m]\n",
    "    ns[i] = len(df_sp)\n",
    "    xs[i] = df_sp[f\"{probe}_Cal_T\"].mean()\n",
    "    xerrs[i] = df_sp[f\"{probe}_Cal_T\"].std()\n",
    "    ys[i] = df_sp[\"Scaled Hall Voltage\"].mean()\n",
    "    yerrs[i] = df_sp[\"Scaled Hall Voltage\"].std()"
   ]
  },
  {
   "cell_type": "code",
   "execution_count": 99,
   "metadata": {},
   "outputs": [
    {
     "data": {
      "text/plain": [
       "array([15.89655233, 17.64736637, 19.34827515, 21.13672514, 22.81150658,\n",
       "       24.53801517, 26.19842398])"
      ]
     },
     "execution_count": 99,
     "metadata": {},
     "output_type": "execute_result"
    }
   ],
   "source": [
    "xs"
   ]
  },
  {
   "cell_type": "code",
   "execution_count": 100,
   "metadata": {},
   "outputs": [],
   "source": [
    "def volt(temp, A, B):\n",
    "    return A * temp + B"
   ]
  },
  {
   "cell_type": "code",
   "execution_count": 101,
   "metadata": {},
   "outputs": [],
   "source": [
    "guess = np.array([-1300 / 3.5, 2e6]) # A, B"
   ]
  },
  {
   "cell_type": "code",
   "execution_count": 102,
   "metadata": {},
   "outputs": [],
   "source": [
    "x_dat = df_[f\"{probe}_Cal_T\"]\n",
    "x_dat_avg = xs\n",
    "#x_dat = df[stable_temp][f\"{probe}_Cal_T\"]"
   ]
  },
  {
   "cell_type": "code",
   "execution_count": 103,
   "metadata": {},
   "outputs": [],
   "source": [
    "y_dat = df_[\"Scaled Hall Voltage\"]\n",
    "#y_dat = df_[\"Scaled Hall Z\"]\n",
    "#y_dat = df_[\"NMR [T]\"]"
   ]
  },
  {
   "cell_type": "code",
   "execution_count": 104,
   "metadata": {},
   "outputs": [],
   "source": [
    "params, cov = optimization.curve_fit(volt, x_dat, y_dat, guess)\n",
    "params_avg, cov_avg = optimization.curve_fit(volt, x_dat_avg, ys, guess)\n",
    "#params, cov = optimization.curve_fit(volt, x_dat, \n",
    "#                                     df[stable_temp][f\"{probe}_Raw_Bmag\"] / df[stable_temp][\"NMR [T]\"], guess)"
   ]
  },
  {
   "cell_type": "code",
   "execution_count": 105,
   "metadata": {},
   "outputs": [
    {
     "data": {
      "text/plain": [
       "(array([-1.42562616e+03,  3.42826666e+06]), array([[ 0.06097712, -1.28812275],\n",
       "        [-1.28812275, 28.03706027]]))"
      ]
     },
     "execution_count": 105,
     "metadata": {},
     "output_type": "execute_result"
    }
   ],
   "source": [
    "# stable temp\n",
    "params, cov"
   ]
  },
  {
   "cell_type": "code",
   "execution_count": 106,
   "metadata": {},
   "outputs": [
    {
     "data": {
      "text/plain": [
       "(array([-1.42392463e+03,  3.42821889e+06]),\n",
       " array([[   270.72168011,  -5707.46638385],\n",
       "        [ -5707.46638385, 123529.7055177 ]]))"
      ]
     },
     "execution_count": 106,
     "metadata": {},
     "output_type": "execute_result"
    }
   ],
   "source": [
    "# stable temp averaged\n",
    "params_avg, cov_avg"
   ]
  },
  {
   "cell_type": "code",
   "execution_count": 107,
   "metadata": {},
   "outputs": [],
   "source": [
    "A_fit, B_fit = params\n",
    "A_fit_avg, B_fit_avg = params_avg"
   ]
  },
  {
   "cell_type": "code",
   "execution_count": 108,
   "metadata": {},
   "outputs": [],
   "source": [
    "df_[\"Bmag_lsq\"] = volt(x_dat, A_fit, B_fit)\n",
    "df_[\"Bmag_lsq_avg\"] = volt(x_dat, A_fit_avg, B_fit_avg)"
   ]
  },
  {
   "cell_type": "code",
   "execution_count": 109,
   "metadata": {},
   "outputs": [],
   "source": [
    "ts = np.linspace(x_dat.min(), x_dat.max(), 25)"
   ]
  },
  {
   "cell_type": "code",
   "execution_count": 110,
   "metadata": {},
   "outputs": [],
   "source": [
    "B_lsq = volt(ts, A_fit, B_fit)\n",
    "B_lsq_avg = volt(ts, A_fit_avg, B_fit_avg)"
   ]
  },
  {
   "cell_type": "code",
   "execution_count": 111,
   "metadata": {},
   "outputs": [],
   "source": [
    "B_lsq = pd.Series(B_lsq, name=\"Stable Temp Fit\")\n",
    "B_lsq_avg = pd.Series(B_lsq_avg, name=\"Stable Temp Averaged Fit\")"
   ]
  },
  {
   "cell_type": "code",
   "execution_count": 112,
   "metadata": {},
   "outputs": [
    {
     "data": {
      "text/plain": [
       "'/home/ckampa/Coding/hallprobecalib_extras/plots/hall_probe_stability/2020-01-27/scaled_voltage_vs_temperature.html'"
      ]
     },
     "execution_count": 112,
     "metadata": {},
     "output_type": "execute_result"
    }
   ],
   "source": [
    "averaged=True\n",
    "\n",
    "fig = scatter2d(x_dat,\n",
    "                y_dat,\n",
    "                df_.days_delta, opacity=0.8, show_plot=False)\n",
    "\n",
    "fig.add_trace(go.Scatter(\n",
    "                    x=ts, y=B_lsq,\n",
    "                    mode='lines', name='Linear fit',#\"|V|/|B| = A * Temp. + B\",\n",
    "                    line=dict(color='rgb(78, 42, 132)',#'deeppink',\n",
    "                              width=1,\n",
    "                              dash='dash')));\n",
    "#fig.add_trace(go.Scatter(\n",
    "#                    x=ts, y=B_lsq_avg,\n",
    "#                    mode='lines', name=\"mean(|V|/|B|) = A * mean(Temp.) + B\",\n",
    "#                    line=dict(color='purple', width=1,\n",
    "#                              dash='dash')));\n",
    "\n",
    "fig.update_traces(marker=dict(size=1));\n",
    "\n",
    "if averaged:\n",
    "    fig.add_trace(go.Scatter(\n",
    "        x= xs,\n",
    "        y= ys,\n",
    "        mode='markers',\n",
    "        name='Averaged Data',\n",
    "        error_x=dict(\n",
    "            type='data',\n",
    "            array=xerrs,\n",
    "            width=1,\n",
    "            thickness=1.,\n",
    "            visible=True),\n",
    "        error_y=dict(\n",
    "            type='data',\n",
    "            array=yerrs,\n",
    "            width=1,\n",
    "            thickness=1.,\n",
    "            visible=True),\n",
    "        marker=dict(\n",
    "            size=3,\n",
    "            color=\"Red\",\n",
    "        )\n",
    "    ))\n",
    "\n",
    "#eqn = f\"Volt. = {A_fit:.2E} * Temp. + {B_fit:.2E}\"\n",
    "eqn = f\"y = {A_fit:.2E} * x + {B_fit:.2E}\"\n",
    "\n",
    "i = 6\n",
    "fig.add_annotation(\n",
    "    go.layout.Annotation(\n",
    "            x=ts[i],\n",
    "            y=B_lsq.iloc[i],\n",
    "            text=eqn,\n",
    "            font=dict(\n",
    "                #family=\"Courier New, monospace\",\n",
    "                size=14,\n",
    "                color=\"#ffffff\"\n",
    "            ),\n",
    "            align=\"center\",\n",
    "            arrowhead=2,\n",
    "            arrowsize=1,\n",
    "            arrowwidth=2,\n",
    "            arrowcolor=\"#636363\",\n",
    "            ax=+250,\n",
    "            ay=-25,\n",
    "            bordercolor=\"#c7c7c7\",\n",
    "            borderwidth=2,\n",
    "            borderpad=4,\n",
    "            bgcolor='rgb(78, 42, 132)',#\"#ff7f0e\",\n",
    "            opacity=0.7,\n",
    "            showarrow=True#False\n",
    "    )\n",
    ")\n",
    "\n",
    "fig.update_layout(title=\"Scaled Hall Voltage vs. Hall Probe Temperature\")\n",
    "fig.update_xaxes(title_text='Hall Probe Temperature [deg C]')\n",
    "fig.update_yaxes(title_text='|V_Hall| / NMR [micro V / T]')\n",
    "fig.update_layout( width=1000,height=600,)\n",
    "\n",
    "filename = plotdir+\"scaled_voltage_vs_temperature\"\n",
    "\n",
    "plot(fig, filename=filename+'.html')"
   ]
  },
  {
   "cell_type": "code",
   "execution_count": 113,
   "metadata": {},
   "outputs": [],
   "source": [
    "pio.write_image(fig, filename+\".pdf\")\n",
    "pio.write_image(fig, filename+\".png\")"
   ]
  },
  {
   "cell_type": "code",
   "execution_count": null,
   "metadata": {},
   "outputs": [],
   "source": []
  },
  {
   "cell_type": "code",
   "execution_count": null,
   "metadata": {},
   "outputs": [],
   "source": []
  },
  {
   "cell_type": "code",
   "execution_count": null,
   "metadata": {},
   "outputs": [],
   "source": [
    "fig = scatter2d(df_[\"NMR [T]\"],\n",
    "                df_[f\"{probe}_Raw_Bmag\"],# * df_[f\"{probe}_Cal_T\"].min() / df_[f\"{probe}_Cal_T\"],\n",
    "                df_.days_delta, opacity=1., inline=False)"
   ]
  },
  {
   "cell_type": "code",
   "execution_count": null,
   "metadata": {},
   "outputs": [],
   "source": [
    "fig = scatter2d(df_[\"NMR [T]\"],\n",
    "                df_[f\"{probes[0]}_Raw_Bmag\"],# * df_[f\"{probe}_Cal_T\"].min() / df_[f\"{probe}_Cal_T\"],\n",
    "                df_.days_delta, opacity=1., inline=False)"
   ]
  },
  {
   "cell_type": "code",
   "execution_count": null,
   "metadata": {},
   "outputs": [],
   "source": [
    "fig = scatter2d(df_[\"NMR [T]\"],\n",
    "                df_[f\"{probes[0]}_Cal_Bmag\"],# * df_[f\"{probe}_Cal_T\"].min() / df_[f\"{probe}_Cal_T\"],\n",
    "                df_.days_delta, opacity=1., inline=False)"
   ]
  },
  {
   "cell_type": "code",
   "execution_count": null,
   "metadata": {},
   "outputs": [],
   "source": [
    "fig = scatter2d(df[\"NMR [T]\"],\n",
    "                df[f\"{probe}_Raw_Bmag\"],# * df[f\"{probe}_Cal_T\"].min() / df[f\"{probe}_Cal_T\"],\n",
    "                df.days_delta, opacity=1., inline=False)"
   ]
  },
  {
   "cell_type": "code",
   "execution_count": null,
   "metadata": {},
   "outputs": [],
   "source": []
  },
  {
   "cell_type": "code",
   "execution_count": null,
   "metadata": {},
   "outputs": [],
   "source": [
    "x = np.array([6e-4, 2.36e-2, 1.2492]) # B in Tesla\n",
    "y = np.array([4.85e3, 6.43e4, 3.5e6]) # Hall voltage (Bmag), note: 3 different probes"
   ]
  },
  {
   "cell_type": "code",
   "execution_count": null,
   "metadata": {},
   "outputs": [],
   "source": [
    "fig = scatter2d(x, y, lines=False, markers=True, size_list=[8], inline=False)"
   ]
  },
  {
   "cell_type": "code",
   "execution_count": null,
   "metadata": {},
   "outputs": [],
   "source": [
    "def volt_b(mag, A, B):\n",
    "    return A * mag + B"
   ]
  },
  {
   "cell_type": "code",
   "execution_count": null,
   "metadata": {},
   "outputs": [],
   "source": [
    "guess = np.array([3e6, 0.]) # A, B"
   ]
  },
  {
   "cell_type": "code",
   "execution_count": null,
   "metadata": {},
   "outputs": [],
   "source": [
    "x_dat = x\n",
    "#x_dat_avg = xs\n",
    "#x_dat = df[stable_temp][f\"{probe}_Cal_T\"]"
   ]
  },
  {
   "cell_type": "code",
   "execution_count": null,
   "metadata": {},
   "outputs": [],
   "source": [
    "y_dat = y"
   ]
  },
  {
   "cell_type": "code",
   "execution_count": null,
   "metadata": {},
   "outputs": [],
   "source": [
    "params, cov = optimization.curve_fit(volt_b, x_dat, y_dat, guess)\n",
    "#params_avg, cov_avg = optimization.curve_fit(volt, x_dat_avg, ys, guess)\n",
    "#params, cov = optimization.curve_fit(volt, x_dat, \n",
    "#                                     df[stable_temp][f\"{probe}_Raw_Bmag\"] / df[stable_temp][\"NMR [T]\"], guess)"
   ]
  },
  {
   "cell_type": "code",
   "execution_count": null,
   "metadata": {},
   "outputs": [],
   "source": [
    "# stable temp\n",
    "params, cov"
   ]
  },
  {
   "cell_type": "code",
   "execution_count": null,
   "metadata": {},
   "outputs": [],
   "source": [
    "A_fit, B_fit = params\n",
    "#A_fit_avg, B_fit_avg = params_avg"
   ]
  },
  {
   "cell_type": "code",
   "execution_count": null,
   "metadata": {},
   "outputs": [],
   "source": [
    "B_lsq_dat = volt_b(x_dat, A_fit, B_fit)\n",
    "#df_[\"Bmag_lsq\"] = volt_b(x_dat, A_fit, B_fit)"
   ]
  },
  {
   "cell_type": "code",
   "execution_count": null,
   "metadata": {},
   "outputs": [],
   "source": [
    "ts = np.linspace(x_dat.min(), x_dat.max(), 25)"
   ]
  },
  {
   "cell_type": "code",
   "execution_count": null,
   "metadata": {},
   "outputs": [],
   "source": [
    "B_lsq = volt_b(ts, A_fit, B_fit)\n",
    "#B_lsq_avg = volt_b(ts, A_fit_avg, B_fit_avg)"
   ]
  },
  {
   "cell_type": "code",
   "execution_count": null,
   "metadata": {},
   "outputs": [],
   "source": [
    "B_lsq = pd.Series(B_lsq, name=\"Stable Temp Fit\")\n",
    "#B_lsq_avg = pd.Series(B_lsq_avg, name=\"Stable Temp Averaged Fit\")"
   ]
  },
  {
   "cell_type": "code",
   "execution_count": null,
   "metadata": {},
   "outputs": [],
   "source": [
    "fig = scatter2d(x_dat,\n",
    "                y_dat,\n",
    "                lines=False, markers=True,\n",
    "                size_list=[8], opacity=0.8, show_plot=False)\n",
    "\n",
    "fig.add_trace(go.Scatter(\n",
    "                    x=ts, y=B_lsq,\n",
    "                    mode='lines', name='Linear fit',#\"|V|/|B| = A * Temp. + B\",\n",
    "                    line=dict(color='rgb(78, 42, 132)',#'deeppink',\n",
    "                              width=1,\n",
    "                              dash='dash')));\n",
    "#fig.add_trace(go.Scatter(\n",
    "#                    x=ts, y=B_lsq_avg,\n",
    "#                    mode='lines', name=\"mean(|V|/|B|) = A * mean(Temp.) + B\",\n",
    "#                    line=dict(color='purple', width=1,\n",
    "#                              dash='dash')));\n",
    "\n",
    "#fig.update_traces(marker=dict(size=1));\n",
    "\n",
    "'''fig.add_trace(go.Scatter(\n",
    "    x= xs,\n",
    "    y= ys,\n",
    "    mode='markers',\n",
    "    name='Averaged Data',\n",
    "    error_x=dict(\n",
    "        type='data',\n",
    "        array=xerrs,\n",
    "        width=1,\n",
    "        thickness=1.,\n",
    "        visible=True),\n",
    "    error_y=dict(\n",
    "        type='data',\n",
    "        array=yerrs,\n",
    "        width=1,\n",
    "        thickness=1.,\n",
    "        visible=True),\n",
    "    marker=dict(\n",
    "        size=3,\n",
    "        color=\"Red\",\n",
    "    )\n",
    "))\n",
    "'''\n",
    "#eqn = f\"Volt. = {A_fit:.2E} * Temp. + {B_fit:.2E}\"\n",
    "eqn = f\"y = {A_fit:.2E} * x + {B_fit:.2E}\"\n",
    "\n",
    "i = 6\n",
    "fig.add_annotation(\n",
    "    go.layout.Annotation(\n",
    "            x=ts[i],\n",
    "            y=B_lsq.iloc[i],\n",
    "            text=eqn,\n",
    "            font=dict(\n",
    "                #family=\"Courier New, monospace\",\n",
    "                size=14,\n",
    "                color=\"#ffffff\"\n",
    "            ),\n",
    "            align=\"center\",\n",
    "            arrowhead=2,\n",
    "            arrowsize=1,\n",
    "            arrowwidth=2,\n",
    "            arrowcolor=\"#636363\",\n",
    "            ax=+250,\n",
    "            ay=-25,\n",
    "            bordercolor=\"#c7c7c7\",\n",
    "            borderwidth=2,\n",
    "            borderpad=4,\n",
    "            bgcolor='rgb(78, 42, 132)',#\"#ff7f0e\",\n",
    "            opacity=0.7,\n",
    "            showarrow=True#False\n",
    "    )\n",
    ")\n",
    "\n",
    "fig.update_layout(title=\"Scaled Hall Voltage vs. Hall Probe Temperature\")\n",
    "fig.update_xaxes(title_text='Hall Probe Temperature [deg C]')\n",
    "fig.update_yaxes(title_text='|V_Hall| / NMR [micro V / T]')\n",
    "fig.update_layout( width=1000,height=600,)\n",
    "\n",
    "plot(fig,) #filename=plotdir+\"temp_fit_2point_aggregate.html\")"
   ]
  },
  {
   "cell_type": "markdown",
   "metadata": {},
   "source": [
    "Nice! Looks surprisingly linear for 3 different probes."
   ]
  },
  {
   "cell_type": "code",
   "execution_count": null,
   "metadata": {},
   "outputs": [],
   "source": [
    "dof = 3 - 2"
   ]
  },
  {
   "cell_type": "code",
   "execution_count": null,
   "metadata": {},
   "outputs": [],
   "source": [
    "### pick std = 55\n",
    "std_volt = 50.#500.#45.#55."
   ]
  },
  {
   "cell_type": "code",
   "execution_count": null,
   "metadata": {},
   "outputs": [],
   "source": [
    "def chi2(f, x, std):\n",
    "    return np.sum(np.square((x-f)/std))"
   ]
  },
  {
   "cell_type": "code",
   "execution_count": null,
   "metadata": {},
   "outputs": [],
   "source": [
    "#fit_chi2 = chi2(B_lsq, y_dat, std_volt)\n",
    "fit_chi2 = chi2(B_lsq_dat, y_dat, std_volt)\n",
    "fit_chi2"
   ]
  },
  {
   "cell_type": "code",
   "execution_count": null,
   "metadata": {},
   "outputs": [],
   "source": [
    "dof = len(x_dat) - 2\n",
    "dof"
   ]
  },
  {
   "cell_type": "code",
   "execution_count": null,
   "metadata": {},
   "outputs": [],
   "source": [
    "n = np.linspace(0, 12, 100)"
   ]
  },
  {
   "cell_type": "code",
   "execution_count": null,
   "metadata": {},
   "outputs": [],
   "source": [
    "P = stats.chi2.pdf(n, dof)"
   ]
  },
  {
   "cell_type": "code",
   "execution_count": null,
   "metadata": {},
   "outputs": [],
   "source": [
    "P.max()"
   ]
  },
  {
   "cell_type": "code",
   "execution_count": null,
   "metadata": {},
   "outputs": [],
   "source": [
    "plt.plot(n,P)\n",
    "plt.plot([fit_chi2, fit_chi2],[0., 1.0], 'r--');"
   ]
  },
  {
   "cell_type": "code",
   "execution_count": null,
   "metadata": {},
   "outputs": [],
   "source": []
  },
  {
   "cell_type": "code",
   "execution_count": null,
   "metadata": {},
   "outputs": [],
   "source": []
  },
  {
   "cell_type": "code",
   "execution_count": null,
   "metadata": {},
   "outputs": [],
   "source": []
  },
  {
   "cell_type": "code",
   "execution_count": null,
   "metadata": {},
   "outputs": [],
   "source": []
  },
  {
   "cell_type": "code",
   "execution_count": null,
   "metadata": {},
   "outputs": [],
   "source": []
  },
  {
   "cell_type": "code",
   "execution_count": null,
   "metadata": {},
   "outputs": [],
   "source": []
  },
  {
   "cell_type": "code",
   "execution_count": null,
   "metadata": {},
   "outputs": [],
   "source": []
  },
  {
   "cell_type": "code",
   "execution_count": null,
   "metadata": {},
   "outputs": [],
   "source": [
    "def volt_b(mag, A, B):\n",
    "    return A * mag + B"
   ]
  },
  {
   "cell_type": "code",
   "execution_count": null,
   "metadata": {},
   "outputs": [],
   "source": [
    "guess = np.array([1e11, 0.]) # A, B"
   ]
  },
  {
   "cell_type": "code",
   "execution_count": null,
   "metadata": {},
   "outputs": [],
   "source": [
    "x_dat = df_[\"NMR [T]\"]\n",
    "#x_dat_avg = xs\n",
    "#x_dat = df[stable_temp][f\"{probe}_Cal_T\"]"
   ]
  },
  {
   "cell_type": "code",
   "execution_count": null,
   "metadata": {},
   "outputs": [],
   "source": [
    "y_dat = df_[f\"{probe}_Raw_Bmag\"] / (-1.21e03*df_[f\"{probe}_Cal_T\"])# * df_[f\"{probe}_Cal_T\"].min() / df_[f\"{probe}_Cal_T\"]"
   ]
  },
  {
   "cell_type": "code",
   "execution_count": null,
   "metadata": {},
   "outputs": [],
   "source": [
    "params, cov = optimization.curve_fit(volt_b, x_dat, y_dat, guess)\n",
    "#params_avg, cov_avg = optimization.curve_fit(volt, x_dat_avg, ys, guess)\n",
    "#params, cov = optimization.curve_fit(volt, x_dat, \n",
    "#                                     df[stable_temp][f\"{probe}_Raw_Bmag\"] / df[stable_temp][\"NMR [T]\"], guess)"
   ]
  },
  {
   "cell_type": "code",
   "execution_count": null,
   "metadata": {},
   "outputs": [],
   "source": [
    "# stable temp\n",
    "params, cov"
   ]
  },
  {
   "cell_type": "code",
   "execution_count": null,
   "metadata": {},
   "outputs": [],
   "source": [
    "A_fit, B_fit = params\n",
    "A_fit_avg, B_fit_avg = params_avg"
   ]
  },
  {
   "cell_type": "code",
   "execution_count": null,
   "metadata": {},
   "outputs": [],
   "source": [
    "df_[\"Bmag_lsq\"] = volt_b(x_dat, A_fit, B_fit)"
   ]
  },
  {
   "cell_type": "code",
   "execution_count": null,
   "metadata": {},
   "outputs": [],
   "source": [
    "ts = np.linspace(x_dat.min(), x_dat.max(), 25)"
   ]
  },
  {
   "cell_type": "code",
   "execution_count": null,
   "metadata": {},
   "outputs": [],
   "source": [
    "B_lsq = volt_b(ts, A_fit, B_fit)\n",
    "#B_lsq_avg = volt_b(ts, A_fit_avg, B_fit_avg)"
   ]
  },
  {
   "cell_type": "code",
   "execution_count": null,
   "metadata": {},
   "outputs": [],
   "source": [
    "B_lsq = pd.Series(B_lsq, name=\"Stable Temp Fit\")\n",
    "#B_lsq_avg = pd.Series(B_lsq_avg, name=\"Stable Temp Averaged Fit\")"
   ]
  },
  {
   "cell_type": "code",
   "execution_count": null,
   "metadata": {},
   "outputs": [],
   "source": [
    "fig = scatter2d(x_dat,\n",
    "                y_dat,\n",
    "                df_.days_delta, opacity=0.8, show_plot=False)\n",
    "\n",
    "fig.add_trace(go.Scatter(\n",
    "                    x=ts, y=B_lsq,\n",
    "                    mode='lines', name='Linear fit',#\"|V|/|B| = A * Temp. + B\",\n",
    "                    line=dict(color='rgb(78, 42, 132)',#'deeppink',\n",
    "                              width=1,\n",
    "                              dash='dash')));\n",
    "#fig.add_trace(go.Scatter(\n",
    "#                    x=ts, y=B_lsq_avg,\n",
    "#                    mode='lines', name=\"mean(|V|/|B|) = A * mean(Temp.) + B\",\n",
    "#                    line=dict(color='purple', width=1,\n",
    "#                              dash='dash')));\n",
    "\n",
    "fig.update_traces(marker=dict(size=1));\n",
    "\n",
    "'''fig.add_trace(go.Scatter(\n",
    "    x= xs,\n",
    "    y= ys,\n",
    "    mode='markers',\n",
    "    name='Averaged Data',\n",
    "    error_x=dict(\n",
    "        type='data',\n",
    "        array=xerrs,\n",
    "        width=1,\n",
    "        thickness=1.,\n",
    "        visible=True),\n",
    "    error_y=dict(\n",
    "        type='data',\n",
    "        array=yerrs,\n",
    "        width=1,\n",
    "        thickness=1.,\n",
    "        visible=True),\n",
    "    marker=dict(\n",
    "        size=3,\n",
    "        color=\"Red\",\n",
    "    )\n",
    "))\n",
    "'''\n",
    "#eqn = f\"Volt. = {A_fit:.2E} * Temp. + {B_fit:.2E}\"\n",
    "eqn = f\"y = {A_fit:.2E} * x + {B_fit:.2E}\"\n",
    "\n",
    "i = 6\n",
    "fig.add_annotation(\n",
    "    go.layout.Annotation(\n",
    "            x=ts[i],\n",
    "            y=B_lsq.iloc[i],\n",
    "            text=eqn,\n",
    "            font=dict(\n",
    "                #family=\"Courier New, monospace\",\n",
    "                size=14,\n",
    "                color=\"#ffffff\"\n",
    "            ),\n",
    "            align=\"center\",\n",
    "            arrowhead=2,\n",
    "            arrowsize=1,\n",
    "            arrowwidth=2,\n",
    "            arrowcolor=\"#636363\",\n",
    "            ax=+250,\n",
    "            ay=-25,\n",
    "            bordercolor=\"#c7c7c7\",\n",
    "            borderwidth=2,\n",
    "            borderpad=4,\n",
    "            bgcolor='rgb(78, 42, 132)',#\"#ff7f0e\",\n",
    "            opacity=0.7,\n",
    "            showarrow=True#False\n",
    "    )\n",
    ")\n",
    "\n",
    "fig.update_layout(title=\"Scaled Hall Voltage vs. Hall Probe Temperature\")\n",
    "fig.update_xaxes(title_text='Hall Probe Temperature [deg C]')\n",
    "fig.update_yaxes(title_text='|V_Hall| / NMR [micro V / T]')\n",
    "fig.update_layout( width=1000,height=600,)\n",
    "\n",
    "plot(fig,) #filename=plotdir+\"temp_fit_2point_aggregate.html\")"
   ]
  },
  {
   "cell_type": "code",
   "execution_count": null,
   "metadata": {},
   "outputs": [],
   "source": []
  },
  {
   "cell_type": "code",
   "execution_count": null,
   "metadata": {},
   "outputs": [],
   "source": []
  },
  {
   "cell_type": "code",
   "execution_count": null,
   "metadata": {},
   "outputs": [],
   "source": []
  },
  {
   "cell_type": "code",
   "execution_count": null,
   "metadata": {},
   "outputs": [],
   "source": []
  },
  {
   "cell_type": "code",
   "execution_count": 114,
   "metadata": {},
   "outputs": [],
   "source": [
    "### pick std = 55\n",
    "std_volt = 50.#51.#45.#55."
   ]
  },
  {
   "cell_type": "code",
   "execution_count": null,
   "metadata": {},
   "outputs": [],
   "source": [
    "def chi2(f, x, std):\n",
    "    return np.sum(np.square((x-f)/std))"
   ]
  },
  {
   "cell_type": "code",
   "execution_count": null,
   "metadata": {},
   "outputs": [],
   "source": [
    "fit_chi2 = chi2(df_[\"Bmag_lsq\"], df_[\"Scaled Hall Voltage\"], std_volt)\n",
    "fit_chi2"
   ]
  },
  {
   "cell_type": "code",
   "execution_count": null,
   "metadata": {},
   "outputs": [],
   "source": [
    "ys_fit = volt(xs, A_fit_avg, B_fit_avg)"
   ]
  },
  {
   "cell_type": "code",
   "execution_count": null,
   "metadata": {},
   "outputs": [],
   "source": [
    "fit_avg_chi2 = chi2(ys_fit, ys, yerrs)\n",
    "fit_avg_chi2"
   ]
  },
  {
   "cell_type": "code",
   "execution_count": null,
   "metadata": {},
   "outputs": [],
   "source": [
    "dof = len(xs) - 2\n",
    "dof"
   ]
  },
  {
   "cell_type": "code",
   "execution_count": null,
   "metadata": {},
   "outputs": [],
   "source": [
    "n = np.linspace(0, 12, 100)"
   ]
  },
  {
   "cell_type": "code",
   "execution_count": null,
   "metadata": {},
   "outputs": [],
   "source": [
    "P = stats.chi2.pdf(n, dof)"
   ]
  },
  {
   "cell_type": "code",
   "execution_count": null,
   "metadata": {},
   "outputs": [],
   "source": [
    "plt.plot(n,P)\n",
    "plt.plot([fit_avg_chi2, fit_avg_chi2],[0., P.max()], 'r--');"
   ]
  },
  {
   "cell_type": "code",
   "execution_count": null,
   "metadata": {},
   "outputs": [],
   "source": []
  },
  {
   "cell_type": "code",
   "execution_count": null,
   "metadata": {},
   "outputs": [],
   "source": []
  },
  {
   "cell_type": "code",
   "execution_count": null,
   "metadata": {},
   "outputs": [],
   "source": [
    "# check std\n",
    "df_2 = df_[100:500]"
   ]
  },
  {
   "cell_type": "code",
   "execution_count": null,
   "metadata": {},
   "outputs": [],
   "source": [
    "fig = scatter2d(df_2.index, df_2[f\"{probe}_Raw_Bmag\"]/df_2[\"NMR [T]\"],\n",
    "               inline=False)"
   ]
  },
  {
   "cell_type": "code",
   "execution_count": null,
   "metadata": {},
   "outputs": [],
   "source": [
    "scaled_B = df_2[f\"{probe}_Raw_Bmag\"]/df_2[\"NMR [T]\"]\n",
    "scaled_B.name = \"Scaled |V|/|B|\""
   ]
  },
  {
   "cell_type": "code",
   "execution_count": null,
   "metadata": {},
   "outputs": [],
   "source": [
    "fig = histo(scaled_B, bins=25,\n",
    "               inline=False)"
   ]
  },
  {
   "cell_type": "code",
   "execution_count": null,
   "metadata": {},
   "outputs": [],
   "source": []
  },
  {
   "cell_type": "code",
   "execution_count": null,
   "metadata": {},
   "outputs": [],
   "source": [
    "std_volt = 75."
   ]
  },
  {
   "cell_type": "code",
   "execution_count": null,
   "metadata": {},
   "outputs": [],
   "source": [
    "fit_chi2 = chi2(df_[\"Bmag_lsq\"], df_[\"Scaled Hall Voltage\"], std_volt)\n",
    "fit_chi2"
   ]
  },
  {
   "cell_type": "code",
   "execution_count": null,
   "metadata": {},
   "outputs": [],
   "source": [
    "dof = len(df_) - 2\n",
    "dof"
   ]
  },
  {
   "cell_type": "code",
   "execution_count": null,
   "metadata": {},
   "outputs": [],
   "source": [
    "n = np.linspace(1000,30000, 1000)"
   ]
  },
  {
   "cell_type": "code",
   "execution_count": null,
   "metadata": {},
   "outputs": [],
   "source": [
    "P = stats.chi2.pdf(n, dof)"
   ]
  },
  {
   "cell_type": "code",
   "execution_count": null,
   "metadata": {},
   "outputs": [],
   "source": [
    "plt.plot(n,P)\n",
    "plt.plot([fit_chi2, fit_chi2],[0., P.max()], 'r--');"
   ]
  },
  {
   "cell_type": "code",
   "execution_count": null,
   "metadata": {},
   "outputs": [],
   "source": [
    "n[P.argmax()]"
   ]
  },
  {
   "cell_type": "markdown",
   "metadata": {},
   "source": [
    "## Investigate Noise"
   ]
  },
  {
   "cell_type": "code",
   "execution_count": null,
   "metadata": {},
   "outputs": [],
   "source": [
    "t = df_.index"
   ]
  },
  {
   "cell_type": "code",
   "execution_count": null,
   "metadata": {},
   "outputs": [],
   "source": [
    "V = df_[f\"{probe}_Raw_Z\"]"
   ]
  },
  {
   "cell_type": "code",
   "execution_count": null,
   "metadata": {},
   "outputs": [],
   "source": [
    "V_mean = V.rolling(window=75).mean() # w interval = 50 s, should be ~72 for one hour average"
   ]
  },
  {
   "cell_type": "code",
   "execution_count": null,
   "metadata": {},
   "outputs": [],
   "source": [
    "#fig = scatter2d(2*[t], [V, V_mean], inline=False)"
   ]
  },
  {
   "cell_type": "code",
   "execution_count": null,
   "metadata": {},
   "outputs": [],
   "source": [
    "diff = V - V_mean"
   ]
  },
  {
   "cell_type": "code",
   "execution_count": null,
   "metadata": {},
   "outputs": [],
   "source": [
    "#fig = histo(diff, bins=50, inline=False)"
   ]
  },
  {
   "cell_type": "code",
   "execution_count": null,
   "metadata": {},
   "outputs": [],
   "source": [
    "g = np.absolute(diff) < 200."
   ]
  },
  {
   "cell_type": "code",
   "execution_count": null,
   "metadata": {},
   "outputs": [],
   "source": [
    "diff[g].std()"
   ]
  },
  {
   "cell_type": "code",
   "execution_count": null,
   "metadata": {},
   "outputs": [],
   "source": [
    "fig = histo(diff[g], bins=75, inline=False)"
   ]
  },
  {
   "cell_type": "markdown",
   "metadata": {},
   "source": [
    "Component Standard Deviation:\n",
    "- x: 54.9\n",
    "- y: 60.5\n",
    "- z: 58.47"
   ]
  },
  {
   "cell_type": "code",
   "execution_count": 119,
   "metadata": {},
   "outputs": [],
   "source": [
    "sig_x = 54.9\n",
    "sig_y = 60.5\n",
    "sig_z = 58.5"
   ]
  },
  {
   "cell_type": "code",
   "execution_count": 120,
   "metadata": {},
   "outputs": [],
   "source": [
    "# assuming no covariance\n",
    "sigma_B = np.sqrt(df_[f\"{probe}_Raw_X\"]**2*sig_x**2 + \\\n",
    "                  df_[f\"{probe}_Raw_Y\"]**2*sig_y**2 + \\\n",
    "                  df_[f\"{probe}_Raw_Z\"]**2*sig_z**2) / df_[f\"{probe}_Raw_Bmag\"]"
   ]
  },
  {
   "cell_type": "code",
   "execution_count": 121,
   "metadata": {},
   "outputs": [],
   "source": [
    "sigma_B.name = \"sigma_B\""
   ]
  },
  {
   "cell_type": "code",
   "execution_count": null,
   "metadata": {},
   "outputs": [],
   "source": [
    "fig = histo(sigma_B, bins=75, inline=False)"
   ]
  },
  {
   "cell_type": "code",
   "execution_count": null,
   "metadata": {},
   "outputs": [],
   "source": [
    "fig = scatter2d(t, sigma_B, inline=False)"
   ]
  },
  {
   "cell_type": "code",
   "execution_count": null,
   "metadata": {},
   "outputs": [],
   "source": [
    "sigma_B.describe()"
   ]
  },
  {
   "cell_type": "code",
   "execution_count": null,
   "metadata": {},
   "outputs": [],
   "source": [
    "def chi2(f, x, std):\n",
    "    return np.sum(np.square((x-f)/std))"
   ]
  },
  {
   "cell_type": "code",
   "execution_count": null,
   "metadata": {},
   "outputs": [],
   "source": [
    "len(sigma_B)"
   ]
  },
  {
   "cell_type": "code",
   "execution_count": null,
   "metadata": {},
   "outputs": [],
   "source": [
    "len(df_)"
   ]
  },
  {
   "cell_type": "code",
   "execution_count": null,
   "metadata": {},
   "outputs": [],
   "source": [
    "fit_chi2 = chi2(df_[\"Bmag_lsq\"], df_[\"Scaled Hall Voltage\"], sigma_B)\n",
    "fit_chi2"
   ]
  },
  {
   "cell_type": "code",
   "execution_count": null,
   "metadata": {},
   "outputs": [],
   "source": [
    "dof = len(df_) - 2\n",
    "dof"
   ]
  },
  {
   "cell_type": "code",
   "execution_count": null,
   "metadata": {},
   "outputs": [],
   "source": [
    "n = np.linspace(1000,20000, 1000)"
   ]
  },
  {
   "cell_type": "code",
   "execution_count": null,
   "metadata": {},
   "outputs": [],
   "source": [
    "P = stats.chi2.pdf(n, dof)"
   ]
  },
  {
   "cell_type": "code",
   "execution_count": null,
   "metadata": {},
   "outputs": [],
   "source": [
    "plt.plot(n,P)\n",
    "plt.plot([fit_chi2, fit_chi2],[0., P.max()], 'r--');"
   ]
  },
  {
   "cell_type": "markdown",
   "metadata": {},
   "source": [
    "Try adding a few more polynomial terms"
   ]
  },
  {
   "cell_type": "code",
   "execution_count": null,
   "metadata": {},
   "outputs": [],
   "source": [
    "def volt_3rd(temp, A, B, C, D):\n",
    "    #return A * temp + B * temp**2 + C * temp**3 + D\n",
    "    return A * temp + B * temp**2 + D"
   ]
  },
  {
   "cell_type": "code",
   "execution_count": null,
   "metadata": {},
   "outputs": [],
   "source": [
    "guess = np.array([-1300 / 3.5, 0, 0, 2e6]) # A, B"
   ]
  },
  {
   "cell_type": "code",
   "execution_count": null,
   "metadata": {},
   "outputs": [],
   "source": [
    "x_dat = df_[f\"{probe}_Cal_T\"]\n",
    "x_dat_avg = xs\n",
    "#x_dat = df[stable_temp][f\"{probe}_Cal_T\"]"
   ]
  },
  {
   "cell_type": "code",
   "execution_count": null,
   "metadata": {},
   "outputs": [],
   "source": [
    "y_dat = df_[\"Scaled Hall Voltage\"]\n",
    "#y_dat = df_[\"Scaled Hall Z\"]\n",
    "#y_dat = df_[\"NMR [T]\"]"
   ]
  },
  {
   "cell_type": "code",
   "execution_count": null,
   "metadata": {},
   "outputs": [],
   "source": [
    "params, cov = optimization.curve_fit(volt_3rd, x_dat, y_dat, guess)\n",
    "params_avg, cov_avg = optimization.curve_fit(volt_3rd, x_dat_avg, ys, guess)\n",
    "#params, cov = optimization.curve_fit(volt, x_dat, \n",
    "#                                     df[stable_temp][f\"{probe}_Raw_Bmag\"] / df[stable_temp][\"NMR [T]\"], guess)"
   ]
  },
  {
   "cell_type": "code",
   "execution_count": null,
   "metadata": {},
   "outputs": [],
   "source": [
    "# stable temp\n",
    "params, cov"
   ]
  },
  {
   "cell_type": "code",
   "execution_count": null,
   "metadata": {},
   "outputs": [],
   "source": [
    "# stable temp averaged\n",
    "params_avg, cov_avg"
   ]
  },
  {
   "cell_type": "code",
   "execution_count": null,
   "metadata": {},
   "outputs": [],
   "source": [
    "A_fit, B_fit, C_fit, D_fit = params\n",
    "A_fit_avg, B_fit_avg, C_fit_avg, D_fit_avg = params_avg"
   ]
  },
  {
   "cell_type": "code",
   "execution_count": null,
   "metadata": {},
   "outputs": [],
   "source": [
    "df_[\"Bmag_lsq\"] = volt_3rd(x_dat, A_fit, B_fit, C_fit, D_fit)\n",
    "df_[\"Bmag_lsq_avg\"] = volt_3rd(x_dat, A_fit_avg, B_fit_avg, C_fit_avg, D_fit_avg)"
   ]
  },
  {
   "cell_type": "code",
   "execution_count": null,
   "metadata": {},
   "outputs": [],
   "source": [
    "ts = np.linspace(x_dat.min(), x_dat.max(), 25)"
   ]
  },
  {
   "cell_type": "code",
   "execution_count": null,
   "metadata": {},
   "outputs": [],
   "source": [
    "B_lsq = volt_3rd(ts, A_fit, B_fit, C_fit, D_fit)\n",
    "B_lsq_avg = volt_3rd(ts, A_fit_avg, B_fit_avg, C_fit_avg, D_fit_avg)"
   ]
  },
  {
   "cell_type": "code",
   "execution_count": null,
   "metadata": {},
   "outputs": [],
   "source": [
    "B_lsq = pd.Series(B_lsq, name=\"Stable Temp Fit\")\n",
    "B_lsq_avg = pd.Series(B_lsq_avg, name=\"Stable Temp Averaged Fit\")"
   ]
  },
  {
   "cell_type": "code",
   "execution_count": null,
   "metadata": {},
   "outputs": [],
   "source": [
    "averaged=True\n",
    "\n",
    "fig = scatter2d(x_dat,\n",
    "                y_dat,\n",
    "                df_.days_delta, opacity=0.8, show_plot=False)\n",
    "\n",
    "fig.add_trace(go.Scatter(\n",
    "                    x=ts, y=B_lsq,\n",
    "                    mode='lines', name='Linear fit',#\"|V|/|B| = A * Temp. + B\",\n",
    "                    line=dict(color='rgb(78, 42, 132)',#'deeppink',\n",
    "                              width=1,\n",
    "                              dash='dash')));\n",
    "#fig.add_trace(go.Scatter(\n",
    "#                    x=ts, y=B_lsq_avg,\n",
    "#                    mode='lines', name=\"mean(|V|/|B|) = A * mean(Temp.) + B\",\n",
    "#                    line=dict(color='purple', width=1,\n",
    "#                              dash='dash')));\n",
    "\n",
    "fig.update_traces(marker=dict(size=1));\n",
    "\n",
    "if averaged:\n",
    "    fig.add_trace(go.Scatter(\n",
    "        x= xs,\n",
    "        y= ys,\n",
    "        mode='markers',\n",
    "        name='Averaged Data',\n",
    "        error_x=dict(\n",
    "            type='data',\n",
    "            array=xerrs,\n",
    "            width=1,\n",
    "            thickness=1.,\n",
    "            visible=True),\n",
    "        error_y=dict(\n",
    "            type='data',\n",
    "            array=yerrs,\n",
    "            width=1,\n",
    "            thickness=1.,\n",
    "            visible=True),\n",
    "        marker=dict(\n",
    "            size=3,\n",
    "            color=\"Red\",\n",
    "        )\n",
    "    ))\n",
    "\n",
    "#eqn = f\"Volt. = {A_fit:.2E} * Temp. + {B_fit:.2E}\"\n",
    "eqn = f\"y = {A_fit:.2E} * x + {B_fit:.2E} * x^2 + {C_fit:.2E} * x^3 + {D_fit:.2E}\"\n",
    "\n",
    "i = 6\n",
    "fig.add_annotation(\n",
    "    go.layout.Annotation(\n",
    "            x=ts[i],\n",
    "            y=B_lsq.iloc[i],\n",
    "            text=eqn,\n",
    "            font=dict(\n",
    "                #family=\"Courier New, monospace\",\n",
    "                size=14,\n",
    "                color=\"#ffffff\"\n",
    "            ),\n",
    "            align=\"center\",\n",
    "            arrowhead=2,\n",
    "            arrowsize=1,\n",
    "            arrowwidth=2,\n",
    "            arrowcolor=\"#636363\",\n",
    "            ax=+250,\n",
    "            ay=-25,\n",
    "            bordercolor=\"#c7c7c7\",\n",
    "            borderwidth=2,\n",
    "            borderpad=4,\n",
    "            bgcolor='rgb(78, 42, 132)',#\"#ff7f0e\",\n",
    "            opacity=0.7,\n",
    "            showarrow=True#False\n",
    "    )\n",
    ")\n",
    "\n",
    "fig.update_layout(title=\"Scaled Hall Voltage vs. Hall Probe Temperature\")\n",
    "fig.update_xaxes(title_text='Hall Probe Temperature [deg C]')\n",
    "fig.update_yaxes(title_text='|V_Hall| / NMR [micro V / T]')\n",
    "fig.update_layout( width=1000,height=600,)\n",
    "\n",
    "filename = plotdir+\"scaled_voltage_vs_temperature_3rd_order\"\n",
    "\n",
    "plot(fig, filename=filename+'.html')"
   ]
  },
  {
   "cell_type": "code",
   "execution_count": null,
   "metadata": {},
   "outputs": [],
   "source": [
    "pio.write_image(fig, filename+\".pdf\")\n",
    "pio.write_image(fig, filename+\".png\")"
   ]
  },
  {
   "cell_type": "code",
   "execution_count": null,
   "metadata": {},
   "outputs": [],
   "source": []
  },
  {
   "cell_type": "code",
   "execution_count": null,
   "metadata": {},
   "outputs": [],
   "source": [
    "def chi2(f, x, std):\n",
    "    return np.sum(np.square((x-f)/std))"
   ]
  },
  {
   "cell_type": "code",
   "execution_count": null,
   "metadata": {},
   "outputs": [],
   "source": [
    "len(sigma_B)"
   ]
  },
  {
   "cell_type": "code",
   "execution_count": null,
   "metadata": {},
   "outputs": [],
   "source": [
    "len(df_)"
   ]
  },
  {
   "cell_type": "code",
   "execution_count": null,
   "metadata": {},
   "outputs": [],
   "source": [
    "fit_chi2 = chi2(df_[\"Bmag_lsq\"], df_[\"Scaled Hall Voltage\"], sigma_B)\n",
    "fit_chi2"
   ]
  },
  {
   "cell_type": "code",
   "execution_count": null,
   "metadata": {},
   "outputs": [],
   "source": [
    "dof = len(df_) - 3#4 # 4 parameter fit\n",
    "dof"
   ]
  },
  {
   "cell_type": "code",
   "execution_count": null,
   "metadata": {},
   "outputs": [],
   "source": [
    "n = np.linspace(1000,20000, 1000)"
   ]
  },
  {
   "cell_type": "code",
   "execution_count": null,
   "metadata": {},
   "outputs": [],
   "source": [
    "P = stats.chi2.pdf(n, dof)"
   ]
  },
  {
   "cell_type": "code",
   "execution_count": null,
   "metadata": {},
   "outputs": [],
   "source": [
    "# 3rd order\n",
    "plt.plot(n,P)\n",
    "plt.plot([fit_chi2, fit_chi2],[0., P.max()], 'r--');"
   ]
  },
  {
   "cell_type": "code",
   "execution_count": null,
   "metadata": {},
   "outputs": [],
   "source": [
    "# 4th order\n",
    "plt.plot(n,P)\n",
    "plt.plot([fit_chi2, fit_chi2],[0., P.max()], 'r--');"
   ]
  },
  {
   "cell_type": "code",
   "execution_count": null,
   "metadata": {},
   "outputs": [],
   "source": []
  },
  {
   "cell_type": "code",
   "execution_count": null,
   "metadata": {},
   "outputs": [],
   "source": []
  },
  {
   "cell_type": "code",
   "execution_count": null,
   "metadata": {},
   "outputs": [],
   "source": []
  },
  {
   "cell_type": "code",
   "execution_count": null,
   "metadata": {},
   "outputs": [],
   "source": [
    "for probe in probes:\n",
    "    fig = scatter2d(df_.index, df_[f\"{probe}_Raw_Bmag\"], inline=False)"
   ]
  },
  {
   "cell_type": "markdown",
   "metadata": {},
   "source": [
    "## Fit Routine\n",
    "**IMPORTANT**\n",
    "- should add this as a tool in hallprobecalib"
   ]
  },
  {
   "cell_type": "code",
   "execution_count": null,
   "metadata": {},
   "outputs": [],
   "source": [
    "## FIT ORDER N"
   ]
  },
  {
   "cell_type": "code",
   "execution_count": null,
   "metadata": {},
   "outputs": [],
   "source": [
    "#import lmfit as lm"
   ]
  },
  {
   "cell_type": "code",
   "execution_count": 115,
   "metadata": {},
   "outputs": [],
   "source": [
    "def polyfit_order_n(N, x_dat, y_dat, std_dat):\n",
    "    # e.g. order 1 gives form y = C0 + C1*x\n",
    "    # returns lmfit result object\n",
    "    Cs = {}\n",
    "    \n",
    "    def polynomial(x, N, **Cs):\n",
    "        ys = np.zeros_like(x)\n",
    "        for n in range(N+1):\n",
    "            C = Cs[f'C_{n}']\n",
    "            ys += C * x**n\n",
    "        return ys\n",
    "    \n",
    "    # using lmfit\n",
    "    model = lm.Model(polynomial, independent_vars=['x'])\n",
    "    params = lm.Parameters()\n",
    "    params.add('N', value=N, vary=False) # just telling us when to truncate our sum\n",
    "    for n in range(N+1):\n",
    "        params.add(f'C_{n}', value=0)\n",
    "    \n",
    "    result = model.fit(y_dat.values, x=x_dat.values, params=params, weights=1/std_dat)\n",
    "    \n",
    "    print(result.fit_report())\n",
    "   \n",
    "    return result"
   ]
  },
  {
   "cell_type": "code",
   "execution_count": 116,
   "metadata": {},
   "outputs": [
    {
     "name": "stdout",
     "output_type": "stream",
     "text": [
      "[[Model]]\n",
      "    Model(polynomial)\n",
      "[[Fit Statistics]]\n",
      "    # fitting method   = leastsq\n",
      "    # function evals   = 55\n",
      "    # data points      = 22119\n",
      "    # variables        = 2\n",
      "    chi-square         = 27081.2107\n",
      "    reduced chi-square = 1.22445226\n",
      "    Akaike info crit   = 4480.95607\n",
      "    Bayesian info crit = 4496.96446\n",
      "[[Variables]]\n",
      "    N:    1 (fixed)\n",
      "    C_0:  0.25557552 +/- 5.7260e-04 (0.22%) (init = 0)\n",
      "    C_1:  0.78821941 +/- 4.7417e-04 (0.06%) (init = 0)\n",
      "[[Correlations]] (unreported correlations are < 0.100)\n",
      "    C(C_0, C_1) = -1.000\n",
      "\n"
     ]
    }
   ],
   "source": [
    "result = polyfit_order_n(1, df_[f\"{probe}_Cal_Bmag\"], df_[\"NMR [T]\"], 2e-5*np.ones_like(df_[\"NMR [T]\"]))"
   ]
  },
  {
   "cell_type": "code",
   "execution_count": 117,
   "metadata": {},
   "outputs": [
    {
     "data": {
      "text/plain": [
       "(<Figure size 864x864 with 2 Axes>, GridSpec(2, 1, height_ratios=[1, 4]))"
      ]
     },
     "execution_count": 117,
     "metadata": {},
     "output_type": "execute_result"
    },
    {
     "data": {
      "image/png": "[encoded data removed]",
      "text/plain": [
       "<Figure size 864x864 with 2 Axes>"
      ]
     },
     "metadata": {
      "needs_background": "light"
     },
     "output_type": "display_data"
    }
   ],
   "source": [
    "result.plot()"
   ]
  },
  {
   "cell_type": "code",
   "execution_count": 132,
   "metadata": {
    "scrolled": false
   },
   "outputs": [
    {
     "name": "stdout",
     "output_type": "stream",
     "text": [
      "[[Model]]\n",
      "    Model(polynomial)\n",
      "[[Fit Statistics]]\n",
      "    # fitting method   = leastsq\n",
      "    # function evals   = 332\n",
      "    # data points      = 22119\n",
      "    # variables        = 9\n",
      "    chi-square         = 20418.5485\n",
      "    reduced chi-square = 0.92349835\n",
      "    Akaike info crit   = -1751.37042\n",
      "    Bayesian info crit = -1679.33269\n",
      "[[Variables]]\n",
      "    N:    8 (fixed)\n",
      "    C_0: -50834504.7 +/- 1055699.27 (2.08%) (init = 0)\n",
      "    C_1:  15620950.6 +/- 308635.070 (1.98%) (init = 0)\n",
      "    C_2: -1738019.29 +/- 34917.8528 (2.01%) (init = 0)\n",
      "    C_3:  82236.4627 +/- 1684.54182 (2.05%) (init = 0)\n",
      "    C_4:  26.1596018 +/- 2.07267659 (7.92%) (init = 0)\n",
      "    C_5: -183.901018 +/- 3.88018188 (2.11%) (init = 0)\n",
      "    C_6:  8.55395175 +/- 0.18457209 (2.16%) (init = 0)\n",
      "    C_7: -0.16987719 +/- 0.00374814 (2.21%) (init = 0)\n",
      "    C_8:  0.00130542 +/- 2.9475e-05 (2.26%) (init = 0)\n",
      "[[Correlations]] (unreported correlations are < 0.100)\n",
      "    C(C_3, C_7) = -1.001\n",
      "    C(C_1, C_5) = -1.001\n",
      "    C(C_3, C_6) =  1.001\n",
      "    C(C_2, C_5) =  1.001\n",
      "    C(C_0, C_5) =  1.001\n",
      "    C(C_3, C_8) =  1.001\n",
      "    C(C_2, C_6) = -1.001\n",
      "    C(C_3, C_5) = -1.001\n",
      "    C(C_1, C_6) =  1.001\n",
      "    C(C_2, C_7) =  1.001\n",
      "    C(C_0, C_6) = -1.001\n",
      "    C(C_2, C_8) = -1.001\n",
      "    C(C_1, C_7) = -1.001\n",
      "    C(C_0, C_7) =  1.001\n",
      "    C(C_1, C_8) =  1.001\n",
      "    C(C_0, C_8) = -1.001\n",
      "    C(C_6, C_8) =  1.000\n",
      "    C(C_0, C_2) =  1.000\n",
      "    C(C_7, C_8) = -1.000\n",
      "    C(C_0, C_1) = -1.000\n",
      "    C(C_6, C_7) = -1.000\n",
      "    C(C_1, C_2) = -1.000\n",
      "    C(C_5, C_8) = -1.000\n",
      "    C(C_0, C_3) = -1.000\n",
      "    C(C_5, C_7) =  1.000\n",
      "    C(C_1, C_3) =  1.000\n",
      "    C(C_5, C_6) = -1.000\n",
      "    C(C_2, C_3) = -1.000\n",
      "\n"
     ]
    }
   ],
   "source": [
    "result = polyfit_order_n(8, df_[f\"{probe}_Cal_T\"], df_[\"Scaled Hall Voltage\"], sigma_B)"
   ]
  },
  {
   "cell_type": "code",
   "execution_count": 133,
   "metadata": {},
   "outputs": [
    {
     "data": {
      "text/plain": [
       "(<Figure size 864x864 with 2 Axes>, GridSpec(2, 1, height_ratios=[1, 4]))"
      ]
     },
     "execution_count": 133,
     "metadata": {},
     "output_type": "execute_result"
    },
    {
     "data": {
      "image/png": "[encoded data removed]",
      "text/plain": [
       "<Figure size 864x864 with 2 Axes>"
      ]
     },
     "metadata": {
      "needs_background": "light"
     },
     "output_type": "display_data"
    }
   ],
   "source": [
    "result.plot()"
   ]
  },
  {
   "cell_type": "code",
   "execution_count": null,
   "metadata": {},
   "outputs": [],
   "source": []
  },
  {
   "cell_type": "code",
   "execution_count": 169,
   "metadata": {},
   "outputs": [
    {
     "data": {
      "text/plain": [
       "array([35398.,  1270.,  4974.,  1439.,  1403.,  1430.,   204.,  1224.,\n",
       "        2142.])"
      ]
     },
     "execution_count": 169,
     "metadata": {},
     "output_type": "execute_result"
    }
   ],
   "source": [
    "ns"
   ]
  },
  {
   "cell_type": "code",
   "execution_count": 170,
   "metadata": {},
   "outputs": [
    {
     "data": {
      "text/plain": [
       "array([6.438081  , 0.23098375, 0.90465605, 0.26172096, 0.25517339,\n",
       "       0.26008407, 0.0371029 , 0.22261741, 0.38958047])"
      ]
     },
     "execution_count": 170,
     "metadata": {},
     "output_type": "execute_result"
    }
   ],
   "source": [
    "ns / ns.mean()"
   ]
  },
  {
   "cell_type": "code",
   "execution_count": null,
   "metadata": {},
   "outputs": [],
   "source": [
    "x_dat_avg = pd.Series(x_dat_avg)\n",
    "ys = pd.Series(ys)\n",
    "yerrs = pd.Series(yerrs)\n",
    "ns = pd.Series(ns)"
   ]
  },
  {
   "cell_type": "code",
   "execution_count": null,
   "metadata": {},
   "outputs": [],
   "source": [
    "result = polyfit_order_n(1,x_dat_avg, ys, ns.mean()*yerrs / ns)"
   ]
  },
  {
   "cell_type": "code",
   "execution_count": 171,
   "metadata": {},
   "outputs": [
    {
     "data": {
      "image/png": "[encoded data removed]",
      "text/plain": [
       "<Figure size 864x576 with 1 Axes>"
      ]
     },
     "metadata": {
      "needs_background": "light"
     },
     "output_type": "display_data"
    }
   ],
   "source": [
    "#def chi2(f, x, std):\n",
    "#        return np.sum(np.square((x-f)/std))\n",
    "\n",
    "#len(sigma_B)\n",
    "\n",
    "#len(df_)\n",
    "\n",
    "#fit_chi2 = chi2(df_[\"Bmag_lsq\"], df_[\"Scaled Hall Voltage\"], sigma_B)\n",
    "#fit_chi2\n",
    "fit_chi2 = result.chisqr#0.3247\n",
    "\n",
    "dof = len(df_) - 5#4 # 4 parameter fit\n",
    "#dof\n",
    "\n",
    "n = np.linspace(0,12, 100)\n",
    "\n",
    "P = stats.chi2.pdf(n, dof)\n",
    "\n",
    "# 3rd order\n",
    "plt.plot(n,P)\n",
    "plt.plot([fit_chi2, fit_chi2],[0., P.max()], 'r--');"
   ]
  },
  {
   "cell_type": "code",
   "execution_count": null,
   "metadata": {},
   "outputs": [],
   "source": [
    "fig = scatter2d(df_.index, df_[\"DF0000000D5E803A_Cal_Res_Rel\"], df_.days_delta, inline=False)"
   ]
  },
  {
   "cell_type": "code",
   "execution_count": null,
   "metadata": {},
   "outputs": [],
   "source": [
    "result.plot()"
   ]
  },
  {
   "cell_type": "code",
   "execution_count": 172,
   "metadata": {},
   "outputs": [],
   "source": [
    "def plot_polynomial(N, x_dat, y_dat, c_dat, result,\n",
    "                    size=5, filename=None, inline=False, show_plot=True):\n",
    "    \n",
    "    ####averaged=True\n",
    "\n",
    "    # plot the data\n",
    "    fig = scatter2d(x_dat,\n",
    "                    y_dat,\n",
    "                    c_dat, opacity=0.9, show_plot=False)\n",
    "    # add line for fit\n",
    "    xs = np.linspace(x_dat.min(), x_dat.max(), 100)\n",
    "    ys = result.eval(x=xs)\n",
    "    fig.add_trace(go.Scatter(\n",
    "                        x=xs, y=ys,\n",
    "                        mode='lines', name=f'Order {N} Polynomial fit',#\"|V|/|B| = A * Temp. + B\",\n",
    "                        line=dict(color='rgb(78, 42, 132)',#'deeppink',\n",
    "                                  width=1,\n",
    "                                  dash='dash')));\n",
    "    #fig.add_trace(go.Scatter(\n",
    "    #                    x=ts, y=B_lsq_avg,\n",
    "    #                    mode='lines', name=\"mean(|V|/|B|) = A * mean(Temp.) + B\",\n",
    "    #                    line=dict(color='purple', width=1,\n",
    "    #                              dash='dash')));\n",
    "\n",
    "    fig.update_traces(marker=dict(size=size));\n",
    "\n",
    "    '''if averaged:\n",
    "        fig.add_trace(go.Scatter(\n",
    "            x= xs,\n",
    "            y= ys,\n",
    "            mode='markers',\n",
    "            name='Averaged Data',\n",
    "            error_x=dict(\n",
    "                type='data',\n",
    "                array=xerrs,\n",
    "                width=1,\n",
    "                thickness=1.,\n",
    "                visible=True),\n",
    "            error_y=dict(\n",
    "                type='data',\n",
    "                array=yerrs,\n",
    "                width=1,\n",
    "                thickness=1.,\n",
    "                visible=True),\n",
    "            marker=dict(\n",
    "                size=3,\n",
    "                color=\"Red\",\n",
    "            )\n",
    "        ))'''\n",
    "\n",
    "    #eqn = f\"Volt. = {A_fit:.2E} * Temp. + {B_fit:.2E}\"\n",
    "    eqn = f\"y = \"\n",
    "    for n in range(N+1):\n",
    "        p = result.params[f\"C_{n}\"]\n",
    "        eqn += f\"{p:.2E} * x^{n}\"\n",
    "        if (n >= 2) and ((n+1)%3 == 0) and (n != N):\n",
    "            eqn += \"<br>    \"\n",
    "    ax = 250\n",
    "    ay = -25\n",
    "    if result.params[\"C_1\"] < 0:\n",
    "        i = 20\n",
    "        #ax= +\n",
    "        #ay= -\n",
    "    else:\n",
    "        i = -20\n",
    "        ax = -ax\n",
    "        ay = -ay\n",
    "    fig.add_annotation(\n",
    "        go.layout.Annotation(\n",
    "                x=xs[i],\n",
    "                y=ys[i],\n",
    "                text=eqn,\n",
    "                font=dict(\n",
    "                    #family=\"Courier New, monospace\",\n",
    "                    size=12,\n",
    "                    color=\"#ffffff\"\n",
    "                ),\n",
    "                align=\"center\",\n",
    "                arrowhead=2,\n",
    "                arrowsize=1,\n",
    "                arrowwidth=2,\n",
    "                arrowcolor=\"#636363\",\n",
    "                ax=ax,\n",
    "                ay=ax,\n",
    "                bordercolor=\"#c7c7c7\",\n",
    "                borderwidth=2,\n",
    "                borderpad=4,\n",
    "                bgcolor='rgb(78, 42, 132)',#\"#ff7f0e\",\n",
    "                opacity=0.65,\n",
    "                showarrow=True#False\n",
    "        )\n",
    "    )\n",
    "\n",
    "    fig.update_layout(title=\"y vs. x\")\n",
    "    fig.update_xaxes(title_text='x')\n",
    "    fig.update_yaxes(title_text='y')\n",
    "    #fig.update_layout( width=1000,height=600,)\n",
    "\n",
    "    #filename = plotdir+\"scaled_voltage_vs_temperature_3rd_order\"\n",
    "    if filename == None:\n",
    "        if show_plot:\n",
    "            if inline:\n",
    "                iplot(fig)\n",
    "            else:\n",
    "                plot(fig)\n",
    "    else:\n",
    "        if show_plot:\n",
    "            if inline:\n",
    "                iplot(fig, filename=filename+'.html')\n",
    "            else:\n",
    "                plot(fig, filename=filename+'.html')\n",
    "        pio.write_image(fig, filename+'.pdf')\n",
    "        pio.write_image(fig, filename+'.png')\n",
    "    \n",
    "    return fig"
   ]
  },
  {
   "cell_type": "code",
   "execution_count": 173,
   "metadata": {},
   "outputs": [
    {
     "ename": "NameError",
     "evalue": "name 'plot_poly_chi2' is not defined",
     "output_type": "error",
     "traceback": [
      "\u001b[0;31m---------------------------------------------------------------------------\u001b[0m",
      "\u001b[0;31mNameError\u001b[0m                                 Traceback (most recent call last)",
      "\u001b[0;32m<ipython-input-173-4993b2c748f2>\u001b[0m in \u001b[0;36m<module>\u001b[0;34m\u001b[0m\n\u001b[0;32m----> 1\u001b[0;31m \u001b[0mfig\u001b[0m \u001b[0;34m=\u001b[0m \u001b[0mplot_poly_chi2\u001b[0m\u001b[0;34m(\u001b[0m\u001b[0;36m4\u001b[0m\u001b[0;34m,\u001b[0m \u001b[0mresult\u001b[0m\u001b[0;34m)\u001b[0m\u001b[0;34m\u001b[0m\u001b[0;34m\u001b[0m\u001b[0m\n\u001b[0m",
      "\u001b[0;31mNameError\u001b[0m: name 'plot_poly_chi2' is not defined"
     ]
    }
   ],
   "source": [
    "fig = plot_poly_chi2(4, result)"
   ]
  },
  {
   "cell_type": "code",
   "execution_count": null,
   "metadata": {},
   "outputs": [],
   "source": [
    "fig = plot_poly_chi2(1, result)"
   ]
  },
  {
   "cell_type": "code",
   "execution_count": null,
   "metadata": {},
   "outputs": [],
   "source": [
    "N = 1\n",
    "len(result.data) - (N+1) # y values"
   ]
  },
  {
   "cell_type": "code",
   "execution_count": 174,
   "metadata": {},
   "outputs": [],
   "source": [
    "def plot_poly_chi2(N, result, filename=None, inline=False, show_plot=True):\n",
    "    dof = len(result.data) - (N+1)\n",
    "    fit_chi2 = result.chisqr\n",
    "    P_at_fit = 1.-stats.chi2.cdf(fit_chi2, dof)\n",
    "    print(f\"Probability of Chi2: {P_at_fit}\")\n",
    "    \n",
    "    lo = min(fit_chi2*0.5, dof / 4)\n",
    "    hi = max(fit_chi2*1.5, 2*dof*1.5)\n",
    "    \n",
    "    n = np.linspace(lo,hi, 1000)\n",
    "\n",
    "    P = stats.chi2.pdf(n, dof)\n",
    "    \n",
    "    n = pd.Series(n, name=\"Chi^2\")\n",
    "    P = pd.Series(P, name=\"p.d.f.\")\n",
    "    \n",
    "    if np.isfinite(P.max()):\n",
    "        ymax = P.max()\n",
    "    else:\n",
    "        ymax = 1.\n",
    "\n",
    "    fig = scatter2d(n,P, show_plot=False)\n",
    "    fig.add_trace(go.Scatter(\n",
    "                            x=[fit_chi2, fit_chi2], y=[0., ymax],\n",
    "                            mode='lines', name=f'Fit Chi^2 = {fit_chi2}',#\"|V|/|B| = A * Temp. + B\",\n",
    "                            line=dict(color='rgb(78, 42, 132)',#'deeppink',\n",
    "                                      width=1,\n",
    "                                      dash='dash')));\n",
    "        \n",
    "    if filename == None:\n",
    "        if show_plot:\n",
    "            if inline:\n",
    "                iplot(fig)\n",
    "            else:\n",
    "                plot(fig)\n",
    "    else:\n",
    "        if show_plot:\n",
    "            if inline:\n",
    "                iplot(fig, filename=filename+'.html')\n",
    "            else:\n",
    "                plot(fig, filename=filename+'.html')\n",
    "        pio.write_image(fig, filename+'.pdf')\n",
    "        pio.write_image(fig, filename+'.png')\n",
    "    \n",
    "    return fig"
   ]
  },
  {
   "cell_type": "code",
   "execution_count": 175,
   "metadata": {},
   "outputs": [
    {
     "name": "stdout",
     "output_type": "stream",
     "text": [
      "Probability of Chi2: 0.0\n"
     ]
    }
   ],
   "source": [
    "fig = plot_poly_chi2(4, result)"
   ]
  },
  {
   "cell_type": "code",
   "execution_count": null,
   "metadata": {},
   "outputs": [],
   "source": [
    "len(result.data)"
   ]
  },
  {
   "cell_type": "code",
   "execution_count": null,
   "metadata": {},
   "outputs": [],
   "source": [
    "len(result.params) - 2"
   ]
  },
  {
   "cell_type": "code",
   "execution_count": null,
   "metadata": {},
   "outputs": [],
   "source": [
    "result.chisqr"
   ]
  },
  {
   "cell_type": "code",
   "execution_count": null,
   "metadata": {},
   "outputs": [],
   "source": [
    "result."
   ]
  },
  {
   "cell_type": "code",
   "execution_count": null,
   "metadata": {},
   "outputs": [],
   "source": []
  },
  {
   "cell_type": "code",
   "execution_count": null,
   "metadata": {},
   "outputs": [],
   "source": []
  },
  {
   "cell_type": "code",
   "execution_count": null,
   "metadata": {},
   "outputs": [],
   "source": [
    "result.eval(x=df[f\"{probe}_Cal_T\"])"
   ]
  },
  {
   "cell_type": "raw",
   "metadata": {},
   "source": [
    "**result.params"
   ]
  },
  {
   "cell_type": "code",
   "execution_count": null,
   "metadata": {},
   "outputs": [],
   "source": [
    "polynomial(np.array([0,1,2]), len(result.params)-2, **result.params)"
   ]
  },
  {
   "cell_type": "code",
   "execution_count": null,
   "metadata": {},
   "outputs": [],
   "source": []
  },
  {
   "cell_type": "code",
   "execution_count": null,
   "metadata": {},
   "outputs": [],
   "source": []
  },
  {
   "cell_type": "code",
   "execution_count": null,
   "metadata": {},
   "outputs": [],
   "source": []
  },
  {
   "cell_type": "code",
   "execution_count": null,
   "metadata": {},
   "outputs": [],
   "source": [
    "    df_[\"Bmag_lsq\"] = volt_3rd(x_dat, A_fit, B_fit, C_fit, D_fit)\n",
    "    df_[\"Bmag_lsq_avg\"] = volt_3rd(x_dat, A_fit_avg, B_fit_avg, C_fit_avg, D_fit_avg)\n",
    "\n",
    "    ts = np.linspace(x_dat.min(), x_dat.max(), 25)\n",
    "\n",
    "    B_lsq = volt_3rd(ts, A_fit, B_fit, C_fit, D_fit)\n",
    "    B_lsq_avg = volt_3rd(ts, A_fit_avg, B_fit_avg, C_fit_avg, D_fit_avg)\n",
    "\n",
    "    B_lsq = pd.Series(B_lsq, name=\"Stable Temp Fit\")\n",
    "    B_lsq_avg = pd.Series(B_lsq_avg, name=\"Stable Temp Averaged Fit\")\n",
    "\n",
    "    averaged=True\n",
    "\n",
    "    fig = scatter2d(x_dat,\n",
    "                    y_dat,\n",
    "                    df_.days_delta, opacity=0.8, show_plot=False)\n",
    "\n",
    "    fig.add_trace(go.Scatter(\n",
    "                        x=ts, y=B_lsq,\n",
    "                        mode='lines', name='Linear fit',#\"|V|/|B| = A * Temp. + B\",\n",
    "                        line=dict(color='rgb(78, 42, 132)',#'deeppink',\n",
    "                                  width=1,\n",
    "                                  dash='dash')));\n",
    "    #fig.add_trace(go.Scatter(\n",
    "    #                    x=ts, y=B_lsq_avg,\n",
    "    #                    mode='lines', name=\"mean(|V|/|B|) = A * mean(Temp.) + B\",\n",
    "    #                    line=dict(color='purple', width=1,\n",
    "    #                              dash='dash')));\n",
    "\n",
    "    fig.update_traces(marker=dict(size=1));\n",
    "\n",
    "    if averaged:\n",
    "        fig.add_trace(go.Scatter(\n",
    "            x= xs,\n",
    "            y= ys,\n",
    "            mode='markers',\n",
    "            name='Averaged Data',\n",
    "            error_x=dict(\n",
    "                type='data',\n",
    "                array=xerrs,\n",
    "                width=1,\n",
    "                thickness=1.,\n",
    "                visible=True),\n",
    "            error_y=dict(\n",
    "                type='data',\n",
    "                array=yerrs,\n",
    "                width=1,\n",
    "                thickness=1.,\n",
    "                visible=True),\n",
    "            marker=dict(\n",
    "                size=3,\n",
    "                color=\"Red\",\n",
    "            )\n",
    "        ))\n",
    "\n",
    "    #eqn = f\"Volt. = {A_fit:.2E} * Temp. + {B_fit:.2E}\"\n",
    "    eqn = f\"y = {A_fit:.2E} * x + {B_fit:.2E} * x^2 + {C_fit:.2E} * x^3 + {D_fit:.2E}\"\n",
    "\n",
    "    i = 6\n",
    "    fig.add_annotation(\n",
    "        go.layout.Annotation(\n",
    "                x=ts[i],\n",
    "                y=B_lsq.iloc[i],\n",
    "                text=eqn,\n",
    "                font=dict(\n",
    "                    #family=\"Courier New, monospace\",\n",
    "                    size=14,\n",
    "                    color=\"#ffffff\"\n",
    "                ),\n",
    "                align=\"center\",\n",
    "                arrowhead=2,\n",
    "                arrowsize=1,\n",
    "                arrowwidth=2,\n",
    "                arrowcolor=\"#636363\",\n",
    "                ax=+250,\n",
    "                ay=-25,\n",
    "                bordercolor=\"#c7c7c7\",\n",
    "                borderwidth=2,\n",
    "                borderpad=4,\n",
    "                bgcolor='rgb(78, 42, 132)',#\"#ff7f0e\",\n",
    "                opacity=0.7,\n",
    "                showarrow=True#False\n",
    "        )\n",
    "    )\n",
    "\n",
    "    fig.update_layout(title=\"Scaled Hall Voltage vs. Hall Probe Temperature\")\n",
    "    fig.update_xaxes(title_text='Hall Probe Temperature [deg C]')\n",
    "    fig.update_yaxes(title_text='|V_Hall| / NMR [micro V / T]')\n",
    "    fig.update_layout( width=1000,height=600,)\n",
    "\n",
    "    filename = plotdir+\"scaled_voltage_vs_temperature_3rd_order\"\n",
    "\n",
    "    plot(fig, filename=filename+'.html')\n",
    "\n",
    "    pio.write_image(fig, filename+\".pdf\")\n",
    "    pio.write_image(fig, filename+\".png\")\n",
    "\n",
    "\n",
    "\n",
    "    def chi2(f, x, std):\n",
    "        return np.sum(np.square((x-f)/std))\n",
    "\n",
    "    len(sigma_B)\n",
    "\n",
    "    len(df_)\n",
    "\n",
    "    fit_chi2 = chi2(df_[\"Bmag_lsq\"], df_[\"Scaled Hall Voltage\"], sigma_B)\n",
    "    fit_chi2\n",
    "\n",
    "    dof = len(df_) - 3#4 # 4 parameter fit\n",
    "    dof\n",
    "\n",
    "    n = np.linspace(1000,20000, 1000)\n",
    "\n",
    "    P = stats.chi2.pdf(n, dof)\n",
    "\n",
    "    # 3rd order\n",
    "    plt.plot(n,P)\n",
    "    plt.plot([fit_chi2, fit_chi2],[0., P.max()], 'r--');\n",
    "\n",
    "    # 4th order\n",
    "    plt.plot(n,P)\n",
    "    plt.plot([fit_chi2, fit_chi2],[0., P.max()], 'r--');"
   ]
  },
  {
   "cell_type": "code",
   "execution_count": null,
   "metadata": {},
   "outputs": [],
   "source": []
  },
  {
   "cell_type": "code",
   "execution_count": null,
   "metadata": {},
   "outputs": [],
   "source": []
  },
  {
   "cell_type": "code",
   "execution_count": null,
   "metadata": {},
   "outputs": [],
   "source": []
  },
  {
   "cell_type": "code",
   "execution_count": null,
   "metadata": {},
   "outputs": [],
   "source": []
  },
  {
   "cell_type": "code",
   "execution_count": null,
   "metadata": {},
   "outputs": [],
   "source": []
  },
  {
   "cell_type": "code",
   "execution_count": null,
   "metadata": {},
   "outputs": [],
   "source": []
  },
  {
   "cell_type": "markdown",
   "metadata": {},
   "source": [
    "## OLD"
   ]
  },
  {
   "cell_type": "code",
   "execution_count": null,
   "metadata": {},
   "outputs": [],
   "source": []
  },
  {
   "cell_type": "code",
   "execution_count": null,
   "metadata": {},
   "outputs": [],
   "source": [
    "high_point = (df[f\"{probe}_Cal_T\"] > 20) & (df[f\"{probe}_Cal_T\"] < 21)\n",
    "low_point = (df[f\"{probe}_Cal_T\"] > 16) & (df[f\"{probe}_Cal_T\"] < 17)\n",
    "mid_point = (df[f\"{probe}_Cal_T\"] > 18) & (df[f\"{probe}_Cal_T\"] < 19)\n",
    "h = high_point & stable_temp\n",
    "l = low_point & stable_temp\n",
    "m = mid_point & stable_temp"
   ]
  },
  {
   "cell_type": "code",
   "execution_count": null,
   "metadata": {},
   "outputs": [],
   "source": [
    "plt.hist(df[h][f\"{probe}_Raw_Bmag\"]/df[h][\"NMR [T]\"], bins=50);"
   ]
  },
  {
   "cell_type": "code",
   "execution_count": null,
   "metadata": {},
   "outputs": [],
   "source": [
    "fig = scatter2d(df[h][f\"{probe}_Cal_T\"], df[h][f\"{probe}_Raw_Bmag\"]/df[h][\"NMR [T]\"],\n",
    "                df[h].days_delta, inline=False)"
   ]
  },
  {
   "cell_type": "code",
   "execution_count": null,
   "metadata": {},
   "outputs": [],
   "source": [
    "hist2 = plt.hist2d(df[h][f\"{probe}_Cal_T\"], df[h][f\"{probe}_Raw_Bmag\"]/df[h][\"NMR [T]\"], bins=35);"
   ]
  },
  {
   "cell_type": "code",
   "execution_count": null,
   "metadata": {},
   "outputs": [],
   "source": [
    "hist2[1]"
   ]
  },
  {
   "cell_type": "code",
   "execution_count": null,
   "metadata": {},
   "outputs": [],
   "source": [
    "36*36"
   ]
  },
  {
   "cell_type": "code",
   "execution_count": null,
   "metadata": {},
   "outputs": [],
   "source": [
    "len(hist2[1])"
   ]
  },
  {
   "cell_type": "code",
   "execution_count": null,
   "metadata": {},
   "outputs": [],
   "source": [
    "len(hist2[2])"
   ]
  },
  {
   "cell_type": "code",
   "execution_count": null,
   "metadata": {},
   "outputs": [],
   "source": [
    "int(np.floor(hist2[0].argmax() / 36))"
   ]
  },
  {
   "cell_type": "code",
   "execution_count": null,
   "metadata": {},
   "outputs": [],
   "source": [
    "int(round(((hist2[0].argmax() / 35) - int(np.floor(hist2[0].argmax() / 35))) * 35))"
   ]
  },
  {
   "cell_type": "code",
   "execution_count": null,
   "metadata": {},
   "outputs": [],
   "source": [
    "1296-int(np.floor(hist2[0].argmax() / 36))*36"
   ]
  },
  {
   "cell_type": "code",
   "execution_count": null,
   "metadata": {},
   "outputs": [],
   "source": [
    "hist2[0][int(np.floor(hist2[0].argmax() / 35)), int(round(((hist2[0].argmax() / 35) - int(np.floor(hist2[0].argmax() / 35))) * 35))]"
   ]
  },
  {
   "cell_type": "code",
   "execution_count": null,
   "metadata": {},
   "outputs": [],
   "source": [
    "for x, y in np.argwhere(hist2[0] == hist2[0].max()):\n",
    "    # center is between x and x+1\n",
    "    print(np.average(hist2[1][x:x + 2]), np.average(hist2[2][y:y + 2]))"
   ]
  },
  {
   "cell_type": "code",
   "execution_count": null,
   "metadata": {},
   "outputs": [],
   "source": [
    "(df[h][f\"{probe}_Raw_Bmag\"]/df[h][\"NMR [T]\"]).describe()"
   ]
  },
  {
   "cell_type": "code",
   "execution_count": null,
   "metadata": {},
   "outputs": [],
   "source": [
    "df[h][f\"{probe}_Cal_T\"].describe()"
   ]
  },
  {
   "cell_type": "code",
   "execution_count": null,
   "metadata": {},
   "outputs": [],
   "source": []
  },
  {
   "cell_type": "code",
   "execution_count": null,
   "metadata": {},
   "outputs": [],
   "source": [
    "fig = scatter2d(df[stable_temp].index, df[stable_temp][\"Floor\"], inline=False)"
   ]
  },
  {
   "cell_type": "code",
   "execution_count": null,
   "metadata": {},
   "outputs": [],
   "source": [
    "fig = scatter2d(df.index, df[\"Floor\"].diff(5).rolling(5).mean(), inline=False)"
   ]
  },
  {
   "cell_type": "code",
   "execution_count": null,
   "metadata": {},
   "outputs": [],
   "source": [
    "df[\"Roof\"].diff(4).plot()"
   ]
  },
  {
   "cell_type": "code",
   "execution_count": null,
   "metadata": {},
   "outputs": [],
   "source": [
    "df[\"NMR [T]\"].plot()\n",
    "#df[\"Roof\"].diff(1).plot();"
   ]
  },
  {
   "cell_type": "code",
   "execution_count": null,
   "metadata": {},
   "outputs": [],
   "source": []
  },
  {
   "cell_type": "code",
   "execution_count": null,
   "metadata": {},
   "outputs": [],
   "source": []
  },
  {
   "cell_type": "code",
   "execution_count": null,
   "metadata": {},
   "outputs": [],
   "source": [
    "df_ = df[l|m|h]"
   ]
  },
  {
   "cell_type": "code",
   "execution_count": null,
   "metadata": {},
   "outputs": [],
   "source": [
    "def volt(temp, A, B):\n",
    "    return A * temp + B"
   ]
  },
  {
   "cell_type": "code",
   "execution_count": null,
   "metadata": {},
   "outputs": [],
   "source": [
    "guess = np.array([-1300 / 3.5, 2e6]) # A, B"
   ]
  },
  {
   "cell_type": "code",
   "execution_count": null,
   "metadata": {},
   "outputs": [],
   "source": [
    "x_dat = df_[f\"{probe}_Cal_T\"]\n",
    "#x_dat = df[stable_temp][f\"{probe}_Cal_T\"]"
   ]
  },
  {
   "cell_type": "code",
   "execution_count": null,
   "metadata": {},
   "outputs": [],
   "source": [
    "params, cov = optimization.curve_fit(volt, x_dat, df_[f\"{probe}_Raw_Bmag\"] / df_[\"NMR [T]\"], guess)\n",
    "#params, cov = optimization.curve_fit(volt, x_dat, \n",
    "#                                     df[stable_temp][f\"{probe}_Raw_Bmag\"] / df[stable_temp][\"NMR [T]\"], guess)"
   ]
  },
  {
   "cell_type": "code",
   "execution_count": null,
   "metadata": {},
   "outputs": [],
   "source": [
    "# Bmag ### STABLE TEMP\n",
    "params, cov"
   ]
  },
  {
   "cell_type": "code",
   "execution_count": null,
   "metadata": {},
   "outputs": [],
   "source": [
    "np.sqrt(cov[0,0])"
   ]
  },
  {
   "cell_type": "code",
   "execution_count": null,
   "metadata": {},
   "outputs": [],
   "source": [
    "cov[0,1] / (np.sqrt(cov[0,0])*np.sqrt(cov[1,1]))"
   ]
  },
  {
   "cell_type": "markdown",
   "metadata": {},
   "source": [
    "Parameters have strong correlation"
   ]
  },
  {
   "cell_type": "code",
   "execution_count": null,
   "metadata": {},
   "outputs": [],
   "source": [
    "A_fit, B_fit = params"
   ]
  },
  {
   "cell_type": "code",
   "execution_count": null,
   "metadata": {},
   "outputs": [],
   "source": [
    "df_[\"Bmag_lsq\"] = volt(x_dat, A_fit, B_fit)"
   ]
  },
  {
   "cell_type": "code",
   "execution_count": null,
   "metadata": {},
   "outputs": [],
   "source": []
  },
  {
   "cell_type": "code",
   "execution_count": null,
   "metadata": {},
   "outputs": [],
   "source": [
    "p_low = [df[l][f\"{probe}_Cal_T\"].mean(), (df[l][f\"{probe}_Raw_Bmag\"]/df[l][\"NMR [T]\"]).mean()]\n",
    "p_high = [df[h][f\"{probe}_Cal_T\"].mean(), (df[h][f\"{probe}_Raw_Bmag\"]/df[h][\"NMR [T]\"]).mean()]\n",
    "p_mid = [df[m][f\"{probe}_Cal_T\"].mean(), (df[m][f\"{probe}_Raw_Bmag\"]/df[m][\"NMR [T]\"]).mean()]"
   ]
  },
  {
   "cell_type": "code",
   "execution_count": null,
   "metadata": {},
   "outputs": [],
   "source": [
    "std_low = [df[l][f\"{probe}_Cal_T\"].std(), (df[l][f\"{probe}_Raw_Bmag\"]/df[l][\"NMR [T]\"]).std()]\n",
    "std_high = [df[h][f\"{probe}_Cal_T\"].std(), (df[h][f\"{probe}_Raw_Bmag\"]/df[h][\"NMR [T]\"]).std()]\n",
    "std_mid = [df[m][f\"{probe}_Cal_T\"].std(), (df[m][f\"{probe}_Raw_Bmag\"]/df[m][\"NMR [T]\"]).std()]"
   ]
  },
  {
   "cell_type": "code",
   "execution_count": null,
   "metadata": {},
   "outputs": [],
   "source": [
    "std_low"
   ]
  },
  {
   "cell_type": "code",
   "execution_count": null,
   "metadata": {},
   "outputs": [],
   "source": [
    "fig = scatter2d(df_[f\"{probe}_Cal_T\"],\n",
    "                df_[f\"{probe}_Raw_Bmag\"] / df_[\"NMR [T]\"],\n",
    "                df_.days_delta, show_plot=False)\n",
    "#d = [df[f\"{probe}_Raw_X\"].min(), df[f\"{probe}_Raw_X\"].max()]\n",
    "fig.add_trace(go.Scatter(\n",
    "                    x=df_[f\"{probe}_Cal_T\"], y=df_[\"Bmag_lsq\"],\n",
    "                    mode='lines', name=\"|V|/|B| = A * Temp. + B\",\n",
    "                    line=dict(color='deeppink', width=1,\n",
    "                              dash='dash')));\n",
    "#plot(fig)\n",
    "\n",
    "fig.update_traces(marker=dict(size=1));\n",
    "#plot(fig);\n",
    "\n",
    "fig.add_trace(go.Scatter(\n",
    "    x= [p_low[0],p_mid[0],p_high[0]],\n",
    "    y=[p_low[1],p_mid[1],p_high[1]],\n",
    "    mode='markers',\n",
    "    name='averaged_data',\n",
    "    error_x=dict(\n",
    "        type='data',\n",
    "        array=[std_low[0], std_mid[0], std_high[0]],\n",
    "        width=1,\n",
    "        thickness=1.,\n",
    "        visible=True),\n",
    "    error_y=dict(\n",
    "        type='data',\n",
    "        array=[std_low[1], std_mid[1], std_high[1]],\n",
    "        width=1,\n",
    "        thickness=1.,\n",
    "        visible=True),\n",
    "    marker=dict(\n",
    "        size=4,\n",
    "        color=\"Red\",\n",
    "    )\n",
    "))\n",
    "\n",
    "fig.update_layout(title=\"Scaled Hall Voltage vs. Hall Probe Temperature\")\n",
    "fig.update_xaxes(title_text='Hall Probe Temperature [deg C]')\n",
    "fig.update_yaxes(title_text='|V_Hall| / NMR [micro V / T]')\n",
    "fig.update_layout( width=1200,height=900,)\n",
    "\n",
    "#fig = go.Figure(traces)\n",
    "plot(fig, filename=plotdir+\"temp_fit_2point_aggregate.html\")"
   ]
  },
  {
   "cell_type": "code",
   "execution_count": null,
   "metadata": {},
   "outputs": [],
   "source": [
    "pio.write_image(fig, plotdir+\"temp_fit_2point_aggregate.pdf\")\n",
    "pio.write_image(fig, plotdir+\"temp_fit_2point_aggregate.png\")"
   ]
  },
  {
   "cell_type": "code",
   "execution_count": null,
   "metadata": {},
   "outputs": [],
   "source": [
    "std_low"
   ]
  },
  {
   "cell_type": "code",
   "execution_count": null,
   "metadata": {},
   "outputs": [],
   "source": [
    "std_mid"
   ]
  },
  {
   "cell_type": "code",
   "execution_count": null,
   "metadata": {},
   "outputs": [],
   "source": [
    "std_high"
   ]
  },
  {
   "cell_type": "code",
   "execution_count": null,
   "metadata": {},
   "outputs": [],
   "source": [
    "### pick std = 55\n",
    "std_volt = 45.#55."
   ]
  },
  {
   "cell_type": "code",
   "execution_count": null,
   "metadata": {},
   "outputs": [],
   "source": [
    "def chi2(f, x, std):\n",
    "    return np.sum(np.square((x-f)/std))"
   ]
  },
  {
   "cell_type": "code",
   "execution_count": null,
   "metadata": {},
   "outputs": [],
   "source": [
    "fit_chi2 = chi2(df_[\"Bmag_lsq\"], df_[f\"{probe}_Raw_Bmag\"]/df_[\"NMR [T]\"], std_volt)\n",
    "fit_chi2"
   ]
  },
  {
   "cell_type": "code",
   "execution_count": null,
   "metadata": {},
   "outputs": [],
   "source": [
    "# check std\n",
    "df_2 = df_[100:500]"
   ]
  },
  {
   "cell_type": "code",
   "execution_count": null,
   "metadata": {},
   "outputs": [],
   "source": [
    "fig = scatter2d(df_2.index, df_2[f\"{probe}_Raw_Bmag\"]/df_2[\"NMR [T]\"],\n",
    "               inline=False)"
   ]
  },
  {
   "cell_type": "code",
   "execution_count": null,
   "metadata": {},
   "outputs": [],
   "source": [
    "scaled_B = df_2[f\"{probe}_Raw_Bmag\"]/df_2[\"NMR [T]\"]\n",
    "scaled_B.name = \"Scaled |V|/|B|\""
   ]
  },
  {
   "cell_type": "code",
   "execution_count": null,
   "metadata": {},
   "outputs": [],
   "source": [
    "fig = histo(scaled_B, bins=25,\n",
    "               inline=False)"
   ]
  },
  {
   "cell_type": "code",
   "execution_count": null,
   "metadata": {},
   "outputs": [],
   "source": [
    "dof = len(df_) - 2\n",
    "dof"
   ]
  },
  {
   "cell_type": "code",
   "execution_count": null,
   "metadata": {},
   "outputs": [],
   "source": [
    "stats.chi2.pdf(6300, 6325)"
   ]
  },
  {
   "cell_type": "code",
   "execution_count": null,
   "metadata": {},
   "outputs": [],
   "source": [
    "n = np.linspace(0, 7000, 1000)"
   ]
  },
  {
   "cell_type": "code",
   "execution_count": null,
   "metadata": {},
   "outputs": [],
   "source": [
    "P = stats.chi2.pdf(n, dof)"
   ]
  },
  {
   "cell_type": "code",
   "execution_count": null,
   "metadata": {},
   "outputs": [],
   "source": [
    "plt.plot(n,P)\n",
    "plt.plot([fit_chi2, fit_chi2],[0., P.max()], 'r--');"
   ]
  },
  {
   "cell_type": "code",
   "execution_count": null,
   "metadata": {},
   "outputs": [],
   "source": [
    "n[P.argmax()]"
   ]
  },
  {
   "cell_type": "markdown",
   "metadata": {},
   "source": [
    "## Magnet Behavior"
   ]
  },
  {
   "cell_type": "code",
   "execution_count": null,
   "metadata": {},
   "outputs": [],
   "source": [
    "probes"
   ]
  },
  {
   "cell_type": "code",
   "execution_count": null,
   "metadata": {},
   "outputs": [],
   "source": [
    "x_dat = df.index\n",
    "y_dat = df[f\"{probes[0]}_Raw_X\"]"
   ]
  },
  {
   "cell_type": "code",
   "execution_count": null,
   "metadata": {},
   "outputs": [],
   "source": [
    "fig = scatter2d(x_dat, y_dat, df.days_delta, inline=False)"
   ]
  },
  {
   "cell_type": "code",
   "execution_count": null,
   "metadata": {},
   "outputs": [],
   "source": []
  }
 ],
 "metadata": {
  "kernelspec": {
   "display_name": "Python [conda env:mu2e]",
   "language": "python",
   "name": "conda-env-mu2e-py"
  },
  "language_info": {
   "codemirror_mode": {
    "name": "ipython",
    "version": 3
   },
   "file_extension": ".py",
   "mimetype": "text/x-python",
   "name": "python",
   "nbconvert_exporter": "python",
   "pygments_lexer": "ipython3",
   "version": "3.8.6"
  }
 },
 "nbformat": 4,
 "nbformat_minor": 2
}
