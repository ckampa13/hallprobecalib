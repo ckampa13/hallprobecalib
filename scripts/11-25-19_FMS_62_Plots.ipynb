{
 "cells": [
  {
   "cell_type": "markdown",
   "metadata": {},
   "source": [
    "# FMS #62"
   ]
  },
  {
   "cell_type": "markdown",
   "metadata": {},
   "source": [
    "- Discussing current status of Hall Probe tests\n",
    "- First summarize what tests have been completed\n",
    "- Highlight most recent test and what we've learned\n",
    "- Discuss $|B|$ equation\n",
    "- Plans for post-Thanksgiving"
   ]
  },
  {
   "cell_type": "markdown",
   "metadata": {},
   "source": [
    "# Imports"
   ]
  },
  {
   "cell_type": "code",
   "execution_count": 1,
   "metadata": {},
   "outputs": [],
   "source": [
    "%load_ext autoreload\n",
    "%autoreload 2"
   ]
  },
  {
   "cell_type": "code",
   "execution_count": 3,
   "metadata": {},
   "outputs": [
    {
     "data": {
      "text/html": [
       "        <script type=\"text/javascript\">\n",
       "        window.PlotlyConfig = {MathJaxConfig: 'local'};\n",
       "        if (window.MathJax) {MathJax.Hub.Config({SVG: {font: \"STIX-Web\"}});}\n",
       "        if (typeof require !== 'undefined') {\n",
       "        require.undef(\"plotly\");\n",
       "        requirejs.config({\n",
       "            paths: {\n",
       "                'plotly': ['https://cdn.plot.ly/plotly-latest.min']\n",
       "            }\n",
       "        });\n",
       "        require(['plotly'], function(Plotly) {\n",
       "            window._Plotly = Plotly;\n",
       "        });\n",
       "        }\n",
       "        </script>\n",
       "        "
      ]
     },
     "metadata": {},
     "output_type": "display_data"
    }
   ],
   "source": [
    "import os\n",
    "import re\n",
    "import csv\n",
    "import numpy as np\n",
    "import pandas as pd\n",
    "import pickle as pkl\n",
    "from datetime import datetime\n",
    "from dateutil import parser\n",
    "\n",
    "import operator\n",
    "from scipy import stats\n",
    "\n",
    "import matplotlib.pyplot as plt\n",
    "from mpl_toolkits.mplot3d import Axes3D\n",
    "%matplotlib inline\n",
    "plt.rcParams['figure.figsize'] = (12.0, 8.0)\n",
    "plt.rcParams['axes.axisbelow'] = True\n",
    "\n",
    "from plotly.offline import init_notebook_mode, plot, iplot\n",
    "import plotly.graph_objs as go\n",
    "import plotly.io as pio\n",
    "from plotly.subplots import make_subplots\n",
    "init_notebook_mode(True)\n",
    "\n",
    "from hallprobecalib import hpc_ext_path\n",
    "from hallprobecalib.hpcplots import scatter2d,scatter3d,histo,py_profile"
   ]
  },
  {
   "cell_type": "code",
   "execution_count": 4,
   "metadata": {},
   "outputs": [],
   "source": [
    "plotdir = '/home/ckampa/Dropbox/research/deliverables/presentations/fms/11-26-19 Hall Probe Stability 3/figures/'"
   ]
  },
  {
   "cell_type": "code",
   "execution_count": 5,
   "metadata": {},
   "outputs": [],
   "source": [
    "datadir = \"/home/ckampa/Dropbox/LogFiles/\"\n",
    "pkldir = hpc_ext_path+\"datafiles/magnet_stability/pkl/\""
   ]
  },
  {
   "cell_type": "code",
   "execution_count": 6,
   "metadata": {},
   "outputs": [],
   "source": [
    "df = pd.read_pickle(pkldir+\"magnet_stability_all.pkl\")"
   ]
  },
  {
   "cell_type": "code",
   "execution_count": 7,
   "metadata": {},
   "outputs": [
    {
     "data": {
      "text/html": [
       "<div>\n",
       "<style scoped>\n",
       "    .dataframe tbody tr th:only-of-type {\n",
       "        vertical-align: middle;\n",
       "    }\n",
       "\n",
       "    .dataframe tbody tr th {\n",
       "        vertical-align: top;\n",
       "    }\n",
       "\n",
       "    .dataframe thead th {\n",
       "        text-align: right;\n",
       "    }\n",
       "</style>\n",
       "<table border=\"1\" class=\"dataframe\">\n",
       "  <thead>\n",
       "    <tr style=\"text-align: right;\">\n",
       "      <th></th>\n",
       "      <th>Time</th>\n",
       "      <th>Magnet Current [A]</th>\n",
       "      <th>Magnet Voltage [V]</th>\n",
       "      <th>Coil 1 (new)</th>\n",
       "      <th>Coil 2 (old)</th>\n",
       "      <th>LCW in Coil1</th>\n",
       "      <th>LCW out Coil 1</th>\n",
       "      <th>LCW in Coil 2</th>\n",
       "      <th>LCW out Coil 2</th>\n",
       "      <th>Yoke</th>\n",
       "      <th>...</th>\n",
       "      <th>Zaber_Meas_MicroStep_X</th>\n",
       "      <th>Zaber_Meas_Encoder_X</th>\n",
       "      <th>Zaber_Meas_MicroStep_Y</th>\n",
       "      <th>Zaber_Meas_Encoder_Y</th>\n",
       "      <th>Zaber_Meas_MicroStep_Z</th>\n",
       "      <th>Zaber_Meas_Encoder_Z</th>\n",
       "      <th>run</th>\n",
       "      <th>seconds_delta</th>\n",
       "      <th>hours_delta</th>\n",
       "      <th>days_delta</th>\n",
       "    </tr>\n",
       "    <tr>\n",
       "      <th>Datetime</th>\n",
       "      <th></th>\n",
       "      <th></th>\n",
       "      <th></th>\n",
       "      <th></th>\n",
       "      <th></th>\n",
       "      <th></th>\n",
       "      <th></th>\n",
       "      <th></th>\n",
       "      <th></th>\n",
       "      <th></th>\n",
       "      <th></th>\n",
       "      <th></th>\n",
       "      <th></th>\n",
       "      <th></th>\n",
       "      <th></th>\n",
       "      <th></th>\n",
       "      <th></th>\n",
       "      <th></th>\n",
       "      <th></th>\n",
       "      <th></th>\n",
       "      <th></th>\n",
       "    </tr>\n",
       "  </thead>\n",
       "  <tbody>\n",
       "    <tr>\n",
       "      <th>2019-07-16 10:12:40</th>\n",
       "      <td>7/16/2019 10:12:40 AM</td>\n",
       "      <td>256.069238</td>\n",
       "      <td>33.803850</td>\n",
       "      <td>55.239761</td>\n",
       "      <td>52.688934</td>\n",
       "      <td>31.030971</td>\n",
       "      <td>34.043785</td>\n",
       "      <td>32.280407</td>\n",
       "      <td>38.443527</td>\n",
       "      <td>29.436894</td>\n",
       "      <td>...</td>\n",
       "      <td>210351.5625</td>\n",
       "      <td>538500.0</td>\n",
       "      <td>178906.25</td>\n",
       "      <td>458000.0</td>\n",
       "      <td>642578.125</td>\n",
       "      <td>1645000.0</td>\n",
       "      <td>10</td>\n",
       "      <td>0.0</td>\n",
       "      <td>0.000000</td>\n",
       "      <td>0.000000</td>\n",
       "    </tr>\n",
       "    <tr>\n",
       "      <th>2019-07-16 10:13:40</th>\n",
       "      <td>7/16/2019 10:13:40 AM</td>\n",
       "      <td>256.069310</td>\n",
       "      <td>33.803700</td>\n",
       "      <td>55.233868</td>\n",
       "      <td>52.673191</td>\n",
       "      <td>31.029926</td>\n",
       "      <td>34.037178</td>\n",
       "      <td>32.402508</td>\n",
       "      <td>38.393867</td>\n",
       "      <td>29.435436</td>\n",
       "      <td>...</td>\n",
       "      <td>210351.5625</td>\n",
       "      <td>538500.0</td>\n",
       "      <td>178906.25</td>\n",
       "      <td>458000.0</td>\n",
       "      <td>642578.125</td>\n",
       "      <td>1645000.0</td>\n",
       "      <td>10</td>\n",
       "      <td>60.0</td>\n",
       "      <td>0.016667</td>\n",
       "      <td>0.000694</td>\n",
       "    </tr>\n",
       "    <tr>\n",
       "      <th>2019-07-16 10:14:40</th>\n",
       "      <td>7/16/2019 10:14:40 AM</td>\n",
       "      <td>256.069224</td>\n",
       "      <td>33.803700</td>\n",
       "      <td>55.229145</td>\n",
       "      <td>52.680092</td>\n",
       "      <td>31.013575</td>\n",
       "      <td>34.047707</td>\n",
       "      <td>32.277966</td>\n",
       "      <td>38.459206</td>\n",
       "      <td>29.444553</td>\n",
       "      <td>...</td>\n",
       "      <td>210351.5625</td>\n",
       "      <td>538500.0</td>\n",
       "      <td>178906.25</td>\n",
       "      <td>458000.0</td>\n",
       "      <td>642578.125</td>\n",
       "      <td>1645000.0</td>\n",
       "      <td>10</td>\n",
       "      <td>120.0</td>\n",
       "      <td>0.033333</td>\n",
       "      <td>0.001389</td>\n",
       "    </tr>\n",
       "    <tr>\n",
       "      <th>2019-07-16 10:15:40</th>\n",
       "      <td>7/16/2019 10:15:40 AM</td>\n",
       "      <td>256.069285</td>\n",
       "      <td>33.803833</td>\n",
       "      <td>55.199894</td>\n",
       "      <td>52.724766</td>\n",
       "      <td>31.009970</td>\n",
       "      <td>34.055397</td>\n",
       "      <td>32.232929</td>\n",
       "      <td>38.468384</td>\n",
       "      <td>29.450718</td>\n",
       "      <td>...</td>\n",
       "      <td>210351.5625</td>\n",
       "      <td>538500.0</td>\n",
       "      <td>178906.25</td>\n",
       "      <td>458000.0</td>\n",
       "      <td>642578.125</td>\n",
       "      <td>1645000.0</td>\n",
       "      <td>10</td>\n",
       "      <td>180.0</td>\n",
       "      <td>0.050000</td>\n",
       "      <td>0.002083</td>\n",
       "    </tr>\n",
       "    <tr>\n",
       "      <th>2019-07-16 10:16:40</th>\n",
       "      <td>7/16/2019 10:16:40 AM</td>\n",
       "      <td>256.069277</td>\n",
       "      <td>33.803800</td>\n",
       "      <td>55.242519</td>\n",
       "      <td>52.758240</td>\n",
       "      <td>31.042023</td>\n",
       "      <td>34.066185</td>\n",
       "      <td>32.286911</td>\n",
       "      <td>38.431835</td>\n",
       "      <td>29.435515</td>\n",
       "      <td>...</td>\n",
       "      <td>210351.5625</td>\n",
       "      <td>538500.0</td>\n",
       "      <td>178906.25</td>\n",
       "      <td>458000.0</td>\n",
       "      <td>642578.125</td>\n",
       "      <td>1645000.0</td>\n",
       "      <td>10</td>\n",
       "      <td>240.0</td>\n",
       "      <td>0.066667</td>\n",
       "      <td>0.002778</td>\n",
       "    </tr>\n",
       "  </tbody>\n",
       "</table>\n",
       "<p>5 rows × 55 columns</p>\n",
       "</div>"
      ],
      "text/plain": [
       "                                      Time  Magnet Current [A]  \\\n",
       "Datetime                                                         \n",
       "2019-07-16 10:12:40  7/16/2019 10:12:40 AM          256.069238   \n",
       "2019-07-16 10:13:40  7/16/2019 10:13:40 AM          256.069310   \n",
       "2019-07-16 10:14:40  7/16/2019 10:14:40 AM          256.069224   \n",
       "2019-07-16 10:15:40  7/16/2019 10:15:40 AM          256.069285   \n",
       "2019-07-16 10:16:40  7/16/2019 10:16:40 AM          256.069277   \n",
       "\n",
       "                     Magnet Voltage [V]  Coil 1 (new)  Coil 2 (old)  \\\n",
       "Datetime                                                              \n",
       "2019-07-16 10:12:40           33.803850     55.239761     52.688934   \n",
       "2019-07-16 10:13:40           33.803700     55.233868     52.673191   \n",
       "2019-07-16 10:14:40           33.803700     55.229145     52.680092   \n",
       "2019-07-16 10:15:40           33.803833     55.199894     52.724766   \n",
       "2019-07-16 10:16:40           33.803800     55.242519     52.758240   \n",
       "\n",
       "                     LCW in Coil1  LCW out Coil 1  LCW in Coil 2  \\\n",
       "Datetime                                                           \n",
       "2019-07-16 10:12:40     31.030971       34.043785      32.280407   \n",
       "2019-07-16 10:13:40     31.029926       34.037178      32.402508   \n",
       "2019-07-16 10:14:40     31.013575       34.047707      32.277966   \n",
       "2019-07-16 10:15:40     31.009970       34.055397      32.232929   \n",
       "2019-07-16 10:16:40     31.042023       34.066185      32.286911   \n",
       "\n",
       "                     LCW out Coil 2       Yoke     ...      \\\n",
       "Datetime                                           ...       \n",
       "2019-07-16 10:12:40       38.443527  29.436894     ...       \n",
       "2019-07-16 10:13:40       38.393867  29.435436     ...       \n",
       "2019-07-16 10:14:40       38.459206  29.444553     ...       \n",
       "2019-07-16 10:15:40       38.468384  29.450718     ...       \n",
       "2019-07-16 10:16:40       38.431835  29.435515     ...       \n",
       "\n",
       "                     Zaber_Meas_MicroStep_X  Zaber_Meas_Encoder_X  \\\n",
       "Datetime                                                            \n",
       "2019-07-16 10:12:40             210351.5625              538500.0   \n",
       "2019-07-16 10:13:40             210351.5625              538500.0   \n",
       "2019-07-16 10:14:40             210351.5625              538500.0   \n",
       "2019-07-16 10:15:40             210351.5625              538500.0   \n",
       "2019-07-16 10:16:40             210351.5625              538500.0   \n",
       "\n",
       "                     Zaber_Meas_MicroStep_Y  Zaber_Meas_Encoder_Y  \\\n",
       "Datetime                                                            \n",
       "2019-07-16 10:12:40               178906.25              458000.0   \n",
       "2019-07-16 10:13:40               178906.25              458000.0   \n",
       "2019-07-16 10:14:40               178906.25              458000.0   \n",
       "2019-07-16 10:15:40               178906.25              458000.0   \n",
       "2019-07-16 10:16:40               178906.25              458000.0   \n",
       "\n",
       "                     Zaber_Meas_MicroStep_Z  Zaber_Meas_Encoder_Z  run  \\\n",
       "Datetime                                                                 \n",
       "2019-07-16 10:12:40              642578.125             1645000.0   10   \n",
       "2019-07-16 10:13:40              642578.125             1645000.0   10   \n",
       "2019-07-16 10:14:40              642578.125             1645000.0   10   \n",
       "2019-07-16 10:15:40              642578.125             1645000.0   10   \n",
       "2019-07-16 10:16:40              642578.125             1645000.0   10   \n",
       "\n",
       "                     seconds_delta  hours_delta  days_delta  \n",
       "Datetime                                                     \n",
       "2019-07-16 10:12:40            0.0     0.000000    0.000000  \n",
       "2019-07-16 10:13:40           60.0     0.016667    0.000694  \n",
       "2019-07-16 10:14:40          120.0     0.033333    0.001389  \n",
       "2019-07-16 10:15:40          180.0     0.050000    0.002083  \n",
       "2019-07-16 10:16:40          240.0     0.066667    0.002778  \n",
       "\n",
       "[5 rows x 55 columns]"
      ]
     },
     "execution_count": 7,
     "metadata": {},
     "output_type": "execute_result"
    }
   ],
   "source": [
    "df.head()"
   ]
  },
  {
   "cell_type": "code",
   "execution_count": 8,
   "metadata": {},
   "outputs": [
    {
     "data": {
      "text/plain": [
       "67694"
      ]
     },
     "execution_count": 8,
     "metadata": {},
     "output_type": "execute_result"
    }
   ],
   "source": [
    "len(df)"
   ]
  },
  {
   "cell_type": "code",
   "execution_count": 9,
   "metadata": {},
   "outputs": [
    {
     "data": {
      "text/plain": [
       "<matplotlib.axes._subplots.AxesSubplot at 0x7f165802c250>"
      ]
     },
     "execution_count": 9,
     "metadata": {},
     "output_type": "execute_result"
    },
    {
     "data": {
      "image/png": "[encoded data removed]",
      "text/plain": [
       "<Figure size 864x576 with 1 Axes>"
      ]
     },
     "metadata": {
      "needs_background": "light"
     },
     "output_type": "display_data"
    }
   ],
   "source": [
    "df[\"Magnet Current [A]\"].plot()"
   ]
  },
  {
   "cell_type": "markdown",
   "metadata": {},
   "source": [
    "### Decoding caldat.dat"
   ]
  },
  {
   "cell_type": "code",
   "execution_count": 10,
   "metadata": {},
   "outputs": [],
   "source": [
    "# file\n",
    "calfile = hpc_ext_path + \"probeinfo/caldat.dat\""
   ]
  },
  {
   "cell_type": "code",
   "execution_count": 40,
   "metadata": {},
   "outputs": [],
   "source": [
    "with open(calfile, \"rb\") as f:\n",
    "    content = f.readlines()\n",
    "\n",
    "# remove whitespace\n",
    "#content = [x.strip() for x in content]"
   ]
  },
  {
   "cell_type": "code",
   "execution_count": 41,
   "metadata": {},
   "outputs": [
    {
     "data": {
      "text/plain": [
       "b'\\x0e\\x00\\x00\\x00\\x05\\x01\\x8d\\x00\\x00\\x00\\rZ=:\\xac\\x03\\x00\\x00\\x0e\\x00\\x00\\x00\\xac\\x03\\x00\\x009\\x01\\x00\\x00i\\x02\\x00\\x00\\x00\\x00\\x00\\x00\\xf7\\x91\\x02\\x10J\\x00\\xbcKh\\x9f\\x00\\xbd\\x01) \\x00?\\x85\\xa0\\x1a\\xb4 \\xe4\\xd0\\xb8\\x8a\\xb9\\xc2\\x11\\x00J\\x00\\xb9\\xfe\\x9b\\xf8\\x007\\xc9\\\\{\\x00?\\x80\\x0f \\xba\\x9c-\\x12?\\x007\\x9c\\x11\\x00J\\x00={\\x9b\\xb6\\x00\\xbd\\xe68\"\\x00?\\x86\\x86\\xa4\\xb8\\x88\\xb7\\x12;\\xd9\\xd2\\\\\\x11\\x00:\\x00\\xbeE\\xf5h\\x00?\\x98\\xbe\\xad7\\xc0\\x0c\\xde\\xbaj)\\xba\\x11\\x00*\\x00?\\x80\\x00\\x00\\xb4\\x8a\\xb9_9\\x0f\\x02\\xc5\\x11\\x00\\x19\\x00\\x11\\x00*\\x00?\\x80\\x00\\x005\\xa8\\xf6W7Mb\\xaa\\x11?\\xba\\xa0|:\\x00\\xbf\\x18Q\\x8e\\x00?\\xcc(\\xc73\\xdco\\x178\\xc1\"\\xbb\\x11>\\x19\\x80zJ\\x00\\xbc\\x85\\xe4\\xc4\\x00<\\xdd\\x8f>\\x00?}B\\xac\\xb8\\xd2\\x92\\xe2;\\x18%\\x08\\x11\\xbd 8v:\\x00\\xbd\\xf6\\x9d8\\x00?\\x8fi\\xd3\\xb7\\xb42\\n'"
      ]
     },
     "execution_count": 41,
     "metadata": {},
     "output_type": "execute_result"
    }
   ],
   "source": [
    "c = content[0]\n",
    "c"
   ]
  },
  {
   "cell_type": "code",
   "execution_count": 42,
   "metadata": {},
   "outputs": [],
   "source": [
    "import binascii"
   ]
  },
  {
   "cell_type": "code",
   "execution_count": 53,
   "metadata": {},
   "outputs": [
    {
     "data": {
      "text/plain": [
       "b'\\x0e\\x00\\x00\\x00\\x05\\x01\\x8d\\x00\\x00\\x00\\rZ=:\\xac\\x03\\x00\\x00\\x0e\\x00\\x00\\x00\\xac\\x03\\x00\\x009\\x01\\x00\\x00i\\x02\\x00\\x00\\x00\\x00\\x00\\x00\\xf7\\x91\\x02\\x10J\\x00\\xbcKh\\x9f\\x00\\xbd\\x01) \\x00?\\x85\\xa0\\x1a\\xb4 \\xe4\\xd0\\xb8\\x8a\\xb9\\xc2\\x11\\x00J\\x00\\xb9\\xfe\\x9b\\xf8\\x007\\xc9\\\\{\\x00?\\x80\\x0f \\xba\\x9c-\\x12?\\x007\\x9c\\x11\\x00J\\x00={\\x9b\\xb6\\x00\\xbd\\xe68\"\\x00?\\x86\\x86\\xa4\\xb8\\x88\\xb7\\x12;\\xd9\\xd2\\\\\\x11\\x00:\\x00\\xbeE\\xf5h\\x00?\\x98\\xbe\\xad7\\xc0\\x0c\\xde\\xbaj)\\xba\\x11\\x00*\\x00?\\x80\\x00\\x00\\xb4\\x8a\\xb9_9\\x0f\\x02\\xc5\\x11\\x00\\x19\\x00\\x11\\x00*\\x00?\\x80\\x00\\x005\\xa8\\xf6W7Mb\\xaa\\x11?\\xba\\xa0|:\\x00\\xbf\\x18Q\\x8e\\x00?\\xcc(\\xc73\\xdco\\x178\\xc1\"\\xbb\\x11>\\x19\\x80zJ\\x00\\xbc\\x85\\xe4\\xc4\\x00<\\xdd\\x8f>\\x00?}B\\xac\\xb8\\xd2\\x92\\xe2;\\x18%\\x08\\x11\\xbd 8v:\\x00\\xbd\\xf6\\x9d8\\x00?\\x8fi\\xd3\\xb7\\xb42\\n'"
      ]
     },
     "execution_count": 53,
     "metadata": {},
     "output_type": "execute_result"
    }
   ],
   "source": [
    "binascii.unhexlify(binascii.b2a_hex(c))"
   ]
  },
  {
   "cell_type": "code",
   "execution_count": 37,
   "metadata": {},
   "outputs": [
    {
     "data": {
      "text/plain": [
       "'\\x0e\\x00\\x00\\x00\\x05\\x01Ź\\x00\\x00\\x00\\rZ=:¼\\x03\\x00\\x00\\x0e\\x00\\x00\\x00¼\\x03\\x00\\x009\\x01\\x00\\x00i\\x02\\x00\\x00\\x00\\x00\\x00\\x00„æ\\x02\\x10J\\x00╝Kh¤\\x00Į\\x01) \\x00?ģĀ\\x1a┤ õąĖŖ╣┬\\x11\\x00J\\x00╣■ø°\\x007╔\\\\{\\x00?Ć\\x0f ║£-\\x12?\\x007£\\x11\\x00J\\x00={øČ\\x00Įµ8\"\\x00?ååżĖłĘ\\x12;┘ę\\\\\\x11\\x00:\\x00ŠE§h\\x00?śŠŁ7└\\x0c▐║j)║\\x11\\x00*\\x00?Ć\\x00\\x00┤Ŗ╣_9\\x0f\\x02┼\\x11\\x00\\x19\\x00\\x11\\x00*\\x00?Ć\\x00\\x005©÷W7Mb¬\\x11?║Ā|:\\x00┐\\x18QÄ\\x00?╠(Ū3▄o\\x178┴\"╗\\x11>\\x19ĆzJ\\x00╝ģõ─\\x00<▌Å>\\x00?}B¼ĖęÆŌ;\\x18%\\x08\\x11Į 8v:\\x00Į÷Ø8\\x00?ÅiėĘ┤2'"
      ]
     },
     "execution_count": 37,
     "metadata": {},
     "output_type": "execute_result"
    }
   ],
   "source": [
    "codecs.decode(c, \"cp\")"
   ]
  },
  {
   "cell_type": "code",
   "execution_count": 29,
   "metadata": {},
   "outputs": [
    {
     "ename": "LookupError",
     "evalue": "'base64' is not a text encoding; use codecs.decode() to handle arbitrary codecs",
     "output_type": "error",
     "traceback": [
      "\u001b[0;31m---------------------------------------------------------------------------\u001b[0m",
      "\u001b[0;31mLookupError\u001b[0m                               Traceback (most recent call last)",
      "\u001b[0;32m<ipython-input-29-fe382a08b35a>\u001b[0m in \u001b[0;36m<module>\u001b[0;34m\u001b[0m\n\u001b[0;32m----> 1\u001b[0;31m \u001b[0mc\u001b[0m\u001b[0;34m.\u001b[0m\u001b[0mdecode\u001b[0m\u001b[0;34m(\u001b[0m\u001b[0;34m'base64'\u001b[0m\u001b[0;34m,\u001b[0m\u001b[0;34m'strict'\u001b[0m\u001b[0;34m)\u001b[0m\u001b[0;34m\u001b[0m\u001b[0;34m\u001b[0m\u001b[0m\n\u001b[0m",
      "\u001b[0;31mLookupError\u001b[0m: 'base64' is not a text encoding; use codecs.decode() to handle arbitrary codecs"
     ]
    }
   ],
   "source": [
    "c.decode('base64','strict')"
   ]
  },
  {
   "cell_type": "code",
   "execution_count": 12,
   "metadata": {},
   "outputs": [],
   "source": [
    "import codecs"
   ]
  },
  {
   "cell_type": "code",
   "execution_count": 13,
   "metadata": {},
   "outputs": [],
   "source": [
    "words = {}"
   ]
  },
  {
   "cell_type": "code",
   "execution_count": 17,
   "metadata": {},
   "outputs": [
    {
     "ename": "UnicodeDecodeError",
     "evalue": "'utf-8' codec can't decode byte 0x8d in position 6: invalid start byte",
     "output_type": "error",
     "traceback": [
      "\u001b[0;31m---------------------------------------------------------------------------\u001b[0m",
      "\u001b[0;31mUnicodeDecodeError\u001b[0m                        Traceback (most recent call last)",
      "\u001b[0;32m<ipython-input-17-49a53ab88b24>\u001b[0m in \u001b[0;36m<module>\u001b[0;34m\u001b[0m\n\u001b[1;32m      1\u001b[0m \u001b[0;32mwith\u001b[0m \u001b[0mcodecs\u001b[0m\u001b[0;34m.\u001b[0m\u001b[0mopen\u001b[0m\u001b[0;34m(\u001b[0m\u001b[0mcalfile\u001b[0m\u001b[0;34m,\u001b[0m \u001b[0;34m\"r\"\u001b[0m\u001b[0;34m,\u001b[0m \u001b[0;34m\"utf8\"\u001b[0m\u001b[0;34m)\u001b[0m \u001b[0;32mas\u001b[0m \u001b[0mf\u001b[0m\u001b[0;34m:\u001b[0m\u001b[0;34m\u001b[0m\u001b[0;34m\u001b[0m\u001b[0m\n\u001b[0;32m----> 2\u001b[0;31m     \u001b[0;32mfor\u001b[0m \u001b[0mline\u001b[0m \u001b[0;32min\u001b[0m \u001b[0mf\u001b[0m\u001b[0;34m:\u001b[0m\u001b[0;34m\u001b[0m\u001b[0;34m\u001b[0m\u001b[0m\n\u001b[0m\u001b[1;32m      3\u001b[0m         \u001b[0;32mif\u001b[0m \u001b[0mline\u001b[0m\u001b[0;34m.\u001b[0m\u001b[0mstrip\u001b[0m\u001b[0;34m(\u001b[0m\u001b[0;34m)\u001b[0m\u001b[0;34m:\u001b[0m\u001b[0;34m\u001b[0m\u001b[0;34m\u001b[0m\u001b[0m\n\u001b[1;32m      4\u001b[0m             \u001b[0mkey\u001b[0m\u001b[0;34m,\u001b[0m \u001b[0mvalue\u001b[0m \u001b[0;34m=\u001b[0m \u001b[0mline\u001b[0m\u001b[0;34m.\u001b[0m\u001b[0mstrip\u001b[0m\u001b[0;34m(\u001b[0m\u001b[0;34m)\u001b[0m\u001b[0;34m.\u001b[0m\u001b[0msplit\u001b[0m\u001b[0;34m(\u001b[0m\u001b[0;34m':'\u001b[0m\u001b[0;34m)\u001b[0m\u001b[0;34m\u001b[0m\u001b[0;34m\u001b[0m\u001b[0m\n\u001b[1;32m      5\u001b[0m             \u001b[0mwords\u001b[0m\u001b[0;34m[\u001b[0m\u001b[0mkey\u001b[0m\u001b[0;34m]\u001b[0m \u001b[0;34m=\u001b[0m \u001b[0mvalue\u001b[0m\u001b[0;34m\u001b[0m\u001b[0;34m\u001b[0m\u001b[0m\n",
      "\u001b[0;32m~/anaconda3/envs/Mu2E/lib/python3.7/codecs.py\u001b[0m in \u001b[0;36m__next__\u001b[0;34m(self)\u001b[0m\n\u001b[1;32m    712\u001b[0m \u001b[0;34m\u001b[0m\u001b[0m\n\u001b[1;32m    713\u001b[0m         \u001b[0;34m\"\"\" Return the next decoded line from the input stream.\"\"\"\u001b[0m\u001b[0;34m\u001b[0m\u001b[0;34m\u001b[0m\u001b[0m\n\u001b[0;32m--> 714\u001b[0;31m         \u001b[0;32mreturn\u001b[0m \u001b[0mnext\u001b[0m\u001b[0;34m(\u001b[0m\u001b[0mself\u001b[0m\u001b[0;34m.\u001b[0m\u001b[0mreader\u001b[0m\u001b[0;34m)\u001b[0m\u001b[0;34m\u001b[0m\u001b[0;34m\u001b[0m\u001b[0m\n\u001b[0m\u001b[1;32m    715\u001b[0m \u001b[0;34m\u001b[0m\u001b[0m\n\u001b[1;32m    716\u001b[0m     \u001b[0;32mdef\u001b[0m \u001b[0m__iter__\u001b[0m\u001b[0;34m(\u001b[0m\u001b[0mself\u001b[0m\u001b[0;34m)\u001b[0m\u001b[0;34m:\u001b[0m\u001b[0;34m\u001b[0m\u001b[0;34m\u001b[0m\u001b[0m\n",
      "\u001b[0;32m~/anaconda3/envs/Mu2E/lib/python3.7/codecs.py\u001b[0m in \u001b[0;36m__next__\u001b[0;34m(self)\u001b[0m\n\u001b[1;32m    643\u001b[0m \u001b[0;34m\u001b[0m\u001b[0m\n\u001b[1;32m    644\u001b[0m         \u001b[0;34m\"\"\" Return the next decoded line from the input stream.\"\"\"\u001b[0m\u001b[0;34m\u001b[0m\u001b[0;34m\u001b[0m\u001b[0m\n\u001b[0;32m--> 645\u001b[0;31m         \u001b[0mline\u001b[0m \u001b[0;34m=\u001b[0m \u001b[0mself\u001b[0m\u001b[0;34m.\u001b[0m\u001b[0mreadline\u001b[0m\u001b[0;34m(\u001b[0m\u001b[0;34m)\u001b[0m\u001b[0;34m\u001b[0m\u001b[0;34m\u001b[0m\u001b[0m\n\u001b[0m\u001b[1;32m    646\u001b[0m         \u001b[0;32mif\u001b[0m \u001b[0mline\u001b[0m\u001b[0;34m:\u001b[0m\u001b[0;34m\u001b[0m\u001b[0;34m\u001b[0m\u001b[0m\n\u001b[1;32m    647\u001b[0m             \u001b[0;32mreturn\u001b[0m \u001b[0mline\u001b[0m\u001b[0;34m\u001b[0m\u001b[0;34m\u001b[0m\u001b[0m\n",
      "\u001b[0;32m~/anaconda3/envs/Mu2E/lib/python3.7/codecs.py\u001b[0m in \u001b[0;36mreadline\u001b[0;34m(self, size, keepends)\u001b[0m\n\u001b[1;32m    556\u001b[0m         \u001b[0;31m# If size is given, we call read() only once\u001b[0m\u001b[0;34m\u001b[0m\u001b[0;34m\u001b[0m\u001b[0;34m\u001b[0m\u001b[0m\n\u001b[1;32m    557\u001b[0m         \u001b[0;32mwhile\u001b[0m \u001b[0;32mTrue\u001b[0m\u001b[0;34m:\u001b[0m\u001b[0;34m\u001b[0m\u001b[0;34m\u001b[0m\u001b[0m\n\u001b[0;32m--> 558\u001b[0;31m             \u001b[0mdata\u001b[0m \u001b[0;34m=\u001b[0m \u001b[0mself\u001b[0m\u001b[0;34m.\u001b[0m\u001b[0mread\u001b[0m\u001b[0;34m(\u001b[0m\u001b[0mreadsize\u001b[0m\u001b[0;34m,\u001b[0m \u001b[0mfirstline\u001b[0m\u001b[0;34m=\u001b[0m\u001b[0;32mTrue\u001b[0m\u001b[0;34m)\u001b[0m\u001b[0;34m\u001b[0m\u001b[0;34m\u001b[0m\u001b[0m\n\u001b[0m\u001b[1;32m    559\u001b[0m             \u001b[0;32mif\u001b[0m \u001b[0mdata\u001b[0m\u001b[0;34m:\u001b[0m\u001b[0;34m\u001b[0m\u001b[0;34m\u001b[0m\u001b[0m\n\u001b[1;32m    560\u001b[0m                 \u001b[0;31m# If we're at a \"\\r\" read one extra character (which might\u001b[0m\u001b[0;34m\u001b[0m\u001b[0;34m\u001b[0m\u001b[0;34m\u001b[0m\u001b[0m\n",
      "\u001b[0;32m~/anaconda3/envs/Mu2E/lib/python3.7/codecs.py\u001b[0m in \u001b[0;36mread\u001b[0;34m(self, size, chars, firstline)\u001b[0m\n\u001b[1;32m    502\u001b[0m                 \u001b[0;32mbreak\u001b[0m\u001b[0;34m\u001b[0m\u001b[0;34m\u001b[0m\u001b[0m\n\u001b[1;32m    503\u001b[0m             \u001b[0;32mtry\u001b[0m\u001b[0;34m:\u001b[0m\u001b[0;34m\u001b[0m\u001b[0;34m\u001b[0m\u001b[0m\n\u001b[0;32m--> 504\u001b[0;31m                 \u001b[0mnewchars\u001b[0m\u001b[0;34m,\u001b[0m \u001b[0mdecodedbytes\u001b[0m \u001b[0;34m=\u001b[0m \u001b[0mself\u001b[0m\u001b[0;34m.\u001b[0m\u001b[0mdecode\u001b[0m\u001b[0;34m(\u001b[0m\u001b[0mdata\u001b[0m\u001b[0;34m,\u001b[0m \u001b[0mself\u001b[0m\u001b[0;34m.\u001b[0m\u001b[0merrors\u001b[0m\u001b[0;34m)\u001b[0m\u001b[0;34m\u001b[0m\u001b[0;34m\u001b[0m\u001b[0m\n\u001b[0m\u001b[1;32m    505\u001b[0m             \u001b[0;32mexcept\u001b[0m \u001b[0mUnicodeDecodeError\u001b[0m \u001b[0;32mas\u001b[0m \u001b[0mexc\u001b[0m\u001b[0;34m:\u001b[0m\u001b[0;34m\u001b[0m\u001b[0;34m\u001b[0m\u001b[0m\n\u001b[1;32m    506\u001b[0m                 \u001b[0;32mif\u001b[0m \u001b[0mfirstline\u001b[0m\u001b[0;34m:\u001b[0m\u001b[0;34m\u001b[0m\u001b[0;34m\u001b[0m\u001b[0m\n",
      "\u001b[0;31mUnicodeDecodeError\u001b[0m: 'utf-8' codec can't decode byte 0x8d in position 6: invalid start byte"
     ]
    }
   ],
   "source": [
    "with codecs.open(calfile, \"r\", \"utf8\") as f:\n",
    "    for line in f:\n",
    "        if line.strip():\n",
    "            key, value = line.strip().split(':')\n",
    "            words[key] = value"
   ]
  },
  {
   "cell_type": "code",
   "execution_count": null,
   "metadata": {},
   "outputs": [],
   "source": []
  }
 ],
 "metadata": {
  "kernelspec": {
   "display_name": "Python [conda env:mu2e]",
   "language": "python",
   "name": "conda-env-mu2e-py"
  },
  "language_info": {
   "codemirror_mode": {
    "name": "ipython",
    "version": 3
   },
   "file_extension": ".py",
   "mimetype": "text/x-python",
   "name": "python",
   "nbconvert_exporter": "python",
   "pygments_lexer": "ipython3",
   "version": "3.8.6"
  }
 },
 "nbformat": 4,
 "nbformat_minor": 2
}
