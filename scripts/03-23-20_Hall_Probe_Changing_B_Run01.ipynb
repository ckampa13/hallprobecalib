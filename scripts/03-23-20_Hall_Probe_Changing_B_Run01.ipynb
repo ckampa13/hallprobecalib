{
 "cells": [
  {
   "cell_type": "markdown",
   "metadata": {},
   "source": [
    "# Background"
   ]
  },
  {
   "cell_type": "markdown",
   "metadata": {},
   "source": [
    "- First run of changing B field\n",
    "- Only have 3 set points (COVID-19)"
   ]
  },
  {
   "cell_type": "markdown",
   "metadata": {},
   "source": [
    "# Code"
   ]
  },
  {
   "cell_type": "markdown",
   "metadata": {},
   "source": [
    "## Imports"
   ]
  },
  {
   "cell_type": "code",
   "execution_count": 4,
   "metadata": {},
   "outputs": [],
   "source": [
    "#%load_ext autoreload\n",
    "#%autoreload 2"
   ]
  },
  {
   "cell_type": "code",
   "execution_count": 1,
   "metadata": {},
   "outputs": [
    {
     "data": {
      "text/html": [
       "        <script type=\"text/javascript\">\n",
       "        window.PlotlyConfig = {MathJaxConfig: 'local'};\n",
       "        if (window.MathJax) {MathJax.Hub.Config({SVG: {font: \"STIX-Web\"}});}\n",
       "        if (typeof require !== 'undefined') {\n",
       "        require.undef(\"plotly\");\n",
       "        requirejs.config({\n",
       "            paths: {\n",
       "                'plotly': ['https://cdn.plot.ly/plotly-latest.min']\n",
       "            }\n",
       "        });\n",
       "        require(['plotly'], function(Plotly) {\n",
       "            window._Plotly = Plotly;\n",
       "        });\n",
       "        }\n",
       "        </script>\n",
       "        "
      ]
     },
     "metadata": {},
     "output_type": "display_data"
    }
   ],
   "source": [
    "import math\n",
    "import numpy as np\n",
    "import pandas as pd\n",
    "import pickle as pkl\n",
    "from datetime import datetime\n",
    "from dateutil import parser\n",
    "from sys import getsizeof\n",
    "import re\n",
    "\n",
    "import operator\n",
    "from scipy import stats\n",
    "import scipy.optimize as optimization\n",
    "import lmfit as lm\n",
    "\n",
    "import matplotlib.pyplot as plt\n",
    "from mpl_toolkits.mplot3d import Axes3D\n",
    "%matplotlib inline\n",
    "\n",
    "from plotly.offline import init_notebook_mode, plot, iplot\n",
    "import plotly.graph_objs as go\n",
    "import plotly.io as pio\n",
    "from plotly.subplots import make_subplots\n",
    "import plotly.express as px\n",
    "init_notebook_mode(True)\n",
    "\n",
    "#import seaborn as sns\n",
    "\n",
    "#from wand.image import Image as WImage\n",
    "\n",
    "from hallprobecalib import hpc_ext_path\n",
    "#from hallprobecalib.hpcplots import scatter2d,scatter3d,histo,py_profile\n",
    "from hallprobecalib.hpcplots import scatter2d,scatter3d,histo"
   ]
  },
  {
   "cell_type": "code",
   "execution_count": 2,
   "metadata": {},
   "outputs": [],
   "source": [
    "# nicer plot formatting\n",
    "def config_plots():\n",
    "    #must run twice for some reason (glitch in Jupyter)\n",
    "    for i in range(2):\n",
    "        plt.rcParams['figure.figsize'] = [10, 8] # larger figures\n",
    "        plt.rcParams['axes.grid'] = True         # turn grid lines on\n",
    "        plt.rcParams['axes.axisbelow'] = True    # put grid below points\n",
    "        plt.rcParams['grid.linestyle'] = '--'    # dashed grid\n",
    "        plt.rcParams.update({'font.size': 18})   # increase plot font size\n",
    "        \n",
    "config_plots()"
   ]
  },
  {
   "cell_type": "code",
   "execution_count": 3,
   "metadata": {},
   "outputs": [],
   "source": [
    "make_plots = True"
   ]
  },
  {
   "cell_type": "code",
   "execution_count": 4,
   "metadata": {},
   "outputs": [],
   "source": [
    "plotdir = hpc_ext_path+'plots/hall_probe_B/2020-03-16/'"
   ]
  },
  {
   "cell_type": "code",
   "execution_count": 5,
   "metadata": {},
   "outputs": [],
   "source": [
    "pkl_dir = hpc_ext_path+\"datafiles/hall_probe_B/\"\n",
    "pkl_file_slow = \"hall_B_change.run01.raw.slow.pkl\""
   ]
  },
  {
   "cell_type": "code",
   "execution_count": 6,
   "metadata": {},
   "outputs": [],
   "source": [
    "probe = '6A0000000D61333A'"
   ]
  },
  {
   "cell_type": "code",
   "execution_count": 7,
   "metadata": {},
   "outputs": [
    {
     "ename": "FileNotFoundError",
     "evalue": "[Errno 2] No such file or directory: '/home/ckampa/data/hallprobecalib_extras/datafiles/hall_probe_B/hall_B_change.run01.raw.slow.pkl'",
     "output_type": "error",
     "traceback": [
      "\u001b[0;31m---------------------------------------------------------------------------\u001b[0m",
      "\u001b[0;31mFileNotFoundError\u001b[0m                         Traceback (most recent call last)",
      "\u001b[0;32m/tmp/ipykernel_559268/3570560315.py\u001b[0m in \u001b[0;36m<module>\u001b[0;34m\u001b[0m\n\u001b[0;32m----> 1\u001b[0;31m \u001b[0mdf\u001b[0m \u001b[0;34m=\u001b[0m \u001b[0mpd\u001b[0m\u001b[0;34m.\u001b[0m\u001b[0mread_pickle\u001b[0m\u001b[0;34m(\u001b[0m\u001b[0mpkl_dir\u001b[0m\u001b[0;34m+\u001b[0m\u001b[0mpkl_file_slow\u001b[0m\u001b[0;34m)\u001b[0m\u001b[0;34m\u001b[0m\u001b[0;34m\u001b[0m\u001b[0m\n\u001b[0m",
      "\u001b[0;32m~/anaconda3/envs/mu2e/lib/python3.8/site-packages/pandas/io/pickle.py\u001b[0m in \u001b[0;36mread_pickle\u001b[0;34m(filepath_or_buffer, compression, storage_options)\u001b[0m\n\u001b[1;32m    183\u001b[0m     \"\"\"\n\u001b[1;32m    184\u001b[0m     \u001b[0mexcs_to_catch\u001b[0m \u001b[0;34m=\u001b[0m \u001b[0;34m(\u001b[0m\u001b[0mAttributeError\u001b[0m\u001b[0;34m,\u001b[0m \u001b[0mImportError\u001b[0m\u001b[0;34m,\u001b[0m \u001b[0mModuleNotFoundError\u001b[0m\u001b[0;34m,\u001b[0m \u001b[0mTypeError\u001b[0m\u001b[0;34m)\u001b[0m\u001b[0;34m\u001b[0m\u001b[0;34m\u001b[0m\u001b[0m\n\u001b[0;32m--> 185\u001b[0;31m     with get_handle(\n\u001b[0m\u001b[1;32m    186\u001b[0m         \u001b[0mfilepath_or_buffer\u001b[0m\u001b[0;34m,\u001b[0m\u001b[0;34m\u001b[0m\u001b[0;34m\u001b[0m\u001b[0m\n\u001b[1;32m    187\u001b[0m         \u001b[0;34m\"rb\"\u001b[0m\u001b[0;34m,\u001b[0m\u001b[0;34m\u001b[0m\u001b[0;34m\u001b[0m\u001b[0m\n",
      "\u001b[0;32m~/anaconda3/envs/mu2e/lib/python3.8/site-packages/pandas/io/common.py\u001b[0m in \u001b[0;36mget_handle\u001b[0;34m(path_or_buf, mode, encoding, compression, memory_map, is_text, errors, storage_options)\u001b[0m\n\u001b[1;32m    649\u001b[0m         \u001b[0;32melse\u001b[0m\u001b[0;34m:\u001b[0m\u001b[0;34m\u001b[0m\u001b[0;34m\u001b[0m\u001b[0m\n\u001b[1;32m    650\u001b[0m             \u001b[0;31m# Binary mode\u001b[0m\u001b[0;34m\u001b[0m\u001b[0;34m\u001b[0m\u001b[0;34m\u001b[0m\u001b[0m\n\u001b[0;32m--> 651\u001b[0;31m             \u001b[0mhandle\u001b[0m \u001b[0;34m=\u001b[0m \u001b[0mopen\u001b[0m\u001b[0;34m(\u001b[0m\u001b[0mhandle\u001b[0m\u001b[0;34m,\u001b[0m \u001b[0mioargs\u001b[0m\u001b[0;34m.\u001b[0m\u001b[0mmode\u001b[0m\u001b[0;34m)\u001b[0m\u001b[0;34m\u001b[0m\u001b[0;34m\u001b[0m\u001b[0m\n\u001b[0m\u001b[1;32m    652\u001b[0m         \u001b[0mhandles\u001b[0m\u001b[0;34m.\u001b[0m\u001b[0mappend\u001b[0m\u001b[0;34m(\u001b[0m\u001b[0mhandle\u001b[0m\u001b[0;34m)\u001b[0m\u001b[0;34m\u001b[0m\u001b[0;34m\u001b[0m\u001b[0m\n\u001b[1;32m    653\u001b[0m \u001b[0;34m\u001b[0m\u001b[0m\n",
      "\u001b[0;31mFileNotFoundError\u001b[0m: [Errno 2] No such file or directory: '/home/ckampa/data/hallprobecalib_extras/datafiles/hall_probe_B/hall_B_change.run01.raw.slow.pkl'"
     ]
    }
   ],
   "source": [
    "df = pd.read_pickle(pkl_dir+pkl_file_slow)"
   ]
  },
  {
   "cell_type": "code",
   "execution_count": 8,
   "metadata": {},
   "outputs": [
    {
     "data": {
      "text/plain": [
       "Datetime\n",
       "2020-03-16 12:47:36      0.0\n",
       "2020-03-16 12:48:36     60.0\n",
       "2020-03-16 12:49:36    120.0\n",
       "2020-03-16 12:50:36    180.0\n",
       "2020-03-16 12:51:36    240.0\n",
       "2020-03-16 12:52:36    300.0\n",
       "2020-03-16 12:53:36    360.0\n",
       "2020-03-16 12:54:36    420.0\n",
       "2020-03-16 12:55:36    480.0\n",
       "2020-03-16 12:56:36    540.0\n",
       "Name: seconds_delta, dtype: float64"
      ]
     },
     "execution_count": 8,
     "metadata": {},
     "output_type": "execute_result"
    }
   ],
   "source": [
    "df['seconds_delta'].head(10)"
   ]
  },
  {
   "cell_type": "code",
   "execution_count": 9,
   "metadata": {},
   "outputs": [],
   "source": [
    "def pplot(fig):\n",
    "    pio.write_image(fig, 'temp.pdf')\n",
    "    img = WImage(filename='temp.pdf')\n",
    "    return img"
   ]
  },
  {
   "cell_type": "markdown",
   "metadata": {},
   "source": [
    "## Cleaning"
   ]
  },
  {
   "cell_type": "code",
   "execution_count": 71,
   "metadata": {},
   "outputs": [],
   "source": [
    "directory = \"/home/ckampa/Dropbox/LogFiles/\"\n",
    "filename = '2020-03-16 124657slow.txt'\n",
    "#filename_slow = '2020-01-27 115227slow.txt'\n",
    "#filename_slow_2 = '2020-02-03 130728slow.txt'"
   ]
  },
  {
   "cell_type": "code",
   "execution_count": 72,
   "metadata": {},
   "outputs": [],
   "source": [
    "df = pd.read_csv(directory+filename)\n",
    "df.columns = df.columns.str.lstrip(\" \")\n",
    "#df.drop(\"\", axis=1, inplace=True)\n",
    "dates = [parser.parse(row.Time) for row in df.itertuples()]# if isdatetime(row.Time.values[0])]\n",
    "df[\"Datetime\"] = pd.to_datetime(dates)#.astype(\"str\")\n",
    "df = df.set_index(\"Datetime\")"
   ]
  },
  {
   "cell_type": "code",
   "execution_count": 73,
   "metadata": {},
   "outputs": [
    {
     "data": {
      "text/html": [
       "<div>\n",
       "<style scoped>\n",
       "    .dataframe tbody tr th:only-of-type {\n",
       "        vertical-align: middle;\n",
       "    }\n",
       "\n",
       "    .dataframe tbody tr th {\n",
       "        vertical-align: top;\n",
       "    }\n",
       "\n",
       "    .dataframe thead th {\n",
       "        text-align: right;\n",
       "    }\n",
       "</style>\n",
       "<table border=\"1\" class=\"dataframe\">\n",
       "  <thead>\n",
       "    <tr style=\"text-align: right;\">\n",
       "      <th></th>\n",
       "      <th>Time</th>\n",
       "      <th>Magnet Current [A]</th>\n",
       "      <th>Magnet Voltage [V]</th>\n",
       "      <th>Coil 1 (new)</th>\n",
       "      <th>Coil 2 (old)</th>\n",
       "      <th>LCW in Coil1</th>\n",
       "      <th>LCW out Coil 1</th>\n",
       "      <th>LCW in Coil 2</th>\n",
       "      <th>LCW out Coil 2</th>\n",
       "      <th>Yoke</th>\n",
       "      <th>...</th>\n",
       "      <th>Zaber_Meas_MicroStep_X</th>\n",
       "      <th>Zaber_Meas_Encoder_X</th>\n",
       "      <th>Zaber_Meas_MicroStep_Y</th>\n",
       "      <th>Zaber_Meas_Encoder_Y</th>\n",
       "      <th>Zaber_Meas_MicroStep_Z</th>\n",
       "      <th>Zaber_Meas_Encoder_Z</th>\n",
       "      <th>SmarAct_Meas_Angle_1</th>\n",
       "      <th>SmarAct_Meas_Rotation_Angle_1</th>\n",
       "      <th>SmarAct_Meas_Angle_2</th>\n",
       "      <th>SmarAct_Meas_Rotation_Angle_2</th>\n",
       "    </tr>\n",
       "    <tr>\n",
       "      <th>Datetime</th>\n",
       "      <th></th>\n",
       "      <th></th>\n",
       "      <th></th>\n",
       "      <th></th>\n",
       "      <th></th>\n",
       "      <th></th>\n",
       "      <th></th>\n",
       "      <th></th>\n",
       "      <th></th>\n",
       "      <th></th>\n",
       "      <th></th>\n",
       "      <th></th>\n",
       "      <th></th>\n",
       "      <th></th>\n",
       "      <th></th>\n",
       "      <th></th>\n",
       "      <th></th>\n",
       "      <th></th>\n",
       "      <th></th>\n",
       "      <th></th>\n",
       "      <th></th>\n",
       "    </tr>\n",
       "  </thead>\n",
       "  <tbody>\n",
       "    <tr>\n",
       "      <th>2020-03-16 12:47:36</th>\n",
       "      <td>3/16/2020 12:47:36 PM</td>\n",
       "      <td>134.441157</td>\n",
       "      <td>15.859208</td>\n",
       "      <td>28.387400</td>\n",
       "      <td>26.179989</td>\n",
       "      <td>8.293757</td>\n",
       "      <td>10.648998</td>\n",
       "      <td>11.858696</td>\n",
       "      <td>13.748177</td>\n",
       "      <td>12.816629</td>\n",
       "      <td>...</td>\n",
       "      <td>218544.140625</td>\n",
       "      <td>559473.0</td>\n",
       "      <td>489383.203125</td>\n",
       "      <td>1252809.0</td>\n",
       "      <td>750000.0</td>\n",
       "      <td>1920000.0</td>\n",
       "      <td>359.999486</td>\n",
       "      <td>-1.0</td>\n",
       "      <td>0.000030</td>\n",
       "      <td>0.0</td>\n",
       "    </tr>\n",
       "    <tr>\n",
       "      <th>2020-03-16 12:48:36</th>\n",
       "      <td>3/16/2020 12:48:36 PM</td>\n",
       "      <td>134.441100</td>\n",
       "      <td>15.780617</td>\n",
       "      <td>27.225664</td>\n",
       "      <td>25.079021</td>\n",
       "      <td>8.168479</td>\n",
       "      <td>10.394962</td>\n",
       "      <td>11.648251</td>\n",
       "      <td>13.313659</td>\n",
       "      <td>12.838418</td>\n",
       "      <td>...</td>\n",
       "      <td>218544.140625</td>\n",
       "      <td>559473.0</td>\n",
       "      <td>503386.718750</td>\n",
       "      <td>1288659.0</td>\n",
       "      <td>750000.0</td>\n",
       "      <td>1920000.0</td>\n",
       "      <td>359.999461</td>\n",
       "      <td>-1.0</td>\n",
       "      <td>0.000045</td>\n",
       "      <td>0.0</td>\n",
       "    </tr>\n",
       "    <tr>\n",
       "      <th>2020-03-16 12:49:36</th>\n",
       "      <td>3/16/2020 12:49:36 PM</td>\n",
       "      <td>134.441100</td>\n",
       "      <td>15.709448</td>\n",
       "      <td>26.167240</td>\n",
       "      <td>24.079725</td>\n",
       "      <td>8.021153</td>\n",
       "      <td>10.142981</td>\n",
       "      <td>11.410613</td>\n",
       "      <td>12.888368</td>\n",
       "      <td>12.856504</td>\n",
       "      <td>...</td>\n",
       "      <td>218544.140625</td>\n",
       "      <td>559473.0</td>\n",
       "      <td>517347.265625</td>\n",
       "      <td>1324398.0</td>\n",
       "      <td>750000.0</td>\n",
       "      <td>1920000.0</td>\n",
       "      <td>359.999468</td>\n",
       "      <td>-1.0</td>\n",
       "      <td>0.000051</td>\n",
       "      <td>0.0</td>\n",
       "    </tr>\n",
       "    <tr>\n",
       "      <th>2020-03-16 12:50:36</th>\n",
       "      <td>3/16/2020 12:50:36 PM</td>\n",
       "      <td>134.441157</td>\n",
       "      <td>15.644525</td>\n",
       "      <td>25.176294</td>\n",
       "      <td>23.161018</td>\n",
       "      <td>7.906960</td>\n",
       "      <td>9.901084</td>\n",
       "      <td>11.160065</td>\n",
       "      <td>12.497712</td>\n",
       "      <td>12.877237</td>\n",
       "      <td>...</td>\n",
       "      <td>218544.140625</td>\n",
       "      <td>559473.0</td>\n",
       "      <td>531308.593750</td>\n",
       "      <td>1360140.0</td>\n",
       "      <td>750000.0</td>\n",
       "      <td>1920000.0</td>\n",
       "      <td>359.999511</td>\n",
       "      <td>-1.0</td>\n",
       "      <td>0.000045</td>\n",
       "      <td>0.0</td>\n",
       "    </tr>\n",
       "    <tr>\n",
       "      <th>2020-03-16 12:51:36</th>\n",
       "      <td>3/16/2020 12:51:36 PM</td>\n",
       "      <td>134.441100</td>\n",
       "      <td>15.584772</td>\n",
       "      <td>24.268948</td>\n",
       "      <td>22.325270</td>\n",
       "      <td>7.739278</td>\n",
       "      <td>9.649689</td>\n",
       "      <td>10.975319</td>\n",
       "      <td>12.115722</td>\n",
       "      <td>12.898733</td>\n",
       "      <td>...</td>\n",
       "      <td>218544.140625</td>\n",
       "      <td>559473.0</td>\n",
       "      <td>545271.093750</td>\n",
       "      <td>1395884.0</td>\n",
       "      <td>750000.0</td>\n",
       "      <td>1920000.0</td>\n",
       "      <td>359.999511</td>\n",
       "      <td>-1.0</td>\n",
       "      <td>0.000055</td>\n",
       "      <td>0.0</td>\n",
       "    </tr>\n",
       "    <tr>\n",
       "      <th>2020-03-16 12:52:36</th>\n",
       "      <td>3/16/2020 12:52:36 PM</td>\n",
       "      <td>134.441043</td>\n",
       "      <td>15.530055</td>\n",
       "      <td>23.435341</td>\n",
       "      <td>21.562086</td>\n",
       "      <td>7.603768</td>\n",
       "      <td>9.422918</td>\n",
       "      <td>10.771509</td>\n",
       "      <td>11.757145</td>\n",
       "      <td>12.913254</td>\n",
       "      <td>...</td>\n",
       "      <td>218544.140625</td>\n",
       "      <td>559473.0</td>\n",
       "      <td>559234.375000</td>\n",
       "      <td>1431630.0</td>\n",
       "      <td>750000.0</td>\n",
       "      <td>1920000.0</td>\n",
       "      <td>359.999490</td>\n",
       "      <td>-1.0</td>\n",
       "      <td>0.000057</td>\n",
       "      <td>0.0</td>\n",
       "    </tr>\n",
       "    <tr>\n",
       "      <th>2020-03-16 12:53:36</th>\n",
       "      <td>3/16/2020 12:53:36 PM</td>\n",
       "      <td>134.441157</td>\n",
       "      <td>15.479935</td>\n",
       "      <td>22.657187</td>\n",
       "      <td>20.848732</td>\n",
       "      <td>7.456330</td>\n",
       "      <td>9.203210</td>\n",
       "      <td>10.582575</td>\n",
       "      <td>11.438446</td>\n",
       "      <td>12.921229</td>\n",
       "      <td>...</td>\n",
       "      <td>218544.140625</td>\n",
       "      <td>559473.0</td>\n",
       "      <td>573195.312500</td>\n",
       "      <td>1467370.0</td>\n",
       "      <td>750000.0</td>\n",
       "      <td>1920000.0</td>\n",
       "      <td>359.999464</td>\n",
       "      <td>-1.0</td>\n",
       "      <td>0.000051</td>\n",
       "      <td>0.0</td>\n",
       "    </tr>\n",
       "    <tr>\n",
       "      <th>2020-03-16 12:54:36</th>\n",
       "      <td>3/16/2020 12:54:36 PM</td>\n",
       "      <td>134.441100</td>\n",
       "      <td>15.433803</td>\n",
       "      <td>21.928802</td>\n",
       "      <td>20.201353</td>\n",
       "      <td>7.340982</td>\n",
       "      <td>9.016262</td>\n",
       "      <td>10.372405</td>\n",
       "      <td>11.129884</td>\n",
       "      <td>12.936690</td>\n",
       "      <td>...</td>\n",
       "      <td>218544.140625</td>\n",
       "      <td>559473.0</td>\n",
       "      <td>587159.375000</td>\n",
       "      <td>1503117.0</td>\n",
       "      <td>750000.0</td>\n",
       "      <td>1920000.0</td>\n",
       "      <td>359.999482</td>\n",
       "      <td>-1.0</td>\n",
       "      <td>0.000059</td>\n",
       "      <td>0.0</td>\n",
       "    </tr>\n",
       "    <tr>\n",
       "      <th>2020-03-16 12:55:36</th>\n",
       "      <td>3/16/2020 12:55:36 PM</td>\n",
       "      <td>134.441100</td>\n",
       "      <td>15.391688</td>\n",
       "      <td>21.262161</td>\n",
       "      <td>19.601263</td>\n",
       "      <td>7.217930</td>\n",
       "      <td>8.823941</td>\n",
       "      <td>10.224238</td>\n",
       "      <td>10.845789</td>\n",
       "      <td>12.942922</td>\n",
       "      <td>...</td>\n",
       "      <td>218544.140625</td>\n",
       "      <td>559473.0</td>\n",
       "      <td>601120.312500</td>\n",
       "      <td>1538857.0</td>\n",
       "      <td>750000.0</td>\n",
       "      <td>1920000.0</td>\n",
       "      <td>359.999477</td>\n",
       "      <td>-1.0</td>\n",
       "      <td>0.000061</td>\n",
       "      <td>0.0</td>\n",
       "    </tr>\n",
       "    <tr>\n",
       "      <th>2020-03-16 12:56:36</th>\n",
       "      <td>3/16/2020 12:56:36 PM</td>\n",
       "      <td>134.441100</td>\n",
       "      <td>15.352638</td>\n",
       "      <td>20.649195</td>\n",
       "      <td>19.045841</td>\n",
       "      <td>7.113271</td>\n",
       "      <td>8.647094</td>\n",
       "      <td>10.020181</td>\n",
       "      <td>10.592443</td>\n",
       "      <td>12.950564</td>\n",
       "      <td>...</td>\n",
       "      <td>218544.140625</td>\n",
       "      <td>559473.0</td>\n",
       "      <td>615081.640625</td>\n",
       "      <td>1574598.0</td>\n",
       "      <td>750000.0</td>\n",
       "      <td>1920000.0</td>\n",
       "      <td>359.999470</td>\n",
       "      <td>-1.0</td>\n",
       "      <td>0.000070</td>\n",
       "      <td>0.0</td>\n",
       "    </tr>\n",
       "    <tr>\n",
       "      <th>2020-03-16 12:57:36</th>\n",
       "      <td>3/16/2020 12:57:36 PM</td>\n",
       "      <td>134.441157</td>\n",
       "      <td>15.316850</td>\n",
       "      <td>20.065617</td>\n",
       "      <td>18.543882</td>\n",
       "      <td>7.005251</td>\n",
       "      <td>8.486361</td>\n",
       "      <td>9.867291</td>\n",
       "      <td>10.345148</td>\n",
       "      <td>12.957912</td>\n",
       "      <td>...</td>\n",
       "      <td>218544.140625</td>\n",
       "      <td>559473.0</td>\n",
       "      <td>629046.484375</td>\n",
       "      <td>1610349.0</td>\n",
       "      <td>750000.0</td>\n",
       "      <td>1920000.0</td>\n",
       "      <td>359.999457</td>\n",
       "      <td>-1.0</td>\n",
       "      <td>0.000074</td>\n",
       "      <td>0.0</td>\n",
       "    </tr>\n",
       "    <tr>\n",
       "      <th>2020-03-16 12:58:36</th>\n",
       "      <td>3/16/2020 12:58:36 PM</td>\n",
       "      <td>134.441100</td>\n",
       "      <td>15.284013</td>\n",
       "      <td>19.538628</td>\n",
       "      <td>18.079739</td>\n",
       "      <td>6.883992</td>\n",
       "      <td>8.309080</td>\n",
       "      <td>9.737100</td>\n",
       "      <td>10.090548</td>\n",
       "      <td>12.964968</td>\n",
       "      <td>...</td>\n",
       "      <td>218544.140625</td>\n",
       "      <td>559473.0</td>\n",
       "      <td>643008.203125</td>\n",
       "      <td>1646090.0</td>\n",
       "      <td>750000.0</td>\n",
       "      <td>1920000.0</td>\n",
       "      <td>359.999451</td>\n",
       "      <td>-1.0</td>\n",
       "      <td>0.000070</td>\n",
       "      <td>0.0</td>\n",
       "    </tr>\n",
       "    <tr>\n",
       "      <th>2020-03-16 12:59:36</th>\n",
       "      <td>3/16/2020 12:59:36 PM</td>\n",
       "      <td>134.441100</td>\n",
       "      <td>15.253590</td>\n",
       "      <td>19.050692</td>\n",
       "      <td>17.646271</td>\n",
       "      <td>6.795734</td>\n",
       "      <td>8.177853</td>\n",
       "      <td>9.588160</td>\n",
       "      <td>9.903883</td>\n",
       "      <td>12.967378</td>\n",
       "      <td>...</td>\n",
       "      <td>218544.140625</td>\n",
       "      <td>559473.0</td>\n",
       "      <td>656968.359375</td>\n",
       "      <td>1681829.0</td>\n",
       "      <td>750000.0</td>\n",
       "      <td>1920000.0</td>\n",
       "      <td>359.999444</td>\n",
       "      <td>-1.0</td>\n",
       "      <td>0.000080</td>\n",
       "      <td>0.0</td>\n",
       "    </tr>\n",
       "    <tr>\n",
       "      <th>2020-03-16 13:00:36</th>\n",
       "      <td>3/16/2020 1:00:36 PM</td>\n",
       "      <td>134.441213</td>\n",
       "      <td>15.225492</td>\n",
       "      <td>18.597195</td>\n",
       "      <td>17.249039</td>\n",
       "      <td>6.656527</td>\n",
       "      <td>8.003915</td>\n",
       "      <td>9.474657</td>\n",
       "      <td>9.686376</td>\n",
       "      <td>12.970944</td>\n",
       "      <td>...</td>\n",
       "      <td>218544.140625</td>\n",
       "      <td>559473.0</td>\n",
       "      <td>670933.984375</td>\n",
       "      <td>1717579.0</td>\n",
       "      <td>750000.0</td>\n",
       "      <td>1920000.0</td>\n",
       "      <td>359.999425</td>\n",
       "      <td>-1.0</td>\n",
       "      <td>0.000089</td>\n",
       "      <td>0.0</td>\n",
       "    </tr>\n",
       "    <tr>\n",
       "      <th>2020-03-16 13:01:36</th>\n",
       "      <td>3/16/2020 1:01:36 PM</td>\n",
       "      <td>134.441100</td>\n",
       "      <td>15.199750</td>\n",
       "      <td>18.180500</td>\n",
       "      <td>16.883089</td>\n",
       "      <td>6.634073</td>\n",
       "      <td>7.934021</td>\n",
       "      <td>9.386997</td>\n",
       "      <td>9.538396</td>\n",
       "      <td>12.970944</td>\n",
       "      <td>...</td>\n",
       "      <td>218544.140625</td>\n",
       "      <td>559473.0</td>\n",
       "      <td>684894.140625</td>\n",
       "      <td>1753319.0</td>\n",
       "      <td>750000.0</td>\n",
       "      <td>1920000.0</td>\n",
       "      <td>359.999484</td>\n",
       "      <td>-1.0</td>\n",
       "      <td>0.000059</td>\n",
       "      <td>0.0</td>\n",
       "    </tr>\n",
       "    <tr>\n",
       "      <th>2020-03-16 13:02:36</th>\n",
       "      <td>3/16/2020 1:02:36 PM</td>\n",
       "      <td>134.441157</td>\n",
       "      <td>15.176457</td>\n",
       "      <td>17.793291</td>\n",
       "      <td>16.547211</td>\n",
       "      <td>6.652165</td>\n",
       "      <td>7.889918</td>\n",
       "      <td>9.339802</td>\n",
       "      <td>9.424367</td>\n",
       "      <td>12.970787</td>\n",
       "      <td>...</td>\n",
       "      <td>218544.140625</td>\n",
       "      <td>559473.0</td>\n",
       "      <td>698859.375000</td>\n",
       "      <td>1789069.0</td>\n",
       "      <td>750000.0</td>\n",
       "      <td>1920000.0</td>\n",
       "      <td>359.999463</td>\n",
       "      <td>-1.0</td>\n",
       "      <td>0.000082</td>\n",
       "      <td>0.0</td>\n",
       "    </tr>\n",
       "    <tr>\n",
       "      <th>2020-03-16 13:03:36</th>\n",
       "      <td>3/16/2020 1:03:36 PM</td>\n",
       "      <td>134.441213</td>\n",
       "      <td>15.155698</td>\n",
       "      <td>17.442959</td>\n",
       "      <td>16.241221</td>\n",
       "      <td>6.738541</td>\n",
       "      <td>7.928914</td>\n",
       "      <td>9.315763</td>\n",
       "      <td>9.377934</td>\n",
       "      <td>12.970200</td>\n",
       "      <td>...</td>\n",
       "      <td>218544.140625</td>\n",
       "      <td>559473.0</td>\n",
       "      <td>712820.703125</td>\n",
       "      <td>1824811.0</td>\n",
       "      <td>750000.0</td>\n",
       "      <td>1920000.0</td>\n",
       "      <td>359.999431</td>\n",
       "      <td>-1.0</td>\n",
       "      <td>0.000074</td>\n",
       "      <td>0.0</td>\n",
       "    </tr>\n",
       "    <tr>\n",
       "      <th>2020-03-16 13:04:36</th>\n",
       "      <td>3/16/2020 1:04:36 PM</td>\n",
       "      <td>134.441270</td>\n",
       "      <td>15.137343</td>\n",
       "      <td>17.128450</td>\n",
       "      <td>15.975641</td>\n",
       "      <td>6.782023</td>\n",
       "      <td>7.923318</td>\n",
       "      <td>9.336728</td>\n",
       "      <td>9.326667</td>\n",
       "      <td>12.969377</td>\n",
       "      <td>...</td>\n",
       "      <td>218544.140625</td>\n",
       "      <td>559473.0</td>\n",
       "      <td>726783.203125</td>\n",
       "      <td>1860554.0</td>\n",
       "      <td>750000.0</td>\n",
       "      <td>1920000.0</td>\n",
       "      <td>359.999423</td>\n",
       "      <td>-1.0</td>\n",
       "      <td>0.000082</td>\n",
       "      <td>0.0</td>\n",
       "    </tr>\n",
       "    <tr>\n",
       "      <th>2020-03-16 13:05:36</th>\n",
       "      <td>3/16/2020 1:05:36 PM</td>\n",
       "      <td>134.441157</td>\n",
       "      <td>15.121285</td>\n",
       "      <td>16.841026</td>\n",
       "      <td>15.743875</td>\n",
       "      <td>6.858445</td>\n",
       "      <td>7.952668</td>\n",
       "      <td>9.246176</td>\n",
       "      <td>9.314472</td>\n",
       "      <td>12.970121</td>\n",
       "      <td>...</td>\n",
       "      <td>218544.140625</td>\n",
       "      <td>559473.0</td>\n",
       "      <td>740742.968750</td>\n",
       "      <td>1896292.0</td>\n",
       "      <td>750000.0</td>\n",
       "      <td>1920000.0</td>\n",
       "      <td>359.999435</td>\n",
       "      <td>-1.0</td>\n",
       "      <td>0.000082</td>\n",
       "      <td>0.0</td>\n",
       "    </tr>\n",
       "    <tr>\n",
       "      <th>2020-03-16 13:06:36</th>\n",
       "      <td>3/16/2020 1:06:36 PM</td>\n",
       "      <td>134.441157</td>\n",
       "      <td>15.106968</td>\n",
       "      <td>16.595644</td>\n",
       "      <td>15.534012</td>\n",
       "      <td>6.887141</td>\n",
       "      <td>7.945507</td>\n",
       "      <td>9.303314</td>\n",
       "      <td>9.256883</td>\n",
       "      <td>12.969004</td>\n",
       "      <td>...</td>\n",
       "      <td>218544.140625</td>\n",
       "      <td>559473.0</td>\n",
       "      <td>750018.750000</td>\n",
       "      <td>1920048.0</td>\n",
       "      <td>750000.0</td>\n",
       "      <td>1920000.0</td>\n",
       "      <td>359.999476</td>\n",
       "      <td>-1.0</td>\n",
       "      <td>0.000074</td>\n",
       "      <td>0.0</td>\n",
       "    </tr>\n",
       "    <tr>\n",
       "      <th>2020-03-16 13:07:36</th>\n",
       "      <td>3/16/2020 1:07:36 PM</td>\n",
       "      <td>134.441157</td>\n",
       "      <td>15.094158</td>\n",
       "      <td>16.375155</td>\n",
       "      <td>15.348987</td>\n",
       "      <td>6.896843</td>\n",
       "      <td>7.938952</td>\n",
       "      <td>9.207458</td>\n",
       "      <td>9.234138</td>\n",
       "      <td>12.969102</td>\n",
       "      <td>...</td>\n",
       "      <td>218544.140625</td>\n",
       "      <td>559473.0</td>\n",
       "      <td>750018.750000</td>\n",
       "      <td>1920048.0</td>\n",
       "      <td>750000.0</td>\n",
       "      <td>1920000.0</td>\n",
       "      <td>359.999418</td>\n",
       "      <td>-1.0</td>\n",
       "      <td>0.000082</td>\n",
       "      <td>0.0</td>\n",
       "    </tr>\n",
       "    <tr>\n",
       "      <th>2020-03-16 13:08:36</th>\n",
       "      <td>3/16/2020 1:08:36 PM</td>\n",
       "      <td>134.441383</td>\n",
       "      <td>15.082597</td>\n",
       "      <td>16.167683</td>\n",
       "      <td>15.184287</td>\n",
       "      <td>6.890349</td>\n",
       "      <td>7.923533</td>\n",
       "      <td>9.229342</td>\n",
       "      <td>9.191818</td>\n",
       "      <td>12.962499</td>\n",
       "      <td>...</td>\n",
       "      <td>218544.140625</td>\n",
       "      <td>559473.0</td>\n",
       "      <td>750018.750000</td>\n",
       "      <td>1920048.0</td>\n",
       "      <td>750000.0</td>\n",
       "      <td>1920000.0</td>\n",
       "      <td>359.999416</td>\n",
       "      <td>-1.0</td>\n",
       "      <td>0.000074</td>\n",
       "      <td>0.0</td>\n",
       "    </tr>\n",
       "    <tr>\n",
       "      <th>2020-03-16 13:09:36</th>\n",
       "      <td>3/16/2020 1:09:36 PM</td>\n",
       "      <td>134.441213</td>\n",
       "      <td>15.072170</td>\n",
       "      <td>15.983232</td>\n",
       "      <td>15.034105</td>\n",
       "      <td>6.873409</td>\n",
       "      <td>7.880898</td>\n",
       "      <td>9.188901</td>\n",
       "      <td>9.101641</td>\n",
       "      <td>12.961303</td>\n",
       "      <td>...</td>\n",
       "      <td>218544.140625</td>\n",
       "      <td>559473.0</td>\n",
       "      <td>750018.750000</td>\n",
       "      <td>1920048.0</td>\n",
       "      <td>750000.0</td>\n",
       "      <td>1920000.0</td>\n",
       "      <td>359.999410</td>\n",
       "      <td>-1.0</td>\n",
       "      <td>0.000097</td>\n",
       "      <td>0.0</td>\n",
       "    </tr>\n",
       "    <tr>\n",
       "      <th>2020-03-16 13:10:36</th>\n",
       "      <td>3/16/2020 1:10:36 PM</td>\n",
       "      <td>134.441440</td>\n",
       "      <td>15.062872</td>\n",
       "      <td>15.815343</td>\n",
       "      <td>14.897203</td>\n",
       "      <td>6.901968</td>\n",
       "      <td>7.894007</td>\n",
       "      <td>9.220102</td>\n",
       "      <td>9.081108</td>\n",
       "      <td>12.960401</td>\n",
       "      <td>...</td>\n",
       "      <td>218544.140625</td>\n",
       "      <td>559473.0</td>\n",
       "      <td>750018.750000</td>\n",
       "      <td>1920048.0</td>\n",
       "      <td>750000.0</td>\n",
       "      <td>1920000.0</td>\n",
       "      <td>359.999410</td>\n",
       "      <td>-1.0</td>\n",
       "      <td>0.000093</td>\n",
       "      <td>0.0</td>\n",
       "    </tr>\n",
       "    <tr>\n",
       "      <th>2020-03-16 13:11:36</th>\n",
       "      <td>3/16/2020 1:11:36 PM</td>\n",
       "      <td>134.441270</td>\n",
       "      <td>15.054350</td>\n",
       "      <td>15.669997</td>\n",
       "      <td>14.776680</td>\n",
       "      <td>6.885341</td>\n",
       "      <td>7.852780</td>\n",
       "      <td>9.207653</td>\n",
       "      <td>9.044114</td>\n",
       "      <td>12.955738</td>\n",
       "      <td>...</td>\n",
       "      <td>218544.140625</td>\n",
       "      <td>559473.0</td>\n",
       "      <td>750018.750000</td>\n",
       "      <td>1920048.0</td>\n",
       "      <td>750000.0</td>\n",
       "      <td>1920000.0</td>\n",
       "      <td>359.999410</td>\n",
       "      <td>-1.0</td>\n",
       "      <td>0.000080</td>\n",
       "      <td>0.0</td>\n",
       "    </tr>\n",
       "    <tr>\n",
       "      <th>2020-03-16 13:12:36</th>\n",
       "      <td>3/16/2020 1:12:36 PM</td>\n",
       "      <td>134.441440</td>\n",
       "      <td>15.046712</td>\n",
       "      <td>15.527050</td>\n",
       "      <td>14.665649</td>\n",
       "      <td>6.907954</td>\n",
       "      <td>7.853759</td>\n",
       "      <td>9.148129</td>\n",
       "      <td>9.026753</td>\n",
       "      <td>12.956012</td>\n",
       "      <td>...</td>\n",
       "      <td>218544.140625</td>\n",
       "      <td>559473.0</td>\n",
       "      <td>750018.750000</td>\n",
       "      <td>1920048.0</td>\n",
       "      <td>750000.0</td>\n",
       "      <td>1920000.0</td>\n",
       "      <td>359.999407</td>\n",
       "      <td>-1.0</td>\n",
       "      <td>0.000091</td>\n",
       "      <td>0.0</td>\n",
       "    </tr>\n",
       "    <tr>\n",
       "      <th>2020-03-16 13:13:36</th>\n",
       "      <td>3/16/2020 1:13:36 PM</td>\n",
       "      <td>134.441383</td>\n",
       "      <td>15.039788</td>\n",
       "      <td>15.401169</td>\n",
       "      <td>14.565386</td>\n",
       "      <td>6.894535</td>\n",
       "      <td>7.813198</td>\n",
       "      <td>9.154783</td>\n",
       "      <td>8.961614</td>\n",
       "      <td>12.953582</td>\n",
       "      <td>...</td>\n",
       "      <td>218544.140625</td>\n",
       "      <td>559473.0</td>\n",
       "      <td>750018.750000</td>\n",
       "      <td>1920048.0</td>\n",
       "      <td>750000.0</td>\n",
       "      <td>1920000.0</td>\n",
       "      <td>359.999441</td>\n",
       "      <td>-1.0</td>\n",
       "      <td>0.000065</td>\n",
       "      <td>0.0</td>\n",
       "    </tr>\n",
       "    <tr>\n",
       "      <th>2020-03-16 13:14:36</th>\n",
       "      <td>3/16/2020 1:14:36 PM</td>\n",
       "      <td>134.441383</td>\n",
       "      <td>15.033573</td>\n",
       "      <td>15.287079</td>\n",
       "      <td>14.477496</td>\n",
       "      <td>6.891249</td>\n",
       "      <td>7.797584</td>\n",
       "      <td>9.156310</td>\n",
       "      <td>8.923076</td>\n",
       "      <td>12.949760</td>\n",
       "      <td>...</td>\n",
       "      <td>218544.140625</td>\n",
       "      <td>559473.0</td>\n",
       "      <td>750018.750000</td>\n",
       "      <td>1920048.0</td>\n",
       "      <td>750000.0</td>\n",
       "      <td>1920000.0</td>\n",
       "      <td>359.999444</td>\n",
       "      <td>-1.0</td>\n",
       "      <td>0.000065</td>\n",
       "      <td>0.0</td>\n",
       "    </tr>\n",
       "    <tr>\n",
       "      <th>2020-03-16 13:15:36</th>\n",
       "      <td>3/16/2020 1:15:36 PM</td>\n",
       "      <td>134.441383</td>\n",
       "      <td>15.028027</td>\n",
       "      <td>15.184208</td>\n",
       "      <td>14.391275</td>\n",
       "      <td>6.891542</td>\n",
       "      <td>7.792458</td>\n",
       "      <td>9.091248</td>\n",
       "      <td>8.906243</td>\n",
       "      <td>12.948840</td>\n",
       "      <td>...</td>\n",
       "      <td>218544.140625</td>\n",
       "      <td>559473.0</td>\n",
       "      <td>750018.750000</td>\n",
       "      <td>1920048.0</td>\n",
       "      <td>750000.0</td>\n",
       "      <td>1920000.0</td>\n",
       "      <td>359.999430</td>\n",
       "      <td>-1.0</td>\n",
       "      <td>0.000065</td>\n",
       "      <td>0.0</td>\n",
       "    </tr>\n",
       "    <tr>\n",
       "      <th>2020-03-16 13:16:36</th>\n",
       "      <td>3/16/2020 1:16:36 PM</td>\n",
       "      <td>134.441440</td>\n",
       "      <td>15.022987</td>\n",
       "      <td>15.098322</td>\n",
       "      <td>14.318818</td>\n",
       "      <td>6.885009</td>\n",
       "      <td>7.790442</td>\n",
       "      <td>9.126225</td>\n",
       "      <td>8.881425</td>\n",
       "      <td>12.945195</td>\n",
       "      <td>...</td>\n",
       "      <td>218544.140625</td>\n",
       "      <td>559473.0</td>\n",
       "      <td>750018.750000</td>\n",
       "      <td>1920048.0</td>\n",
       "      <td>750000.0</td>\n",
       "      <td>1920000.0</td>\n",
       "      <td>359.999400</td>\n",
       "      <td>-1.0</td>\n",
       "      <td>0.000110</td>\n",
       "      <td>0.0</td>\n",
       "    </tr>\n",
       "    <tr>\n",
       "      <th>...</th>\n",
       "      <td>...</td>\n",
       "      <td>...</td>\n",
       "      <td>...</td>\n",
       "      <td>...</td>\n",
       "      <td>...</td>\n",
       "      <td>...</td>\n",
       "      <td>...</td>\n",
       "      <td>...</td>\n",
       "      <td>...</td>\n",
       "      <td>...</td>\n",
       "      <td>...</td>\n",
       "      <td>...</td>\n",
       "      <td>...</td>\n",
       "      <td>...</td>\n",
       "      <td>...</td>\n",
       "      <td>...</td>\n",
       "      <td>...</td>\n",
       "      <td>...</td>\n",
       "      <td>...</td>\n",
       "      <td>...</td>\n",
       "      <td>...</td>\n",
       "    </tr>\n",
       "    <tr>\n",
       "      <th>2020-03-20 13:34:57</th>\n",
       "      <td>3/20/2020 1:34:57 PM</td>\n",
       "      <td>153.650420</td>\n",
       "      <td>17.256897</td>\n",
       "      <td>16.052254</td>\n",
       "      <td>15.262821</td>\n",
       "      <td>7.014191</td>\n",
       "      <td>8.016711</td>\n",
       "      <td>9.209591</td>\n",
       "      <td>9.276340</td>\n",
       "      <td>11.722805</td>\n",
       "      <td>...</td>\n",
       "      <td>218544.140625</td>\n",
       "      <td>559473.0</td>\n",
       "      <td>750018.750000</td>\n",
       "      <td>1920048.0</td>\n",
       "      <td>750000.0</td>\n",
       "      <td>1920000.0</td>\n",
       "      <td>359.999426</td>\n",
       "      <td>-1.0</td>\n",
       "      <td>0.000641</td>\n",
       "      <td>0.0</td>\n",
       "    </tr>\n",
       "    <tr>\n",
       "      <th>2020-03-20 13:35:57</th>\n",
       "      <td>3/20/2020 1:35:57 PM</td>\n",
       "      <td>153.650477</td>\n",
       "      <td>17.258008</td>\n",
       "      <td>16.068180</td>\n",
       "      <td>15.276450</td>\n",
       "      <td>7.005525</td>\n",
       "      <td>8.025438</td>\n",
       "      <td>9.237915</td>\n",
       "      <td>9.271877</td>\n",
       "      <td>11.732208</td>\n",
       "      <td>...</td>\n",
       "      <td>218544.140625</td>\n",
       "      <td>559473.0</td>\n",
       "      <td>750018.750000</td>\n",
       "      <td>1920048.0</td>\n",
       "      <td>750000.0</td>\n",
       "      <td>1920000.0</td>\n",
       "      <td>359.999422</td>\n",
       "      <td>-1.0</td>\n",
       "      <td>0.000615</td>\n",
       "      <td>0.0</td>\n",
       "    </tr>\n",
       "    <tr>\n",
       "      <th>2020-03-20 13:36:57</th>\n",
       "      <td>3/20/2020 1:36:57 PM</td>\n",
       "      <td>153.650420</td>\n",
       "      <td>17.259037</td>\n",
       "      <td>16.082577</td>\n",
       "      <td>15.284137</td>\n",
       "      <td>7.018377</td>\n",
       "      <td>8.028687</td>\n",
       "      <td>9.231260</td>\n",
       "      <td>9.290473</td>\n",
       "      <td>11.745764</td>\n",
       "      <td>...</td>\n",
       "      <td>218544.140625</td>\n",
       "      <td>559473.0</td>\n",
       "      <td>750018.750000</td>\n",
       "      <td>1920048.0</td>\n",
       "      <td>750000.0</td>\n",
       "      <td>1920000.0</td>\n",
       "      <td>359.999393</td>\n",
       "      <td>-1.0</td>\n",
       "      <td>0.000633</td>\n",
       "      <td>0.0</td>\n",
       "    </tr>\n",
       "    <tr>\n",
       "      <th>2020-03-20 13:37:57</th>\n",
       "      <td>3/20/2020 1:37:57 PM</td>\n",
       "      <td>153.650477</td>\n",
       "      <td>17.259858</td>\n",
       "      <td>16.098837</td>\n",
       "      <td>15.298099</td>\n",
       "      <td>7.002161</td>\n",
       "      <td>8.008493</td>\n",
       "      <td>9.213859</td>\n",
       "      <td>9.289162</td>\n",
       "      <td>11.748565</td>\n",
       "      <td>...</td>\n",
       "      <td>218544.140625</td>\n",
       "      <td>559473.0</td>\n",
       "      <td>750018.750000</td>\n",
       "      <td>1920048.0</td>\n",
       "      <td>750000.0</td>\n",
       "      <td>1920000.0</td>\n",
       "      <td>359.999372</td>\n",
       "      <td>-1.0</td>\n",
       "      <td>0.000633</td>\n",
       "      <td>0.0</td>\n",
       "    </tr>\n",
       "    <tr>\n",
       "      <th>2020-03-20 13:38:57</th>\n",
       "      <td>3/20/2020 1:38:57 PM</td>\n",
       "      <td>153.650420</td>\n",
       "      <td>17.260633</td>\n",
       "      <td>16.112822</td>\n",
       "      <td>15.308944</td>\n",
       "      <td>7.006405</td>\n",
       "      <td>8.031661</td>\n",
       "      <td>9.225858</td>\n",
       "      <td>9.296952</td>\n",
       "      <td>11.758693</td>\n",
       "      <td>...</td>\n",
       "      <td>218544.140625</td>\n",
       "      <td>559473.0</td>\n",
       "      <td>750018.750000</td>\n",
       "      <td>1920048.0</td>\n",
       "      <td>750000.0</td>\n",
       "      <td>1920000.0</td>\n",
       "      <td>359.999393</td>\n",
       "      <td>-1.0</td>\n",
       "      <td>0.000613</td>\n",
       "      <td>0.0</td>\n",
       "    </tr>\n",
       "    <tr>\n",
       "      <th>2020-03-20 13:39:57</th>\n",
       "      <td>3/20/2020 1:39:57 PM</td>\n",
       "      <td>153.650420</td>\n",
       "      <td>17.261378</td>\n",
       "      <td>16.126669</td>\n",
       "      <td>15.320984</td>\n",
       "      <td>7.018279</td>\n",
       "      <td>8.034987</td>\n",
       "      <td>9.280568</td>\n",
       "      <td>9.296346</td>\n",
       "      <td>11.765372</td>\n",
       "      <td>...</td>\n",
       "      <td>218544.140625</td>\n",
       "      <td>559473.0</td>\n",
       "      <td>750018.750000</td>\n",
       "      <td>1920048.0</td>\n",
       "      <td>750000.0</td>\n",
       "      <td>1920000.0</td>\n",
       "      <td>359.999396</td>\n",
       "      <td>-1.0</td>\n",
       "      <td>0.000624</td>\n",
       "      <td>0.0</td>\n",
       "    </tr>\n",
       "    <tr>\n",
       "      <th>2020-03-20 13:40:57</th>\n",
       "      <td>3/20/2020 1:40:57 PM</td>\n",
       "      <td>153.650363</td>\n",
       "      <td>17.262078</td>\n",
       "      <td>16.133339</td>\n",
       "      <td>15.335926</td>\n",
       "      <td>7.010220</td>\n",
       "      <td>8.030604</td>\n",
       "      <td>9.259330</td>\n",
       "      <td>9.309793</td>\n",
       "      <td>11.771994</td>\n",
       "      <td>...</td>\n",
       "      <td>218544.140625</td>\n",
       "      <td>559473.0</td>\n",
       "      <td>750018.750000</td>\n",
       "      <td>1920048.0</td>\n",
       "      <td>750000.0</td>\n",
       "      <td>1920000.0</td>\n",
       "      <td>359.999458</td>\n",
       "      <td>-1.0</td>\n",
       "      <td>0.000598</td>\n",
       "      <td>0.0</td>\n",
       "    </tr>\n",
       "    <tr>\n",
       "      <th>2020-03-20 13:41:57</th>\n",
       "      <td>3/20/2020 1:41:57 PM</td>\n",
       "      <td>153.650420</td>\n",
       "      <td>17.262743</td>\n",
       "      <td>16.144733</td>\n",
       "      <td>15.342849</td>\n",
       "      <td>7.033126</td>\n",
       "      <td>8.054105</td>\n",
       "      <td>9.216619</td>\n",
       "      <td>9.332813</td>\n",
       "      <td>11.780416</td>\n",
       "      <td>...</td>\n",
       "      <td>218544.140625</td>\n",
       "      <td>559473.0</td>\n",
       "      <td>750018.750000</td>\n",
       "      <td>1920048.0</td>\n",
       "      <td>750000.0</td>\n",
       "      <td>1920000.0</td>\n",
       "      <td>359.999433</td>\n",
       "      <td>-1.0</td>\n",
       "      <td>0.000607</td>\n",
       "      <td>0.0</td>\n",
       "    </tr>\n",
       "    <tr>\n",
       "      <th>2020-03-20 13:42:57</th>\n",
       "      <td>3/20/2020 1:42:57 PM</td>\n",
       "      <td>153.650193</td>\n",
       "      <td>17.263380</td>\n",
       "      <td>16.157660</td>\n",
       "      <td>15.350830</td>\n",
       "      <td>7.007638</td>\n",
       "      <td>8.044047</td>\n",
       "      <td>9.279766</td>\n",
       "      <td>9.318172</td>\n",
       "      <td>11.789526</td>\n",
       "      <td>...</td>\n",
       "      <td>218544.140625</td>\n",
       "      <td>559473.0</td>\n",
       "      <td>750018.750000</td>\n",
       "      <td>1920048.0</td>\n",
       "      <td>750000.0</td>\n",
       "      <td>1920000.0</td>\n",
       "      <td>359.999406</td>\n",
       "      <td>-1.0</td>\n",
       "      <td>0.000619</td>\n",
       "      <td>0.0</td>\n",
       "    </tr>\n",
       "    <tr>\n",
       "      <th>2020-03-20 13:43:57</th>\n",
       "      <td>3/20/2020 1:43:57 PM</td>\n",
       "      <td>153.650420</td>\n",
       "      <td>17.263822</td>\n",
       "      <td>16.161877</td>\n",
       "      <td>15.362008</td>\n",
       "      <td>7.013662</td>\n",
       "      <td>8.031564</td>\n",
       "      <td>9.233531</td>\n",
       "      <td>9.320833</td>\n",
       "      <td>11.799183</td>\n",
       "      <td>...</td>\n",
       "      <td>218544.140625</td>\n",
       "      <td>559473.0</td>\n",
       "      <td>750018.750000</td>\n",
       "      <td>1920048.0</td>\n",
       "      <td>750000.0</td>\n",
       "      <td>1920000.0</td>\n",
       "      <td>359.999425</td>\n",
       "      <td>-1.0</td>\n",
       "      <td>0.000630</td>\n",
       "      <td>0.0</td>\n",
       "    </tr>\n",
       "    <tr>\n",
       "      <th>2020-03-20 13:44:58</th>\n",
       "      <td>3/20/2020 1:44:58 PM</td>\n",
       "      <td>153.650420</td>\n",
       "      <td>17.264227</td>\n",
       "      <td>16.169842</td>\n",
       "      <td>15.361282</td>\n",
       "      <td>7.007950</td>\n",
       "      <td>8.023110</td>\n",
       "      <td>9.239795</td>\n",
       "      <td>9.307209</td>\n",
       "      <td>11.808194</td>\n",
       "      <td>...</td>\n",
       "      <td>218544.140625</td>\n",
       "      <td>559473.0</td>\n",
       "      <td>750018.750000</td>\n",
       "      <td>1920048.0</td>\n",
       "      <td>750000.0</td>\n",
       "      <td>1920000.0</td>\n",
       "      <td>359.999416</td>\n",
       "      <td>-1.0</td>\n",
       "      <td>0.000592</td>\n",
       "      <td>0.0</td>\n",
       "    </tr>\n",
       "    <tr>\n",
       "      <th>2020-03-20 13:45:57</th>\n",
       "      <td>3/20/2020 1:45:57 PM</td>\n",
       "      <td>153.650307</td>\n",
       "      <td>17.264578</td>\n",
       "      <td>16.180080</td>\n",
       "      <td>15.364420</td>\n",
       "      <td>6.993945</td>\n",
       "      <td>8.032346</td>\n",
       "      <td>9.266278</td>\n",
       "      <td>9.297402</td>\n",
       "      <td>11.818283</td>\n",
       "      <td>...</td>\n",
       "      <td>218544.140625</td>\n",
       "      <td>559473.0</td>\n",
       "      <td>750018.750000</td>\n",
       "      <td>1920048.0</td>\n",
       "      <td>750000.0</td>\n",
       "      <td>1920000.0</td>\n",
       "      <td>359.999416</td>\n",
       "      <td>-1.0</td>\n",
       "      <td>0.000622</td>\n",
       "      <td>0.0</td>\n",
       "    </tr>\n",
       "    <tr>\n",
       "      <th>2020-03-20 13:46:57</th>\n",
       "      <td>3/20/2020 1:46:57 PM</td>\n",
       "      <td>153.650363</td>\n",
       "      <td>17.264943</td>\n",
       "      <td>16.185886</td>\n",
       "      <td>15.370597</td>\n",
       "      <td>7.013428</td>\n",
       "      <td>8.044027</td>\n",
       "      <td>9.160950</td>\n",
       "      <td>9.341074</td>\n",
       "      <td>11.820868</td>\n",
       "      <td>...</td>\n",
       "      <td>218544.140625</td>\n",
       "      <td>559473.0</td>\n",
       "      <td>750018.750000</td>\n",
       "      <td>1920048.0</td>\n",
       "      <td>750000.0</td>\n",
       "      <td>1920000.0</td>\n",
       "      <td>359.999370</td>\n",
       "      <td>-1.0</td>\n",
       "      <td>0.000632</td>\n",
       "      <td>0.0</td>\n",
       "    </tr>\n",
       "    <tr>\n",
       "      <th>2020-03-20 13:47:57</th>\n",
       "      <td>3/20/2020 1:47:57 PM</td>\n",
       "      <td>153.650250</td>\n",
       "      <td>17.265343</td>\n",
       "      <td>16.188084</td>\n",
       "      <td>15.373538</td>\n",
       "      <td>7.027042</td>\n",
       "      <td>8.037590</td>\n",
       "      <td>9.237132</td>\n",
       "      <td>9.323848</td>\n",
       "      <td>11.829605</td>\n",
       "      <td>...</td>\n",
       "      <td>218544.140625</td>\n",
       "      <td>559473.0</td>\n",
       "      <td>750018.750000</td>\n",
       "      <td>1920048.0</td>\n",
       "      <td>750000.0</td>\n",
       "      <td>1920000.0</td>\n",
       "      <td>359.999440</td>\n",
       "      <td>-1.0</td>\n",
       "      <td>0.000598</td>\n",
       "      <td>0.0</td>\n",
       "    </tr>\n",
       "    <tr>\n",
       "      <th>2020-03-20 13:48:57</th>\n",
       "      <td>3/20/2020 1:48:57 PM</td>\n",
       "      <td>153.650307</td>\n",
       "      <td>17.265687</td>\n",
       "      <td>16.188534</td>\n",
       "      <td>15.383264</td>\n",
       "      <td>7.022700</td>\n",
       "      <td>8.032444</td>\n",
       "      <td>9.219280</td>\n",
       "      <td>9.331893</td>\n",
       "      <td>11.840654</td>\n",
       "      <td>...</td>\n",
       "      <td>218544.140625</td>\n",
       "      <td>559473.0</td>\n",
       "      <td>750018.750000</td>\n",
       "      <td>1920048.0</td>\n",
       "      <td>750000.0</td>\n",
       "      <td>1920000.0</td>\n",
       "      <td>359.999370</td>\n",
       "      <td>-1.0</td>\n",
       "      <td>0.000638</td>\n",
       "      <td>0.0</td>\n",
       "    </tr>\n",
       "    <tr>\n",
       "      <th>2020-03-20 13:49:57</th>\n",
       "      <td>3/20/2020 1:49:57 PM</td>\n",
       "      <td>153.650307</td>\n",
       "      <td>17.265980</td>\n",
       "      <td>16.201204</td>\n",
       "      <td>15.387442</td>\n",
       "      <td>7.020881</td>\n",
       "      <td>8.050153</td>\n",
       "      <td>9.222138</td>\n",
       "      <td>9.339136</td>\n",
       "      <td>11.848685</td>\n",
       "      <td>...</td>\n",
       "      <td>218544.140625</td>\n",
       "      <td>559473.0</td>\n",
       "      <td>750018.750000</td>\n",
       "      <td>1920048.0</td>\n",
       "      <td>750000.0</td>\n",
       "      <td>1920000.0</td>\n",
       "      <td>359.999404</td>\n",
       "      <td>-1.0</td>\n",
       "      <td>0.000622</td>\n",
       "      <td>0.0</td>\n",
       "    </tr>\n",
       "    <tr>\n",
       "      <th>2020-03-20 13:50:57</th>\n",
       "      <td>3/20/2020 1:50:57 PM</td>\n",
       "      <td>153.650307</td>\n",
       "      <td>17.266263</td>\n",
       "      <td>16.205776</td>\n",
       "      <td>15.395148</td>\n",
       "      <td>7.006209</td>\n",
       "      <td>8.047022</td>\n",
       "      <td>9.292020</td>\n",
       "      <td>9.311320</td>\n",
       "      <td>11.857736</td>\n",
       "      <td>...</td>\n",
       "      <td>218544.140625</td>\n",
       "      <td>559473.0</td>\n",
       "      <td>750018.750000</td>\n",
       "      <td>1920048.0</td>\n",
       "      <td>750000.0</td>\n",
       "      <td>1920000.0</td>\n",
       "      <td>359.999376</td>\n",
       "      <td>-1.0</td>\n",
       "      <td>0.000609</td>\n",
       "      <td>0.0</td>\n",
       "    </tr>\n",
       "    <tr>\n",
       "      <th>2020-03-20 13:51:57</th>\n",
       "      <td>3/20/2020 1:51:57 PM</td>\n",
       "      <td>153.650363</td>\n",
       "      <td>17.266613</td>\n",
       "      <td>16.213699</td>\n",
       "      <td>15.399188</td>\n",
       "      <td>7.030642</td>\n",
       "      <td>8.062186</td>\n",
       "      <td>9.264459</td>\n",
       "      <td>9.328800</td>\n",
       "      <td>11.867335</td>\n",
       "      <td>...</td>\n",
       "      <td>218544.140625</td>\n",
       "      <td>559473.0</td>\n",
       "      <td>750018.750000</td>\n",
       "      <td>1920048.0</td>\n",
       "      <td>750000.0</td>\n",
       "      <td>1920000.0</td>\n",
       "      <td>359.999392</td>\n",
       "      <td>-1.0</td>\n",
       "      <td>0.000632</td>\n",
       "      <td>0.0</td>\n",
       "    </tr>\n",
       "    <tr>\n",
       "      <th>2020-03-20 13:52:57</th>\n",
       "      <td>3/20/2020 1:52:57 PM</td>\n",
       "      <td>153.650250</td>\n",
       "      <td>17.266887</td>\n",
       "      <td>16.222898</td>\n",
       "      <td>15.400248</td>\n",
       "      <td>7.001182</td>\n",
       "      <td>8.040193</td>\n",
       "      <td>9.269235</td>\n",
       "      <td>9.316546</td>\n",
       "      <td>11.876425</td>\n",
       "      <td>...</td>\n",
       "      <td>218544.140625</td>\n",
       "      <td>559473.0</td>\n",
       "      <td>750018.750000</td>\n",
       "      <td>1920048.0</td>\n",
       "      <td>750000.0</td>\n",
       "      <td>1920000.0</td>\n",
       "      <td>359.999399</td>\n",
       "      <td>-1.0</td>\n",
       "      <td>0.000597</td>\n",
       "      <td>0.0</td>\n",
       "    </tr>\n",
       "    <tr>\n",
       "      <th>2020-03-20 13:53:57</th>\n",
       "      <td>3/20/2020 1:53:57 PM</td>\n",
       "      <td>153.650193</td>\n",
       "      <td>17.267053</td>\n",
       "      <td>16.211817</td>\n",
       "      <td>15.403993</td>\n",
       "      <td>7.004860</td>\n",
       "      <td>8.034636</td>\n",
       "      <td>9.208436</td>\n",
       "      <td>9.317858</td>\n",
       "      <td>11.880989</td>\n",
       "      <td>...</td>\n",
       "      <td>218544.140625</td>\n",
       "      <td>559473.0</td>\n",
       "      <td>750018.750000</td>\n",
       "      <td>1920048.0</td>\n",
       "      <td>750000.0</td>\n",
       "      <td>1920000.0</td>\n",
       "      <td>359.999378</td>\n",
       "      <td>-1.0</td>\n",
       "      <td>0.000632</td>\n",
       "      <td>0.0</td>\n",
       "    </tr>\n",
       "    <tr>\n",
       "      <th>2020-03-20 13:54:57</th>\n",
       "      <td>3/20/2020 1:54:57 PM</td>\n",
       "      <td>153.650250</td>\n",
       "      <td>17.267227</td>\n",
       "      <td>16.222546</td>\n",
       "      <td>15.400522</td>\n",
       "      <td>7.018964</td>\n",
       "      <td>8.047902</td>\n",
       "      <td>9.192620</td>\n",
       "      <td>9.335378</td>\n",
       "      <td>11.884809</td>\n",
       "      <td>...</td>\n",
       "      <td>218544.140625</td>\n",
       "      <td>559473.0</td>\n",
       "      <td>750018.750000</td>\n",
       "      <td>1920048.0</td>\n",
       "      <td>750000.0</td>\n",
       "      <td>1920000.0</td>\n",
       "      <td>359.999398</td>\n",
       "      <td>-1.0</td>\n",
       "      <td>0.000598</td>\n",
       "      <td>0.0</td>\n",
       "    </tr>\n",
       "    <tr>\n",
       "      <th>2020-03-20 13:55:57</th>\n",
       "      <td>3/20/2020 1:55:57 PM</td>\n",
       "      <td>153.650363</td>\n",
       "      <td>17.267332</td>\n",
       "      <td>16.225901</td>\n",
       "      <td>15.408935</td>\n",
       "      <td>7.013193</td>\n",
       "      <td>8.043089</td>\n",
       "      <td>9.218322</td>\n",
       "      <td>9.322869</td>\n",
       "      <td>11.895741</td>\n",
       "      <td>...</td>\n",
       "      <td>218544.140625</td>\n",
       "      <td>559473.0</td>\n",
       "      <td>750018.750000</td>\n",
       "      <td>1920048.0</td>\n",
       "      <td>750000.0</td>\n",
       "      <td>1920000.0</td>\n",
       "      <td>359.999379</td>\n",
       "      <td>-1.0</td>\n",
       "      <td>0.000618</td>\n",
       "      <td>0.0</td>\n",
       "    </tr>\n",
       "    <tr>\n",
       "      <th>2020-03-20 13:56:57</th>\n",
       "      <td>3/20/2020 1:56:57 PM</td>\n",
       "      <td>153.650193</td>\n",
       "      <td>17.267452</td>\n",
       "      <td>16.214623</td>\n",
       "      <td>15.410622</td>\n",
       "      <td>7.014836</td>\n",
       "      <td>8.036357</td>\n",
       "      <td>9.238581</td>\n",
       "      <td>9.315685</td>\n",
       "      <td>11.900187</td>\n",
       "      <td>...</td>\n",
       "      <td>218544.140625</td>\n",
       "      <td>559473.0</td>\n",
       "      <td>750018.750000</td>\n",
       "      <td>1920048.0</td>\n",
       "      <td>750000.0</td>\n",
       "      <td>1920000.0</td>\n",
       "      <td>359.999391</td>\n",
       "      <td>-1.0</td>\n",
       "      <td>0.000598</td>\n",
       "      <td>0.0</td>\n",
       "    </tr>\n",
       "    <tr>\n",
       "      <th>2020-03-20 13:57:57</th>\n",
       "      <td>3/20/2020 1:57:57 PM</td>\n",
       "      <td>153.650137</td>\n",
       "      <td>17.267643</td>\n",
       "      <td>16.221664</td>\n",
       "      <td>15.413524</td>\n",
       "      <td>7.029820</td>\n",
       "      <td>8.059291</td>\n",
       "      <td>9.229616</td>\n",
       "      <td>9.337942</td>\n",
       "      <td>11.914252</td>\n",
       "      <td>...</td>\n",
       "      <td>218544.140625</td>\n",
       "      <td>559473.0</td>\n",
       "      <td>750018.750000</td>\n",
       "      <td>1920048.0</td>\n",
       "      <td>750000.0</td>\n",
       "      <td>1920000.0</td>\n",
       "      <td>359.999395</td>\n",
       "      <td>-1.0</td>\n",
       "      <td>0.000611</td>\n",
       "      <td>0.0</td>\n",
       "    </tr>\n",
       "    <tr>\n",
       "      <th>2020-03-20 13:58:57</th>\n",
       "      <td>3/20/2020 1:58:57 PM</td>\n",
       "      <td>153.650137</td>\n",
       "      <td>17.267798</td>\n",
       "      <td>16.233139</td>\n",
       "      <td>15.410072</td>\n",
       "      <td>7.005036</td>\n",
       "      <td>8.043363</td>\n",
       "      <td>9.288183</td>\n",
       "      <td>9.310714</td>\n",
       "      <td>11.924518</td>\n",
       "      <td>...</td>\n",
       "      <td>218544.140625</td>\n",
       "      <td>559473.0</td>\n",
       "      <td>750018.750000</td>\n",
       "      <td>1920048.0</td>\n",
       "      <td>750000.0</td>\n",
       "      <td>1920000.0</td>\n",
       "      <td>359.999402</td>\n",
       "      <td>-1.0</td>\n",
       "      <td>0.000601</td>\n",
       "      <td>0.0</td>\n",
       "    </tr>\n",
       "    <tr>\n",
       "      <th>2020-03-20 13:59:58</th>\n",
       "      <td>3/20/2020 1:59:58 PM</td>\n",
       "      <td>153.650193</td>\n",
       "      <td>17.267900</td>\n",
       "      <td>16.232786</td>\n",
       "      <td>15.415171</td>\n",
       "      <td>7.015912</td>\n",
       "      <td>8.052696</td>\n",
       "      <td>9.237621</td>\n",
       "      <td>9.338333</td>\n",
       "      <td>11.930238</td>\n",
       "      <td>...</td>\n",
       "      <td>218544.140625</td>\n",
       "      <td>559473.0</td>\n",
       "      <td>750018.750000</td>\n",
       "      <td>1920048.0</td>\n",
       "      <td>750000.0</td>\n",
       "      <td>1920000.0</td>\n",
       "      <td>359.999347</td>\n",
       "      <td>-1.0</td>\n",
       "      <td>0.000613</td>\n",
       "      <td>0.0</td>\n",
       "    </tr>\n",
       "    <tr>\n",
       "      <th>2020-03-20 14:00:57</th>\n",
       "      <td>3/20/2020 2:00:57 PM</td>\n",
       "      <td>153.650193</td>\n",
       "      <td>17.267950</td>\n",
       "      <td>16.231609</td>\n",
       "      <td>15.414994</td>\n",
       "      <td>7.005466</td>\n",
       "      <td>8.028433</td>\n",
       "      <td>9.279531</td>\n",
       "      <td>9.300573</td>\n",
       "      <td>11.932785</td>\n",
       "      <td>...</td>\n",
       "      <td>218544.140625</td>\n",
       "      <td>559473.0</td>\n",
       "      <td>750018.750000</td>\n",
       "      <td>1920048.0</td>\n",
       "      <td>750000.0</td>\n",
       "      <td>1920000.0</td>\n",
       "      <td>359.999404</td>\n",
       "      <td>-1.0</td>\n",
       "      <td>0.000611</td>\n",
       "      <td>0.0</td>\n",
       "    </tr>\n",
       "    <tr>\n",
       "      <th>2020-03-20 14:01:57</th>\n",
       "      <td>3/20/2020 2:01:57 PM</td>\n",
       "      <td>153.650137</td>\n",
       "      <td>17.267970</td>\n",
       "      <td>16.232315</td>\n",
       "      <td>15.419877</td>\n",
       "      <td>7.010572</td>\n",
       "      <td>8.037668</td>\n",
       "      <td>9.240342</td>\n",
       "      <td>9.320128</td>\n",
       "      <td>11.940111</td>\n",
       "      <td>...</td>\n",
       "      <td>218544.140625</td>\n",
       "      <td>559473.0</td>\n",
       "      <td>750018.750000</td>\n",
       "      <td>1920048.0</td>\n",
       "      <td>750000.0</td>\n",
       "      <td>1920000.0</td>\n",
       "      <td>359.999381</td>\n",
       "      <td>-1.0</td>\n",
       "      <td>0.000602</td>\n",
       "      <td>0.0</td>\n",
       "    </tr>\n",
       "    <tr>\n",
       "      <th>2020-03-20 14:02:57</th>\n",
       "      <td>3/20/2020 2:02:57 PM</td>\n",
       "      <td>153.650080</td>\n",
       "      <td>17.268025</td>\n",
       "      <td>16.235237</td>\n",
       "      <td>15.418819</td>\n",
       "      <td>7.006366</td>\n",
       "      <td>8.044146</td>\n",
       "      <td>9.291491</td>\n",
       "      <td>9.314922</td>\n",
       "      <td>11.948692</td>\n",
       "      <td>...</td>\n",
       "      <td>218544.140625</td>\n",
       "      <td>559473.0</td>\n",
       "      <td>750018.750000</td>\n",
       "      <td>1920048.0</td>\n",
       "      <td>750000.0</td>\n",
       "      <td>1920000.0</td>\n",
       "      <td>359.999375</td>\n",
       "      <td>-1.0</td>\n",
       "      <td>0.000607</td>\n",
       "      <td>0.0</td>\n",
       "    </tr>\n",
       "    <tr>\n",
       "      <th>2020-03-20 14:03:57</th>\n",
       "      <td>3/20/2020 2:03:57 PM</td>\n",
       "      <td>153.650080</td>\n",
       "      <td>17.268097</td>\n",
       "      <td>16.239101</td>\n",
       "      <td>15.422309</td>\n",
       "      <td>7.007540</td>\n",
       "      <td>8.051580</td>\n",
       "      <td>9.267062</td>\n",
       "      <td>9.318954</td>\n",
       "      <td>11.950573</td>\n",
       "      <td>...</td>\n",
       "      <td>218544.140625</td>\n",
       "      <td>559473.0</td>\n",
       "      <td>750018.750000</td>\n",
       "      <td>1920048.0</td>\n",
       "      <td>750000.0</td>\n",
       "      <td>1920000.0</td>\n",
       "      <td>359.999369</td>\n",
       "      <td>-1.0</td>\n",
       "      <td>0.000640</td>\n",
       "      <td>0.0</td>\n",
       "    </tr>\n",
       "  </tbody>\n",
       "</table>\n",
       "<p>5837 rows × 87 columns</p>\n",
       "</div>"
      ],
      "text/plain": [
       "                                      Time  Magnet Current [A]  \\\n",
       "Datetime                                                         \n",
       "2020-03-16 12:47:36  3/16/2020 12:47:36 PM          134.441157   \n",
       "2020-03-16 12:48:36  3/16/2020 12:48:36 PM          134.441100   \n",
       "2020-03-16 12:49:36  3/16/2020 12:49:36 PM          134.441100   \n",
       "2020-03-16 12:50:36  3/16/2020 12:50:36 PM          134.441157   \n",
       "2020-03-16 12:51:36  3/16/2020 12:51:36 PM          134.441100   \n",
       "2020-03-16 12:52:36  3/16/2020 12:52:36 PM          134.441043   \n",
       "2020-03-16 12:53:36  3/16/2020 12:53:36 PM          134.441157   \n",
       "2020-03-16 12:54:36  3/16/2020 12:54:36 PM          134.441100   \n",
       "2020-03-16 12:55:36  3/16/2020 12:55:36 PM          134.441100   \n",
       "2020-03-16 12:56:36  3/16/2020 12:56:36 PM          134.441100   \n",
       "2020-03-16 12:57:36  3/16/2020 12:57:36 PM          134.441157   \n",
       "2020-03-16 12:58:36  3/16/2020 12:58:36 PM          134.441100   \n",
       "2020-03-16 12:59:36  3/16/2020 12:59:36 PM          134.441100   \n",
       "2020-03-16 13:00:36   3/16/2020 1:00:36 PM          134.441213   \n",
       "2020-03-16 13:01:36   3/16/2020 1:01:36 PM          134.441100   \n",
       "2020-03-16 13:02:36   3/16/2020 1:02:36 PM          134.441157   \n",
       "2020-03-16 13:03:36   3/16/2020 1:03:36 PM          134.441213   \n",
       "2020-03-16 13:04:36   3/16/2020 1:04:36 PM          134.441270   \n",
       "2020-03-16 13:05:36   3/16/2020 1:05:36 PM          134.441157   \n",
       "2020-03-16 13:06:36   3/16/2020 1:06:36 PM          134.441157   \n",
       "2020-03-16 13:07:36   3/16/2020 1:07:36 PM          134.441157   \n",
       "2020-03-16 13:08:36   3/16/2020 1:08:36 PM          134.441383   \n",
       "2020-03-16 13:09:36   3/16/2020 1:09:36 PM          134.441213   \n",
       "2020-03-16 13:10:36   3/16/2020 1:10:36 PM          134.441440   \n",
       "2020-03-16 13:11:36   3/16/2020 1:11:36 PM          134.441270   \n",
       "2020-03-16 13:12:36   3/16/2020 1:12:36 PM          134.441440   \n",
       "2020-03-16 13:13:36   3/16/2020 1:13:36 PM          134.441383   \n",
       "2020-03-16 13:14:36   3/16/2020 1:14:36 PM          134.441383   \n",
       "2020-03-16 13:15:36   3/16/2020 1:15:36 PM          134.441383   \n",
       "2020-03-16 13:16:36   3/16/2020 1:16:36 PM          134.441440   \n",
       "...                                    ...                 ...   \n",
       "2020-03-20 13:34:57   3/20/2020 1:34:57 PM          153.650420   \n",
       "2020-03-20 13:35:57   3/20/2020 1:35:57 PM          153.650477   \n",
       "2020-03-20 13:36:57   3/20/2020 1:36:57 PM          153.650420   \n",
       "2020-03-20 13:37:57   3/20/2020 1:37:57 PM          153.650477   \n",
       "2020-03-20 13:38:57   3/20/2020 1:38:57 PM          153.650420   \n",
       "2020-03-20 13:39:57   3/20/2020 1:39:57 PM          153.650420   \n",
       "2020-03-20 13:40:57   3/20/2020 1:40:57 PM          153.650363   \n",
       "2020-03-20 13:41:57   3/20/2020 1:41:57 PM          153.650420   \n",
       "2020-03-20 13:42:57   3/20/2020 1:42:57 PM          153.650193   \n",
       "2020-03-20 13:43:57   3/20/2020 1:43:57 PM          153.650420   \n",
       "2020-03-20 13:44:58   3/20/2020 1:44:58 PM          153.650420   \n",
       "2020-03-20 13:45:57   3/20/2020 1:45:57 PM          153.650307   \n",
       "2020-03-20 13:46:57   3/20/2020 1:46:57 PM          153.650363   \n",
       "2020-03-20 13:47:57   3/20/2020 1:47:57 PM          153.650250   \n",
       "2020-03-20 13:48:57   3/20/2020 1:48:57 PM          153.650307   \n",
       "2020-03-20 13:49:57   3/20/2020 1:49:57 PM          153.650307   \n",
       "2020-03-20 13:50:57   3/20/2020 1:50:57 PM          153.650307   \n",
       "2020-03-20 13:51:57   3/20/2020 1:51:57 PM          153.650363   \n",
       "2020-03-20 13:52:57   3/20/2020 1:52:57 PM          153.650250   \n",
       "2020-03-20 13:53:57   3/20/2020 1:53:57 PM          153.650193   \n",
       "2020-03-20 13:54:57   3/20/2020 1:54:57 PM          153.650250   \n",
       "2020-03-20 13:55:57   3/20/2020 1:55:57 PM          153.650363   \n",
       "2020-03-20 13:56:57   3/20/2020 1:56:57 PM          153.650193   \n",
       "2020-03-20 13:57:57   3/20/2020 1:57:57 PM          153.650137   \n",
       "2020-03-20 13:58:57   3/20/2020 1:58:57 PM          153.650137   \n",
       "2020-03-20 13:59:58   3/20/2020 1:59:58 PM          153.650193   \n",
       "2020-03-20 14:00:57   3/20/2020 2:00:57 PM          153.650193   \n",
       "2020-03-20 14:01:57   3/20/2020 2:01:57 PM          153.650137   \n",
       "2020-03-20 14:02:57   3/20/2020 2:02:57 PM          153.650080   \n",
       "2020-03-20 14:03:57   3/20/2020 2:03:57 PM          153.650080   \n",
       "\n",
       "                     Magnet Voltage [V]  Coil 1 (new)  Coil 2 (old)  \\\n",
       "Datetime                                                              \n",
       "2020-03-16 12:47:36           15.859208     28.387400     26.179989   \n",
       "2020-03-16 12:48:36           15.780617     27.225664     25.079021   \n",
       "2020-03-16 12:49:36           15.709448     26.167240     24.079725   \n",
       "2020-03-16 12:50:36           15.644525     25.176294     23.161018   \n",
       "2020-03-16 12:51:36           15.584772     24.268948     22.325270   \n",
       "2020-03-16 12:52:36           15.530055     23.435341     21.562086   \n",
       "2020-03-16 12:53:36           15.479935     22.657187     20.848732   \n",
       "2020-03-16 12:54:36           15.433803     21.928802     20.201353   \n",
       "2020-03-16 12:55:36           15.391688     21.262161     19.601263   \n",
       "2020-03-16 12:56:36           15.352638     20.649195     19.045841   \n",
       "2020-03-16 12:57:36           15.316850     20.065617     18.543882   \n",
       "2020-03-16 12:58:36           15.284013     19.538628     18.079739   \n",
       "2020-03-16 12:59:36           15.253590     19.050692     17.646271   \n",
       "2020-03-16 13:00:36           15.225492     18.597195     17.249039   \n",
       "2020-03-16 13:01:36           15.199750     18.180500     16.883089   \n",
       "2020-03-16 13:02:36           15.176457     17.793291     16.547211   \n",
       "2020-03-16 13:03:36           15.155698     17.442959     16.241221   \n",
       "2020-03-16 13:04:36           15.137343     17.128450     15.975641   \n",
       "2020-03-16 13:05:36           15.121285     16.841026     15.743875   \n",
       "2020-03-16 13:06:36           15.106968     16.595644     15.534012   \n",
       "2020-03-16 13:07:36           15.094158     16.375155     15.348987   \n",
       "2020-03-16 13:08:36           15.082597     16.167683     15.184287   \n",
       "2020-03-16 13:09:36           15.072170     15.983232     15.034105   \n",
       "2020-03-16 13:10:36           15.062872     15.815343     14.897203   \n",
       "2020-03-16 13:11:36           15.054350     15.669997     14.776680   \n",
       "2020-03-16 13:12:36           15.046712     15.527050     14.665649   \n",
       "2020-03-16 13:13:36           15.039788     15.401169     14.565386   \n",
       "2020-03-16 13:14:36           15.033573     15.287079     14.477496   \n",
       "2020-03-16 13:15:36           15.028027     15.184208     14.391275   \n",
       "2020-03-16 13:16:36           15.022987     15.098322     14.318818   \n",
       "...                                 ...           ...           ...   \n",
       "2020-03-20 13:34:57           17.256897     16.052254     15.262821   \n",
       "2020-03-20 13:35:57           17.258008     16.068180     15.276450   \n",
       "2020-03-20 13:36:57           17.259037     16.082577     15.284137   \n",
       "2020-03-20 13:37:57           17.259858     16.098837     15.298099   \n",
       "2020-03-20 13:38:57           17.260633     16.112822     15.308944   \n",
       "2020-03-20 13:39:57           17.261378     16.126669     15.320984   \n",
       "2020-03-20 13:40:57           17.262078     16.133339     15.335926   \n",
       "2020-03-20 13:41:57           17.262743     16.144733     15.342849   \n",
       "2020-03-20 13:42:57           17.263380     16.157660     15.350830   \n",
       "2020-03-20 13:43:57           17.263822     16.161877     15.362008   \n",
       "2020-03-20 13:44:58           17.264227     16.169842     15.361282   \n",
       "2020-03-20 13:45:57           17.264578     16.180080     15.364420   \n",
       "2020-03-20 13:46:57           17.264943     16.185886     15.370597   \n",
       "2020-03-20 13:47:57           17.265343     16.188084     15.373538   \n",
       "2020-03-20 13:48:57           17.265687     16.188534     15.383264   \n",
       "2020-03-20 13:49:57           17.265980     16.201204     15.387442   \n",
       "2020-03-20 13:50:57           17.266263     16.205776     15.395148   \n",
       "2020-03-20 13:51:57           17.266613     16.213699     15.399188   \n",
       "2020-03-20 13:52:57           17.266887     16.222898     15.400248   \n",
       "2020-03-20 13:53:57           17.267053     16.211817     15.403993   \n",
       "2020-03-20 13:54:57           17.267227     16.222546     15.400522   \n",
       "2020-03-20 13:55:57           17.267332     16.225901     15.408935   \n",
       "2020-03-20 13:56:57           17.267452     16.214623     15.410622   \n",
       "2020-03-20 13:57:57           17.267643     16.221664     15.413524   \n",
       "2020-03-20 13:58:57           17.267798     16.233139     15.410072   \n",
       "2020-03-20 13:59:58           17.267900     16.232786     15.415171   \n",
       "2020-03-20 14:00:57           17.267950     16.231609     15.414994   \n",
       "2020-03-20 14:01:57           17.267970     16.232315     15.419877   \n",
       "2020-03-20 14:02:57           17.268025     16.235237     15.418819   \n",
       "2020-03-20 14:03:57           17.268097     16.239101     15.422309   \n",
       "\n",
       "                     LCW in Coil1  LCW out Coil 1  LCW in Coil 2  \\\n",
       "Datetime                                                           \n",
       "2020-03-16 12:47:36      8.293757       10.648998      11.858696   \n",
       "2020-03-16 12:48:36      8.168479       10.394962      11.648251   \n",
       "2020-03-16 12:49:36      8.021153       10.142981      11.410613   \n",
       "2020-03-16 12:50:36      7.906960        9.901084      11.160065   \n",
       "2020-03-16 12:51:36      7.739278        9.649689      10.975319   \n",
       "2020-03-16 12:52:36      7.603768        9.422918      10.771509   \n",
       "2020-03-16 12:53:36      7.456330        9.203210      10.582575   \n",
       "2020-03-16 12:54:36      7.340982        9.016262      10.372405   \n",
       "2020-03-16 12:55:36      7.217930        8.823941      10.224238   \n",
       "2020-03-16 12:56:36      7.113271        8.647094      10.020181   \n",
       "2020-03-16 12:57:36      7.005251        8.486361       9.867291   \n",
       "2020-03-16 12:58:36      6.883992        8.309080       9.737100   \n",
       "2020-03-16 12:59:36      6.795734        8.177853       9.588160   \n",
       "2020-03-16 13:00:36      6.656527        8.003915       9.474657   \n",
       "2020-03-16 13:01:36      6.634073        7.934021       9.386997   \n",
       "2020-03-16 13:02:36      6.652165        7.889918       9.339802   \n",
       "2020-03-16 13:03:36      6.738541        7.928914       9.315763   \n",
       "2020-03-16 13:04:36      6.782023        7.923318       9.336728   \n",
       "2020-03-16 13:05:36      6.858445        7.952668       9.246176   \n",
       "2020-03-16 13:06:36      6.887141        7.945507       9.303314   \n",
       "2020-03-16 13:07:36      6.896843        7.938952       9.207458   \n",
       "2020-03-16 13:08:36      6.890349        7.923533       9.229342   \n",
       "2020-03-16 13:09:36      6.873409        7.880898       9.188901   \n",
       "2020-03-16 13:10:36      6.901968        7.894007       9.220102   \n",
       "2020-03-16 13:11:36      6.885341        7.852780       9.207653   \n",
       "2020-03-16 13:12:36      6.907954        7.853759       9.148129   \n",
       "2020-03-16 13:13:36      6.894535        7.813198       9.154783   \n",
       "2020-03-16 13:14:36      6.891249        7.797584       9.156310   \n",
       "2020-03-16 13:15:36      6.891542        7.792458       9.091248   \n",
       "2020-03-16 13:16:36      6.885009        7.790442       9.126225   \n",
       "...                           ...             ...            ...   \n",
       "2020-03-20 13:34:57      7.014191        8.016711       9.209591   \n",
       "2020-03-20 13:35:57      7.005525        8.025438       9.237915   \n",
       "2020-03-20 13:36:57      7.018377        8.028687       9.231260   \n",
       "2020-03-20 13:37:57      7.002161        8.008493       9.213859   \n",
       "2020-03-20 13:38:57      7.006405        8.031661       9.225858   \n",
       "2020-03-20 13:39:57      7.018279        8.034987       9.280568   \n",
       "2020-03-20 13:40:57      7.010220        8.030604       9.259330   \n",
       "2020-03-20 13:41:57      7.033126        8.054105       9.216619   \n",
       "2020-03-20 13:42:57      7.007638        8.044047       9.279766   \n",
       "2020-03-20 13:43:57      7.013662        8.031564       9.233531   \n",
       "2020-03-20 13:44:58      7.007950        8.023110       9.239795   \n",
       "2020-03-20 13:45:57      6.993945        8.032346       9.266278   \n",
       "2020-03-20 13:46:57      7.013428        8.044027       9.160950   \n",
       "2020-03-20 13:47:57      7.027042        8.037590       9.237132   \n",
       "2020-03-20 13:48:57      7.022700        8.032444       9.219280   \n",
       "2020-03-20 13:49:57      7.020881        8.050153       9.222138   \n",
       "2020-03-20 13:50:57      7.006209        8.047022       9.292020   \n",
       "2020-03-20 13:51:57      7.030642        8.062186       9.264459   \n",
       "2020-03-20 13:52:57      7.001182        8.040193       9.269235   \n",
       "2020-03-20 13:53:57      7.004860        8.034636       9.208436   \n",
       "2020-03-20 13:54:57      7.018964        8.047902       9.192620   \n",
       "2020-03-20 13:55:57      7.013193        8.043089       9.218322   \n",
       "2020-03-20 13:56:57      7.014836        8.036357       9.238581   \n",
       "2020-03-20 13:57:57      7.029820        8.059291       9.229616   \n",
       "2020-03-20 13:58:57      7.005036        8.043363       9.288183   \n",
       "2020-03-20 13:59:58      7.015912        8.052696       9.237621   \n",
       "2020-03-20 14:00:57      7.005466        8.028433       9.279531   \n",
       "2020-03-20 14:01:57      7.010572        8.037668       9.240342   \n",
       "2020-03-20 14:02:57      7.006366        8.044146       9.291491   \n",
       "2020-03-20 14:03:57      7.007540        8.051580       9.267062   \n",
       "\n",
       "                     LCW out Coil 2       Yoke              ...                \\\n",
       "Datetime                                                    ...                 \n",
       "2020-03-16 12:47:36       13.748177  12.816629              ...                 \n",
       "2020-03-16 12:48:36       13.313659  12.838418              ...                 \n",
       "2020-03-16 12:49:36       12.888368  12.856504              ...                 \n",
       "2020-03-16 12:50:36       12.497712  12.877237              ...                 \n",
       "2020-03-16 12:51:36       12.115722  12.898733              ...                 \n",
       "2020-03-16 12:52:36       11.757145  12.913254              ...                 \n",
       "2020-03-16 12:53:36       11.438446  12.921229              ...                 \n",
       "2020-03-16 12:54:36       11.129884  12.936690              ...                 \n",
       "2020-03-16 12:55:36       10.845789  12.942922              ...                 \n",
       "2020-03-16 12:56:36       10.592443  12.950564              ...                 \n",
       "2020-03-16 12:57:36       10.345148  12.957912              ...                 \n",
       "2020-03-16 12:58:36       10.090548  12.964968              ...                 \n",
       "2020-03-16 12:59:36        9.903883  12.967378              ...                 \n",
       "2020-03-16 13:00:36        9.686376  12.970944              ...                 \n",
       "2020-03-16 13:01:36        9.538396  12.970944              ...                 \n",
       "2020-03-16 13:02:36        9.424367  12.970787              ...                 \n",
       "2020-03-16 13:03:36        9.377934  12.970200              ...                 \n",
       "2020-03-16 13:04:36        9.326667  12.969377              ...                 \n",
       "2020-03-16 13:05:36        9.314472  12.970121              ...                 \n",
       "2020-03-16 13:06:36        9.256883  12.969004              ...                 \n",
       "2020-03-16 13:07:36        9.234138  12.969102              ...                 \n",
       "2020-03-16 13:08:36        9.191818  12.962499              ...                 \n",
       "2020-03-16 13:09:36        9.101641  12.961303              ...                 \n",
       "2020-03-16 13:10:36        9.081108  12.960401              ...                 \n",
       "2020-03-16 13:11:36        9.044114  12.955738              ...                 \n",
       "2020-03-16 13:12:36        9.026753  12.956012              ...                 \n",
       "2020-03-16 13:13:36        8.961614  12.953582              ...                 \n",
       "2020-03-16 13:14:36        8.923076  12.949760              ...                 \n",
       "2020-03-16 13:15:36        8.906243  12.948840              ...                 \n",
       "2020-03-16 13:16:36        8.881425  12.945195              ...                 \n",
       "...                             ...        ...              ...                 \n",
       "2020-03-20 13:34:57        9.276340  11.722805              ...                 \n",
       "2020-03-20 13:35:57        9.271877  11.732208              ...                 \n",
       "2020-03-20 13:36:57        9.290473  11.745764              ...                 \n",
       "2020-03-20 13:37:57        9.289162  11.748565              ...                 \n",
       "2020-03-20 13:38:57        9.296952  11.758693              ...                 \n",
       "2020-03-20 13:39:57        9.296346  11.765372              ...                 \n",
       "2020-03-20 13:40:57        9.309793  11.771994              ...                 \n",
       "2020-03-20 13:41:57        9.332813  11.780416              ...                 \n",
       "2020-03-20 13:42:57        9.318172  11.789526              ...                 \n",
       "2020-03-20 13:43:57        9.320833  11.799183              ...                 \n",
       "2020-03-20 13:44:58        9.307209  11.808194              ...                 \n",
       "2020-03-20 13:45:57        9.297402  11.818283              ...                 \n",
       "2020-03-20 13:46:57        9.341074  11.820868              ...                 \n",
       "2020-03-20 13:47:57        9.323848  11.829605              ...                 \n",
       "2020-03-20 13:48:57        9.331893  11.840654              ...                 \n",
       "2020-03-20 13:49:57        9.339136  11.848685              ...                 \n",
       "2020-03-20 13:50:57        9.311320  11.857736              ...                 \n",
       "2020-03-20 13:51:57        9.328800  11.867335              ...                 \n",
       "2020-03-20 13:52:57        9.316546  11.876425              ...                 \n",
       "2020-03-20 13:53:57        9.317858  11.880989              ...                 \n",
       "2020-03-20 13:54:57        9.335378  11.884809              ...                 \n",
       "2020-03-20 13:55:57        9.322869  11.895741              ...                 \n",
       "2020-03-20 13:56:57        9.315685  11.900187              ...                 \n",
       "2020-03-20 13:57:57        9.337942  11.914252              ...                 \n",
       "2020-03-20 13:58:57        9.310714  11.924518              ...                 \n",
       "2020-03-20 13:59:58        9.338333  11.930238              ...                 \n",
       "2020-03-20 14:00:57        9.300573  11.932785              ...                 \n",
       "2020-03-20 14:01:57        9.320128  11.940111              ...                 \n",
       "2020-03-20 14:02:57        9.314922  11.948692              ...                 \n",
       "2020-03-20 14:03:57        9.318954  11.950573              ...                 \n",
       "\n",
       "                     Zaber_Meas_MicroStep_X  Zaber_Meas_Encoder_X  \\\n",
       "Datetime                                                            \n",
       "2020-03-16 12:47:36           218544.140625              559473.0   \n",
       "2020-03-16 12:48:36           218544.140625              559473.0   \n",
       "2020-03-16 12:49:36           218544.140625              559473.0   \n",
       "2020-03-16 12:50:36           218544.140625              559473.0   \n",
       "2020-03-16 12:51:36           218544.140625              559473.0   \n",
       "2020-03-16 12:52:36           218544.140625              559473.0   \n",
       "2020-03-16 12:53:36           218544.140625              559473.0   \n",
       "2020-03-16 12:54:36           218544.140625              559473.0   \n",
       "2020-03-16 12:55:36           218544.140625              559473.0   \n",
       "2020-03-16 12:56:36           218544.140625              559473.0   \n",
       "2020-03-16 12:57:36           218544.140625              559473.0   \n",
       "2020-03-16 12:58:36           218544.140625              559473.0   \n",
       "2020-03-16 12:59:36           218544.140625              559473.0   \n",
       "2020-03-16 13:00:36           218544.140625              559473.0   \n",
       "2020-03-16 13:01:36           218544.140625              559473.0   \n",
       "2020-03-16 13:02:36           218544.140625              559473.0   \n",
       "2020-03-16 13:03:36           218544.140625              559473.0   \n",
       "2020-03-16 13:04:36           218544.140625              559473.0   \n",
       "2020-03-16 13:05:36           218544.140625              559473.0   \n",
       "2020-03-16 13:06:36           218544.140625              559473.0   \n",
       "2020-03-16 13:07:36           218544.140625              559473.0   \n",
       "2020-03-16 13:08:36           218544.140625              559473.0   \n",
       "2020-03-16 13:09:36           218544.140625              559473.0   \n",
       "2020-03-16 13:10:36           218544.140625              559473.0   \n",
       "2020-03-16 13:11:36           218544.140625              559473.0   \n",
       "2020-03-16 13:12:36           218544.140625              559473.0   \n",
       "2020-03-16 13:13:36           218544.140625              559473.0   \n",
       "2020-03-16 13:14:36           218544.140625              559473.0   \n",
       "2020-03-16 13:15:36           218544.140625              559473.0   \n",
       "2020-03-16 13:16:36           218544.140625              559473.0   \n",
       "...                                     ...                   ...   \n",
       "2020-03-20 13:34:57           218544.140625              559473.0   \n",
       "2020-03-20 13:35:57           218544.140625              559473.0   \n",
       "2020-03-20 13:36:57           218544.140625              559473.0   \n",
       "2020-03-20 13:37:57           218544.140625              559473.0   \n",
       "2020-03-20 13:38:57           218544.140625              559473.0   \n",
       "2020-03-20 13:39:57           218544.140625              559473.0   \n",
       "2020-03-20 13:40:57           218544.140625              559473.0   \n",
       "2020-03-20 13:41:57           218544.140625              559473.0   \n",
       "2020-03-20 13:42:57           218544.140625              559473.0   \n",
       "2020-03-20 13:43:57           218544.140625              559473.0   \n",
       "2020-03-20 13:44:58           218544.140625              559473.0   \n",
       "2020-03-20 13:45:57           218544.140625              559473.0   \n",
       "2020-03-20 13:46:57           218544.140625              559473.0   \n",
       "2020-03-20 13:47:57           218544.140625              559473.0   \n",
       "2020-03-20 13:48:57           218544.140625              559473.0   \n",
       "2020-03-20 13:49:57           218544.140625              559473.0   \n",
       "2020-03-20 13:50:57           218544.140625              559473.0   \n",
       "2020-03-20 13:51:57           218544.140625              559473.0   \n",
       "2020-03-20 13:52:57           218544.140625              559473.0   \n",
       "2020-03-20 13:53:57           218544.140625              559473.0   \n",
       "2020-03-20 13:54:57           218544.140625              559473.0   \n",
       "2020-03-20 13:55:57           218544.140625              559473.0   \n",
       "2020-03-20 13:56:57           218544.140625              559473.0   \n",
       "2020-03-20 13:57:57           218544.140625              559473.0   \n",
       "2020-03-20 13:58:57           218544.140625              559473.0   \n",
       "2020-03-20 13:59:58           218544.140625              559473.0   \n",
       "2020-03-20 14:00:57           218544.140625              559473.0   \n",
       "2020-03-20 14:01:57           218544.140625              559473.0   \n",
       "2020-03-20 14:02:57           218544.140625              559473.0   \n",
       "2020-03-20 14:03:57           218544.140625              559473.0   \n",
       "\n",
       "                     Zaber_Meas_MicroStep_Y  Zaber_Meas_Encoder_Y  \\\n",
       "Datetime                                                            \n",
       "2020-03-16 12:47:36           489383.203125             1252809.0   \n",
       "2020-03-16 12:48:36           503386.718750             1288659.0   \n",
       "2020-03-16 12:49:36           517347.265625             1324398.0   \n",
       "2020-03-16 12:50:36           531308.593750             1360140.0   \n",
       "2020-03-16 12:51:36           545271.093750             1395884.0   \n",
       "2020-03-16 12:52:36           559234.375000             1431630.0   \n",
       "2020-03-16 12:53:36           573195.312500             1467370.0   \n",
       "2020-03-16 12:54:36           587159.375000             1503117.0   \n",
       "2020-03-16 12:55:36           601120.312500             1538857.0   \n",
       "2020-03-16 12:56:36           615081.640625             1574598.0   \n",
       "2020-03-16 12:57:36           629046.484375             1610349.0   \n",
       "2020-03-16 12:58:36           643008.203125             1646090.0   \n",
       "2020-03-16 12:59:36           656968.359375             1681829.0   \n",
       "2020-03-16 13:00:36           670933.984375             1717579.0   \n",
       "2020-03-16 13:01:36           684894.140625             1753319.0   \n",
       "2020-03-16 13:02:36           698859.375000             1789069.0   \n",
       "2020-03-16 13:03:36           712820.703125             1824811.0   \n",
       "2020-03-16 13:04:36           726783.203125             1860554.0   \n",
       "2020-03-16 13:05:36           740742.968750             1896292.0   \n",
       "2020-03-16 13:06:36           750018.750000             1920048.0   \n",
       "2020-03-16 13:07:36           750018.750000             1920048.0   \n",
       "2020-03-16 13:08:36           750018.750000             1920048.0   \n",
       "2020-03-16 13:09:36           750018.750000             1920048.0   \n",
       "2020-03-16 13:10:36           750018.750000             1920048.0   \n",
       "2020-03-16 13:11:36           750018.750000             1920048.0   \n",
       "2020-03-16 13:12:36           750018.750000             1920048.0   \n",
       "2020-03-16 13:13:36           750018.750000             1920048.0   \n",
       "2020-03-16 13:14:36           750018.750000             1920048.0   \n",
       "2020-03-16 13:15:36           750018.750000             1920048.0   \n",
       "2020-03-16 13:16:36           750018.750000             1920048.0   \n",
       "...                                     ...                   ...   \n",
       "2020-03-20 13:34:57           750018.750000             1920048.0   \n",
       "2020-03-20 13:35:57           750018.750000             1920048.0   \n",
       "2020-03-20 13:36:57           750018.750000             1920048.0   \n",
       "2020-03-20 13:37:57           750018.750000             1920048.0   \n",
       "2020-03-20 13:38:57           750018.750000             1920048.0   \n",
       "2020-03-20 13:39:57           750018.750000             1920048.0   \n",
       "2020-03-20 13:40:57           750018.750000             1920048.0   \n",
       "2020-03-20 13:41:57           750018.750000             1920048.0   \n",
       "2020-03-20 13:42:57           750018.750000             1920048.0   \n",
       "2020-03-20 13:43:57           750018.750000             1920048.0   \n",
       "2020-03-20 13:44:58           750018.750000             1920048.0   \n",
       "2020-03-20 13:45:57           750018.750000             1920048.0   \n",
       "2020-03-20 13:46:57           750018.750000             1920048.0   \n",
       "2020-03-20 13:47:57           750018.750000             1920048.0   \n",
       "2020-03-20 13:48:57           750018.750000             1920048.0   \n",
       "2020-03-20 13:49:57           750018.750000             1920048.0   \n",
       "2020-03-20 13:50:57           750018.750000             1920048.0   \n",
       "2020-03-20 13:51:57           750018.750000             1920048.0   \n",
       "2020-03-20 13:52:57           750018.750000             1920048.0   \n",
       "2020-03-20 13:53:57           750018.750000             1920048.0   \n",
       "2020-03-20 13:54:57           750018.750000             1920048.0   \n",
       "2020-03-20 13:55:57           750018.750000             1920048.0   \n",
       "2020-03-20 13:56:57           750018.750000             1920048.0   \n",
       "2020-03-20 13:57:57           750018.750000             1920048.0   \n",
       "2020-03-20 13:58:57           750018.750000             1920048.0   \n",
       "2020-03-20 13:59:58           750018.750000             1920048.0   \n",
       "2020-03-20 14:00:57           750018.750000             1920048.0   \n",
       "2020-03-20 14:01:57           750018.750000             1920048.0   \n",
       "2020-03-20 14:02:57           750018.750000             1920048.0   \n",
       "2020-03-20 14:03:57           750018.750000             1920048.0   \n",
       "\n",
       "                     Zaber_Meas_MicroStep_Z  Zaber_Meas_Encoder_Z  \\\n",
       "Datetime                                                            \n",
       "2020-03-16 12:47:36                750000.0             1920000.0   \n",
       "2020-03-16 12:48:36                750000.0             1920000.0   \n",
       "2020-03-16 12:49:36                750000.0             1920000.0   \n",
       "2020-03-16 12:50:36                750000.0             1920000.0   \n",
       "2020-03-16 12:51:36                750000.0             1920000.0   \n",
       "2020-03-16 12:52:36                750000.0             1920000.0   \n",
       "2020-03-16 12:53:36                750000.0             1920000.0   \n",
       "2020-03-16 12:54:36                750000.0             1920000.0   \n",
       "2020-03-16 12:55:36                750000.0             1920000.0   \n",
       "2020-03-16 12:56:36                750000.0             1920000.0   \n",
       "2020-03-16 12:57:36                750000.0             1920000.0   \n",
       "2020-03-16 12:58:36                750000.0             1920000.0   \n",
       "2020-03-16 12:59:36                750000.0             1920000.0   \n",
       "2020-03-16 13:00:36                750000.0             1920000.0   \n",
       "2020-03-16 13:01:36                750000.0             1920000.0   \n",
       "2020-03-16 13:02:36                750000.0             1920000.0   \n",
       "2020-03-16 13:03:36                750000.0             1920000.0   \n",
       "2020-03-16 13:04:36                750000.0             1920000.0   \n",
       "2020-03-16 13:05:36                750000.0             1920000.0   \n",
       "2020-03-16 13:06:36                750000.0             1920000.0   \n",
       "2020-03-16 13:07:36                750000.0             1920000.0   \n",
       "2020-03-16 13:08:36                750000.0             1920000.0   \n",
       "2020-03-16 13:09:36                750000.0             1920000.0   \n",
       "2020-03-16 13:10:36                750000.0             1920000.0   \n",
       "2020-03-16 13:11:36                750000.0             1920000.0   \n",
       "2020-03-16 13:12:36                750000.0             1920000.0   \n",
       "2020-03-16 13:13:36                750000.0             1920000.0   \n",
       "2020-03-16 13:14:36                750000.0             1920000.0   \n",
       "2020-03-16 13:15:36                750000.0             1920000.0   \n",
       "2020-03-16 13:16:36                750000.0             1920000.0   \n",
       "...                                     ...                   ...   \n",
       "2020-03-20 13:34:57                750000.0             1920000.0   \n",
       "2020-03-20 13:35:57                750000.0             1920000.0   \n",
       "2020-03-20 13:36:57                750000.0             1920000.0   \n",
       "2020-03-20 13:37:57                750000.0             1920000.0   \n",
       "2020-03-20 13:38:57                750000.0             1920000.0   \n",
       "2020-03-20 13:39:57                750000.0             1920000.0   \n",
       "2020-03-20 13:40:57                750000.0             1920000.0   \n",
       "2020-03-20 13:41:57                750000.0             1920000.0   \n",
       "2020-03-20 13:42:57                750000.0             1920000.0   \n",
       "2020-03-20 13:43:57                750000.0             1920000.0   \n",
       "2020-03-20 13:44:58                750000.0             1920000.0   \n",
       "2020-03-20 13:45:57                750000.0             1920000.0   \n",
       "2020-03-20 13:46:57                750000.0             1920000.0   \n",
       "2020-03-20 13:47:57                750000.0             1920000.0   \n",
       "2020-03-20 13:48:57                750000.0             1920000.0   \n",
       "2020-03-20 13:49:57                750000.0             1920000.0   \n",
       "2020-03-20 13:50:57                750000.0             1920000.0   \n",
       "2020-03-20 13:51:57                750000.0             1920000.0   \n",
       "2020-03-20 13:52:57                750000.0             1920000.0   \n",
       "2020-03-20 13:53:57                750000.0             1920000.0   \n",
       "2020-03-20 13:54:57                750000.0             1920000.0   \n",
       "2020-03-20 13:55:57                750000.0             1920000.0   \n",
       "2020-03-20 13:56:57                750000.0             1920000.0   \n",
       "2020-03-20 13:57:57                750000.0             1920000.0   \n",
       "2020-03-20 13:58:57                750000.0             1920000.0   \n",
       "2020-03-20 13:59:58                750000.0             1920000.0   \n",
       "2020-03-20 14:00:57                750000.0             1920000.0   \n",
       "2020-03-20 14:01:57                750000.0             1920000.0   \n",
       "2020-03-20 14:02:57                750000.0             1920000.0   \n",
       "2020-03-20 14:03:57                750000.0             1920000.0   \n",
       "\n",
       "                     SmarAct_Meas_Angle_1  SmarAct_Meas_Rotation_Angle_1  \\\n",
       "Datetime                                                                   \n",
       "2020-03-16 12:47:36            359.999486                           -1.0   \n",
       "2020-03-16 12:48:36            359.999461                           -1.0   \n",
       "2020-03-16 12:49:36            359.999468                           -1.0   \n",
       "2020-03-16 12:50:36            359.999511                           -1.0   \n",
       "2020-03-16 12:51:36            359.999511                           -1.0   \n",
       "2020-03-16 12:52:36            359.999490                           -1.0   \n",
       "2020-03-16 12:53:36            359.999464                           -1.0   \n",
       "2020-03-16 12:54:36            359.999482                           -1.0   \n",
       "2020-03-16 12:55:36            359.999477                           -1.0   \n",
       "2020-03-16 12:56:36            359.999470                           -1.0   \n",
       "2020-03-16 12:57:36            359.999457                           -1.0   \n",
       "2020-03-16 12:58:36            359.999451                           -1.0   \n",
       "2020-03-16 12:59:36            359.999444                           -1.0   \n",
       "2020-03-16 13:00:36            359.999425                           -1.0   \n",
       "2020-03-16 13:01:36            359.999484                           -1.0   \n",
       "2020-03-16 13:02:36            359.999463                           -1.0   \n",
       "2020-03-16 13:03:36            359.999431                           -1.0   \n",
       "2020-03-16 13:04:36            359.999423                           -1.0   \n",
       "2020-03-16 13:05:36            359.999435                           -1.0   \n",
       "2020-03-16 13:06:36            359.999476                           -1.0   \n",
       "2020-03-16 13:07:36            359.999418                           -1.0   \n",
       "2020-03-16 13:08:36            359.999416                           -1.0   \n",
       "2020-03-16 13:09:36            359.999410                           -1.0   \n",
       "2020-03-16 13:10:36            359.999410                           -1.0   \n",
       "2020-03-16 13:11:36            359.999410                           -1.0   \n",
       "2020-03-16 13:12:36            359.999407                           -1.0   \n",
       "2020-03-16 13:13:36            359.999441                           -1.0   \n",
       "2020-03-16 13:14:36            359.999444                           -1.0   \n",
       "2020-03-16 13:15:36            359.999430                           -1.0   \n",
       "2020-03-16 13:16:36            359.999400                           -1.0   \n",
       "...                                   ...                            ...   \n",
       "2020-03-20 13:34:57            359.999426                           -1.0   \n",
       "2020-03-20 13:35:57            359.999422                           -1.0   \n",
       "2020-03-20 13:36:57            359.999393                           -1.0   \n",
       "2020-03-20 13:37:57            359.999372                           -1.0   \n",
       "2020-03-20 13:38:57            359.999393                           -1.0   \n",
       "2020-03-20 13:39:57            359.999396                           -1.0   \n",
       "2020-03-20 13:40:57            359.999458                           -1.0   \n",
       "2020-03-20 13:41:57            359.999433                           -1.0   \n",
       "2020-03-20 13:42:57            359.999406                           -1.0   \n",
       "2020-03-20 13:43:57            359.999425                           -1.0   \n",
       "2020-03-20 13:44:58            359.999416                           -1.0   \n",
       "2020-03-20 13:45:57            359.999416                           -1.0   \n",
       "2020-03-20 13:46:57            359.999370                           -1.0   \n",
       "2020-03-20 13:47:57            359.999440                           -1.0   \n",
       "2020-03-20 13:48:57            359.999370                           -1.0   \n",
       "2020-03-20 13:49:57            359.999404                           -1.0   \n",
       "2020-03-20 13:50:57            359.999376                           -1.0   \n",
       "2020-03-20 13:51:57            359.999392                           -1.0   \n",
       "2020-03-20 13:52:57            359.999399                           -1.0   \n",
       "2020-03-20 13:53:57            359.999378                           -1.0   \n",
       "2020-03-20 13:54:57            359.999398                           -1.0   \n",
       "2020-03-20 13:55:57            359.999379                           -1.0   \n",
       "2020-03-20 13:56:57            359.999391                           -1.0   \n",
       "2020-03-20 13:57:57            359.999395                           -1.0   \n",
       "2020-03-20 13:58:57            359.999402                           -1.0   \n",
       "2020-03-20 13:59:58            359.999347                           -1.0   \n",
       "2020-03-20 14:00:57            359.999404                           -1.0   \n",
       "2020-03-20 14:01:57            359.999381                           -1.0   \n",
       "2020-03-20 14:02:57            359.999375                           -1.0   \n",
       "2020-03-20 14:03:57            359.999369                           -1.0   \n",
       "\n",
       "                     SmarAct_Meas_Angle_2  SmarAct_Meas_Rotation_Angle_2  \n",
       "Datetime                                                                  \n",
       "2020-03-16 12:47:36              0.000030                            0.0  \n",
       "2020-03-16 12:48:36              0.000045                            0.0  \n",
       "2020-03-16 12:49:36              0.000051                            0.0  \n",
       "2020-03-16 12:50:36              0.000045                            0.0  \n",
       "2020-03-16 12:51:36              0.000055                            0.0  \n",
       "2020-03-16 12:52:36              0.000057                            0.0  \n",
       "2020-03-16 12:53:36              0.000051                            0.0  \n",
       "2020-03-16 12:54:36              0.000059                            0.0  \n",
       "2020-03-16 12:55:36              0.000061                            0.0  \n",
       "2020-03-16 12:56:36              0.000070                            0.0  \n",
       "2020-03-16 12:57:36              0.000074                            0.0  \n",
       "2020-03-16 12:58:36              0.000070                            0.0  \n",
       "2020-03-16 12:59:36              0.000080                            0.0  \n",
       "2020-03-16 13:00:36              0.000089                            0.0  \n",
       "2020-03-16 13:01:36              0.000059                            0.0  \n",
       "2020-03-16 13:02:36              0.000082                            0.0  \n",
       "2020-03-16 13:03:36              0.000074                            0.0  \n",
       "2020-03-16 13:04:36              0.000082                            0.0  \n",
       "2020-03-16 13:05:36              0.000082                            0.0  \n",
       "2020-03-16 13:06:36              0.000074                            0.0  \n",
       "2020-03-16 13:07:36              0.000082                            0.0  \n",
       "2020-03-16 13:08:36              0.000074                            0.0  \n",
       "2020-03-16 13:09:36              0.000097                            0.0  \n",
       "2020-03-16 13:10:36              0.000093                            0.0  \n",
       "2020-03-16 13:11:36              0.000080                            0.0  \n",
       "2020-03-16 13:12:36              0.000091                            0.0  \n",
       "2020-03-16 13:13:36              0.000065                            0.0  \n",
       "2020-03-16 13:14:36              0.000065                            0.0  \n",
       "2020-03-16 13:15:36              0.000065                            0.0  \n",
       "2020-03-16 13:16:36              0.000110                            0.0  \n",
       "...                                   ...                            ...  \n",
       "2020-03-20 13:34:57              0.000641                            0.0  \n",
       "2020-03-20 13:35:57              0.000615                            0.0  \n",
       "2020-03-20 13:36:57              0.000633                            0.0  \n",
       "2020-03-20 13:37:57              0.000633                            0.0  \n",
       "2020-03-20 13:38:57              0.000613                            0.0  \n",
       "2020-03-20 13:39:57              0.000624                            0.0  \n",
       "2020-03-20 13:40:57              0.000598                            0.0  \n",
       "2020-03-20 13:41:57              0.000607                            0.0  \n",
       "2020-03-20 13:42:57              0.000619                            0.0  \n",
       "2020-03-20 13:43:57              0.000630                            0.0  \n",
       "2020-03-20 13:44:58              0.000592                            0.0  \n",
       "2020-03-20 13:45:57              0.000622                            0.0  \n",
       "2020-03-20 13:46:57              0.000632                            0.0  \n",
       "2020-03-20 13:47:57              0.000598                            0.0  \n",
       "2020-03-20 13:48:57              0.000638                            0.0  \n",
       "2020-03-20 13:49:57              0.000622                            0.0  \n",
       "2020-03-20 13:50:57              0.000609                            0.0  \n",
       "2020-03-20 13:51:57              0.000632                            0.0  \n",
       "2020-03-20 13:52:57              0.000597                            0.0  \n",
       "2020-03-20 13:53:57              0.000632                            0.0  \n",
       "2020-03-20 13:54:57              0.000598                            0.0  \n",
       "2020-03-20 13:55:57              0.000618                            0.0  \n",
       "2020-03-20 13:56:57              0.000598                            0.0  \n",
       "2020-03-20 13:57:57              0.000611                            0.0  \n",
       "2020-03-20 13:58:57              0.000601                            0.0  \n",
       "2020-03-20 13:59:58              0.000613                            0.0  \n",
       "2020-03-20 14:00:57              0.000611                            0.0  \n",
       "2020-03-20 14:01:57              0.000602                            0.0  \n",
       "2020-03-20 14:02:57              0.000607                            0.0  \n",
       "2020-03-20 14:03:57              0.000640                            0.0  \n",
       "\n",
       "[5837 rows x 87 columns]"
      ]
     },
     "execution_count": 73,
     "metadata": {},
     "output_type": "execute_result"
    }
   ],
   "source": [
    "df"
   ]
  },
  {
   "cell_type": "code",
   "execution_count": 74,
   "metadata": {},
   "outputs": [],
   "source": [
    "fig = scatter2d(df.index, df[\"NMR [T]\"], inline=False)"
   ]
  },
  {
   "cell_type": "code",
   "execution_count": null,
   "metadata": {},
   "outputs": [],
   "source": [
    "probes = np.array([])\n",
    "for col in df.columns:\n",
    "    #print(df_fast[col].dtype)\n",
    "    if (\"Raw\" in col) or (\"Cal\" in col):#type(df[col].iloc[0]) is np.float64:\n",
    "        #print(f\"{col}\")#\": mean: {df[col].mean()}\")\n",
    "        probes = np.append(probes, col[:16])\n",
    "probes = list(np.unique(probes))\n",
    "#print(probes)"
   ]
  },
  {
   "cell_type": "code",
   "execution_count": null,
   "metadata": {},
   "outputs": [
    {
     "name": "stdout",
     "output_type": "stream",
     "text": [
      "['6A0000000D61333A', 'C50000000D5E473A', 'C90000000D53983A', 'DF0000000D5E803A']\n"
     ]
    }
   ],
   "source": [
    "print(probes)"
   ]
  },
  {
   "cell_type": "code",
   "execution_count": null,
   "metadata": {},
   "outputs": [],
   "source": [
    "probe = probes[0]"
   ]
  },
  {
   "cell_type": "code",
   "execution_count": null,
   "metadata": {},
   "outputs": [
    {
     "data": {
      "text/plain": [
       "'6A0000000D61333A'"
      ]
     },
     "execution_count": 78,
     "metadata": {},
     "output_type": "execute_result"
    }
   ],
   "source": [
    "probe"
   ]
  },
  {
   "cell_type": "code",
   "execution_count": null,
   "metadata": {
    "scrolled": true
   },
   "outputs": [
    {
     "name": "stdout",
     "output_type": "stream",
     "text": [
      "DF0000000D5E803A_Cal_X: mean: 1.5559838101764605e-05\n",
      "DF0000000D5E803A_Cal_Y: mean: 3.5233754668494084e-05\n",
      "DF0000000D5E803A_Cal_Z: mean: 4.9251535206441665e-05\n",
      "C90000000D53983A_Cal_X: mean: 0.00018054954017474728\n",
      "C90000000D53983A_Cal_Y: mean: -0.00020825022905602195\n",
      "C90000000D53983A_Cal_Z: mean: 0.00019630378824738733\n",
      "C50000000D5E473A_Cal_X: mean: 3.56257049854377e-06\n",
      "C50000000D5E473A_Cal_Y: mean: -2.602036748329622e-05\n",
      "C50000000D5E473A_Cal_Z: mean: 7.9175539146822e-05\n",
      "6A0000000D61333A_Cal_X: mean: 0.10666192321295184\n",
      "6A0000000D61333A_Cal_Y: mean: 0.000993835082576666\n",
      "6A0000000D61333A_Cal_Z: mean: -0.001976583148363886\n",
      "DF0000000D5E803A_Cal_T: mean: 16.27317440465993\n",
      "C90000000D53983A_Cal_T: mean: 15.580569984581123\n",
      "C50000000D5E473A_Cal_T: mean: 16.012105019701902\n",
      "6A0000000D61333A_Cal_T: mean: 14.036510878876134\n"
     ]
    }
   ],
   "source": [
    "for col in df.columns:\n",
    "    if type(df[col].iloc[0]) is np.float64 and \"Cal_\" in col:\n",
    "        print(f\"{col}: mean: {df[col].mean()}\")"
   ]
  },
  {
   "cell_type": "markdown",
   "metadata": {},
   "source": [
    "- Looks like maybe probe \"6A0000000D61333A\" is in the field"
   ]
  },
  {
   "cell_type": "code",
   "execution_count": null,
   "metadata": {},
   "outputs": [],
   "source": [
    "fig = scatter2d(3*[df.index], [df[f\"{probe}_Cal_{B}\"] for B in [\"X\", \"Y\", \"Z\"]], inline=False)"
   ]
  },
  {
   "cell_type": "code",
   "execution_count": null,
   "metadata": {},
   "outputs": [],
   "source": []
  },
  {
   "cell_type": "markdown",
   "metadata": {},
   "source": [
    "### Slow Control Data Cleaning"
   ]
  },
  {
   "cell_type": "code",
   "execution_count": null,
   "metadata": {
    "code_folding": []
   },
   "outputs": [],
   "source": [
    "for probe in probes:\n",
    "    for t in [\"Cal\", \"Raw\"]:\n",
    "        df[f\"{probe}_{t}_Bmag\"] = (df[f\"{probe}_{t}_X\"]**2+df[f\"{probe}_{t}_Y\"]**2+df[f\"{probe}_{t}_Z\"]**2)**(1/2)\n",
    "        df[f\"{probe}_{t}_Res\"] = df[f\"{probe}_{t}_Bmag\"] - df['NMR [T]']\n",
    "        df[f\"{probe}_{t}_Res_Rel\"] = (df[f\"{probe}_{t}_Bmag\"] - df['NMR [T]']) / df['NMR [T]']"
   ]
  },
  {
   "cell_type": "code",
   "execution_count": null,
   "metadata": {},
   "outputs": [],
   "source": [
    "for B in [\"X\", \"Y\", \"Z\"]:\n",
    "    for probe in probes:\n",
    "        for t in [\"Cal\", \"Raw\"]:\n",
    "            #df[f\"{probe}_{t}_Bmag\"] = (df[f\"{probe}_{t}_X\"]**2+df[f\"{probe}_{t}_Y\"]**2+df[f\"{probe}_{t}_Z\"]**2)**(1/2)\n",
    "            df[f\"{probe}_{t}_{B}_Res\"] = df[f\"{probe}_{t}_{B}\"] - df['NMR [T]']\n",
    "            df[f\"{probe}_{t}_{B}_Res_Rel\"] = (df[f\"{probe}_{t}_{B}\"] - df['NMR [T]']) / df['NMR [T]']"
   ]
  },
  {
   "cell_type": "code",
   "execution_count": null,
   "metadata": {},
   "outputs": [],
   "source": [
    "df[\"seconds_delta\"] = (df.index - df.index[0]).total_seconds()\n",
    "df[\"hours_delta\"] = (df.index - df.index[0]).total_seconds()/60**2\n",
    "df[\"days_delta\"] = (df.index - df.index[0]).total_seconds()/(24*60**2)"
   ]
  },
  {
   "cell_type": "code",
   "execution_count": null,
   "metadata": {},
   "outputs": [],
   "source": [
    "for t in [\"Cal\", \"Raw\"]:\n",
    "    for probe in probes:\n",
    "        df[f\"{probe}_{t}_Transverse\"] = (df[f\"{probe}_Cal_X\"]**2+df[f\"{probe}_Cal_Y\"]**2)**(1/2)\n",
    "        df[f\"{probe}_{t}_Theta\"] = np.arccos(df[f\"{probe}_Cal_Z\"]/df[f\"{probe}_Cal_Bmag\"])\n",
    "        df[f\"{probe}_{t}_Phi\"] = np.arccos(df[f\"{probe}_Cal_X\"]/df[f\"{probe}_Cal_Transverse\"])"
   ]
  },
  {
   "cell_type": "code",
   "execution_count": null,
   "metadata": {},
   "outputs": [],
   "source": [
    "# raw\n",
    "for probe in probes:\n",
    "    df[f\"{probe}_Raw_Bmag\"] = (df[f\"{probe}_Raw_X\"]**2+df[f\"{probe}_Raw_Y\"]**2+df[f\"{probe}_Raw_Z\"]**2)**(1/2)\n",
    "\n",
    "for probe in probes:\n",
    "    df[f\"{probe}_Raw_Transverse\"] = (df[f\"{probe}_Raw_X\"]**2+df[f\"{probe}_Raw_Y\"]**2)**(1/2)\n",
    "    df[f\"{probe}_Raw_Theta\"] = np.arccos(df[f\"{probe}_Raw_Z\"]/df[f\"{probe}_Raw_Bmag\"])\n",
    "    df[f\"{probe}_Raw_Phi\"] = np.arccos(df[f\"{probe}_Raw_X\"]/df[f\"{probe}_Raw_Transverse\"])"
   ]
  },
  {
   "cell_type": "code",
   "execution_count": null,
   "metadata": {
    "scrolled": true
   },
   "outputs": [],
   "source": [
    "# NOTE TAKES ~3 MINUTES TO RUN AT THIS POINT (02-03-2020)\n",
    "if make_plots:\n",
    "    ## TIME PLOTS\n",
    "    for col in df.columns:\n",
    "        fig = scatter2d(df.index, df[col], markers=False, lines=True, show_plot=False) \n",
    "        pio.write_image(fig, plotdir+f\"time/all/{col}_vs_time.pdf\")\n",
    "        pio.write_image(fig, plotdir+f\"time/all/{col}_vs_time.png\")\n",
    "    \n",
    "    ## PLOT HISTOS\n",
    "    for probe in probes:\n",
    "        for t in [\"Cal\", \"Raw\"]:\n",
    "            fig = histo(df[f\"{probe}_{t}_Bmag\"], bins=50, show_plot=False)\n",
    "            pio.write_image(fig, plotdir+f\"histo/{probe}_{t}_Bmag.pdf\")\n",
    "            pio.write_image(fig, plotdir+f\"histo/{probe}_{t}_Bmag.png\")\n",
    "\n",
    "    ## RES HISTOS\n",
    "    for t in [\"Cal\", \"Raw\"]:\n",
    "        for probe in probes:\n",
    "            for B in [\"X\",\"Y\",\"Z\"]:\n",
    "                fig = histo(df[f\"{probe}_{t}_{B}_Res\"], bins=50, show_plot=False)\n",
    "                pio.write_image(fig, plotdir+f\"histo/residuals/component/{probe}_{t}_{B}_Res.pdf\")\n",
    "                pio.write_image(fig, plotdir+f\"histo/residuals/component/{probe}_{t}_{B}_Res.png\")\n",
    "\n",
    "    ## REL_RES HISTOS\n",
    "    for t in [\"Cal\", \"Raw\"]:\n",
    "        for probe in probes:\n",
    "            for B in [\"X\",\"Y\",\"Z\"]:\n",
    "                fig = histo(df[f\"{probe}_{t}_{B}_Res_Rel\"], bins=50, show_plot=False)\n",
    "                pio.write_image(fig, plotdir+f\"histo/relative_residuals/component/{probe}_{t}_{B}_Res_Rel.pdf\")\n",
    "                pio.write_image(fig, plotdir+f\"histo/relative_residuals/component/{probe}_{t}_{B}_Res_Rel.png\")\n",
    "\n",
    "    ## BMAG RES HISTOS\n",
    "    for res in [\"Res\", \"Res_Rel\"]:\n",
    "        if res == \"Res\":\n",
    "            p = \"residuals\"\n",
    "        else:\n",
    "            p = \"relative_residuals\"\n",
    "        for t in [\"Cal\", \"Raw\"]:\n",
    "            for probe in probes:\n",
    "                #for B in [\"X\",\"Y\",\"Z\"]:\n",
    "                fig = histo(df[f\"{probe}_{t}_{res}\"], bins=50, show_plot=False)\n",
    "                pio.write_image(fig, plotdir+f\"histo/{p}/{probe}_{t}_Bmag_{res}.pdf\")\n",
    "                pio.write_image(fig, plotdir+f\"histo/{p}/{probe}_{t}_Bmag_{res}.png\")\n",
    "\n",
    "    ## PLOT HISTO ANGLE\n",
    "    for probe in probes:\n",
    "        for angle in [\"Transverse\", \"Theta\", \"Phi\"]:\n",
    "            fig = histo(df[f\"{probe}_Cal_{angle}\"], bins=30, show_plot=False)\n",
    "            pio.write_image(fig, plotdir+f\"histo/angles/{probe}_Cal_{angle}.pdf\")\n",
    "            pio.write_image(fig, plotdir+f\"histo/angles/{probe}_Cal_{angle}.png\")\n",
    "\n",
    "    ## PLOT ANGLE\n",
    "    for probe in probes:\n",
    "        for angle in [\"Transverse\", \"Theta\", \"Phi\"]:\n",
    "            fig = scatter2d(df.index, df[f\"{probe}_Cal_{angle}\"], show_plot=False)\n",
    "            pio.write_image(fig, plotdir+f\"time/angles/{probe}_Cal_{angle}.pdf\")\n",
    "            pio.write_image(fig, plotdir+f\"time/angles/{probe}_Cal_{angle}.png\")\n",
    "\n",
    "    ## PLOT ANGLES RAW\n",
    "    for probe in probes:\n",
    "        for angle in [\"Transverse\", \"Theta\", \"Phi\"]:\n",
    "            fig = histo(df[f\"{probe}_Raw_{angle}\"], bins=30, show_plot=False)\n",
    "            pio.write_image(fig, plotdir+f\"histo/angles/{probe}_Raw_{angle}.pdf\")\n",
    "            pio.write_image(fig, plotdir+f\"histo/angles/{probe}_Raw_{angle}.png\")\n",
    "\n",
    "    for probe in probes:\n",
    "        for angle in [\"Transverse\", \"Theta\", \"Phi\"]:\n",
    "            fig = scatter2d(df.index, df[f\"{probe}_Raw_{angle}\"], show_plot=False)\n",
    "            pio.write_image(fig, plotdir+f\"time/angles/{probe}_Raw_{angle}.pdf\")\n",
    "            pio.write_image(fig, plotdir+f\"time/angles/{probe}_Raw_{angle}.png\")"
   ]
  },
  {
   "cell_type": "code",
   "execution_count": null,
   "metadata": {},
   "outputs": [],
   "source": [
    "df.to_pickle(pkl_dir+pkl_file_slow)"
   ]
  },
  {
   "cell_type": "code",
   "execution_count": null,
   "metadata": {},
   "outputs": [],
   "source": [
    "getsizeof(df) / 1000/1000"
   ]
  },
  {
   "cell_type": "code",
   "execution_count": null,
   "metadata": {},
   "outputs": [],
   "source": [
    "df.info()"
   ]
  },
  {
   "cell_type": "markdown",
   "metadata": {},
   "source": [
    "## Plotting"
   ]
  },
  {
   "cell_type": "markdown",
   "metadata": {},
   "source": [
    "### Gen Plots"
   ]
  },
  {
   "cell_type": "code",
   "execution_count": 10,
   "metadata": {},
   "outputs": [],
   "source": [
    "N = 2\n",
    "df[\"Diff_Current\"] = np.concatenate([np.diff(df[\"Magnet Current [A]\"], n=N), N*[0]])"
   ]
  },
  {
   "cell_type": "code",
   "execution_count": 64,
   "metadata": {},
   "outputs": [],
   "source": [
    "#fig = scatter2d(df.index, df.Diff_Current, inline=False)"
   ]
  },
  {
   "cell_type": "code",
   "execution_count": 11,
   "metadata": {},
   "outputs": [],
   "source": [
    "c = abs(df[\"Diff_Current\"]) < 1e-3"
   ]
  },
  {
   "cell_type": "code",
   "execution_count": 12,
   "metadata": {},
   "outputs": [
    {
     "data": {
      "text/plain": [
       "5828"
      ]
     },
     "execution_count": 12,
     "metadata": {},
     "output_type": "execute_result"
    }
   ],
   "source": [
    "c.sum()"
   ]
  },
  {
   "cell_type": "code",
   "execution_count": 13,
   "metadata": {},
   "outputs": [
    {
     "data": {
      "text/plain": [
       "5837"
      ]
     },
     "execution_count": 13,
     "metadata": {},
     "output_type": "execute_result"
    }
   ],
   "source": [
    "len(df)"
   ]
  },
  {
   "cell_type": "code",
   "execution_count": 14,
   "metadata": {},
   "outputs": [],
   "source": [
    "df = df[c]"
   ]
  },
  {
   "cell_type": "code",
   "execution_count": 69,
   "metadata": {},
   "outputs": [],
   "source": [
    "#fig = scatter2d(df.index, df.Diff_Current, inline=False)"
   ]
  },
  {
   "cell_type": "code",
   "execution_count": null,
   "metadata": {},
   "outputs": [],
   "source": []
  },
  {
   "cell_type": "code",
   "execution_count": 15,
   "metadata": {},
   "outputs": [],
   "source": [
    "nmr = df[\"NMR [T]\"] > 0.01\n",
    "\n",
    "#nmr = (df[f\"{probe}_Cal_Bmag\"] > 0.5) & (df[\"Magnet Current [A]\"] > 1)"
   ]
  },
  {
   "cell_type": "code",
   "execution_count": 16,
   "metadata": {},
   "outputs": [],
   "source": [
    "df_ = df[~nmr]\n",
    "df = df[nmr]"
   ]
  },
  {
   "cell_type": "code",
   "execution_count": 109,
   "metadata": {},
   "outputs": [
    {
     "data": {
      "text/plain": [
       "706"
      ]
     },
     "execution_count": 109,
     "metadata": {},
     "output_type": "execute_result"
    }
   ],
   "source": [
    "len(df)"
   ]
  },
  {
   "cell_type": "code",
   "execution_count": 110,
   "metadata": {},
   "outputs": [
    {
     "data": {
      "text/plain": [
       "5131"
      ]
     },
     "execution_count": 110,
     "metadata": {},
     "output_type": "execute_result"
    }
   ],
   "source": [
    "len(df_)"
   ]
  },
  {
   "cell_type": "code",
   "execution_count": 68,
   "metadata": {},
   "outputs": [],
   "source": [
    "fig = histo(df[f\"{probe}_Cal_Res_Rel\"], bins=34, autobin=True, show_plot=False)\n",
    "fig.update_layout(xaxis_title=r\"$(B_{\\mathrm{Hall}} - B_{\\mathrm{NMR}}) / B_{\\mathrm{NMR}}$\")\n",
    "pio.write_image(fig, plotdir+\"histo/hist_res_rel.pdf\")\n",
    "pio.write_image(fig, plotdir+\"histo/hist_res_rel.png\")"
   ]
  },
  {
   "cell_type": "code",
   "execution_count": 81,
   "metadata": {},
   "outputs": [
    {
     "data": {
      "text/plain": [
       "'mean: -8.5609300E-04<br>std:     2.700E-05<br>range: 1.684E-04<br>count: 701'"
      ]
     },
     "execution_count": 81,
     "metadata": {},
     "output_type": "execute_result"
    }
   ],
   "source": [
    "fig.data[0].name[36:]"
   ]
  },
  {
   "cell_type": "code",
   "execution_count": 19,
   "metadata": {},
   "outputs": [],
   "source": [
    "c = df[f\"{probe}_Cal_Bmag\"] > 0.8"
   ]
  },
  {
   "cell_type": "code",
   "execution_count": 85,
   "metadata": {},
   "outputs": [],
   "source": [
    "high_frac = df[c][f\"{probe}_Cal_Bmag\"].mean() / df[c][\"NMR [T]\"].mean()"
   ]
  },
  {
   "cell_type": "code",
   "execution_count": 84,
   "metadata": {},
   "outputs": [],
   "source": [
    "low_frac = df[~c][f\"{probe}_Cal_Bmag\"].mean() / df[~c][\"NMR [T]\"].mean()"
   ]
  },
  {
   "cell_type": "code",
   "execution_count": 86,
   "metadata": {},
   "outputs": [
    {
     "data": {
      "text/plain": [
       "(0.9991477784496814, 0.9991185969487559)"
      ]
     },
     "execution_count": 86,
     "metadata": {},
     "output_type": "execute_result"
    }
   ],
   "source": [
    "low_frac, high_frac"
   ]
  },
  {
   "cell_type": "code",
   "execution_count": null,
   "metadata": {},
   "outputs": [],
   "source": []
  },
  {
   "cell_type": "code",
   "execution_count": 20,
   "metadata": {},
   "outputs": [],
   "source": [
    "df[\"color\"] = c"
   ]
  },
  {
   "cell_type": "code",
   "execution_count": 37,
   "metadata": {},
   "outputs": [],
   "source": [
    "b_true = round(df[c][\"NMR [T]\"].mean(), 2)#[f\"{probe}_Cal_Bmag\"].mean()"
   ]
  },
  {
   "cell_type": "code",
   "execution_count": 38,
   "metadata": {},
   "outputs": [],
   "source": [
    "b_false = round(df[~c][\"NMR [T]\"].mean(), 2)#[f\"{probe}_Cal_Bmag\"].mean()"
   ]
  },
  {
   "cell_type": "code",
   "execution_count": 39,
   "metadata": {},
   "outputs": [
    {
     "data": {
      "text/plain": [
       "(0.82, 0.78)"
      ]
     },
     "execution_count": 39,
     "metadata": {},
     "output_type": "execute_result"
    }
   ],
   "source": [
    "b_true, b_false"
   ]
  },
  {
   "cell_type": "code",
   "execution_count": 40,
   "metadata": {},
   "outputs": [],
   "source": [
    "B = []\n",
    "for c_ in c:\n",
    "    if c_:\n",
    "        B.append(b_true)\n",
    "    else:\n",
    "        B.append(b_false)"
   ]
  },
  {
   "cell_type": "code",
   "execution_count": 41,
   "metadata": {},
   "outputs": [],
   "source": [
    "df[\"NMR_avg\"] = np.array(B)"
   ]
  },
  {
   "cell_type": "code",
   "execution_count": 45,
   "metadata": {},
   "outputs": [
    {
     "data": {
      "application/vnd.plotly.v1+json": {
       "config": {
        "plotlyServerURL": "https://plot.ly"
       },
       "data": [
        {
         "alignmentgroup": "True",
         "bingroup": "x",
         "hoverlabel": {
          "namelength": 0
         },
         "hovertemplate": "NMR_avg=0.78<br>6A0000000D61333A_Cal_Res_Rel=%{x}<br>count=%{y}",
         "legendgroup": "NMR_avg=0.78",
         "marker": {
          "color": "#636efa"
         },
         "name": "NMR_avg=0.78",
         "offsetgroup": "NMR_avg=0.78",
         "orientation": "v",
         "showlegend": true,
         "type": "histogram",
         "x": [
          -0.0008573217689758117,
          -0.0008492855146524455,
          -0.0008792466812313644,
          -0.0008612673498655749,
          -0.0008731912555826724,
          -0.0008439622738643266,
          -0.0008532242248617941,
          -0.0008464051432240272,
          -0.0008984280003629162,
          -0.0008098708708657149,
          -0.000819615558936388,
          -0.0008581608960706508,
          -0.0008527285242203697,
          -0.0008949484774715284,
          -0.0008624893194433308,
          -0.0008636673418811416,
          -0.0008722851349697403,
          -0.0008694059913512324,
          -0.000846413552727604,
          -0.0008463596205457044,
          -0.000855707125078892,
          -0.0008220777771422237,
          -0.0008590513772759381,
          -0.0008058892457345198,
          -0.0008700765375883369,
          -0.0008266048155768388,
          -0.0008181430810210887,
          -0.0008350584878302367,
          -0.0008096952162204443,
          -0.0008289945751745058,
          -0.0008167726341795682,
          -0.0008125474269333424,
          -0.0007881039178440419,
          -0.0008679085801144336,
          -0.0008488662351957382,
          -0.0008380851473744457,
          -0.0008652091342851027,
          -0.0008630708188641043,
          -0.0008370817859281128,
          -0.000851943714098791,
          -0.0007728271936820566,
          -0.0008574272927791697,
          -0.0007955797449359811,
          -0.0007883704965080146,
          -0.0008346796826434494,
          -0.0008650550407516789,
          -0.0008103837184991787,
          -0.0008465843083163214,
          -0.0008552663154328385,
          -0.0007921492975660065,
          -0.0008340587505693772,
          -0.0008257778534127943,
          -0.0008673073631975493,
          -0.0008637711567619351,
          -0.0008368157872359465,
          -0.00082434484299154,
          -0.0008467766534674239,
          -0.0008103181911909839,
          -0.0008448081974555313,
          -0.0008314036749669287,
          -0.0008525336157272714,
          -0.0008726653444210568,
          -0.000852752524285445,
          -0.0008718537079112409,
          -0.0008564257125256061,
          -0.000867883464344869,
          -0.0009097845202013066,
          -0.0008620604147915828,
          -0.0008273614959437247,
          -0.0008535994784814451,
          -0.0008097963653944213,
          -0.0008996028378706629,
          -0.0008284388084982395,
          -0.0008663654536965928,
          -0.0008692567530128941,
          -0.0008395812219750786,
          -0.0008905630569806984,
          -0.0008259776340076043,
          -0.0008649491789641677,
          -0.0008496113646432202,
          -0.0008271390475668328,
          -0.0008391437390180796,
          -0.0008209678558176231,
          -0.0007949657450034196,
          -0.0008290269715675612,
          -0.0008388477754144154,
          -0.0008271821731304336,
          -0.000806812110831284,
          -0.0008737498932480597,
          -0.0008447873764823417,
          -0.0008410811832735329,
          -0.00088464081552549,
          -0.0008404204672702131,
          -0.0008454914506177713,
          -0.0008519428917661348,
          -0.000906010058870697,
          -0.0008676437352627084,
          -0.0008788697707054522,
          -0.0008731073953368673,
          -0.0008864026752174504,
          -0.0008225405598029183,
          -0.0008539913361077879,
          -0.0008291322904576823,
          -0.0008714120603271077,
          -0.0008573768239195686,
          -0.0008675303817740773,
          -0.0008852498688944753,
          -0.0009032739166050041,
          -0.0008288562460321042,
          -0.0007883471784657346,
          -0.0008993096910482461,
          -0.0008605364631570901,
          -0.0008136058620559373,
          -0.0008486318813134647,
          -0.0008580065863381704,
          -0.0008618907279772402,
          -0.0008561323390762795,
          -0.0008570949790150659,
          -0.0008310453691304163,
          -0.0008255806561636064,
          -0.00084039615137435,
          -0.0008240888840722433,
          -0.0008355666928355294,
          -0.0008662700816918158,
          -0.0008665476807553281,
          -0.0008588144569512111,
          -0.0008324518091496698,
          -0.0008328475504272264,
          -0.0008852890471201293,
          -0.000849397372000992,
          -0.000902632683203913,
          -0.0008659305768227574,
          -0.0008215141489198265,
          -0.0008283143826281598,
          -0.0008513892883260393,
          -0.0008647259091633297,
          -0.0008151119615816173,
          -0.0008003977531096089,
          -0.0008518945417668041,
          -0.0008114530660519871,
          -0.000824230209816342,
          -0.0008361667287523086,
          -0.0008571592052400028,
          -0.0008420724228512692,
          -0.0008607505013507734,
          -0.0008523170030530694,
          -0.0008931036713575084,
          -0.0008580729863080408,
          -0.0008173561465438503,
          -0.0008596038000992903,
          -0.0008437925368728435,
          -0.0008737799877172458,
          -0.0008283978061093221,
          -0.0008612943356882601,
          -0.0008642583590791829,
          -0.0008069688479419032,
          -0.0008317543048801049,
          -0.0008510312336102435,
          -0.0008229439625039774,
          -0.0008841400176639245,
          -0.0008184006431910365,
          -0.0008321675048115427,
          -0.0008519913173703848,
          -0.0008721630316918752,
          -0.0008381326397235281,
          -0.0008658888577237596,
          -0.0008488319196005984,
          -0.0008744654440414988,
          -0.0008532555990620219,
          -0.0008988260536000173,
          -0.0008063586489824265,
          -0.0008804970430833115,
          -0.0008671313877150589,
          -0.000815121990256043,
          -0.0008615255300321186,
          -0.0008529476289606191,
          -0.0008598926629292832,
          -0.000886362567950636,
          -0.0008338100198779098,
          -0.0007980903648839836,
          -0.0008447550188201392,
          -0.0008804456871924172,
          -0.000887769409377354,
          -0.0008382197496730739,
          -0.0008283510268151631,
          -0.0008767159642832588,
          -0.0008612257293340258,
          -0.0008693716388798519,
          -0.000840751903989937,
          -0.0008568081349632468,
          -0.0008665155628261274,
          -0.0008654983622326742,
          -0.0008959191717671493,
          -0.0008562280195844079,
          -0.0008546024297624947,
          -0.0008630577893563312,
          -0.0008558994528343925,
          -0.0008733518738648128,
          -0.0008940145536977686,
          -0.0008366750863951546,
          -0.0008347717717198514,
          -0.0008580458647272179,
          -0.0008596736898076293,
          -0.0008180950800368081,
          -0.0008527407456786527,
          -0.000824231346880187,
          -0.0008111307112459769,
          -0.0008384230862542101,
          -0.0008485016965154394,
          -0.0008436715730270975,
          -0.0008169044562196179,
          -0.0008243260337725902,
          -0.0008420114229194075,
          -0.0008485805246291357,
          -0.0008945296442249145,
          -0.000873433916028435,
          -0.0008689781028624289,
          -0.0008513978826635214,
          -0.000824143425151852,
          -0.0009040507780573393,
          -0.0008425750647707991,
          -0.0008283882380444256,
          -0.0008394872172031025,
          -0.0008655935063154947,
          -0.0008462603060326095,
          -0.0008532867515871508,
          -0.0008673576000112322,
          -0.0008220580826646296,
          -0.0008709293405438035,
          -0.0008517260775417158,
          -0.000886946595354606,
          -0.0008781222764858999,
          -0.0008047195218159926,
          -0.0008427494593973088,
          -0.0008856280080752982,
          -0.0008536754854369828,
          -0.0008456075360136216,
          -0.0008433130978123973,
          -0.0008494008852672245,
          -0.0008305652075176444,
          -0.0009243822675248822,
          -0.000811251785268777,
          -0.00087580950403177,
          -0.0008581764378348392,
          -0.0008405894146309195,
          -0.0008389929226308061,
          -0.0008972051011864621,
          -0.000849142506430124,
          -0.0008837665892375175,
          -0.0008333170573940554,
          -0.0008273327410239411,
          -0.0008649429026876647,
          -0.0008122444079294829,
          -0.0008766401981647954,
          -0.0008614543825303559,
          -0.0008347352501433786,
          -0.0008853729852924864,
          -0.0008667160803045379,
          -0.0008333204780380795,
          -0.0008340909379340778,
          -0.0008404379009794514,
          -0.0008455491149070961,
          -0.0008549847395526258,
          -0.0008516721707472874,
          -0.0008097432622326911,
          -0.0008490047390339739,
          -0.0008797052016319009,
          -0.0008550159683053835,
          -0.0008829544203467355,
          -0.0008258716300046977,
          -0.0008336845309764604,
          -0.0009016389119905966,
          -0.0008434277076107644,
          -0.0008736943484193046,
          -0.0008634617193173018,
          -0.0008445659431795558,
          -0.0008582417279118759,
          -0.0008560474322345769,
          -0.0009206476337575268,
          -0.0008627351832308809,
          -0.000870993568070446,
          -0.0008518780676884859,
          -0.0008834511841638508,
          -0.0008078363346678103,
          -0.0008576652581310637,
          -0.0008436265697413754,
          -0.0008019869572683101,
          -0.0008418833217019355,
          -0.0008511447686443634,
          -0.0008760534021855815,
          -0.0008097256113913922,
          -0.0008634373682404024,
          -0.0008902793259529036,
          -0.0008322184866343269,
          -0.0008063364346707319,
          -0.0008819322968846474,
          -0.0008386536431193381,
          -0.0008512193613745881,
          -0.0008639799508155542,
          -0.0008371424952308786,
          -0.0008672573373118717,
          -0.0008492791756311385,
          -0.0008828664830598969,
          -0.0008370887532100726,
          -0.000862659148342311,
          -0.0008487087714666748,
          -0.0008718502920471655,
          -0.0007908905121831847,
          -0.0008416181576375506,
          -0.0008747241153389617,
          -0.0008571590252359577,
          -0.0008498669361540322,
          -0.0008841398287976828,
          -0.0008307042657684726,
          -0.0008311908203760268,
          -0.000838703469860876,
          -0.0008386350240405589,
          -0.0009052930050760065,
          -0.0008577769020623525,
          -0.0008413251969253925,
          -0.0008222505128765953,
          -0.0008387282484702903,
          -0.0008305174565690654,
          -0.0008329874201917139,
          -0.0008550600981881218,
          -0.0008495735140391906,
          -0.0008626199613334111,
          -0.0008498419614159424,
          -0.0009042411291772043,
          -0.0008674792502745686,
          -0.0008214020440937458,
          -0.0008452005261273314,
          -0.0008949458293971373,
          -0.000887196013994994,
          -0.0008676457933039062,
          -0.0008475316065697912,
          -0.0008476356586437992,
          -0.0008253273572842884,
          -0.0008486979534208701,
          -0.0008677355403607216,
          -0.0008817471411393732,
          -0.0008453442211344089,
          -0.0008423165565400623,
          -0.0008657091615609948,
          -0.0008249972150843057,
          -0.0008478516251928356,
          -0.0008697739213742489,
          -0.0008286227090108172,
          -0.000874899095593748,
          -0.0008428761398902763,
          -0.0008597456870674534,
          -0.0008902921099747749,
          -0.0008479485906993688,
          -0.0008966616917266995,
          -0.0009048969210977296,
          -0.0008688368965320982,
          -0.0008480530167550382,
          -0.0008712188405745132,
          -0.0008280975105009221,
          -0.0008579534357630279,
          -0.0008715587418651996,
          -0.0008658735672344567,
          -0.0008969572410428126,
          -0.0008326973799606195,
          -0.0008810021788553435,
          -0.0008693820642533773,
          -0.0008624742604462465,
          -0.0008684771786342787,
          -0.0007934227300259311,
          -0.0008662986328092327,
          -0.0008685862922503427,
          -0.0008212182558089372,
          -0.0008358043114869583,
          -0.0008461687548295374,
          -0.0008721162142777472,
          -0.0008393300539140982,
          -0.0008416056920597715,
          -0.0008463349211547007,
          -0.0008307188514993948,
          -0.0007992815052947908,
          -0.000859589348107968,
          -0.0008266144525856642,
          -0.0008480165688572259,
          -0.0008036607256022821,
          -0.000887612152407582,
          -0.0008348688844883578,
          -0.0008228949282757844,
          -0.0008378689514927059,
          -0.0008793023435725615,
          -0.0008414360827576891,
          -0.0008763738428874769,
          -0.0008249976090512854,
          -0.0008553449665896483,
          -0.0008727318225346133,
          -0.0008778994137197098,
          -0.0008410977586767841,
          -0.0008309317776143657,
          -0.0008441606183904777,
          -0.0008666935206940565,
          -0.0008210980178182342,
          -0.0008676119002729264,
          -0.0008639488865391391,
          -0.0009189353854320759,
          -0.0008836285953863695,
          -0.0008467579668528213,
          -0.0008761056362662285,
          -0.0008594711449088247,
          -0.0008754012509678349,
          -0.000833047208356565,
          -0.0008783288968348358,
          -0.0009285032017461152,
          -0.0009123252652338834,
          -0.0008344070887730978,
          -0.0008207455160820826,
          -0.0008300364891796076,
          -0.0008992784351358498,
          -0.0008773942248084009,
          -0.0008381612649660167,
          -0.0008257901158281699,
          -0.0007960157698156429,
          -0.0008603603198994976,
          -0.0008779622898884367,
          -0.000856276955927257,
          -0.0008396440446460658,
          -0.000800507712902763,
          -0.0008416676050224312,
          -0.0008810752635870632,
          -0.0008242880288909887,
          -0.0008732707134575126,
          -0.000849396519512334,
          -0.0008258074798022455,
          -0.0008423676077121234,
          -0.0008161049344863036,
          -0.0008336269172689638,
          -0.0008426255550615336,
          -0.0008677469763611096,
          -0.0008361317033602744,
          -0.000798426382744754,
          -0.0008648315321344066,
          -0.0008566774686927524,
          -0.0009013661942717919,
          -0.0007988536256033879,
          -0.0008344306902038407,
          -0.0008621184921541336,
          -0.0008326561754670924,
          -0.0008353676209650444,
          -0.0008487016394903948,
          -0.0008667377684158362,
          -0.0008159638527921025,
          -0.0008153564818636041,
          -0.0008713974518868073,
          -0.0008389271003872274,
          -0.0008417865286247288,
          -0.0008694683370453032,
          -0.0008292501472018331,
          -0.000886967713903307,
          -0.0008856596620295439,
          -0.0008484261292084003,
          -0.0008681898133224392,
          -0.000859071439156643,
          -0.0008237657497313259,
          -0.0008445812865157658,
          -0.0008759638919369386,
          -0.0008738960375178723,
          -0.0008657528724008712,
          -0.0008620738391995773,
          -0.0008554447264978791,
          -0.0008378734276469881,
          -0.0008319991560038175,
          -0.0008710423049140178,
          -0.0008197257067607748,
          -0.0008637058533055206,
          -0.0008279754258688745,
          -0.0008610525450694806,
          -0.0008501475494518752,
          -0.0008459440976118346,
          -0.0008841981306520895,
          -0.0008669097527582992,
          -0.0008468925932915698,
          -0.0008574934153097164,
          -0.0008118036291392991,
          -0.0008562067239167871,
          -0.0008758993462021403,
          -0.0008186931178312436,
          -0.0008840657388596104,
          -0.000862061690952469,
          -0.0008433487601533973,
          -0.000864008096054627,
          -0.000843531954604685,
          -0.0008523142957552465,
          -0.0008701845776135565,
          -0.0008191330084878166,
          -0.0008287300927979975,
          -0.0008402495518197769,
          -0.0008542858808025657,
          -0.000843478134786013,
          -0.0008612540565729098,
          -0.0008346237873202889,
          -0.0008674710748462702,
          -0.0008601985896418309,
          -0.0008602726236361693,
          -0.0008606496858901443,
          -0.0008394406564453277,
          -0.0008263668793101397,
          -0.0008293900520894232,
          -0.000849259819067299,
          -0.0008238986430257793,
          -0.0008112346043326397,
          -0.0008451368073207292,
          -0.0008206896611865251,
          -0.0008389633662890299,
          -0.0008383926447163451,
          -0.0008930448651237233,
          -0.0008581552902749814,
          -0.0008553792712297089,
          -0.0008611698858023989,
          -0.0008807643748666907,
          -0.0008375128188044989,
          -0.0008732757870847996,
          -0.0008913027099778795,
          -0.0008802868887916914,
          -0.0008537814611382694,
          -0.000803821871434943,
          -0.0008992191494285811,
          -0.0008766927162404703,
          -0.0008190277242543814,
          -0.0008497987658730271,
          -0.0008573560865289517,
          -0.0008276375077693924,
          -0.0008456625936579399,
          -0.0008763203643649788,
          -0.0008365360174117485,
          -0.000838921444657345,
          -0.000856408741758887,
          -0.0008348235485146325,
          -0.0008567036962787861,
          -0.0008566708330473241,
          -0.0008648300085743906,
          -0.0008756883142351456,
          -0.0008630784513871259,
          -0.0008743557095325992,
          -0.0008715002794565731,
          -0.0008716489404914201,
          -0.0009010668782351779,
          -0.0008625758276893067,
          -0.0008928974747694802,
          -0.0008477547920831842,
          -0.0008110113209080101,
          -0.0008518425653761708,
          -0.0008196796852910533,
          -0.0008928846150723861,
          -0.0008570201336034687,
          -0.0008742225402393831,
          -0.0008523364199148851,
          -0.0008944154992077701,
          -0.0008394495176569985,
          -0.0008422118526126336,
          -0.0008425206736941244,
          -0.0008688345358161442,
          -0.0008337520388137954,
          -0.0008584645030895591,
          -0.000884491142532505,
          -0.00088950292054322,
          -0.000824160395279352,
          -0.0008534124624652171,
          -0.0008489756677096468,
          -0.0008432458429554841,
          -0.0008581266365610046,
          -0.0008905777817003661,
          -0.0008659022101281915,
          -0.0008814528578210523,
          -0.0008378094814604555,
          -0.000912081736916186,
          -0.0008830851946396692,
          -0.0008891810436134513,
          -0.0008217369654217253,
          -0.0008249190432908124,
          -0.0008556284686450334,
          -0.0008324281366176841,
          -0.0008686106991897575,
          -0.0008766291276087082,
          -0.0008740591962716646,
          -0.000863526743323571,
          -0.0008362245286486742,
          -0.0008270389489475492,
          -0.0008948755665285238,
          -0.0008927726938099904,
          -0.0009007506716399123,
          -0.0008398526117821266,
          -0.0008357125694783287,
          -0.0008670775687187434,
          -0.0008420923378938979,
          -0.0008712183500268064,
          -0.0008252376707161292,
          -0.0009024276130179328,
          -0.0009041920672565158,
          -0.000868534783620016,
          -0.0009045949407706839,
          -0.0008667737861427205,
          -0.0008630187814811832,
          -0.0008780796103356138,
          -0.0008549296237692557,
          -0.0008191790912299298,
          -0.0008537638233438055,
          -0.0008739994446015257,
          -0.000847281400508373,
          -0.0008567875493388771,
          -0.000846643706847225
         ],
         "xaxis": "x",
         "yaxis": "y"
        },
        {
         "alignmentgroup": "True",
         "bingroup": "x",
         "hoverlabel": {
          "namelength": 0
         },
         "hovertemplate": "NMR_avg=0.82<br>6A0000000D61333A_Cal_Res_Rel=%{x}<br>count=%{y}",
         "legendgroup": "NMR_avg=0.82",
         "marker": {
          "color": "#EF553B"
         },
         "name": "NMR_avg=0.82",
         "offsetgroup": "NMR_avg=0.82",
         "orientation": "v",
         "showlegend": true,
         "type": "histogram",
         "x": [
          -0.0009124981129615931,
          -0.0009092802765505026,
          -0.0008617590206016836,
          -0.0008762387245085848,
          -0.0008615761551986515,
          -0.0008457576413719946,
          -0.000856234912162534,
          -0.000889635377774423,
          -0.0008772387524800908,
          -0.0008666784736903908,
          -0.0009023749057611092,
          -0.0008917365096028305,
          -0.0009056628299541137,
          -0.0008994969991913586,
          -0.0009133134830094921,
          -0.0008833817833022655,
          -0.0008760438386787,
          -0.0008542193528065379,
          -0.0008446185197150722,
          -0.000864598555636968,
          -0.0009058108019215385,
          -0.0008517986811272046,
          -0.0009046029391008312,
          -0.0008836151301680093,
          -0.0008845254692421561,
          -0.0008962797555400815,
          -0.000887628860657634,
          -0.0008889654981212162,
          -0.0008731884517774671,
          -0.0008591816232510896,
          -0.0009412768520948371,
          -0.0009081596843169374,
          -0.000895607910808122,
          -0.0008868510386656229,
          -0.0008719340357496904,
          -0.0008726079073627951,
          -0.0008893356078020477,
          -0.0008836536598741346,
          -0.0008991520026070777,
          -0.0008702980415143183,
          -0.0009084706478342427,
          -0.0008629500111040615,
          -0.0008848902303030856,
          -0.0008537858348341014,
          -0.000867583515732533,
          -0.0008792448590044721,
          -0.0008417196352630198,
          -0.000905789082768445,
          -0.0008657333949916645,
          -0.0009140308332663941,
          -0.0008675105273006369,
          -0.0008807108797728599,
          -0.0009118816968294178,
          -0.000870301589990536,
          -0.0008644941539289963,
          -0.0008934086485562105,
          -0.0008523851263258273,
          -0.0008878684869262426,
          -0.000897701069000929,
          -0.0008804690385721599,
          -0.0008640666648532857,
          -0.0008713630640176485,
          -0.0008371329476172431,
          -0.000855761337394499,
          -0.000847416847014021,
          -0.0008996753039396384,
          -0.0008672079015894894,
          -0.0008620351673741282,
          -0.0009050737220706823,
          -0.0008927705451882963,
          -0.0008751623548489798,
          -0.0008807390402992259,
          -0.0009139136077473708,
          -0.0008471775272324114,
          -0.0008829490750718472,
          -0.0008561669996642594,
          -0.0009136866293325629,
          -0.000853423387660035,
          -0.0008683452056046953,
          -0.0008700465882655472,
          -0.0009091563845604768,
          -0.0008253361072464813,
          -0.0009007799507579192,
          -0.0009025843447110668,
          -0.0008936804034145777,
          -0.000929578777956831,
          -0.0008759757562890532,
          -0.0008658862237138857,
          -0.0008890669005576562,
          -0.0009229749558713279,
          -0.000905542444520433,
          -0.0008816657887032423,
          -0.00086639501380944
         ],
         "xaxis": "x",
         "yaxis": "y"
        }
       ],
       "layout": {
        "barmode": "relative",
        "height": 600,
        "legend": {
         "tracegroupgap": 0
        },
        "margin": {
         "t": 60
        },
        "template": {
         "data": {
          "bar": [
           {
            "error_x": {
             "color": "#2a3f5f"
            },
            "error_y": {
             "color": "#2a3f5f"
            },
            "marker": {
             "line": {
              "color": "#E5ECF6",
              "width": 0.5
             }
            },
            "type": "bar"
           }
          ],
          "barpolar": [
           {
            "marker": {
             "line": {
              "color": "#E5ECF6",
              "width": 0.5
             }
            },
            "type": "barpolar"
           }
          ],
          "carpet": [
           {
            "aaxis": {
             "endlinecolor": "#2a3f5f",
             "gridcolor": "white",
             "linecolor": "white",
             "minorgridcolor": "white",
             "startlinecolor": "#2a3f5f"
            },
            "baxis": {
             "endlinecolor": "#2a3f5f",
             "gridcolor": "white",
             "linecolor": "white",
             "minorgridcolor": "white",
             "startlinecolor": "#2a3f5f"
            },
            "type": "carpet"
           }
          ],
          "choropleth": [
           {
            "colorbar": {
             "outlinewidth": 0,
             "ticks": ""
            },
            "type": "choropleth"
           }
          ],
          "contour": [
           {
            "colorbar": {
             "outlinewidth": 0,
             "ticks": ""
            },
            "colorscale": [
             [
              0,
              "#0d0887"
             ],
             [
              0.1111111111111111,
              "#46039f"
             ],
             [
              0.2222222222222222,
              "#7201a8"
             ],
             [
              0.3333333333333333,
              "#9c179e"
             ],
             [
              0.4444444444444444,
              "#bd3786"
             ],
             [
              0.5555555555555556,
              "#d8576b"
             ],
             [
              0.6666666666666666,
              "#ed7953"
             ],
             [
              0.7777777777777778,
              "#fb9f3a"
             ],
             [
              0.8888888888888888,
              "#fdca26"
             ],
             [
              1,
              "#f0f921"
             ]
            ],
            "type": "contour"
           }
          ],
          "contourcarpet": [
           {
            "colorbar": {
             "outlinewidth": 0,
             "ticks": ""
            },
            "type": "contourcarpet"
           }
          ],
          "heatmap": [
           {
            "colorbar": {
             "outlinewidth": 0,
             "ticks": ""
            },
            "colorscale": [
             [
              0,
              "#0d0887"
             ],
             [
              0.1111111111111111,
              "#46039f"
             ],
             [
              0.2222222222222222,
              "#7201a8"
             ],
             [
              0.3333333333333333,
              "#9c179e"
             ],
             [
              0.4444444444444444,
              "#bd3786"
             ],
             [
              0.5555555555555556,
              "#d8576b"
             ],
             [
              0.6666666666666666,
              "#ed7953"
             ],
             [
              0.7777777777777778,
              "#fb9f3a"
             ],
             [
              0.8888888888888888,
              "#fdca26"
             ],
             [
              1,
              "#f0f921"
             ]
            ],
            "type": "heatmap"
           }
          ],
          "heatmapgl": [
           {
            "colorbar": {
             "outlinewidth": 0,
             "ticks": ""
            },
            "colorscale": [
             [
              0,
              "#0d0887"
             ],
             [
              0.1111111111111111,
              "#46039f"
             ],
             [
              0.2222222222222222,
              "#7201a8"
             ],
             [
              0.3333333333333333,
              "#9c179e"
             ],
             [
              0.4444444444444444,
              "#bd3786"
             ],
             [
              0.5555555555555556,
              "#d8576b"
             ],
             [
              0.6666666666666666,
              "#ed7953"
             ],
             [
              0.7777777777777778,
              "#fb9f3a"
             ],
             [
              0.8888888888888888,
              "#fdca26"
             ],
             [
              1,
              "#f0f921"
             ]
            ],
            "type": "heatmapgl"
           }
          ],
          "histogram": [
           {
            "marker": {
             "colorbar": {
              "outlinewidth": 0,
              "ticks": ""
             }
            },
            "type": "histogram"
           }
          ],
          "histogram2d": [
           {
            "colorbar": {
             "outlinewidth": 0,
             "ticks": ""
            },
            "colorscale": [
             [
              0,
              "#0d0887"
             ],
             [
              0.1111111111111111,
              "#46039f"
             ],
             [
              0.2222222222222222,
              "#7201a8"
             ],
             [
              0.3333333333333333,
              "#9c179e"
             ],
             [
              0.4444444444444444,
              "#bd3786"
             ],
             [
              0.5555555555555556,
              "#d8576b"
             ],
             [
              0.6666666666666666,
              "#ed7953"
             ],
             [
              0.7777777777777778,
              "#fb9f3a"
             ],
             [
              0.8888888888888888,
              "#fdca26"
             ],
             [
              1,
              "#f0f921"
             ]
            ],
            "type": "histogram2d"
           }
          ],
          "histogram2dcontour": [
           {
            "colorbar": {
             "outlinewidth": 0,
             "ticks": ""
            },
            "colorscale": [
             [
              0,
              "#0d0887"
             ],
             [
              0.1111111111111111,
              "#46039f"
             ],
             [
              0.2222222222222222,
              "#7201a8"
             ],
             [
              0.3333333333333333,
              "#9c179e"
             ],
             [
              0.4444444444444444,
              "#bd3786"
             ],
             [
              0.5555555555555556,
              "#d8576b"
             ],
             [
              0.6666666666666666,
              "#ed7953"
             ],
             [
              0.7777777777777778,
              "#fb9f3a"
             ],
             [
              0.8888888888888888,
              "#fdca26"
             ],
             [
              1,
              "#f0f921"
             ]
            ],
            "type": "histogram2dcontour"
           }
          ],
          "mesh3d": [
           {
            "colorbar": {
             "outlinewidth": 0,
             "ticks": ""
            },
            "type": "mesh3d"
           }
          ],
          "parcoords": [
           {
            "line": {
             "colorbar": {
              "outlinewidth": 0,
              "ticks": ""
             }
            },
            "type": "parcoords"
           }
          ],
          "pie": [
           {
            "automargin": true,
            "type": "pie"
           }
          ],
          "scatter": [
           {
            "marker": {
             "colorbar": {
              "outlinewidth": 0,
              "ticks": ""
             }
            },
            "type": "scatter"
           }
          ],
          "scatter3d": [
           {
            "line": {
             "colorbar": {
              "outlinewidth": 0,
              "ticks": ""
             }
            },
            "marker": {
             "colorbar": {
              "outlinewidth": 0,
              "ticks": ""
             }
            },
            "type": "scatter3d"
           }
          ],
          "scattercarpet": [
           {
            "marker": {
             "colorbar": {
              "outlinewidth": 0,
              "ticks": ""
             }
            },
            "type": "scattercarpet"
           }
          ],
          "scattergeo": [
           {
            "marker": {
             "colorbar": {
              "outlinewidth": 0,
              "ticks": ""
             }
            },
            "type": "scattergeo"
           }
          ],
          "scattergl": [
           {
            "marker": {
             "colorbar": {
              "outlinewidth": 0,
              "ticks": ""
             }
            },
            "type": "scattergl"
           }
          ],
          "scattermapbox": [
           {
            "marker": {
             "colorbar": {
              "outlinewidth": 0,
              "ticks": ""
             }
            },
            "type": "scattermapbox"
           }
          ],
          "scatterpolar": [
           {
            "marker": {
             "colorbar": {
              "outlinewidth": 0,
              "ticks": ""
             }
            },
            "type": "scatterpolar"
           }
          ],
          "scatterpolargl": [
           {
            "marker": {
             "colorbar": {
              "outlinewidth": 0,
              "ticks": ""
             }
            },
            "type": "scatterpolargl"
           }
          ],
          "scatterternary": [
           {
            "marker": {
             "colorbar": {
              "outlinewidth": 0,
              "ticks": ""
             }
            },
            "type": "scatterternary"
           }
          ],
          "surface": [
           {
            "colorbar": {
             "outlinewidth": 0,
             "ticks": ""
            },
            "colorscale": [
             [
              0,
              "#0d0887"
             ],
             [
              0.1111111111111111,
              "#46039f"
             ],
             [
              0.2222222222222222,
              "#7201a8"
             ],
             [
              0.3333333333333333,
              "#9c179e"
             ],
             [
              0.4444444444444444,
              "#bd3786"
             ],
             [
              0.5555555555555556,
              "#d8576b"
             ],
             [
              0.6666666666666666,
              "#ed7953"
             ],
             [
              0.7777777777777778,
              "#fb9f3a"
             ],
             [
              0.8888888888888888,
              "#fdca26"
             ],
             [
              1,
              "#f0f921"
             ]
            ],
            "type": "surface"
           }
          ],
          "table": [
           {
            "cells": {
             "fill": {
              "color": "#EBF0F8"
             },
             "line": {
              "color": "white"
             }
            },
            "header": {
             "fill": {
              "color": "#C8D4E3"
             },
             "line": {
              "color": "white"
             }
            },
            "type": "table"
           }
          ]
         },
         "layout": {
          "annotationdefaults": {
           "arrowcolor": "#2a3f5f",
           "arrowhead": 0,
           "arrowwidth": 1
          },
          "coloraxis": {
           "colorbar": {
            "outlinewidth": 0,
            "ticks": ""
           }
          },
          "colorscale": {
           "diverging": [
            [
             0,
             "#8e0152"
            ],
            [
             0.1,
             "#c51b7d"
            ],
            [
             0.2,
             "#de77ae"
            ],
            [
             0.3,
             "#f1b6da"
            ],
            [
             0.4,
             "#fde0ef"
            ],
            [
             0.5,
             "#f7f7f7"
            ],
            [
             0.6,
             "#e6f5d0"
            ],
            [
             0.7,
             "#b8e186"
            ],
            [
             0.8,
             "#7fbc41"
            ],
            [
             0.9,
             "#4d9221"
            ],
            [
             1,
             "#276419"
            ]
           ],
           "sequential": [
            [
             0,
             "#0d0887"
            ],
            [
             0.1111111111111111,
             "#46039f"
            ],
            [
             0.2222222222222222,
             "#7201a8"
            ],
            [
             0.3333333333333333,
             "#9c179e"
            ],
            [
             0.4444444444444444,
             "#bd3786"
            ],
            [
             0.5555555555555556,
             "#d8576b"
            ],
            [
             0.6666666666666666,
             "#ed7953"
            ],
            [
             0.7777777777777778,
             "#fb9f3a"
            ],
            [
             0.8888888888888888,
             "#fdca26"
            ],
            [
             1,
             "#f0f921"
            ]
           ],
           "sequentialminus": [
            [
             0,
             "#0d0887"
            ],
            [
             0.1111111111111111,
             "#46039f"
            ],
            [
             0.2222222222222222,
             "#7201a8"
            ],
            [
             0.3333333333333333,
             "#9c179e"
            ],
            [
             0.4444444444444444,
             "#bd3786"
            ],
            [
             0.5555555555555556,
             "#d8576b"
            ],
            [
             0.6666666666666666,
             "#ed7953"
            ],
            [
             0.7777777777777778,
             "#fb9f3a"
            ],
            [
             0.8888888888888888,
             "#fdca26"
            ],
            [
             1,
             "#f0f921"
            ]
           ]
          },
          "colorway": [
           "#636efa",
           "#EF553B",
           "#00cc96",
           "#ab63fa",
           "#FFA15A",
           "#19d3f3",
           "#FF6692",
           "#B6E880",
           "#FF97FF",
           "#FECB52"
          ],
          "font": {
           "color": "#2a3f5f"
          },
          "geo": {
           "bgcolor": "white",
           "lakecolor": "white",
           "landcolor": "#E5ECF6",
           "showlakes": true,
           "showland": true,
           "subunitcolor": "white"
          },
          "hoverlabel": {
           "align": "left"
          },
          "hovermode": "closest",
          "mapbox": {
           "style": "light"
          },
          "paper_bgcolor": "white",
          "plot_bgcolor": "#E5ECF6",
          "polar": {
           "angularaxis": {
            "gridcolor": "white",
            "linecolor": "white",
            "ticks": ""
           },
           "bgcolor": "#E5ECF6",
           "radialaxis": {
            "gridcolor": "white",
            "linecolor": "white",
            "ticks": ""
           }
          },
          "scene": {
           "xaxis": {
            "backgroundcolor": "#E5ECF6",
            "gridcolor": "white",
            "gridwidth": 2,
            "linecolor": "white",
            "showbackground": true,
            "ticks": "",
            "zerolinecolor": "white"
           },
           "yaxis": {
            "backgroundcolor": "#E5ECF6",
            "gridcolor": "white",
            "gridwidth": 2,
            "linecolor": "white",
            "showbackground": true,
            "ticks": "",
            "zerolinecolor": "white"
           },
           "zaxis": {
            "backgroundcolor": "#E5ECF6",
            "gridcolor": "white",
            "gridwidth": 2,
            "linecolor": "white",
            "showbackground": true,
            "ticks": "",
            "zerolinecolor": "white"
           }
          },
          "shapedefaults": {
           "line": {
            "color": "#2a3f5f"
           }
          },
          "ternary": {
           "aaxis": {
            "gridcolor": "white",
            "linecolor": "white",
            "ticks": ""
           },
           "baxis": {
            "gridcolor": "white",
            "linecolor": "white",
            "ticks": ""
           },
           "bgcolor": "#E5ECF6",
           "caxis": {
            "gridcolor": "white",
            "linecolor": "white",
            "ticks": ""
           }
          },
          "title": {
           "x": 0.05
          },
          "xaxis": {
           "automargin": true,
           "gridcolor": "white",
           "linecolor": "white",
           "ticks": "",
           "title": {
            "standoff": 15
           },
           "zerolinecolor": "white",
           "zerolinewidth": 2
          },
          "yaxis": {
           "automargin": true,
           "gridcolor": "white",
           "linecolor": "white",
           "ticks": "",
           "title": {
            "standoff": 15
           },
           "zerolinecolor": "white",
           "zerolinewidth": 2
          }
         }
        },
        "xaxis": {
         "anchor": "y",
         "domain": [
          0,
          1
         ],
         "title": {
          "text": "$(B_{\\mathrm{Hall}} - B_{\\mathrm{NMR}}) / B_{\\mathrm{NMR}}$"
         }
        },
        "yaxis": {
         "anchor": "x",
         "domain": [
          0,
          1
         ],
         "title": {
          "text": "count"
         }
        }
       }
      },
      "text/html": [
       "<div>\n",
       "        \n",
       "        \n",
       "            <div id=\"4d0ba37c-b418-4c5d-a134-8d70673f2326\" class=\"plotly-graph-div\" style=\"height:600px; width:100%;\"></div>\n",
       "            <script type=\"text/javascript\">\n",
       "                require([\"plotly\"], function(Plotly) {\n",
       "                    window.PLOTLYENV=window.PLOTLYENV || {};\n",
       "                    \n",
       "                if (document.getElementById(\"4d0ba37c-b418-4c5d-a134-8d70673f2326\")) {\n",
       "                    Plotly.newPlot(\n",
       "                        '4d0ba37c-b418-4c5d-a134-8d70673f2326',\n",
       "                        [{\"alignmentgroup\": \"True\", \"bingroup\": \"x\", \"hoverlabel\": {\"namelength\": 0}, \"hovertemplate\": \"NMR_avg=0.78<br>6A0000000D61333A_Cal_Res_Rel=%{x}<br>count=%{y}\", \"legendgroup\": \"NMR_avg=0.78\", \"marker\": {\"color\": \"#636efa\"}, \"name\": \"NMR_avg=0.78\", \"offsetgroup\": \"NMR_avg=0.78\", \"orientation\": \"v\", \"showlegend\": true, \"type\": \"histogram\", \"x\": [-0.0008573217689758117, -0.0008492855146524455, -0.0008792466812313644, -0.0008612673498655749, -0.0008731912555826724, -0.0008439622738643266, -0.0008532242248617941, -0.0008464051432240272, -0.0008984280003629162, -0.0008098708708657149, -0.000819615558936388, -0.0008581608960706508, -0.0008527285242203697, -0.0008949484774715284, -0.0008624893194433308, -0.0008636673418811416, -0.0008722851349697403, -0.0008694059913512324, -0.000846413552727604, -0.0008463596205457044, -0.000855707125078892, -0.0008220777771422237, -0.0008590513772759381, -0.0008058892457345198, -0.0008700765375883369, -0.0008266048155768388, -0.0008181430810210887, -0.0008350584878302367, -0.0008096952162204443, -0.0008289945751745058, -0.0008167726341795682, -0.0008125474269333424, -0.0007881039178440419, -0.0008679085801144336, -0.0008488662351957382, -0.0008380851473744457, -0.0008652091342851027, -0.0008630708188641043, -0.0008370817859281128, -0.000851943714098791, -0.0007728271936820566, -0.0008574272927791697, -0.0007955797449359811, -0.0007883704965080146, -0.0008346796826434494, -0.0008650550407516789, -0.0008103837184991787, -0.0008465843083163214, -0.0008552663154328385, -0.0007921492975660065, -0.0008340587505693772, -0.0008257778534127943, -0.0008673073631975493, -0.0008637711567619351, -0.0008368157872359465, -0.00082434484299154, -0.0008467766534674239, -0.0008103181911909839, -0.0008448081974555313, -0.0008314036749669287, -0.0008525336157272714, -0.0008726653444210568, -0.000852752524285445, -0.0008718537079112409, -0.0008564257125256061, -0.000867883464344869, -0.0009097845202013066, -0.0008620604147915828, -0.0008273614959437247, -0.0008535994784814451, -0.0008097963653944213, -0.0008996028378706629, -0.0008284388084982395, -0.0008663654536965928, -0.0008692567530128941, -0.0008395812219750786, -0.0008905630569806984, -0.0008259776340076043, -0.0008649491789641677, -0.0008496113646432202, -0.0008271390475668328, -0.0008391437390180796, -0.0008209678558176231, -0.0007949657450034196, -0.0008290269715675612, -0.0008388477754144154, -0.0008271821731304336, -0.000806812110831284, -0.0008737498932480597, -0.0008447873764823417, -0.0008410811832735329, -0.00088464081552549, -0.0008404204672702131, -0.0008454914506177713, -0.0008519428917661348, -0.000906010058870697, -0.0008676437352627084, -0.0008788697707054522, -0.0008731073953368673, -0.0008864026752174504, -0.0008225405598029183, -0.0008539913361077879, -0.0008291322904576823, -0.0008714120603271077, -0.0008573768239195686, -0.0008675303817740773, -0.0008852498688944753, -0.0009032739166050041, -0.0008288562460321042, -0.0007883471784657346, -0.0008993096910482461, -0.0008605364631570901, -0.0008136058620559373, -0.0008486318813134647, -0.0008580065863381704, -0.0008618907279772402, -0.0008561323390762795, -0.0008570949790150659, -0.0008310453691304163, -0.0008255806561636064, -0.00084039615137435, -0.0008240888840722433, -0.0008355666928355294, -0.0008662700816918158, -0.0008665476807553281, -0.0008588144569512111, -0.0008324518091496698, -0.0008328475504272264, -0.0008852890471201293, -0.000849397372000992, -0.000902632683203913, -0.0008659305768227574, -0.0008215141489198265, -0.0008283143826281598, -0.0008513892883260393, -0.0008647259091633297, -0.0008151119615816173, -0.0008003977531096089, -0.0008518945417668041, -0.0008114530660519871, -0.000824230209816342, -0.0008361667287523086, -0.0008571592052400028, -0.0008420724228512692, -0.0008607505013507734, -0.0008523170030530694, -0.0008931036713575084, -0.0008580729863080408, -0.0008173561465438503, -0.0008596038000992903, -0.0008437925368728435, -0.0008737799877172458, -0.0008283978061093221, -0.0008612943356882601, -0.0008642583590791829, -0.0008069688479419032, -0.0008317543048801049, -0.0008510312336102435, -0.0008229439625039774, -0.0008841400176639245, -0.0008184006431910365, -0.0008321675048115427, -0.0008519913173703848, -0.0008721630316918752, -0.0008381326397235281, -0.0008658888577237596, -0.0008488319196005984, -0.0008744654440414988, -0.0008532555990620219, -0.0008988260536000173, -0.0008063586489824265, -0.0008804970430833115, -0.0008671313877150589, -0.000815121990256043, -0.0008615255300321186, -0.0008529476289606191, -0.0008598926629292832, -0.000886362567950636, -0.0008338100198779098, -0.0007980903648839836, -0.0008447550188201392, -0.0008804456871924172, -0.000887769409377354, -0.0008382197496730739, -0.0008283510268151631, -0.0008767159642832588, -0.0008612257293340258, -0.0008693716388798519, -0.000840751903989937, -0.0008568081349632468, -0.0008665155628261274, -0.0008654983622326742, -0.0008959191717671493, -0.0008562280195844079, -0.0008546024297624947, -0.0008630577893563312, -0.0008558994528343925, -0.0008733518738648128, -0.0008940145536977686, -0.0008366750863951546, -0.0008347717717198514, -0.0008580458647272179, -0.0008596736898076293, -0.0008180950800368081, -0.0008527407456786527, -0.000824231346880187, -0.0008111307112459769, -0.0008384230862542101, -0.0008485016965154394, -0.0008436715730270975, -0.0008169044562196179, -0.0008243260337725902, -0.0008420114229194075, -0.0008485805246291357, -0.0008945296442249145, -0.000873433916028435, -0.0008689781028624289, -0.0008513978826635214, -0.000824143425151852, -0.0009040507780573393, -0.0008425750647707991, -0.0008283882380444256, -0.0008394872172031025, -0.0008655935063154947, -0.0008462603060326095, -0.0008532867515871508, -0.0008673576000112322, -0.0008220580826646296, -0.0008709293405438035, -0.0008517260775417158, -0.000886946595354606, -0.0008781222764858999, -0.0008047195218159926, -0.0008427494593973088, -0.0008856280080752982, -0.0008536754854369828, -0.0008456075360136216, -0.0008433130978123973, -0.0008494008852672245, -0.0008305652075176444, -0.0009243822675248822, -0.000811251785268777, -0.00087580950403177, -0.0008581764378348392, -0.0008405894146309195, -0.0008389929226308061, -0.0008972051011864621, -0.000849142506430124, -0.0008837665892375175, -0.0008333170573940554, -0.0008273327410239411, -0.0008649429026876647, -0.0008122444079294829, -0.0008766401981647954, -0.0008614543825303559, -0.0008347352501433786, -0.0008853729852924864, -0.0008667160803045379, -0.0008333204780380795, -0.0008340909379340778, -0.0008404379009794514, -0.0008455491149070961, -0.0008549847395526258, -0.0008516721707472874, -0.0008097432622326911, -0.0008490047390339739, -0.0008797052016319009, -0.0008550159683053835, -0.0008829544203467355, -0.0008258716300046977, -0.0008336845309764604, -0.0009016389119905966, -0.0008434277076107644, -0.0008736943484193046, -0.0008634617193173018, -0.0008445659431795558, -0.0008582417279118759, -0.0008560474322345769, -0.0009206476337575268, -0.0008627351832308809, -0.000870993568070446, -0.0008518780676884859, -0.0008834511841638508, -0.0008078363346678103, -0.0008576652581310637, -0.0008436265697413754, -0.0008019869572683101, -0.0008418833217019355, -0.0008511447686443634, -0.0008760534021855815, -0.0008097256113913922, -0.0008634373682404024, -0.0008902793259529036, -0.0008322184866343269, -0.0008063364346707319, -0.0008819322968846474, -0.0008386536431193381, -0.0008512193613745881, -0.0008639799508155542, -0.0008371424952308786, -0.0008672573373118717, -0.0008492791756311385, -0.0008828664830598969, -0.0008370887532100726, -0.000862659148342311, -0.0008487087714666748, -0.0008718502920471655, -0.0007908905121831847, -0.0008416181576375506, -0.0008747241153389617, -0.0008571590252359577, -0.0008498669361540322, -0.0008841398287976828, -0.0008307042657684726, -0.0008311908203760268, -0.000838703469860876, -0.0008386350240405589, -0.0009052930050760065, -0.0008577769020623525, -0.0008413251969253925, -0.0008222505128765953, -0.0008387282484702903, -0.0008305174565690654, -0.0008329874201917139, -0.0008550600981881218, -0.0008495735140391906, -0.0008626199613334111, -0.0008498419614159424, -0.0009042411291772043, -0.0008674792502745686, -0.0008214020440937458, -0.0008452005261273314, -0.0008949458293971373, -0.000887196013994994, -0.0008676457933039062, -0.0008475316065697912, -0.0008476356586437992, -0.0008253273572842884, -0.0008486979534208701, -0.0008677355403607216, -0.0008817471411393732, -0.0008453442211344089, -0.0008423165565400623, -0.0008657091615609948, -0.0008249972150843057, -0.0008478516251928356, -0.0008697739213742489, -0.0008286227090108172, -0.000874899095593748, -0.0008428761398902763, -0.0008597456870674534, -0.0008902921099747749, -0.0008479485906993688, -0.0008966616917266995, -0.0009048969210977296, -0.0008688368965320982, -0.0008480530167550382, -0.0008712188405745132, -0.0008280975105009221, -0.0008579534357630279, -0.0008715587418651996, -0.0008658735672344567, -0.0008969572410428126, -0.0008326973799606195, -0.0008810021788553435, -0.0008693820642533773, -0.0008624742604462465, -0.0008684771786342787, -0.0007934227300259311, -0.0008662986328092327, -0.0008685862922503427, -0.0008212182558089372, -0.0008358043114869583, -0.0008461687548295374, -0.0008721162142777472, -0.0008393300539140982, -0.0008416056920597715, -0.0008463349211547007, -0.0008307188514993948, -0.0007992815052947908, -0.000859589348107968, -0.0008266144525856642, -0.0008480165688572259, -0.0008036607256022821, -0.000887612152407582, -0.0008348688844883578, -0.0008228949282757844, -0.0008378689514927059, -0.0008793023435725615, -0.0008414360827576891, -0.0008763738428874769, -0.0008249976090512854, -0.0008553449665896483, -0.0008727318225346133, -0.0008778994137197098, -0.0008410977586767841, -0.0008309317776143657, -0.0008441606183904777, -0.0008666935206940565, -0.0008210980178182342, -0.0008676119002729264, -0.0008639488865391391, -0.0009189353854320759, -0.0008836285953863695, -0.0008467579668528213, -0.0008761056362662285, -0.0008594711449088247, -0.0008754012509678349, -0.000833047208356565, -0.0008783288968348358, -0.0009285032017461152, -0.0009123252652338834, -0.0008344070887730978, -0.0008207455160820826, -0.0008300364891796076, -0.0008992784351358498, -0.0008773942248084009, -0.0008381612649660167, -0.0008257901158281699, -0.0007960157698156429, -0.0008603603198994976, -0.0008779622898884367, -0.000856276955927257, -0.0008396440446460658, -0.000800507712902763, -0.0008416676050224312, -0.0008810752635870632, -0.0008242880288909887, -0.0008732707134575126, -0.000849396519512334, -0.0008258074798022455, -0.0008423676077121234, -0.0008161049344863036, -0.0008336269172689638, -0.0008426255550615336, -0.0008677469763611096, -0.0008361317033602744, -0.000798426382744754, -0.0008648315321344066, -0.0008566774686927524, -0.0009013661942717919, -0.0007988536256033879, -0.0008344306902038407, -0.0008621184921541336, -0.0008326561754670924, -0.0008353676209650444, -0.0008487016394903948, -0.0008667377684158362, -0.0008159638527921025, -0.0008153564818636041, -0.0008713974518868073, -0.0008389271003872274, -0.0008417865286247288, -0.0008694683370453032, -0.0008292501472018331, -0.000886967713903307, -0.0008856596620295439, -0.0008484261292084003, -0.0008681898133224392, -0.000859071439156643, -0.0008237657497313259, -0.0008445812865157658, -0.0008759638919369386, -0.0008738960375178723, -0.0008657528724008712, -0.0008620738391995773, -0.0008554447264978791, -0.0008378734276469881, -0.0008319991560038175, -0.0008710423049140178, -0.0008197257067607748, -0.0008637058533055206, -0.0008279754258688745, -0.0008610525450694806, -0.0008501475494518752, -0.0008459440976118346, -0.0008841981306520895, -0.0008669097527582992, -0.0008468925932915698, -0.0008574934153097164, -0.0008118036291392991, -0.0008562067239167871, -0.0008758993462021403, -0.0008186931178312436, -0.0008840657388596104, -0.000862061690952469, -0.0008433487601533973, -0.000864008096054627, -0.000843531954604685, -0.0008523142957552465, -0.0008701845776135565, -0.0008191330084878166, -0.0008287300927979975, -0.0008402495518197769, -0.0008542858808025657, -0.000843478134786013, -0.0008612540565729098, -0.0008346237873202889, -0.0008674710748462702, -0.0008601985896418309, -0.0008602726236361693, -0.0008606496858901443, -0.0008394406564453277, -0.0008263668793101397, -0.0008293900520894232, -0.000849259819067299, -0.0008238986430257793, -0.0008112346043326397, -0.0008451368073207292, -0.0008206896611865251, -0.0008389633662890299, -0.0008383926447163451, -0.0008930448651237233, -0.0008581552902749814, -0.0008553792712297089, -0.0008611698858023989, -0.0008807643748666907, -0.0008375128188044989, -0.0008732757870847996, -0.0008913027099778795, -0.0008802868887916914, -0.0008537814611382694, -0.000803821871434943, -0.0008992191494285811, -0.0008766927162404703, -0.0008190277242543814, -0.0008497987658730271, -0.0008573560865289517, -0.0008276375077693924, -0.0008456625936579399, -0.0008763203643649788, -0.0008365360174117485, -0.000838921444657345, -0.000856408741758887, -0.0008348235485146325, -0.0008567036962787861, -0.0008566708330473241, -0.0008648300085743906, -0.0008756883142351456, -0.0008630784513871259, -0.0008743557095325992, -0.0008715002794565731, -0.0008716489404914201, -0.0009010668782351779, -0.0008625758276893067, -0.0008928974747694802, -0.0008477547920831842, -0.0008110113209080101, -0.0008518425653761708, -0.0008196796852910533, -0.0008928846150723861, -0.0008570201336034687, -0.0008742225402393831, -0.0008523364199148851, -0.0008944154992077701, -0.0008394495176569985, -0.0008422118526126336, -0.0008425206736941244, -0.0008688345358161442, -0.0008337520388137954, -0.0008584645030895591, -0.000884491142532505, -0.00088950292054322, -0.000824160395279352, -0.0008534124624652171, -0.0008489756677096468, -0.0008432458429554841, -0.0008581266365610046, -0.0008905777817003661, -0.0008659022101281915, -0.0008814528578210523, -0.0008378094814604555, -0.000912081736916186, -0.0008830851946396692, -0.0008891810436134513, -0.0008217369654217253, -0.0008249190432908124, -0.0008556284686450334, -0.0008324281366176841, -0.0008686106991897575, -0.0008766291276087082, -0.0008740591962716646, -0.000863526743323571, -0.0008362245286486742, -0.0008270389489475492, -0.0008948755665285238, -0.0008927726938099904, -0.0009007506716399123, -0.0008398526117821266, -0.0008357125694783287, -0.0008670775687187434, -0.0008420923378938979, -0.0008712183500268064, -0.0008252376707161292, -0.0009024276130179328, -0.0009041920672565158, -0.000868534783620016, -0.0009045949407706839, -0.0008667737861427205, -0.0008630187814811832, -0.0008780796103356138, -0.0008549296237692557, -0.0008191790912299298, -0.0008537638233438055, -0.0008739994446015257, -0.000847281400508373, -0.0008567875493388771, -0.000846643706847225], \"xaxis\": \"x\", \"yaxis\": \"y\"}, {\"alignmentgroup\": \"True\", \"bingroup\": \"x\", \"hoverlabel\": {\"namelength\": 0}, \"hovertemplate\": \"NMR_avg=0.82<br>6A0000000D61333A_Cal_Res_Rel=%{x}<br>count=%{y}\", \"legendgroup\": \"NMR_avg=0.82\", \"marker\": {\"color\": \"#EF553B\"}, \"name\": \"NMR_avg=0.82\", \"offsetgroup\": \"NMR_avg=0.82\", \"orientation\": \"v\", \"showlegend\": true, \"type\": \"histogram\", \"x\": [-0.0009124981129615931, -0.0009092802765505026, -0.0008617590206016836, -0.0008762387245085848, -0.0008615761551986515, -0.0008457576413719946, -0.000856234912162534, -0.000889635377774423, -0.0008772387524800908, -0.0008666784736903908, -0.0009023749057611092, -0.0008917365096028305, -0.0009056628299541137, -0.0008994969991913586, -0.0009133134830094921, -0.0008833817833022655, -0.0008760438386787, -0.0008542193528065379, -0.0008446185197150722, -0.000864598555636968, -0.0009058108019215385, -0.0008517986811272046, -0.0009046029391008312, -0.0008836151301680093, -0.0008845254692421561, -0.0008962797555400815, -0.000887628860657634, -0.0008889654981212162, -0.0008731884517774671, -0.0008591816232510896, -0.0009412768520948371, -0.0009081596843169374, -0.000895607910808122, -0.0008868510386656229, -0.0008719340357496904, -0.0008726079073627951, -0.0008893356078020477, -0.0008836536598741346, -0.0008991520026070777, -0.0008702980415143183, -0.0009084706478342427, -0.0008629500111040615, -0.0008848902303030856, -0.0008537858348341014, -0.000867583515732533, -0.0008792448590044721, -0.0008417196352630198, -0.000905789082768445, -0.0008657333949916645, -0.0009140308332663941, -0.0008675105273006369, -0.0008807108797728599, -0.0009118816968294178, -0.000870301589990536, -0.0008644941539289963, -0.0008934086485562105, -0.0008523851263258273, -0.0008878684869262426, -0.000897701069000929, -0.0008804690385721599, -0.0008640666648532857, -0.0008713630640176485, -0.0008371329476172431, -0.000855761337394499, -0.000847416847014021, -0.0008996753039396384, -0.0008672079015894894, -0.0008620351673741282, -0.0009050737220706823, -0.0008927705451882963, -0.0008751623548489798, -0.0008807390402992259, -0.0009139136077473708, -0.0008471775272324114, -0.0008829490750718472, -0.0008561669996642594, -0.0009136866293325629, -0.000853423387660035, -0.0008683452056046953, -0.0008700465882655472, -0.0009091563845604768, -0.0008253361072464813, -0.0009007799507579192, -0.0009025843447110668, -0.0008936804034145777, -0.000929578777956831, -0.0008759757562890532, -0.0008658862237138857, -0.0008890669005576562, -0.0009229749558713279, -0.000905542444520433, -0.0008816657887032423, -0.00086639501380944], \"xaxis\": \"x\", \"yaxis\": \"y\"}],\n",
       "                        {\"barmode\": \"relative\", \"height\": 600, \"legend\": {\"tracegroupgap\": 0}, \"margin\": {\"t\": 60}, \"template\": {\"data\": {\"bar\": [{\"error_x\": {\"color\": \"#2a3f5f\"}, \"error_y\": {\"color\": \"#2a3f5f\"}, \"marker\": {\"line\": {\"color\": \"#E5ECF6\", \"width\": 0.5}}, \"type\": \"bar\"}], \"barpolar\": [{\"marker\": {\"line\": {\"color\": \"#E5ECF6\", \"width\": 0.5}}, \"type\": \"barpolar\"}], \"carpet\": [{\"aaxis\": {\"endlinecolor\": \"#2a3f5f\", \"gridcolor\": \"white\", \"linecolor\": \"white\", \"minorgridcolor\": \"white\", \"startlinecolor\": \"#2a3f5f\"}, \"baxis\": {\"endlinecolor\": \"#2a3f5f\", \"gridcolor\": \"white\", \"linecolor\": \"white\", \"minorgridcolor\": \"white\", \"startlinecolor\": \"#2a3f5f\"}, \"type\": \"carpet\"}], \"choropleth\": [{\"colorbar\": {\"outlinewidth\": 0, \"ticks\": \"\"}, \"type\": \"choropleth\"}], \"contour\": [{\"colorbar\": {\"outlinewidth\": 0, \"ticks\": \"\"}, \"colorscale\": [[0.0, \"#0d0887\"], [0.1111111111111111, \"#46039f\"], [0.2222222222222222, \"#7201a8\"], [0.3333333333333333, \"#9c179e\"], [0.4444444444444444, \"#bd3786\"], [0.5555555555555556, \"#d8576b\"], [0.6666666666666666, \"#ed7953\"], [0.7777777777777778, \"#fb9f3a\"], [0.8888888888888888, \"#fdca26\"], [1.0, \"#f0f921\"]], \"type\": \"contour\"}], \"contourcarpet\": [{\"colorbar\": {\"outlinewidth\": 0, \"ticks\": \"\"}, \"type\": \"contourcarpet\"}], \"heatmap\": [{\"colorbar\": {\"outlinewidth\": 0, \"ticks\": \"\"}, \"colorscale\": [[0.0, \"#0d0887\"], [0.1111111111111111, \"#46039f\"], [0.2222222222222222, \"#7201a8\"], [0.3333333333333333, \"#9c179e\"], [0.4444444444444444, \"#bd3786\"], [0.5555555555555556, \"#d8576b\"], [0.6666666666666666, \"#ed7953\"], [0.7777777777777778, \"#fb9f3a\"], [0.8888888888888888, \"#fdca26\"], [1.0, \"#f0f921\"]], \"type\": \"heatmap\"}], \"heatmapgl\": [{\"colorbar\": {\"outlinewidth\": 0, \"ticks\": \"\"}, \"colorscale\": [[0.0, \"#0d0887\"], [0.1111111111111111, \"#46039f\"], [0.2222222222222222, \"#7201a8\"], [0.3333333333333333, \"#9c179e\"], [0.4444444444444444, \"#bd3786\"], [0.5555555555555556, \"#d8576b\"], [0.6666666666666666, \"#ed7953\"], [0.7777777777777778, \"#fb9f3a\"], [0.8888888888888888, \"#fdca26\"], [1.0, \"#f0f921\"]], \"type\": \"heatmapgl\"}], \"histogram\": [{\"marker\": {\"colorbar\": {\"outlinewidth\": 0, \"ticks\": \"\"}}, \"type\": \"histogram\"}], \"histogram2d\": [{\"colorbar\": {\"outlinewidth\": 0, \"ticks\": \"\"}, \"colorscale\": [[0.0, \"#0d0887\"], [0.1111111111111111, \"#46039f\"], [0.2222222222222222, \"#7201a8\"], [0.3333333333333333, \"#9c179e\"], [0.4444444444444444, \"#bd3786\"], [0.5555555555555556, \"#d8576b\"], [0.6666666666666666, \"#ed7953\"], [0.7777777777777778, \"#fb9f3a\"], [0.8888888888888888, \"#fdca26\"], [1.0, \"#f0f921\"]], \"type\": \"histogram2d\"}], \"histogram2dcontour\": [{\"colorbar\": {\"outlinewidth\": 0, \"ticks\": \"\"}, \"colorscale\": [[0.0, \"#0d0887\"], [0.1111111111111111, \"#46039f\"], [0.2222222222222222, \"#7201a8\"], [0.3333333333333333, \"#9c179e\"], [0.4444444444444444, \"#bd3786\"], [0.5555555555555556, \"#d8576b\"], [0.6666666666666666, \"#ed7953\"], [0.7777777777777778, \"#fb9f3a\"], [0.8888888888888888, \"#fdca26\"], [1.0, \"#f0f921\"]], \"type\": \"histogram2dcontour\"}], \"mesh3d\": [{\"colorbar\": {\"outlinewidth\": 0, \"ticks\": \"\"}, \"type\": \"mesh3d\"}], \"parcoords\": [{\"line\": {\"colorbar\": {\"outlinewidth\": 0, \"ticks\": \"\"}}, \"type\": \"parcoords\"}], \"pie\": [{\"automargin\": true, \"type\": \"pie\"}], \"scatter\": [{\"marker\": {\"colorbar\": {\"outlinewidth\": 0, \"ticks\": \"\"}}, \"type\": \"scatter\"}], \"scatter3d\": [{\"line\": {\"colorbar\": {\"outlinewidth\": 0, \"ticks\": \"\"}}, \"marker\": {\"colorbar\": {\"outlinewidth\": 0, \"ticks\": \"\"}}, \"type\": \"scatter3d\"}], \"scattercarpet\": [{\"marker\": {\"colorbar\": {\"outlinewidth\": 0, \"ticks\": \"\"}}, \"type\": \"scattercarpet\"}], \"scattergeo\": [{\"marker\": {\"colorbar\": {\"outlinewidth\": 0, \"ticks\": \"\"}}, \"type\": \"scattergeo\"}], \"scattergl\": [{\"marker\": {\"colorbar\": {\"outlinewidth\": 0, \"ticks\": \"\"}}, \"type\": \"scattergl\"}], \"scattermapbox\": [{\"marker\": {\"colorbar\": {\"outlinewidth\": 0, \"ticks\": \"\"}}, \"type\": \"scattermapbox\"}], \"scatterpolar\": [{\"marker\": {\"colorbar\": {\"outlinewidth\": 0, \"ticks\": \"\"}}, \"type\": \"scatterpolar\"}], \"scatterpolargl\": [{\"marker\": {\"colorbar\": {\"outlinewidth\": 0, \"ticks\": \"\"}}, \"type\": \"scatterpolargl\"}], \"scatterternary\": [{\"marker\": {\"colorbar\": {\"outlinewidth\": 0, \"ticks\": \"\"}}, \"type\": \"scatterternary\"}], \"surface\": [{\"colorbar\": {\"outlinewidth\": 0, \"ticks\": \"\"}, \"colorscale\": [[0.0, \"#0d0887\"], [0.1111111111111111, \"#46039f\"], [0.2222222222222222, \"#7201a8\"], [0.3333333333333333, \"#9c179e\"], [0.4444444444444444, \"#bd3786\"], [0.5555555555555556, \"#d8576b\"], [0.6666666666666666, \"#ed7953\"], [0.7777777777777778, \"#fb9f3a\"], [0.8888888888888888, \"#fdca26\"], [1.0, \"#f0f921\"]], \"type\": \"surface\"}], \"table\": [{\"cells\": {\"fill\": {\"color\": \"#EBF0F8\"}, \"line\": {\"color\": \"white\"}}, \"header\": {\"fill\": {\"color\": \"#C8D4E3\"}, \"line\": {\"color\": \"white\"}}, \"type\": \"table\"}]}, \"layout\": {\"annotationdefaults\": {\"arrowcolor\": \"#2a3f5f\", \"arrowhead\": 0, \"arrowwidth\": 1}, \"coloraxis\": {\"colorbar\": {\"outlinewidth\": 0, \"ticks\": \"\"}}, \"colorscale\": {\"diverging\": [[0, \"#8e0152\"], [0.1, \"#c51b7d\"], [0.2, \"#de77ae\"], [0.3, \"#f1b6da\"], [0.4, \"#fde0ef\"], [0.5, \"#f7f7f7\"], [0.6, \"#e6f5d0\"], [0.7, \"#b8e186\"], [0.8, \"#7fbc41\"], [0.9, \"#4d9221\"], [1, \"#276419\"]], \"sequential\": [[0.0, \"#0d0887\"], [0.1111111111111111, \"#46039f\"], [0.2222222222222222, \"#7201a8\"], [0.3333333333333333, \"#9c179e\"], [0.4444444444444444, \"#bd3786\"], [0.5555555555555556, \"#d8576b\"], [0.6666666666666666, \"#ed7953\"], [0.7777777777777778, \"#fb9f3a\"], [0.8888888888888888, \"#fdca26\"], [1.0, \"#f0f921\"]], \"sequentialminus\": [[0.0, \"#0d0887\"], [0.1111111111111111, \"#46039f\"], [0.2222222222222222, \"#7201a8\"], [0.3333333333333333, \"#9c179e\"], [0.4444444444444444, \"#bd3786\"], [0.5555555555555556, \"#d8576b\"], [0.6666666666666666, \"#ed7953\"], [0.7777777777777778, \"#fb9f3a\"], [0.8888888888888888, \"#fdca26\"], [1.0, \"#f0f921\"]]}, \"colorway\": [\"#636efa\", \"#EF553B\", \"#00cc96\", \"#ab63fa\", \"#FFA15A\", \"#19d3f3\", \"#FF6692\", \"#B6E880\", \"#FF97FF\", \"#FECB52\"], \"font\": {\"color\": \"#2a3f5f\"}, \"geo\": {\"bgcolor\": \"white\", \"lakecolor\": \"white\", \"landcolor\": \"#E5ECF6\", \"showlakes\": true, \"showland\": true, \"subunitcolor\": \"white\"}, \"hoverlabel\": {\"align\": \"left\"}, \"hovermode\": \"closest\", \"mapbox\": {\"style\": \"light\"}, \"paper_bgcolor\": \"white\", \"plot_bgcolor\": \"#E5ECF6\", \"polar\": {\"angularaxis\": {\"gridcolor\": \"white\", \"linecolor\": \"white\", \"ticks\": \"\"}, \"bgcolor\": \"#E5ECF6\", \"radialaxis\": {\"gridcolor\": \"white\", \"linecolor\": \"white\", \"ticks\": \"\"}}, \"scene\": {\"xaxis\": {\"backgroundcolor\": \"#E5ECF6\", \"gridcolor\": \"white\", \"gridwidth\": 2, \"linecolor\": \"white\", \"showbackground\": true, \"ticks\": \"\", \"zerolinecolor\": \"white\"}, \"yaxis\": {\"backgroundcolor\": \"#E5ECF6\", \"gridcolor\": \"white\", \"gridwidth\": 2, \"linecolor\": \"white\", \"showbackground\": true, \"ticks\": \"\", \"zerolinecolor\": \"white\"}, \"zaxis\": {\"backgroundcolor\": \"#E5ECF6\", \"gridcolor\": \"white\", \"gridwidth\": 2, \"linecolor\": \"white\", \"showbackground\": true, \"ticks\": \"\", \"zerolinecolor\": \"white\"}}, \"shapedefaults\": {\"line\": {\"color\": \"#2a3f5f\"}}, \"ternary\": {\"aaxis\": {\"gridcolor\": \"white\", \"linecolor\": \"white\", \"ticks\": \"\"}, \"baxis\": {\"gridcolor\": \"white\", \"linecolor\": \"white\", \"ticks\": \"\"}, \"bgcolor\": \"#E5ECF6\", \"caxis\": {\"gridcolor\": \"white\", \"linecolor\": \"white\", \"ticks\": \"\"}}, \"title\": {\"x\": 0.05}, \"xaxis\": {\"automargin\": true, \"gridcolor\": \"white\", \"linecolor\": \"white\", \"ticks\": \"\", \"title\": {\"standoff\": 15}, \"zerolinecolor\": \"white\", \"zerolinewidth\": 2}, \"yaxis\": {\"automargin\": true, \"gridcolor\": \"white\", \"linecolor\": \"white\", \"ticks\": \"\", \"title\": {\"standoff\": 15}, \"zerolinecolor\": \"white\", \"zerolinewidth\": 2}}}, \"xaxis\": {\"anchor\": \"y\", \"domain\": [0.0, 1.0], \"title\": {\"text\": \"$(B_{\\\\mathrm{Hall}} - B_{\\\\mathrm{NMR}}) / B_{\\\\mathrm{NMR}}$\"}}, \"yaxis\": {\"anchor\": \"x\", \"domain\": [0.0, 1.0], \"title\": {\"text\": \"count\"}}},\n",
       "                        {\"responsive\": true}\n",
       "                    ).then(function(){\n",
       "                            \n",
       "var gd = document.getElementById('4d0ba37c-b418-4c5d-a134-8d70673f2326');\n",
       "var x = new MutationObserver(function (mutations, observer) {{\n",
       "        var display = window.getComputedStyle(gd).display;\n",
       "        if (!display || display === 'none') {{\n",
       "            console.log([gd, 'removed!']);\n",
       "            Plotly.purge(gd);\n",
       "            observer.disconnect();\n",
       "        }}\n",
       "}});\n",
       "\n",
       "// Listen for the removal of the full notebook cells\n",
       "var notebookContainer = gd.closest('#notebook-container');\n",
       "if (notebookContainer) {{\n",
       "    x.observe(notebookContainer, {childList: true});\n",
       "}}\n",
       "\n",
       "// Listen for the clearing of the current output cell\n",
       "var outputEl = gd.closest('.output');\n",
       "if (outputEl) {{\n",
       "    x.observe(outputEl, {childList: true});\n",
       "}}\n",
       "\n",
       "                        })\n",
       "                };\n",
       "                });\n",
       "            </script>\n",
       "        </div>"
      ]
     },
     "metadata": {},
     "output_type": "display_data"
    }
   ],
   "source": [
    "fig = px.histogram(df, x=f\"{probe}_Cal_Res_Rel\", color=\"NMR_avg\")\n",
    "fig.update_layout(xaxis_title=r\"$(B_{\\mathrm{Hall}} - B_{\\mathrm{NMR}}) / B_{\\mathrm{NMR}}$\")"
   ]
  },
  {
   "cell_type": "code",
   "execution_count": 46,
   "metadata": {},
   "outputs": [],
   "source": [
    "pio.write_image(fig, plotdir+\"histo/hist_res_rel_color.pdf\")\n",
    "pio.write_image(fig, plotdir+\"histo/hist_res_rel_color.png\")"
   ]
  },
  {
   "cell_type": "code",
   "execution_count": 53,
   "metadata": {},
   "outputs": [],
   "source": [
    "fig = scatter2d(df[\"NMR [T]\"], df[f\"{probe}_Cal_Res_Rel\"], size_list=4, lines=False, markers=True, show_plot=False)\n",
    "fig.update_layout(yaxis_title=r\"$(B_{\\mathrm{Hall}} - B_{\\mathrm{NMR}}) / B_{\\mathrm{NMR}}$\")\n",
    "fig.update_layout(xaxis_title=r\"$B_{\\mathrm{NMR}} [\\mathrm{T}]$\")\n",
    "fig.update_layout(showlegend=False)\n",
    "pio.write_image(fig, plotdir+\"time/res_rel_vs_NMR.pdf\")\n",
    "pio.write_image(fig, plotdir+\"time/res_rel_vs_NMR.png\")"
   ]
  },
  {
   "cell_type": "code",
   "execution_count": null,
   "metadata": {},
   "outputs": [],
   "source": []
  },
  {
   "cell_type": "code",
   "execution_count": null,
   "metadata": {},
   "outputs": [],
   "source": []
  },
  {
   "cell_type": "code",
   "execution_count": null,
   "metadata": {},
   "outputs": [],
   "source": []
  },
  {
   "cell_type": "code",
   "execution_count": null,
   "metadata": {},
   "outputs": [],
   "source": []
  },
  {
   "cell_type": "code",
   "execution_count": 111,
   "metadata": {},
   "outputs": [],
   "source": [
    "fig = scatter2d(df[\"NMR [T]\"],df[f\"{probe}_Cal_Res_Rel\"], size_list=4, lines=False, markers=True, inline=False)"
   ]
  },
  {
   "cell_type": "code",
   "execution_count": 114,
   "metadata": {},
   "outputs": [],
   "source": [
    "fig = scatter2d(df[\"NMR [T]\"],df[f\"{probe}_Cal_Res\"], size_list=4, lines=False, markers=True, inline=False)"
   ]
  },
  {
   "cell_type": "code",
   "execution_count": 112,
   "metadata": {},
   "outputs": [],
   "source": [
    "fig = histo(df[f\"{probe}_Cal_Res_Rel\"], bins=50, inline=False)"
   ]
  },
  {
   "cell_type": "code",
   "execution_count": 113,
   "metadata": {},
   "outputs": [],
   "source": [
    "fig = histo(df[f\"{probe}_Cal_Res\"], bins=50, inline=False)"
   ]
  },
  {
   "cell_type": "code",
   "execution_count": null,
   "metadata": {},
   "outputs": [],
   "source": []
  },
  {
   "cell_type": "code",
   "execution_count": null,
   "metadata": {},
   "outputs": [],
   "source": []
  },
  {
   "cell_type": "code",
   "execution_count": 74,
   "metadata": {},
   "outputs": [],
   "source": [
    "fig = scatter2d(df[f\"{probe}_Cal_T\"], df[\"NMR [T]\"], lines=False, markers=True, inline=False)"
   ]
  },
  {
   "cell_type": "code",
   "execution_count": null,
   "metadata": {},
   "outputs": [],
   "source": [
    "fig = scatter2d(df[\"Yoke (center magnet)\"], df[\"NMR [T]\"], lines=False, markers=True, inline=False)"
   ]
  },
  {
   "cell_type": "code",
   "execution_count": null,
   "metadata": {},
   "outputs": [],
   "source": [
    "fig = scatter2d(df[\"Magnet Current [A]\"], df[\"NMR [T]\"], size_list=6, lines=False, markers=True, inline=False)"
   ]
  },
  {
   "cell_type": "code",
   "execution_count": null,
   "metadata": {},
   "outputs": [],
   "source": []
  },
  {
   "cell_type": "code",
   "execution_count": null,
   "metadata": {},
   "outputs": [],
   "source": []
  },
  {
   "cell_type": "code",
   "execution_count": null,
   "metadata": {},
   "outputs": [],
   "source": []
  },
  {
   "cell_type": "code",
   "execution_count": null,
   "metadata": {},
   "outputs": [],
   "source": []
  },
  {
   "cell_type": "code",
   "execution_count": null,
   "metadata": {},
   "outputs": [],
   "source": []
  },
  {
   "cell_type": "code",
   "execution_count": 75,
   "metadata": {},
   "outputs": [],
   "source": [
    "fig = scatter2d(df[\"Magnet Current [A]\"], df[f\"{probe}_Cal_Bmag\"], size_list=6, lines=False, markers=True, inline=False)"
   ]
  },
  {
   "cell_type": "code",
   "execution_count": null,
   "metadata": {},
   "outputs": [],
   "source": []
  },
  {
   "cell_type": "code",
   "execution_count": 76,
   "metadata": {},
   "outputs": [],
   "source": [
    "x = df[\"Magnet Current [A]\"]\n",
    "y = df[f\"{probe}_Cal_Bmag\"]"
   ]
  },
  {
   "cell_type": "code",
   "execution_count": 80,
   "metadata": {},
   "outputs": [],
   "source": [
    "G = np.concatenate([x, np.ones_like(x)]).reshape(2, -1).T"
   ]
  },
  {
   "cell_type": "code",
   "execution_count": 81,
   "metadata": {},
   "outputs": [
    {
     "data": {
      "text/plain": [
       "(768, 2)"
      ]
     },
     "execution_count": 81,
     "metadata": {},
     "output_type": "execute_result"
    }
   ],
   "source": [
    "G.shape"
   ]
  },
  {
   "cell_type": "code",
   "execution_count": 88,
   "metadata": {},
   "outputs": [],
   "source": [
    "GtGinv_Gt = np.linalg.inv(G.T @ G) @ G.T"
   ]
  },
  {
   "cell_type": "code",
   "execution_count": 91,
   "metadata": {},
   "outputs": [],
   "source": [
    "m = np.dot(GtGinv_Gt, y)"
   ]
  },
  {
   "cell_type": "code",
   "execution_count": 92,
   "metadata": {},
   "outputs": [
    {
     "data": {
      "text/plain": [
       "array([0.00508539, 0.09101716])"
      ]
     },
     "execution_count": 92,
     "metadata": {},
     "output_type": "execute_result"
    }
   ],
   "source": [
    "m"
   ]
  },
  {
   "cell_type": "code",
   "execution_count": 93,
   "metadata": {},
   "outputs": [],
   "source": [
    "xs = np.linspace(0, x.max(), 100)\n",
    "ys = m[0] * xs + m[1]"
   ]
  },
  {
   "cell_type": "code",
   "execution_count": 95,
   "metadata": {},
   "outputs": [],
   "source": [
    "xs = pd.Series(xs, name=\"xs\")\n",
    "ys = pd.Series(ys, name=\"ys\")"
   ]
  },
  {
   "cell_type": "code",
   "execution_count": 104,
   "metadata": {},
   "outputs": [],
   "source": [
    "fig = scatter2d(x, y, size_list=4, lines=False, markers=True, inline=False, show_plot=False)\n",
    "fig.add_trace(go.Scatter(x=xs, y=ys, name='Fit', opacity=0.5,\n",
    "                         line=dict(color='firebrick', width=1,\n",
    "                                   dash='dash')));\n",
    "#fig2 = scatter2d(xs, ys, inline=False, show_plot=False)\n",
    "#fig2. \n",
    "#fig.add_traces([fig2.data[0]]);"
   ]
  },
  {
   "cell_type": "code",
   "execution_count": 105,
   "metadata": {},
   "outputs": [
    {
     "data": {
      "text/plain": [
       "'temp-plot.html'"
      ]
     },
     "execution_count": 105,
     "metadata": {},
     "output_type": "execute_result"
    }
   ],
   "source": [
    "plot(fig)"
   ]
  },
  {
   "cell_type": "code",
   "execution_count": null,
   "metadata": {},
   "outputs": [],
   "source": []
  },
  {
   "cell_type": "code",
   "execution_count": null,
   "metadata": {},
   "outputs": [],
   "source": []
  },
  {
   "cell_type": "code",
   "execution_count": null,
   "metadata": {},
   "outputs": [],
   "source": []
  },
  {
   "cell_type": "code",
   "execution_count": 87,
   "metadata": {},
   "outputs": [
    {
     "data": {
      "text/plain": [
       "(768,)"
      ]
     },
     "execution_count": 87,
     "metadata": {},
     "output_type": "execute_result"
    }
   ],
   "source": [
    "y.shape"
   ]
  },
  {
   "cell_type": "code",
   "execution_count": null,
   "metadata": {},
   "outputs": [],
   "source": []
  },
  {
   "cell_type": "code",
   "execution_count": null,
   "metadata": {},
   "outputs": [],
   "source": []
  },
  {
   "cell_type": "code",
   "execution_count": 10,
   "metadata": {},
   "outputs": [],
   "source": [
    "fig = scatter2d( df[\"NMR [T]\"],df[\"DF0000000D5E803A_Cal_Bmag\"], inline=False)"
   ]
  },
  {
   "cell_type": "code",
   "execution_count": 15,
   "metadata": {},
   "outputs": [],
   "source": [
    "fig = scatter2d( df[\"DF0000000D5E803A_Cal_T\"],(df[\"DF0000000D5E803A_Cal_X\"]-df[\"NMR [T]\"])/df[\"NMR [T]\"], markers=True, lines=False, inline=False)"
   ]
  },
  {
   "cell_type": "code",
   "execution_count": 30,
   "metadata": {
    "scrolled": true
   },
   "outputs": [
    {
     "data": {
      "text/html": [
       "<div>\n",
       "<style scoped>\n",
       "    .dataframe tbody tr th:only-of-type {\n",
       "        vertical-align: middle;\n",
       "    }\n",
       "\n",
       "    .dataframe tbody tr th {\n",
       "        vertical-align: top;\n",
       "    }\n",
       "\n",
       "    .dataframe thead th {\n",
       "        text-align: right;\n",
       "    }\n",
       "</style>\n",
       "<table border=\"1\" class=\"dataframe\">\n",
       "  <thead>\n",
       "    <tr style=\"text-align: right;\">\n",
       "      <th></th>\n",
       "      <th>Time</th>\n",
       "      <th>Magnet Current [A]</th>\n",
       "      <th>Magnet Voltage [V]</th>\n",
       "      <th>Coil 1 (new)</th>\n",
       "      <th>Coil 2 (old)</th>\n",
       "      <th>LCW in Coil1</th>\n",
       "      <th>LCW out Coil 1</th>\n",
       "      <th>LCW in Coil 2</th>\n",
       "      <th>LCW out Coil 2</th>\n",
       "      <th>Yoke</th>\n",
       "      <th>...</th>\n",
       "      <th>DF0000000D5E803A_Cal_Phi</th>\n",
       "      <th>6A0000000D61333A_Raw_Transverse</th>\n",
       "      <th>6A0000000D61333A_Raw_Theta</th>\n",
       "      <th>6A0000000D61333A_Raw_Phi</th>\n",
       "      <th>C50000000D5E473A_Raw_Transverse</th>\n",
       "      <th>C50000000D5E473A_Raw_Theta</th>\n",
       "      <th>C50000000D5E473A_Raw_Phi</th>\n",
       "      <th>DF0000000D5E803A_Raw_Transverse</th>\n",
       "      <th>DF0000000D5E803A_Raw_Theta</th>\n",
       "      <th>DF0000000D5E803A_Raw_Phi</th>\n",
       "    </tr>\n",
       "    <tr>\n",
       "      <th>Datetime</th>\n",
       "      <th></th>\n",
       "      <th></th>\n",
       "      <th></th>\n",
       "      <th></th>\n",
       "      <th></th>\n",
       "      <th></th>\n",
       "      <th></th>\n",
       "      <th></th>\n",
       "      <th></th>\n",
       "      <th></th>\n",
       "      <th></th>\n",
       "      <th></th>\n",
       "      <th></th>\n",
       "      <th></th>\n",
       "      <th></th>\n",
       "      <th></th>\n",
       "      <th></th>\n",
       "      <th></th>\n",
       "      <th></th>\n",
       "      <th></th>\n",
       "      <th></th>\n",
       "    </tr>\n",
       "  </thead>\n",
       "  <tbody>\n",
       "    <tr>\n",
       "      <th>2020-02-12 11:30:27</th>\n",
       "      <td>2/12/2020 11:30:27 AM</td>\n",
       "      <td>240.0706</td>\n",
       "      <td>28.651067</td>\n",
       "      <td>32.329288</td>\n",
       "      <td>30.131769</td>\n",
       "      <td>8.32542</td>\n",
       "      <td>10.983446</td>\n",
       "      <td>13.566287</td>\n",
       "      <td>14.512237</td>\n",
       "      <td>22.224464</td>\n",
       "      <td>...</td>\n",
       "      <td>1.56294</td>\n",
       "      <td>539.726783</td>\n",
       "      <td>0.128991</td>\n",
       "      <td>0.757882</td>\n",
       "      <td>59928.373313</td>\n",
       "      <td>1.254132</td>\n",
       "      <td>1.244276</td>\n",
       "      <td>3.387744e+06</td>\n",
       "      <td>1.56076</td>\n",
       "      <td>1.113235</td>\n",
       "    </tr>\n",
       "  </tbody>\n",
       "</table>\n",
       "<p>1 rows × 150 columns</p>\n",
       "</div>"
      ],
      "text/plain": [
       "                                      Time  Magnet Current [A]  \\\n",
       "Datetime                                                         \n",
       "2020-02-12 11:30:27  2/12/2020 11:30:27 AM            240.0706   \n",
       "\n",
       "                     Magnet Voltage [V]  Coil 1 (new)  Coil 2 (old)  \\\n",
       "Datetime                                                              \n",
       "2020-02-12 11:30:27           28.651067     32.329288     30.131769   \n",
       "\n",
       "                     LCW in Coil1  LCW out Coil 1  LCW in Coil 2  \\\n",
       "Datetime                                                           \n",
       "2020-02-12 11:30:27       8.32542       10.983446      13.566287   \n",
       "\n",
       "                     LCW out Coil 2       Yoke            ...             \\\n",
       "Datetime                                                  ...              \n",
       "2020-02-12 11:30:27       14.512237  22.224464            ...              \n",
       "\n",
       "                     DF0000000D5E803A_Cal_Phi  \\\n",
       "Datetime                                        \n",
       "2020-02-12 11:30:27                   1.56294   \n",
       "\n",
       "                     6A0000000D61333A_Raw_Transverse  \\\n",
       "Datetime                                               \n",
       "2020-02-12 11:30:27                       539.726783   \n",
       "\n",
       "                     6A0000000D61333A_Raw_Theta  6A0000000D61333A_Raw_Phi  \\\n",
       "Datetime                                                                    \n",
       "2020-02-12 11:30:27                    0.128991                  0.757882   \n",
       "\n",
       "                     C50000000D5E473A_Raw_Transverse  \\\n",
       "Datetime                                               \n",
       "2020-02-12 11:30:27                     59928.373313   \n",
       "\n",
       "                     C50000000D5E473A_Raw_Theta  C50000000D5E473A_Raw_Phi  \\\n",
       "Datetime                                                                    \n",
       "2020-02-12 11:30:27                    1.254132                  1.244276   \n",
       "\n",
       "                     DF0000000D5E803A_Raw_Transverse  \\\n",
       "Datetime                                               \n",
       "2020-02-12 11:30:27                     3.387744e+06   \n",
       "\n",
       "                     DF0000000D5E803A_Raw_Theta  DF0000000D5E803A_Raw_Phi  \n",
       "Datetime                                                                   \n",
       "2020-02-12 11:30:27                     1.56076                  1.113235  \n",
       "\n",
       "[1 rows x 150 columns]"
      ]
     },
     "execution_count": 30,
     "metadata": {},
     "output_type": "execute_result"
    }
   ],
   "source": [
    "df.tail(1)"
   ]
  },
  {
   "cell_type": "code",
   "execution_count": 31,
   "metadata": {
    "scrolled": true
   },
   "outputs": [
    {
     "data": {
      "text/plain": [
       "23019"
      ]
     },
     "execution_count": 31,
     "metadata": {},
     "output_type": "execute_result"
    }
   ],
   "source": [
    "len(df)"
   ]
  },
  {
   "cell_type": "code",
   "execution_count": 32,
   "metadata": {},
   "outputs": [
    {
     "data": {
      "text/plain": [
       "13.321180555555555"
      ]
     },
     "execution_count": 32,
     "metadata": {},
     "output_type": "execute_result"
    }
   ],
   "source": [
    "len(df) * 50 / 60 / 60 / 24"
   ]
  },
  {
   "cell_type": "code",
   "execution_count": null,
   "metadata": {},
   "outputs": [],
   "source": []
  },
  {
   "cell_type": "code",
   "execution_count": 33,
   "metadata": {},
   "outputs": [],
   "source": [
    "fig = histo(df[\"NMR [T]\"], bins=50, inline=False)"
   ]
  },
  {
   "cell_type": "code",
   "execution_count": null,
   "metadata": {},
   "outputs": [],
   "source": []
  },
  {
   "cell_type": "code",
   "execution_count": 34,
   "metadata": {},
   "outputs": [],
   "source": [
    "fig = scatter2d(3*[df.index], [df[col+\"_Cal_Bmag\"] for col in probes], inline=False);"
   ]
  },
  {
   "cell_type": "code",
   "execution_count": 35,
   "metadata": {},
   "outputs": [],
   "source": [
    "fig = scatter2d(2*[df.index], [df[\"NMR [T]\"], df[f\"{probe}_Cal_Bmag\"]], show_plot=False);"
   ]
  },
  {
   "cell_type": "code",
   "execution_count": 36,
   "metadata": {},
   "outputs": [
    {
     "data": {
      "text/plain": [
       "'temp-plot.html'"
      ]
     },
     "execution_count": 36,
     "metadata": {},
     "output_type": "execute_result"
    }
   ],
   "source": [
    "plot(fig)"
   ]
  },
  {
   "cell_type": "code",
   "execution_count": 37,
   "metadata": {},
   "outputs": [],
   "source": [
    "fig = scatter2d(df.index, df[f\"{probe}_Cal_Res_Rel\"], show_plot=False);"
   ]
  },
  {
   "cell_type": "code",
   "execution_count": 38,
   "metadata": {},
   "outputs": [
    {
     "data": {
      "text/plain": [
       "'temp-plot.html'"
      ]
     },
     "execution_count": 38,
     "metadata": {},
     "output_type": "execute_result"
    }
   ],
   "source": [
    "plot(fig)"
   ]
  },
  {
   "cell_type": "code",
   "execution_count": 39,
   "metadata": {},
   "outputs": [],
   "source": [
    "fig = scatter2d(df[f\"{probe}_Cal_T\"], df[f\"{probe}_Cal_Res_Rel\"], df.days_delta, inline=False);"
   ]
  },
  {
   "cell_type": "code",
   "execution_count": 40,
   "metadata": {},
   "outputs": [],
   "source": [
    "fig = scatter2d(df[\"Roof\"], df[f\"{probe}_Cal_Res_Rel\"], df.days_delta, inline=False);"
   ]
  },
  {
   "cell_type": "markdown",
   "metadata": {},
   "source": [
    "~ -2e-4 change in residual after changing temperature (+7 deg C)."
   ]
  },
  {
   "cell_type": "markdown",
   "metadata": {},
   "source": [
    "**(old, early Run06)**\n",
    "~ -5e-5 change in residual after changing temperature (+4 deg C)."
   ]
  },
  {
   "cell_type": "code",
   "execution_count": 41,
   "metadata": {},
   "outputs": [
    {
     "data": {
      "text/plain": [
       "'temp-plot.html'"
      ]
     },
     "execution_count": 41,
     "metadata": {},
     "output_type": "execute_result"
    }
   ],
   "source": [
    "fig = histo(df[f\"{probe}_Cal_Res_Rel\"], bins=75, show_plot=False);\n",
    "plot(fig)\n",
    "#fig = histo(df[f\"{probe}_Cal_Res_Rel\"], bins=50, yscale='log')"
   ]
  },
  {
   "cell_type": "code",
   "execution_count": 42,
   "metadata": {},
   "outputs": [],
   "source": [
    "df[\"day\"] = df.index.day"
   ]
  },
  {
   "cell_type": "code",
   "execution_count": 43,
   "metadata": {},
   "outputs": [],
   "source": [
    "fig = px.histogram(df, x=f\"{probe}_Cal_Res_Rel\", color=\"day\")"
   ]
  },
  {
   "cell_type": "code",
   "execution_count": 44,
   "metadata": {},
   "outputs": [],
   "source": [
    "fig.update_layout(\n",
    "    autosize=False,\n",
    "    width=1800,\n",
    "    height=800\n",
    "    #margin=dict(l=20, r=20, t=20, b=20),\n",
    "    #padding=dict(l=20, r=20, t=20, b=20),\n",
    "    #paper_bgcolor=\"LightSteelBlue\",\n",
    ");"
   ]
  },
  {
   "cell_type": "code",
   "execution_count": 45,
   "metadata": {},
   "outputs": [],
   "source": [
    "#fig.show()"
   ]
  },
  {
   "cell_type": "code",
   "execution_count": 46,
   "metadata": {},
   "outputs": [
    {
     "data": {
      "text/plain": [
       "'temp-plot.html'"
      ]
     },
     "execution_count": 46,
     "metadata": {},
     "output_type": "execute_result"
    }
   ],
   "source": [
    "plot(fig)"
   ]
  },
  {
   "cell_type": "markdown",
   "metadata": {},
   "source": [
    "### Temps"
   ]
  },
  {
   "cell_type": "code",
   "execution_count": 47,
   "metadata": {},
   "outputs": [],
   "source": [
    "temps_ch = [a for a in df.columns if (\"CH\" in a) and int(a[-2:])<21]# or \"HVAC\" in a]\n",
    "temps_ch.append(\"Hall Element\")\n",
    "temps_ch.append(\"Floor\")\n",
    "temps_ch.append(\"Roof\")\n",
    "temps_ch.append(\"Yoke\")\n",
    "temps_ch.append(\"Yoke (center magnet)\")\n",
    "temps_ch.append(f\"{probe}_Cal_T\")"
   ]
  },
  {
   "cell_type": "code",
   "execution_count": 48,
   "metadata": {},
   "outputs": [],
   "source": [
    "#temps_ch"
   ]
  },
  {
   "cell_type": "code",
   "execution_count": 49,
   "metadata": {},
   "outputs": [],
   "source": [
    "fig = scatter2d([df.index for c in temps_ch],[df[c] for c in temps_ch],inline=True, show_plot=False);\n",
    "fig.layout.title = \"Temp vs. Datetime\"\n",
    "fig.layout.yaxis.title = \"Temp [deg. C]\";"
   ]
  },
  {
   "cell_type": "code",
   "execution_count": 50,
   "metadata": {},
   "outputs": [
    {
     "data": {
      "text/plain": [
       "'/home/ckampa/Coding/hallprobecalib_extras/plots/hall_probe_stability/2020-01-27/time/temps/temps_scatter_full.html'"
      ]
     },
     "execution_count": 50,
     "metadata": {},
     "output_type": "execute_result"
    }
   ],
   "source": [
    "#fname = 'temps_scatter'\n",
    "fname = 'time/temps/temps_scatter_full'\n",
    "pio.write_image(fig, plotdir+fname+'.pdf')\n",
    "pio.write_image(fig, plotdir+fname+'.png')\n",
    "plot(fig, filename=plotdir+fname+'.html', auto_open=False)"
   ]
  },
  {
   "cell_type": "code",
   "execution_count": 51,
   "metadata": {},
   "outputs": [
    {
     "data": {
      "text/plain": [
       "'temp-plot.html'"
      ]
     },
     "execution_count": 51,
     "metadata": {},
     "output_type": "execute_result"
    }
   ],
   "source": [
    "plot(fig)"
   ]
  },
  {
   "cell_type": "code",
   "execution_count": 56,
   "metadata": {},
   "outputs": [],
   "source": [
    "temps_water = [col for col in df.columns if (\"ICW\" in col) or (\"LCW\" in col)]"
   ]
  },
  {
   "cell_type": "code",
   "execution_count": 105,
   "metadata": {},
   "outputs": [],
   "source": [
    "#temps_water"
   ]
  },
  {
   "cell_type": "code",
   "execution_count": 57,
   "metadata": {},
   "outputs": [],
   "source": [
    "fig = scatter2d([df.index for c in temps_water],[df[c] for c in temps_water],inline=True, show_plot=False);\n",
    "fig.layout.title = \"Water Temp vs. Datetime\"\n",
    "fig.layout.yaxis.title = \"Temp [deg. C]\""
   ]
  },
  {
   "cell_type": "code",
   "execution_count": 58,
   "metadata": {},
   "outputs": [
    {
     "data": {
      "text/plain": [
       "'temp-plot.html'"
      ]
     },
     "execution_count": 58,
     "metadata": {},
     "output_type": "execute_result"
    }
   ],
   "source": [
    "#fig.show()\n",
    "plot(fig)"
   ]
  },
  {
   "cell_type": "code",
   "execution_count": 59,
   "metadata": {},
   "outputs": [
    {
     "data": {
      "text/plain": [
       "'/home/ckampa/Coding/hallprobecalib_extras/plots/hall_probe_stability/2020-01-27/time/temps/temps_scatter_water.html'"
      ]
     },
     "execution_count": 59,
     "metadata": {},
     "output_type": "execute_result"
    }
   ],
   "source": [
    "#fname = 'temps_scatter'\n",
    "fname = 'time/temps/temps_scatter_water'\n",
    "pio.write_image(fig, plotdir+fname+'.pdf')\n",
    "pio.write_image(fig, plotdir+fname+'.png')\n",
    "plot(fig, filename=plotdir+fname+'.html', auto_open=False)"
   ]
  },
  {
   "cell_type": "code",
   "execution_count": 60,
   "metadata": {},
   "outputs": [],
   "source": [
    "temps_ambient = [col for col in df.columns if (\"Ambient\" in col)]\n",
    "#temps_ambient"
   ]
  },
  {
   "cell_type": "code",
   "execution_count": 61,
   "metadata": {},
   "outputs": [
    {
     "data": {
      "text/plain": [
       "'temp-plot.html'"
      ]
     },
     "execution_count": 61,
     "metadata": {},
     "output_type": "execute_result"
    }
   ],
   "source": [
    "fig = scatter2d([df.index for c in temps_ambient],[df[c] for c in temps_ambient],inline=True, show_plot=False);\n",
    "fig.layout.title = \"Ambient Temp vs. Datetime\"\n",
    "fig.layout.yaxis.title = \"Temp [deg. C]\"\n",
    "#fig.show()\n",
    "plot(fig)"
   ]
  },
  {
   "cell_type": "code",
   "execution_count": 62,
   "metadata": {},
   "outputs": [
    {
     "data": {
      "text/plain": [
       "'/home/ckampa/Coding/hallprobecalib_extras/plots/hall_probe_stability/2020-01-27/time/temps/temps_scatter_ambient.html'"
      ]
     },
     "execution_count": 62,
     "metadata": {},
     "output_type": "execute_result"
    }
   ],
   "source": [
    "#fname = 'temps_scatter'\n",
    "fname = 'time/temps/temps_scatter_ambient'\n",
    "pio.write_image(fig, plotdir+fname+'.pdf')\n",
    "pio.write_image(fig, plotdir+fname+'.png')\n",
    "plot(fig, filename=plotdir+fname+'.html', auto_open=False)"
   ]
  },
  {
   "cell_type": "code",
   "execution_count": 63,
   "metadata": {},
   "outputs": [],
   "source": [
    "temps_magnet = [col for col in df.columns if ((\"PS\" in col) or (\"Coil\" in col) or (\"Yoke\" in col)) and (\"Orange\" not in col)]\n",
    "#temps_magnet"
   ]
  },
  {
   "cell_type": "code",
   "execution_count": 64,
   "metadata": {},
   "outputs": [
    {
     "data": {
      "text/plain": [
       "'temp-plot.html'"
      ]
     },
     "execution_count": 64,
     "metadata": {},
     "output_type": "execute_result"
    }
   ],
   "source": [
    "fig = scatter2d([df.index for c in temps_magnet],[df[c] for c in temps_magnet],inline=True, show_plot=False);\n",
    "fig.layout.title = \"Magnet Temp vs. Datetime\"\n",
    "fig.layout.yaxis.title = \"Temp [deg. C]\"\n",
    "#fig.show()\n",
    "plot(fig)"
   ]
  },
  {
   "cell_type": "code",
   "execution_count": 65,
   "metadata": {},
   "outputs": [
    {
     "data": {
      "text/plain": [
       "'/home/ckampa/Coding/hallprobecalib_extras/plots/hall_probe_stability/2020-01-27/time/temps/temps_scatter_magnet.html'"
      ]
     },
     "execution_count": 65,
     "metadata": {},
     "output_type": "execute_result"
    }
   ],
   "source": [
    "#fname = 'temps_scatter'\n",
    "fname = 'time/temps/temps_scatter_magnet'\n",
    "pio.write_image(fig, plotdir+fname+'.pdf')\n",
    "pio.write_image(fig, plotdir+fname+'.png')\n",
    "plot(fig, filename=plotdir+fname+'.html', auto_open=False)"
   ]
  },
  {
   "cell_type": "markdown",
   "metadata": {},
   "source": [
    "## Seeing Temperature Corrections"
   ]
  },
  {
   "cell_type": "code",
   "execution_count": 66,
   "metadata": {},
   "outputs": [],
   "source": [
    "fig = scatter2d(df[f\"{probe}_Cal_T\"], df[\"NMR [T]\"], df.days_delta, show_plot=False)"
   ]
  },
  {
   "cell_type": "code",
   "execution_count": 67,
   "metadata": {},
   "outputs": [
    {
     "data": {
      "text/plain": [
       "'temp-plot.html'"
      ]
     },
     "execution_count": 67,
     "metadata": {},
     "output_type": "execute_result"
    }
   ],
   "source": [
    "plot(fig)"
   ]
  },
  {
   "cell_type": "code",
   "execution_count": 68,
   "metadata": {},
   "outputs": [],
   "source": [
    "fig = scatter2d(df[f\"{probe}_Cal_T\"], df[f\"{probe}_Cal_Bmag\"] / df[\"NMR [T]\"], df.days_delta, inline=False)"
   ]
  },
  {
   "cell_type": "code",
   "execution_count": 69,
   "metadata": {},
   "outputs": [],
   "source": [
    "fig = scatter2d(df[f\"{probe}_Cal_T\"], df[f\"{probe}_Raw_Bmag\"] / df[\"NMR [T]\"], df.days_delta, inline=False)"
   ]
  },
  {
   "cell_type": "code",
   "execution_count": 70,
   "metadata": {},
   "outputs": [],
   "source": [
    "fig = scatter2d(df[f\"{probe}_Cal_T\"], df[f\"{probe}_Raw_Bmag\"], df.days_delta, inline=False)"
   ]
  },
  {
   "cell_type": "code",
   "execution_count": 71,
   "metadata": {},
   "outputs": [],
   "source": [
    "fig = scatter2d(3*[df[f\"{probe}_Cal_T\"]], [df[f\"{probe}_Raw_{comp}\"] / df[\"NMR [T]\"] for comp in [\"X\",\"Y\",\"Z\"]],\n",
    "                3*[df.days_delta], inline=False)"
   ]
  },
  {
   "cell_type": "code",
   "execution_count": 72,
   "metadata": {},
   "outputs": [],
   "source": [
    "fig = scatter2d(df.index, df[f\"{probe}_Raw_Theta\"], df.days_delta, inline=False)"
   ]
  },
  {
   "cell_type": "code",
   "execution_count": 73,
   "metadata": {},
   "outputs": [],
   "source": [
    "fig = scatter2d(df.index, df[f\"{probe}_Raw_Phi\"], df.days_delta, inline=False)"
   ]
  },
  {
   "cell_type": "markdown",
   "metadata": {},
   "source": [
    "### Fit!"
   ]
  },
  {
   "cell_type": "code",
   "execution_count": 52,
   "metadata": {},
   "outputs": [],
   "source": [
    "df = df[df[\"NMR [T]\"] != 0]"
   ]
  },
  {
   "cell_type": "code",
   "execution_count": 53,
   "metadata": {},
   "outputs": [],
   "source": [
    "def volt(temp, A, B):\n",
    "    return A * temp + B"
   ]
  },
  {
   "cell_type": "code",
   "execution_count": 54,
   "metadata": {},
   "outputs": [],
   "source": [
    "guess = np.array([-1300 / 3.5, 2e6]) # A, B"
   ]
  },
  {
   "cell_type": "code",
   "execution_count": 55,
   "metadata": {},
   "outputs": [],
   "source": [
    "x_dat = df[f\"{probe}_Cal_T\"]\n",
    "#x_dat = df[stable_temp][f\"{probe}_Cal_T\"]"
   ]
  },
  {
   "cell_type": "code",
   "execution_count": 56,
   "metadata": {},
   "outputs": [],
   "source": [
    "params, cov = optimization.curve_fit(volt, x_dat, df[f\"{probe}_Raw_Bmag\"] / df[\"NMR [T]\"], guess)\n",
    "#params, cov = optimization.curve_fit(volt, x_dat, \n",
    "#                                     df[stable_temp][f\"{probe}_Raw_Bmag\"] / df[stable_temp][\"NMR [T]\"], guess)"
   ]
  },
  {
   "cell_type": "code",
   "execution_count": 57,
   "metadata": {},
   "outputs": [
    {
     "data": {
      "text/plain": [
       "(array([-1.18040565e+03,  2.83879530e+06]), array([[ 0.04191652, -0.88642618],\n",
       "        [-0.88642618, 19.31005472]]))"
      ]
     },
     "execution_count": 57,
     "metadata": {},
     "output_type": "execute_result"
    }
   ],
   "source": [
    "params, cov"
   ]
  },
  {
   "cell_type": "code",
   "execution_count": 58,
   "metadata": {},
   "outputs": [
    {
     "data": {
      "text/plain": [
       "0.20473523980511196"
      ]
     },
     "execution_count": 58,
     "metadata": {},
     "output_type": "execute_result"
    }
   ],
   "source": [
    "np.sqrt(cov[0,0])"
   ]
  },
  {
   "cell_type": "code",
   "execution_count": 59,
   "metadata": {},
   "outputs": [
    {
     "data": {
      "text/plain": [
       "-0.985276720331901"
      ]
     },
     "execution_count": 59,
     "metadata": {},
     "output_type": "execute_result"
    }
   ],
   "source": [
    "cov[0,1] / (np.sqrt(cov[0,0])*np.sqrt(cov[1,1]))"
   ]
  },
  {
   "cell_type": "markdown",
   "metadata": {},
   "source": [
    "Parameters have strong correlation"
   ]
  },
  {
   "cell_type": "code",
   "execution_count": 60,
   "metadata": {},
   "outputs": [],
   "source": [
    "A_fit, B_fit = params"
   ]
  },
  {
   "cell_type": "code",
   "execution_count": 61,
   "metadata": {},
   "outputs": [],
   "source": [
    "df[\"Bmag_lsq\"] = volt(x_dat, A_fit, B_fit)"
   ]
  },
  {
   "cell_type": "code",
   "execution_count": 84,
   "metadata": {},
   "outputs": [
    {
     "data": {
      "text/plain": [
       "'temp-plot.html'"
      ]
     },
     "execution_count": 84,
     "metadata": {},
     "output_type": "execute_result"
    }
   ],
   "source": [
    "fig = scatter2d(df[f\"{probe}_Cal_T\"], df[f\"{probe}_Raw_Bmag\"] / df[\"NMR [T]\"], df.days_delta, show_plot=False)\n",
    "#d = [df[f\"{probe}_Raw_X\"].min(), df[f\"{probe}_Raw_X\"].max()]\n",
    "fig.add_trace(go.Scatter(\n",
    "                    x=df[f\"{probe}_Cal_T\"], y=df[\"Bmag_lsq\"],\n",
    "                    mode='lines', name=\"unity\",\n",
    "                    line=dict(color='deeppink', width=2,\n",
    "                              dash='dash')));\n",
    "plot(fig)"
   ]
  },
  {
   "cell_type": "code",
   "execution_count": 85,
   "metadata": {},
   "outputs": [],
   "source": [
    "fig.update_traces(marker=dict(size=5));\n",
    "plot(fig);"
   ]
  },
  {
   "cell_type": "markdown",
   "metadata": {},
   "source": [
    "Bmag fit looks pretty good so far (4 data points)."
   ]
  },
  {
   "cell_type": "markdown",
   "metadata": {},
   "source": [
    "## Aggregate data"
   ]
  },
  {
   "cell_type": "code",
   "execution_count": 86,
   "metadata": {},
   "outputs": [],
   "source": [
    "#df[\"Floor\"].diff(5).rolling(5).mean().head()"
   ]
  },
  {
   "cell_type": "code",
   "execution_count": 62,
   "metadata": {},
   "outputs": [],
   "source": [
    "#fig = scatter2d(df.index, df[\"Floor\"].diff(5).rolling(5).mean(), inline=False)\n",
    "fig = scatter2d(2*[df.index], [df[\"Floor\"],df[\"Floor\"].diff(5).rolling(5).mean()], inline=False)"
   ]
  },
  {
   "cell_type": "code",
   "execution_count": 63,
   "metadata": {},
   "outputs": [],
   "source": [
    "#stable_temp = (abs(df[\"Floor\"].diff(5).rolling(5).mean()) < 0.008) #| (np.isnan(df[\"Floor\"].diff(5)))\n",
    "stable_temp = (abs(df[\"Floor\"].diff(5).rolling(5).mean()) < 0.025) #| (np.isnan(df[\"Floor\"].diff(5)))"
   ]
  },
  {
   "cell_type": "code",
   "execution_count": 64,
   "metadata": {},
   "outputs": [],
   "source": [
    "df_ = df[stable_temp]"
   ]
  },
  {
   "cell_type": "code",
   "execution_count": 65,
   "metadata": {},
   "outputs": [
    {
     "data": {
      "text/plain": [
       "(23019, 22119)"
      ]
     },
     "execution_count": 65,
     "metadata": {},
     "output_type": "execute_result"
    }
   ],
   "source": [
    "len(df), len(df_)"
   ]
  },
  {
   "cell_type": "code",
   "execution_count": 66,
   "metadata": {},
   "outputs": [
    {
     "data": {
      "text/html": [
       "<div>\n",
       "<style scoped>\n",
       "    .dataframe tbody tr th:only-of-type {\n",
       "        vertical-align: middle;\n",
       "    }\n",
       "\n",
       "    .dataframe tbody tr th {\n",
       "        vertical-align: top;\n",
       "    }\n",
       "\n",
       "    .dataframe thead th {\n",
       "        text-align: right;\n",
       "    }\n",
       "</style>\n",
       "<table border=\"1\" class=\"dataframe\">\n",
       "  <thead>\n",
       "    <tr style=\"text-align: right;\">\n",
       "      <th></th>\n",
       "      <th>Time</th>\n",
       "      <th>Magnet Current [A]</th>\n",
       "      <th>Magnet Voltage [V]</th>\n",
       "      <th>Coil 1 (new)</th>\n",
       "      <th>Coil 2 (old)</th>\n",
       "      <th>LCW in Coil1</th>\n",
       "      <th>LCW out Coil 1</th>\n",
       "      <th>LCW in Coil 2</th>\n",
       "      <th>LCW out Coil 2</th>\n",
       "      <th>Yoke</th>\n",
       "      <th>...</th>\n",
       "      <th>6A0000000D61333A_Raw_Theta</th>\n",
       "      <th>6A0000000D61333A_Raw_Phi</th>\n",
       "      <th>C50000000D5E473A_Raw_Transverse</th>\n",
       "      <th>C50000000D5E473A_Raw_Theta</th>\n",
       "      <th>C50000000D5E473A_Raw_Phi</th>\n",
       "      <th>DF0000000D5E803A_Raw_Transverse</th>\n",
       "      <th>DF0000000D5E803A_Raw_Theta</th>\n",
       "      <th>DF0000000D5E803A_Raw_Phi</th>\n",
       "      <th>day</th>\n",
       "      <th>Bmag_lsq</th>\n",
       "    </tr>\n",
       "    <tr>\n",
       "      <th>Datetime</th>\n",
       "      <th></th>\n",
       "      <th></th>\n",
       "      <th></th>\n",
       "      <th></th>\n",
       "      <th></th>\n",
       "      <th></th>\n",
       "      <th></th>\n",
       "      <th></th>\n",
       "      <th></th>\n",
       "      <th></th>\n",
       "      <th></th>\n",
       "      <th></th>\n",
       "      <th></th>\n",
       "      <th></th>\n",
       "      <th></th>\n",
       "      <th></th>\n",
       "      <th></th>\n",
       "      <th></th>\n",
       "      <th></th>\n",
       "      <th></th>\n",
       "      <th></th>\n",
       "    </tr>\n",
       "  </thead>\n",
       "  <tbody>\n",
       "    <tr>\n",
       "      <th>2020-02-12 10:43:26</th>\n",
       "      <td>2/12/2020 10:43:26 AM</td>\n",
       "      <td>240.070883</td>\n",
       "      <td>28.632033</td>\n",
       "      <td>31.722984</td>\n",
       "      <td>29.564817</td>\n",
       "      <td>8.06336</td>\n",
       "      <td>10.695252</td>\n",
       "      <td>13.167009</td>\n",
       "      <td>14.173713</td>\n",
       "      <td>21.753210</td>\n",
       "      <td>...</td>\n",
       "      <td>0.130385</td>\n",
       "      <td>0.723302</td>\n",
       "      <td>59932.263006</td>\n",
       "      <td>1.252390</td>\n",
       "      <td>1.245125</td>\n",
       "      <td>3.391588e+06</td>\n",
       "      <td>1.562459</td>\n",
       "      <td>1.113487</td>\n",
       "      <td>12</td>\n",
       "      <td>2.809498e+06</td>\n",
       "    </tr>\n",
       "    <tr>\n",
       "      <th>2020-02-12 10:44:26</th>\n",
       "      <td>2/12/2020 10:44:26 AM</td>\n",
       "      <td>240.070940</td>\n",
       "      <td>28.632233</td>\n",
       "      <td>31.783482</td>\n",
       "      <td>29.606745</td>\n",
       "      <td>8.10455</td>\n",
       "      <td>10.739941</td>\n",
       "      <td>13.157190</td>\n",
       "      <td>14.219605</td>\n",
       "      <td>21.770008</td>\n",
       "      <td>...</td>\n",
       "      <td>0.117138</td>\n",
       "      <td>0.893853</td>\n",
       "      <td>59994.372544</td>\n",
       "      <td>1.252968</td>\n",
       "      <td>1.244613</td>\n",
       "      <td>3.391355e+06</td>\n",
       "      <td>1.562461</td>\n",
       "      <td>1.113479</td>\n",
       "      <td>12</td>\n",
       "      <td>2.809295e+06</td>\n",
       "    </tr>\n",
       "  </tbody>\n",
       "</table>\n",
       "<p>2 rows × 152 columns</p>\n",
       "</div>"
      ],
      "text/plain": [
       "                                      Time  Magnet Current [A]  \\\n",
       "Datetime                                                         \n",
       "2020-02-12 10:43:26  2/12/2020 10:43:26 AM          240.070883   \n",
       "2020-02-12 10:44:26  2/12/2020 10:44:26 AM          240.070940   \n",
       "\n",
       "                     Magnet Voltage [V]  Coil 1 (new)  Coil 2 (old)  \\\n",
       "Datetime                                                              \n",
       "2020-02-12 10:43:26           28.632033     31.722984     29.564817   \n",
       "2020-02-12 10:44:26           28.632233     31.783482     29.606745   \n",
       "\n",
       "                     LCW in Coil1  LCW out Coil 1  LCW in Coil 2  \\\n",
       "Datetime                                                           \n",
       "2020-02-12 10:43:26       8.06336       10.695252      13.167009   \n",
       "2020-02-12 10:44:26       8.10455       10.739941      13.157190   \n",
       "\n",
       "                     LCW out Coil 2       Yoke      ...       \\\n",
       "Datetime                                            ...        \n",
       "2020-02-12 10:43:26       14.173713  21.753210      ...        \n",
       "2020-02-12 10:44:26       14.219605  21.770008      ...        \n",
       "\n",
       "                     6A0000000D61333A_Raw_Theta  6A0000000D61333A_Raw_Phi  \\\n",
       "Datetime                                                                    \n",
       "2020-02-12 10:43:26                    0.130385                  0.723302   \n",
       "2020-02-12 10:44:26                    0.117138                  0.893853   \n",
       "\n",
       "                     C50000000D5E473A_Raw_Transverse  \\\n",
       "Datetime                                               \n",
       "2020-02-12 10:43:26                     59932.263006   \n",
       "2020-02-12 10:44:26                     59994.372544   \n",
       "\n",
       "                     C50000000D5E473A_Raw_Theta  C50000000D5E473A_Raw_Phi  \\\n",
       "Datetime                                                                    \n",
       "2020-02-12 10:43:26                    1.252390                  1.245125   \n",
       "2020-02-12 10:44:26                    1.252968                  1.244613   \n",
       "\n",
       "                     DF0000000D5E803A_Raw_Transverse  \\\n",
       "Datetime                                               \n",
       "2020-02-12 10:43:26                     3.391588e+06   \n",
       "2020-02-12 10:44:26                     3.391355e+06   \n",
       "\n",
       "                     DF0000000D5E803A_Raw_Theta  DF0000000D5E803A_Raw_Phi  \\\n",
       "Datetime                                                                    \n",
       "2020-02-12 10:43:26                    1.562459                  1.113487   \n",
       "2020-02-12 10:44:26                    1.562461                  1.113479   \n",
       "\n",
       "                     day      Bmag_lsq  \n",
       "Datetime                                \n",
       "2020-02-12 10:43:26   12  2.809498e+06  \n",
       "2020-02-12 10:44:26   12  2.809295e+06  \n",
       "\n",
       "[2 rows x 152 columns]"
      ]
     },
     "execution_count": 66,
     "metadata": {},
     "output_type": "execute_result"
    }
   ],
   "source": [
    "df_.tail(2)"
   ]
  },
  {
   "cell_type": "code",
   "execution_count": 67,
   "metadata": {},
   "outputs": [],
   "source": [
    "fig = scatter2d(df[stable_temp][f\"{probe}_Cal_T\"],\n",
    "                df[stable_temp][f\"{probe}_Raw_Bmag\"] / df[stable_temp][\"NMR [T]\"],\n",
    "                df[stable_temp].days_delta, show_plot=False)\n",
    "#d = [df[f\"{probe}_Raw_X\"].min(), df[f\"{probe}_Raw_X\"].max()]\n",
    "fig.add_trace(go.Scatter(\n",
    "                    x=df[stable_temp][f\"{probe}_Cal_T\"], y=df[stable_temp][\"Bmag_lsq\"],\n",
    "                    mode='lines', name=\"unity\",\n",
    "                    line=dict(color='deeppink', width=2,\n",
    "                              dash='dash')));\n",
    "#plot(fig)\n",
    "\n",
    "fig.update_traces(marker=dict(size=5));\n",
    "plot(fig);"
   ]
  },
  {
   "cell_type": "code",
   "execution_count": 68,
   "metadata": {},
   "outputs": [],
   "source": [
    "phi0 = df_.iloc[0][f\"{probe}_Raw_Phi\"]\n",
    "theta0 = df_.iloc[0][f\"{probe}_Raw_Theta\"]"
   ]
  },
  {
   "cell_type": "code",
   "execution_count": 69,
   "metadata": {},
   "outputs": [],
   "source": [
    "df_[\"ANGLE\"] = np.sqrt((df_[f\"{probe}_Raw_Theta\"]-theta0)**2 + (df_[f\"{probe}_Raw_Phi\"]-phi0)**2)"
   ]
  },
  {
   "cell_type": "code",
   "execution_count": 70,
   "metadata": {},
   "outputs": [],
   "source": [
    "fig = scatter2d(df_[\"ANGLE\"], df_[f'{probe}_Cal_Res_Rel'],df_.days_delta, inline=False)"
   ]
  },
  {
   "cell_type": "code",
   "execution_count": 71,
   "metadata": {},
   "outputs": [],
   "source": [
    "fig = scatter2d(df_[f'{probe}_Raw_Theta'], df_[f'{probe}_Cal_Res_Rel'],df_.days_delta, inline=False)"
   ]
  },
  {
   "cell_type": "code",
   "execution_count": null,
   "metadata": {},
   "outputs": [],
   "source": []
  },
  {
   "cell_type": "code",
   "execution_count": 64,
   "metadata": {},
   "outputs": [],
   "source": [
    "## NEW, do all at once"
   ]
  },
  {
   "cell_type": "code",
   "execution_count": 72,
   "metadata": {},
   "outputs": [],
   "source": [
    "df_[\"Scaled Hall Voltage\"] = df_[f\"{probe}_Raw_Bmag\"] / df_[\"NMR [T]\"] * df_[\"NMR [T]\"].iloc[0]\n",
    "df_[\"Scaled Hall X\"] = df_[f\"{probe}_Raw_X\"] / df_[\"NMR [T]\"] * df_[\"NMR [T]\"].iloc[0]\n",
    "df_[\"Scaled Hall Y\"] = df_[f\"{probe}_Raw_Y\"] / df_[\"NMR [T]\"] * df_[\"NMR [T]\"].iloc[0]\n",
    "df_[\"Scaled Hall Z\"] = df_[f\"{probe}_Raw_Z\"] / df_[\"NMR [T]\"] * df_[\"NMR [T]\"].iloc[0]"
   ]
  },
  {
   "cell_type": "code",
   "execution_count": 90,
   "metadata": {},
   "outputs": [],
   "source": [
    "w = 0.3\n",
    "ts = np.array([15.9, 17.7, 19.3, 21.2, 22.75, 24.58, 26.1])#16.0,16.8,18.6,20.3,22.0,23.8,25.35,27.0,28.0])\n",
    "ts_h = ts + w\n",
    "ts_l = ts - w"
   ]
  },
  {
   "cell_type": "code",
   "execution_count": 91,
   "metadata": {},
   "outputs": [
    {
     "data": {
      "text/plain": [
       "array([15.6 , 17.4 , 19.  , 20.9 , 22.45, 24.28, 25.8 ])"
      ]
     },
     "execution_count": 91,
     "metadata": {},
     "output_type": "execute_result"
    }
   ],
   "source": [
    "ts_l"
   ]
  },
  {
   "cell_type": "code",
   "execution_count": 92,
   "metadata": {},
   "outputs": [
    {
     "data": {
      "text/plain": [
       "array([16.2 , 18.  , 19.6 , 21.5 , 23.05, 24.88, 26.4 ])"
      ]
     },
     "execution_count": 92,
     "metadata": {},
     "output_type": "execute_result"
    }
   ],
   "source": [
    "ts_h"
   ]
  },
  {
   "cell_type": "code",
   "execution_count": 93,
   "metadata": {},
   "outputs": [],
   "source": [
    "maps = [((df_[f\"{probe}_Cal_T\"] > ts_l[i]) & (df_[f\"{probe}_Cal_T\"] < ts_h[i])) for i in range(len(ts))]"
   ]
  },
  {
   "cell_type": "code",
   "execution_count": 94,
   "metadata": {},
   "outputs": [
    {
     "data": {
      "text/plain": [
       "7"
      ]
     },
     "execution_count": 94,
     "metadata": {},
     "output_type": "execute_result"
    }
   ],
   "source": [
    "len(maps)"
   ]
  },
  {
   "cell_type": "code",
   "execution_count": 95,
   "metadata": {},
   "outputs": [],
   "source": [
    "map_full = maps[0]\n",
    "\n",
    "for m in maps[1:]:\n",
    "    map_full = map_full | m\n",
    "    "
   ]
  },
  {
   "cell_type": "code",
   "execution_count": 96,
   "metadata": {},
   "outputs": [
    {
     "data": {
      "text/plain": [
       "22113"
      ]
     },
     "execution_count": 96,
     "metadata": {},
     "output_type": "execute_result"
    }
   ],
   "source": [
    "len(df_[map_full])"
   ]
  },
  {
   "cell_type": "code",
   "execution_count": 97,
   "metadata": {},
   "outputs": [
    {
     "data": {
      "text/plain": [
       "22119"
      ]
     },
     "execution_count": 97,
     "metadata": {},
     "output_type": "execute_result"
    }
   ],
   "source": [
    "len(df_)"
   ]
  },
  {
   "cell_type": "code",
   "execution_count": 98,
   "metadata": {
    "code_folding": []
   },
   "outputs": [],
   "source": [
    "xs = np.zeros_like(ts)\n",
    "ys = np.zeros_like(ts)\n",
    "xerrs = np.zeros_like(ts)\n",
    "yerrs = np.zeros_like(ts)\n",
    "ns = np.zeros_like(ts)\n",
    "\n",
    "## calculate averages\n",
    "for i,m in enumerate(maps):\n",
    "    df_sp = df_[m]\n",
    "    ns[i] = len(df_sp)\n",
    "    xs[i] = df_sp[f\"{probe}_Cal_T\"].mean()\n",
    "    xerrs[i] = df_sp[f\"{probe}_Cal_T\"].std()\n",
    "    ys[i] = df_sp[\"Scaled Hall Voltage\"].mean()\n",
    "    yerrs[i] = df_sp[\"Scaled Hall Voltage\"].std()"
   ]
  },
  {
   "cell_type": "code",
   "execution_count": 99,
   "metadata": {},
   "outputs": [
    {
     "data": {
      "text/plain": [
       "array([15.89655233, 17.64736637, 19.34827515, 21.13672514, 22.81150658,\n",
       "       24.53801517, 26.19842398])"
      ]
     },
     "execution_count": 99,
     "metadata": {},
     "output_type": "execute_result"
    }
   ],
   "source": [
    "xs"
   ]
  },
  {
   "cell_type": "code",
   "execution_count": 100,
   "metadata": {},
   "outputs": [],
   "source": [
    "def volt(temp, A, B):\n",
    "    return A * temp + B"
   ]
  },
  {
   "cell_type": "code",
   "execution_count": 101,
   "metadata": {},
   "outputs": [],
   "source": [
    "guess = np.array([-1300 / 3.5, 2e6]) # A, B"
   ]
  },
  {
   "cell_type": "code",
   "execution_count": 102,
   "metadata": {},
   "outputs": [],
   "source": [
    "x_dat = df_[f\"{probe}_Cal_T\"]\n",
    "x_dat_avg = xs\n",
    "#x_dat = df[stable_temp][f\"{probe}_Cal_T\"]"
   ]
  },
  {
   "cell_type": "code",
   "execution_count": 103,
   "metadata": {},
   "outputs": [],
   "source": [
    "y_dat = df_[\"Scaled Hall Voltage\"]\n",
    "#y_dat = df_[\"Scaled Hall Z\"]\n",
    "#y_dat = df_[\"NMR [T]\"]"
   ]
  },
  {
   "cell_type": "code",
   "execution_count": 104,
   "metadata": {},
   "outputs": [],
   "source": [
    "params, cov = optimization.curve_fit(volt, x_dat, y_dat, guess)\n",
    "params_avg, cov_avg = optimization.curve_fit(volt, x_dat_avg, ys, guess)\n",
    "#params, cov = optimization.curve_fit(volt, x_dat, \n",
    "#                                     df[stable_temp][f\"{probe}_Raw_Bmag\"] / df[stable_temp][\"NMR [T]\"], guess)"
   ]
  },
  {
   "cell_type": "code",
   "execution_count": 105,
   "metadata": {},
   "outputs": [
    {
     "data": {
      "text/plain": [
       "(array([-1.42562616e+03,  3.42826666e+06]), array([[ 0.06097712, -1.28812275],\n",
       "        [-1.28812275, 28.03706027]]))"
      ]
     },
     "execution_count": 105,
     "metadata": {},
     "output_type": "execute_result"
    }
   ],
   "source": [
    "# stable temp\n",
    "params, cov"
   ]
  },
  {
   "cell_type": "code",
   "execution_count": 106,
   "metadata": {},
   "outputs": [
    {
     "data": {
      "text/plain": [
       "(array([-1.42392463e+03,  3.42821889e+06]),\n",
       " array([[   270.72168011,  -5707.46638385],\n",
       "        [ -5707.46638385, 123529.7055177 ]]))"
      ]
     },
     "execution_count": 106,
     "metadata": {},
     "output_type": "execute_result"
    }
   ],
   "source": [
    "# stable temp averaged\n",
    "params_avg, cov_avg"
   ]
  },
  {
   "cell_type": "code",
   "execution_count": 107,
   "metadata": {},
   "outputs": [],
   "source": [
    "A_fit, B_fit = params\n",
    "A_fit_avg, B_fit_avg = params_avg"
   ]
  },
  {
   "cell_type": "code",
   "execution_count": 108,
   "metadata": {},
   "outputs": [],
   "source": [
    "df_[\"Bmag_lsq\"] = volt(x_dat, A_fit, B_fit)\n",
    "df_[\"Bmag_lsq_avg\"] = volt(x_dat, A_fit_avg, B_fit_avg)"
   ]
  },
  {
   "cell_type": "code",
   "execution_count": 109,
   "metadata": {},
   "outputs": [],
   "source": [
    "ts = np.linspace(x_dat.min(), x_dat.max(), 25)"
   ]
  },
  {
   "cell_type": "code",
   "execution_count": 110,
   "metadata": {},
   "outputs": [],
   "source": [
    "B_lsq = volt(ts, A_fit, B_fit)\n",
    "B_lsq_avg = volt(ts, A_fit_avg, B_fit_avg)"
   ]
  },
  {
   "cell_type": "code",
   "execution_count": 111,
   "metadata": {},
   "outputs": [],
   "source": [
    "B_lsq = pd.Series(B_lsq, name=\"Stable Temp Fit\")\n",
    "B_lsq_avg = pd.Series(B_lsq_avg, name=\"Stable Temp Averaged Fit\")"
   ]
  },
  {
   "cell_type": "code",
   "execution_count": 112,
   "metadata": {},
   "outputs": [
    {
     "data": {
      "text/plain": [
       "'/home/ckampa/Coding/hallprobecalib_extras/plots/hall_probe_stability/2020-01-27/scaled_voltage_vs_temperature.html'"
      ]
     },
     "execution_count": 112,
     "metadata": {},
     "output_type": "execute_result"
    }
   ],
   "source": [
    "averaged=True\n",
    "\n",
    "fig = scatter2d(x_dat,\n",
    "                y_dat,\n",
    "                df_.days_delta, opacity=0.8, show_plot=False)\n",
    "\n",
    "fig.add_trace(go.Scatter(\n",
    "                    x=ts, y=B_lsq,\n",
    "                    mode='lines', name='Linear fit',#\"|V|/|B| = A * Temp. + B\",\n",
    "                    line=dict(color='rgb(78, 42, 132)',#'deeppink',\n",
    "                              width=1,\n",
    "                              dash='dash')));\n",
    "#fig.add_trace(go.Scatter(\n",
    "#                    x=ts, y=B_lsq_avg,\n",
    "#                    mode='lines', name=\"mean(|V|/|B|) = A * mean(Temp.) + B\",\n",
    "#                    line=dict(color='purple', width=1,\n",
    "#                              dash='dash')));\n",
    "\n",
    "fig.update_traces(marker=dict(size=1));\n",
    "\n",
    "if averaged:\n",
    "    fig.add_trace(go.Scatter(\n",
    "        x= xs,\n",
    "        y= ys,\n",
    "        mode='markers',\n",
    "        name='Averaged Data',\n",
    "        error_x=dict(\n",
    "            type='data',\n",
    "            array=xerrs,\n",
    "            width=1,\n",
    "            thickness=1.,\n",
    "            visible=True),\n",
    "        error_y=dict(\n",
    "            type='data',\n",
    "            array=yerrs,\n",
    "            width=1,\n",
    "            thickness=1.,\n",
    "            visible=True),\n",
    "        marker=dict(\n",
    "            size=3,\n",
    "            color=\"Red\",\n",
    "        )\n",
    "    ))\n",
    "\n",
    "#eqn = f\"Volt. = {A_fit:.2E} * Temp. + {B_fit:.2E}\"\n",
    "eqn = f\"y = {A_fit:.2E} * x + {B_fit:.2E}\"\n",
    "\n",
    "i = 6\n",
    "fig.add_annotation(\n",
    "    go.layout.Annotation(\n",
    "            x=ts[i],\n",
    "            y=B_lsq.iloc[i],\n",
    "            text=eqn,\n",
    "            font=dict(\n",
    "                #family=\"Courier New, monospace\",\n",
    "                size=14,\n",
    "                color=\"#ffffff\"\n",
    "            ),\n",
    "            align=\"center\",\n",
    "            arrowhead=2,\n",
    "            arrowsize=1,\n",
    "            arrowwidth=2,\n",
    "            arrowcolor=\"#636363\",\n",
    "            ax=+250,\n",
    "            ay=-25,\n",
    "            bordercolor=\"#c7c7c7\",\n",
    "            borderwidth=2,\n",
    "            borderpad=4,\n",
    "            bgcolor='rgb(78, 42, 132)',#\"#ff7f0e\",\n",
    "            opacity=0.7,\n",
    "            showarrow=True#False\n",
    "    )\n",
    ")\n",
    "\n",
    "fig.update_layout(title=\"Scaled Hall Voltage vs. Hall Probe Temperature\")\n",
    "fig.update_xaxes(title_text='Hall Probe Temperature [deg C]')\n",
    "fig.update_yaxes(title_text='|V_Hall| / NMR [micro V / T]')\n",
    "fig.update_layout( width=1000,height=600,)\n",
    "\n",
    "filename = plotdir+\"scaled_voltage_vs_temperature\"\n",
    "\n",
    "plot(fig, filename=filename+'.html')"
   ]
  },
  {
   "cell_type": "code",
   "execution_count": 113,
   "metadata": {},
   "outputs": [],
   "source": [
    "pio.write_image(fig, filename+\".pdf\")\n",
    "pio.write_image(fig, filename+\".png\")"
   ]
  },
  {
   "cell_type": "code",
   "execution_count": null,
   "metadata": {},
   "outputs": [],
   "source": []
  },
  {
   "cell_type": "code",
   "execution_count": null,
   "metadata": {},
   "outputs": [],
   "source": []
  },
  {
   "cell_type": "code",
   "execution_count": null,
   "metadata": {},
   "outputs": [],
   "source": [
    "fig = scatter2d(df_[\"NMR [T]\"],\n",
    "                df_[f\"{probe}_Raw_Bmag\"],# * df_[f\"{probe}_Cal_T\"].min() / df_[f\"{probe}_Cal_T\"],\n",
    "                df_.days_delta, opacity=1., inline=False)"
   ]
  },
  {
   "cell_type": "code",
   "execution_count": null,
   "metadata": {},
   "outputs": [],
   "source": [
    "fig = scatter2d(df_[\"NMR [T]\"],\n",
    "                df_[f\"{probes[0]}_Raw_Bmag\"],# * df_[f\"{probe}_Cal_T\"].min() / df_[f\"{probe}_Cal_T\"],\n",
    "                df_.days_delta, opacity=1., inline=False)"
   ]
  },
  {
   "cell_type": "code",
   "execution_count": null,
   "metadata": {},
   "outputs": [],
   "source": [
    "fig = scatter2d(df_[\"NMR [T]\"],\n",
    "                df_[f\"{probes[0]}_Cal_Bmag\"],# * df_[f\"{probe}_Cal_T\"].min() / df_[f\"{probe}_Cal_T\"],\n",
    "                df_.days_delta, opacity=1., inline=False)"
   ]
  },
  {
   "cell_type": "code",
   "execution_count": null,
   "metadata": {},
   "outputs": [],
   "source": [
    "fig = scatter2d(df[\"NMR [T]\"],\n",
    "                df[f\"{probe}_Raw_Bmag\"],# * df[f\"{probe}_Cal_T\"].min() / df[f\"{probe}_Cal_T\"],\n",
    "                df.days_delta, opacity=1., inline=False)"
   ]
  },
  {
   "cell_type": "code",
   "execution_count": null,
   "metadata": {},
   "outputs": [],
   "source": []
  },
  {
   "cell_type": "code",
   "execution_count": null,
   "metadata": {},
   "outputs": [],
   "source": [
    "x = np.array([6e-4, 2.36e-2, 1.2492]) # B in Tesla\n",
    "y = np.array([4.85e3, 6.43e4, 3.5e6]) # Hall voltage (Bmag), note: 3 different probes"
   ]
  },
  {
   "cell_type": "code",
   "execution_count": null,
   "metadata": {},
   "outputs": [],
   "source": [
    "fig = scatter2d(x, y, lines=False, markers=True, size_list=[8], inline=False)"
   ]
  },
  {
   "cell_type": "code",
   "execution_count": null,
   "metadata": {},
   "outputs": [],
   "source": [
    "def volt_b(mag, A, B):\n",
    "    return A * mag + B"
   ]
  },
  {
   "cell_type": "code",
   "execution_count": null,
   "metadata": {},
   "outputs": [],
   "source": [
    "guess = np.array([3e6, 0.]) # A, B"
   ]
  },
  {
   "cell_type": "code",
   "execution_count": null,
   "metadata": {},
   "outputs": [],
   "source": [
    "x_dat = x\n",
    "#x_dat_avg = xs\n",
    "#x_dat = df[stable_temp][f\"{probe}_Cal_T\"]"
   ]
  },
  {
   "cell_type": "code",
   "execution_count": null,
   "metadata": {},
   "outputs": [],
   "source": [
    "y_dat = y"
   ]
  },
  {
   "cell_type": "code",
   "execution_count": null,
   "metadata": {},
   "outputs": [],
   "source": [
    "params, cov = optimization.curve_fit(volt_b, x_dat, y_dat, guess)\n",
    "#params_avg, cov_avg = optimization.curve_fit(volt, x_dat_avg, ys, guess)\n",
    "#params, cov = optimization.curve_fit(volt, x_dat, \n",
    "#                                     df[stable_temp][f\"{probe}_Raw_Bmag\"] / df[stable_temp][\"NMR [T]\"], guess)"
   ]
  },
  {
   "cell_type": "code",
   "execution_count": null,
   "metadata": {},
   "outputs": [],
   "source": [
    "# stable temp\n",
    "params, cov"
   ]
  },
  {
   "cell_type": "code",
   "execution_count": null,
   "metadata": {},
   "outputs": [],
   "source": [
    "A_fit, B_fit = params\n",
    "#A_fit_avg, B_fit_avg = params_avg"
   ]
  },
  {
   "cell_type": "code",
   "execution_count": null,
   "metadata": {},
   "outputs": [],
   "source": [
    "B_lsq_dat = volt_b(x_dat, A_fit, B_fit)\n",
    "#df_[\"Bmag_lsq\"] = volt_b(x_dat, A_fit, B_fit)"
   ]
  },
  {
   "cell_type": "code",
   "execution_count": null,
   "metadata": {},
   "outputs": [],
   "source": [
    "ts = np.linspace(x_dat.min(), x_dat.max(), 25)"
   ]
  },
  {
   "cell_type": "code",
   "execution_count": null,
   "metadata": {},
   "outputs": [],
   "source": [
    "B_lsq = volt_b(ts, A_fit, B_fit)\n",
    "#B_lsq_avg = volt_b(ts, A_fit_avg, B_fit_avg)"
   ]
  },
  {
   "cell_type": "code",
   "execution_count": null,
   "metadata": {},
   "outputs": [],
   "source": [
    "B_lsq = pd.Series(B_lsq, name=\"Stable Temp Fit\")\n",
    "#B_lsq_avg = pd.Series(B_lsq_avg, name=\"Stable Temp Averaged Fit\")"
   ]
  },
  {
   "cell_type": "code",
   "execution_count": null,
   "metadata": {},
   "outputs": [],
   "source": [
    "fig = scatter2d(x_dat,\n",
    "                y_dat,\n",
    "                lines=False, markers=True,\n",
    "                size_list=[8], opacity=0.8, show_plot=False)\n",
    "\n",
    "fig.add_trace(go.Scatter(\n",
    "                    x=ts, y=B_lsq,\n",
    "                    mode='lines', name='Linear fit',#\"|V|/|B| = A * Temp. + B\",\n",
    "                    line=dict(color='rgb(78, 42, 132)',#'deeppink',\n",
    "                              width=1,\n",
    "                              dash='dash')));\n",
    "#fig.add_trace(go.Scatter(\n",
    "#                    x=ts, y=B_lsq_avg,\n",
    "#                    mode='lines', name=\"mean(|V|/|B|) = A * mean(Temp.) + B\",\n",
    "#                    line=dict(color='purple', width=1,\n",
    "#                              dash='dash')));\n",
    "\n",
    "#fig.update_traces(marker=dict(size=1));\n",
    "\n",
    "'''fig.add_trace(go.Scatter(\n",
    "    x= xs,\n",
    "    y= ys,\n",
    "    mode='markers',\n",
    "    name='Averaged Data',\n",
    "    error_x=dict(\n",
    "        type='data',\n",
    "        array=xerrs,\n",
    "        width=1,\n",
    "        thickness=1.,\n",
    "        visible=True),\n",
    "    error_y=dict(\n",
    "        type='data',\n",
    "        array=yerrs,\n",
    "        width=1,\n",
    "        thickness=1.,\n",
    "        visible=True),\n",
    "    marker=dict(\n",
    "        size=3,\n",
    "        color=\"Red\",\n",
    "    )\n",
    "))\n",
    "'''\n",
    "#eqn = f\"Volt. = {A_fit:.2E} * Temp. + {B_fit:.2E}\"\n",
    "eqn = f\"y = {A_fit:.2E} * x + {B_fit:.2E}\"\n",
    "\n",
    "i = 6\n",
    "fig.add_annotation(\n",
    "    go.layout.Annotation(\n",
    "            x=ts[i],\n",
    "            y=B_lsq.iloc[i],\n",
    "            text=eqn,\n",
    "            font=dict(\n",
    "                #family=\"Courier New, monospace\",\n",
    "                size=14,\n",
    "                color=\"#ffffff\"\n",
    "            ),\n",
    "            align=\"center\",\n",
    "            arrowhead=2,\n",
    "            arrowsize=1,\n",
    "            arrowwidth=2,\n",
    "            arrowcolor=\"#636363\",\n",
    "            ax=+250,\n",
    "            ay=-25,\n",
    "            bordercolor=\"#c7c7c7\",\n",
    "            borderwidth=2,\n",
    "            borderpad=4,\n",
    "            bgcolor='rgb(78, 42, 132)',#\"#ff7f0e\",\n",
    "            opacity=0.7,\n",
    "            showarrow=True#False\n",
    "    )\n",
    ")\n",
    "\n",
    "fig.update_layout(title=\"Scaled Hall Voltage vs. Hall Probe Temperature\")\n",
    "fig.update_xaxes(title_text='Hall Probe Temperature [deg C]')\n",
    "fig.update_yaxes(title_text='|V_Hall| / NMR [micro V / T]')\n",
    "fig.update_layout( width=1000,height=600,)\n",
    "\n",
    "plot(fig,) #filename=plotdir+\"temp_fit_2point_aggregate.html\")"
   ]
  },
  {
   "cell_type": "markdown",
   "metadata": {},
   "source": [
    "Nice! Looks surprisingly linear for 3 different probes."
   ]
  },
  {
   "cell_type": "code",
   "execution_count": null,
   "metadata": {},
   "outputs": [],
   "source": [
    "dof = 3 - 2"
   ]
  },
  {
   "cell_type": "code",
   "execution_count": null,
   "metadata": {},
   "outputs": [],
   "source": [
    "### pick std = 55\n",
    "std_volt = 50.#500.#45.#55."
   ]
  },
  {
   "cell_type": "code",
   "execution_count": null,
   "metadata": {},
   "outputs": [],
   "source": [
    "def chi2(f, x, std):\n",
    "    return np.sum(np.square((x-f)/std))"
   ]
  },
  {
   "cell_type": "code",
   "execution_count": null,
   "metadata": {},
   "outputs": [],
   "source": [
    "#fit_chi2 = chi2(B_lsq, y_dat, std_volt)\n",
    "fit_chi2 = chi2(B_lsq_dat, y_dat, std_volt)\n",
    "fit_chi2"
   ]
  },
  {
   "cell_type": "code",
   "execution_count": null,
   "metadata": {},
   "outputs": [],
   "source": [
    "dof = len(x_dat) - 2\n",
    "dof"
   ]
  },
  {
   "cell_type": "code",
   "execution_count": null,
   "metadata": {},
   "outputs": [],
   "source": [
    "n = np.linspace(0, 12, 100)"
   ]
  },
  {
   "cell_type": "code",
   "execution_count": null,
   "metadata": {},
   "outputs": [],
   "source": [
    "P = stats.chi2.pdf(n, dof)"
   ]
  },
  {
   "cell_type": "code",
   "execution_count": null,
   "metadata": {},
   "outputs": [],
   "source": [
    "P.max()"
   ]
  },
  {
   "cell_type": "code",
   "execution_count": null,
   "metadata": {},
   "outputs": [],
   "source": [
    "plt.plot(n,P)\n",
    "plt.plot([fit_chi2, fit_chi2],[0., 1.0], 'r--');"
   ]
  },
  {
   "cell_type": "code",
   "execution_count": null,
   "metadata": {},
   "outputs": [],
   "source": []
  },
  {
   "cell_type": "code",
   "execution_count": null,
   "metadata": {},
   "outputs": [],
   "source": []
  },
  {
   "cell_type": "code",
   "execution_count": null,
   "metadata": {},
   "outputs": [],
   "source": []
  },
  {
   "cell_type": "code",
   "execution_count": null,
   "metadata": {},
   "outputs": [],
   "source": []
  },
  {
   "cell_type": "code",
   "execution_count": null,
   "metadata": {},
   "outputs": [],
   "source": []
  },
  {
   "cell_type": "code",
   "execution_count": null,
   "metadata": {},
   "outputs": [],
   "source": []
  },
  {
   "cell_type": "code",
   "execution_count": null,
   "metadata": {},
   "outputs": [],
   "source": []
  },
  {
   "cell_type": "code",
   "execution_count": null,
   "metadata": {},
   "outputs": [],
   "source": [
    "def volt_b(mag, A, B):\n",
    "    return A * mag + B"
   ]
  },
  {
   "cell_type": "code",
   "execution_count": null,
   "metadata": {},
   "outputs": [],
   "source": [
    "guess = np.array([1e11, 0.]) # A, B"
   ]
  },
  {
   "cell_type": "code",
   "execution_count": null,
   "metadata": {},
   "outputs": [],
   "source": [
    "x_dat = df_[\"NMR [T]\"]\n",
    "#x_dat_avg = xs\n",
    "#x_dat = df[stable_temp][f\"{probe}_Cal_T\"]"
   ]
  },
  {
   "cell_type": "code",
   "execution_count": null,
   "metadata": {},
   "outputs": [],
   "source": [
    "y_dat = df_[f\"{probe}_Raw_Bmag\"] / (-1.21e03*df_[f\"{probe}_Cal_T\"])# * df_[f\"{probe}_Cal_T\"].min() / df_[f\"{probe}_Cal_T\"]"
   ]
  },
  {
   "cell_type": "code",
   "execution_count": null,
   "metadata": {},
   "outputs": [],
   "source": [
    "params, cov = optimization.curve_fit(volt_b, x_dat, y_dat, guess)\n",
    "#params_avg, cov_avg = optimization.curve_fit(volt, x_dat_avg, ys, guess)\n",
    "#params, cov = optimization.curve_fit(volt, x_dat, \n",
    "#                                     df[stable_temp][f\"{probe}_Raw_Bmag\"] / df[stable_temp][\"NMR [T]\"], guess)"
   ]
  },
  {
   "cell_type": "code",
   "execution_count": null,
   "metadata": {},
   "outputs": [],
   "source": [
    "# stable temp\n",
    "params, cov"
   ]
  },
  {
   "cell_type": "code",
   "execution_count": null,
   "metadata": {},
   "outputs": [],
   "source": [
    "A_fit, B_fit = params\n",
    "A_fit_avg, B_fit_avg = params_avg"
   ]
  },
  {
   "cell_type": "code",
   "execution_count": null,
   "metadata": {},
   "outputs": [],
   "source": [
    "df_[\"Bmag_lsq\"] = volt_b(x_dat, A_fit, B_fit)"
   ]
  },
  {
   "cell_type": "code",
   "execution_count": null,
   "metadata": {},
   "outputs": [],
   "source": [
    "ts = np.linspace(x_dat.min(), x_dat.max(), 25)"
   ]
  },
  {
   "cell_type": "code",
   "execution_count": null,
   "metadata": {},
   "outputs": [],
   "source": [
    "B_lsq = volt_b(ts, A_fit, B_fit)\n",
    "#B_lsq_avg = volt_b(ts, A_fit_avg, B_fit_avg)"
   ]
  },
  {
   "cell_type": "code",
   "execution_count": null,
   "metadata": {},
   "outputs": [],
   "source": [
    "B_lsq = pd.Series(B_lsq, name=\"Stable Temp Fit\")\n",
    "#B_lsq_avg = pd.Series(B_lsq_avg, name=\"Stable Temp Averaged Fit\")"
   ]
  },
  {
   "cell_type": "code",
   "execution_count": null,
   "metadata": {},
   "outputs": [],
   "source": [
    "fig = scatter2d(x_dat,\n",
    "                y_dat,\n",
    "                df_.days_delta, opacity=0.8, show_plot=False)\n",
    "\n",
    "fig.add_trace(go.Scatter(\n",
    "                    x=ts, y=B_lsq,\n",
    "                    mode='lines', name='Linear fit',#\"|V|/|B| = A * Temp. + B\",\n",
    "                    line=dict(color='rgb(78, 42, 132)',#'deeppink',\n",
    "                              width=1,\n",
    "                              dash='dash')));\n",
    "#fig.add_trace(go.Scatter(\n",
    "#                    x=ts, y=B_lsq_avg,\n",
    "#                    mode='lines', name=\"mean(|V|/|B|) = A * mean(Temp.) + B\",\n",
    "#                    line=dict(color='purple', width=1,\n",
    "#                              dash='dash')));\n",
    "\n",
    "fig.update_traces(marker=dict(size=1));\n",
    "\n",
    "'''fig.add_trace(go.Scatter(\n",
    "    x= xs,\n",
    "    y= ys,\n",
    "    mode='markers',\n",
    "    name='Averaged Data',\n",
    "    error_x=dict(\n",
    "        type='data',\n",
    "        array=xerrs,\n",
    "        width=1,\n",
    "        thickness=1.,\n",
    "        visible=True),\n",
    "    error_y=dict(\n",
    "        type='data',\n",
    "        array=yerrs,\n",
    "        width=1,\n",
    "        thickness=1.,\n",
    "        visible=True),\n",
    "    marker=dict(\n",
    "        size=3,\n",
    "        color=\"Red\",\n",
    "    )\n",
    "))\n",
    "'''\n",
    "#eqn = f\"Volt. = {A_fit:.2E} * Temp. + {B_fit:.2E}\"\n",
    "eqn = f\"y = {A_fit:.2E} * x + {B_fit:.2E}\"\n",
    "\n",
    "i = 6\n",
    "fig.add_annotation(\n",
    "    go.layout.Annotation(\n",
    "            x=ts[i],\n",
    "            y=B_lsq.iloc[i],\n",
    "            text=eqn,\n",
    "            font=dict(\n",
    "                #family=\"Courier New, monospace\",\n",
    "                size=14,\n",
    "                color=\"#ffffff\"\n",
    "            ),\n",
    "            align=\"center\",\n",
    "            arrowhead=2,\n",
    "            arrowsize=1,\n",
    "            arrowwidth=2,\n",
    "            arrowcolor=\"#636363\",\n",
    "            ax=+250,\n",
    "            ay=-25,\n",
    "            bordercolor=\"#c7c7c7\",\n",
    "            borderwidth=2,\n",
    "            borderpad=4,\n",
    "            bgcolor='rgb(78, 42, 132)',#\"#ff7f0e\",\n",
    "            opacity=0.7,\n",
    "            showarrow=True#False\n",
    "    )\n",
    ")\n",
    "\n",
    "fig.update_layout(title=\"Scaled Hall Voltage vs. Hall Probe Temperature\")\n",
    "fig.update_xaxes(title_text='Hall Probe Temperature [deg C]')\n",
    "fig.update_yaxes(title_text='|V_Hall| / NMR [micro V / T]')\n",
    "fig.update_layout( width=1000,height=600,)\n",
    "\n",
    "plot(fig,) #filename=plotdir+\"temp_fit_2point_aggregate.html\")"
   ]
  },
  {
   "cell_type": "code",
   "execution_count": null,
   "metadata": {},
   "outputs": [],
   "source": []
  },
  {
   "cell_type": "code",
   "execution_count": null,
   "metadata": {},
   "outputs": [],
   "source": []
  },
  {
   "cell_type": "code",
   "execution_count": null,
   "metadata": {},
   "outputs": [],
   "source": []
  },
  {
   "cell_type": "code",
   "execution_count": null,
   "metadata": {},
   "outputs": [],
   "source": []
  },
  {
   "cell_type": "code",
   "execution_count": 114,
   "metadata": {},
   "outputs": [],
   "source": [
    "### pick std = 55\n",
    "std_volt = 50.#51.#45.#55."
   ]
  },
  {
   "cell_type": "code",
   "execution_count": null,
   "metadata": {},
   "outputs": [],
   "source": [
    "def chi2(f, x, std):\n",
    "    return np.sum(np.square((x-f)/std))"
   ]
  },
  {
   "cell_type": "code",
   "execution_count": null,
   "metadata": {},
   "outputs": [],
   "source": [
    "fit_chi2 = chi2(df_[\"Bmag_lsq\"], df_[\"Scaled Hall Voltage\"], std_volt)\n",
    "fit_chi2"
   ]
  },
  {
   "cell_type": "code",
   "execution_count": null,
   "metadata": {},
   "outputs": [],
   "source": [
    "ys_fit = volt(xs, A_fit_avg, B_fit_avg)"
   ]
  },
  {
   "cell_type": "code",
   "execution_count": null,
   "metadata": {},
   "outputs": [],
   "source": [
    "fit_avg_chi2 = chi2(ys_fit, ys, yerrs)\n",
    "fit_avg_chi2"
   ]
  },
  {
   "cell_type": "code",
   "execution_count": null,
   "metadata": {},
   "outputs": [],
   "source": [
    "dof = len(xs) - 2\n",
    "dof"
   ]
  },
  {
   "cell_type": "code",
   "execution_count": null,
   "metadata": {},
   "outputs": [],
   "source": [
    "n = np.linspace(0, 12, 100)"
   ]
  },
  {
   "cell_type": "code",
   "execution_count": null,
   "metadata": {},
   "outputs": [],
   "source": [
    "P = stats.chi2.pdf(n, dof)"
   ]
  },
  {
   "cell_type": "code",
   "execution_count": null,
   "metadata": {},
   "outputs": [],
   "source": [
    "plt.plot(n,P)\n",
    "plt.plot([fit_avg_chi2, fit_avg_chi2],[0., P.max()], 'r--');"
   ]
  },
  {
   "cell_type": "code",
   "execution_count": null,
   "metadata": {},
   "outputs": [],
   "source": []
  },
  {
   "cell_type": "code",
   "execution_count": null,
   "metadata": {},
   "outputs": [],
   "source": []
  },
  {
   "cell_type": "code",
   "execution_count": null,
   "metadata": {},
   "outputs": [],
   "source": [
    "# check std\n",
    "df_2 = df_[100:500]"
   ]
  },
  {
   "cell_type": "code",
   "execution_count": null,
   "metadata": {},
   "outputs": [],
   "source": [
    "fig = scatter2d(df_2.index, df_2[f\"{probe}_Raw_Bmag\"]/df_2[\"NMR [T]\"],\n",
    "               inline=False)"
   ]
  },
  {
   "cell_type": "code",
   "execution_count": null,
   "metadata": {},
   "outputs": [],
   "source": [
    "scaled_B = df_2[f\"{probe}_Raw_Bmag\"]/df_2[\"NMR [T]\"]\n",
    "scaled_B.name = \"Scaled |V|/|B|\""
   ]
  },
  {
   "cell_type": "code",
   "execution_count": null,
   "metadata": {},
   "outputs": [],
   "source": [
    "fig = histo(scaled_B, bins=25,\n",
    "               inline=False)"
   ]
  },
  {
   "cell_type": "code",
   "execution_count": null,
   "metadata": {},
   "outputs": [],
   "source": []
  },
  {
   "cell_type": "code",
   "execution_count": null,
   "metadata": {},
   "outputs": [],
   "source": [
    "std_volt = 75."
   ]
  },
  {
   "cell_type": "code",
   "execution_count": null,
   "metadata": {},
   "outputs": [],
   "source": [
    "fit_chi2 = chi2(df_[\"Bmag_lsq\"], df_[\"Scaled Hall Voltage\"], std_volt)\n",
    "fit_chi2"
   ]
  },
  {
   "cell_type": "code",
   "execution_count": null,
   "metadata": {},
   "outputs": [],
   "source": [
    "dof = len(df_) - 2\n",
    "dof"
   ]
  },
  {
   "cell_type": "code",
   "execution_count": null,
   "metadata": {},
   "outputs": [],
   "source": [
    "n = np.linspace(1000,30000, 1000)"
   ]
  },
  {
   "cell_type": "code",
   "execution_count": null,
   "metadata": {},
   "outputs": [],
   "source": [
    "P = stats.chi2.pdf(n, dof)"
   ]
  },
  {
   "cell_type": "code",
   "execution_count": null,
   "metadata": {},
   "outputs": [],
   "source": [
    "plt.plot(n,P)\n",
    "plt.plot([fit_chi2, fit_chi2],[0., P.max()], 'r--');"
   ]
  },
  {
   "cell_type": "code",
   "execution_count": null,
   "metadata": {},
   "outputs": [],
   "source": [
    "n[P.argmax()]"
   ]
  },
  {
   "cell_type": "markdown",
   "metadata": {},
   "source": [
    "## Investigate Noise"
   ]
  },
  {
   "cell_type": "code",
   "execution_count": null,
   "metadata": {},
   "outputs": [],
   "source": [
    "t = df_.index"
   ]
  },
  {
   "cell_type": "code",
   "execution_count": null,
   "metadata": {},
   "outputs": [],
   "source": [
    "V = df_[f\"{probe}_Raw_Z\"]"
   ]
  },
  {
   "cell_type": "code",
   "execution_count": null,
   "metadata": {},
   "outputs": [],
   "source": [
    "V_mean = V.rolling(window=75).mean() # w interval = 50 s, should be ~72 for one hour average"
   ]
  },
  {
   "cell_type": "code",
   "execution_count": null,
   "metadata": {},
   "outputs": [],
   "source": [
    "#fig = scatter2d(2*[t], [V, V_mean], inline=False)"
   ]
  },
  {
   "cell_type": "code",
   "execution_count": null,
   "metadata": {},
   "outputs": [],
   "source": [
    "diff = V - V_mean"
   ]
  },
  {
   "cell_type": "code",
   "execution_count": null,
   "metadata": {},
   "outputs": [],
   "source": [
    "#fig = histo(diff, bins=50, inline=False)"
   ]
  },
  {
   "cell_type": "code",
   "execution_count": null,
   "metadata": {},
   "outputs": [],
   "source": [
    "g = np.absolute(diff) < 200."
   ]
  },
  {
   "cell_type": "code",
   "execution_count": null,
   "metadata": {},
   "outputs": [],
   "source": [
    "diff[g].std()"
   ]
  },
  {
   "cell_type": "code",
   "execution_count": null,
   "metadata": {},
   "outputs": [],
   "source": [
    "fig = histo(diff[g], bins=75, inline=False)"
   ]
  },
  {
   "cell_type": "markdown",
   "metadata": {},
   "source": [
    "Component Standard Deviation:\n",
    "- x: 54.9\n",
    "- y: 60.5\n",
    "- z: 58.47"
   ]
  },
  {
   "cell_type": "code",
   "execution_count": 119,
   "metadata": {},
   "outputs": [],
   "source": [
    "sig_x = 54.9\n",
    "sig_y = 60.5\n",
    "sig_z = 58.5"
   ]
  },
  {
   "cell_type": "code",
   "execution_count": 120,
   "metadata": {},
   "outputs": [],
   "source": [
    "# assuming no covariance\n",
    "sigma_B = np.sqrt(df_[f\"{probe}_Raw_X\"]**2*sig_x**2 + \\\n",
    "                  df_[f\"{probe}_Raw_Y\"]**2*sig_y**2 + \\\n",
    "                  df_[f\"{probe}_Raw_Z\"]**2*sig_z**2) / df_[f\"{probe}_Raw_Bmag\"]"
   ]
  },
  {
   "cell_type": "code",
   "execution_count": 121,
   "metadata": {},
   "outputs": [],
   "source": [
    "sigma_B.name = \"sigma_B\""
   ]
  },
  {
   "cell_type": "code",
   "execution_count": null,
   "metadata": {},
   "outputs": [],
   "source": [
    "fig = histo(sigma_B, bins=75, inline=False)"
   ]
  },
  {
   "cell_type": "code",
   "execution_count": null,
   "metadata": {},
   "outputs": [],
   "source": [
    "fig = scatter2d(t, sigma_B, inline=False)"
   ]
  },
  {
   "cell_type": "code",
   "execution_count": null,
   "metadata": {},
   "outputs": [],
   "source": [
    "sigma_B.describe()"
   ]
  },
  {
   "cell_type": "code",
   "execution_count": null,
   "metadata": {},
   "outputs": [],
   "source": [
    "def chi2(f, x, std):\n",
    "    return np.sum(np.square((x-f)/std))"
   ]
  },
  {
   "cell_type": "code",
   "execution_count": null,
   "metadata": {},
   "outputs": [],
   "source": [
    "len(sigma_B)"
   ]
  },
  {
   "cell_type": "code",
   "execution_count": null,
   "metadata": {},
   "outputs": [],
   "source": [
    "len(df_)"
   ]
  },
  {
   "cell_type": "code",
   "execution_count": null,
   "metadata": {},
   "outputs": [],
   "source": [
    "fit_chi2 = chi2(df_[\"Bmag_lsq\"], df_[\"Scaled Hall Voltage\"], sigma_B)\n",
    "fit_chi2"
   ]
  },
  {
   "cell_type": "code",
   "execution_count": null,
   "metadata": {},
   "outputs": [],
   "source": [
    "dof = len(df_) - 2\n",
    "dof"
   ]
  },
  {
   "cell_type": "code",
   "execution_count": null,
   "metadata": {},
   "outputs": [],
   "source": [
    "n = np.linspace(1000,20000, 1000)"
   ]
  },
  {
   "cell_type": "code",
   "execution_count": null,
   "metadata": {},
   "outputs": [],
   "source": [
    "P = stats.chi2.pdf(n, dof)"
   ]
  },
  {
   "cell_type": "code",
   "execution_count": null,
   "metadata": {},
   "outputs": [],
   "source": [
    "plt.plot(n,P)\n",
    "plt.plot([fit_chi2, fit_chi2],[0., P.max()], 'r--');"
   ]
  },
  {
   "cell_type": "markdown",
   "metadata": {},
   "source": [
    "Try adding a few more polynomial terms"
   ]
  },
  {
   "cell_type": "code",
   "execution_count": null,
   "metadata": {},
   "outputs": [],
   "source": [
    "def volt_3rd(temp, A, B, C, D):\n",
    "    #return A * temp + B * temp**2 + C * temp**3 + D\n",
    "    return A * temp + B * temp**2 + D"
   ]
  },
  {
   "cell_type": "code",
   "execution_count": null,
   "metadata": {},
   "outputs": [],
   "source": [
    "guess = np.array([-1300 / 3.5, 0, 0, 2e6]) # A, B"
   ]
  },
  {
   "cell_type": "code",
   "execution_count": null,
   "metadata": {},
   "outputs": [],
   "source": [
    "x_dat = df_[f\"{probe}_Cal_T\"]\n",
    "x_dat_avg = xs\n",
    "#x_dat = df[stable_temp][f\"{probe}_Cal_T\"]"
   ]
  },
  {
   "cell_type": "code",
   "execution_count": null,
   "metadata": {},
   "outputs": [],
   "source": [
    "y_dat = df_[\"Scaled Hall Voltage\"]\n",
    "#y_dat = df_[\"Scaled Hall Z\"]\n",
    "#y_dat = df_[\"NMR [T]\"]"
   ]
  },
  {
   "cell_type": "code",
   "execution_count": null,
   "metadata": {},
   "outputs": [],
   "source": [
    "params, cov = optimization.curve_fit(volt_3rd, x_dat, y_dat, guess)\n",
    "params_avg, cov_avg = optimization.curve_fit(volt_3rd, x_dat_avg, ys, guess)\n",
    "#params, cov = optimization.curve_fit(volt, x_dat, \n",
    "#                                     df[stable_temp][f\"{probe}_Raw_Bmag\"] / df[stable_temp][\"NMR [T]\"], guess)"
   ]
  },
  {
   "cell_type": "code",
   "execution_count": null,
   "metadata": {},
   "outputs": [],
   "source": [
    "# stable temp\n",
    "params, cov"
   ]
  },
  {
   "cell_type": "code",
   "execution_count": null,
   "metadata": {},
   "outputs": [],
   "source": [
    "# stable temp averaged\n",
    "params_avg, cov_avg"
   ]
  },
  {
   "cell_type": "code",
   "execution_count": null,
   "metadata": {},
   "outputs": [],
   "source": [
    "A_fit, B_fit, C_fit, D_fit = params\n",
    "A_fit_avg, B_fit_avg, C_fit_avg, D_fit_avg = params_avg"
   ]
  },
  {
   "cell_type": "code",
   "execution_count": null,
   "metadata": {},
   "outputs": [],
   "source": [
    "df_[\"Bmag_lsq\"] = volt_3rd(x_dat, A_fit, B_fit, C_fit, D_fit)\n",
    "df_[\"Bmag_lsq_avg\"] = volt_3rd(x_dat, A_fit_avg, B_fit_avg, C_fit_avg, D_fit_avg)"
   ]
  },
  {
   "cell_type": "code",
   "execution_count": null,
   "metadata": {},
   "outputs": [],
   "source": [
    "ts = np.linspace(x_dat.min(), x_dat.max(), 25)"
   ]
  },
  {
   "cell_type": "code",
   "execution_count": null,
   "metadata": {},
   "outputs": [],
   "source": [
    "B_lsq = volt_3rd(ts, A_fit, B_fit, C_fit, D_fit)\n",
    "B_lsq_avg = volt_3rd(ts, A_fit_avg, B_fit_avg, C_fit_avg, D_fit_avg)"
   ]
  },
  {
   "cell_type": "code",
   "execution_count": null,
   "metadata": {},
   "outputs": [],
   "source": [
    "B_lsq = pd.Series(B_lsq, name=\"Stable Temp Fit\")\n",
    "B_lsq_avg = pd.Series(B_lsq_avg, name=\"Stable Temp Averaged Fit\")"
   ]
  },
  {
   "cell_type": "code",
   "execution_count": null,
   "metadata": {},
   "outputs": [],
   "source": [
    "averaged=True\n",
    "\n",
    "fig = scatter2d(x_dat,\n",
    "                y_dat,\n",
    "                df_.days_delta, opacity=0.8, show_plot=False)\n",
    "\n",
    "fig.add_trace(go.Scatter(\n",
    "                    x=ts, y=B_lsq,\n",
    "                    mode='lines', name='Linear fit',#\"|V|/|B| = A * Temp. + B\",\n",
    "                    line=dict(color='rgb(78, 42, 132)',#'deeppink',\n",
    "                              width=1,\n",
    "                              dash='dash')));\n",
    "#fig.add_trace(go.Scatter(\n",
    "#                    x=ts, y=B_lsq_avg,\n",
    "#                    mode='lines', name=\"mean(|V|/|B|) = A * mean(Temp.) + B\",\n",
    "#                    line=dict(color='purple', width=1,\n",
    "#                              dash='dash')));\n",
    "\n",
    "fig.update_traces(marker=dict(size=1));\n",
    "\n",
    "if averaged:\n",
    "    fig.add_trace(go.Scatter(\n",
    "        x= xs,\n",
    "        y= ys,\n",
    "        mode='markers',\n",
    "        name='Averaged Data',\n",
    "        error_x=dict(\n",
    "            type='data',\n",
    "            array=xerrs,\n",
    "            width=1,\n",
    "            thickness=1.,\n",
    "            visible=True),\n",
    "        error_y=dict(\n",
    "            type='data',\n",
    "            array=yerrs,\n",
    "            width=1,\n",
    "            thickness=1.,\n",
    "            visible=True),\n",
    "        marker=dict(\n",
    "            size=3,\n",
    "            color=\"Red\",\n",
    "        )\n",
    "    ))\n",
    "\n",
    "#eqn = f\"Volt. = {A_fit:.2E} * Temp. + {B_fit:.2E}\"\n",
    "eqn = f\"y = {A_fit:.2E} * x + {B_fit:.2E} * x^2 + {C_fit:.2E} * x^3 + {D_fit:.2E}\"\n",
    "\n",
    "i = 6\n",
    "fig.add_annotation(\n",
    "    go.layout.Annotation(\n",
    "            x=ts[i],\n",
    "            y=B_lsq.iloc[i],\n",
    "            text=eqn,\n",
    "            font=dict(\n",
    "                #family=\"Courier New, monospace\",\n",
    "                size=14,\n",
    "                color=\"#ffffff\"\n",
    "            ),\n",
    "            align=\"center\",\n",
    "            arrowhead=2,\n",
    "            arrowsize=1,\n",
    "            arrowwidth=2,\n",
    "            arrowcolor=\"#636363\",\n",
    "            ax=+250,\n",
    "            ay=-25,\n",
    "            bordercolor=\"#c7c7c7\",\n",
    "            borderwidth=2,\n",
    "            borderpad=4,\n",
    "            bgcolor='rgb(78, 42, 132)',#\"#ff7f0e\",\n",
    "            opacity=0.7,\n",
    "            showarrow=True#False\n",
    "    )\n",
    ")\n",
    "\n",
    "fig.update_layout(title=\"Scaled Hall Voltage vs. Hall Probe Temperature\")\n",
    "fig.update_xaxes(title_text='Hall Probe Temperature [deg C]')\n",
    "fig.update_yaxes(title_text='|V_Hall| / NMR [micro V / T]')\n",
    "fig.update_layout( width=1000,height=600,)\n",
    "\n",
    "filename = plotdir+\"scaled_voltage_vs_temperature_3rd_order\"\n",
    "\n",
    "plot(fig, filename=filename+'.html')"
   ]
  },
  {
   "cell_type": "code",
   "execution_count": null,
   "metadata": {},
   "outputs": [],
   "source": [
    "pio.write_image(fig, filename+\".pdf\")\n",
    "pio.write_image(fig, filename+\".png\")"
   ]
  },
  {
   "cell_type": "code",
   "execution_count": null,
   "metadata": {},
   "outputs": [],
   "source": []
  },
  {
   "cell_type": "code",
   "execution_count": null,
   "metadata": {},
   "outputs": [],
   "source": [
    "def chi2(f, x, std):\n",
    "    return np.sum(np.square((x-f)/std))"
   ]
  },
  {
   "cell_type": "code",
   "execution_count": null,
   "metadata": {},
   "outputs": [],
   "source": [
    "len(sigma_B)"
   ]
  },
  {
   "cell_type": "code",
   "execution_count": null,
   "metadata": {},
   "outputs": [],
   "source": [
    "len(df_)"
   ]
  },
  {
   "cell_type": "code",
   "execution_count": null,
   "metadata": {},
   "outputs": [],
   "source": [
    "fit_chi2 = chi2(df_[\"Bmag_lsq\"], df_[\"Scaled Hall Voltage\"], sigma_B)\n",
    "fit_chi2"
   ]
  },
  {
   "cell_type": "code",
   "execution_count": null,
   "metadata": {},
   "outputs": [],
   "source": [
    "dof = len(df_) - 3#4 # 4 parameter fit\n",
    "dof"
   ]
  },
  {
   "cell_type": "code",
   "execution_count": null,
   "metadata": {},
   "outputs": [],
   "source": [
    "n = np.linspace(1000,20000, 1000)"
   ]
  },
  {
   "cell_type": "code",
   "execution_count": null,
   "metadata": {},
   "outputs": [],
   "source": [
    "P = stats.chi2.pdf(n, dof)"
   ]
  },
  {
   "cell_type": "code",
   "execution_count": null,
   "metadata": {},
   "outputs": [],
   "source": [
    "# 3rd order\n",
    "plt.plot(n,P)\n",
    "plt.plot([fit_chi2, fit_chi2],[0., P.max()], 'r--');"
   ]
  },
  {
   "cell_type": "code",
   "execution_count": null,
   "metadata": {},
   "outputs": [],
   "source": [
    "# 4th order\n",
    "plt.plot(n,P)\n",
    "plt.plot([fit_chi2, fit_chi2],[0., P.max()], 'r--');"
   ]
  },
  {
   "cell_type": "code",
   "execution_count": null,
   "metadata": {},
   "outputs": [],
   "source": []
  },
  {
   "cell_type": "code",
   "execution_count": null,
   "metadata": {},
   "outputs": [],
   "source": []
  },
  {
   "cell_type": "code",
   "execution_count": null,
   "metadata": {},
   "outputs": [],
   "source": []
  },
  {
   "cell_type": "code",
   "execution_count": null,
   "metadata": {},
   "outputs": [],
   "source": [
    "for probe in probes:\n",
    "    fig = scatter2d(df_.index, df_[f\"{probe}_Raw_Bmag\"], inline=False)"
   ]
  },
  {
   "cell_type": "markdown",
   "metadata": {},
   "source": [
    "## Fit Routine\n",
    "**IMPORTANT**\n",
    "- should add this as a tool in hallprobecalib"
   ]
  },
  {
   "cell_type": "code",
   "execution_count": null,
   "metadata": {},
   "outputs": [],
   "source": [
    "## FIT ORDER N"
   ]
  },
  {
   "cell_type": "code",
   "execution_count": null,
   "metadata": {},
   "outputs": [],
   "source": [
    "#import lmfit as lm"
   ]
  },
  {
   "cell_type": "code",
   "execution_count": 115,
   "metadata": {},
   "outputs": [],
   "source": [
    "def polyfit_order_n(N, x_dat, y_dat, std_dat):\n",
    "    # e.g. order 1 gives form y = C0 + C1*x\n",
    "    # returns lmfit result object\n",
    "    Cs = {}\n",
    "    \n",
    "    def polynomial(x, N, **Cs):\n",
    "        ys = np.zeros_like(x)\n",
    "        for n in range(N+1):\n",
    "            C = Cs[f'C_{n}']\n",
    "            ys += C * x**n\n",
    "        return ys\n",
    "    \n",
    "    # using lmfit\n",
    "    model = lm.Model(polynomial, independent_vars=['x'])\n",
    "    params = lm.Parameters()\n",
    "    params.add('N', value=N, vary=False) # just telling us when to truncate our sum\n",
    "    for n in range(N+1):\n",
    "        params.add(f'C_{n}', value=0)\n",
    "    \n",
    "    result = model.fit(y_dat.values, x=x_dat.values, params=params, weights=1/std_dat)\n",
    "    \n",
    "    print(result.fit_report())\n",
    "   \n",
    "    return result"
   ]
  },
  {
   "cell_type": "code",
   "execution_count": 116,
   "metadata": {},
   "outputs": [
    {
     "name": "stdout",
     "output_type": "stream",
     "text": [
      "[[Model]]\n",
      "    Model(polynomial)\n",
      "[[Fit Statistics]]\n",
      "    # fitting method   = leastsq\n",
      "    # function evals   = 55\n",
      "    # data points      = 22119\n",
      "    # variables        = 2\n",
      "    chi-square         = 27081.2107\n",
      "    reduced chi-square = 1.22445226\n",
      "    Akaike info crit   = 4480.95607\n",
      "    Bayesian info crit = 4496.96446\n",
      "[[Variables]]\n",
      "    N:    1 (fixed)\n",
      "    C_0:  0.25557552 +/- 5.7260e-04 (0.22%) (init = 0)\n",
      "    C_1:  0.78821941 +/- 4.7417e-04 (0.06%) (init = 0)\n",
      "[[Correlations]] (unreported correlations are < 0.100)\n",
      "    C(C_0, C_1) = -1.000\n",
      "\n"
     ]
    }
   ],
   "source": [
    "result = polyfit_order_n(1, df_[f\"{probe}_Cal_Bmag\"], df_[\"NMR [T]\"], 2e-5*np.ones_like(df_[\"NMR [T]\"]))"
   ]
  },
  {
   "cell_type": "code",
   "execution_count": 117,
   "metadata": {},
   "outputs": [
    {
     "data": {
      "text/plain": [
       "(<Figure size 864x864 with 2 Axes>, GridSpec(2, 1, height_ratios=[1, 4]))"
      ]
     },
     "execution_count": 117,
     "metadata": {},
     "output_type": "execute_result"
    },
    {
     "data": {
      "image/png": "[encoded data removed]",
      "text/plain": [
       "<Figure size 864x864 with 2 Axes>"
      ]
     },
     "metadata": {
      "needs_background": "light"
     },
     "output_type": "display_data"
    }
   ],
   "source": [
    "result.plot()"
   ]
  },
  {
   "cell_type": "code",
   "execution_count": 132,
   "metadata": {
    "scrolled": false
   },
   "outputs": [
    {
     "name": "stdout",
     "output_type": "stream",
     "text": [
      "[[Model]]\n",
      "    Model(polynomial)\n",
      "[[Fit Statistics]]\n",
      "    # fitting method   = leastsq\n",
      "    # function evals   = 332\n",
      "    # data points      = 22119\n",
      "    # variables        = 9\n",
      "    chi-square         = 20418.5485\n",
      "    reduced chi-square = 0.92349835\n",
      "    Akaike info crit   = -1751.37042\n",
      "    Bayesian info crit = -1679.33269\n",
      "[[Variables]]\n",
      "    N:    8 (fixed)\n",
      "    C_0: -50834504.7 +/- 1055699.27 (2.08%) (init = 0)\n",
      "    C_1:  15620950.6 +/- 308635.070 (1.98%) (init = 0)\n",
      "    C_2: -1738019.29 +/- 34917.8528 (2.01%) (init = 0)\n",
      "    C_3:  82236.4627 +/- 1684.54182 (2.05%) (init = 0)\n",
      "    C_4:  26.1596018 +/- 2.07267659 (7.92%) (init = 0)\n",
      "    C_5: -183.901018 +/- 3.88018188 (2.11%) (init = 0)\n",
      "    C_6:  8.55395175 +/- 0.18457209 (2.16%) (init = 0)\n",
      "    C_7: -0.16987719 +/- 0.00374814 (2.21%) (init = 0)\n",
      "    C_8:  0.00130542 +/- 2.9475e-05 (2.26%) (init = 0)\n",
      "[[Correlations]] (unreported correlations are < 0.100)\n",
      "    C(C_3, C_7) = -1.001\n",
      "    C(C_1, C_5) = -1.001\n",
      "    C(C_3, C_6) =  1.001\n",
      "    C(C_2, C_5) =  1.001\n",
      "    C(C_0, C_5) =  1.001\n",
      "    C(C_3, C_8) =  1.001\n",
      "    C(C_2, C_6) = -1.001\n",
      "    C(C_3, C_5) = -1.001\n",
      "    C(C_1, C_6) =  1.001\n",
      "    C(C_2, C_7) =  1.001\n",
      "    C(C_0, C_6) = -1.001\n",
      "    C(C_2, C_8) = -1.001\n",
      "    C(C_1, C_7) = -1.001\n",
      "    C(C_0, C_7) =  1.001\n",
      "    C(C_1, C_8) =  1.001\n",
      "    C(C_0, C_8) = -1.001\n",
      "    C(C_6, C_8) =  1.000\n",
      "    C(C_0, C_2) =  1.000\n",
      "    C(C_7, C_8) = -1.000\n",
      "    C(C_0, C_1) = -1.000\n",
      "    C(C_6, C_7) = -1.000\n",
      "    C(C_1, C_2) = -1.000\n",
      "    C(C_5, C_8) = -1.000\n",
      "    C(C_0, C_3) = -1.000\n",
      "    C(C_5, C_7) =  1.000\n",
      "    C(C_1, C_3) =  1.000\n",
      "    C(C_5, C_6) = -1.000\n",
      "    C(C_2, C_3) = -1.000\n",
      "\n"
     ]
    }
   ],
   "source": [
    "result = polyfit_order_n(8, df_[f\"{probe}_Cal_T\"], df_[\"Scaled Hall Voltage\"], sigma_B)"
   ]
  },
  {
   "cell_type": "code",
   "execution_count": 133,
   "metadata": {},
   "outputs": [
    {
     "data": {
      "text/plain": [
       "(<Figure size 864x864 with 2 Axes>, GridSpec(2, 1, height_ratios=[1, 4]))"
      ]
     },
     "execution_count": 133,
     "metadata": {},
     "output_type": "execute_result"
    },
    {
     "data": {
      "image/png": "[encoded data removed]",
      "text/plain": [
       "<Figure size 864x864 with 2 Axes>"
      ]
     },
     "metadata": {
      "needs_background": "light"
     },
     "output_type": "display_data"
    }
   ],
   "source": [
    "result.plot()"
   ]
  },
  {
   "cell_type": "code",
   "execution_count": null,
   "metadata": {},
   "outputs": [],
   "source": []
  },
  {
   "cell_type": "code",
   "execution_count": 169,
   "metadata": {},
   "outputs": [
    {
     "data": {
      "text/plain": [
       "array([35398.,  1270.,  4974.,  1439.,  1403.,  1430.,   204.,  1224.,\n",
       "        2142.])"
      ]
     },
     "execution_count": 169,
     "metadata": {},
     "output_type": "execute_result"
    }
   ],
   "source": [
    "ns"
   ]
  },
  {
   "cell_type": "code",
   "execution_count": 170,
   "metadata": {},
   "outputs": [
    {
     "data": {
      "text/plain": [
       "array([6.438081  , 0.23098375, 0.90465605, 0.26172096, 0.25517339,\n",
       "       0.26008407, 0.0371029 , 0.22261741, 0.38958047])"
      ]
     },
     "execution_count": 170,
     "metadata": {},
     "output_type": "execute_result"
    }
   ],
   "source": [
    "ns / ns.mean()"
   ]
  },
  {
   "cell_type": "code",
   "execution_count": null,
   "metadata": {},
   "outputs": [],
   "source": [
    "x_dat_avg = pd.Series(x_dat_avg)\n",
    "ys = pd.Series(ys)\n",
    "yerrs = pd.Series(yerrs)\n",
    "ns = pd.Series(ns)"
   ]
  },
  {
   "cell_type": "code",
   "execution_count": null,
   "metadata": {},
   "outputs": [],
   "source": [
    "result = polyfit_order_n(1,x_dat_avg, ys, ns.mean()*yerrs / ns)"
   ]
  },
  {
   "cell_type": "code",
   "execution_count": 171,
   "metadata": {},
   "outputs": [
    {
     "data": {
      "image/png": "[encoded data removed]",
      "text/plain": [
       "<Figure size 864x576 with 1 Axes>"
      ]
     },
     "metadata": {
      "needs_background": "light"
     },
     "output_type": "display_data"
    }
   ],
   "source": [
    "#def chi2(f, x, std):\n",
    "#        return np.sum(np.square((x-f)/std))\n",
    "\n",
    "#len(sigma_B)\n",
    "\n",
    "#len(df_)\n",
    "\n",
    "#fit_chi2 = chi2(df_[\"Bmag_lsq\"], df_[\"Scaled Hall Voltage\"], sigma_B)\n",
    "#fit_chi2\n",
    "fit_chi2 = result.chisqr#0.3247\n",
    "\n",
    "dof = len(df_) - 5#4 # 4 parameter fit\n",
    "#dof\n",
    "\n",
    "n = np.linspace(0,12, 100)\n",
    "\n",
    "P = stats.chi2.pdf(n, dof)\n",
    "\n",
    "# 3rd order\n",
    "plt.plot(n,P)\n",
    "plt.plot([fit_chi2, fit_chi2],[0., P.max()], 'r--');"
   ]
  },
  {
   "cell_type": "code",
   "execution_count": null,
   "metadata": {},
   "outputs": [],
   "source": [
    "fig = scatter2d(df_.index, df_[\"DF0000000D5E803A_Cal_Res_Rel\"], df_.days_delta, inline=False)"
   ]
  },
  {
   "cell_type": "code",
   "execution_count": null,
   "metadata": {},
   "outputs": [],
   "source": [
    "result.plot()"
   ]
  },
  {
   "cell_type": "code",
   "execution_count": 172,
   "metadata": {},
   "outputs": [],
   "source": [
    "def plot_polynomial(N, x_dat, y_dat, c_dat, result,\n",
    "                    size=5, filename=None, inline=False, show_plot=True):\n",
    "    \n",
    "    ####averaged=True\n",
    "\n",
    "    # plot the data\n",
    "    fig = scatter2d(x_dat,\n",
    "                    y_dat,\n",
    "                    c_dat, opacity=0.9, show_plot=False)\n",
    "    # add line for fit\n",
    "    xs = np.linspace(x_dat.min(), x_dat.max(), 100)\n",
    "    ys = result.eval(x=xs)\n",
    "    fig.add_trace(go.Scatter(\n",
    "                        x=xs, y=ys,\n",
    "                        mode='lines', name=f'Order {N} Polynomial fit',#\"|V|/|B| = A * Temp. + B\",\n",
    "                        line=dict(color='rgb(78, 42, 132)',#'deeppink',\n",
    "                                  width=1,\n",
    "                                  dash='dash')));\n",
    "    #fig.add_trace(go.Scatter(\n",
    "    #                    x=ts, y=B_lsq_avg,\n",
    "    #                    mode='lines', name=\"mean(|V|/|B|) = A * mean(Temp.) + B\",\n",
    "    #                    line=dict(color='purple', width=1,\n",
    "    #                              dash='dash')));\n",
    "\n",
    "    fig.update_traces(marker=dict(size=size));\n",
    "\n",
    "    '''if averaged:\n",
    "        fig.add_trace(go.Scatter(\n",
    "            x= xs,\n",
    "            y= ys,\n",
    "            mode='markers',\n",
    "            name='Averaged Data',\n",
    "            error_x=dict(\n",
    "                type='data',\n",
    "                array=xerrs,\n",
    "                width=1,\n",
    "                thickness=1.,\n",
    "                visible=True),\n",
    "            error_y=dict(\n",
    "                type='data',\n",
    "                array=yerrs,\n",
    "                width=1,\n",
    "                thickness=1.,\n",
    "                visible=True),\n",
    "            marker=dict(\n",
    "                size=3,\n",
    "                color=\"Red\",\n",
    "            )\n",
    "        ))'''\n",
    "\n",
    "    #eqn = f\"Volt. = {A_fit:.2E} * Temp. + {B_fit:.2E}\"\n",
    "    eqn = f\"y = \"\n",
    "    for n in range(N+1):\n",
    "        p = result.params[f\"C_{n}\"]\n",
    "        eqn += f\"{p:.2E} * x^{n}\"\n",
    "        if (n >= 2) and ((n+1)%3 == 0) and (n != N):\n",
    "            eqn += \"<br>    \"\n",
    "    ax = 250\n",
    "    ay = -25\n",
    "    if result.params[\"C_1\"] < 0:\n",
    "        i = 20\n",
    "        #ax= +\n",
    "        #ay= -\n",
    "    else:\n",
    "        i = -20\n",
    "        ax = -ax\n",
    "        ay = -ay\n",
    "    fig.add_annotation(\n",
    "        go.layout.Annotation(\n",
    "                x=xs[i],\n",
    "                y=ys[i],\n",
    "                text=eqn,\n",
    "                font=dict(\n",
    "                    #family=\"Courier New, monospace\",\n",
    "                    size=12,\n",
    "                    color=\"#ffffff\"\n",
    "                ),\n",
    "                align=\"center\",\n",
    "                arrowhead=2,\n",
    "                arrowsize=1,\n",
    "                arrowwidth=2,\n",
    "                arrowcolor=\"#636363\",\n",
    "                ax=ax,\n",
    "                ay=ax,\n",
    "                bordercolor=\"#c7c7c7\",\n",
    "                borderwidth=2,\n",
    "                borderpad=4,\n",
    "                bgcolor='rgb(78, 42, 132)',#\"#ff7f0e\",\n",
    "                opacity=0.65,\n",
    "                showarrow=True#False\n",
    "        )\n",
    "    )\n",
    "\n",
    "    fig.update_layout(title=\"y vs. x\")\n",
    "    fig.update_xaxes(title_text='x')\n",
    "    fig.update_yaxes(title_text='y')\n",
    "    #fig.update_layout( width=1000,height=600,)\n",
    "\n",
    "    #filename = plotdir+\"scaled_voltage_vs_temperature_3rd_order\"\n",
    "    if filename == None:\n",
    "        if show_plot:\n",
    "            if inline:\n",
    "                iplot(fig)\n",
    "            else:\n",
    "                plot(fig)\n",
    "    else:\n",
    "        if show_plot:\n",
    "            if inline:\n",
    "                iplot(fig, filename=filename+'.html')\n",
    "            else:\n",
    "                plot(fig, filename=filename+'.html')\n",
    "        pio.write_image(fig, filename+'.pdf')\n",
    "        pio.write_image(fig, filename+'.png')\n",
    "    \n",
    "    return fig"
   ]
  },
  {
   "cell_type": "code",
   "execution_count": 173,
   "metadata": {},
   "outputs": [
    {
     "ename": "NameError",
     "evalue": "name 'plot_poly_chi2' is not defined",
     "output_type": "error",
     "traceback": [
      "\u001b[0;31m---------------------------------------------------------------------------\u001b[0m",
      "\u001b[0;31mNameError\u001b[0m                                 Traceback (most recent call last)",
      "\u001b[0;32m<ipython-input-173-4993b2c748f2>\u001b[0m in \u001b[0;36m<module>\u001b[0;34m\u001b[0m\n\u001b[0;32m----> 1\u001b[0;31m \u001b[0mfig\u001b[0m \u001b[0;34m=\u001b[0m \u001b[0mplot_poly_chi2\u001b[0m\u001b[0;34m(\u001b[0m\u001b[0;36m4\u001b[0m\u001b[0;34m,\u001b[0m \u001b[0mresult\u001b[0m\u001b[0;34m)\u001b[0m\u001b[0;34m\u001b[0m\u001b[0;34m\u001b[0m\u001b[0m\n\u001b[0m",
      "\u001b[0;31mNameError\u001b[0m: name 'plot_poly_chi2' is not defined"
     ]
    }
   ],
   "source": [
    "fig = plot_poly_chi2(4, result)"
   ]
  },
  {
   "cell_type": "code",
   "execution_count": null,
   "metadata": {},
   "outputs": [],
   "source": [
    "fig = plot_poly_chi2(1, result)"
   ]
  },
  {
   "cell_type": "code",
   "execution_count": null,
   "metadata": {},
   "outputs": [],
   "source": [
    "N = 1\n",
    "len(result.data) - (N+1) # y values"
   ]
  },
  {
   "cell_type": "code",
   "execution_count": 174,
   "metadata": {},
   "outputs": [],
   "source": [
    "def plot_poly_chi2(N, result, filename=None, inline=False, show_plot=True):\n",
    "    dof = len(result.data) - (N+1)\n",
    "    fit_chi2 = result.chisqr\n",
    "    P_at_fit = 1.-stats.chi2.cdf(fit_chi2, dof)\n",
    "    print(f\"Probability of Chi2: {P_at_fit}\")\n",
    "    \n",
    "    lo = min(fit_chi2*0.5, dof / 4)\n",
    "    hi = max(fit_chi2*1.5, 2*dof*1.5)\n",
    "    \n",
    "    n = np.linspace(lo,hi, 1000)\n",
    "\n",
    "    P = stats.chi2.pdf(n, dof)\n",
    "    \n",
    "    n = pd.Series(n, name=\"Chi^2\")\n",
    "    P = pd.Series(P, name=\"p.d.f.\")\n",
    "    \n",
    "    if np.isfinite(P.max()):\n",
    "        ymax = P.max()\n",
    "    else:\n",
    "        ymax = 1.\n",
    "\n",
    "    fig = scatter2d(n,P, show_plot=False)\n",
    "    fig.add_trace(go.Scatter(\n",
    "                            x=[fit_chi2, fit_chi2], y=[0., ymax],\n",
    "                            mode='lines', name=f'Fit Chi^2 = {fit_chi2}',#\"|V|/|B| = A * Temp. + B\",\n",
    "                            line=dict(color='rgb(78, 42, 132)',#'deeppink',\n",
    "                                      width=1,\n",
    "                                      dash='dash')));\n",
    "        \n",
    "    if filename == None:\n",
    "        if show_plot:\n",
    "            if inline:\n",
    "                iplot(fig)\n",
    "            else:\n",
    "                plot(fig)\n",
    "    else:\n",
    "        if show_plot:\n",
    "            if inline:\n",
    "                iplot(fig, filename=filename+'.html')\n",
    "            else:\n",
    "                plot(fig, filename=filename+'.html')\n",
    "        pio.write_image(fig, filename+'.pdf')\n",
    "        pio.write_image(fig, filename+'.png')\n",
    "    \n",
    "    return fig"
   ]
  },
  {
   "cell_type": "code",
   "execution_count": 175,
   "metadata": {},
   "outputs": [
    {
     "name": "stdout",
     "output_type": "stream",
     "text": [
      "Probability of Chi2: 0.0\n"
     ]
    }
   ],
   "source": [
    "fig = plot_poly_chi2(4, result)"
   ]
  },
  {
   "cell_type": "code",
   "execution_count": null,
   "metadata": {},
   "outputs": [],
   "source": [
    "len(result.data)"
   ]
  },
  {
   "cell_type": "code",
   "execution_count": null,
   "metadata": {},
   "outputs": [],
   "source": [
    "len(result.params) - 2"
   ]
  },
  {
   "cell_type": "code",
   "execution_count": null,
   "metadata": {},
   "outputs": [],
   "source": [
    "result.chisqr"
   ]
  },
  {
   "cell_type": "code",
   "execution_count": null,
   "metadata": {},
   "outputs": [],
   "source": [
    "result."
   ]
  },
  {
   "cell_type": "code",
   "execution_count": null,
   "metadata": {},
   "outputs": [],
   "source": []
  },
  {
   "cell_type": "code",
   "execution_count": null,
   "metadata": {},
   "outputs": [],
   "source": []
  },
  {
   "cell_type": "code",
   "execution_count": null,
   "metadata": {},
   "outputs": [],
   "source": [
    "result.eval(x=df[f\"{probe}_Cal_T\"])"
   ]
  },
  {
   "cell_type": "raw",
   "metadata": {},
   "source": [
    "**result.params"
   ]
  },
  {
   "cell_type": "code",
   "execution_count": null,
   "metadata": {},
   "outputs": [],
   "source": [
    "polynomial(np.array([0,1,2]), len(result.params)-2, **result.params)"
   ]
  },
  {
   "cell_type": "code",
   "execution_count": null,
   "metadata": {},
   "outputs": [],
   "source": []
  },
  {
   "cell_type": "code",
   "execution_count": null,
   "metadata": {},
   "outputs": [],
   "source": []
  },
  {
   "cell_type": "code",
   "execution_count": null,
   "metadata": {},
   "outputs": [],
   "source": []
  },
  {
   "cell_type": "code",
   "execution_count": null,
   "metadata": {},
   "outputs": [],
   "source": [
    "    df_[\"Bmag_lsq\"] = volt_3rd(x_dat, A_fit, B_fit, C_fit, D_fit)\n",
    "    df_[\"Bmag_lsq_avg\"] = volt_3rd(x_dat, A_fit_avg, B_fit_avg, C_fit_avg, D_fit_avg)\n",
    "\n",
    "    ts = np.linspace(x_dat.min(), x_dat.max(), 25)\n",
    "\n",
    "    B_lsq = volt_3rd(ts, A_fit, B_fit, C_fit, D_fit)\n",
    "    B_lsq_avg = volt_3rd(ts, A_fit_avg, B_fit_avg, C_fit_avg, D_fit_avg)\n",
    "\n",
    "    B_lsq = pd.Series(B_lsq, name=\"Stable Temp Fit\")\n",
    "    B_lsq_avg = pd.Series(B_lsq_avg, name=\"Stable Temp Averaged Fit\")\n",
    "\n",
    "    averaged=True\n",
    "\n",
    "    fig = scatter2d(x_dat,\n",
    "                    y_dat,\n",
    "                    df_.days_delta, opacity=0.8, show_plot=False)\n",
    "\n",
    "    fig.add_trace(go.Scatter(\n",
    "                        x=ts, y=B_lsq,\n",
    "                        mode='lines', name='Linear fit',#\"|V|/|B| = A * Temp. + B\",\n",
    "                        line=dict(color='rgb(78, 42, 132)',#'deeppink',\n",
    "                                  width=1,\n",
    "                                  dash='dash')));\n",
    "    #fig.add_trace(go.Scatter(\n",
    "    #                    x=ts, y=B_lsq_avg,\n",
    "    #                    mode='lines', name=\"mean(|V|/|B|) = A * mean(Temp.) + B\",\n",
    "    #                    line=dict(color='purple', width=1,\n",
    "    #                              dash='dash')));\n",
    "\n",
    "    fig.update_traces(marker=dict(size=1));\n",
    "\n",
    "    if averaged:\n",
    "        fig.add_trace(go.Scatter(\n",
    "            x= xs,\n",
    "            y= ys,\n",
    "            mode='markers',\n",
    "            name='Averaged Data',\n",
    "            error_x=dict(\n",
    "                type='data',\n",
    "                array=xerrs,\n",
    "                width=1,\n",
    "                thickness=1.,\n",
    "                visible=True),\n",
    "            error_y=dict(\n",
    "                type='data',\n",
    "                array=yerrs,\n",
    "                width=1,\n",
    "                thickness=1.,\n",
    "                visible=True),\n",
    "            marker=dict(\n",
    "                size=3,\n",
    "                color=\"Red\",\n",
    "            )\n",
    "        ))\n",
    "\n",
    "    #eqn = f\"Volt. = {A_fit:.2E} * Temp. + {B_fit:.2E}\"\n",
    "    eqn = f\"y = {A_fit:.2E} * x + {B_fit:.2E} * x^2 + {C_fit:.2E} * x^3 + {D_fit:.2E}\"\n",
    "\n",
    "    i = 6\n",
    "    fig.add_annotation(\n",
    "        go.layout.Annotation(\n",
    "                x=ts[i],\n",
    "                y=B_lsq.iloc[i],\n",
    "                text=eqn,\n",
    "                font=dict(\n",
    "                    #family=\"Courier New, monospace\",\n",
    "                    size=14,\n",
    "                    color=\"#ffffff\"\n",
    "                ),\n",
    "                align=\"center\",\n",
    "                arrowhead=2,\n",
    "                arrowsize=1,\n",
    "                arrowwidth=2,\n",
    "                arrowcolor=\"#636363\",\n",
    "                ax=+250,\n",
    "                ay=-25,\n",
    "                bordercolor=\"#c7c7c7\",\n",
    "                borderwidth=2,\n",
    "                borderpad=4,\n",
    "                bgcolor='rgb(78, 42, 132)',#\"#ff7f0e\",\n",
    "                opacity=0.7,\n",
    "                showarrow=True#False\n",
    "        )\n",
    "    )\n",
    "\n",
    "    fig.update_layout(title=\"Scaled Hall Voltage vs. Hall Probe Temperature\")\n",
    "    fig.update_xaxes(title_text='Hall Probe Temperature [deg C]')\n",
    "    fig.update_yaxes(title_text='|V_Hall| / NMR [micro V / T]')\n",
    "    fig.update_layout( width=1000,height=600,)\n",
    "\n",
    "    filename = plotdir+\"scaled_voltage_vs_temperature_3rd_order\"\n",
    "\n",
    "    plot(fig, filename=filename+'.html')\n",
    "\n",
    "    pio.write_image(fig, filename+\".pdf\")\n",
    "    pio.write_image(fig, filename+\".png\")\n",
    "\n",
    "\n",
    "\n",
    "    def chi2(f, x, std):\n",
    "        return np.sum(np.square((x-f)/std))\n",
    "\n",
    "    len(sigma_B)\n",
    "\n",
    "    len(df_)\n",
    "\n",
    "    fit_chi2 = chi2(df_[\"Bmag_lsq\"], df_[\"Scaled Hall Voltage\"], sigma_B)\n",
    "    fit_chi2\n",
    "\n",
    "    dof = len(df_) - 3#4 # 4 parameter fit\n",
    "    dof\n",
    "\n",
    "    n = np.linspace(1000,20000, 1000)\n",
    "\n",
    "    P = stats.chi2.pdf(n, dof)\n",
    "\n",
    "    # 3rd order\n",
    "    plt.plot(n,P)\n",
    "    plt.plot([fit_chi2, fit_chi2],[0., P.max()], 'r--');\n",
    "\n",
    "    # 4th order\n",
    "    plt.plot(n,P)\n",
    "    plt.plot([fit_chi2, fit_chi2],[0., P.max()], 'r--');"
   ]
  },
  {
   "cell_type": "code",
   "execution_count": null,
   "metadata": {},
   "outputs": [],
   "source": []
  },
  {
   "cell_type": "code",
   "execution_count": null,
   "metadata": {},
   "outputs": [],
   "source": []
  },
  {
   "cell_type": "code",
   "execution_count": null,
   "metadata": {},
   "outputs": [],
   "source": []
  },
  {
   "cell_type": "code",
   "execution_count": null,
   "metadata": {},
   "outputs": [],
   "source": []
  },
  {
   "cell_type": "code",
   "execution_count": null,
   "metadata": {},
   "outputs": [],
   "source": []
  },
  {
   "cell_type": "code",
   "execution_count": null,
   "metadata": {},
   "outputs": [],
   "source": []
  },
  {
   "cell_type": "markdown",
   "metadata": {},
   "source": [
    "## OLD"
   ]
  },
  {
   "cell_type": "code",
   "execution_count": null,
   "metadata": {},
   "outputs": [],
   "source": []
  },
  {
   "cell_type": "code",
   "execution_count": null,
   "metadata": {},
   "outputs": [],
   "source": [
    "high_point = (df[f\"{probe}_Cal_T\"] > 20) & (df[f\"{probe}_Cal_T\"] < 21)\n",
    "low_point = (df[f\"{probe}_Cal_T\"] > 16) & (df[f\"{probe}_Cal_T\"] < 17)\n",
    "mid_point = (df[f\"{probe}_Cal_T\"] > 18) & (df[f\"{probe}_Cal_T\"] < 19)\n",
    "h = high_point & stable_temp\n",
    "l = low_point & stable_temp\n",
    "m = mid_point & stable_temp"
   ]
  },
  {
   "cell_type": "code",
   "execution_count": null,
   "metadata": {},
   "outputs": [],
   "source": [
    "plt.hist(df[h][f\"{probe}_Raw_Bmag\"]/df[h][\"NMR [T]\"], bins=50);"
   ]
  },
  {
   "cell_type": "code",
   "execution_count": null,
   "metadata": {},
   "outputs": [],
   "source": [
    "fig = scatter2d(df[h][f\"{probe}_Cal_T\"], df[h][f\"{probe}_Raw_Bmag\"]/df[h][\"NMR [T]\"],\n",
    "                df[h].days_delta, inline=False)"
   ]
  },
  {
   "cell_type": "code",
   "execution_count": null,
   "metadata": {},
   "outputs": [],
   "source": [
    "hist2 = plt.hist2d(df[h][f\"{probe}_Cal_T\"], df[h][f\"{probe}_Raw_Bmag\"]/df[h][\"NMR [T]\"], bins=35);"
   ]
  },
  {
   "cell_type": "code",
   "execution_count": null,
   "metadata": {},
   "outputs": [],
   "source": [
    "hist2[1]"
   ]
  },
  {
   "cell_type": "code",
   "execution_count": null,
   "metadata": {},
   "outputs": [],
   "source": [
    "36*36"
   ]
  },
  {
   "cell_type": "code",
   "execution_count": null,
   "metadata": {},
   "outputs": [],
   "source": [
    "len(hist2[1])"
   ]
  },
  {
   "cell_type": "code",
   "execution_count": null,
   "metadata": {},
   "outputs": [],
   "source": [
    "len(hist2[2])"
   ]
  },
  {
   "cell_type": "code",
   "execution_count": null,
   "metadata": {},
   "outputs": [],
   "source": [
    "int(np.floor(hist2[0].argmax() / 36))"
   ]
  },
  {
   "cell_type": "code",
   "execution_count": null,
   "metadata": {},
   "outputs": [],
   "source": [
    "int(round(((hist2[0].argmax() / 35) - int(np.floor(hist2[0].argmax() / 35))) * 35))"
   ]
  },
  {
   "cell_type": "code",
   "execution_count": null,
   "metadata": {},
   "outputs": [],
   "source": [
    "1296-int(np.floor(hist2[0].argmax() / 36))*36"
   ]
  },
  {
   "cell_type": "code",
   "execution_count": null,
   "metadata": {},
   "outputs": [],
   "source": [
    "hist2[0][int(np.floor(hist2[0].argmax() / 35)), int(round(((hist2[0].argmax() / 35) - int(np.floor(hist2[0].argmax() / 35))) * 35))]"
   ]
  },
  {
   "cell_type": "code",
   "execution_count": null,
   "metadata": {},
   "outputs": [],
   "source": [
    "for x, y in np.argwhere(hist2[0] == hist2[0].max()):\n",
    "    # center is between x and x+1\n",
    "    print(np.average(hist2[1][x:x + 2]), np.average(hist2[2][y:y + 2]))"
   ]
  },
  {
   "cell_type": "code",
   "execution_count": null,
   "metadata": {},
   "outputs": [],
   "source": [
    "(df[h][f\"{probe}_Raw_Bmag\"]/df[h][\"NMR [T]\"]).describe()"
   ]
  },
  {
   "cell_type": "code",
   "execution_count": null,
   "metadata": {},
   "outputs": [],
   "source": [
    "df[h][f\"{probe}_Cal_T\"].describe()"
   ]
  },
  {
   "cell_type": "code",
   "execution_count": null,
   "metadata": {},
   "outputs": [],
   "source": []
  },
  {
   "cell_type": "code",
   "execution_count": null,
   "metadata": {},
   "outputs": [],
   "source": [
    "fig = scatter2d(df[stable_temp].index, df[stable_temp][\"Floor\"], inline=False)"
   ]
  },
  {
   "cell_type": "code",
   "execution_count": null,
   "metadata": {},
   "outputs": [],
   "source": [
    "fig = scatter2d(df.index, df[\"Floor\"].diff(5).rolling(5).mean(), inline=False)"
   ]
  },
  {
   "cell_type": "code",
   "execution_count": null,
   "metadata": {},
   "outputs": [],
   "source": [
    "df[\"Roof\"].diff(4).plot()"
   ]
  },
  {
   "cell_type": "code",
   "execution_count": null,
   "metadata": {},
   "outputs": [],
   "source": [
    "df[\"NMR [T]\"].plot()\n",
    "#df[\"Roof\"].diff(1).plot();"
   ]
  },
  {
   "cell_type": "code",
   "execution_count": null,
   "metadata": {},
   "outputs": [],
   "source": []
  },
  {
   "cell_type": "code",
   "execution_count": null,
   "metadata": {},
   "outputs": [],
   "source": []
  },
  {
   "cell_type": "code",
   "execution_count": null,
   "metadata": {},
   "outputs": [],
   "source": [
    "df_ = df[l|m|h]"
   ]
  },
  {
   "cell_type": "code",
   "execution_count": null,
   "metadata": {},
   "outputs": [],
   "source": [
    "def volt(temp, A, B):\n",
    "    return A * temp + B"
   ]
  },
  {
   "cell_type": "code",
   "execution_count": null,
   "metadata": {},
   "outputs": [],
   "source": [
    "guess = np.array([-1300 / 3.5, 2e6]) # A, B"
   ]
  },
  {
   "cell_type": "code",
   "execution_count": null,
   "metadata": {},
   "outputs": [],
   "source": [
    "x_dat = df_[f\"{probe}_Cal_T\"]\n",
    "#x_dat = df[stable_temp][f\"{probe}_Cal_T\"]"
   ]
  },
  {
   "cell_type": "code",
   "execution_count": null,
   "metadata": {},
   "outputs": [],
   "source": [
    "params, cov = optimization.curve_fit(volt, x_dat, df_[f\"{probe}_Raw_Bmag\"] / df_[\"NMR [T]\"], guess)\n",
    "#params, cov = optimization.curve_fit(volt, x_dat, \n",
    "#                                     df[stable_temp][f\"{probe}_Raw_Bmag\"] / df[stable_temp][\"NMR [T]\"], guess)"
   ]
  },
  {
   "cell_type": "code",
   "execution_count": null,
   "metadata": {},
   "outputs": [],
   "source": [
    "# Bmag ### STABLE TEMP\n",
    "params, cov"
   ]
  },
  {
   "cell_type": "code",
   "execution_count": null,
   "metadata": {},
   "outputs": [],
   "source": [
    "np.sqrt(cov[0,0])"
   ]
  },
  {
   "cell_type": "code",
   "execution_count": null,
   "metadata": {},
   "outputs": [],
   "source": [
    "cov[0,1] / (np.sqrt(cov[0,0])*np.sqrt(cov[1,1]))"
   ]
  },
  {
   "cell_type": "markdown",
   "metadata": {},
   "source": [
    "Parameters have strong correlation"
   ]
  },
  {
   "cell_type": "code",
   "execution_count": null,
   "metadata": {},
   "outputs": [],
   "source": [
    "A_fit, B_fit = params"
   ]
  },
  {
   "cell_type": "code",
   "execution_count": null,
   "metadata": {},
   "outputs": [],
   "source": [
    "df_[\"Bmag_lsq\"] = volt(x_dat, A_fit, B_fit)"
   ]
  },
  {
   "cell_type": "code",
   "execution_count": null,
   "metadata": {},
   "outputs": [],
   "source": []
  },
  {
   "cell_type": "code",
   "execution_count": null,
   "metadata": {},
   "outputs": [],
   "source": [
    "p_low = [df[l][f\"{probe}_Cal_T\"].mean(), (df[l][f\"{probe}_Raw_Bmag\"]/df[l][\"NMR [T]\"]).mean()]\n",
    "p_high = [df[h][f\"{probe}_Cal_T\"].mean(), (df[h][f\"{probe}_Raw_Bmag\"]/df[h][\"NMR [T]\"]).mean()]\n",
    "p_mid = [df[m][f\"{probe}_Cal_T\"].mean(), (df[m][f\"{probe}_Raw_Bmag\"]/df[m][\"NMR [T]\"]).mean()]"
   ]
  },
  {
   "cell_type": "code",
   "execution_count": null,
   "metadata": {},
   "outputs": [],
   "source": [
    "std_low = [df[l][f\"{probe}_Cal_T\"].std(), (df[l][f\"{probe}_Raw_Bmag\"]/df[l][\"NMR [T]\"]).std()]\n",
    "std_high = [df[h][f\"{probe}_Cal_T\"].std(), (df[h][f\"{probe}_Raw_Bmag\"]/df[h][\"NMR [T]\"]).std()]\n",
    "std_mid = [df[m][f\"{probe}_Cal_T\"].std(), (df[m][f\"{probe}_Raw_Bmag\"]/df[m][\"NMR [T]\"]).std()]"
   ]
  },
  {
   "cell_type": "code",
   "execution_count": null,
   "metadata": {},
   "outputs": [],
   "source": [
    "std_low"
   ]
  },
  {
   "cell_type": "code",
   "execution_count": null,
   "metadata": {},
   "outputs": [],
   "source": [
    "fig = scatter2d(df_[f\"{probe}_Cal_T\"],\n",
    "                df_[f\"{probe}_Raw_Bmag\"] / df_[\"NMR [T]\"],\n",
    "                df_.days_delta, show_plot=False)\n",
    "#d = [df[f\"{probe}_Raw_X\"].min(), df[f\"{probe}_Raw_X\"].max()]\n",
    "fig.add_trace(go.Scatter(\n",
    "                    x=df_[f\"{probe}_Cal_T\"], y=df_[\"Bmag_lsq\"],\n",
    "                    mode='lines', name=\"|V|/|B| = A * Temp. + B\",\n",
    "                    line=dict(color='deeppink', width=1,\n",
    "                              dash='dash')));\n",
    "#plot(fig)\n",
    "\n",
    "fig.update_traces(marker=dict(size=1));\n",
    "#plot(fig);\n",
    "\n",
    "fig.add_trace(go.Scatter(\n",
    "    x= [p_low[0],p_mid[0],p_high[0]],\n",
    "    y=[p_low[1],p_mid[1],p_high[1]],\n",
    "    mode='markers',\n",
    "    name='averaged_data',\n",
    "    error_x=dict(\n",
    "        type='data',\n",
    "        array=[std_low[0], std_mid[0], std_high[0]],\n",
    "        width=1,\n",
    "        thickness=1.,\n",
    "        visible=True),\n",
    "    error_y=dict(\n",
    "        type='data',\n",
    "        array=[std_low[1], std_mid[1], std_high[1]],\n",
    "        width=1,\n",
    "        thickness=1.,\n",
    "        visible=True),\n",
    "    marker=dict(\n",
    "        size=4,\n",
    "        color=\"Red\",\n",
    "    )\n",
    "))\n",
    "\n",
    "fig.update_layout(title=\"Scaled Hall Voltage vs. Hall Probe Temperature\")\n",
    "fig.update_xaxes(title_text='Hall Probe Temperature [deg C]')\n",
    "fig.update_yaxes(title_text='|V_Hall| / NMR [micro V / T]')\n",
    "fig.update_layout( width=1200,height=900,)\n",
    "\n",
    "#fig = go.Figure(traces)\n",
    "plot(fig, filename=plotdir+\"temp_fit_2point_aggregate.html\")"
   ]
  },
  {
   "cell_type": "code",
   "execution_count": null,
   "metadata": {},
   "outputs": [],
   "source": [
    "pio.write_image(fig, plotdir+\"temp_fit_2point_aggregate.pdf\")\n",
    "pio.write_image(fig, plotdir+\"temp_fit_2point_aggregate.png\")"
   ]
  },
  {
   "cell_type": "code",
   "execution_count": null,
   "metadata": {},
   "outputs": [],
   "source": [
    "std_low"
   ]
  },
  {
   "cell_type": "code",
   "execution_count": null,
   "metadata": {},
   "outputs": [],
   "source": [
    "std_mid"
   ]
  },
  {
   "cell_type": "code",
   "execution_count": null,
   "metadata": {},
   "outputs": [],
   "source": [
    "std_high"
   ]
  },
  {
   "cell_type": "code",
   "execution_count": null,
   "metadata": {},
   "outputs": [],
   "source": [
    "### pick std = 55\n",
    "std_volt = 45.#55."
   ]
  },
  {
   "cell_type": "code",
   "execution_count": null,
   "metadata": {},
   "outputs": [],
   "source": [
    "def chi2(f, x, std):\n",
    "    return np.sum(np.square((x-f)/std))"
   ]
  },
  {
   "cell_type": "code",
   "execution_count": null,
   "metadata": {},
   "outputs": [],
   "source": [
    "fit_chi2 = chi2(df_[\"Bmag_lsq\"], df_[f\"{probe}_Raw_Bmag\"]/df_[\"NMR [T]\"], std_volt)\n",
    "fit_chi2"
   ]
  },
  {
   "cell_type": "code",
   "execution_count": null,
   "metadata": {},
   "outputs": [],
   "source": [
    "# check std\n",
    "df_2 = df_[100:500]"
   ]
  },
  {
   "cell_type": "code",
   "execution_count": null,
   "metadata": {},
   "outputs": [],
   "source": [
    "fig = scatter2d(df_2.index, df_2[f\"{probe}_Raw_Bmag\"]/df_2[\"NMR [T]\"],\n",
    "               inline=False)"
   ]
  },
  {
   "cell_type": "code",
   "execution_count": null,
   "metadata": {},
   "outputs": [],
   "source": [
    "scaled_B = df_2[f\"{probe}_Raw_Bmag\"]/df_2[\"NMR [T]\"]\n",
    "scaled_B.name = \"Scaled |V|/|B|\""
   ]
  },
  {
   "cell_type": "code",
   "execution_count": null,
   "metadata": {},
   "outputs": [],
   "source": [
    "fig = histo(scaled_B, bins=25,\n",
    "               inline=False)"
   ]
  },
  {
   "cell_type": "code",
   "execution_count": null,
   "metadata": {},
   "outputs": [],
   "source": [
    "dof = len(df_) - 2\n",
    "dof"
   ]
  },
  {
   "cell_type": "code",
   "execution_count": null,
   "metadata": {},
   "outputs": [],
   "source": [
    "stats.chi2.pdf(6300, 6325)"
   ]
  },
  {
   "cell_type": "code",
   "execution_count": null,
   "metadata": {},
   "outputs": [],
   "source": [
    "n = np.linspace(0, 7000, 1000)"
   ]
  },
  {
   "cell_type": "code",
   "execution_count": null,
   "metadata": {},
   "outputs": [],
   "source": [
    "P = stats.chi2.pdf(n, dof)"
   ]
  },
  {
   "cell_type": "code",
   "execution_count": null,
   "metadata": {},
   "outputs": [],
   "source": [
    "plt.plot(n,P)\n",
    "plt.plot([fit_chi2, fit_chi2],[0., P.max()], 'r--');"
   ]
  },
  {
   "cell_type": "code",
   "execution_count": null,
   "metadata": {},
   "outputs": [],
   "source": [
    "n[P.argmax()]"
   ]
  },
  {
   "cell_type": "markdown",
   "metadata": {},
   "source": [
    "## Magnet Behavior"
   ]
  },
  {
   "cell_type": "code",
   "execution_count": null,
   "metadata": {},
   "outputs": [],
   "source": [
    "probes"
   ]
  },
  {
   "cell_type": "code",
   "execution_count": null,
   "metadata": {},
   "outputs": [],
   "source": [
    "x_dat = df.index\n",
    "y_dat = df[f\"{probes[0]}_Raw_X\"]"
   ]
  },
  {
   "cell_type": "code",
   "execution_count": null,
   "metadata": {},
   "outputs": [],
   "source": [
    "fig = scatter2d(x_dat, y_dat, df.days_delta, inline=False)"
   ]
  },
  {
   "cell_type": "code",
   "execution_count": null,
   "metadata": {},
   "outputs": [],
   "source": []
  }
 ],
 "metadata": {
  "kernelspec": {
   "display_name": "Python [conda env:mu2e]",
   "language": "python",
   "name": "conda-env-mu2e-py"
  },
  "language_info": {
   "codemirror_mode": {
    "name": "ipython",
    "version": 3
   },
   "file_extension": ".py",
   "mimetype": "text/x-python",
   "name": "python",
   "nbconvert_exporter": "python",
   "pygments_lexer": "ipython3",
   "version": "3.8.6"
  }
 },
 "nbformat": 4,
 "nbformat_minor": 2
}
