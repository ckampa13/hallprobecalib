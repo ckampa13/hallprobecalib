{
 "cells": [
  {
   "cell_type": "markdown",
   "metadata": {},
   "source": [
    "Notes from meeting with Thomas, O'Sheg, Chuck, Stoyan (11am):\n",
    "- For both Mu2e and ORNL PPU, ultimate desire is the following info for each probe:\n",
    "    - Location (x,y,z) and orientation (Rx, Ry, Rz ?) of glass cube corner / COG of Hall elements.\n",
    "    - These values must be in the appropriate reference frame, or be able to do the chain of transformations to get to the appropriate reference frame.\n",
    "        - ORNL this is the test setup in IB1.\n",
    "        - For Mu2e this needs to happen in two different locations:\n",
    "            1. Calibration setup -- kinematic mounting points as Hall probe reference\n",
    "            2. DSFM -- kinematic mounting points as Hall probe reference            \n",
    "- It seems that the chain of survey steps has been completed, by different people/leads. It is not clear that each group measured enough that they can be referenced together and give us what we need.\n",
    "- Ted Beale (and co.) did measurements of the Hall probe card / kinematic mounting. Anything I'm forgetting?\n",
    "- Chuck seems to remember Jana extracting the useful numbers from log files from Ted. Not sure if this needs to happen again.\n",
    "- Chuck (and co.) did a measurement of the Hall probe glass cube corner. (Not sure if orientation measurements were completed?)\n",
    "    - Note Chuck said a previous analysis assumed perfectly cubic glass.\n",
    "- Stoyan said the ORNL deadline is June 2023, but most likely will be done sooner than that.\n",
    "\n",
    "- Thomas said (privately) that ORNL work is good because it is helping with debugging EMMA."
   ]
  },
  {
   "cell_type": "markdown",
   "metadata": {},
   "source": [
    "# Background"
   ]
  },
  {
   "cell_type": "markdown",
   "metadata": {},
   "source": [
    "- Starting a new notebook for the new angular dataset after epoxy to fix the loose screws."
   ]
  },
  {
   "cell_type": "markdown",
   "metadata": {},
   "source": [
    "# Imports"
   ]
  },
  {
   "cell_type": "code",
   "execution_count": null,
   "metadata": {},
   "outputs": [],
   "source": [
    "from IPython.display import display, HTML\n",
    "display(HTML(\"<style>.container { width:100% !important; }</style>\"))"
   ]
  },
  {
   "cell_type": "code",
   "execution_count": null,
   "metadata": {
    "scrolled": true
   },
   "outputs": [],
   "source": [
    "import numpy as np\n",
    "import pandas as pd\n",
    "from copy import deepcopy\n",
    "import pickle as pkl\n",
    "from collections.abc import Iterable\n",
    "# from datetime import datetime\n",
    "# from datetime import timedelta\n",
    "# from pandas.api.types import is_numeric_dtype\n",
    "from scipy.interpolate import interp1d\n",
    "from scipy.spatial.transform import Rotation\n",
    "import lmfit as lm\n",
    "# from copy import deepcopy\n",
    "#from dateutil import parser\n",
    "# from plotly import graph_objects as go\n",
    "# from plotly.offline import plot\n",
    "import matplotlib.pyplot as plt\n",
    "# from matplotlib.ticker import AutoMinorLocator\n",
    "%matplotlib inline\n",
    "\n",
    "# local imports\n",
    "# from plotting import config_plots, datetime_plt, get_label\n",
    "from plotting import config_plots, get_label\n",
    "from load_slow import *\n",
    "from Zaber_Magnet_Convert import *\n",
    "# hallprobecalib package\n",
    "from hallprobecalib.hpcplots import scatter3d, scatter2d, histo, spherical_scatter3d\n",
    "from mu2e.mu2eplots import mu2e_plot3d\n",
    "# V vs. B, T (2021 results)\n",
    "from V_vs_B_T import V_forward, inv_B_v2, invert_row, calc_B_column\n",
    "\n",
    "config_plots()\n",
    "# plt.rcParams.update({\"text.usetex\": True})"
   ]
  },
  {
   "cell_type": "markdown",
   "metadata": {},
   "source": [
    "# Functions"
   ]
  },
  {
   "cell_type": "markdown",
   "metadata": {},
   "source": [
    "## Processing"
   ]
  },
  {
   "cell_type": "code",
   "execution_count": null,
   "metadata": {},
   "outputs": [],
   "source": [
    "def get_probe_IDs(df):\n",
    "    probes = [c[:-6] for c in df.columns if \"Raw_X\" in c]\n",
    "    return sorted(probes)\n",
    "\n",
    "def Hall_probe_basic_calcs(df, probes):\n",
    "    # magnitudes and angles\n",
    "    for p in probes:\n",
    "        for t in ['Raw', 'Cal']:\n",
    "            df[f'{p}_{t}_Bmag'] = (df[f'{p}_{t}_X']**2 + df[f'{p}_{t}_Y']**2 + df[f'{p}_{t}_Z']**2)**(1/2)\n",
    "            df[f'{p}_{t}_Theta'] = np.arccos(df[f'{p}_{t}_Z']/df[f'{p}_{t}_Bmag'])\n",
    "            df[f'{p}_{t}_Phi'] = np.arctan2(df[f'{p}_{t}_Y'],df[f'{p}_{t}_X'])\n",
    "    # again using theta redefining Cal components\n",
    "    for p in probes:\n",
    "        for t in ['Cal']:\n",
    "            df[f'{p}_{t}_Theta2'] = np.arccos(df[f'{p}_{t}_X']/df[f'{p}_{t}_Bmag'])\n",
    "            df[f'{p}_{t}_Phi2'] = np.arctan2(df[f'{p}_{t}_Z'],df[f'{p}_{t}_Y'])\n",
    "        ### flip phi when theta < 0 (-2)\n",
    "        '''\n",
    "        #inds = np.where(df.loc[:, f'{p}_Cal_Theta2'] < -2.0)\n",
    "        inds = np.where((df.loc[:, 'SmarAct_Meas_Angle_1'] >= 349) & (df.loc[:, 'SmarAct_Meas_Angle_1'] <= 358))\n",
    "        print(df.iloc[inds][f'{p}_Cal_Phi2'].iloc[0])\n",
    "        df.loc[df.index[inds], f'{p}_Cal_Phi2'] = df.loc[df.index[inds], f'{p}_Cal_Phi2'] - np.pi\n",
    "        print(df.iloc[inds][f'{p}_Cal_Phi2'].iloc[0])\n",
    "        inds2 = np.where(df.loc[:, f'{p}_Cal_Phi2'] < -np.pi)\n",
    "        print(df.iloc[inds2][f'{p}_Cal_Phi2'].iloc[0])\n",
    "        df.loc[df.index[inds2], f'{p}_Cal_Phi2'] = df.loc[df.index[inds2], f'{p}_Cal_Phi2'] + 2*np.pi\n",
    "        print(df.iloc[inds2][f'{p}_Cal_Phi2'].iloc[0])\n",
    "        '''\n",
    "    # magnet slow controls\n",
    "    df['Magnet Resistance [Ohm]'] = df['Magnet Voltage [V]'] / df['Magnet Current [A]']\n",
    "    df['Coil Resistance [Ohm]'] = 2*df['Magnet Resistance [Ohm]']\n",
    "    df['Magnet Power [W]'] = df['Magnet Voltage [V]'] * df['Magnet Current [A]']\n",
    "    # center smaract measured values around zero\n",
    "    a1 = df.loc[:, 'SmarAct_Meas_Angle_1'].copy().values\n",
    "    a2 = df.loc[:, 'SmarAct_Meas_Angle_2'].copy().values\n",
    "    a1[a1 > 180.] = a1[a1 > 180.] - 360.\n",
    "    a2[a2 > 180.] = a2[a2 > 180.] - 360.\n",
    "    df.loc[:, 'SmarAct_Meas_Angle_1_Centered'] = a1\n",
    "    df.loc[:, 'SmarAct_Meas_Angle_2_Centered'] = a2\n",
    "    ### INTERPOLATE NMR VALUES TO SCAN TIMES\n",
    "    #### STOPPED HERE 2022-11-29 17:41:36 \n",
    "    return df\n",
    "\n",
    "def match_temp_scan_dfs(df_temp, df):\n",
    "    # assumes scan df is a subset of temp df.\n",
    "    t0 = df.index[0]\n",
    "    tf = df.index[-1]\n",
    "    df_t = df_temp.query(f'\"{t0}\" <= Datetime <= \"{tf}\"').copy()\n",
    "    return df_t\n",
    "\n",
    "def interp_temp_col(df_temp, df, col='NMR [T]'):\n",
    "    interp_func = interp1d(df_temp.seconds_delta, df_temp[col].values, kind='linear', fill_value='extrapolate')\n",
    "    df.loc[:, col] = interp_func(df.seconds_delta)\n",
    "    return df"
   ]
  },
  {
   "cell_type": "markdown",
   "metadata": {},
   "source": [
    "# File Info"
   ]
  },
  {
   "cell_type": "code",
   "execution_count": null,
   "metadata": {},
   "outputs": [],
   "source": [
    "ddir_old = '/home/ckampa/Dropbox/LogFiles/temp_rotate_07-06-22/' # old scans\n",
    "ddir = '/home/ckampa/Dropbox/LogFiles/temp_rotate_01-09-23/' # new scans"
   ]
  },
  {
   "cell_type": "code",
   "execution_count": null,
   "metadata": {},
   "outputs": [],
   "source": [
    "\"\"\"\n",
    "#### BEFORE FIX!\n",
    "# 7-7-22 12:04, probe ##, rotating in magnet, finer scan\n",
    "# PGC @ 15 deg C\n",
    "# 0.25 deg steps -10 -- +6 angle 0 (theta)\n",
    "# 1 deg steps full 360 deg, centered on 0 deg angle 1 (phi)\n",
    "######\n",
    "plotdir = '/home/ckampa/data/hallprobecalib_extras/plots/hall_probe_rotate/2022-07-07_12:04/'\n",
    "scanfile = ddir_old+'2022-07-07 120406.txt'\n",
    "slowfile = ddir_old+'2022-07-06 133626slow.txt'\n",
    "t0 = '07-07-22 12:00' # finer scan started\n",
    "tf = '07-09-22 18:42' # finer scan finished\n",
    "\"\"\";"
   ]
  },
  {
   "cell_type": "code",
   "execution_count": null,
   "metadata": {},
   "outputs": [],
   "source": [
    "# 01-09-22 12:00, probe ##, rotating in magnet, coarse scan\n",
    "# PGC @ 20 deg C\n",
    "# 2 deg steps -9 -- +5 angle 0 (theta)\n",
    "# 45 deg steps full 360 deg, centered on -16 deg angle 1 (phi)\n",
    "######\n",
    "# plotdir = '/home/ckampa/data/hallprobecalib_extras/plots/hall_probe_rotate/2023-01-09_12:00/'\n",
    "# scanfile = ddir+'2023-01-09 120012.txt'\n",
    "# slowfile = ddir+'2023-01-09 104334slow.txt'"
   ]
  },
  {
   "cell_type": "code",
   "execution_count": null,
   "metadata": {},
   "outputs": [],
   "source": [
    "# \"\"\"\n",
    "# 7-7-22 12:04, probe ##, rotating in magnet, finer scan\n",
    "# PGC @ 20 deg C\n",
    "# 0.25 deg steps -9.5 -- +5.5 angle 0 (theta)\n",
    "# 1 deg steps full 360 deg, centered on 0 deg angle 1 (phi)\n",
    "######\n",
    "plotdir = '/home/ckampa/data/hallprobecalib_extras/plots/hall_probe_rotate/2023-01-09_12:26/'\n",
    "scanfile = ddir+'2023-01-09 122622.txt'\n",
    "slowfile = ddir+'2023-01-09 104334slow.txt'\n",
    "#### scan 1\n",
    "'''\n",
    "#t0 = '01-09-23 11:50' # magnet on\n",
    "#tf = '01-09-23 12:20' # coarse scan end\n",
    "t0 = '01-09-23 20:29' # finer scan start\n",
    "#tf = '01-11-23 00:00' # PLACEHOLDER\n",
    "##tf = '01-10-23 11:45:22' # magnet tripped during finer scan\n",
    "tf = '01-10-23 11:45:10' # magnet tripped during finer scan\n",
    "'''\n",
    "#### scan 2\n",
    "#t0 = '01-13-23 10:25' # magnet on\n",
    "# t0 = '01-14-23 00:00' # finer scan 2 started\n",
    "# tf = '01-16-23 05:56' # finer scan 2 finished\n",
    "#### scan 3 (repeatability)\n",
    "t0 = '01-16-23 08:55' # finer scan 3 started\n",
    "# tf = '01-18-23 15:25' # finer scan 3 finished\n",
    "#### scan 4 (10 deg)\n",
    "#t0 = '01-18-23 15:25' # finer scan 3 finished\n",
    "# t0 = '01-18-23 17:00' # temperature set to 10 deg C\n",
    "#t0 = '01-19-23 10:43' # finer scan 4 started (10 deg C)\n",
    "# tf = '01-21-24 18:21' # finer scan 4 ended\n",
    "#### scan 5 (40 deg). SmarAct failed in the middle. Overheating?\n",
    "# t0 = '01-21-23 18:21' # finer scan 4 finished\n",
    "# t0 = '01-21-23 19:00' # temperature set to 40 deg C\n",
    "# t0 = '01-22-23 06:37' # finer scan 5 started (40 deg C)\n",
    "tf = '01-23-23 00:00' # finer scan 5 failed\n",
    "# tf = '01-01-24 00:00' # PLACEHOLDER\n",
    "# \"\"\";"
   ]
  },
  {
   "cell_type": "markdown",
   "metadata": {},
   "source": [
    "- Note the above files include one partial scan (magnet off at -5.25 deg angle 1).\n",
    "- Magnet restarted 01-13-23 10:25am.\n",
    "- Second scan started 01-13-23 ##:##pm."
   ]
  },
  {
   "cell_type": "markdown",
   "metadata": {},
   "source": [
    "# Load and Process Data"
   ]
  },
  {
   "cell_type": "code",
   "execution_count": null,
   "metadata": {},
   "outputs": [],
   "source": [
    "# temperature\n",
    "df_temp = load_data(slowfile)\n",
    "# only include times with NMR?\n",
    "#df_temp = df_temp.query('`NMR [T]` > 0.9').copy()\n",
    "# scan data\n",
    "df = load_data(scanfile).iloc[1:]\n",
    "# interpolations from temp to scan\n",
    "for col in ['NMR [T]']:\n",
    "    df = interp_temp_col(df_temp, df, col=col)\n",
    "# time slices?\n",
    "df = df.query(f'\"{t0}\" <= Datetime <= \"{tf}\"').copy()\n",
    "df_temp = df_temp.query(f'\"{t0}\" <= Datetime <= \"{tf}\"').copy()"
   ]
  },
  {
   "cell_type": "code",
   "execution_count": null,
   "metadata": {
    "scrolled": true
   },
   "outputs": [],
   "source": [
    "df"
   ]
  },
  {
   "cell_type": "code",
   "execution_count": null,
   "metadata": {},
   "outputs": [],
   "source": [
    "probes = get_probe_IDs(df)\n",
    "probe = probes[0]\n",
    "probes"
   ]
  },
  {
   "cell_type": "code",
   "execution_count": null,
   "metadata": {
    "scrolled": true
   },
   "outputs": [],
   "source": [
    "df = Hall_probe_basic_calcs(df, probes)"
   ]
  },
  {
   "cell_type": "code",
   "execution_count": null,
   "metadata": {},
   "outputs": [],
   "source": [
    "df_t = match_temp_scan_dfs(df_temp, df)"
   ]
  },
  {
   "cell_type": "code",
   "execution_count": null,
   "metadata": {
    "scrolled": false
   },
   "outputs": [],
   "source": [
    "df"
   ]
  },
  {
   "cell_type": "code",
   "execution_count": null,
   "metadata": {},
   "outputs": [],
   "source": [
    "smar_cols = [c for c in df.columns if \"SmarAct\" in c]"
   ]
  },
  {
   "cell_type": "code",
   "execution_count": null,
   "metadata": {},
   "outputs": [],
   "source": [
    "df[smar_cols]"
   ]
  },
  {
   "cell_type": "markdown",
   "metadata": {},
   "source": [
    "# Exploratory Plotting"
   ]
  },
  {
   "cell_type": "markdown",
   "metadata": {},
   "source": [
    "## Basics"
   ]
  },
  {
   "cell_type": "markdown",
   "metadata": {},
   "source": [
    "- 2023-01-09 20:33:52 **Please adjust to have same x axes!!**"
   ]
  },
  {
   "cell_type": "code",
   "execution_count": null,
   "metadata": {},
   "outputs": [],
   "source": [
    "'''\n",
    "#t0_ = '01-09-23 11:50' # magnet on\n",
    "#tf_ = '01-09-23 12:20' # coarse scan end\n",
    "t0_ = '01-09-23 20:29' # finer scan start\n",
    "#tf_ = '01-11-23 00:00' # PLACEHOLDER\n",
    "##tf_ = '01-10-23 11:45:22' # magnet tripped during finer scan\n",
    "tf_ = '01-10-23 11:45:10' # magnet tripped during finer scan\n",
    "df_ = df.query(f\"'{t0_}' <= Datetime <= '{tf_}'\").copy()\n",
    "# df_t_ = df_t.query(f\"'{t0_}' <= Datetime <= '{tf_}'\").copy()\n",
    "df_t_ = df_temp.query(f\"'{t0_}' <= Datetime <= '{tf_}'\").copy()\n",
    "'''\n",
    "\n",
    "df_ = df.copy()\n",
    "df_t_ = df_temp.copy()\n",
    "\n",
    "fig = plt.figure(figsize=(14, 16))\n",
    "##ax = plt.subplot(211)\n",
    "ax = plt.axes([0.1, 0.4, 0.8, 0.5])\n",
    "#ax2 = plt.subplot(212, sharex=ax)\n",
    "ax2 = ax.twinx()\n",
    "ax3 = plt.axes([0.1, 0.1, 0.8, 0.25])\n",
    "##ax3 = plt.subplot(212, sharex=ax)\n",
    "ax4 = ax3.twinx()\n",
    "df_[f'{probe}_Cal_Bmag'].plot(ax=ax, color='blue')\n",
    "# df_[f'{probe}_Raw_Bmag'].plot(ax=ax, color='blue')\n",
    "df_t_['NMR [T]'].plot(ax=ax2, color='red')\n",
    "df_['SmarAct_Meas_Angle_2_Centered'].plot(ax=ax3, color='black', linestyle='None', marker='.')\n",
    "df_['SmarAct_Meas_Angle_1_Centered'].plot(ax=ax4, color='green', linestyle='None', marker='.')\n",
    "ax.set_ylabel(f'Hall probe |B| [T]')\n",
    "ax.yaxis.label.set_color('blue')\n",
    "ax2.set_ylabel(f'NMR |B| [T]')\n",
    "ax2.yaxis.label.set_color('red')\n",
    "ax3.set_ylabel('SmarAct Angle 2 [Rad], centered')\n",
    "ax4.set_ylabel('SmarAct Angle 1 [Rad], centered')\n",
    "ax3.yaxis.label.set_color('black')\n",
    "ax4.yaxis.label.set_color('green')\n",
    "ax.set_title(f\"|B| Comparisons for Hall Probe: {probe}\\n\")"
   ]
  },
  {
   "cell_type": "code",
   "execution_count": null,
   "metadata": {},
   "outputs": [],
   "source": [
    "df_.tail()"
   ]
  },
  {
   "cell_type": "code",
   "execution_count": null,
   "metadata": {},
   "outputs": [],
   "source": [
    "temps_list = list(df_temp.columns)\n",
    "[temps_list.remove(i) for i in ['Time', 'Magnet Current [A]', 'Magnet Voltage [V]', 'NMR [T]', 'NMR [FFT]', 'seconds_delta', 'hours_delta', 'days_delta']]"
   ]
  },
  {
   "cell_type": "code",
   "execution_count": null,
   "metadata": {},
   "outputs": [],
   "source": [
    "#temps_list"
   ]
  },
  {
   "cell_type": "code",
   "execution_count": null,
   "metadata": {},
   "outputs": [],
   "source": [
    "len(temps_list)"
   ]
  },
  {
   "cell_type": "code",
   "execution_count": null,
   "metadata": {},
   "outputs": [],
   "source": [
    "fig, ax = plt.subplots(figsize=(18, 8))\n",
    "\n",
    "for c in temps_list[:20]:\n",
    "    ax.plot(df_temp.index, df_temp[c], label=c)\n",
    "    \n",
    "ax.set_xlabel('Datetime')\n",
    "ax.set_ylabel('Temp [deg C]')\n",
    "ax.legend(ncol=3, bbox_to_anchor=(1., 1.), loc='upper left');"
   ]
  },
  {
   "cell_type": "code",
   "execution_count": null,
   "metadata": {},
   "outputs": [],
   "source": [
    "fig, ax = plt.subplots(figsize=(18, 8))\n",
    "\n",
    "for c in temps_list[20:]:\n",
    "    ax.plot(df_temp.index, df_temp[c], label=c)\n",
    "    \n",
    "ax.set_xlabel('Datetime')\n",
    "ax.set_ylabel('Temp [deg C]')\n",
    "ax.legend(ncol=3, bbox_to_anchor=(1., 1.), loc='upper left');"
   ]
  },
  {
   "cell_type": "code",
   "execution_count": null,
   "metadata": {},
   "outputs": [],
   "source": [
    "#temps_list"
   ]
  },
  {
   "cell_type": "code",
   "execution_count": null,
   "metadata": {},
   "outputs": [],
   "source": [
    "# only in the chamber\n",
    "temps_ch = [a for a in df.columns if (\"CH\" in a) and int(a[-2:])<21]# or \"HVAC\" in a]\n",
    "temps_ch.append(\"Hall Element\")\n",
    "temps_ch.append(\"Floor\")\n",
    "temps_ch.append(\"Roof\")\n",
    "temps_ch.append(\"Yoke (center magnet)\")\n",
    "temps_ch.append(\"Yoke (near pole)\")"
   ]
  },
  {
   "cell_type": "code",
   "execution_count": null,
   "metadata": {},
   "outputs": [],
   "source": [
    "fig, ax = plt.subplots(figsize=(18, 8))\n",
    "\n",
    "for c in temps_ch:\n",
    "    ax.plot(df_temp.index, df_temp[c], label=c)\n",
    "\n",
    "ax.plot(df.index, df[f'{probe}_Cal_T'], label=f'{probe}')\n",
    "    \n",
    "ax.set_xlabel('Datetime')\n",
    "ax.set_ylabel('Temp [deg C]')\n",
    "ax.legend(ncol=1, bbox_to_anchor=(1., 1.), loc='upper left');"
   ]
  },
  {
   "cell_type": "code",
   "execution_count": null,
   "metadata": {},
   "outputs": [],
   "source": [
    "for a in ['1', '2']:\n",
    "    fig, ax = plt.subplots()\n",
    "\n",
    "    ax.scatter(df[f'SmarAct_Meas_Angle_{a}_Centered'], df[f'{probe}_Cal_T'], s=1)\n",
    "\n",
    "    ax.set_xlabel(f'SmarAct {a} [rad] centered')\n",
    "    ax.set_ylabel(f'{probe}_Cal_T [deg C]');"
   ]
  },
  {
   "cell_type": "code",
   "execution_count": null,
   "metadata": {},
   "outputs": [],
   "source": [
    "#q_str = '\"01-20-23 09:00\" < Datetime < \"01-01-24\"'\n",
    "q_str = '`NMR [T]` > 0'\n",
    "df_temp_ = df_temp.query(q_str).copy()\n",
    "df_hp_ = df.query(q_str).copy()\n",
    "\n",
    "\n",
    "fig, ax = plt.subplots(figsize=(18, 8))\n",
    "\n",
    "for c in temps_ch:\n",
    "    ax.plot(df_temp_.index, df_temp_[c], label=c)\n",
    "\n",
    "ax.plot(df_hp_.index, df_hp_[f'{probe}_Cal_T'], label=f'{probe}')\n",
    "    \n",
    "ax.set_xlabel('Datetime')\n",
    "ax.set_ylabel('Temp [deg C]')\n",
    "ax.legend(ncol=1, bbox_to_anchor=(1., 1.), loc='upper left');"
   ]
  },
  {
   "cell_type": "code",
   "execution_count": null,
   "metadata": {},
   "outputs": [],
   "source": [
    "fig, ax = plt.subplots()\\\n",
    "\n",
    "ax.scatter(df_[f'{probe}_Raw_Bmag'], df_[f'{probe}_Cal_Bmag'], s=1)\n",
    "\n",
    "ax.set_xlabel('|V| [ADC]')\n",
    "ax.set_ylabel('|B| [T]');"
   ]
  },
  {
   "cell_type": "code",
   "execution_count": null,
   "metadata": {},
   "outputs": [],
   "source": [
    "(2.804-2.790) / 2.796"
   ]
  },
  {
   "cell_type": "code",
   "execution_count": null,
   "metadata": {},
   "outputs": [],
   "source": [
    "fig, ax = plt.subplots()\\\n",
    "\n",
    "ax.scatter(df_['NMR [T]'], df_[f'{probe}_Cal_Bmag'], s=1)\n",
    "\n",
    "ax.set_xlabel('NMR [T]')\n",
    "ax.set_ylabel('|B| [T]');"
   ]
  },
  {
   "cell_type": "markdown",
   "metadata": {
    "heading_collapsed": true
   },
   "source": [
    "## Correlations"
   ]
  },
  {
   "cell_type": "code",
   "execution_count": null,
   "metadata": {
    "hidden": true
   },
   "outputs": [],
   "source": [
    "fig, ax = plt.subplots()\n",
    "\n",
    "\n",
    "ax.scatter(df_['SmarAct_Meas_Angle_2_Centered'], df_[f'NMR [T]'], s=1)\n",
    "\n",
    "ax.set_xlabel('SmarAct 2 [rad] centered')\n",
    "ax.set_ylabel('NMR [T]');"
   ]
  },
  {
   "cell_type": "code",
   "execution_count": null,
   "metadata": {
    "hidden": true
   },
   "outputs": [],
   "source": [
    "fig, ax = plt.subplots()\n",
    "\n",
    "\n",
    "ax.scatter(df_['SmarAct_Meas_Angle_1_Centered'], df_[f'NMR [T]'], s=1)\n",
    "\n",
    "ax.set_xlabel('SmarAct 1 [rad] centered')\n",
    "ax.set_ylabel('NMR [T]');"
   ]
  },
  {
   "cell_type": "code",
   "execution_count": null,
   "metadata": {
    "hidden": true
   },
   "outputs": [],
   "source": [
    "fig, ax = plt.subplots()\n",
    "\n",
    "\n",
    "ax.scatter(df_['SmarAct_Meas_Angle_2_Centered'], df_[f'{probe}_Raw_Phi'], s=1)\n",
    "\n",
    "ax.set_ylabel(f'{probe}_Raw_Phi')\n",
    "ax.set_xlabel('SmarAct 2 [rad] centered');"
   ]
  },
  {
   "cell_type": "code",
   "execution_count": null,
   "metadata": {
    "hidden": true
   },
   "outputs": [],
   "source": [
    "fig, ax = plt.subplots()\n",
    "#ax.hist(df_[f'{probe}_Raw_Theta'], bins=75, histtype='step');\n",
    "ax.scatter(df_['days_delta'], df_[f'{probe}_Raw_Theta'], s=1);\n",
    "\n",
    "ax.set_xlabel(f'Time from start (days)')\n",
    "ax.set_ylabel(f'{probe}_Raw_Theta');"
   ]
  },
  {
   "cell_type": "code",
   "execution_count": null,
   "metadata": {
    "hidden": true
   },
   "outputs": [],
   "source": [
    "fig, ax = plt.subplots()\n",
    "#ax.hist(df_[f'{probe}_Raw_Theta'], bins=75, histtype='step');\n",
    "ax.scatter(df_['SmarAct_Meas_Angle_1_Centered'], df_[f'{probe}_Raw_Theta'], s=1);\n",
    "\n",
    "ax.set_xlabel(f'SmarAct 1 [rad] centered')\n",
    "ax.set_ylabel(f'{probe}_Raw_Theta');"
   ]
  },
  {
   "cell_type": "code",
   "execution_count": null,
   "metadata": {
    "hidden": true
   },
   "outputs": [],
   "source": [
    "# check flip of Angle 2 by pi (plate is now upside-down)\n",
    "a2_flipped = np.radians(df_['SmarAct_Meas_Angle_2_Centered']) - np.pi\n",
    "a2_flipped[a2_flipped<-np.pi] = a2_flipped[a2_flipped<-np.pi]+2*np.pi"
   ]
  },
  {
   "cell_type": "code",
   "execution_count": null,
   "metadata": {
    "hidden": true
   },
   "outputs": [],
   "source": [
    "df_.SmarAct_Meas_Angle_1_Centered"
   ]
  },
  {
   "cell_type": "code",
   "execution_count": null,
   "metadata": {
    "hidden": true
   },
   "outputs": [],
   "source": [
    "fig, ax = plt.subplots()\n",
    "\n",
    "#ax.scatter(np.radians(df_['SmarAct_Meas_Angle_2_Centered']), df_[f'{probe}_Raw_Phi'], s=1)\n",
    "#ax.scatter(a2_flipped, df_[f'{probe}_Raw_Phi'], s=1)\n",
    "sc = ax.scatter(a2_flipped, df_[f'{probe}_Raw_Phi'], c=df_.SmarAct_Meas_Angle_1_Centered, s=4)\n",
    "cb = fig.colorbar(sc, label='SmarAct 1 [deg], centered')\n",
    "\n",
    "# zoom in\n",
    "# ax.set_xlim([-np.pi-0.01, -2.0])\n",
    "# ax.set_ylim([-np.pi-0.01, -1.7])\n",
    "# ax.set_xlim([-np.pi-0.01, -3.0])\n",
    "# ax.set_ylim([-2.0, -1.55])\n",
    "\n",
    "# ax.set_xlim([-0.01, 0.01])\n",
    "# ax.set_ylim([1.194, 1.203])\n",
    "\n",
    "# ax.set_xlim([-1., 1.0])\n",
    "# ax.set_ylim([0., 1.8])\n",
    "\n",
    "ax.set_facecolor('gray')\n",
    "\n",
    "ax.set_xlabel(r'(SmarAct 2 [rad] centered)  - $\\pi$, (re-centered)')\n",
    "ax.set_ylabel(f'{probe}_Raw_Phi');"
   ]
  },
  {
   "cell_type": "code",
   "execution_count": null,
   "metadata": {
    "hidden": true
   },
   "outputs": [],
   "source": [
    "# NOT -PI\n",
    "fig, ax = plt.subplots()\n",
    "\n",
    "#ax.scatter(np.radians(df_['SmarAct_Meas_Angle_2_Centered']), df_[f'{probe}_Raw_Phi'], s=1)\n",
    "#ax.scatter(a2_flipped, df_[f'{probe}_Raw_Phi'], s=1)\n",
    "sc = ax.scatter(np.radians(df_.SmarAct_Meas_Angle_2_Centered), df_[f'{probe}_Raw_Phi'], c=df_.SmarAct_Meas_Angle_1_Centered, s=4)\n",
    "cb = fig.colorbar(sc, label='SmarAct 1 [deg], centered')\n",
    "\n",
    "# zoom in\n",
    "# ax.set_xlim([-np.pi-0.01, -2.0])\n",
    "# ax.set_ylim([-np.pi-0.01, -1.7])\n",
    "# ax.set_xlim([-np.pi-0.01, -3.0])\n",
    "# ax.set_ylim([-2.0, -1.55])\n",
    "\n",
    "# ax.set_xlim([-0.01, 0.01])\n",
    "# ax.set_ylim([1.194, 1.203])\n",
    "\n",
    "ax.set_facecolor('gray')\n",
    "\n",
    "ax.set_xlabel(r'(SmarAct 2 [rad] centered)  - $\\pi$, (re-centered)')\n",
    "ax.set_ylabel(f'{probe}_Raw_Phi');"
   ]
  },
  {
   "cell_type": "code",
   "execution_count": null,
   "metadata": {
    "hidden": true
   },
   "outputs": [],
   "source": [
    "df_.SmarAct_Meas_Angle_1_Centered.round(1).unique()"
   ]
  },
  {
   "cell_type": "code",
   "execution_count": null,
   "metadata": {
    "hidden": true
   },
   "outputs": [],
   "source": [
    "len(df_.SmarAct_Meas_Angle_1_Centered.round(1).unique())"
   ]
  },
  {
   "cell_type": "markdown",
   "metadata": {
    "hidden": true
   },
   "source": [
    "- This seems to match the previous results from a finer scan."
   ]
  },
  {
   "cell_type": "code",
   "execution_count": null,
   "metadata": {
    "hidden": true
   },
   "outputs": [],
   "source": [
    "df_.SmarAct_Meas_Angle_1_Centered"
   ]
  },
  {
   "cell_type": "code",
   "execution_count": null,
   "metadata": {
    "hidden": true
   },
   "outputs": [],
   "source": [
    "df_.SmarAct_Meas_Angle_1"
   ]
  },
  {
   "cell_type": "code",
   "execution_count": null,
   "metadata": {
    "hidden": true
   },
   "outputs": [],
   "source": [
    "fig, ax = plt.subplots()\n",
    "\n",
    "\n",
    "ax.scatter(df_['SmarAct_Meas_Angle_1_Centered'], df_[f'{probe}_Raw_Z'], s=1)\n",
    "\n",
    "ax.set_xlabel('SmarAct 1 [rad] centered')\n",
    "ax.set_ylabel(f'{probe}_Raw_Z');"
   ]
  },
  {
   "cell_type": "code",
   "execution_count": null,
   "metadata": {
    "hidden": true
   },
   "outputs": [],
   "source": [
    "fig, ax = plt.subplots()\n",
    "ax.hist(df_[f'{probe}_Raw_Theta'], bins=75, histtype='step')\n",
    "ax.set_xlabel(f'{probe}_Raw_Theta');"
   ]
  },
  {
   "cell_type": "code",
   "execution_count": null,
   "metadata": {
    "hidden": true
   },
   "outputs": [],
   "source": [
    "df['2F0000000D5EC73A_Raw_Phi']"
   ]
  },
  {
   "cell_type": "code",
   "execution_count": null,
   "metadata": {
    "hidden": true
   },
   "outputs": [],
   "source": [
    "##### calibrated info"
   ]
  },
  {
   "cell_type": "code",
   "execution_count": null,
   "metadata": {
    "hidden": true
   },
   "outputs": [],
   "source": [
    "fig, ax = plt.subplots()\n",
    "\n",
    "ax.scatter(np.radians(df_['SmarAct_Meas_Angle_1_Centered']), df_[f'{probe}_Cal_Theta2'], s=1);\n",
    "\n",
    "ax.set_xlabel(f'SmarAct 1 [rad] centered')\n",
    "ax.set_ylabel(f'{probe}_Cal_Theta (redef. Cal components)');"
   ]
  },
  {
   "cell_type": "code",
   "execution_count": null,
   "metadata": {
    "hidden": true
   },
   "outputs": [],
   "source": [
    "np.arccos(1.0 / 10.0), np.arccos(-1.0 / 10.0)"
   ]
  },
  {
   "cell_type": "code",
   "execution_count": null,
   "metadata": {
    "hidden": true
   },
   "outputs": [],
   "source": [
    "df_[['2F0000000D5EC73A_Raw_Z', '2F0000000D5EC73A_Cal_X']]"
   ]
  },
  {
   "cell_type": "code",
   "execution_count": null,
   "metadata": {
    "hidden": true
   },
   "outputs": [],
   "source": [
    "df_[['2F0000000D5EC73A_Raw_Y', '2F0000000D5EC73A_Cal_Y']]"
   ]
  },
  {
   "cell_type": "code",
   "execution_count": null,
   "metadata": {
    "hidden": true
   },
   "outputs": [],
   "source": [
    "df_[['2F0000000D5EC73A_Raw_X', '2F0000000D5EC73A_Cal_Z']]"
   ]
  },
  {
   "cell_type": "code",
   "execution_count": null,
   "metadata": {
    "hidden": true
   },
   "outputs": [],
   "source": [
    "df_upside_down = df_[np.isclose(df_.SmarAct_Meas_Angle_2_Centered, -16)]\n",
    "df_pos90 = df_[np.isclose(df_.SmarAct_Meas_Angle_2_Centered, -16+90)]"
   ]
  },
  {
   "cell_type": "code",
   "execution_count": null,
   "metadata": {
    "hidden": true
   },
   "outputs": [],
   "source": [
    "-16+90"
   ]
  },
  {
   "cell_type": "code",
   "execution_count": null,
   "metadata": {
    "hidden": true,
    "scrolled": true
   },
   "outputs": [],
   "source": [
    "for i in ['X', 'Y', 'Z']:\n",
    "    print(i)\n",
    "    print(np.ptp(df_upside_down[f'2F0000000D5EC73A_Cal_{i}']))\n",
    "    fig, ax = plt.subplots()\n",
    "\n",
    "    ax.scatter(df_upside_down.SmarAct_Meas_Angle_1_Centered, df_upside_down[f'2F0000000D5EC73A_Cal_{i}'])\n",
    "\n",
    "    ax.set_xlabel('SmarAct1 [deg]')\n",
    "    ax.set_ylabel(f'Cal {i} [T]')"
   ]
  },
  {
   "cell_type": "code",
   "execution_count": null,
   "metadata": {
    "hidden": true,
    "scrolled": true
   },
   "outputs": [],
   "source": [
    "for i in ['X', 'Y', 'Z']:\n",
    "    print(i)\n",
    "    print(np.ptp(df_pos90[f'2F0000000D5EC73A_Cal_{i}']))\n",
    "    fig, ax = plt.subplots()\n",
    "\n",
    "    ax.scatter(df_pos90.SmarAct_Meas_Angle_1_Centered, df_pos90[f'2F0000000D5EC73A_Cal_{i}'])\n",
    "\n",
    "    ax.set_xlabel('SmarAct1 [deg]')\n",
    "    ax.set_ylabel(f'Cal {i} [T]')"
   ]
  },
  {
   "cell_type": "code",
   "execution_count": null,
   "metadata": {
    "hidden": true,
    "scrolled": true
   },
   "outputs": [],
   "source": [
    "np.radians(-9.5 + 2)"
   ]
  },
  {
   "cell_type": "code",
   "execution_count": null,
   "metadata": {
    "hidden": true
   },
   "outputs": [],
   "source": [
    "np.radians(-16)"
   ]
  },
  {
   "cell_type": "code",
   "execution_count": null,
   "metadata": {
    "hidden": true
   },
   "outputs": [],
   "source": [
    "fig, ax = plt.subplots()\n",
    "\n",
    "ax.scatter(np.radians(df_['SmarAct_Meas_Angle_2_Centered']), df_[f'{probe}_Cal_Phi2'], s=1);\n",
    "ax.plot([-.2793, -.2793], [-np.pi, np.pi], 'r--')\n",
    "\n",
    "ax.set_xlabel(f'SmarAct 2 [rad] centered')\n",
    "ax.set_ylabel(f'{probe}_Cal_Phi (redef. Cal components)');"
   ]
  },
  {
   "cell_type": "code",
   "execution_count": null,
   "metadata": {
    "hidden": true
   },
   "outputs": [],
   "source": [
    "phi2_flipped = df_[f'{probe}_Cal_Phi2']\n",
    "# check flip of Phi2 by pi (plate is now upside-down), or maybe the -theta correction isn't working\n",
    "# phi2_flipped = df_[f'{probe}_Cal_Phi2'] - np.pi\n",
    "# phi2_flipped[phi2_flipped<-np.pi] = phi2_flipped[phi2_flipped<-np.pi]+2*np.pi"
   ]
  },
  {
   "cell_type": "code",
   "execution_count": null,
   "metadata": {
    "hidden": true
   },
   "outputs": [],
   "source": [
    "fig, ax = plt.subplots()\n",
    "\n",
    "ax.scatter(-np.radians(df_['SmarAct_Meas_Angle_2_Centered']), phi2_flipped, s=1);\n",
    "ax.plot([.2793, .2793], [-np.pi, np.pi], 'r--')\n",
    "\n",
    "ax.set_xlabel(f'- SmarAct 2 [rad] centered')\n",
    "ax.set_ylabel(fr'{probe}_Cal_Phi (redef. Cal components)') #, -$\\pi$ and recentered');"
   ]
  },
  {
   "cell_type": "code",
   "execution_count": null,
   "metadata": {
    "hidden": true
   },
   "outputs": [],
   "source": [
    "# th0 = -2.0\n",
    "th0 = -1.8\n",
    "\n",
    "fig, ax = plt.subplots()\n",
    "\n",
    "ax.scatter(-np.radians(df_['SmarAct_Meas_Angle_1_Centered']-th0), df_[f'{probe}_Cal_Theta2'], s=1);\n",
    "\n",
    "ax.plot([0.0, 0.15], [0.0, 0.15], 'r--')\n",
    "\n",
    "ax.set_xlabel(f'-(SmarAct 1 [rad] centered + rad({-th0} deg))')\n",
    "ax.set_ylabel(f'{probe}_Cal_Theta (redef. Cal components)');"
   ]
  },
  {
   "cell_type": "code",
   "execution_count": null,
   "metadata": {
    "hidden": true
   },
   "outputs": [],
   "source": [
    "np.radians(-1.8)"
   ]
  },
  {
   "cell_type": "code",
   "execution_count": null,
   "metadata": {
    "hidden": true
   },
   "outputs": [],
   "source": [
    "fig, ax = plt.subplots()\n",
    "\n",
    "ax.scatter(np.radians(df_['SmarAct_Meas_Angle_2_Centered']), df_[f'{probe}_Cal_Theta'], s=1);\n",
    "\n",
    "ax.set_xlabel(f'SmarAct 2 [rad] centered')\n",
    "ax.set_ylabel(f'{probe}_Cal_Theta');"
   ]
  },
  {
   "cell_type": "code",
   "execution_count": null,
   "metadata": {
    "hidden": true
   },
   "outputs": [],
   "source": []
  },
  {
   "cell_type": "markdown",
   "metadata": {},
   "source": [
    "# Analysis 1: Using Cal Values (a.k.a.  Assessing Bergsma Calibration)"
   ]
  },
  {
   "cell_type": "markdown",
   "metadata": {
    "heading_collapsed": true
   },
   "source": [
    "## Pole-to-Pole"
   ]
  },
  {
   "attachments": {
    "image.png": {
     "image/png": "[encoded data removed]"
    }
   },
   "cell_type": "markdown",
   "metadata": {
    "hidden": true
   },
   "source": [
    "- Preliminary results from June 2022:\n",
    "![image.png](attachment:image.png)"
   ]
  },
  {
   "cell_type": "code",
   "execution_count": null,
   "metadata": {
    "hidden": true,
    "scrolled": false
   },
   "outputs": [],
   "source": [
    "df_['Magnet Current [A]']"
   ]
  },
  {
   "cell_type": "code",
   "execution_count": null,
   "metadata": {
    "hidden": true
   },
   "outputs": [],
   "source": [
    "# FIXME!\n",
    "# using a fixed value for a quick approximation\n",
    "BHall_on_BNMR = 0.99976\n",
    "# BHall_on_BNMR = 0.9998 # test based on NMR not in exact Hall probe location for V vs. B, T\n",
    "B_Hall_NMR = BHall_on_BNMR * df['NMR [T]'].values"
   ]
  },
  {
   "cell_type": "code",
   "execution_count": null,
   "metadata": {
    "hidden": true
   },
   "outputs": [],
   "source": [
    "B_Hall_NMR"
   ]
  },
  {
   "cell_type": "code",
   "execution_count": null,
   "metadata": {
    "hidden": true
   },
   "outputs": [],
   "source": [
    "df.loc[:, 'B_Hall_NMR'] = B_Hall_NMR"
   ]
  },
  {
   "cell_type": "code",
   "execution_count": null,
   "metadata": {
    "hidden": true
   },
   "outputs": [],
   "source": [
    "(df['B_Hall_NMR'] - df['NMR [T]']).describe()"
   ]
  },
  {
   "cell_type": "code",
   "execution_count": null,
   "metadata": {
    "hidden": true
   },
   "outputs": [],
   "source": []
  },
  {
   "cell_type": "markdown",
   "metadata": {
    "heading_collapsed": true
   },
   "source": [
    "## Assign better axis labels"
   ]
  },
  {
   "cell_type": "code",
   "execution_count": null,
   "metadata": {
    "hidden": true
   },
   "outputs": [],
   "source": [
    "df.loc[:, 'Cal_X'] = df.loc[:, f'{probe}_Cal_Y']\n",
    "df.loc[:, 'Cal_Y'] = df.loc[:, f'{probe}_Cal_Z']\n",
    "df.loc[:, 'Cal_Z'] = df.loc[:, f'{probe}_Cal_X']\n",
    "df.loc[:, 'Cal_Bmag'] = df.loc[:, f'{probe}_Cal_Bmag']\n",
    "# field angles\n",
    "df.loc[:, 'Cal_Trans'] = (df.loc[:, 'Cal_X']**2 + df.loc[:, 'Cal_Y']**2)**(1/2)\n",
    "df.loc[:, 'Cal_Theta'] = np.arctan2(df.loc[:, 'Cal_Trans'], df.loc[:, 'Cal_Bmag'])\n",
    "df.loc[:, 'Cal_Phi'] = np.arctan2(df.loc[:, 'Cal_Y'], df.loc[:, 'Cal_X'])"
   ]
  },
  {
   "cell_type": "code",
   "execution_count": null,
   "metadata": {
    "hidden": true
   },
   "outputs": [],
   "source": [
    "#t0_ = '01-09-23 20:29' # finer scan start\n",
    "#tf_ = '01-10-23 11:45:10' # magnet tripped during finer scan\n",
    "t0_ = t0\n",
    "tf_ = tf\n",
    "df_ = df.query(f\"'{t0_}' <= Datetime <= '{tf_}'\").copy()\n",
    "# df_t_ = df_t.query(f\"'{t0_}' <= Datetime <= '{tf_}'\").copy()\n",
    "\n",
    "# remove partial line\n",
    "#df_ = df_.query('SmarAct_Meas_Angle_1_Centered < -5.3').copy()\n",
    "#df_ = df_.query('SmarAct_Meas_Angle_1_Centered < 3.4').copy()"
   ]
  },
  {
   "cell_type": "code",
   "execution_count": null,
   "metadata": {
    "hidden": true
   },
   "outputs": [],
   "source": [
    "df_.SmarAct_Meas_Angle_1_Centered.round(3).unique()"
   ]
  },
  {
   "cell_type": "markdown",
   "metadata": {
    "heading_collapsed": true
   },
   "source": [
    "## Field Strength"
   ]
  },
  {
   "cell_type": "code",
   "execution_count": null,
   "metadata": {
    "hidden": true,
    "scrolled": false
   },
   "outputs": [],
   "source": [
    "df_.columns"
   ]
  },
  {
   "cell_type": "code",
   "execution_count": null,
   "metadata": {
    "hidden": true
   },
   "outputs": [],
   "source": [
    "fig, ax = plt.subplots()\n",
    "\n",
    "x = (df_[f'{probe}_Cal_Bmag']-df_['B_Hall_NMR'])/df_['B_Hall_NMR']\n",
    "xmi = np.min(x)\n",
    "xma = np.max(x)\n",
    "xra = xma-xmi\n",
    "bins = np.linspace(xmi-0.05*xra, xma+0.05*xra, 100)\n",
    "\n",
    "ax.hist(x, histtype='step', bins=bins, label=get_label(x, bins=bins));\n",
    "\n",
    "\n",
    "ax.ticklabel_format(axis='x', style='sci', scilimits=(0,0))\n",
    "\n",
    "ax.set_xlabel(r'$\\frac{|B|_{Hall} - |B|_{NMR}}{|B|_{NMR}}$');\n",
    "ax.legend(loc='upper left', bbox_to_anchor=(1.0,1.0));"
   ]
  },
  {
   "cell_type": "markdown",
   "metadata": {
    "heading_collapsed": true
   },
   "source": [
    "## v1. Reconstruct single coordinate direction (Bz)"
   ]
  },
  {
   "cell_type": "markdown",
   "metadata": {
    "hidden": true
   },
   "source": [
    "### Voltage Function (using same function for calibration orientation)"
   ]
  },
  {
   "cell_type": "code",
   "execution_count": null,
   "metadata": {
    "hidden": true
   },
   "outputs": [],
   "source": [
    "'''\n",
    "def Hall_Cal_B_gen_v1(axis0, axis1, **params):\n",
    "    Bmax = params['Bmax']\n",
    "    # calculate normal vectors\n",
    "    # Hall element is w.r.t. \"SmarAct coordinates\" (or better, Kinematic plate coordinates) and is fixed, regardless of axis0, axis1\n",
    "    norm_Hall = np.array([np.sin(params['theta'])*np.cos(params['phi']), np.sin(params['theta'])*np.sin(params['phi']), np.cos(params['theta'])])\n",
    "    # B field has some nominal orientation w.r.t. kinematic plate, and is further rotated by axis0, axis1\n",
    "    norm_B = np.array([np.sin(params['alpha'])*np.cos(params['beta']), np.sin(params['alpha'])*np.sin(params['beta']), np.cos(params['alpha'])])\n",
    "    # rotate the field vector w.r.t.\n",
    "    #rot = Rotation.from_euler('yz', angles=np.array([-axis0, -axis1]), degrees=False) # ok\n",
    "    #rot = Rotation.from_euler('yz', angles=np.array([-axis0, -axis1]).T, degrees=False) # ok\n",
    "    rot = Rotation.from_euler('yz', angles=np.array([-axis0, -axis1]).T, degrees=True) # ok\n",
    "    norm_B_rot = rot.apply(norm_B)\n",
    "    # calculate signed fraction of B vector along Hall normal i.e. Hall only reads perpendicular field (to first order)\n",
    "    frac_B = np.dot(norm_B_rot, norm_Hall)\n",
    "    B_meas = Bmax * frac_B\n",
    "    if params['verbose'] == 1.:\n",
    "        return B_meas, norm_Hall, norm_B, norm_B_rot, frac_B\n",
    "    else:\n",
    "        return B_meas\n",
    "'''\n",
    "# VECTORIZED\n",
    "def Hall_Cal_B_gen_v1(axis0, axis1, Bmag, **params):\n",
    "    if not isinstance(axis0, Iterable):\n",
    "        axis0 = np.array([axis0])\n",
    "        axis1 = np.array([axis1])\n",
    "        Bmag = np.array([Bmag])\n",
    "    # FIXME! Try passing NMR measurements (adjusted with pole-to-pole) in along with axis0, axis1.\n",
    "#     Bmax = params['Bmax']\n",
    "    # calculate normal vectors\n",
    "    # Hall element is w.r.t. \"SmarAct coordinates\" (or better, Kinematic plate coordinates) and is fixed, regardless of axis0, axis1\n",
    "    norm_Hall = np.array([np.sin(params['theta'])*np.cos(params['phi']), np.sin(params['theta'])*np.sin(params['phi']), np.cos(params['theta'])])\n",
    "    # B field has some nominal orientation w.r.t. kinematic plate, and is further rotated by axis0, axis1\n",
    "    norm_B = np.array([np.sin(params['alpha'])*np.cos(params['beta']), np.sin(params['alpha'])*np.sin(params['beta']), np.cos(params['alpha'])])\n",
    "    # rotate the field vector w.r.t.\n",
    "    #rot = Rotation.from_euler('yz', angles=np.array([-axis0, -axis1]), degrees=False) # ok\n",
    "    #rot = Rotation.from_euler('yz', angles=np.array([-axis0, -axis1]).T, degrees=False) # ok\n",
    "    rot = Rotation.from_euler('yz', angles=np.array([-axis0, -axis1]).T, degrees=True) # ok\n",
    "#     rot = Rotation.from_euler('yz', angles=np.array([-axis0, axis1]).T, degrees=True) # CHECK!\n",
    "#     rot = Rotation.from_euler('zy', angles=np.array([-axis0, -axis1]).T, degrees=True) # CHECK\n",
    "    norm_B_rot = rot.apply(np.repeat(norm_B[:, np.newaxis], len(axis0), axis=1).T)\n",
    "    # calculate signed fraction of B vector along Hall normal i.e. Hall only reads perpendicular field (to first order)\n",
    "    frac_B = np.dot(norm_B_rot, norm_Hall)\n",
    "    B_meas = Bmag * frac_B\n",
    "    if params['verbose'] == 1.:\n",
    "        return B_meas, norm_Hall, norm_B, norm_B_rot, frac_B\n",
    "    else:\n",
    "        return B_meas"
   ]
  },
  {
   "cell_type": "code",
   "execution_count": null,
   "metadata": {
    "hidden": true
   },
   "outputs": [],
   "source": [
    "# B aligned perfectly with Kinematic plate\n",
    "# params = {\n",
    "#     'Bmax': 1.0, # ~2e6\n",
    "#     'verbose': 0,\n",
    "#     'theta': np.radians(2.),\n",
    "#     #'phi': np.radians(45.),\n",
    "#     'phi': np.radians(0.),\n",
    "# #     'phi': np.radians(180.),\n",
    "#     'alpha': 0.,\n",
    "#     'beta': 0.\n",
    "# }\n",
    "\n",
    "params = {\n",
    "    'Bmax': 1.0, # ~2e6\n",
    "    'verbose': 0,\n",
    "    'theta': np.radians(2.),\n",
    "    #'phi': np.radians(45.),\n",
    "    'phi': np.radians(0.),\n",
    "#     'phi': np.radians(180.),\n",
    "    'alpha': 0.,\n",
    "    'beta': np.radians(10.)\n",
    "}"
   ]
  },
  {
   "cell_type": "code",
   "execution_count": null,
   "metadata": {
    "hidden": true
   },
   "outputs": [],
   "source": [
    "ax0s = np.unique(np.round(df_.SmarAct_Meas_Angle_1_Centered, 3))\n",
    "ax1s = np.unique(np.round(df_.SmarAct_Meas_Angle_2_Centered, 3))\n",
    "A0, A1 = np.meshgrid(ax0s, ax1s, indexing='ij')"
   ]
  },
  {
   "cell_type": "code",
   "execution_count": null,
   "metadata": {
    "hidden": true
   },
   "outputs": [],
   "source": [
    "ax0s"
   ]
  },
  {
   "cell_type": "markdown",
   "metadata": {
    "hidden": true
   },
   "source": [
    "- 2023-01-15 13:03:19 How to handle the fact that the first data point of the second scan is  missing?\n",
    "    - Ideally, a step of processing should be to set up an ideal grid, and check specifically for each point. Any points that are missing should be inserted as NaNs."
   ]
  },
  {
   "cell_type": "code",
   "execution_count": null,
   "metadata": {
    "hidden": true
   },
   "outputs": [],
   "source": [
    "for ax0 in ax0s:\n",
    "    line = df_[np.isclose(df_.SmarAct_Meas_Angle_1_Centered, ax0, atol=1e-2, rtol=1e-3)]\n",
    "    print(f'ax0: {ax0} [deg], N: {len(line)}')"
   ]
  },
  {
   "cell_type": "code",
   "execution_count": null,
   "metadata": {
    "hidden": true
   },
   "outputs": [],
   "source": [
    "#Bs = np.array([Hall_Cal_B_gen_v1(a0, a1, **params) for a0, a1 in zip(A0.flatten(), A1.flatten())])\n",
    "Bs = Hall_Cal_B_gen_v1(A0.flatten(), A1.flatten(), **params)\n",
    "\n",
    "fig, ax = plt.subplots()\n",
    "sc = ax.scatter(A0.flatten(), A1.flatten(), c=Bs, s=4);\n",
    "cb = fig.colorbar(sc, label=r'$B_z$ [T] -- SIMULATED')\n",
    "\n",
    "ax.set_xlabel('Angle 1 (i.e. Axis 0) [rad]')\n",
    "ax.set_ylabel('Angle 2 (i.e. Axis 1) [rad]');"
   ]
  },
  {
   "cell_type": "code",
   "execution_count": null,
   "metadata": {
    "hidden": true
   },
   "outputs": [],
   "source": [
    "Bs = df_['Cal_Z'].copy().values\n",
    "# TEMPORARY FIX!!\n",
    "Bs = np.concatenate([[np.nan], Bs])\n",
    "\n",
    "fig, ax = plt.subplots()\n",
    "sc = ax.scatter(A0.flatten(), A1.flatten(), c=Bs, s=4);\n",
    "cb = fig.colorbar(sc, label=r'$B_z$ [T] -- SIMULATED')\n",
    "\n",
    "ax.set_xlabel('Angle 1 (i.e. Axis 0) [rad]')\n",
    "ax.set_ylabel('Angle 2 (i.e. Axis 1) [rad]');"
   ]
  },
  {
   "cell_type": "code",
   "execution_count": null,
   "metadata": {
    "hidden": true
   },
   "outputs": [],
   "source": []
  },
  {
   "cell_type": "code",
   "execution_count": null,
   "metadata": {
    "hidden": true,
    "scrolled": true
   },
   "outputs": [],
   "source": [
    "# B aligned perfectly with Kinematic plate\n",
    "# does phi change anything, or is it only theta that matters?\n",
    "phis = np.arange(0., 360., 45.)\n",
    "# phis = [0., 45., 60., 90., 1]\n",
    "for phi in phis:\n",
    "    params = {\n",
    "        'Bmax': 1.0, # ~2e6\n",
    "        'verbose': 0,\n",
    "        'theta': np.radians(2.),\n",
    "#         'theta': np.pi,\n",
    "        #'phi': np.radians(45.),\n",
    "    #     'phi': np.radians(0.),\n",
    "        'phi': np.radians(phi),\n",
    "        'alpha': np.radians(-2.),\n",
    "        'beta': 0.\n",
    "    }\n",
    "    ax0s = np.unique(np.round(df_.SmarAct_Meas_Angle_1_Centered, 3))\n",
    "    ax1s = np.unique(np.round(df_.SmarAct_Meas_Angle_2_Centered, 3))\n",
    "    A0, A1 = np.meshgrid(ax0s, ax1s, indexing='ij')\n",
    "    Bs = Hall_Cal_B_gen_v1(A0.flatten(), A1.flatten(), **params)\n",
    "\n",
    "    fig, ax = plt.subplots()\n",
    "    sc = ax.scatter(A0.flatten(), A1.flatten(), c=Bs, s=4);\n",
    "    cb = fig.colorbar(sc, label=r'$B_z$ [T] -- SIMULATED')\n",
    "\n",
    "    ax.set_xlabel('Angle 1 (i.e. Axis 0) [rad]')\n",
    "    ax.set_ylabel('Angle 2 (i.e. Axis 1) [rad]')\n",
    "    \n",
    "    ax.set_title(rf'$\\theta = {params[\"theta\"]:0.3f}, \\phi = {params[\"phi\"]:0.3f}$'+'\\n'+\n",
    "                 rf'$\\alpha = {params[\"alpha\"]:0.3f}, \\beta = {params[\"beta\"]:0.3f}$')"
   ]
  },
  {
   "cell_type": "code",
   "execution_count": null,
   "metadata": {
    "hidden": true,
    "scrolled": true
   },
   "outputs": [],
   "source": [
    "# B aligned perfectly with Kinematic plate\n",
    "# theta dependence (phi = 0)\n",
    "thetas = np.arange(0., 180., 10.)\n",
    "# phis = [0., 45., 60., 90., 1]\n",
    "for theta in thetas:\n",
    "    params = {\n",
    "        'Bmax': 1.0, # ~2e6\n",
    "        'verbose': 0,\n",
    "        'theta': np.radians(theta),\n",
    "        #'phi': np.radians(45.),\n",
    "    #     'phi': np.radians(0.),\n",
    "        'phi': 0.,\n",
    "        'alpha': 0.,\n",
    "        'beta': 0.\n",
    "    }\n",
    "    ax0s = np.unique(np.round(df_.SmarAct_Meas_Angle_1_Centered, 3))\n",
    "    ax1s = np.unique(np.round(df_.SmarAct_Meas_Angle_2_Centered, 3))\n",
    "    A0, A1 = np.meshgrid(ax0s, ax1s, indexing='ij')\n",
    "#     Bs = np.array([Hall_Cal_B_gen_v1(a0, a1, **params) for a0, a1 in zip(A0.flatten(), A1.flatten())])\n",
    "    Bs = Hall_Cal_B_gen_v1(A0.flatten(), A1.flatten(), **params)\n",
    "\n",
    "    fig, ax = plt.subplots()\n",
    "    sc = ax.scatter(A0.flatten(), A1.flatten(), c=Bs, s=4);\n",
    "    cb = fig.colorbar(sc, label=r'$B_z$ [T] -- SIMULATED')\n",
    "\n",
    "    ax.set_xlabel('Angle 1 (i.e. Axis 0) [rad]')\n",
    "    ax.set_ylabel('Angle 2 (i.e. Axis 1) [rad]')\n",
    "    \n",
    "    ax.set_title(rf'$\\theta = {params[\"theta\"]:0.3f}, \\phi = {params[\"phi\"]:0.3f}$'+'\\n'+\n",
    "                 rf'$\\alpha = {params[\"alpha\"]:0.3f}, \\beta = {params[\"beta\"]:0.3f}$')"
   ]
  },
  {
   "cell_type": "markdown",
   "metadata": {
    "heading_collapsed": true,
    "hidden": true
   },
   "source": [
    "### Fitting"
   ]
  },
  {
   "cell_type": "markdown",
   "metadata": {
    "hidden": true
   },
   "source": [
    "- See if fit for a single Hall element can constrain all four parameters.\n",
    "- Since we can physically see the Hall elements, SmarAct in the magnet, approximate field direction, we can be smart about initial conditions and limits, if it turns out it there are many minima.\n",
    "- If it is not possible, may need to combine Hall elements, or combine measurements from different Hall probes (this would be a reason to do a second Hall probe angular scan ASAP)."
   ]
  },
  {
   "cell_type": "code",
   "execution_count": null,
   "metadata": {
    "hidden": true
   },
   "outputs": [],
   "source": [
    "ax0s = np.unique(np.round(df_.SmarAct_Meas_Angle_1_Centered, 3))\n",
    "ax1s = np.unique(np.round(df_.SmarAct_Meas_Angle_2_Centered, 3))\n",
    "A0, A1 = np.meshgrid(ax0s, ax1s, indexing='ij')"
   ]
  },
  {
   "cell_type": "code",
   "execution_count": null,
   "metadata": {
    "hidden": true
   },
   "outputs": [],
   "source": [
    "# generate data, with noise\n",
    "B0 = 1.0\n",
    "sigma = 1e-4 #2.8e3\n",
    "params_true = {\n",
    "        'Bmax': B0, # ~2e6\n",
    "        'verbose': 0,\n",
    "        'theta': np.random.uniform(low=0., high=np.pi),\n",
    "        #'phi': np.radians(45.),\n",
    "    #     'phi': np.radians(0.),\n",
    "        'phi': np.random.uniform(low=-np.pi, high=np.pi),\n",
    "        'alpha': np.random.uniform(low=0., high=np.radians(12.)),\n",
    "        'beta': np.random.uniform(low=-np.pi, high=np.pi)\n",
    "}\n",
    "#Bs = np.array([Hall_Cal_B_gen_v1(a0, a1, **params_true) for a0, a1 in zip(A0.flatten(), A1.flatten())])\n",
    "Bs = Hall_Cal_B_gen_v1(A0.flatten(), A1.flatten(), **params)\n",
    "Bs_meas = Bs + np.random.normal(loc=0, scale=sigma, size=len(Bs)) # ~0.1% noise"
   ]
  },
  {
   "cell_type": "code",
   "execution_count": null,
   "metadata": {
    "hidden": true
   },
   "outputs": [],
   "source": [
    "params_true"
   ]
  },
  {
   "cell_type": "code",
   "execution_count": null,
   "metadata": {
    "hidden": true
   },
   "outputs": [],
   "source": [
    "Bs, Bs_meas"
   ]
  },
  {
   "cell_type": "code",
   "execution_count": null,
   "metadata": {
    "hidden": true
   },
   "outputs": [],
   "source": [
    "fig, ax = plt.subplots()\n",
    "sc = ax.scatter(A0.flatten(), A1.flatten(), c=Bs, s=4);\n",
    "cb = fig.colorbar(sc, label=r'$B_z$ [T] -- SIMULATED')\n",
    "\n",
    "ax.set_xlabel('Angle 1 (i.e. Axis 0) [rad]')\n",
    "ax.set_ylabel('Angle 2 (i.e. Axis 1) [rad]');"
   ]
  },
  {
   "cell_type": "code",
   "execution_count": null,
   "metadata": {
    "hidden": true
   },
   "outputs": [],
   "source": [
    "fig, ax = plt.subplots()\n",
    "sc = ax.scatter(A0.flatten(), A1.flatten(), c=Bs_meas, s=4);\n",
    "cb = fig.colorbar(sc, label=r'$B_z$ [T] -- SIMULATED')\n",
    "\n",
    "ax.set_xlabel('Angle 1 (i.e. Axis 0) [rad]')\n",
    "ax.set_ylabel('Angle 2 (i.e. Axis 1) [rad]');"
   ]
  },
  {
   "cell_type": "code",
   "execution_count": null,
   "metadata": {
    "hidden": true
   },
   "outputs": [],
   "source": [
    "# fit!\n",
    "model = lm.Model(Hall_Cal_B_gen_v1, independent_vars=['axis0', 'axis1'])\n",
    "params = lm.Parameters()\n",
    "# fixed parameters\n",
    "# params.add('Bmax', value=B0, vary=False)\n",
    "params.add('Bmax', value=B0, vary=True)\n",
    "params.add('verbose', value=0., vary=False)\n",
    "# parameters to vary\n",
    "params.add('theta', value=np.pi/2, min=0., max=np.pi)\n",
    "params.add('phi', value=0., min=-np.pi, max=np.pi)\n",
    "# params.add('alpha', value=np.pi/2, min=0., max=np.pi)\n",
    "params.add('alpha', value=np.radians(2), min=0., max=np.radians(12.))\n",
    "params.add('beta', value=0., min=-np.pi, max=np.pi)\n",
    "# run fit\n",
    "result = model.fit(Bs_meas, axis0=A0.flatten(), axis1=A1.flatten(),\n",
    "                   params=params, weights=1/(sigma*np.ones_like(Bs_meas)), scale_covar=False)"
   ]
  },
  {
   "cell_type": "code",
   "execution_count": null,
   "metadata": {
    "hidden": true
   },
   "outputs": [],
   "source": [
    "B0"
   ]
  },
  {
   "cell_type": "code",
   "execution_count": null,
   "metadata": {
    "hidden": true,
    "scrolled": false
   },
   "outputs": [],
   "source": [
    "result"
   ]
  },
  {
   "cell_type": "code",
   "execution_count": null,
   "metadata": {
    "hidden": true
   },
   "outputs": [],
   "source": [
    "params_true"
   ]
  },
  {
   "cell_type": "markdown",
   "metadata": {
    "hidden": true
   },
   "source": [
    "### Fit on real data!"
   ]
  },
  {
   "cell_type": "code",
   "execution_count": null,
   "metadata": {
    "hidden": true
   },
   "outputs": [],
   "source": [
    "B0 = df[f'Cal_Z'].abs().max()"
   ]
  },
  {
   "cell_type": "code",
   "execution_count": null,
   "metadata": {
    "hidden": true
   },
   "outputs": [],
   "source": [
    "B0"
   ]
  },
  {
   "cell_type": "code",
   "execution_count": null,
   "metadata": {
    "code_folding": [],
    "hidden": true
   },
   "outputs": [],
   "source": [
    "sigma_est = 3e-5\n",
    "#sigma_est = 1e-4\n",
    "# sigma_est = 1e-3\n",
    "coord = 'Z'\n",
    "# coord = 'X'\n",
    "# coord = 'Y'\n",
    "B0 = df[f'Cal_{coord}'].abs().max()\n",
    "Bs_meas = df[f'Cal_{coord}'].values\n",
    "# fit!\n",
    "model = lm.Model(Hall_Cal_B_gen_v1, independent_vars=['axis0', 'axis1', 'Bmag'])\n",
    "params = lm.Parameters()\n",
    "# fixed parameters\n",
    "#params.add('Bmax', value=B0, vary=True)\n",
    "# params.add('Bmax', value=1.00212872, vary=False)\n",
    "params.add('verbose', value=0., vary=False)\n",
    "# parameters to vary\n",
    "# params.add('theta', value=np.pi/2, min=0. - np.pi/4, max=np.pi + np.pi/4)\n",
    "# params.add('theta', value=np.pi/2, min=0., max=np.pi + np.pi/4) # GOOD\n",
    "params.add('theta', value=0.01475871, vary=False)\n",
    "# params.add('theta', value=0.02, min=0., max=np.pi + np.pi/4) # based on previous scans\n",
    "# params.add('phi', value=0., min=-np.pi, max=np.pi) # GOOD\n",
    "params.add('phi', value=3.06398294, vary=False)\n",
    "## TURN OFF THETA / PHI (Hall orientation on the plate)\n",
    "# params.add('theta', value=0., vary=True)\n",
    "# params.add('phi', value=0., vary=False)\n",
    "# params.add('alpha', value=np.pi/2, min=0., max=np.pi)\n",
    "# params.add('alpha', value=np.radians(2), min=np.radians(-4.), max=np.radians(12.))\n",
    "# params.add('alpha', value=np.radians(2), min=0., max=np.radians(12.)) # GOOD\n",
    "params.add('alpha', value=0.03490732, vary=False) # GOOD\n",
    "# params.add('beta', value=0., min=-np.pi - np.pi/4, max=np.pi + np.pi/4, vary=True)\n",
    "# params.add('beta', value=3.0, min=-np.pi, max=np.pi, vary=True)\n",
    "#params.add('beta', value=np.pi, min=0., max=2*np.pi, vary=True) # GOOD\n",
    "params.add('beta', value=2.74794549, vary=False) # GOOD\n",
    "# best fit alpha and beta\n",
    "# params.add('alpha', value=0.03240273, vary=False)\n",
    "# params.add('beta', value=-3.14159265, vary=False)\n",
    "\n",
    "### NOT SURE THAT THESE WORK ON THEIR OWN\n",
    "# phi for X (really Y)\n",
    "# if coord == 'X':\n",
    "#     params.add('phi', value=-np.pi/2, vary=True, min=-np.pi/2 + np.radians(-10), max=-np.pi/2 + np.radians(10))\n",
    "# phi for Y (really X)\n",
    "# if coord == 'Y':\n",
    "#     params.add('phi', value=0., vary=True, min=np.radians(-10), max=np.radians(10))\n",
    "\n",
    "# run fit\n",
    "#result = model.fit(Bs_meas, axis0=A0.flatten(), axis1=A1.flatten(),\n",
    "#                   params=params, weights=1/(sigma_est*B0*np.ones_like(Bs_meas)), scale_covar=False)\n",
    "###\n",
    "# result = model.fit(Bs_meas, axis0=df['SmarAct_Meas_Angle_1_Centered'].values, axis1=df['SmarAct_Meas_Angle_2_Centered'].values,\n",
    "#                   params=params, weights=1/(sigma_est*B0*np.ones_like(Bs_meas)), scale_covar=False)\n",
    "# add Bmag\n",
    "result = model.fit(Bs_meas, axis0=df['SmarAct_Meas_Angle_1_Centered'].values, axis1=df['SmarAct_Meas_Angle_2_Centered'].values,\n",
    "                   Bmag=df[f'{probe}_Cal_Bmag'].values,\n",
    "                   params=params, weights=1/(sigma_est*B0*np.ones_like(Bs_meas)), scale_covar=False)\n",
    "result_Zcoord = result"
   ]
  },
  {
   "cell_type": "code",
   "execution_count": null,
   "metadata": {
    "hidden": true
   },
   "outputs": [],
   "source": [
    "632 / 14644"
   ]
  },
  {
   "cell_type": "code",
   "execution_count": null,
   "metadata": {
    "hidden": true
   },
   "outputs": [],
   "source": [
    "B0"
   ]
  },
  {
   "cell_type": "code",
   "execution_count": null,
   "metadata": {
    "hidden": true
   },
   "outputs": [],
   "source": [
    "# scan 5 (incomplete)\n",
    "# only can get a good fit result if I fix alpha/beta to be the best fit values (used scan 3 values)\n",
    "result_Zcoord"
   ]
  },
  {
   "cell_type": "code",
   "execution_count": null,
   "metadata": {
    "hidden": true
   },
   "outputs": [],
   "source": [
    "# scan 4\n",
    "result_Zcoord"
   ]
  },
  {
   "cell_type": "code",
   "execution_count": null,
   "metadata": {
    "hidden": true
   },
   "outputs": [],
   "source": [
    "# scan 3\n",
    "result_Zcoord"
   ]
  },
  {
   "cell_type": "code",
   "execution_count": null,
   "metadata": {
    "hidden": true
   },
   "outputs": [],
   "source": [
    "-3.5352 + 2*np.pi"
   ]
  },
  {
   "cell_type": "code",
   "execution_count": null,
   "metadata": {
    "hidden": true
   },
   "outputs": [],
   "source": [
    "# scan 2\n",
    "result"
   ]
  },
  {
   "cell_type": "code",
   "execution_count": null,
   "metadata": {
    "hidden": true
   },
   "outputs": [],
   "source": [
    "np.degrees(0.011)"
   ]
  },
  {
   "cell_type": "code",
   "execution_count": null,
   "metadata": {
    "hidden": true
   },
   "outputs": [],
   "source": [
    "def normalize_angle(angle, degrees=False):\n",
    "    if degrees:\n",
    "        angle_rad = np.radians(angle)\n",
    "        return np.degrees(np.arctan2(np.sin(angle_rad), np.cos(angle_rad)))\n",
    "    else:\n",
    "        return np.arctan2(np.sin(angle), np.cos(angle))\n",
    "\n",
    "def normalize_polar_angle(angle, degrees=False):\n",
    "    if degrees:\n",
    "        angle_rad = np.radians(angle)\n",
    "        return np.degrees(np.arccos(np.cos(angle_rad)))\n",
    "    else:\n",
    "        return np.arccos(np.cos(angle))"
   ]
  },
  {
   "cell_type": "code",
   "execution_count": null,
   "metadata": {
    "hidden": true
   },
   "outputs": [],
   "source": [
    "for k in result.params.keys():\n",
    "    print(k, result.params[k].value, normalize_angle(result.params[k].value), normalize_polar_angle(result.params[k].value))"
   ]
  },
  {
   "cell_type": "code",
   "execution_count": null,
   "metadata": {
    "hidden": true
   },
   "outputs": [],
   "source": [
    "if not np.isclose(normalize_angle(result.params['theta'].value), normalize_polar_angle(result.params['theta'].value)):\n",
    "    print('Phi flipped')\n",
    "    print(f'Phi0: {result.params[\"phi\"].value}, Phi0 + pi: {normalize_angle(result.params[\"phi\"].value+np.pi)}')"
   ]
  },
  {
   "cell_type": "code",
   "execution_count": null,
   "metadata": {
    "hidden": true
   },
   "outputs": [],
   "source": [
    "if not np.isclose(normalize_angle(result.params['alpha'].value), normalize_polar_angle(result.params['alpha'].value)):\n",
    "    print('Beta flipped')\n",
    "    print(f'Beta0: {result.params[\"beta\"].value}, Beta0 + pi: {normalize_angle(result.params[\"beta\"].value+np.pi)}')"
   ]
  },
  {
   "cell_type": "code",
   "execution_count": null,
   "metadata": {
    "hidden": true
   },
   "outputs": [],
   "source": [
    "np.degrees(result.params['theta'])"
   ]
  },
  {
   "cell_type": "code",
   "execution_count": null,
   "metadata": {
    "hidden": true
   },
   "outputs": [],
   "source": [
    "np.degrees(result.params['phi'])"
   ]
  },
  {
   "cell_type": "code",
   "execution_count": null,
   "metadata": {
    "hidden": true
   },
   "outputs": [],
   "source": [
    "np.degrees(result.params['alpha'])"
   ]
  },
  {
   "cell_type": "code",
   "execution_count": null,
   "metadata": {
    "hidden": true
   },
   "outputs": [],
   "source": [
    "np.degrees(result.params['beta'])"
   ]
  },
  {
   "cell_type": "code",
   "execution_count": null,
   "metadata": {
    "hidden": true,
    "scrolled": true
   },
   "outputs": [],
   "source": [
    "result.best_fit"
   ]
  },
  {
   "cell_type": "code",
   "execution_count": null,
   "metadata": {
    "hidden": true
   },
   "outputs": [],
   "source": [
    "# plots!\n",
    "from matplotlib.colors import Normalize\n",
    "import matplotlib.cm as cm"
   ]
  },
  {
   "cell_type": "code",
   "execution_count": null,
   "metadata": {
    "hidden": true
   },
   "outputs": [],
   "source": [
    "Bmin = np.min([np.min(df[f'Cal_{coord}']), np.min(result.best_fit)])\n",
    "Bmax = np.max([np.max(df[f'Cal_{coord}']), np.max(result.best_fit)])"
   ]
  },
  {
   "cell_type": "code",
   "execution_count": null,
   "metadata": {
    "hidden": true
   },
   "outputs": [],
   "source": [
    "Bmin, Bmax"
   ]
  },
  {
   "cell_type": "code",
   "execution_count": null,
   "metadata": {
    "hidden": true
   },
   "outputs": [],
   "source": [
    "# data, fit\n",
    "fig, axs = plt.subplots(nrows=1, ncols=2, figsize=(24, 8))\n",
    "cmap = cm.get_cmap('viridis')\n",
    "normalizer = Normalize(Bmin, Bmax)\n",
    "im = cm.ScalarMappable(norm=normalizer)\n",
    "# sc = axs[0].scatter(A0.flatten(), A1.flatten(), c=Bs_meas, s=4, cmap=cmap, norm=normalizer)\n",
    "# sc1 = axs[1].scatter(A0.flatten(), A1.flatten(), c=result.best_fit, s=4, cmap=cmap, norm=normalizer)\n",
    "\n",
    "sc = axs[0].scatter(df['SmarAct_Meas_Angle_1_Centered'].values, df['SmarAct_Meas_Angle_2_Centered'].values, c=Bs_meas, s=4, cmap=cmap, norm=normalizer)\n",
    "sc1 = axs[1].scatter(df['SmarAct_Meas_Angle_1_Centered'].values, df['SmarAct_Meas_Angle_2_Centered'].values, c=result.best_fit, s=4, cmap=cmap, norm=normalizer)\n",
    "\n",
    "cb = fig.colorbar(im, label=r'$B_z$ [T]')\n",
    "\n",
    "axs[0].set_xlabel('Angle 1 (i.e. Axis 0) [rad]')\n",
    "axs[0].set_ylabel('Angle 2 (i.e. Axis 1) [rad]')\n",
    "axs[0].set_title('Measured Values')\n",
    "axs[1].set_xlabel('Angle 1 (i.e. Axis 0) [rad]')\n",
    "axs[1].set_ylabel('Angle 2 (i.e. Axis 1) [rad]')\n",
    "axs[1].set_title('Best Fit Values: \\n'+\n",
    "                 rf'$\\theta = {result.params[\"theta\"].value:0.3f},\\ \\phi = {result.params[\"phi\"].value:0.3f}$, '+#'\\n'+\n",
    "                 rf'$\\alpha = {result.params[\"alpha\"].value:0.3f},\\ \\beta = {result.params[\"beta\"].value:0.3f}$')"
   ]
  },
  {
   "cell_type": "code",
   "execution_count": null,
   "metadata": {
    "hidden": true
   },
   "outputs": [],
   "source": [
    "# data - fit\n",
    "fig, ax = plt.subplots(figsize=(12, 8))\n",
    "cmap = cm.get_cmap('viridis')\n",
    "# normalizer = Normalize(Bmin, Bmax)\n",
    "# im = cm.ScalarMappable(norm=normalizer)\n",
    "# sc = axs[0].scatter(A0.flatten(), A1.flatten(), c=Bs_meas, s=4, cmap=cmap, norm=normalizer)\n",
    "# sc1 = axs[1].scatter(A0.flatten(), A1.flatten(), c=result.best_fit, s=4, cmap=cmap, norm=normalizer)\n",
    "\n",
    "sc = ax.scatter(df['SmarAct_Meas_Angle_1_Centered'].values, df['SmarAct_Meas_Angle_2_Centered'].values, c=Bs_meas-result.best_fit, s=4, cmap=cmap)#, norm=normalizer)\n",
    "\n",
    "cb = fig.colorbar(sc, label=rf'$B_{coord}$ [T]')\n",
    "\n",
    "ax.set_xlabel('Angle 1 (i.e. Axis 0) [deg]')\n",
    "ax.set_ylabel('Angle 2 (i.e. Axis 1) [deg]')\n",
    "ax.set_title('Measured Values - Best Fit Values: \\n'+\n",
    "             rf'$\\theta = {result.params[\"theta\"].value:0.3f},\\ \\phi = {result.params[\"phi\"].value:0.3f}$, '+#'\\n'+\n",
    "             rf'$\\alpha = {result.params[\"alpha\"].value:0.3f},\\ \\beta = {result.params[\"beta\"].value:0.3f}$')"
   ]
  },
  {
   "cell_type": "code",
   "execution_count": null,
   "metadata": {
    "hidden": true
   },
   "outputs": [],
   "source": [
    "# hist\n",
    "fig, ax = plt.subplots()\n",
    "\n",
    "bins = np.arange(-1.50e-4, 1.52e-4, 2e-6)\n",
    "# bins = np.arange(-5.0e-5, 5.05e-5, 5e-7) # for good scans\n",
    "# bins = np.arange(-5.0e-3, 5.05e-3, 5e-5) # wide search for large residuals\n",
    "\n",
    "ax.hist(Bs_meas-result.best_fit, bins=bins, histtype='step', label=get_label(Bs_meas-result.best_fit, bins))\n",
    "\n",
    "ax.set_xlabel(rf'Data - Fit, $B_{coord}$ [T]')\n",
    "ax.ticklabel_format(axis='x', style='sci', scilimits=(0,0))\n",
    "ax.legend(loc='upper left', bbox_to_anchor=(0.6, 1.0));"
   ]
  },
  {
   "cell_type": "code",
   "execution_count": null,
   "metadata": {
    "hidden": true
   },
   "outputs": [],
   "source": [
    "# residual vs time\n",
    "fig, ax = plt.subplots()\n",
    "\n",
    "#bins = np.arange(-1.50e-4, 1.52e-4, 2e-6)\n",
    "# bins = np.arange(-5.0e-5, 5.05e-5, 5e-7) # for good scans\n",
    "# bins = np.arange(-5.0e-3, 5.05e-3, 5e-5) # for good scans\n",
    "\n",
    "ax.scatter(df.index, Bs_meas-result.best_fit)\n",
    "\n",
    "ax.set_xlabel('Datetime')\n",
    "ax.set_ylabel(rf'Data - Fit, $B_{coord}$ [T]')\n",
    "ax.ticklabel_format(axis='y', style='sci', scilimits=(0,0));\n",
    "# ax.legend(loc='upper left', bbox_to_anchor=(0.6, 1.0));"
   ]
  },
  {
   "cell_type": "code",
   "execution_count": null,
   "metadata": {
    "hidden": true
   },
   "outputs": [],
   "source": [
    "# how about transverse field?\n",
    "#BT_fit = (result_Zcoord.params['Bmax'].value**2 - result_Zcoord.best_fit**2)**(1/2)\n",
    "BT_fit = (df[f'{probe}_Cal_Bmag'].values**2 - result_Zcoord.best_fit**2)**(1/2)\n",
    "BT_meas = np.linalg.norm(df[['Cal_X', 'Cal_Y']].values, axis=1)"
   ]
  },
  {
   "cell_type": "code",
   "execution_count": null,
   "metadata": {
    "hidden": true
   },
   "outputs": [],
   "source": [
    "# data - fit\n",
    "fig, ax = plt.subplots(figsize=(12, 8))\n",
    "cmap = cm.get_cmap('viridis')\n",
    "# normalizer = Normalize(Bmin, Bmax)\n",
    "# im = cm.ScalarMappable(norm=normalizer)\n",
    "# sc = axs[0].scatter(A0.flatten(), A1.flatten(), c=Bs_meas, s=4, cmap=cmap, norm=normalizer)\n",
    "# sc1 = axs[1].scatter(A0.flatten(), A1.flatten(), c=result.best_fit, s=4, cmap=cmap, norm=normalizer)\n",
    "\n",
    "sc = ax.scatter(df['SmarAct_Meas_Angle_1_Centered'].values, df['SmarAct_Meas_Angle_2_Centered'].values, c=BT_meas-BT_fit, s=4, cmap=cmap)#, norm=normalizer)\n",
    "\n",
    "cb = fig.colorbar(sc, label=r'$\\Delta B_{T}$ [T]')\n",
    "\n",
    "ax.set_xlabel('Angle 1 (i.e. Axis 0) [deg]')\n",
    "ax.set_ylabel('Angle 2 (i.e. Axis 1) [deg]')\n",
    "ax.set_title('Measured Values - Best Fit Values: \\n'+\n",
    "             rf'$\\theta = {result.params[\"theta\"].value:0.3f},\\ \\phi = {result.params[\"phi\"].value:0.3f}$, '+#'\\n'+\n",
    "             rf'$\\alpha = {result.params[\"alpha\"].value:0.3f},\\ \\beta = {result.params[\"beta\"].value:0.3f}$')"
   ]
  },
  {
   "cell_type": "code",
   "execution_count": null,
   "metadata": {
    "hidden": true
   },
   "outputs": [],
   "source": [
    "# hist\n",
    "fig, ax = plt.subplots()\n",
    "\n",
    "# bins = np.arange(-1.50e-4, 1.52e-4, 2e-6)\n",
    "bins = np.arange(-1.50e-3, 1.52e-3, 2e-5)\n",
    "\n",
    "ax.hist(BT_meas-BT_fit, bins=bins, histtype='step', label=get_label(BT_meas-BT_fit, bins))\n",
    "\n",
    "ax.set_xlabel(r'Data - Fit, $B_{T}$ [T]')\n",
    "ax.ticklabel_format(axis='x', style='sci', scilimits=(0,0))\n",
    "ax.legend(loc='upper left', bbox_to_anchor=(0.6, 1.0));"
   ]
  },
  {
   "cell_type": "code",
   "execution_count": null,
   "metadata": {
    "hidden": true
   },
   "outputs": [],
   "source": []
  },
  {
   "cell_type": "code",
   "execution_count": null,
   "metadata": {
    "hidden": true
   },
   "outputs": [],
   "source": []
  },
  {
   "cell_type": "code",
   "execution_count": null,
   "metadata": {
    "hidden": true
   },
   "outputs": [],
   "source": [
    "BT_meas"
   ]
  },
  {
   "cell_type": "code",
   "execution_count": null,
   "metadata": {
    "hidden": true
   },
   "outputs": [],
   "source": [
    "BT_fit"
   ]
  },
  {
   "cell_type": "code",
   "execution_count": null,
   "metadata": {
    "hidden": true
   },
   "outputs": [],
   "source": [
    "df[['Cal_X', 'Cal_Y']].values.shape"
   ]
  },
  {
   "cell_type": "code",
   "execution_count": null,
   "metadata": {
    "hidden": true
   },
   "outputs": [],
   "source": [
    "BT_fit"
   ]
  },
  {
   "cell_type": "code",
   "execution_count": null,
   "metadata": {
    "hidden": true
   },
   "outputs": [],
   "source": []
  },
  {
   "cell_type": "markdown",
   "metadata": {
    "hidden": true
   },
   "source": [
    "- I think I need to go from here... 2023-01-15 13:15:40 \n",
    "    - Next step is probably getting theta / phi from SmarAct angles.\n",
    "    - Or looking at other fitting metrics"
   ]
  },
  {
   "cell_type": "code",
   "execution_count": null,
   "metadata": {
    "hidden": true
   },
   "outputs": [],
   "source": [
    "### BELOW ISN'T USEFUL, I THINK"
   ]
  },
  {
   "cell_type": "code",
   "execution_count": null,
   "metadata": {
    "hidden": true
   },
   "outputs": [],
   "source": [
    "# Bergsma fit\n",
    "fig, ax = plt.subplots()\n",
    "\n",
    "ax.scatter(df['NMR [T]'], df[f'{probe}_Cal_Bmag'], s=1)"
   ]
  },
  {
   "cell_type": "code",
   "execution_count": null,
   "metadata": {
    "hidden": true
   },
   "outputs": [],
   "source": [
    "# Bergsma fit\n",
    "fig, ax = plt.subplots()\n",
    "\n",
    "ax.scatter(df.index, df[f'{probe}_Cal_Bmag']-df['NMR [T]'], s=1)"
   ]
  },
  {
   "cell_type": "code",
   "execution_count": null,
   "metadata": {
    "hidden": true
   },
   "outputs": [],
   "source": [
    "fig, ax = plt.subplots()\n",
    "\n",
    "ax.hist((df[f'{probe}_Cal_Bmag']-df['NMR [T]'])/df['NMR [T]'], histtype='step', bins=100);"
   ]
  },
  {
   "cell_type": "code",
   "execution_count": null,
   "metadata": {
    "hidden": true
   },
   "outputs": [],
   "source": [
    "res_rel = (df[f'{probe}_Cal_Bmag']-df['NMR [T]'])/df['NMR [T]']\n",
    "res_rel.mean(), res_rel.std()"
   ]
  },
  {
   "cell_type": "code",
   "execution_count": null,
   "metadata": {
    "hidden": true
   },
   "outputs": [],
   "source": [
    "# check NMR and temp stability\n",
    "for col in ['NMR [T]', f'{probe}_Cal_T']:\n",
    "    fig, ax = plt.subplots()\n",
    "    sc = ax.scatter(A0.flatten(), A1.flatten(), c=df[col], s=4);\n",
    "    cb = fig.colorbar(sc, label=col)\n",
    "\n",
    "    ax.set_xlabel('Angle 1 (i.e. Axis 0) [rad]')\n",
    "    ax.set_ylabel('Angle 2 (i.e. Axis 1) [rad]');"
   ]
  },
  {
   "cell_type": "code",
   "execution_count": null,
   "metadata": {
    "hidden": true
   },
   "outputs": [],
   "source": [
    "result.params['theta'].value"
   ]
  },
  {
   "cell_type": "code",
   "execution_count": null,
   "metadata": {
    "hidden": true
   },
   "outputs": [],
   "source": [
    "# data - fit\n",
    "fig, ax = plt.subplots()\n",
    "sc = ax.scatter(a1, a2, c=Bs_meas - result.best_fit, s=4);\n",
    "cb = fig.colorbar(sc, label=r'$B_z$ [T]')\n",
    "\n",
    "ax.set_xlabel('Angle 1 (i.e. Axis 0) [rad]')\n",
    "ax.set_ylabel('Angle 2 (i.e. Axis 1) [rad]')\n",
    "ax.set_title('Data - Fit');"
   ]
  },
  {
   "cell_type": "code",
   "execution_count": null,
   "metadata": {
    "hidden": true
   },
   "outputs": [],
   "source": [
    "# data / fit\n",
    "fig, ax = plt.subplots()\n",
    "sc = ax.scatter(a1, a2, c=Bs_meas / result.best_fit, s=4);\n",
    "cb = fig.colorbar(sc, label=r'$B_{z, meas.} / B_{z, fit}$')\n",
    "\n",
    "ax.set_xlabel('Angle 1 (i.e. Axis 0) [rad]')\n",
    "ax.set_ylabel('Angle 2 (i.e. Axis 1) [rad]')\n",
    "ax.set_title('Data / Fit');"
   ]
  },
  {
   "cell_type": "code",
   "execution_count": null,
   "metadata": {
    "hidden": true
   },
   "outputs": [],
   "source": [
    "# histograms"
   ]
  },
  {
   "cell_type": "code",
   "execution_count": null,
   "metadata": {
    "hidden": true
   },
   "outputs": [],
   "source": [
    "len(Bs_meas)"
   ]
  },
  {
   "cell_type": "code",
   "execution_count": null,
   "metadata": {
    "hidden": true
   },
   "outputs": [],
   "source": [
    "fig, ax = plt.subplots()\n",
    "\n",
    "ax.hist(Bs_meas - result.best_fit, bins=100, histtype='step')\n",
    "\n",
    "ax.set_xlabel(r'Data - Fit [T]')"
   ]
  },
  {
   "cell_type": "code",
   "execution_count": null,
   "metadata": {
    "hidden": true
   },
   "outputs": [],
   "source": [
    "np.mean(Bs_meas - result.best_fit), np.std(Bs_meas - result.bes.t_fit, ddof=1)"
   ]
  },
  {
   "cell_type": "code",
   "execution_count": null,
   "metadata": {
    "hidden": true
   },
   "outputs": [],
   "source": [
    "fig, ax = plt.subplots()\n",
    "\n",
    "ax.hist(Bs_meas / result.best_fit, bins=100, histtype='step')\n",
    "\n",
    "ax.set_xlabel(r'Data / Fit')"
   ]
  },
  {
   "cell_type": "code",
   "execution_count": null,
   "metadata": {
    "hidden": true
   },
   "outputs": [],
   "source": [
    "np.mean(Bs_meas / result.best_fit), np.std(Bs_meas / result.best_fit, ddof=1)"
   ]
  },
  {
   "cell_type": "markdown",
   "metadata": {},
   "source": [
    "## v2. Reconstruct all coordinates at once"
   ]
  },
  {
   "cell_type": "markdown",
   "metadata": {},
   "source": [
    "### Voltage Function (using same function for calibration orientation)"
   ]
  },
  {
   "cell_type": "code",
   "execution_count": null,
   "metadata": {
    "code_folding": []
   },
   "outputs": [],
   "source": [
    "'''\n",
    "def Hall_Cal_B_gen_v2(axis0, axis1, **params):\n",
    "    if not isinstance(axis0, Iterable):\n",
    "        axis0 = np.array([axis0])\n",
    "        axis1 = np.array([axis1])\n",
    "    # FIXME! Try passing NMR measurements (adjusted with pole-to-pole) in along with axis0, axis1.\n",
    "    Bmax = params['Bmax']\n",
    "    # calculate normal vectors\n",
    "    # Hall element is w.r.t. \"SmarAct coordinates\" (or better, Kinematic plate coordinates) and is fixed, regardless of axis0, axis1\n",
    "    norm_Hall = np.array([np.sin(params['theta'])*np.cos(params['phi']), np.sin(params['theta'])*np.sin(params['phi']), np.cos(params['theta'])])\n",
    "    # B field has some nominal orientation w.r.t. kinematic plate, and is further rotated by axis0, axis1\n",
    "    norm_B = np.array([np.sin(params['alpha'])*np.cos(params['beta']), np.sin(params['alpha'])*np.sin(params['beta']), np.cos(params['alpha'])])\n",
    "    # rotate the field vector w.r.t.\n",
    "    #rot = Rotation.from_euler('yz', angles=np.array([-axis0, -axis1]), degrees=False) # ok\n",
    "    #rot = Rotation.from_euler('yz', angles=np.array([-axis0, -axis1]).T, degrees=False) # ok\n",
    "    rot = Rotation.from_euler('yz', angles=np.array([-axis0, -axis1]).T, degrees=True) # ok\n",
    "#     rot = Rotation.from_euler('zy', angles=np.array([-axis0, -axis1]).T, degrees=True) # CHECK\n",
    "    norm_B_rot = rot.apply(np.repeat(norm_B[:, np.newaxis], len(axis0), axis=1).T)\n",
    "    # calculate signed fraction of B vector along Hall normal i.e. Hall only reads perpendicular field (to first order)\n",
    "    costh = np.dot(norm_B_rot, norm_Hall)\n",
    "    #sinth = np.sin(np.arccos(costh))\n",
    "    B_T = np.linalg.norm(norm_B_rot[:,:2], axis=1)\n",
    "    theta = np.arctan2(B_T, norm_B_rot[:,2])\n",
    "    phi = np.arctan2(norm_B_rot[:, 1], norm_B_rot[:, 0]) + params['phase']\n",
    "    Bx = Bmax * np.sin(theta) * np.cos(phi)\n",
    "    By = Bmax * np.sin(theta) * np.sin(phi)\n",
    "    Bz = Bmax * np.cos(theta)\n",
    "#     print(Bx, By, Bz)\n",
    "#     try:\n",
    "    B_meas = np.concatenate([Bx, By, Bz])\n",
    "#     except:\n",
    "#         B_meas = np.array([Bx, By, Bz])\n",
    "    if params['verbose'] == 1.:\n",
    "        return B_meas, norm_Hall, norm_B, norm_B_rot, theta, phi\n",
    "    else:\n",
    "        return B_meas\n",
    "'''\n",
    "\n",
    "'''\n",
    "# rotate Bvector into Hall probe frame\n",
    "def rodrigues_rotation(points, vec0, vec1):\n",
    "    # points should be N x 3\n",
    "    # rotate from vec0 to vec1\n",
    "    # note vec0 and vec1 should be normalized\n",
    "    k_vec = np.cross(vec0, vec1)\n",
    "    k_vec = k_vec / np.linalg.norm(k_vec)\n",
    "    costheta = np.dot(vec0, vec1)\n",
    "    sintheta = (1-costheta**2)**(1/2)\n",
    "    points_rot = points * costheta + np.cross(k_vec, points) * sintheta + np.outer(np.dot(points, k_vec), k_vec) * (1 - costheta)\n",
    "    return points_rot\n",
    "'''\n",
    "\n",
    "def Hall_Cal_B_gen_v2(axis0, axis1, Bmag, **params):\n",
    "    if not isinstance(axis0, Iterable):\n",
    "        axis0 = np.array([axis0])\n",
    "        axis1 = np.array([axis1])\n",
    "        Bmag = np.array([Bmag])\n",
    "    # FIXME! Try passing NMR measurements (adjusted with pole-to-pole) in along with axis0, axis1.\n",
    "#     Bmax = params['Bmax']\n",
    "    # calculate normal vectors\n",
    "    # Hall element is w.r.t. \"SmarAct coordinates\" (or better, Kinematic plate coordinates) and is fixed, regardless of axis0, axis1\n",
    "    norm_Hall = np.array([np.sin(params['theta'])*np.cos(params['phi']), np.sin(params['theta'])*np.sin(params['phi']), np.cos(params['theta'])])\n",
    "    # x_Hall is arbitary...\n",
    "    x_Hall = np.array([-np.sin(params['phi']), np.cos(params['phi']), 0.])\n",
    "    # B field has some nominal orientation w.r.t. kinematic plate, and is further rotated by axis0, axis1\n",
    "    norm_B = np.array([np.sin(params['alpha'])*np.cos(params['beta']), np.sin(params['alpha'])*np.sin(params['beta']), np.cos(params['alpha'])])\n",
    "    # rotate the field vector w.r.t.\n",
    "    #rot = Rotation.from_euler('yz', angles=np.array([-axis0, -axis1]), degrees=False) # ok\n",
    "    #rot = Rotation.from_euler('yz', angles=np.array([-axis0, -axis1]).T, degrees=False) # ok\n",
    "    rot = Rotation.from_euler('yz', angles=np.array([-axis0, -axis1]).T, degrees=True) # ok\n",
    "#     rot = Rotation.from_euler('yz', angles=np.array([-axis0, axis1]).T, degrees=True) # CHECK!\n",
    "    norm_B_rot = rot.apply(np.repeat(norm_B[:, np.newaxis], len(axis0), axis=1).T)\n",
    "    # calculate signed fraction of B vector along Hall normal i.e. Hall only reads perpendicular field (to first order)\n",
    "    costh = np.dot(norm_B_rot, norm_Hall)\n",
    "    sinth = (1 - costh**2)**(1/2)\n",
    "    theta = np.arccos(costh)\n",
    "    BT_rot90 = np.cross(norm_B_rot, norm_Hall)\n",
    "    BT_rot90 = BT_rot90 / np.linalg.norm(BT_rot90, axis=1)[:, None]\n",
    "    BT_rot = np.cross(norm_Hall, BT_rot90)\n",
    "#     BT_rot = np.cross(norm_B_rot, norm_Hall)\n",
    "    # must normalize BT_rot\n",
    "    BT_rot = BT_rot / np.linalg.norm(BT_rot, axis=1)[:, None]\n",
    "#     phi_Hall = np.arccos(np.dot(BT_rot, x_Hall)) + params['phase']\n",
    "    phi_Hall = np.arccos(np.dot(BT_rot, x_Hall))\n",
    "    sign_phi = 2*(np.dot(np.cross(x_Hall, BT_rot), norm_Hall) > 0.).astype(int) - 1.\n",
    "#     sign_phi = 2*(np.dot(np.cross(x_Hall, BT_rot), norm_Hall) < 0.).astype(int) - 1.\n",
    "#     phi_Hall = sign_phi * phi_Hall\n",
    "    phi_Hall = sign_phi * phi_Hall + params['phase']\n",
    "    # recenter phi\n",
    "    phi_Hall[phi_Hall > np.pi] = phi_Hall[phi_Hall > np.pi] - 2*np.pi\n",
    "    phi_Hall[phi_Hall < -np.pi] = phi_Hall[phi_Hall < -np.pi] + 2*np.pi\n",
    "    ###\n",
    "    Bx = Bmag * sinth * np.cos(phi_Hall)\n",
    "    By = Bmag * sinth * np.sin(phi_Hall)\n",
    "    Bz = Bmag * costh\n",
    "    B_meas = np.concatenate([Bx, By, Bz])\n",
    "    if params['verbose'] == 1.:\n",
    "        return B_meas, norm_Hall, norm_B, norm_B_rot, BT_rot, theta, phi_Hall\n",
    "    else:\n",
    "        return B_meas"
   ]
  },
  {
   "cell_type": "markdown",
   "metadata": {
    "heading_collapsed": true
   },
   "source": [
    "### Test"
   ]
  },
  {
   "cell_type": "code",
   "execution_count": null,
   "metadata": {
    "hidden": true
   },
   "outputs": [],
   "source": [
    "params= {'theta': np.radians(15.), 'phi': np.radians(-5.)}\n",
    "norm_Hall = np.array([np.sin(params['theta'])*np.cos(params['phi']), np.sin(params['theta'])*np.sin(params['phi']), np.cos(params['theta'])])\n",
    "# x_Hall is arbitary...\n",
    "x_Hall = np.array([-np.sin(params['phi']), np.cos(params['phi']), 0.])"
   ]
  },
  {
   "cell_type": "code",
   "execution_count": null,
   "metadata": {
    "hidden": true,
    "scrolled": false
   },
   "outputs": [],
   "source": [
    "norm_Hall, x_Hall"
   ]
  },
  {
   "cell_type": "code",
   "execution_count": null,
   "metadata": {
    "hidden": true,
    "scrolled": true
   },
   "outputs": [],
   "source": [
    "np.dot(norm_Hall, x_Hall)"
   ]
  },
  {
   "cell_type": "code",
   "execution_count": null,
   "metadata": {
    "hidden": true
   },
   "outputs": [],
   "source": [
    "params= {'theta': np.radians(15.), 'phi': np.radians(-5.)}\n",
    "norm_Hall = np.array([np.sin(params['theta'])*np.cos(params['phi']), np.sin(params['theta'])*np.sin(params['phi']), np.cos(params['theta'])])\n",
    "norm_B_rot = np.array([[0, 1, 2], [3, 4, 5], [6, 7,8], [9, 10, 11]])"
   ]
  },
  {
   "cell_type": "code",
   "execution_count": null,
   "metadata": {
    "hidden": true
   },
   "outputs": [],
   "source": [
    "norm_B_rot, norm_Hall"
   ]
  },
  {
   "cell_type": "code",
   "execution_count": null,
   "metadata": {
    "hidden": true
   },
   "outputs": [],
   "source": [
    "np.cross(norm_B_rot, norm_Hall)"
   ]
  },
  {
   "cell_type": "code",
   "execution_count": null,
   "metadata": {
    "hidden": true
   },
   "outputs": [],
   "source": [
    "np.cross(norm_B_rot[3], norm_Hall)"
   ]
  },
  {
   "cell_type": "code",
   "execution_count": null,
   "metadata": {
    "hidden": true
   },
   "outputs": [],
   "source": []
  },
  {
   "cell_type": "code",
   "execution_count": null,
   "metadata": {
    "hidden": true
   },
   "outputs": [],
   "source": [
    "np.cross(norm_Hall, np.cross(norm_B_rot, norm_Hall))"
   ]
  },
  {
   "cell_type": "code",
   "execution_count": null,
   "metadata": {
    "hidden": true
   },
   "outputs": [],
   "source": [
    "np.cross(norm_Hall, np.cross(norm_B_rot[3], norm_Hall))"
   ]
  },
  {
   "cell_type": "code",
   "execution_count": null,
   "metadata": {
    "hidden": true
   },
   "outputs": [],
   "source": []
  },
  {
   "cell_type": "code",
   "execution_count": null,
   "metadata": {
    "hidden": true
   },
   "outputs": [],
   "source": [
    "np.dot(norm_B_rot, norm_Hall)"
   ]
  },
  {
   "cell_type": "code",
   "execution_count": null,
   "metadata": {
    "hidden": true
   },
   "outputs": [],
   "source": [
    "np.dot(norm_B_rot[3], norm_Hall)"
   ]
  },
  {
   "cell_type": "code",
   "execution_count": null,
   "metadata": {
    "hidden": true
   },
   "outputs": [],
   "source": [
    "phi"
   ]
  },
  {
   "cell_type": "code",
   "execution_count": null,
   "metadata": {
    "hidden": true
   },
   "outputs": [],
   "source": [
    "np.ptp(phi)"
   ]
  },
  {
   "cell_type": "code",
   "execution_count": null,
   "metadata": {
    "hidden": true
   },
   "outputs": [],
   "source": []
  },
  {
   "cell_type": "markdown",
   "metadata": {
    "heading_collapsed": true
   },
   "source": [
    "### Fitting"
   ]
  },
  {
   "cell_type": "markdown",
   "metadata": {
    "hidden": true
   },
   "source": [
    "- See if fit works to constrain all five parameters."
   ]
  },
  {
   "cell_type": "code",
   "execution_count": null,
   "metadata": {
    "hidden": true
   },
   "outputs": [],
   "source": [
    "ax0s = np.unique(np.round(df_.SmarAct_Meas_Angle_1_Centered, 3))\n",
    "ax1s = np.unique(np.round(df_.SmarAct_Meas_Angle_2_Centered, 3))\n",
    "A0, A1 = np.meshgrid(ax0s, ax1s, indexing='ij')"
   ]
  },
  {
   "cell_type": "code",
   "execution_count": null,
   "metadata": {
    "hidden": true
   },
   "outputs": [],
   "source": [
    "ax0s"
   ]
  },
  {
   "cell_type": "code",
   "execution_count": null,
   "metadata": {
    "hidden": true
   },
   "outputs": [],
   "source": [
    "# generate data, with noise\n",
    "B0 = 1.0\n",
    "sigma = 3e-5\n",
    "params_true = {\n",
    "        'Bmax': B0, # ~2e6\n",
    "        'verbose': 1,\n",
    "        #'theta': np.random.uniform(low=0., high=np.pi),\n",
    "        'theta': np.random.uniform(low=0., high=np.pi/8.),\n",
    "        #'phi': np.radians(45.),\n",
    "    #     'phi': np.radians(0.),\n",
    "        'phi': np.random.uniform(low=-np.pi, high=np.pi),\n",
    "        #'alpha': np.random.uniform(low=0., high=np.radians(12.)),\n",
    "        'alpha': np.random.uniform(low=0., high=np.pi/8.),\n",
    "        'beta': np.random.uniform(low=-np.pi, high=np.pi),\n",
    "        'phase': np.random.uniform(low=-np.pi, high=np.pi)\n",
    "}\n",
    "Bmags = B0 * np.ones_like(A0.flatten())\n",
    "\n",
    "\n",
    "#Bs = np.array([Hall_Cal_B_gen_v2(a0, a1, **params_true) for a0, a1 in zip(A0.flatten(), A1.flatten())])\n",
    "# Bs = Hall_Cal_B_gen_v2(A0.flatten(), A1.flatten(), **params_true)\n",
    "Bs, norm_Hall, norm_B, norm_B_rot, BT_rot, theta, phi = Hall_Cal_B_gen_v2(A0.flatten(), A1.flatten(), Bmags, **params_true)\n",
    "Bs_meas = Bs + np.random.normal(loc=0, scale=sigma, size=Bs.shape) # ~0.1% noise\n",
    "\n",
    "N = len(A0.flatten())\n",
    "Bxs = Bs[:N]\n",
    "Bys = Bs[N:2*N]\n",
    "Bzs = Bs[2*N:]\n",
    "\n",
    "Bxs_meas = Bs_meas[:N]\n",
    "Bys_meas = Bs_meas[N:2*N]\n",
    "Bzs_meas = Bs_meas[2*N:]"
   ]
  },
  {
   "cell_type": "code",
   "execution_count": null,
   "metadata": {
    "hidden": true
   },
   "outputs": [],
   "source": [
    "np.linalg.norm(BT_rot, axis=1)"
   ]
  },
  {
   "cell_type": "code",
   "execution_count": null,
   "metadata": {
    "hidden": true
   },
   "outputs": [],
   "source": [
    "np.linalg.norm(norm_B_rot, axis=1)"
   ]
  },
  {
   "cell_type": "code",
   "execution_count": null,
   "metadata": {
    "hidden": true
   },
   "outputs": [],
   "source": [
    "np.linalg.norm(norm_B_rot, axis=1)"
   ]
  },
  {
   "cell_type": "code",
   "execution_count": null,
   "metadata": {
    "hidden": true
   },
   "outputs": [],
   "source": [
    "norm_Hall = np.array([np.sin(params['theta'])*np.cos(params['phi']), np.sin(params['theta'])*np.sin(params['phi']), np.cos(params['theta'])])"
   ]
  },
  {
   "cell_type": "code",
   "execution_count": null,
   "metadata": {
    "hidden": true
   },
   "outputs": [],
   "source": [
    "np.linalg.norm(norm_Hall)"
   ]
  },
  {
   "cell_type": "code",
   "execution_count": null,
   "metadata": {
    "hidden": true
   },
   "outputs": [],
   "source": [
    "np.linalg.norm(np.cross(norm_B_rot, norm_Hall), axis=1)"
   ]
  },
  {
   "cell_type": "code",
   "execution_count": null,
   "metadata": {
    "hidden": true
   },
   "outputs": [],
   "source": []
  },
  {
   "cell_type": "code",
   "execution_count": null,
   "metadata": {
    "hidden": true,
    "scrolled": true
   },
   "outputs": [],
   "source": [
    "np.ptp(phi)"
   ]
  },
  {
   "cell_type": "code",
   "execution_count": null,
   "metadata": {
    "hidden": true
   },
   "outputs": [],
   "source": [
    "np.pi*2"
   ]
  },
  {
   "cell_type": "code",
   "execution_count": null,
   "metadata": {
    "hidden": true
   },
   "outputs": [],
   "source": [
    "theta"
   ]
  },
  {
   "cell_type": "code",
   "execution_count": null,
   "metadata": {
    "hidden": true
   },
   "outputs": [],
   "source": [
    "params_true"
   ]
  },
  {
   "cell_type": "code",
   "execution_count": null,
   "metadata": {
    "hidden": true
   },
   "outputs": [],
   "source": [
    "Bs, Bs_meas"
   ]
  },
  {
   "cell_type": "code",
   "execution_count": null,
   "metadata": {
    "hidden": true
   },
   "outputs": [],
   "source": [
    "for Bs_, l in zip([Bxs, Bys, Bzs], ['x', 'y', 'z']):\n",
    "    fig, ax = plt.subplots()\n",
    "    sc = ax.scatter(A0.flatten(), A1.flatten(), c=Bs_, s=4);\n",
    "    cb = fig.colorbar(sc, label=rf'$B_{l}$ [T] -- SIMULATED')\n",
    "\n",
    "    ax.set_xlabel('Angle 1 (i.e. Axis 0) [rad]')\n",
    "    ax.set_ylabel('Angle 2 (i.e. Axis 1) [rad]');"
   ]
  },
  {
   "cell_type": "code",
   "execution_count": null,
   "metadata": {
    "hidden": true
   },
   "outputs": [],
   "source": [
    "# fit!\n",
    "model = lm.Model(Hall_Cal_B_gen_v2, independent_vars=['axis0', 'axis1'])\n",
    "params = lm.Parameters()\n",
    "# fixed parameters\n",
    "# params.add('Bmax', value=B0, vary=False)\n",
    "params.add('Bmax', value=B0, vary=True)\n",
    "params.add('verbose', value=0., vary=False)\n",
    "# parameters to vary\n",
    "params.add('theta', value=np.pi/2, min=0., max=np.pi)\n",
    "params.add('phi', value=0., min=-np.pi, max=np.pi)\n",
    "# params.add('alpha', value=np.pi/2, min=0., max=np.pi)\n",
    "params.add('alpha', value=np.radians(2), min=0., max=np.radians(12.))\n",
    "params.add('beta', value=0., min=-np.pi, max=np.pi)\n",
    "params.add('phase', value=0., min=-np.pi, max=np.pi)\n",
    "# run fit\n",
    "result = model.fit(Bs_meas, axis0=A0.flatten(), axis1=A1.flatten(),\n",
    "                   params=params, weights=1/(sigma*np.ones_like(Bs_meas)), scale_covar=False)"
   ]
  },
  {
   "cell_type": "code",
   "execution_count": null,
   "metadata": {
    "hidden": true
   },
   "outputs": [],
   "source": [
    "B0"
   ]
  },
  {
   "cell_type": "code",
   "execution_count": null,
   "metadata": {
    "hidden": true,
    "scrolled": false
   },
   "outputs": [],
   "source": [
    "result"
   ]
  },
  {
   "cell_type": "code",
   "execution_count": null,
   "metadata": {
    "hidden": true
   },
   "outputs": [],
   "source": [
    "params_true"
   ]
  },
  {
   "cell_type": "markdown",
   "metadata": {},
   "source": [
    "### Fit on real data!"
   ]
  },
  {
   "cell_type": "code",
   "execution_count": null,
   "metadata": {
    "scrolled": true
   },
   "outputs": [],
   "source": [
    "df"
   ]
  },
  {
   "cell_type": "code",
   "execution_count": null,
   "metadata": {},
   "outputs": [],
   "source": [
    "# do we query a particular run?\n",
    "# df_ = df.copy() # no\n",
    "df_ = df.query('\"01-16-23 08:55\" <= Datetime <= \"01-18-23 15:25\"').copy() # yes, query run 3.\n",
    "#df_ = df.query('(\"01-16-23 08:55\" <= Datetime <= \"01-18-23 15:25\") or (\"01-22-23 06:37\" <= Datetime)').copy() # yes, query run 3 and 5\n",
    "# df_ = df.query('(\"01-16-23 08:55\" <= Datetime <= \"01-18-23 15:25\") or (\"01-22-23 06:37\" >= Datetime)').copy() # yes, query run 3 and 4"
   ]
  },
  {
   "cell_type": "code",
   "execution_count": null,
   "metadata": {},
   "outputs": [],
   "source": [
    "sigma_est = 3e-5\n",
    "# sigma_est = 1e-4\n",
    "# sigma_est = 1e-3\n",
    "# coord = 'Z'\n",
    "# coord = 'X'\n",
    "# coord = 'Y'\n",
    "#B0 = df[f'Cal_{coord}'].abs().max()\n",
    "B0 = df_['B_Hall_NMR'].mean()\n",
    "Bs_meas = np.concatenate([df_[f'Cal_{coord}'].values for coord in ['X', 'Y', 'Z']])\n",
    "# fit!\n",
    "model = lm.Model(Hall_Cal_B_gen_v2, independent_vars=['axis0', 'axis1', 'Bmag'])\n",
    "params = lm.Parameters()\n",
    "# '''\n",
    "# fixed parameters\n",
    "# params.add('Bmax', value=B0, vary=True, min=0.5, max=1.5)\n",
    "# params.add('Bmax', value=B0, vary=False)\n",
    "# params.add('Bmax', value=1.00212872, vary=False)\n",
    "params.add('verbose', value=0., vary=False)\n",
    "# parameters to vary\n",
    "# params.add('theta', value=np.pi/2, min=0. - np.pi/4, max=np.pi + np.pi/4)\n",
    "params.add('theta', value=np.radians(2), min=0., max=np.radians(5.))\n",
    "params.add('phi', value=0., min=-np.pi, max=np.pi)\n",
    "# params.add('alpha', value=np.pi/2, min=0., max=np.pi)\n",
    "# params.add('alpha', value=np.radians(2), min=np.radians(-4.), max=np.radians(12.))\n",
    "params.add('alpha', value=np.radians(2), min=0., max=np.radians(5.))\n",
    "# params.add('alpha', value=-0.03523667, vary=False)\n",
    "# params.add('beta', value=0., min=-np.pi - np.pi/4, max=np.pi + np.pi/4, vary=True)\n",
    "# params.add('beta', value=0., min=-np.pi, max=np.pi, vary=True)\n",
    "params.add('beta', value=np.pi, min=0., max=2*np.pi, vary=True)\n",
    "# params.add('beta', value=-0.40267806, vary=False,)\n",
    "params.add('phase', value=0., min=-np.pi, max=np.pi)\n",
    "# best fit alpha and beta\n",
    "# params.add('alpha', value=0.03240273, vary=False)\n",
    "# params.add('beta', value=-3.14159265, vary=False)\n",
    "# '''\n",
    "\n",
    "'''\n",
    "# var = False\n",
    "var = True\n",
    "params.add('verbose', value=0., vary=False)\n",
    "# params.add('Bmax', value=result_Zcoord.params['Bmax'].value, vary = False)\n",
    "params.add('theta', value=result_Zcoord.params['theta'].value, vary = var)\n",
    "params.add('phi', value=result_Zcoord.params['phi'].value, vary = var)\n",
    "params.add('alpha', value=result_Zcoord.params['alpha'].value, vary = var)\n",
    "params.add('beta', value=result_Zcoord.params['beta'].value, vary = var)\n",
    "params.add('phase', value=0., min=-np.pi, max=np.pi, vary=var)\n",
    "'''\n",
    "\n",
    "### NOT SURE THAT THESE WORK ON THEIR OWN\n",
    "# phi for X (really Y)\n",
    "# if coord == 'X':\n",
    "#     params.add('phi', value=-np.pi/2, vary=True, min=-np.pi/2 + np.radians(-10), max=-np.pi/2 + np.radians(10))\n",
    "# phi for Y (really X)\n",
    "# if coord == 'Y':\n",
    "#     params.add('phi', value=0., vary=True, min=np.radians(-10), max=np.radians(10))\n",
    "\n",
    "# run fit\n",
    "#result = model.fit(Bs_meas, axis0=A0.flatten(), axis1=A1.flatten(),\n",
    "#                   params=params, weights=1/(sigma_est*B0*np.ones_like(Bs_meas)), scale_covar=False)\n",
    "####\n",
    "# result = model.fit(Bs_meas, axis0=df['SmarAct_Meas_Angle_1_Centered'].values, axis1=df['SmarAct_Meas_Angle_2_Centered'].values,\n",
    "#                   params=params, weights=1/(sigma_est*B0*np.ones_like(Bs_meas)), scale_covar=False)\n",
    "# adding Bmag\n",
    "result = model.fit(Bs_meas, axis0=df_['SmarAct_Meas_Angle_1_Centered'].values, axis1=df_['SmarAct_Meas_Angle_2_Centered'].values,\n",
    "                   Bmag=df_[f'{probe}_Cal_Bmag'].values, params=params, weights=1/(sigma_est*B0*np.ones_like(Bs_meas)), scale_covar=False)"
   ]
  },
  {
   "cell_type": "code",
   "execution_count": null,
   "metadata": {},
   "outputs": [],
   "source": [
    "# scan 3 fit\n",
    "result"
   ]
  },
  {
   "cell_type": "code",
   "execution_count": null,
   "metadata": {},
   "outputs": [],
   "source": [
    "# scan 3-5 simulataneous fit\n",
    "result"
   ]
  },
  {
   "cell_type": "code",
   "execution_count": null,
   "metadata": {},
   "outputs": [],
   "source": [
    "# scan 3 & 4 simulataneous fit\n",
    "result"
   ]
  },
  {
   "cell_type": "code",
   "execution_count": null,
   "metadata": {},
   "outputs": [],
   "source": [
    "# scan 3 & 5 simulataneous fit\n",
    "result"
   ]
  },
  {
   "cell_type": "code",
   "execution_count": null,
   "metadata": {},
   "outputs": [],
   "source": [
    "# scan 3-5 simulataneous fit\n",
    "result"
   ]
  },
  {
   "cell_type": "code",
   "execution_count": null,
   "metadata": {
    "code_folding": []
   },
   "outputs": [],
   "source": [
    "# old scan\n",
    "result"
   ]
  },
  {
   "cell_type": "code",
   "execution_count": null,
   "metadata": {},
   "outputs": [],
   "source": [
    "# scan 3-5 simulataneous fit\n",
    "# query only scan 3.\n",
    "result"
   ]
  },
  {
   "cell_type": "code",
   "execution_count": null,
   "metadata": {},
   "outputs": [],
   "source": [
    "# scan 3-5 simulataneous fit\n",
    "result"
   ]
  },
  {
   "cell_type": "code",
   "execution_count": null,
   "metadata": {
    "scrolled": false
   },
   "outputs": [],
   "source": [
    "# scan 5 (incomplete)\n",
    "result"
   ]
  },
  {
   "cell_type": "code",
   "execution_count": null,
   "metadata": {},
   "outputs": [],
   "source": [
    "# scan 4\n",
    "result"
   ]
  },
  {
   "cell_type": "code",
   "execution_count": null,
   "metadata": {},
   "outputs": [],
   "source": [
    "# scan 3\n",
    "result"
   ]
  },
  {
   "cell_type": "code",
   "execution_count": null,
   "metadata": {},
   "outputs": [],
   "source": [
    "np.sin(result.params['theta']) * np.cos(result.params['phi']), np.sin(result.params['theta']) * np.sin(result.params['phi']), np.cos(result.params['theta'])"
   ]
  },
  {
   "cell_type": "code",
   "execution_count": null,
   "metadata": {},
   "outputs": [],
   "source": [
    "np.degrees(1.07236) + 180"
   ]
  },
  {
   "cell_type": "code",
   "execution_count": null,
   "metadata": {},
   "outputs": [],
   "source": [
    "result_Zcoord"
   ]
  },
  {
   "cell_type": "code",
   "execution_count": null,
   "metadata": {},
   "outputs": [],
   "source": [
    "np.degrees(0.011)"
   ]
  },
  {
   "cell_type": "code",
   "execution_count": null,
   "metadata": {},
   "outputs": [],
   "source": [
    "def normalize_angle(angle, degrees=False):\n",
    "    if degrees:\n",
    "        angle_rad = np.radians(angle)\n",
    "        return np.degrees(np.arctan2(np.sin(angle_rad), np.cos(angle_rad)))\n",
    "    else:\n",
    "        return np.arctan2(np.sin(angle), np.cos(angle))\n",
    "\n",
    "def normalize_polar_angle(angle, degrees=False):\n",
    "    if degrees:\n",
    "        angle_rad = np.radians(angle)\n",
    "        return np.degrees(np.arccos(np.cos(angle_rad)))\n",
    "    else:\n",
    "        return np.arccos(np.cos(angle))"
   ]
  },
  {
   "cell_type": "code",
   "execution_count": null,
   "metadata": {
    "scrolled": true
   },
   "outputs": [],
   "source": [
    "for k in result.params.keys():\n",
    "    print(k, result.params[k].value, normalize_angle(result.params[k].value), normalize_polar_angle(result.params[k].value))"
   ]
  },
  {
   "cell_type": "code",
   "execution_count": null,
   "metadata": {},
   "outputs": [],
   "source": [
    "if not np.isclose(normalize_angle(result.params['theta'].value), normalize_polar_angle(result.params['theta'].value)):\n",
    "    print('Phi flipped')\n",
    "    print(f'Phi0: {result.params[\"phi\"].value}, Phi0 + pi: {normalize_angle(result.params[\"phi\"].value+np.pi)}')"
   ]
  },
  {
   "cell_type": "code",
   "execution_count": null,
   "metadata": {},
   "outputs": [],
   "source": [
    "if not np.isclose(normalize_angle(result.params['alpha'].value), normalize_polar_angle(result.params['alpha'].value)):\n",
    "    print('Beta flipped')\n",
    "    print(f'Beta0: {result.params[\"beta\"].value}, Beta0 + pi: {normalize_angle(result.params[\"beta\"].value+np.pi)}')"
   ]
  },
  {
   "cell_type": "code",
   "execution_count": null,
   "metadata": {},
   "outputs": [],
   "source": [
    "np.degrees(result.params['theta'])"
   ]
  },
  {
   "cell_type": "code",
   "execution_count": null,
   "metadata": {},
   "outputs": [],
   "source": [
    "np.degrees(result.params['phi'])"
   ]
  },
  {
   "cell_type": "code",
   "execution_count": null,
   "metadata": {},
   "outputs": [],
   "source": [
    "np.degrees(result.params['alpha'])"
   ]
  },
  {
   "cell_type": "code",
   "execution_count": null,
   "metadata": {},
   "outputs": [],
   "source": [
    "np.degrees(result.params['beta'])"
   ]
  },
  {
   "cell_type": "code",
   "execution_count": null,
   "metadata": {
    "scrolled": true
   },
   "outputs": [],
   "source": [
    "result.best_fit"
   ]
  },
  {
   "cell_type": "code",
   "execution_count": null,
   "metadata": {},
   "outputs": [],
   "source": [
    "# plots!\n",
    "from matplotlib.colors import Normalize\n",
    "import matplotlib.cm as cm"
   ]
  },
  {
   "cell_type": "code",
   "execution_count": null,
   "metadata": {},
   "outputs": [],
   "source": [
    "#N = len(df)\n",
    "N = len(df_)\n",
    "### X\n",
    "# coord = 'X'\n",
    "# ind0 = 0\n",
    "# ind1 = 1*N\n",
    "### Y\n",
    "coord = 'Y'\n",
    "ind0 = 1*N\n",
    "ind1 = 2*N\n",
    "### Z\n",
    "# coord = 'Z'\n",
    "# ind0 = 2*N\n",
    "# ind1 = 3*N\n",
    "####\n",
    "bf = result.best_fit[ind0:ind1]\n",
    "\n",
    "Bmin = np.min([np.min(df[f'Cal_{coord}']), np.min(bf)])\n",
    "Bmax = np.max([np.max(df[f'Cal_{coord}']), np.max(bf)])"
   ]
  },
  {
   "cell_type": "code",
   "execution_count": null,
   "metadata": {},
   "outputs": [],
   "source": [
    "Bmin, Bmax"
   ]
  },
  {
   "cell_type": "code",
   "execution_count": null,
   "metadata": {},
   "outputs": [],
   "source": [
    "# data, fit\n",
    "fig, axs = plt.subplots(nrows=1, ncols=2, figsize=(24, 8))\n",
    "cmap = cm.get_cmap('viridis')\n",
    "normalizer = Normalize(Bmin, Bmax)\n",
    "im = cm.ScalarMappable(norm=normalizer)\n",
    "# sc = axs[0].scatter(A0.flatten(), A1.flatten(), c=Bs_meas, s=4, cmap=cmap, norm=normalizer)\n",
    "# sc1 = axs[1].scatter(A0.flatten(), A1.flatten(), c=result.best_fit, s=4, cmap=cmap, norm=normalizer)\n",
    "\n",
    "sc = axs[0].scatter(df_['SmarAct_Meas_Angle_1_Centered'].values, df_['SmarAct_Meas_Angle_2_Centered'].values, c=Bs_meas[ind0:ind1], s=4, cmap=cmap, norm=normalizer)\n",
    "sc1 = axs[1].scatter(df_['SmarAct_Meas_Angle_1_Centered'].values, df_['SmarAct_Meas_Angle_2_Centered'].values, c=bf, s=4, cmap=cmap, norm=normalizer)\n",
    "\n",
    "cb = fig.colorbar(im, label=rf'$B_{coord}$ [T]')\n",
    "\n",
    "axs[0].set_xlabel('Angle 1 (i.e. Axis 0) [rad]')\n",
    "axs[0].set_ylabel('Angle 2 (i.e. Axis 1) [rad]')\n",
    "axs[0].set_title('Measured Values')\n",
    "axs[1].set_xlabel('Angle 1 (i.e. Axis 0) [rad]')\n",
    "axs[1].set_ylabel('Angle 2 (i.e. Axis 1) [rad]')\n",
    "axs[1].set_title('Best Fit Values: \\n'+\n",
    "                 rf'$\\theta = {result.params[\"theta\"].value:0.3f},\\ \\phi = {result.params[\"phi\"].value:0.3f}$, '+#'\\n'+\n",
    "                 rf'$\\alpha = {result.params[\"alpha\"].value:0.3f},\\ \\beta = {result.params[\"beta\"].value:0.3f},\\ \\mathrm{{phase}} = {result.params[\"phase\"].value:0.3f}$')"
   ]
  },
  {
   "cell_type": "code",
   "execution_count": null,
   "metadata": {},
   "outputs": [],
   "source": [
    "# data - fit\n",
    "fig, ax = plt.subplots(figsize=(12, 8))\n",
    "cmap = cm.get_cmap('viridis')\n",
    "# normalizer = Normalize(Bmin, Bmax)\n",
    "# im = cm.ScalarMappable(norm=normalizer)\n",
    "# sc = axs[0].scatter(A0.flatten(), A1.flatten(), c=Bs_meas, s=4, cmap=cmap, norm=normalizer)\n",
    "# sc1 = axs[1].scatter(A0.flatten(), A1.flatten(), c=result.best_fit, s=4, cmap=cmap, norm=normalizer)\n",
    "\n",
    "sc = ax.scatter(df_['SmarAct_Meas_Angle_1_Centered'].values, df_['SmarAct_Meas_Angle_2_Centered'].values, c=Bs_meas[ind0:ind1]-bf, s=4, cmap=cmap)#, norm=normalizer)\n",
    "\n",
    "cb = fig.colorbar(sc, label=rf'$B_{coord}$ [T]')\n",
    "\n",
    "ax.set_xlabel('Angle 1 (i.e. Axis 0) [deg]')\n",
    "ax.set_ylabel('Angle 2 (i.e. Axis 1) [deg]')\n",
    "ax.set_title('Measured Values - Best Fit Values: \\n'+\n",
    "             rf'$\\theta = {result.params[\"theta\"].value:0.3f},\\ \\phi = {result.params[\"phi\"].value:0.3f}$, '+#'\\n'+\n",
    "             rf'$\\alpha = {result.params[\"alpha\"].value:0.3f},\\ \\beta = {result.params[\"beta\"].value:0.3f},$'+'\\n'+rf'$\\ \\mathrm{{phase}} = {result.params[\"phase\"].value:0.3f}$')"
   ]
  },
  {
   "cell_type": "code",
   "execution_count": null,
   "metadata": {},
   "outputs": [],
   "source": [
    "# hist\n",
    "fig, ax = plt.subplots()\n",
    "\n",
    "bins = np.arange(-1.50e-4, 1.52e-4, 2e-6)\n",
    "# bins = np.arange(-5e-4, 5.05e-4, 5e-6)\n",
    "# bins = np.arange(-1e-3, 10.05e-4, 5e-6)\n",
    "# bins = np.arange(-1.50e-1, 2.52e-1, 2e-3)\n",
    "\n",
    "ax.hist(Bs_meas[ind0:ind1]-bf, bins=bins, histtype='step', label=get_label(Bs_meas[ind0:ind1]-bf, bins))\n",
    "\n",
    "ax.set_xlabel(rf'Data - Fit, $B_{coord}$ [T]')\n",
    "ax.ticklabel_format(axis='x', style='sci', scilimits=(0,0))\n",
    "ax.legend(loc='upper left', bbox_to_anchor=(0.6, 1.0));"
   ]
  },
  {
   "cell_type": "markdown",
   "metadata": {},
   "source": [
    "- I think I need to go from here... 2023-01-15 13:15:40 \n",
    "    - Next step is probably getting theta / phi from SmarAct angles.\n",
    "    - Or looking at other fitting metrics"
   ]
  },
  {
   "cell_type": "code",
   "execution_count": null,
   "metadata": {},
   "outputs": [],
   "source": [
    "# what is the error in the angle?\n",
    "N = len(df_)\n",
    "### X\n",
    "# coord = 'X'\n",
    "ind0x = 0\n",
    "ind1x = 1*N\n",
    "### Y\n",
    "# coord = 'Y'\n",
    "ind0y = 1*N\n",
    "ind1y = 2*N\n",
    "### Z\n",
    "# coord = 'Z'\n",
    "ind0z = 2*N\n",
    "ind1z = 3*N\n",
    "####\n",
    "Bx_fit = result.best_fit[ind0x:ind1x]\n",
    "By_fit = result.best_fit[ind0y:ind1y]\n",
    "Bz_fit = result.best_fit[ind0z:ind1z]\n",
    "Bvec_fit = np.array([Bx_fit, By_fit, Bz_fit]).T\n",
    "Bvec_meas = df_[['Cal_X', 'Cal_Y', 'Cal_Z']].values\n",
    "magBvec_fit = np.linalg.norm(Bvec_fit, axis=1)\n",
    "magBvec_meas = np.linalg.norm(Bvec_meas, axis=1)\n",
    "# dot product\n",
    "dot_Bvec = np.sum((Bvec_fit * Bvec_meas), axis=1)\n",
    "cos_angle_bw = dot_Bvec / (magBvec_fit * magBvec_meas)\n",
    "angle_bw = np.arccos(cos_angle_bw)"
   ]
  },
  {
   "cell_type": "code",
   "execution_count": null,
   "metadata": {},
   "outputs": [],
   "source": [
    "angle_bw"
   ]
  },
  {
   "cell_type": "code",
   "execution_count": null,
   "metadata": {},
   "outputs": [],
   "source": [
    "# hist\n",
    "fig, ax = plt.subplots()\n",
    "\n",
    "bins = np.arange(-0.12e-4, 10.02e-4, 2e-6)\n",
    "# bins = np.arange(-0.12e-4, 3.02e-4, 2e-6) ### GOOD!\n",
    "# bins = np.arange(-5e-4, 5.05e-4, 5e-6)\n",
    "# bins = np.arange(-1.50e-1, 2.52e-1, 2e-3)\n",
    "\n",
    "n, _, _ = ax.hist(angle_bw, bins=bins, histtype='step', label=get_label(angle_bw, bins))\n",
    "\n",
    "ym = np.max(n)\n",
    "ax.plot([0.1e-3, 0.1e-3], [0, ym], 'r--', label='0.1 mrad')\n",
    "\n",
    "ax.set_xlabel(r'Angle Between $\\vec{B}_{\\mathrm{fit}}$ and $\\vec{B}_{cal}}$  [rad]')\n",
    "ax.ticklabel_format(axis='x', style='sci', scilimits=(0,0))\n",
    "ax.legend(loc='upper left', bbox_to_anchor=(0.6, 1.0));"
   ]
  },
  {
   "cell_type": "code",
   "execution_count": null,
   "metadata": {},
   "outputs": [],
   "source": [
    "Bvec_fit.shape, Bvec_meas.shape"
   ]
  },
  {
   "cell_type": "code",
   "execution_count": null,
   "metadata": {},
   "outputs": [],
   "source": [
    "2.863e6 / 3.4e6 * 5e-4"
   ]
  },
  {
   "cell_type": "markdown",
   "metadata": {},
   "source": [
    "# Analysis 2: Using Raw Values"
   ]
  },
  {
   "cell_type": "markdown",
   "metadata": {},
   "source": [
    "- Using the previous analysis, we get $\\theta, \\phi$ for free.\n",
    "- Ultimately, want a cleaner function to go from SmarAct angle 1 angle 2 to $\\theta, \\phi$.\n",
    "    - But what we have will work for now."
   ]
  },
  {
   "cell_type": "code",
   "execution_count": null,
   "metadata": {},
   "outputs": [],
   "source": []
  },
  {
   "cell_type": "code",
   "execution_count": null,
   "metadata": {},
   "outputs": [],
   "source": [
    "bf_params = deepcopy(result.params)\n",
    "bf_params['verbose'].value = 1.0"
   ]
  },
  {
   "cell_type": "code",
   "execution_count": null,
   "metadata": {},
   "outputs": [],
   "source": [
    "bf_params"
   ]
  },
  {
   "cell_type": "code",
   "execution_count": null,
   "metadata": {},
   "outputs": [],
   "source": [
    "#B_meas, norm_Hall, norm_B, norm_B_rot, BT_rot, theta, phi_Hall =\n",
    "B_meas_full, _, _, _, _, theta, phi = Hall_Cal_B_gen_v2(df.SmarAct_Meas_Angle_1_Centered.values, df.SmarAct_Meas_Angle_2_Centered.values, df[f'{probe}_Cal_Bmag'].values, **bf_params)"
   ]
  },
  {
   "cell_type": "code",
   "execution_count": null,
   "metadata": {},
   "outputs": [],
   "source": [
    "N = len(df)\n",
    "### X\n",
    "# coord = 'X'\n",
    "ind0x = 0\n",
    "ind1x = 1*N\n",
    "### Y\n",
    "# coord = 'Y'\n",
    "ind0y = 1*N\n",
    "ind1y = 2*N\n",
    "### Z\n",
    "# coord = 'Z'\n",
    "ind0z = 2*N\n",
    "ind1z = 3*N\n",
    "####\n",
    "Bx_fit_full = B_meas_full[ind0x:ind1x]\n",
    "By_fit_full = B_meas_full[ind0y:ind1y]\n",
    "Bz_fit_full = B_meas_full[ind0z:ind1z]"
   ]
  },
  {
   "cell_type": "code",
   "execution_count": null,
   "metadata": {},
   "outputs": [],
   "source": [
    "df.loc[:, 'Bx_true'] = Bx_fit_full\n",
    "df.loc[:, 'By_true'] = By_fit_full\n",
    "df.loc[:, 'Bz_true'] = Bz_fit_full\n",
    "df.loc[:, 'theta_B_true'] = theta\n",
    "df.loc[:, 'phi_B_true'] = phi\n",
    "df.loc[:, 'theta_B_true_deg'] = np.degrees(theta)\n",
    "df.loc[:, 'phi_B_true_deg'] = np.degrees(phi)"
   ]
  },
  {
   "cell_type": "code",
   "execution_count": null,
   "metadata": {},
   "outputs": [],
   "source": [
    "np.ptp(df.phi_B_true)"
   ]
  },
  {
   "cell_type": "code",
   "execution_count": null,
   "metadata": {},
   "outputs": [],
   "source": [
    "2*np.pi"
   ]
  },
  {
   "cell_type": "code",
   "execution_count": null,
   "metadata": {},
   "outputs": [],
   "source": [
    "np.degrees(np.ptp(df.theta_B_true))"
   ]
  },
  {
   "cell_type": "code",
   "execution_count": null,
   "metadata": {},
   "outputs": [],
   "source": [
    "df.columns"
   ]
  },
  {
   "cell_type": "code",
   "execution_count": null,
   "metadata": {},
   "outputs": [],
   "source": [
    "# DUMP DATA FOR SYMBOLIC REGRESSION TEST\n",
    "#df.to_pickle('/home/ckampa/coding/sandbox/data/Hall_Probe_Data/01-16-23_Finer_Scan_20deg_1T.pkl')"
   ]
  },
  {
   "cell_type": "code",
   "execution_count": null,
   "metadata": {},
   "outputs": [],
   "source": [
    "df_ = df.copy()\n",
    "# df_ = df.query('-2. <= theta_B_true_deg <= 2.').copy()\n",
    "df_neg = df.query('SmarAct_Meas_Angle_1_Centered <= -1.4').copy()"
   ]
  },
  {
   "cell_type": "markdown",
   "metadata": {
    "heading_collapsed": true
   },
   "source": [
    "## Visualize One Component"
   ]
  },
  {
   "cell_type": "code",
   "execution_count": null,
   "metadata": {
    "code_folding": [],
    "hidden": true
   },
   "outputs": [],
   "source": [
    "# REMEMBER! phi & theta expected to be passed in as degrees.\n",
    "fig = spherical_scatter3d(phi_list=[df_.phi_B_true_deg], theta_list=[df_.theta_B_true_deg], r_list=[df_[f'{probe}_Raw_Z']],\n",
    "                          units_list=None, absval=True, colors_list=None, opacity_list=None, size_list=None,\n",
    "                          inline=True, title=None, filename=None)"
   ]
  },
  {
   "cell_type": "code",
   "execution_count": null,
   "metadata": {
    "hidden": true
   },
   "outputs": [],
   "source": [
    "fig, ax = plt.subplots()\n",
    "\n",
    "ax.scatter(df_.index, df_.theta_B_true_deg, label=r'$\\theta$ [deg]')\n",
    "ax.scatter(df_.index, df_.phi_B_true_deg, label=r'$\\phi$ [deg]')\n",
    "\n",
    "ax.set_xlabel('Datetime')\n",
    "ax.set_ylabel('B vector angle [deg]')\n",
    "ax.legend();"
   ]
  },
  {
   "cell_type": "code",
   "execution_count": null,
   "metadata": {
    "hidden": true
   },
   "outputs": [],
   "source": [
    "fig, ax = plt.subplots()\n",
    "\n",
    "sc = ax.scatter(df_.theta_B_true_deg, df_.phi_B_true_deg, c=df_[f'{probe}_Raw_Z'])\n",
    "cb = fig.colorbar(sc, label='V3 (a.k.a. Z) [adc]')\n",
    "\n",
    "ax.set_xlabel(r'$\\theta$ [deg]')\n",
    "ax.set_ylabel(r'$\\phi$ [deg]');"
   ]
  },
  {
   "cell_type": "code",
   "execution_count": null,
   "metadata": {
    "hidden": true
   },
   "outputs": [],
   "source": [
    "a1s = np.linspace(-2.5, -1.5, 101)\n",
    "a2s = np.linspace(-180, 180, 361)\n",
    "A1, A2 = np.meshgrid(a1s, a2s)\n",
    "_, _, _, _, _, theta_grid, phi_grid = Hall_Cal_B_gen_v2(A1.flatten(), A2.flatten(), np.ones_like(A1.flatten()), **bf_params)\n",
    "theta_grid = np.degrees(theta_grid)\n",
    "phi_grid = np.degrees(phi_grid)"
   ]
  },
  {
   "cell_type": "code",
   "execution_count": null,
   "metadata": {
    "hidden": true
   },
   "outputs": [],
   "source": [
    "fig, ax = plt.subplots()\n",
    "\n",
    "sc = ax.scatter(df_neg.theta_B_true_deg, df_neg.phi_B_true_deg, c=df_neg['SmarAct_Meas_Angle_1_Centered'])\n",
    "cb = fig.colorbar(sc, label='SmarAct_Meas_Angle_1_Centered [deg]')\n",
    "\n",
    "sc2 = ax.scatter(theta_grid, phi_grid, c=A1.flatten(), alpha=0.4, cmap='hot')\n",
    "cb2 = fig.colorbar(sc2, label='Fine Grid Angle 1')\n",
    "\n",
    "ax.set_xlabel(r'$\\theta$ [deg]')\n",
    "ax.set_ylabel(r'$\\phi$ [deg]');"
   ]
  },
  {
   "cell_type": "code",
   "execution_count": null,
   "metadata": {
    "hidden": true
   },
   "outputs": [],
   "source": [
    "fig, ax = plt.subplots()\n",
    "\n",
    "sc = ax.scatter(df_neg.theta_B_true_deg, df_neg.phi_B_true_deg, c=df_neg['SmarAct_Meas_Angle_2_Centered'])\n",
    "cb = fig.colorbar(sc, label='SmarAct_Meas_Angle_2_Centered [deg]')\n",
    "\n",
    "sc2 = ax.scatter(theta_grid, phi_grid, c=A2.flatten(), alpha=0.4, cmap='hot')\n",
    "cb2 = fig.colorbar(sc2, label='Fine Grid Angle 2')\n",
    "\n",
    "ax.set_xlabel(r'$\\theta$ [deg]')\n",
    "ax.set_ylabel(r'$\\phi$ [deg]');"
   ]
  },
  {
   "cell_type": "code",
   "execution_count": null,
   "metadata": {
    "hidden": true
   },
   "outputs": [],
   "source": [
    "fig, ax = plt.subplots()\n",
    "\n",
    "sc = ax.scatter(df_.theta_B_true_deg, df_.phi_B_true_deg, c=df_['SmarAct_Meas_Angle_2_Centered'])\n",
    "cb = fig.colorbar(sc, label='SmarAct_Meas_Angle_2_Centered [deg]')\n",
    "\n",
    "ax.set_xlabel(r'$\\theta$ [deg]')\n",
    "ax.set_ylabel(r'$\\phi$ [deg]');"
   ]
  },
  {
   "cell_type": "code",
   "execution_count": null,
   "metadata": {
    "hidden": true
   },
   "outputs": [],
   "source": []
  },
  {
   "cell_type": "code",
   "execution_count": null,
   "metadata": {
    "hidden": true
   },
   "outputs": [],
   "source": [
    "fig, ax = plt.subplots()\n",
    "\n",
    "ax.scatter(df_.theta_B_true_deg, df_[f'{probe}_Raw_X'], s=3, label='V1 (a.k.a. Z)')\n",
    "ax.scatter(df_.theta_B_true_deg, df_[f'{probe}_Raw_Y'], s=3, label='V2 (a.k.a. Z)')\n",
    "ax.scatter(df_.theta_B_true_deg, df_[f'{probe}_Raw_Z'], s=3, label='V3 (a.k.a. Z)')\n",
    "\n",
    "# ax.set_ylim([-4e6, 4e6])\n",
    "\n",
    "ax.set_xlabel(r'$\\theta$ [deg]')\n",
    "ax.set_ylabel('V [adc]');\n",
    "ax.legend();"
   ]
  },
  {
   "cell_type": "markdown",
   "metadata": {
    "heading_collapsed": true
   },
   "source": [
    "## Fit $\\cos \\theta$"
   ]
  },
  {
   "cell_type": "code",
   "execution_count": null,
   "metadata": {
    "hidden": true
   },
   "outputs": [],
   "source": [
    "def costheta_fit(theta, **params):\n",
    "    return params['Vmax'] * np.cos(theta) + params['Voff']"
   ]
  },
  {
   "cell_type": "code",
   "execution_count": null,
   "metadata": {
    "hidden": true
   },
   "outputs": [],
   "source": [
    "Vm = df_[f'{probe}_Raw_Z'].abs().max()\n",
    "if abs(df_[f'{probe}_Raw_Z'].max()) > abs(df_[f'{probe}_Raw_Z'].min()):\n",
    "    pass\n",
    "else:\n",
    "    Vm = -1 * Vm\n",
    "Vm"
   ]
  },
  {
   "cell_type": "code",
   "execution_count": null,
   "metadata": {
    "hidden": true
   },
   "outputs": [],
   "source": [
    "model = lm.Model(costheta_fit, independent_vars=['theta'])\n",
    "params = lm.Parameters()\n",
    "params.add('Vmax', value=Vm, vary=True)\n",
    "params.add('Voff', value=0., vary=False)\n",
    "result_costheta = model.fit(df_[f'{probe}_Raw_Z'].values, theta=df_['theta_B_true'].values, params=params)\n",
    "# subtract off cos(theta)\n",
    "df_.loc[:, f'costheta_fit'] = result_costheta.best_fit\n",
    "df_.loc[:, f'{probe}_Raw_Z_min_cos'] = df_.loc[:, f'{probe}_Raw_Z'] - result_costheta.best_fit"
   ]
  },
  {
   "cell_type": "code",
   "execution_count": null,
   "metadata": {
    "hidden": true
   },
   "outputs": [],
   "source": [
    "result_costheta"
   ]
  },
  {
   "cell_type": "code",
   "execution_count": null,
   "metadata": {
    "hidden": true,
    "scrolled": true
   },
   "outputs": [],
   "source": [
    "result_costheta.plot()"
   ]
  },
  {
   "cell_type": "code",
   "execution_count": null,
   "metadata": {
    "hidden": true
   },
   "outputs": [],
   "source": [
    "# REMEMBER! phi & theta expected to be passed in as degrees.\n",
    "fig = spherical_scatter3d(phi_list=[df_.phi_B_true_deg], theta_list=[df_.theta_B_true_deg], r_list=[df_[f'{probe}_Raw_Z_min_cos']],\n",
    "                          units_list=None, absval=True, colors_list=None, opacity_list=None, size_list=None,\n",
    "                          inline=True, title=None, filename=None)"
   ]
  },
  {
   "cell_type": "markdown",
   "metadata": {
    "heading_collapsed": true
   },
   "source": [
    "## $Y_{1,1}$ Fit to residuals"
   ]
  },
  {
   "cell_type": "code",
   "execution_count": null,
   "metadata": {
    "hidden": true
   },
   "outputs": [],
   "source": [
    "# fitting real part of Y_11\n",
    "def Y11_fit(theta, phi, **params):\n",
    "    return params['Vmax_Y11'] * np.cos(phi + params['phase_phi']) * np.sin(theta) # + params['Voff']"
   ]
  },
  {
   "cell_type": "code",
   "execution_count": null,
   "metadata": {
    "hidden": true
   },
   "outputs": [],
   "source": [
    "Vm = df_[f'{probe}_Raw_Z_min_cos'].abs().max()\n",
    "# if abs(df_[f'{probe}_Raw_Z_min_cos'].max()) > abs(df_[f'{probe}_Raw_Z_min_cos'].min()):\n",
    "#     pass\n",
    "# else:\n",
    "#     Vm = -1 * Vm\n",
    "Vm"
   ]
  },
  {
   "cell_type": "code",
   "execution_count": null,
   "metadata": {
    "hidden": true
   },
   "outputs": [],
   "source": [
    "model = lm.Model(Y11_fit, independent_vars=['theta', 'phi'])\n",
    "# params = deepcopy(result.params) #lm.Parameters()\n",
    "params = lm.Parameters()\n",
    "params.add('Vmax_Y11', value=Vm, vary=True, min=0.)\n",
    "params.add('phase_phi', value=0., vary=True, min=-np.pi, max=np.pi)\n",
    "result_Y11 = model.fit(df_[f'{probe}_Raw_Z_min_cos'].values, theta=df_['theta_B_true'].values, phi=df_['phi_B_true'].values, params=params)\n",
    "# add to dataframe\n",
    "df_.loc[:, f'Y11_fit'] = result_Y11.best_fit\n",
    "df_.loc[:, f'{probe}_Raw_Z_min_cos_Y11'] = df_.loc[:, f'{probe}_Raw_Z_min_cos'] - result_Y11.best_fit"
   ]
  },
  {
   "cell_type": "code",
   "execution_count": null,
   "metadata": {
    "hidden": true
   },
   "outputs": [],
   "source": [
    "result_Y11"
   ]
  },
  {
   "cell_type": "code",
   "execution_count": null,
   "metadata": {
    "hidden": true
   },
   "outputs": [],
   "source": [
    "result_Y11.best_fit"
   ]
  },
  {
   "cell_type": "code",
   "execution_count": null,
   "metadata": {
    "hidden": true
   },
   "outputs": [],
   "source": [
    "df_[f'{probe}_Raw_Z_min_cos']"
   ]
  },
  {
   "cell_type": "code",
   "execution_count": null,
   "metadata": {
    "hidden": true
   },
   "outputs": [],
   "source": []
  },
  {
   "cell_type": "code",
   "execution_count": null,
   "metadata": {
    "hidden": true
   },
   "outputs": [],
   "source": [
    "# REMEMBER! phi & theta expected to be passed in as degrees.\n",
    "fig = spherical_scatter3d(phi_list=2*[df_.phi_B_true_deg], theta_list=2*[df_.theta_B_true_deg], r_list=[df_[f'{probe}_Raw_Z_min_cos'], df_['Y11_fit']],\n",
    "                          units_list=['adc', 'adc'], absval=True, colors_list=['viridis', 'hot'], opacity_list=None, size_list=None,\n",
    "                          inline=True, title=None, filename=None)"
   ]
  },
  {
   "cell_type": "code",
   "execution_count": null,
   "metadata": {
    "hidden": true
   },
   "outputs": [],
   "source": [
    "# residuals\n",
    "# REMEMBER! phi & theta expected to be passed in as degrees.\n",
    "fig = spherical_scatter3d(phi_list=[df_.phi_B_true_deg], theta_list=[df_.theta_B_true_deg], r_list=[df_[f'{probe}_Raw_Z_min_cos_Y11']],\n",
    "                          units_list=['adc'], absval=True, colors_list=['viridis'], opacity_list=None, size_list=None,\n",
    "                          inline=True, title=None, filename=None)"
   ]
  },
  {
   "cell_type": "code",
   "execution_count": null,
   "metadata": {
    "hidden": true
   },
   "outputs": [],
   "source": [
    "1000 / 3e6"
   ]
  },
  {
   "cell_type": "markdown",
   "metadata": {
    "heading_collapsed": true
   },
   "source": [
    "## $Y_{0,0}$ (constant) Fit to residuals"
   ]
  },
  {
   "cell_type": "code",
   "execution_count": null,
   "metadata": {
    "hidden": true
   },
   "outputs": [],
   "source": [
    "# fitting real part of Y_11\n",
    "def Y00_fit(theta, phi, **params):\n",
    "    return params['Vmax_Y00'] * np.ones_like(theta)"
   ]
  },
  {
   "cell_type": "code",
   "execution_count": null,
   "metadata": {
    "hidden": true
   },
   "outputs": [],
   "source": [
    "Vm = df_[f'{probe}_Raw_Z_min_cos_Y11'].abs().max()\n",
    "if abs(df_[f'{probe}_Raw_Z_min_cos_Y11'].max()) > abs(df_[f'{probe}_Raw_Z_min_cos_Y11'].min()):\n",
    "    pass\n",
    "else:\n",
    "    Vm = -1 * Vm\n",
    "Vm"
   ]
  },
  {
   "cell_type": "code",
   "execution_count": null,
   "metadata": {
    "hidden": true
   },
   "outputs": [],
   "source": [
    "model = lm.Model(Y00_fit, independent_vars=['theta', 'phi'])\n",
    "# params = deepcopy(result.params) #lm.Parameters()\n",
    "params = lm.Parameters()\n",
    "params.add('Vmax_Y00', value=Vm, vary=True)\n",
    "result_Y00 = model.fit(df_[f'{probe}_Raw_Z_min_cos_Y11'].values, theta=df_['theta_B_true'].values, phi=df_['phi_B_true'].values, params=params)\n",
    "# add to dataframe\n",
    "df_.loc[:, f'Y00_fit'] = result_Y00.best_fit\n",
    "df_.loc[:, f'{probe}_Raw_Z_min_cos_Y11_Y00'] = df_.loc[:, f'{probe}_Raw_Z_min_cos_Y11'] - result_Y00.best_fit"
   ]
  },
  {
   "cell_type": "code",
   "execution_count": null,
   "metadata": {
    "hidden": true
   },
   "outputs": [],
   "source": [
    "result_Y00"
   ]
  },
  {
   "cell_type": "code",
   "execution_count": null,
   "metadata": {
    "hidden": true
   },
   "outputs": [],
   "source": [
    "result_Y00.best_fit"
   ]
  },
  {
   "cell_type": "code",
   "execution_count": null,
   "metadata": {
    "hidden": true
   },
   "outputs": [],
   "source": [
    "fig, ax = plt.subplots()\n",
    "\n",
    "ax.hist(df_[f'{probe}_Raw_Z_min_cos_Y11'], bins=100, histtype='step')\n",
    "\n",
    "ax.set_xlabel('Residuals from cos(theta) and Y11 fits');"
   ]
  },
  {
   "cell_type": "code",
   "execution_count": null,
   "metadata": {
    "hidden": true
   },
   "outputs": [],
   "source": [
    "# REMEMBER! phi & theta expected to be passed in as degrees.\n",
    "fig = spherical_scatter3d(phi_list=2*[df_.phi_B_true_deg], theta_list=2*[df_.theta_B_true_deg], r_list=[df_[f'{probe}_Raw_Z_min_cos_Y11'], df_['Y00_fit']],\n",
    "                          units_list=['adc', 'adc'], absval=True, colors_list=['viridis', 'hot'], opacity_list=None, size_list=None,\n",
    "                          inline=True, title=None, filename=None)"
   ]
  },
  {
   "cell_type": "code",
   "execution_count": null,
   "metadata": {
    "hidden": true
   },
   "outputs": [],
   "source": [
    "# residuals\n",
    "# REMEMBER! phi & theta expected to be passed in as degrees.\n",
    "fig = spherical_scatter3d(phi_list=[df_.phi_B_true_deg], theta_list=[df_.theta_B_true_deg], r_list=[df_[f'{probe}_Raw_Z_min_cos_Y11_Y00']],\n",
    "                          units_list=['adc'], absval=True, colors_list=['viridis'], opacity_list=None, size_list=None,\n",
    "                          inline=True, title=None, filename=None)"
   ]
  },
  {
   "cell_type": "code",
   "execution_count": null,
   "metadata": {
    "hidden": true
   },
   "outputs": [],
   "source": [
    "800 / 3e6"
   ]
  },
  {
   "cell_type": "markdown",
   "metadata": {
    "hidden": true
   },
   "source": [
    "- Looks like either Y20 or Y30"
   ]
  },
  {
   "cell_type": "markdown",
   "metadata": {
    "heading_collapsed": true
   },
   "source": [
    "## $Y_{3,0}$ or $Y_{2,0}$ Fit to residuals"
   ]
  },
  {
   "cell_type": "code",
   "execution_count": null,
   "metadata": {
    "code_folding": [],
    "hidden": true
   },
   "outputs": [],
   "source": [
    "# fitting real part of Y_11\n",
    "def Y30_fit(theta, **params):\n",
    "    return params['Vmax_Y30'] * (5*np.cos(theta)**3 - 3*np.cos(theta)) + params['Voff']\n",
    "\n",
    "def Y20_fit(theta, **params):\n",
    "    return params['Vmax_Y20'] * (3*np.cos(theta)**2 - 1) + params['Voff']"
   ]
  },
  {
   "cell_type": "code",
   "execution_count": null,
   "metadata": {
    "hidden": true
   },
   "outputs": [],
   "source": [
    "Vm = df_[f'{probe}_Raw_Z_min_cos_Y11_Y00'].abs().max()\n",
    "if abs(df_[f'{probe}_Raw_Z_min_cos_Y11_Y00'].max()) > abs(df_[f'{probe}_Raw_Z_min_cos_Y11_Y00'].min()):\n",
    "    pass\n",
    "else:\n",
    "    Vm = -1 * Vm\n",
    "Vm"
   ]
  },
  {
   "cell_type": "code",
   "execution_count": null,
   "metadata": {
    "hidden": true
   },
   "outputs": [],
   "source": [
    "# model = lm.Model(Y30_fit, independent_vars=['theta'])\n",
    "model = lm.Model(Y20_fit, independent_vars=['theta'])\n",
    "# params = deepcopy(result.params) #lm.Parameters()\n",
    "params = lm.Parameters()\n",
    "# params.add('Vmax_Y30', value=Vm, vary=True)\n",
    "params.add('Vmax_Y20', value=Vm, vary=True)\n",
    "params.add('Voff', value=0., vary=True)\n",
    "result_Y30 = model.fit(df_[f'{probe}_Raw_Z_min_cos_Y11_Y00'].values, theta=df_['theta_B_true'].values, params=params)\n",
    "# add to dataframe\n",
    "df_.loc[:, f'Y30_fit'] = result_Y30.best_fit\n",
    "df_.loc[:, f'{probe}_Raw_Z_min_cos_Y11_Y00_Y30'] = df_.loc[:, f'{probe}_Raw_Z_min_cos_Y11_Y00'] - result_Y30.best_fit"
   ]
  },
  {
   "cell_type": "code",
   "execution_count": null,
   "metadata": {
    "hidden": true
   },
   "outputs": [],
   "source": [
    "result_Y30"
   ]
  },
  {
   "cell_type": "code",
   "execution_count": null,
   "metadata": {
    "hidden": true
   },
   "outputs": [],
   "source": [
    "result_Y30.plot()"
   ]
  },
  {
   "cell_type": "code",
   "execution_count": null,
   "metadata": {
    "hidden": true
   },
   "outputs": [],
   "source": [
    "fig, ax = plt.subplots()\n",
    "\n",
    "bins=np.arange(-500, 510, 10)\n",
    "\n",
    "ax.hist(df_[f'{probe}_Raw_Z_min_cos_Y11_Y00_Y30'], bins=bins, histtype='step', label=get_label(df_[f'{probe}_Raw_Z_min_cos_Y11_Y00_Y30'], bins))\n",
    "\n",
    "ax.set_xlabel('Residuals from cos(theta), Y11, Y00, Y30 fits');\n",
    "ax.legend();"
   ]
  },
  {
   "cell_type": "code",
   "execution_count": null,
   "metadata": {
    "hidden": true
   },
   "outputs": [],
   "source": [
    "100 / 3e6"
   ]
  },
  {
   "cell_type": "code",
   "execution_count": null,
   "metadata": {
    "hidden": true
   },
   "outputs": [],
   "source": [
    "fig, ax = plt.subplots()\n",
    "\n",
    "ax.scatter(df_.theta_B_true_deg, df_[f'{probe}_Raw_Z_min_cos_Y11_Y00_Y30'], s=2)\n",
    "\n",
    "ax.set_xlabel(r'$\\theta$ [deg]')\n",
    "ax.set_ylabel('Residuals from cos(theta), Y11, Y00, Y30 fits');"
   ]
  },
  {
   "cell_type": "code",
   "execution_count": null,
   "metadata": {
    "hidden": true
   },
   "outputs": [],
   "source": [
    "fig, ax = plt.subplots()\n",
    "\n",
    "ax.scatter(df_.phi_B_true_deg, df_[f'{probe}_Raw_Z_min_cos_Y11_Y00_Y30'], s=2)\n",
    "\n",
    "ax.set_xlabel(r'$\\phi$ [deg]')\n",
    "ax.set_ylabel('Residuals from cos(theta), Y11, Y00, Y30 fits');"
   ]
  },
  {
   "cell_type": "code",
   "execution_count": null,
   "metadata": {
    "hidden": true
   },
   "outputs": [],
   "source": [
    "# REMEMBER! phi & theta expected to be passed in as degrees.\n",
    "fig = spherical_scatter3d(phi_list=2*[df_.phi_B_true_deg], theta_list=2*[df_.theta_B_true_deg], r_list=[df_[f'{probe}_Raw_Z_min_cos_Y11_Y00'], df_['Y30_fit']],\n",
    "                          units_list=['adc', 'adc'], absval=True, colors_list=['viridis', 'hot'], opacity_list=None, size_list=None,\n",
    "                          inline=True, title=None, filename=None)"
   ]
  },
  {
   "cell_type": "code",
   "execution_count": null,
   "metadata": {
    "hidden": true
   },
   "outputs": [],
   "source": [
    "# residuals\n",
    "# REMEMBER! phi & theta expected to be passed in as degrees.\n",
    "fig = spherical_scatter3d(phi_list=[df_.phi_B_true_deg], theta_list=[df_.theta_B_true_deg], r_list=[df_[f'{probe}_Raw_Z_min_cos_Y11_Y00_Y30']],\n",
    "                          units_list=['adc'], absval=True, colors_list=['viridis'], opacity_list=None, size_list=None,\n",
    "                          inline=True, title=None, filename=None)"
   ]
  },
  {
   "cell_type": "code",
   "execution_count": null,
   "metadata": {
    "hidden": true
   },
   "outputs": [],
   "source": [
    "800 / 3e6"
   ]
  },
  {
   "cell_type": "code",
   "execution_count": null,
   "metadata": {
    "hidden": true
   },
   "outputs": [],
   "source": []
  },
  {
   "cell_type": "markdown",
   "metadata": {
    "heading_collapsed": true
   },
   "source": [
    "## $\\cos \\theta$ Fit (with rotation)"
   ]
  },
  {
   "cell_type": "code",
   "execution_count": null,
   "metadata": {
    "hidden": true
   },
   "outputs": [],
   "source": [
    "def costheta_fit_rot(theta, phi, **params):\n",
    "    B_n_vec = np.array([np.sin(theta) * np.cos(phi), np.sin(theta) * np.sin(phi), np.cos(theta)]).T\n",
    "#     print(B_n_vec.shape)\n",
    "    rot = Rotation.from_euler('XYZ', angles=np.array([params['alpha'], params['beta'], params['gamma']]), degrees=False)\n",
    "    B_n_vec_rot = rot.apply(B_n_vec)\n",
    "#     print(B_n_vec_rot.shape)\n",
    "#     B_n_T = np.linalg.norm(B_n_vec_rot[:2])\n",
    "    B_n = np.linalg.norm(B_n_vec_rot, axis=1)\n",
    "    costheta = B_n_vec_rot[:, 2] / B_n\n",
    "    return params['Vmax'] * costheta + params['Voff']"
   ]
  },
  {
   "cell_type": "code",
   "execution_count": null,
   "metadata": {
    "hidden": true
   },
   "outputs": [],
   "source": [
    "Vm = df_[f'{probe}_Raw_Z'].abs().max()\n",
    "if abs(df_[f'{probe}_Raw_Z'].max()) > abs(df_[f'{probe}_Raw_Z'].min()):\n",
    "    pass\n",
    "else:\n",
    "    Vm = -1 * Vm\n",
    "Vm"
   ]
  },
  {
   "cell_type": "code",
   "execution_count": null,
   "metadata": {
    "hidden": true
   },
   "outputs": [],
   "source": [
    "costheta_fit_rot(theta=df_['theta_B_true'].values, phi=df_['phi_B_true'].values, **params).shape"
   ]
  },
  {
   "cell_type": "code",
   "execution_count": null,
   "metadata": {
    "hidden": true
   },
   "outputs": [],
   "source": [
    "params"
   ]
  },
  {
   "cell_type": "code",
   "execution_count": null,
   "metadata": {
    "hidden": true
   },
   "outputs": [],
   "source": [
    "model = lm.Model(costheta_fit_rot, independent_vars=['theta', 'phi'])\n",
    "params = lm.Parameters()\n",
    "params.add('Vmax', value=Vm, vary=True)\n",
    "params.add('alpha', value=0., vary=True, min=-np.pi, max=np.pi)\n",
    "params.add('beta', value=0., vary=True, min=-np.pi, max=np.pi)\n",
    "params.add('gamma', value=0., vary=True, min=-np.pi, max=np.pi)\n",
    "params.add('Voff', value=0., vary=False)\n",
    "result_costheta_rot = model.fit(df_[f'{probe}_Raw_Z'].values, theta=df_['theta_B_true'].values, phi=df_['phi_B_true'].values, params=params)\n",
    "# subtract off cos(theta)\n",
    "df_.loc[:, f'costheta_rot_fit'] = result_costheta_rot.best_fit\n",
    "df_.loc[:, f'{probe}_Raw_Z_min_cos_rot'] = df_.loc[:, f'{probe}_Raw_Z'] - result_costheta_rot.best_fit"
   ]
  },
  {
   "cell_type": "code",
   "execution_count": null,
   "metadata": {
    "hidden": true
   },
   "outputs": [],
   "source": [
    "result_costheta_rot"
   ]
  },
  {
   "cell_type": "code",
   "execution_count": null,
   "metadata": {
    "hidden": true
   },
   "outputs": [],
   "source": [
    "result_costheta"
   ]
  },
  {
   "cell_type": "code",
   "execution_count": null,
   "metadata": {
    "hidden": true,
    "scrolled": true
   },
   "outputs": [],
   "source": [
    "result_costheta_rot.plot()"
   ]
  },
  {
   "cell_type": "code",
   "execution_count": null,
   "metadata": {
    "hidden": true
   },
   "outputs": [],
   "source": [
    "# REMEMBER! phi & theta expected to be passed in as degrees.\n",
    "fig = spherical_scatter3d(phi_list=[df_.phi_B_true_deg], theta_list=[df_.theta_B_true_deg], r_list=[df_[f'{probe}_Raw_Z_min_cos_rot']],\n",
    "                          units_list=None, absval=True, colors_list=None, opacity_list=None, size_list=None,\n",
    "                          inline=True, title=None, filename=None)"
   ]
  },
  {
   "cell_type": "code",
   "execution_count": null,
   "metadata": {
    "hidden": true
   },
   "outputs": [],
   "source": []
  },
  {
   "cell_type": "code",
   "execution_count": null,
   "metadata": {
    "hidden": true
   },
   "outputs": [],
   "source": []
  },
  {
   "cell_type": "markdown",
   "metadata": {
    "heading_collapsed": true
   },
   "source": [
    "## Simultaneous Fit"
   ]
  },
  {
   "cell_type": "markdown",
   "metadata": {
    "hidden": true
   },
   "source": [
    "- ~costheta (Y10), Y11, Y30, Y20 (?)~"
   ]
  },
  {
   "cell_type": "markdown",
   "metadata": {
    "hidden": true
   },
   "source": [
    "- Alternatively, what if I include an $\\alpha, \\beta, \\gamma$ Euler rotation, so that Y11 is 0 ?\n",
    "    - Seems to work ok.\n",
    "- So, fit $\\alpha, \\beta, \\gamma$ and then contribution from Y10, Y30, Y20, Y00 --> up to 7 parameters\n",
    "- For fun, also try adding Y22, though I cannot see it."
   ]
  },
  {
   "cell_type": "code",
   "execution_count": null,
   "metadata": {
    "hidden": true
   },
   "outputs": [],
   "source": [
    "def simultaneous_fit_rot(theta, phi, **params):\n",
    "    B_n_vec = np.array([np.sin(theta) * np.cos(phi), np.sin(theta) * np.sin(phi), np.cos(theta)]).T\n",
    "    rot = Rotation.from_euler('XYZ', angles=np.array([params['alpha'], params['beta'], params['gamma']]), degrees=False)\n",
    "    B_n_vec_rot = rot.apply(B_n_vec)\n",
    "    B_n_T = np.linalg.norm(B_n_vec_rot[:,:2], axis=1)\n",
    "    B_n = np.linalg.norm(B_n_vec_rot, axis=1)\n",
    "    costheta = B_n_vec_rot[:, 2] / B_n\n",
    "    sintheta = B_n_T / B_n\n",
    "    cosphi = B_n_vec_rot[:, 0] / B_n_T\n",
    "#     sinphi = B_n_vec_rot[:, 1] / B_n_T\n",
    "    \n",
    "    return params['C00'] + params['C10'] * costheta + params['C20'] * (3*costheta**2 - 1) + params['C22'] * (2*cosphi**2 - 1)*(sintheta**2) \\\n",
    "    + params['C30'] * (5*costheta**3 - 3*costheta) + params['C32'] * (2*cosphi**2 - 1)*(sintheta**2)*costheta"
   ]
  },
  {
   "cell_type": "code",
   "execution_count": null,
   "metadata": {
    "hidden": true
   },
   "outputs": [],
   "source": [
    "Vm = df_[f'{probe}_Raw_Z'].abs().max()\n",
    "if abs(df_[f'{probe}_Raw_Z'].max()) > abs(df_[f'{probe}_Raw_Z'].min()):\n",
    "    pass\n",
    "else:\n",
    "    Vm = -1 * Vm\n",
    "Vm"
   ]
  },
  {
   "cell_type": "code",
   "execution_count": null,
   "metadata": {
    "hidden": true
   },
   "outputs": [],
   "source": [
    "# which component?\n",
    "# comp = 'X'\n",
    "# comp = 'Y'\n",
    "comp = 'Z'\n",
    "# rescale data?\n",
    "data = deepcopy(df_[f'{probe}_Raw_{comp}'].values)\n",
    "# data = data / np.max(np.abs(data))\n",
    "###\n",
    "# uncertainty\n",
    "sigma_est = 100 # 100 / 3e-6 ~ 3e-5\n",
    "# sigma_est = 3e-5\n",
    "###\n",
    "model = lm.Model(simultaneous_fit_rot, independent_vars=['theta', 'phi'])\n",
    "params = lm.Parameters()\n",
    "# params.add('alpha', value=0., vary=True, min=-np.pi, max=np.pi)\n",
    "# params.add('beta', value=0., vary=True, min=-np.pi, max=np.pi)\n",
    "# params.add('gamma', value=0., vary=True, min=-np.pi, max=np.pi)\n",
    "\n",
    "params.add('alpha', value=-1.55, vary=True, min=-np.pi, max=np.pi)\n",
    "params.add('beta', value=2.25, vary=True, min=-np.pi, max=np.pi)\n",
    "params.add('gamma', value=-3.08, vary=True, min=-np.pi, max=np.pi)\n",
    "\n",
    "# spherical\n",
    "# min_ = 0. # use 0 min?\n",
    "min_ = None # or allow negative?\n",
    "# max_ = 1.0\n",
    "max_ = None\n",
    "params.add('C00', value=0.5, vary=True, min=min_, max=max_)\n",
    "# params.add('C10', value=0.5, vary=True, min=min_, max=max_)\n",
    "params.add('C10', value=Vm, vary=True, min=min_, max=max_)\n",
    "params.add('C20', value=0.5, vary=True, min=min_, max=max_)\n",
    "params.add('C22', value=0.5, vary=True, min=min_, max=max_) # PHE\n",
    "params.add('C30', value=0.5, vary=True, min=min_, max=max_)\n",
    "params.add('C32', value=0.5, vary=True, min=min_, max=max_) # 3D Hall effect\n",
    "\n",
    "result_simul_rot = model.fit(data, theta=df_['theta_B_true'].values, phi=df_['phi_B_true'].values, params=params,\n",
    "                             weights=1/(sigma_est*np.ones_like(df_[f'{probe}_Raw_{comp}'].values)), scale_covar=False)\n",
    "                             #weights=1/(sigma_est*df_[f'{probe}_Raw_Z'].values), scale_covar=False)\n",
    "# subtract off cos(theta)\n",
    "df_.loc[:, f'simul_rot_fit'] = result_simul_rot.best_fit\n",
    "df_.loc[:, f'{probe}_Raw_{comp}_min_simul_rot'] = data - result_simul_rot.best_fit"
   ]
  },
  {
   "cell_type": "code",
   "execution_count": null,
   "metadata": {
    "hidden": true
   },
   "outputs": [],
   "source": [
    "# old scan\n",
    "# Z\n",
    "result_simul_rot"
   ]
  },
  {
   "cell_type": "code",
   "execution_count": null,
   "metadata": {
    "hidden": true
   },
   "outputs": [],
   "source": [
    "# scan 5 (incomplete)\n",
    "# Z\n",
    "result_simul_rot"
   ]
  },
  {
   "cell_type": "code",
   "execution_count": null,
   "metadata": {
    "hidden": true
   },
   "outputs": [],
   "source": []
  },
  {
   "cell_type": "code",
   "execution_count": null,
   "metadata": {
    "hidden": true,
    "scrolled": true
   },
   "outputs": [],
   "source": [
    "# scan 4\n",
    "# X\n",
    "result_simul_rot"
   ]
  },
  {
   "cell_type": "code",
   "execution_count": null,
   "metadata": {
    "hidden": true,
    "scrolled": true
   },
   "outputs": [],
   "source": [
    "# scan 3\n",
    "# X\n",
    "result_simul_rot"
   ]
  },
  {
   "cell_type": "code",
   "execution_count": null,
   "metadata": {
    "hidden": true,
    "scrolled": true
   },
   "outputs": [],
   "source": [
    "# Y\n",
    "result_simul_rot"
   ]
  },
  {
   "cell_type": "code",
   "execution_count": null,
   "metadata": {
    "hidden": true,
    "scrolled": true
   },
   "outputs": [],
   "source": [
    "# scan 4\n",
    "# Z\n",
    "result_simul_rot"
   ]
  },
  {
   "cell_type": "code",
   "execution_count": null,
   "metadata": {
    "hidden": true,
    "scrolled": true
   },
   "outputs": [],
   "source": [
    "# scan 3\n",
    "# Z\n",
    "result_simul_rot"
   ]
  },
  {
   "cell_type": "code",
   "execution_count": null,
   "metadata": {
    "hidden": true
   },
   "outputs": [],
   "source": [
    "# REMEMBER! phi & theta expected to be passed in as degrees.\n",
    "fig = spherical_scatter3d(phi_list=[df_.phi_B_true_deg], theta_list=[df_.theta_B_true_deg], r_list=[df_[f'{probe}_Raw_{comp}_min_simul_rot']],\n",
    "                          units_list=None, absval=True, colors_list=None, opacity_list=None, size_list=None,\n",
    "                          inline=True, title=None, filename=None)"
   ]
  },
  {
   "cell_type": "code",
   "execution_count": null,
   "metadata": {
    "hidden": true
   },
   "outputs": [],
   "source": [
    "fig, ax = plt.subplots()\n",
    "\n",
    "bins=np.arange(-500, 510, 10)\n",
    "\n",
    "ax.hist(df_[f'{probe}_Raw_{comp}_min_simul_rot'], bins=bins, histtype='step', label=get_label(df_[f'{probe}_Raw_{comp}_min_simul_rot'], bins))\n",
    "\n",
    "ax.set_xlabel('Residuals from cos(theta), Y11, Y00, Y30 fits');\n",
    "ax.legend();"
   ]
  },
  {
   "cell_type": "code",
   "execution_count": null,
   "metadata": {
    "hidden": true
   },
   "outputs": [],
   "source": [
    "fig, ax = plt.subplots()\n",
    "\n",
    "ax.scatter(df_.theta_B_true_deg, df_[f'{probe}_Raw_{comp}_min_simul_rot'], s=2)\n",
    "\n",
    "ax.set_xlabel(r'$\\theta$ [deg]')\n",
    "ax.set_ylabel('Residuals from cos(theta), Y11, Y00, Y30 fits');"
   ]
  },
  {
   "cell_type": "code",
   "execution_count": null,
   "metadata": {
    "hidden": true
   },
   "outputs": [],
   "source": [
    "fig, ax = plt.subplots()\n",
    "\n",
    "ax.scatter(df_.phi_B_true_deg, df_[f'{probe}_Raw_{comp}_min_simul_rot'], s=2)\n",
    "\n",
    "ax.set_xlabel(r'$\\phi$ [deg]')\n",
    "ax.set_ylabel('Residuals from cos(theta), Y11, Y00, Y30 fits');"
   ]
  },
  {
   "cell_type": "code",
   "execution_count": null,
   "metadata": {
    "hidden": true
   },
   "outputs": [],
   "source": [
    "fig, ax = plt.subplots()\n",
    "\n",
    "ax.scatter(df_[f'{probe}_Raw_{comp}'], df_[f'{probe}_Raw_{comp}_min_simul_rot'], s=2)\n",
    "\n",
    "ax.set_xlabel(f'Raw {comp}')\n",
    "ax.set_ylabel('Residuals from cos(theta), Y11, Y00, Y30 fits');"
   ]
  },
  {
   "cell_type": "code",
   "execution_count": null,
   "metadata": {
    "hidden": true
   },
   "outputs": [],
   "source": [
    "# REMEMBER! phi & theta expected to be passed in as degrees.\n",
    "fig = spherical_scatter3d(phi_list=2*[df_.phi_B_true_deg], theta_list=2*[df_.theta_B_true_deg], r_list=[df_[f'{probe}_Raw_{comp}'], df_['simul_rot_fit']],\n",
    "                          units_list=['adc', 'adc'], absval=True, colors_list=['viridis', 'hot'], opacity_list=None, size_list=None,\n",
    "                          inline=True, title=None, filename=None)"
   ]
  },
  {
   "cell_type": "markdown",
   "metadata": {},
   "source": [
    "## Simultaneous Fit, with Temperature"
   ]
  },
  {
   "cell_type": "markdown",
   "metadata": {},
   "source": [
    "- Alternatively, what if I include an $\\alpha, \\beta, \\gamma$ Euler rotation, so that Y11 is 0 ?\n",
    "    - Seems to work ok.\n",
    "- So, fit $\\alpha, \\beta, \\gamma$ and then contribution from Y10, Y30, Y20, Y00 --> up to 7 parameters\n",
    "- For fun, also try adding Y22, though I cannot see it."
   ]
  },
  {
   "cell_type": "markdown",
   "metadata": {},
   "source": [
    "- Note use scans 3-5 (20 deg, 10 deg, 40 deg (not completed))"
   ]
  },
  {
   "cell_type": "code",
   "execution_count": null,
   "metadata": {},
   "outputs": [],
   "source": [
    "# rescale temperature\n",
    "# tmax = 40.\n",
    "# tmin = 10.\n",
    "tmax = df[f'{probe}_Cal_T'].max()\n",
    "tmin = df[f'{probe}_Cal_T'].min()\n",
    "t_sub = (tmax + tmin) / 2\n",
    "t_div = (tmax - tmin) / 2\n",
    "ts_scaled = (df[f'{probe}_Cal_T'].values - t_sub) / t_div\n",
    "df.loc[:, f'{probe}_Cal_T_rescaled'] = ts_scaled"
   ]
  },
  {
   "cell_type": "code",
   "execution_count": null,
   "metadata": {},
   "outputs": [],
   "source": [
    "df_ = df.copy()"
   ]
  },
  {
   "cell_type": "code",
   "execution_count": null,
   "metadata": {},
   "outputs": [],
   "source": [
    "tmax, tmin"
   ]
  },
  {
   "cell_type": "code",
   "execution_count": null,
   "metadata": {},
   "outputs": [],
   "source": [
    "def simultaneous_fit_rot_temp(theta, phi, temp_rescaled, **params):\n",
    "    # how many temperature terms to include?\n",
    "    nmax = params['nmax']\n",
    "    # angular info\n",
    "    B_n_vec = np.array([np.sin(theta) * np.cos(phi), np.sin(theta) * np.sin(phi), np.cos(theta)]).T\n",
    "    rot = Rotation.from_euler('XYZ', angles=np.array([params['alpha'], params['beta'], params['gamma']]), degrees=False)\n",
    "    B_n_vec_rot = rot.apply(B_n_vec)\n",
    "    B_n_T = np.linalg.norm(B_n_vec_rot[:,:2], axis=1)\n",
    "    B_n = np.linalg.norm(B_n_vec_rot, axis=1)\n",
    "    costheta = B_n_vec_rot[:, 2] / B_n\n",
    "    sintheta = B_n_T / B_n\n",
    "    cosphi = B_n_vec_rot[:, 0] / B_n_T\n",
    "#     sinphi = B_n_vec_rot[:, 1] / B_n_T\n",
    "    \n",
    "    result = np.zeros_like(theta)\n",
    "    for n in range(nmax+1):\n",
    "        # turn on appropriate Chebyshev term\n",
    "        coeffs_n = np.zeros(nmax+1)\n",
    "        coeffs_n[n] = 1.\n",
    "        T_n = np.polynomial.chebyshev.chebval(temp_rescaled, coeffs_n)\n",
    "        # angular encodes the coefficient values\n",
    "        # coeff \"CNLM\" -- C_nlm\n",
    "        angular = params[f'C{n}00'] + params[f'C{n}10'] * costheta + params[f'C{n}20'] * (3*costheta**2 - 1) + params[f'C{n}22'] * (2*cosphi**2 - 1)*(sintheta**2) \\\n",
    "        + params[f'C{n}30'] * (5*costheta**3 - 3*costheta) + params[f'C{n}32'] * (2*cosphi**2 - 1)*(sintheta**2)*costheta\n",
    "        result += T_n * angular\n",
    "    \n",
    "    return result"
   ]
  },
  {
   "cell_type": "code",
   "execution_count": null,
   "metadata": {},
   "outputs": [],
   "source": [
    "# try it (TESTING)\n",
    "#simultaneous_fit_rot_temp(theta=df_.theta_B_true.values, phi=df_.phi_B_true.values, temp_rescaled=df[f'{probe}_Cal_T_rescaled'].values, **params)"
   ]
  },
  {
   "cell_type": "code",
   "execution_count": null,
   "metadata": {},
   "outputs": [],
   "source": [
    "Vm = df_[f'{probe}_Raw_Z'].abs().max()\n",
    "if abs(df_[f'{probe}_Raw_Z'].max()) > abs(df_[f'{probe}_Raw_Z'].min()):\n",
    "    pass\n",
    "else:\n",
    "    Vm = -1 * Vm\n",
    "Vm"
   ]
  },
  {
   "cell_type": "markdown",
   "metadata": {},
   "source": [
    "### One Component"
   ]
  },
  {
   "cell_type": "code",
   "execution_count": null,
   "metadata": {},
   "outputs": [],
   "source": [
    "# which component?\n",
    "# comp = 'X'\n",
    "comp = 'Y'\n",
    "# comp = 'Z'\n",
    "# rescale data?\n",
    "data = deepcopy(df_[f'{probe}_Raw_{comp}'].values)\n",
    "# data = data / np.max(np.abs(data))\n",
    "tempdata = df_[f'{probe}_Cal_T_rescaled'].values\n",
    "###\n",
    "# uncertainty\n",
    "sigma_est = 100 # 100 / 3e-6 ~ 3e-5\n",
    "# sigma_est = 3e-5\n",
    "###\n",
    "model = lm.Model(simultaneous_fit_rot_temp, independent_vars=['theta', 'phi', 'temp_rescaled'])\n",
    "params = lm.Parameters()\n",
    "\n",
    "params.add('nmax', value=2, vary=False)\n",
    "\n",
    "params.add('alpha', value=-1.55, vary=True, min=-np.pi, max=np.pi)\n",
    "params.add('beta', value=2.25, vary=True, min=-np.pi, max=np.pi)\n",
    "params.add('gamma', value=-3.08, vary=True, min=-np.pi, max=np.pi)\n",
    "\n",
    "# spherical\n",
    "# min_ = 0. # use 0 min?\n",
    "min_ = None # or allow negative?\n",
    "# max_ = 1.0\n",
    "max_ = None\n",
    "\n",
    "for n in range(params['nmax'] + 1):\n",
    "    params.add(f'C{n}00', value=0.5, vary=True, min=min_, max=max_)\n",
    "    # params.add('C10', value=0.5, vary=True, min=min_, max=max_)\n",
    "    params.add(f'C{n}10', value=Vm, vary=True, min=min_, max=max_)\n",
    "    params.add(f'C{n}20', value=0.5, vary=True, min=min_, max=max_)\n",
    "    params.add(f'C{n}22', value=0.5, vary=True, min=min_, max=max_) # PHE\n",
    "    params.add(f'C{n}30', value=0.5, vary=True, min=min_, max=max_)\n",
    "    params.add(f'C{n}32', value=0.5, vary=True, min=min_, max=max_) # 3D Hall effect\n",
    "#     params.add(f'C{n}32', value=0.0, vary=False, min=min_, max=max_) # 3D Hall effect\n",
    "\n",
    "result_simul_rot_temp = model.fit(data, theta=df_['theta_B_true'].values, phi=df_['phi_B_true'].values, \n",
    "                                  temp_rescaled=tempdata, params=params,\n",
    "                                  weights=1/(sigma_est*np.ones_like(df_[f'{probe}_Raw_{comp}'].values)), scale_covar=False)\n",
    "# subtract off cos(theta)\n",
    "df_.loc[:, f'simul_rot_temp_fit'] = result_simul_rot_temp.best_fit\n",
    "df_.loc[:, f'{probe}_Raw_{comp}_min_simul_rot_temp'] = data - result_simul_rot_temp.best_fit"
   ]
  },
  {
   "cell_type": "code",
   "execution_count": null,
   "metadata": {},
   "outputs": [],
   "source": [
    "np.min(tempdata), np.max(tempdata)"
   ]
  },
  {
   "cell_type": "code",
   "execution_count": null,
   "metadata": {
    "scrolled": true
   },
   "outputs": [],
   "source": [
    "# scan 3-5, using orientation from scan 3-5 fit\n",
    "# X\n",
    "result_simul_rot_temp"
   ]
  },
  {
   "cell_type": "code",
   "execution_count": null,
   "metadata": {},
   "outputs": [],
   "source": [
    "# scan 3-5, using orientation from scan 3-5 fit\n",
    "# Y\n",
    "result_simul_rot_temp"
   ]
  },
  {
   "cell_type": "code",
   "execution_count": null,
   "metadata": {},
   "outputs": [],
   "source": [
    "# scan 3-5, using orientation from scan 3-5 fit\n",
    "# Z\n",
    "result_simul_rot_temp"
   ]
  },
  {
   "cell_type": "code",
   "execution_count": null,
   "metadata": {},
   "outputs": [],
   "source": []
  },
  {
   "cell_type": "code",
   "execution_count": null,
   "metadata": {
    "scrolled": true
   },
   "outputs": [],
   "source": [
    "# scan 3-5, using orientation from scan 3 fit\n",
    "# X\n",
    "result_simul_rot_temp"
   ]
  },
  {
   "cell_type": "code",
   "execution_count": null,
   "metadata": {},
   "outputs": [],
   "source": [
    "# scan 3-5, using orientation from scan 3 fit\n",
    "# Y\n",
    "result_simul_rot_temp"
   ]
  },
  {
   "cell_type": "code",
   "execution_count": null,
   "metadata": {},
   "outputs": [],
   "source": [
    "# scan 3-5, using orientation from scan 3 fit\n",
    "# Z\n",
    "result_simul_rot_temp"
   ]
  },
  {
   "cell_type": "code",
   "execution_count": null,
   "metadata": {
    "scrolled": true
   },
   "outputs": [],
   "source": [
    "# REMEMBER! phi & theta expected to be passed in as degrees.\n",
    "fig = spherical_scatter3d(phi_list=[df_.phi_B_true_deg], theta_list=[df_.theta_B_true_deg], r_list=[df_[f'{probe}_Raw_{comp}_min_simul_rot_temp']],\n",
    "                          units_list=None, absval=True, colors_list=None, opacity_list=None, size_list=None,\n",
    "                          inline=True, title=None, filename=None)"
   ]
  },
  {
   "cell_type": "code",
   "execution_count": null,
   "metadata": {},
   "outputs": [],
   "source": [
    "fig, ax = plt.subplots()\n",
    "\n",
    "# bins=np.arange(-500, 510, 10)\n",
    "bins=np.arange(-750, 760, 10)\n",
    "# bins=np.arange(-1000, 1050, 50)\n",
    "\n",
    "ax.hist(df_[f'{probe}_Raw_{comp}_min_simul_rot_temp'], bins=bins, histtype='step', label=get_label(df_[f'{probe}_Raw_{comp}_min_simul_rot_temp'], bins))\n",
    "\n",
    "ax.set_xlabel('Residuals from Spherical Harmonic & Temp Fit');\n",
    "ax.set_title(f\"Voltage Fit: {comp}\")\n",
    "ax.legend(loc='upper left', bbox_to_anchor=(0.7, 1.0));"
   ]
  },
  {
   "cell_type": "code",
   "execution_count": null,
   "metadata": {},
   "outputs": [],
   "source": [
    "150 / 100  * 3e-5"
   ]
  },
  {
   "cell_type": "code",
   "execution_count": null,
   "metadata": {
    "scrolled": false
   },
   "outputs": [],
   "source": [
    "fig, ax = plt.subplots()\n",
    "\n",
    "ax.scatter(df_.theta_B_true_deg, df_[f'{probe}_Raw_{comp}_min_simul_rot_temp'], s=2)\n",
    "\n",
    "ax.set_xlabel(r'$\\theta$ [deg]')\n",
    "ax.set_ylabel('Residuals from Spherical Harmonic & Temp Fit');"
   ]
  },
  {
   "cell_type": "code",
   "execution_count": null,
   "metadata": {},
   "outputs": [],
   "source": [
    "fig, ax = plt.subplots()\n",
    "\n",
    "ax.scatter(df_.phi_B_true_deg, df_[f'{probe}_Raw_{comp}_min_simul_rot_temp'], s=2)\n",
    "\n",
    "ax.set_xlabel(r'$\\phi$ [deg]')\n",
    "ax.set_ylabel('Residuals from Spherical Harmonic & Temp Fit');"
   ]
  },
  {
   "cell_type": "code",
   "execution_count": null,
   "metadata": {},
   "outputs": [],
   "source": [
    "fig, ax = plt.subplots()\n",
    "\n",
    "ax.scatter(df_[f'{probe}_Cal_T'], df_[f'{probe}_Raw_{comp}_min_simul_rot_temp'], s=2)\n",
    "\n",
    "ax.set_xlabel(f'{probe}_Cal_T [deg C]')\n",
    "ax.set_ylabel('Residuals from Spherical Harmonic & Temp Fit');"
   ]
  },
  {
   "cell_type": "code",
   "execution_count": null,
   "metadata": {},
   "outputs": [],
   "source": [
    "fig, ax = plt.subplots()\n",
    "\n",
    "ax.scatter(df_[f'{probe}_Raw_{comp}'], df_[f'{probe}_Raw_{comp}_min_simul_rot_temp'], s=2)\n",
    "\n",
    "ax.set_xlabel(f'Raw {comp}')\n",
    "ax.set_ylabel('Residuals from Spherical Harmonic & Temp Fit');"
   ]
  },
  {
   "cell_type": "code",
   "execution_count": null,
   "metadata": {
    "scrolled": true
   },
   "outputs": [],
   "source": [
    "# REMEMBER! phi & theta expected to be passed in as degrees.\n",
    "fig = spherical_scatter3d(phi_list=2*[df_.phi_B_true_deg], theta_list=2*[df_.theta_B_true_deg], r_list=[df_[f'{probe}_Raw_{comp}'], df_['simul_rot_temp_fit']],\n",
    "                          units_list=['adc', 'adc'], absval=True, colors_list=['viridis', 'hot'], opacity_list=None, size_list=None,\n",
    "                          inline=True, title=None, filename=None)"
   ]
  },
  {
   "cell_type": "markdown",
   "metadata": {},
   "source": [
    "### All components (collect results)"
   ]
  },
  {
   "cell_type": "code",
   "execution_count": null,
   "metadata": {},
   "outputs": [],
   "source": [
    "comps = ['X', 'Y', 'Z']\n",
    "result_dict = dict()\n",
    "\n",
    "for comp in comps:\n",
    "    print(f'Fitting {comp}')\n",
    "    # rescale data?\n",
    "    data = deepcopy(df_[f'{probe}_Raw_{comp}'].values)\n",
    "    # data = data / np.max(np.abs(data))\n",
    "    tempdata = df_[f'{probe}_Cal_T_rescaled'].values\n",
    "    ###\n",
    "    # uncertainty\n",
    "    sigma_est = 100 # 100 / 3e-6 ~ 3e-5\n",
    "    # sigma_est = 3e-5\n",
    "    ###\n",
    "    model = lm.Model(simultaneous_fit_rot_temp, independent_vars=['theta', 'phi', 'temp_rescaled'])\n",
    "    params = lm.Parameters()\n",
    "\n",
    "    params.add('nmax', value=2, vary=False)\n",
    "\n",
    "    params.add('alpha', value=-1.55, vary=True, min=-np.pi, max=np.pi)\n",
    "    params.add('beta', value=2.25, vary=True, min=-np.pi, max=np.pi)\n",
    "    params.add('gamma', value=-3.08, vary=True, min=-np.pi, max=np.pi)\n",
    "\n",
    "    # spherical\n",
    "    # min_ = 0. # use 0 min?\n",
    "    min_ = None # or allow negative?\n",
    "    # max_ = 1.0\n",
    "    max_ = None\n",
    "\n",
    "    for n in range(params['nmax'] + 1):\n",
    "        params.add(f'C{n}00', value=0.5, vary=True, min=min_, max=max_)\n",
    "        # params.add('C10', value=0.5, vary=True, min=min_, max=max_)\n",
    "        params.add(f'C{n}10', value=Vm, vary=True, min=min_, max=max_)\n",
    "        params.add(f'C{n}20', value=0.5, vary=True, min=min_, max=max_)\n",
    "        params.add(f'C{n}22', value=0.5, vary=True, min=min_, max=max_) # PHE\n",
    "        params.add(f'C{n}30', value=0.5, vary=True, min=min_, max=max_)\n",
    "        params.add(f'C{n}32', value=0.5, vary=True, min=min_, max=max_) # 3D Hall effect\n",
    "    #     params.add(f'C{n}32', value=0.0, vary=False, min=min_, max=max_) # 3D Hall effect\n",
    "\n",
    "    result_simul_rot_temp = model.fit(data, theta=df_['theta_B_true'].values, phi=df_['phi_B_true'].values, \n",
    "                                      temp_rescaled=tempdata, params=params,\n",
    "                                      weights=1/(sigma_est*np.ones_like(df_[f'{probe}_Raw_{comp}'].values)), scale_covar=False)\n",
    "    # subtract off cos(theta)\n",
    "    df_.loc[:, f'simul_rot_temp_fit_{comp}'] = result_simul_rot_temp.best_fit\n",
    "    df_.loc[:, f'{probe}_Raw_{comp}_min_simul_rot_temp'] = data - result_simul_rot_temp.best_fit\n",
    "    result_dict[comp] = result_simul_rot_temp"
   ]
  },
  {
   "cell_type": "code",
   "execution_count": null,
   "metadata": {},
   "outputs": [],
   "source": [
    "df_['NMR [T]'].describe()"
   ]
  },
  {
   "cell_type": "code",
   "execution_count": null,
   "metadata": {},
   "outputs": [],
   "source": [
    "# expected contribution from |B| changes\n",
    "(df_['NMR [T]'].max() - df_['NMR [T]'].min()) * 2.863e6"
   ]
  },
  {
   "cell_type": "code",
   "execution_count": null,
   "metadata": {},
   "outputs": [],
   "source": [
    "for comp in comps:\n",
    "    fig, ax = plt.subplots()\n",
    "\n",
    "    # bins=np.arange(-500, 510, 10)\n",
    "    bins=np.arange(-750, 760, 10)\n",
    "    # bins=np.arange(-1000, 1050, 50)\n",
    "\n",
    "    ax.hist(df_[f'{probe}_Raw_{comp}_min_simul_rot_temp'], bins=bins, histtype='step', label=f'{comp}\\n'+get_label(df_[f'{probe}_Raw_{comp}_min_simul_rot_temp'], bins))\n",
    "\n",
    "    ax.set_xlabel('Residuals from Spherical Harmonics & Temp Fit, (Data - Fit) [ADC]');\n",
    "    ax.set_title(f\"Voltage Fit: {comp}\")\n",
    "    ax.legend(loc='upper left', bbox_to_anchor=(0.7, 1.0));"
   ]
  },
  {
   "cell_type": "code",
   "execution_count": null,
   "metadata": {
    "scrolled": false
   },
   "outputs": [],
   "source": [
    "for comp in comps:\n",
    "    fig, ax = plt.subplots()\n",
    "\n",
    "    ax.scatter(df_.theta_B_true_deg, df_[f'{probe}_Raw_{comp}_min_simul_rot_temp'], s=2)\n",
    "\n",
    "    ax.set_xlabel(r'$\\theta$ [deg]')\n",
    "    ax.set_ylabel('Residuals from Spherical Harmonic & Temp Fit')\n",
    "    ax.set_title(f\"Voltage Fit: {comp}\");"
   ]
  },
  {
   "cell_type": "code",
   "execution_count": null,
   "metadata": {
    "code_folding": []
   },
   "outputs": [],
   "source": [
    "for comp in comps:\n",
    "    fig, ax = plt.subplots()\n",
    "\n",
    "    ax.scatter(df_.phi_B_true_deg, df_[f'{probe}_Raw_{comp}_min_simul_rot_temp'], s=2)\n",
    "\n",
    "    ax.set_xlabel(r'$\\phi$ [deg]')\n",
    "    ax.set_ylabel('Residuals from Spherical Harmonic & Temp Fit');\n",
    "    ax.set_title(f\"Voltage Fit: {comp}\");"
   ]
  },
  {
   "cell_type": "code",
   "execution_count": null,
   "metadata": {},
   "outputs": [],
   "source": [
    "for comp in comps:\n",
    "    fig, ax = plt.subplots()\n",
    "\n",
    "    ax.scatter(df_[f'{probe}_Cal_T'], df_[f'{probe}_Raw_{comp}_min_simul_rot_temp'], s=2)\n",
    "\n",
    "    ax.set_xlabel(f'{probe}_Cal_T [deg C]')\n",
    "    ax.set_ylabel('Residuals from Spherical Harmonic & Temp Fit');\n",
    "    ax.set_title(f\"Voltage Fit: {comp}\");"
   ]
  },
  {
   "cell_type": "code",
   "execution_count": null,
   "metadata": {},
   "outputs": [],
   "source": [
    "for comp in comps:\n",
    "    fig, ax = plt.subplots()\n",
    "\n",
    "    ax.scatter(df_[f'{probe}_Raw_{comp}'], df_[f'{probe}_Raw_{comp}_min_simul_rot_temp'], s=2)\n",
    "\n",
    "    ax.set_xlabel(f'Raw {comp}')\n",
    "    ax.set_ylabel('Residuals from Spherical Harmonic & Temp Fit');\n",
    "    ax.set_title(f\"Voltage Fit: {comp}\");"
   ]
  },
  {
   "cell_type": "markdown",
   "metadata": {},
   "source": [
    "## Simultaneous Fit, with Temperature & Field Strength"
   ]
  },
  {
   "cell_type": "code",
   "execution_count": null,
   "metadata": {},
   "outputs": [],
   "source": [
    "# rescale temperature\n",
    "# tmax = 40.\n",
    "# tmin = 10.\n",
    "tmax = df[f'{probe}_Cal_T'].max()\n",
    "tmin = df[f'{probe}_Cal_T'].min()\n",
    "t_sub = (tmax + tmin) / 2\n",
    "t_div = (tmax - tmin) / 2\n",
    "ts_scaled = (df[f'{probe}_Cal_T'].values - t_sub) / t_div\n",
    "df.loc[:, f'{probe}_Cal_T_rescaled'] = ts_scaled\n",
    "# field\n",
    "bmax = df['B_Hall_NMR'].max()\n",
    "bmin = df['B_Hall_NMR'].min()\n",
    "b_sub = (bmax + bmin) / 2\n",
    "b_div = (bmax - bmin) / 2\n",
    "bs_scaled = (df['B_Hall_NMR'].values - b_sub) / b_div\n",
    "df.loc[:, 'B_Hall_NMR_rescaled'] = bs_scaled"
   ]
  },
  {
   "cell_type": "code",
   "execution_count": null,
   "metadata": {},
   "outputs": [],
   "source": [
    "df_ = df.copy()"
   ]
  },
  {
   "cell_type": "code",
   "execution_count": null,
   "metadata": {},
   "outputs": [],
   "source": [
    "tmax, tmin"
   ]
  },
  {
   "cell_type": "code",
   "execution_count": null,
   "metadata": {},
   "outputs": [],
   "source": [
    "bmax, bmin, bmax-bmin"
   ]
  },
  {
   "cell_type": "code",
   "execution_count": null,
   "metadata": {
    "scrolled": true
   },
   "outputs": [],
   "source": [
    "# expected change from field strength\n",
    "(bmax-bmin) * 2.863e6"
   ]
  },
  {
   "cell_type": "code",
   "execution_count": null,
   "metadata": {},
   "outputs": [],
   "source": [
    "def simultaneous_fit_rot_temp_B(theta, phi, temp_rescaled, B_rescaled, **params):\n",
    "    # how many B terms to include?\n",
    "    kmax = params['kmax']\n",
    "    # how many temperature terms to include?\n",
    "    nmax = params['nmax']\n",
    "    # angular info\n",
    "    B_n_vec = np.array([np.sin(theta) * np.cos(phi), np.sin(theta) * np.sin(phi), np.cos(theta)]).T\n",
    "    rot = Rotation.from_euler('XYZ', angles=np.array([params['alpha'], params['beta'], params['gamma']]), degrees=False)\n",
    "    B_n_vec_rot = rot.apply(B_n_vec)\n",
    "    B_n_T = np.linalg.norm(B_n_vec_rot[:,:2], axis=1)\n",
    "    B_n = np.linalg.norm(B_n_vec_rot, axis=1)\n",
    "    costheta = B_n_vec_rot[:, 2] / B_n\n",
    "    sintheta = B_n_T / B_n\n",
    "    cosphi = B_n_vec_rot[:, 0] / B_n_T\n",
    "#     sinphi = B_n_vec_rot[:, 1] / B_n_T\n",
    "    \n",
    "    result = np.zeros_like(theta)\n",
    "    # loop through B Chebyshev\n",
    "    for k in range(kmax+1):\n",
    "        # turn on appropriate Chebyshev term\n",
    "        coeffs_k = np.zeros(kmax+1)\n",
    "        coeffs_k[k] = 1.\n",
    "        T_k = np.polynomial.chebyshev.chebval(B_rescaled, coeffs_k)\n",
    "        # loop through Temp Chebyshev\n",
    "        for n in range(nmax+1):\n",
    "            # turn on appropriate Chebyshev term\n",
    "            coeffs_n = np.zeros(nmax+1)\n",
    "            coeffs_n[n] = 1.\n",
    "            T_n = np.polynomial.chebyshev.chebval(temp_rescaled, coeffs_n)\n",
    "            # angular encodes the coefficient values\n",
    "            # coeff \"CNLM\" -- C_nlm\n",
    "            angular = params[f'C{k}{n}00'] + params[f'C{k}{n}10'] * costheta + params[f'C{k}{n}20'] * (3*costheta**2 - 1) + params[f'C{k}{n}22'] * (2*cosphi**2 - 1)*(sintheta**2) \\\n",
    "            + params[f'C{k}{n}30'] * (5*costheta**3 - 3*costheta) + params[f'C{k}{n}32'] * (2*cosphi**2 - 1)*(sintheta**2)*costheta\n",
    "            result += T_k * T_n * angular\n",
    "    \n",
    "    return result"
   ]
  },
  {
   "cell_type": "code",
   "execution_count": null,
   "metadata": {},
   "outputs": [],
   "source": [
    "Vm = df_[f'{probe}_Raw_Z'].abs().max()\n",
    "if abs(df_[f'{probe}_Raw_Z'].max()) > abs(df_[f'{probe}_Raw_Z'].min()):\n",
    "    pass\n",
    "else:\n",
    "    Vm = -1 * Vm\n",
    "Vm"
   ]
  },
  {
   "cell_type": "markdown",
   "metadata": {},
   "source": [
    "### One Component"
   ]
  },
  {
   "cell_type": "markdown",
   "metadata": {},
   "source": [
    "- RESULTS FROM ANGULAR + TEMP FIT\n",
    "\n",
    "alpha\t1.77403701\t0.01432254\t(0.81%)\t-1.55\t-3.14159265\t3.14159265\tTrue\n",
    "\n",
    "beta\t-1.55454189\t6.2355e-05\t(0.00%)\t2.25\t-3.14159265\t3.14159265\tTrue\n",
    "\n",
    "gamma\t-3.14159265\t0.02662969\t(0.85%)\t-3.08\t-3.14159265\t3.14159265\tTrue"
   ]
  },
  {
   "cell_type": "code",
   "execution_count": null,
   "metadata": {},
   "outputs": [],
   "source": [
    "result_dict[comp].params['alpha'].value"
   ]
  },
  {
   "cell_type": "code",
   "execution_count": null,
   "metadata": {},
   "outputs": [],
   "source": [
    "Bdata.min(), Bdata.max()"
   ]
  },
  {
   "cell_type": "code",
   "execution_count": null,
   "metadata": {},
   "outputs": [],
   "source": [
    "# which component?\n",
    "# comp = 'X'\n",
    "# comp = 'Y'\n",
    "comp = 'Z'\n",
    "# rescale data?\n",
    "data = deepcopy(df_[f'{probe}_Raw_{comp}'].values)\n",
    "# data = data / np.max(np.abs(data))\n",
    "tempdata = df_[f'{probe}_Cal_T_rescaled'].values\n",
    "Bdata = df_['B_Hall_NMR_rescaled'].values\n",
    "###\n",
    "# uncertainty\n",
    "sigma_est = 100 # 100 / 3e-6 ~ 3e-5\n",
    "# sigma_est = 3e-5\n",
    "###\n",
    "model = lm.Model(simultaneous_fit_rot_temp_B, independent_vars=['theta', 'phi', 'temp_rescaled', 'B_rescaled'])\n",
    "params = lm.Parameters()\n",
    "\n",
    "params.add('kmax', value=1, vary=False)\n",
    "params.add('nmax', value=2, vary=False)\n",
    "\n",
    "# params.add('alpha', value=-1.55, vary=True, min=-np.pi, max=np.pi)\n",
    "# params.add('beta', value=2.25, vary=True, min=-np.pi, max=np.pi)\n",
    "# params.add('gamma', value=-3.08, vary=True, min=-np.pi, max=np.pi)\n",
    "\n",
    "# Z\n",
    "# params.add('alpha', value=1.77403701, vary=False, min=-np.pi, max=np.pi)\n",
    "# params.add('beta', value=-1.55454189, vary=False, min=-np.pi, max=np.pi)\n",
    "# params.add('gamma', value=-3.14159265, vary=False, min=-np.pi, max=np.pi)\n",
    "\n",
    "# var_rot = True # takes a long time...not sure if fit will converge.\n",
    "var_rot = False\n",
    "\n",
    "params.add('alpha', value=result_dict[comp].params['alpha'].value, vary=var_rot, min=-np.pi, max=np.pi)\n",
    "params.add('beta', value=result_dict[comp].params['beta'].value, vary=var_rot, min=-np.pi, max=np.pi)\n",
    "params.add('gamma', value=result_dict[comp].params['gamma'].value, vary=var_rot, min=-np.pi, max=np.pi)\n",
    "\n",
    "# spherical\n",
    "# min_ = 0. # use 0 min?\n",
    "min_ = None # or allow negative?\n",
    "# max_ = 1.0\n",
    "max_ = None\n",
    "\n",
    "for k in range(params['kmax'] + 1):\n",
    "    for n in range(params['nmax'] + 1):\n",
    "        params.add(f'C{k}{n}00', value=0.5, vary=True, min=min_, max=max_)\n",
    "        params.add(f'C{k}{n}10', value=0.5, vary=True, min=min_, max=max_)\n",
    "#         params.add(f'C{k}{n}10', value=Vm, vary=True, min=min_, max=max_)\n",
    "        params.add(f'C{k}{n}20', value=0.5, vary=True, min=min_, max=max_)\n",
    "        params.add(f'C{k}{n}22', value=0.5, vary=True, min=min_, max=max_) # PHE\n",
    "        params.add(f'C{k}{n}30', value=0.5, vary=True, min=min_, max=max_)\n",
    "        params.add(f'C{k}{n}32', value=0.5, vary=True, min=min_, max=max_) # 3D Hall effect\n",
    "    #     params.add(f'C{n}32', value=0.0, vary=False, min=min_, max=max_) # 3D Hall effect\n",
    "\n",
    "result_simul_rot_temp_B = model.fit(data, theta=df_['theta_B_true'].values, phi=df_['phi_B_true'].values, \n",
    "                                    temp_rescaled=tempdata, B_rescaled=Bdata, params=params,\n",
    "                                    weights=1/(sigma_est*np.ones_like(df_[f'{probe}_Raw_{comp}'].values)), scale_covar=False)\n",
    "# subtract off cos(theta)\n",
    "df_.loc[:, f'simul_rot_temp_B_fit'] = result_simul_rot_temp_B.best_fit\n",
    "df_.loc[:, f'{probe}_Raw_{comp}_min_simul_rot_temp_B'] = data - result_simul_rot_temp_B.best_fit"
   ]
  },
  {
   "cell_type": "code",
   "execution_count": null,
   "metadata": {},
   "outputs": [],
   "source": [
    "result_dict['X']"
   ]
  },
  {
   "cell_type": "code",
   "execution_count": null,
   "metadata": {},
   "outputs": [],
   "source": [
    "# scan 3-5, using orientation from scan 3-5 fit, angles float\n",
    "# X\n",
    "result_simul_rot_temp_B"
   ]
  },
  {
   "cell_type": "code",
   "execution_count": null,
   "metadata": {},
   "outputs": [],
   "source": [
    "# scan 3-5, using orientation from scan 3-5 fit, angles fixed\n",
    "# X\n",
    "result_simul_rot_temp_B"
   ]
  },
  {
   "cell_type": "code",
   "execution_count": null,
   "metadata": {},
   "outputs": [],
   "source": [
    "# scan 3-5, using orientation from scan 3-5 fit, angles fixed\n",
    "# Y\n",
    "result_simul_rot_temp_B"
   ]
  },
  {
   "cell_type": "code",
   "execution_count": null,
   "metadata": {},
   "outputs": [],
   "source": [
    "# scan 3-5, using orientation from scan 3-5 fit, angles fixed\n",
    "# Z\n",
    "result_simul_rot_temp_B"
   ]
  },
  {
   "cell_type": "code",
   "execution_count": null,
   "metadata": {
    "scrolled": true
   },
   "outputs": [],
   "source": [
    "# REMEMBER! phi & theta expected to be passed in as degrees.\n",
    "fig = spherical_scatter3d(phi_list=[df_.phi_B_true_deg], theta_list=[df_.theta_B_true_deg], r_list=[df_[f'{probe}_Raw_{comp}_min_simul_rot_temp']],\n",
    "                          units_list=None, absval=True, colors_list=None, opacity_list=None, size_list=None,\n",
    "                          inline=True, title=None, filename=None)"
   ]
  },
  {
   "cell_type": "code",
   "execution_count": null,
   "metadata": {},
   "outputs": [],
   "source": []
  },
  {
   "cell_type": "code",
   "execution_count": null,
   "metadata": {},
   "outputs": [],
   "source": [
    "df_.columns"
   ]
  },
  {
   "cell_type": "code",
   "execution_count": null,
   "metadata": {},
   "outputs": [],
   "source": [
    "fig, ax = plt.subplots()\n",
    "\n",
    "# bins=np.arange(-500, 510, 10)\n",
    "bins=np.arange(-750, 760, 10)\n",
    "# bins=np.arange(-1000, 1050, 50)\n",
    "\n",
    "ax.hist(df_[f'{probe}_Raw_{comp}_min_simul_rot_temp_B'], bins=bins, histtype='step', label=get_label(df_[f'{probe}_Raw_{comp}_min_simul_rot_temp_B'], bins))\n",
    "\n",
    "ax.set_xlabel('Residuals from Spherical Harmonic & Temp Fit');\n",
    "ax.set_title(f\"Voltage Fit: {comp}\")\n",
    "ax.legend(loc='upper left', bbox_to_anchor=(0.7, 1.0));"
   ]
  },
  {
   "cell_type": "code",
   "execution_count": null,
   "metadata": {},
   "outputs": [],
   "source": [
    "150 / 100  * 3e-5"
   ]
  },
  {
   "cell_type": "code",
   "execution_count": null,
   "metadata": {
    "scrolled": false
   },
   "outputs": [],
   "source": [
    "fig, ax = plt.subplots()\n",
    "\n",
    "ax.scatter(df_.theta_B_true_deg, df_[f'{probe}_Raw_{comp}_min_simul_rot_temp'], s=2)\n",
    "\n",
    "ax.set_xlabel(r'$\\theta$ [deg]')\n",
    "ax.set_ylabel('Residuals from Spherical Harmonic & Temp Fit');"
   ]
  },
  {
   "cell_type": "code",
   "execution_count": null,
   "metadata": {},
   "outputs": [],
   "source": [
    "fig, ax = plt.subplots()\n",
    "\n",
    "ax.scatter(df_.phi_B_true_deg, df_[f'{probe}_Raw_{comp}_min_simul_rot_temp'], s=2)\n",
    "\n",
    "ax.set_xlabel(r'$\\phi$ [deg]')\n",
    "ax.set_ylabel('Residuals from Spherical Harmonic & Temp Fit');"
   ]
  },
  {
   "cell_type": "code",
   "execution_count": null,
   "metadata": {},
   "outputs": [],
   "source": [
    "fig, ax = plt.subplots()\n",
    "\n",
    "ax.scatter(df_[f'{probe}_Cal_T'], df_[f'{probe}_Raw_{comp}_min_simul_rot_temp'], s=2)\n",
    "\n",
    "ax.set_xlabel(f'{probe}_Cal_T [deg C]')\n",
    "ax.set_ylabel('Residuals from Spherical Harmonic & Temp Fit');"
   ]
  },
  {
   "cell_type": "code",
   "execution_count": null,
   "metadata": {},
   "outputs": [],
   "source": [
    "fig, ax = plt.subplots()\n",
    "\n",
    "ax.scatter(df_[f'{probe}_Raw_{comp}'], df_[f'{probe}_Raw_{comp}_min_simul_rot_temp'], s=2)\n",
    "\n",
    "ax.set_xlabel(f'Raw {comp}')\n",
    "ax.set_ylabel('Residuals from Spherical Harmonic & Temp Fit');"
   ]
  },
  {
   "cell_type": "code",
   "execution_count": null,
   "metadata": {
    "scrolled": true
   },
   "outputs": [],
   "source": [
    "# REMEMBER! phi & theta expected to be passed in as degrees.\n",
    "fig = spherical_scatter3d(phi_list=2*[df_.phi_B_true_deg], theta_list=2*[df_.theta_B_true_deg], r_list=[df_[f'{probe}_Raw_{comp}'], df_['simul_rot_temp_fit']],\n",
    "                          units_list=['adc', 'adc'], absval=True, colors_list=['viridis', 'hot'], opacity_list=None, size_list=None,\n",
    "                          inline=True, title=None, filename=None)"
   ]
  },
  {
   "cell_type": "markdown",
   "metadata": {},
   "source": [
    "### All components (collect results)"
   ]
  },
  {
   "cell_type": "code",
   "execution_count": null,
   "metadata": {},
   "outputs": [],
   "source": [
    "comps = ['X', 'Y', 'Z']\n",
    "result_dict_B = dict()\n",
    "\n",
    "for comp in comps:\n",
    "    print(f'Fitting {comp}')\n",
    "    # rescale data?\n",
    "    data = deepcopy(df_[f'{probe}_Raw_{comp}'].values)\n",
    "    # data = data / np.max(np.abs(data))\n",
    "    tempdata = df_[f'{probe}_Cal_T_rescaled'].values\n",
    "    Bdata = df_['B_Hall_NMR_rescaled'].values\n",
    "    ###\n",
    "    # uncertainty\n",
    "    sigma_est = 100 # 100 / 3e-6 ~ 3e-5\n",
    "    # sigma_est = 3e-5\n",
    "    ###\n",
    "    model = lm.Model(simultaneous_fit_rot_temp_B, independent_vars=['theta', 'phi', 'temp_rescaled', 'B_rescaled'])\n",
    "    params = lm.Parameters()\n",
    "\n",
    "    params.add('kmax', value=1, vary=False)\n",
    "    params.add('nmax', value=2, vary=False)\n",
    "\n",
    "    # var_rot = True # takes a long time...not sure if fit will converge.\n",
    "    var_rot = False\n",
    "\n",
    "    params.add('alpha', value=result_dict[comp].params['alpha'].value, vary=var_rot, min=-np.pi, max=np.pi)\n",
    "    params.add('beta', value=result_dict[comp].params['beta'].value, vary=var_rot, min=-np.pi, max=np.pi)\n",
    "    params.add('gamma', value=result_dict[comp].params['gamma'].value, vary=var_rot, min=-np.pi, max=np.pi)\n",
    "\n",
    "    # spherical\n",
    "    # min_ = 0. # use 0 min?\n",
    "    min_ = None # or allow negative?\n",
    "    # max_ = 1.0\n",
    "    max_ = None\n",
    "\n",
    "    for k in range(params['kmax'] + 1):\n",
    "        for n in range(params['nmax'] + 1):\n",
    "            params.add(f'C{k}{n}00', value=0.5, vary=True, min=min_, max=max_)\n",
    "            params.add(f'C{k}{n}10', value=0.5, vary=True, min=min_, max=max_)\n",
    "    #         params.add(f'C{k}{n}10', value=Vm, vary=True, min=min_, max=max_)\n",
    "            params.add(f'C{k}{n}20', value=0.5, vary=True, min=min_, max=max_)\n",
    "            params.add(f'C{k}{n}22', value=0.5, vary=True, min=min_, max=max_) # PHE\n",
    "            params.add(f'C{k}{n}30', value=0.5, vary=True, min=min_, max=max_)\n",
    "            params.add(f'C{k}{n}32', value=0.5, vary=True, min=min_, max=max_) # 3D Hall effect\n",
    "        #     params.add(f'C{n}32', value=0.0, vary=False, min=min_, max=max_) # 3D Hall effect\n",
    "\n",
    "    result_simul_rot_temp_B = model.fit(data, theta=df_['theta_B_true'].values, phi=df_['phi_B_true'].values, \n",
    "                                        temp_rescaled=tempdata, B_rescaled=Bdata, params=params,\n",
    "                                        weights=1/(sigma_est*np.ones_like(df_[f'{probe}_Raw_{comp}'].values)), scale_covar=False)\n",
    "    # subtract off cos(theta)\n",
    "    df_.loc[:, f'simul_rot_temp_B_fit'] = result_simul_rot_temp_B.best_fit\n",
    "    df_.loc[:, f'{probe}_Raw_{comp}_min_simul_rot_temp_B'] = data - result_simul_rot_temp_B.best_fit\n",
    "    result_dict_B[comp] = result_simul_rot_temp_B"
   ]
  },
  {
   "cell_type": "code",
   "execution_count": null,
   "metadata": {
    "scrolled": true
   },
   "outputs": [],
   "source": [
    "result_dict_B['X']"
   ]
  },
  {
   "cell_type": "code",
   "execution_count": null,
   "metadata": {
    "scrolled": true
   },
   "outputs": [],
   "source": [
    "result_dict_B['Y']"
   ]
  },
  {
   "cell_type": "code",
   "execution_count": null,
   "metadata": {
    "scrolled": true
   },
   "outputs": [],
   "source": [
    "result_dict_B['Z']"
   ]
  },
  {
   "cell_type": "code",
   "execution_count": null,
   "metadata": {},
   "outputs": [],
   "source": [
    "# re-add previous results\n",
    "for comp in comps:\n",
    "    data = deepcopy(df_[f'{probe}_Raw_{comp}'].values)\n",
    "    df_.loc[:, f'{probe}_Raw_{comp}_min_simul_rot_temp'] = data - result_dict[comp].best_fit"
   ]
  },
  {
   "cell_type": "code",
   "execution_count": null,
   "metadata": {},
   "outputs": [],
   "source": [
    "for comp in comps:\n",
    "    fig, ax = plt.subplots()\n",
    "\n",
    "    # bins=np.arange(-500, 510, 10)\n",
    "    bins=np.arange(-750, 760, 10)\n",
    "    # bins=np.arange(-1000, 1050, 50)\n",
    "\n",
    "    ax.hist(df_[f'{probe}_Raw_{comp}_min_simul_rot_temp'], bins=bins, histtype='step', label=f'Fit 1 (no B): {comp}\\n'+get_label(df_[f'{probe}_Raw_{comp}_min_simul_rot_temp'], bins))\n",
    "    ax.hist(df_[f'{probe}_Raw_{comp}_min_simul_rot_temp_B'], bins=bins, histtype='step', label=f'Fit 2 (with B): {comp}\\n'+get_label(df_[f'{probe}_Raw_{comp}_min_simul_rot_temp_B'], bins))\n",
    "\n",
    "    ax.set_xlabel('Residuals from Spherical Harmonics & Temp Fit, (Data - Fit) [ADC]');\n",
    "    ax.set_title(f\"Voltage Fit: {comp}\")\n",
    "    ax.legend(loc='upper left', bbox_to_anchor=(0.7, 1.0));"
   ]
  },
  {
   "cell_type": "code",
   "execution_count": null,
   "metadata": {
    "scrolled": false
   },
   "outputs": [],
   "source": [
    "for comp in comps:\n",
    "    fig, ax = plt.subplots()\n",
    "\n",
    "    ax.scatter(df_.theta_B_true_deg, df_[f'{probe}_Raw_{comp}_min_simul_rot_temp_B'], s=2)\n",
    "\n",
    "    ax.set_xlabel(r'$\\theta$ [deg]')\n",
    "    ax.set_ylabel('Residuals from Spherical Harmonic & Temp & B Fit')\n",
    "    ax.set_title(f\"Voltage Fit: {comp}\");"
   ]
  },
  {
   "cell_type": "code",
   "execution_count": null,
   "metadata": {
    "code_folding": []
   },
   "outputs": [],
   "source": [
    "for comp in comps:\n",
    "    fig, ax = plt.subplots()\n",
    "\n",
    "    ax.scatter(df_.phi_B_true_deg, df_[f'{probe}_Raw_{comp}_min_simul_rot_temp'], s=2)\n",
    "\n",
    "    ax.set_xlabel(r'$\\phi$ [deg]')\n",
    "    ax.set_ylabel('Residuals from Spherical Harmonic & Temp Fit');\n",
    "    ax.set_title(f\"Voltage Fit: {comp}\");"
   ]
  },
  {
   "cell_type": "code",
   "execution_count": null,
   "metadata": {},
   "outputs": [],
   "source": [
    "for comp in comps:\n",
    "    fig, ax = plt.subplots()\n",
    "\n",
    "    ax.scatter(df_[f'{probe}_Cal_T'], df_[f'{probe}_Raw_{comp}_min_simul_rot_temp'], s=2)\n",
    "\n",
    "    ax.set_xlabel(f'{probe}_Cal_T [deg C]')\n",
    "    ax.set_ylabel('Residuals from Spherical Harmonic & Temp Fit');\n",
    "    ax.set_title(f\"Voltage Fit: {comp}\");"
   ]
  },
  {
   "cell_type": "code",
   "execution_count": null,
   "metadata": {},
   "outputs": [],
   "source": [
    "for comp in comps:\n",
    "    fig, ax = plt.subplots()\n",
    "\n",
    "    ax.scatter(df_[f'{probe}_Raw_{comp}'], df_[f'{probe}_Raw_{comp}_min_simul_rot_temp'], s=2)\n",
    "\n",
    "    ax.set_xlabel(f'Raw {comp}')\n",
    "    ax.set_ylabel('Residuals from Spherical Harmonic & Temp Fit');\n",
    "    ax.set_title(f\"Voltage Fit: {comp}\");"
   ]
  },
  {
   "cell_type": "code",
   "execution_count": null,
   "metadata": {},
   "outputs": [],
   "source": []
  }
 ],
 "metadata": {
  "kernelspec": {
   "display_name": "Python [conda env:mu2e]",
   "language": "python",
   "name": "conda-env-mu2e-py"
  },
  "language_info": {
   "codemirror_mode": {
    "name": "ipython",
    "version": 3
   },
   "file_extension": ".py",
   "mimetype": "text/x-python",
   "name": "python",
   "nbconvert_exporter": "python",
   "pygments_lexer": "ipython3",
   "version": "3.8.11"
  }
 },
 "nbformat": 4,
 "nbformat_minor": 2
}
