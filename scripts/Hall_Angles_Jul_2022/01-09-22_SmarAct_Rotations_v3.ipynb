{
 "cells": [
  {
   "cell_type": "markdown",
   "metadata": {},
   "source": [
    "Notes from meeting with Thomas, O'Sheg, Chuck, Stoyan (11am):\n",
    "- For both Mu2e and ORNL PPU, ultimate desire is the following info for each probe:\n",
    "    - Location (x,y,z) and orientation (Rx, Ry, Rz ?) of glass cube corner / COG of Hall elements.\n",
    "    - These values must be in the appropriate reference frame, or be able to do the chain of transformations to get to the appropriate reference frame.\n",
    "        - ORNL this is the test setup in IB1.\n",
    "        - For Mu2e this needs to happen in two different locations:\n",
    "            1. Calibration setup -- kinematic mounting points as Hall probe reference\n",
    "            2. DSFM -- kinematic mounting points as Hall probe reference            \n",
    "- It seems that the chain of survey steps has been completed, by different people/leads. It is not clear that each group measured enough that they can be referenced together and give us what we need.\n",
    "- Ted Beale (and co.) did measurements of the Hall probe card / kinematic mounting. Anything I'm forgetting?\n",
    "- Chuck seems to remember Jana extracting the useful numbers from log files from Ted. Not sure if this needs to happen again.\n",
    "- Chuck (and co.) did a measurement of the Hall probe glass cube corner. (Not sure if orientation measurements were completed?)\n",
    "    - Note Chuck said a previous analysis assumed perfectly cubic glass.\n",
    "- Stoyan said the ORNL deadline is June 2023, but most likely will be done sooner than that.\n",
    "\n",
    "- Thomas said (privately) that ORNL work is good because it is helping with debugging EMMA."
   ]
  },
  {
   "cell_type": "markdown",
   "metadata": {},
   "source": [
    "# Background"
   ]
  },
  {
   "cell_type": "markdown",
   "metadata": {},
   "source": [
    "- Starting a new notebook for the new angular dataset after epoxy to fix the loose screws."
   ]
  },
  {
   "cell_type": "markdown",
   "metadata": {},
   "source": [
    "# Imports"
   ]
  },
  {
   "cell_type": "code",
   "execution_count": 1,
   "metadata": {},
   "outputs": [
    {
     "data": {
      "text/html": [
       "<style>.container { width:100% !important; }</style>"
      ],
      "text/plain": [
       "<IPython.core.display.HTML object>"
      ]
     },
     "metadata": {},
     "output_type": "display_data"
    }
   ],
   "source": [
    "from IPython.display import display, HTML\n",
    "display(HTML(\"<style>.container { width:100% !important; }</style>\"))"
   ]
  },
  {
   "cell_type": "code",
   "execution_count": 2,
   "metadata": {
    "scrolled": true
   },
   "outputs": [],
   "source": [
    "import numpy as np\n",
    "import pandas as pd\n",
    "from copy import deepcopy\n",
    "import pickle as pkl\n",
    "from collections.abc import Iterable\n",
    "# from datetime import datetime\n",
    "# from datetime import timedelta\n",
    "# from pandas.api.types import is_numeric_dtype\n",
    "from scipy.interpolate import interp1d\n",
    "from scipy.spatial.transform import Rotation\n",
    "import lmfit as lm\n",
    "# from copy import deepcopy\n",
    "#from dateutil import parser\n",
    "# from plotly import graph_objects as go\n",
    "# from plotly.offline import plot\n",
    "import matplotlib.pyplot as plt\n",
    "# from matplotlib.ticker import AutoMinorLocator\n",
    "%matplotlib inline\n",
    "\n",
    "# local imports\n",
    "# from plotting import config_plots, datetime_plt, get_label\n",
    "from plotting import config_plots, get_label\n",
    "from load_slow import *\n",
    "from Zaber_Magnet_Convert import *\n",
    "# hallprobecalib package\n",
    "from hallprobecalib.hpcplots import scatter3d, scatter2d, histo, spherical_scatter3d\n",
    "from mu2e.mu2eplots import mu2e_plot3d\n",
    "# V vs. B, T (2021 results)\n",
    "from V_vs_B_T import V_forward, inv_B_v2, invert_row, calc_B_column\n",
    "\n",
    "config_plots()\n",
    "# plt.rcParams.update({\"text.usetex\": True})"
   ]
  },
  {
   "cell_type": "markdown",
   "metadata": {},
   "source": [
    "# Functions"
   ]
  },
  {
   "cell_type": "markdown",
   "metadata": {},
   "source": [
    "## Processing"
   ]
  },
  {
   "cell_type": "code",
   "execution_count": 3,
   "metadata": {},
   "outputs": [],
   "source": [
    "def get_probe_IDs(df):\n",
    "    probes = [c[:-6] for c in df.columns if \"Raw_X\" in c]\n",
    "    return sorted(probes)\n",
    "\n",
    "def Hall_probe_basic_calcs(df, probes):\n",
    "    # magnitudes and angles\n",
    "    for p in probes:\n",
    "        for t in ['Raw', 'Cal']:\n",
    "            df[f'{p}_{t}_Bmag'] = (df[f'{p}_{t}_X']**2 + df[f'{p}_{t}_Y']**2 + df[f'{p}_{t}_Z']**2)**(1/2)\n",
    "            df[f'{p}_{t}_Theta'] = np.arccos(df[f'{p}_{t}_Z']/df[f'{p}_{t}_Bmag'])\n",
    "            df[f'{p}_{t}_Phi'] = np.arctan2(df[f'{p}_{t}_Y'],df[f'{p}_{t}_X'])\n",
    "    # again using theta redefining Cal components\n",
    "    for p in probes:\n",
    "        for t in ['Cal']:\n",
    "            df[f'{p}_{t}_Theta2'] = np.arccos(df[f'{p}_{t}_X']/df[f'{p}_{t}_Bmag'])\n",
    "            df[f'{p}_{t}_Phi2'] = np.arctan2(df[f'{p}_{t}_Z'],df[f'{p}_{t}_Y'])\n",
    "        ### flip phi when theta < 0 (-2)\n",
    "        '''\n",
    "        #inds = np.where(df.loc[:, f'{p}_Cal_Theta2'] < -2.0)\n",
    "        inds = np.where((df.loc[:, 'SmarAct_Meas_Angle_1'] >= 349) & (df.loc[:, 'SmarAct_Meas_Angle_1'] <= 358))\n",
    "        print(df.iloc[inds][f'{p}_Cal_Phi2'].iloc[0])\n",
    "        df.loc[df.index[inds], f'{p}_Cal_Phi2'] = df.loc[df.index[inds], f'{p}_Cal_Phi2'] - np.pi\n",
    "        print(df.iloc[inds][f'{p}_Cal_Phi2'].iloc[0])\n",
    "        inds2 = np.where(df.loc[:, f'{p}_Cal_Phi2'] < -np.pi)\n",
    "        print(df.iloc[inds2][f'{p}_Cal_Phi2'].iloc[0])\n",
    "        df.loc[df.index[inds2], f'{p}_Cal_Phi2'] = df.loc[df.index[inds2], f'{p}_Cal_Phi2'] + 2*np.pi\n",
    "        print(df.iloc[inds2][f'{p}_Cal_Phi2'].iloc[0])\n",
    "        '''\n",
    "    # magnet slow controls\n",
    "    df['Magnet Resistance [Ohm]'] = df['Magnet Voltage [V]'] / df['Magnet Current [A]']\n",
    "    df['Coil Resistance [Ohm]'] = 2*df['Magnet Resistance [Ohm]']\n",
    "    df['Magnet Power [W]'] = df['Magnet Voltage [V]'] * df['Magnet Current [A]']\n",
    "    # center smaract measured values around zero\n",
    "    a1 = df.loc[:, 'SmarAct_Meas_Angle_1'].copy().values\n",
    "    a2 = df.loc[:, 'SmarAct_Meas_Angle_2'].copy().values\n",
    "    a1[a1 > 180.] = a1[a1 > 180.] - 360.\n",
    "    a2[a2 > 180.] = a2[a2 > 180.] - 360.\n",
    "    df.loc[:, 'SmarAct_Meas_Angle_1_Centered'] = a1\n",
    "    df.loc[:, 'SmarAct_Meas_Angle_2_Centered'] = a2\n",
    "    ### INTERPOLATE NMR VALUES TO SCAN TIMES\n",
    "    #### STOPPED HERE 2022-11-29 17:41:36 \n",
    "    return df\n",
    "\n",
    "def match_temp_scan_dfs(df_temp, df):\n",
    "    # assumes scan df is a subset of temp df.\n",
    "    t0 = df.index[0]\n",
    "    tf = df.index[-1]\n",
    "    df_t = df_temp.query(f'\"{t0}\" <= Datetime <= \"{tf}\"').copy()\n",
    "    return df_t\n",
    "\n",
    "def interp_temp_col(df_temp, df, col='NMR [T]'):\n",
    "    interp_func = interp1d(df_temp.seconds_delta, df_temp[col].values, kind='linear', fill_value='extrapolate')\n",
    "    df.loc[:, col] = interp_func(df.seconds_delta)\n",
    "    return df"
   ]
  },
  {
   "cell_type": "markdown",
   "metadata": {},
   "source": [
    "# File Info"
   ]
  },
  {
   "cell_type": "code",
   "execution_count": 4,
   "metadata": {},
   "outputs": [],
   "source": [
    "ddir_old = '/home/ckampa/Dropbox/LogFiles/temp_rotate_07-06-22/' # old scans\n",
    "ddir = '/home/ckampa/Dropbox/LogFiles/temp_rotate_01-09-23/' # new scans"
   ]
  },
  {
   "cell_type": "code",
   "execution_count": 5,
   "metadata": {},
   "outputs": [],
   "source": [
    "\"\"\"\n",
    "#### BEFORE FIX!\n",
    "# 7-7-22 12:04, probe ##, rotating in magnet, finer scan\n",
    "# PGC @ 15 deg C\n",
    "# 0.25 deg steps -10 -- +6 angle 0 (theta)\n",
    "# 1 deg steps full 360 deg, centered on 0 deg angle 1 (phi)\n",
    "######\n",
    "plotdir = '/home/ckampa/data/hallprobecalib_extras/plots/hall_probe_rotate/2022-07-07_12:04/'\n",
    "scanfile = ddir_old+'2022-07-07 120406.txt'\n",
    "slowfile = ddir_old+'2022-07-06 133626slow.txt'\n",
    "t0 = '07-07-22 12:00' # finer scan started\n",
    "tf = '07-09-22 18:42' # finer scan finished\n",
    "\"\"\";"
   ]
  },
  {
   "cell_type": "code",
   "execution_count": 6,
   "metadata": {},
   "outputs": [],
   "source": [
    "# 01-09-22 12:00, probe ##, rotating in magnet, coarse scan\n",
    "# PGC @ 20 deg C\n",
    "# 2 deg steps -9 -- +5 angle 0 (theta)\n",
    "# 45 deg steps full 360 deg, centered on -16 deg angle 1 (phi)\n",
    "######\n",
    "# plotdir = '/home/ckampa/data/hallprobecalib_extras/plots/hall_probe_rotate/2023-01-09_12:00/'\n",
    "# scanfile = ddir+'2023-01-09 120012.txt'\n",
    "# slowfile = ddir+'2023-01-09 104334slow.txt'"
   ]
  },
  {
   "cell_type": "code",
   "execution_count": 8,
   "metadata": {},
   "outputs": [],
   "source": [
    "# \"\"\"\n",
    "# 7-7-22 12:04, probe ##, rotating in magnet, finer scan\n",
    "# PGC @ 20 deg C\n",
    "# 0.25 deg steps -9.5 -- +5.5 angle 0 (theta)\n",
    "# 1 deg steps full 360 deg, centered on 0 deg angle 1 (phi)\n",
    "######\n",
    "plotdir = '/home/ckampa/data/hallprobecalib_extras/plots/hall_probe_rotate/2023-01-09_12:26/'\n",
    "scanfile = ddir+'2023-01-09 122622.txt'\n",
    "slowfile = ddir+'2023-01-09 104334slow.txt'\n",
    "#### scan 1\n",
    "'''\n",
    "#t0 = '01-09-23 11:50' # magnet on\n",
    "#tf = '01-09-23 12:20' # coarse scan end\n",
    "t0 = '01-09-23 20:29' # finer scan start\n",
    "#tf = '01-11-23 00:00' # PLACEHOLDER\n",
    "##tf = '01-10-23 11:45:22' # magnet tripped during finer scan\n",
    "tf = '01-10-23 11:45:10' # magnet tripped during finer scan\n",
    "'''\n",
    "#### scan 2\n",
    "#t0 = '01-13-23 10:25' # magnet on\n",
    "# t0 = '01-14-23 00:00' # finer scan 2 started\n",
    "# tf = '01-16-23 05:56' # finer scan 2 finished\n",
    "#### scan 3 (repeatability)\n",
    "t0 = '01-16-23 08:55' # finer scan 3 started\n",
    "# tf = '01-18-23 15:25' # finer scan 3 finished\n",
    "#### scan 4 (10 deg)\n",
    "#t0 = '01-18-23 15:25' # finer scan 3 finished\n",
    "# t0 = '01-18-23 17:00' # temperature set to 10 deg C\n",
    "#t0 = '01-19-23 10:43' # finer scan 4 started (10 deg C)\n",
    "# tf = '01-21-24 18:21' # finer scan 4 ended\n",
    "#### scan 5 (40 deg). SmarAct failed in the middle. Overheating?\n",
    "# t0 = '01-21-23 18:21' # finer scan 4 finished\n",
    "# t0 = '01-21-23 19:00' # temperature set to 40 deg C\n",
    "# t0 = '01-22-23 06:37' # finer scan 5 started (40 deg C)\n",
    "tf = '01-23-23 00:00' # finer scan 5 failed\n",
    "# tf = '01-01-24 00:00' # PLACEHOLDER\n",
    "# \"\"\";"
   ]
  },
  {
   "cell_type": "markdown",
   "metadata": {},
   "source": [
    "- Note the above files include one partial scan (magnet off at -5.25 deg angle 1).\n",
    "- Magnet restarted 01-13-23 10:25am.\n",
    "- Second scan started 01-13-23 ##:##pm."
   ]
  },
  {
   "cell_type": "markdown",
   "metadata": {
    "jp-MarkdownHeadingCollapsed": true
   },
   "source": [
    "# Load and Process Data"
   ]
  },
  {
   "cell_type": "code",
   "execution_count": 1,
   "metadata": {},
   "outputs": [
    {
     "ename": "NameError",
     "evalue": "name 'load_data' is not defined",
     "output_type": "error",
     "traceback": [
      "\u001b[0;31m---------------------------------------------------------------------------\u001b[0m",
      "\u001b[0;31mNameError\u001b[0m                                 Traceback (most recent call last)",
      "Cell \u001b[0;32mIn[1], line 2\u001b[0m\n\u001b[1;32m      1\u001b[0m \u001b[38;5;66;03m# temperature\u001b[39;00m\n\u001b[0;32m----> 2\u001b[0m df_temp \u001b[38;5;241m=\u001b[39m \u001b[43mload_data\u001b[49m(slowfile)\n\u001b[1;32m      3\u001b[0m \u001b[38;5;66;03m# only include times with NMR?\u001b[39;00m\n\u001b[1;32m      4\u001b[0m \u001b[38;5;66;03m#df_temp = df_temp.query('`NMR [T]` > 0.9').copy()\u001b[39;00m\n\u001b[1;32m      5\u001b[0m \u001b[38;5;66;03m# scan data\u001b[39;00m\n\u001b[1;32m      6\u001b[0m df \u001b[38;5;241m=\u001b[39m load_data(scanfile)\u001b[38;5;241m.\u001b[39miloc[\u001b[38;5;241m1\u001b[39m:]\n",
      "\u001b[0;31mNameError\u001b[0m: name 'load_data' is not defined"
     ]
    }
   ],
   "source": [
    "# temperature\n",
    "df_temp = load_data(slowfile)\n",
    "# only include times with NMR?\n",
    "#df_temp = df_temp.query('`NMR [T]` > 0.9').copy()\n",
    "# scan data\n",
    "df = load_data(scanfile).iloc[1:]\n",
    "# interpolations from temp to scan\n",
    "for col in ['NMR [T]']:\n",
    "    df = interp_temp_col(df_temp, df, col=col)\n",
    "# time slices?\n",
    "df = df.query(f'\"{t0}\" <= Datetime <= \"{tf}\"').copy()\n",
    "df_temp = df_temp.query(f'\"{t0}\" <= Datetime <= \"{tf}\"').copy()"
   ]
  },
  {
   "cell_type": "code",
   "execution_count": 2,
   "metadata": {
    "scrolled": true
   },
   "outputs": [
    {
     "ename": "NameError",
     "evalue": "name 'df' is not defined",
     "output_type": "error",
     "traceback": [
      "\u001b[0;31m---------------------------------------------------------------------------\u001b[0m",
      "\u001b[0;31mNameError\u001b[0m                                 Traceback (most recent call last)",
      "Cell \u001b[0;32mIn[2], line 1\u001b[0m\n\u001b[0;32m----> 1\u001b[0m \u001b[43mdf\u001b[49m\n",
      "\u001b[0;31mNameError\u001b[0m: name 'df' is not defined"
     ]
    }
   ],
   "source": [
    "df"
   ]
  },
  {
   "cell_type": "code",
   "execution_count": 11,
   "metadata": {},
   "outputs": [
    {
     "data": {
      "text/plain": [
       "['2F0000000D5EC73A']"
      ]
     },
     "execution_count": 11,
     "metadata": {},
     "output_type": "execute_result"
    }
   ],
   "source": [
    "probes = get_probe_IDs(df)\n",
    "probe = probes[0]\n",
    "probes"
   ]
  },
  {
   "cell_type": "code",
   "execution_count": 12,
   "metadata": {
    "scrolled": true
   },
   "outputs": [],
   "source": [
    "df = Hall_probe_basic_calcs(df, probes)"
   ]
  },
  {
   "cell_type": "code",
   "execution_count": 13,
   "metadata": {},
   "outputs": [],
   "source": [
    "df_t = match_temp_scan_dfs(df_temp, df)"
   ]
  },
  {
   "cell_type": "code",
   "execution_count": 14,
   "metadata": {},
   "outputs": [
    {
     "data": {
      "text/html": [
       "<div>\n",
       "<style scoped>\n",
       "    .dataframe tbody tr th:only-of-type {\n",
       "        vertical-align: middle;\n",
       "    }\n",
       "\n",
       "    .dataframe tbody tr th {\n",
       "        vertical-align: top;\n",
       "    }\n",
       "\n",
       "    .dataframe thead th {\n",
       "        text-align: right;\n",
       "    }\n",
       "</style>\n",
       "<table border=\"1\" class=\"dataframe\">\n",
       "  <thead>\n",
       "    <tr style=\"text-align: right;\">\n",
       "      <th></th>\n",
       "      <th>Time</th>\n",
       "      <th>Magnet Current [A]</th>\n",
       "      <th>Magnet Voltage [V]</th>\n",
       "      <th>NMR [T]</th>\n",
       "      <th>NMR [FFT]</th>\n",
       "      <th>2F0000000D5EC73A_Raw_X</th>\n",
       "      <th>2F0000000D5EC73A_Raw_Y</th>\n",
       "      <th>2F0000000D5EC73A_Raw_Z</th>\n",
       "      <th>2F0000000D5EC73A_Raw_T</th>\n",
       "      <th>2F0000000D5EC73A_Cal_X</th>\n",
       "      <th>...</th>\n",
       "      <th>2F0000000D5EC73A_Cal_Bmag</th>\n",
       "      <th>2F0000000D5EC73A_Cal_Theta</th>\n",
       "      <th>2F0000000D5EC73A_Cal_Phi</th>\n",
       "      <th>2F0000000D5EC73A_Cal_Theta2</th>\n",
       "      <th>2F0000000D5EC73A_Cal_Phi2</th>\n",
       "      <th>Magnet Resistance [Ohm]</th>\n",
       "      <th>Coil Resistance [Ohm]</th>\n",
       "      <th>Magnet Power [W]</th>\n",
       "      <th>SmarAct_Meas_Angle_1_Centered</th>\n",
       "      <th>SmarAct_Meas_Angle_2_Centered</th>\n",
       "    </tr>\n",
       "    <tr>\n",
       "      <th>Datetime</th>\n",
       "      <th></th>\n",
       "      <th></th>\n",
       "      <th></th>\n",
       "      <th></th>\n",
       "      <th></th>\n",
       "      <th></th>\n",
       "      <th></th>\n",
       "      <th></th>\n",
       "      <th></th>\n",
       "      <th></th>\n",
       "      <th></th>\n",
       "      <th></th>\n",
       "      <th></th>\n",
       "      <th></th>\n",
       "      <th></th>\n",
       "      <th></th>\n",
       "      <th></th>\n",
       "      <th></th>\n",
       "      <th></th>\n",
       "      <th></th>\n",
       "      <th></th>\n",
       "    </tr>\n",
       "  </thead>\n",
       "  <tbody>\n",
       "    <tr>\n",
       "      <th>2023-01-16 08:59:14</th>\n",
       "      <td>1/16/2023 8:59:14 AM</td>\n",
       "      <td>180.531953</td>\n",
       "      <td>21.194067</td>\n",
       "      <td>1.002062</td>\n",
       "      <td>0.0</td>\n",
       "      <td>135204.0</td>\n",
       "      <td>322328.0</td>\n",
       "      <td>-2787348.0</td>\n",
       "      <td>20148.0</td>\n",
       "      <td>0.994923</td>\n",
       "      <td>...</td>\n",
       "      <td>1.002053</td>\n",
       "      <td>1.608186</td>\n",
       "      <td>0.113380</td>\n",
       "      <td>0.119361</td>\n",
       "      <td>-0.319321</td>\n",
       "      <td>0.117398</td>\n",
       "      <td>0.234796</td>\n",
       "      <td>3826.206254</td>\n",
       "      <td>-9.499997</td>\n",
       "      <td>-179.000005</td>\n",
       "    </tr>\n",
       "    <tr>\n",
       "      <th>2023-01-16 08:59:22</th>\n",
       "      <td>1/16/2023 8:59:22 AM</td>\n",
       "      <td>180.531897</td>\n",
       "      <td>21.194100</td>\n",
       "      <td>1.002062</td>\n",
       "      <td>0.0</td>\n",
       "      <td>141441.0</td>\n",
       "      <td>320305.0</td>\n",
       "      <td>-2787386.0</td>\n",
       "      <td>20143.0</td>\n",
       "      <td>0.994960</td>\n",
       "      <td>...</td>\n",
       "      <td>1.002093</td>\n",
       "      <td>1.610457</td>\n",
       "      <td>0.112633</td>\n",
       "      <td>0.119384</td>\n",
       "      <td>-0.339391</td>\n",
       "      <td>0.117398</td>\n",
       "      <td>0.234796</td>\n",
       "      <td>3826.211071</td>\n",
       "      <td>-9.500027</td>\n",
       "      <td>-177.999993</td>\n",
       "    </tr>\n",
       "    <tr>\n",
       "      <th>2023-01-16 08:59:30</th>\n",
       "      <td>1/16/2023 8:59:30 AM</td>\n",
       "      <td>180.532010</td>\n",
       "      <td>21.193967</td>\n",
       "      <td>1.002062</td>\n",
       "      <td>0.0</td>\n",
       "      <td>147215.0</td>\n",
       "      <td>318007.0</td>\n",
       "      <td>-2787392.0</td>\n",
       "      <td>20143.0</td>\n",
       "      <td>0.994988</td>\n",
       "      <td>...</td>\n",
       "      <td>1.002112</td>\n",
       "      <td>1.612554</td>\n",
       "      <td>0.111789</td>\n",
       "      <td>0.119303</td>\n",
       "      <td>-0.358366</td>\n",
       "      <td>0.117397</td>\n",
       "      <td>0.234795</td>\n",
       "      <td>3826.189402</td>\n",
       "      <td>-9.500005</td>\n",
       "      <td>-177.000000</td>\n",
       "    </tr>\n",
       "    <tr>\n",
       "      <th>2023-01-16 08:59:38</th>\n",
       "      <td>1/16/2023 8:59:38 AM</td>\n",
       "      <td>180.531897</td>\n",
       "      <td>21.193883</td>\n",
       "      <td>1.002062</td>\n",
       "      <td>0.0</td>\n",
       "      <td>153200.0</td>\n",
       "      <td>315641.0</td>\n",
       "      <td>-2787264.0</td>\n",
       "      <td>20143.0</td>\n",
       "      <td>0.994971</td>\n",
       "      <td>...</td>\n",
       "      <td>1.002091</td>\n",
       "      <td>1.614731</td>\n",
       "      <td>0.110926</td>\n",
       "      <td>0.119276</td>\n",
       "      <td>-0.378042</td>\n",
       "      <td>0.117397</td>\n",
       "      <td>0.234794</td>\n",
       "      <td>3826.171956</td>\n",
       "      <td>-9.499996</td>\n",
       "      <td>-176.000001</td>\n",
       "    </tr>\n",
       "    <tr>\n",
       "      <th>2023-01-16 08:59:46</th>\n",
       "      <td>1/16/2023 8:59:46 AM</td>\n",
       "      <td>180.531897</td>\n",
       "      <td>21.193767</td>\n",
       "      <td>1.002062</td>\n",
       "      <td>0.0</td>\n",
       "      <td>159215.0</td>\n",
       "      <td>313148.0</td>\n",
       "      <td>-2787195.0</td>\n",
       "      <td>20137.0</td>\n",
       "      <td>0.994972</td>\n",
       "      <td>...</td>\n",
       "      <td>1.002089</td>\n",
       "      <td>1.616916</td>\n",
       "      <td>0.110013</td>\n",
       "      <td>0.119253</td>\n",
       "      <td>-0.397939</td>\n",
       "      <td>0.117396</td>\n",
       "      <td>0.234792</td>\n",
       "      <td>3826.150894</td>\n",
       "      <td>-9.500003</td>\n",
       "      <td>-175.000004</td>\n",
       "    </tr>\n",
       "    <tr>\n",
       "      <th>...</th>\n",
       "      <td>...</td>\n",
       "      <td>...</td>\n",
       "      <td>...</td>\n",
       "      <td>...</td>\n",
       "      <td>...</td>\n",
       "      <td>...</td>\n",
       "      <td>...</td>\n",
       "      <td>...</td>\n",
       "      <td>...</td>\n",
       "      <td>...</td>\n",
       "      <td>...</td>\n",
       "      <td>...</td>\n",
       "      <td>...</td>\n",
       "      <td>...</td>\n",
       "      <td>...</td>\n",
       "      <td>...</td>\n",
       "      <td>...</td>\n",
       "      <td>...</td>\n",
       "      <td>...</td>\n",
       "      <td>...</td>\n",
       "      <td>...</td>\n",
       "    </tr>\n",
       "    <tr>\n",
       "      <th>2023-01-22 23:59:25</th>\n",
       "      <td>1/22/2023 11:59:25 PM</td>\n",
       "      <td>180.532577</td>\n",
       "      <td>21.309517</td>\n",
       "      <td>1.001629</td>\n",
       "      <td>0.0</td>\n",
       "      <td>30025.0</td>\n",
       "      <td>127458.0</td>\n",
       "      <td>-2785324.0</td>\n",
       "      <td>34816.0</td>\n",
       "      <td>1.000731</td>\n",
       "      <td>...</td>\n",
       "      <td>1.001657</td>\n",
       "      <td>1.567154</td>\n",
       "      <td>0.042849</td>\n",
       "      <td>0.043003</td>\n",
       "      <td>0.084832</td>\n",
       "      <td>0.118037</td>\n",
       "      <td>0.236074</td>\n",
       "      <td>3847.061951</td>\n",
       "      <td>-4.999999</td>\n",
       "      <td>172.999997</td>\n",
       "    </tr>\n",
       "    <tr>\n",
       "      <th>2023-01-22 23:59:33</th>\n",
       "      <td>1/22/2023 11:59:33 PM</td>\n",
       "      <td>180.532577</td>\n",
       "      <td>21.309483</td>\n",
       "      <td>1.001629</td>\n",
       "      <td>0.0</td>\n",
       "      <td>32719.0</td>\n",
       "      <td>127239.0</td>\n",
       "      <td>-2785339.0</td>\n",
       "      <td>34826.0</td>\n",
       "      <td>1.000748</td>\n",
       "      <td>...</td>\n",
       "      <td>1.001667</td>\n",
       "      <td>1.568150</td>\n",
       "      <td>0.042762</td>\n",
       "      <td>0.042844</td>\n",
       "      <td>0.061826</td>\n",
       "      <td>0.118037</td>\n",
       "      <td>0.236074</td>\n",
       "      <td>3847.055934</td>\n",
       "      <td>-5.000015</td>\n",
       "      <td>174.000002</td>\n",
       "    </tr>\n",
       "    <tr>\n",
       "      <th>2023-01-22 23:59:42</th>\n",
       "      <td>1/22/2023 11:59:42 PM</td>\n",
       "      <td>180.532690</td>\n",
       "      <td>21.309383</td>\n",
       "      <td>1.001629</td>\n",
       "      <td>0.0</td>\n",
       "      <td>35348.0</td>\n",
       "      <td>126992.0</td>\n",
       "      <td>-2785248.0</td>\n",
       "      <td>34829.0</td>\n",
       "      <td>1.000725</td>\n",
       "      <td>...</td>\n",
       "      <td>1.001638</td>\n",
       "      <td>1.569122</td>\n",
       "      <td>0.042668</td>\n",
       "      <td>0.042700</td>\n",
       "      <td>0.039234</td>\n",
       "      <td>0.118036</td>\n",
       "      <td>0.236072</td>\n",
       "      <td>3847.040295</td>\n",
       "      <td>-5.000022</td>\n",
       "      <td>174.999999</td>\n",
       "    </tr>\n",
       "    <tr>\n",
       "      <th>2023-01-22 23:59:50</th>\n",
       "      <td>1/22/2023 11:59:50 PM</td>\n",
       "      <td>180.532690</td>\n",
       "      <td>21.309317</td>\n",
       "      <td>1.001629</td>\n",
       "      <td>0.0</td>\n",
       "      <td>37958.0</td>\n",
       "      <td>126679.0</td>\n",
       "      <td>-2785366.0</td>\n",
       "      <td>34822.0</td>\n",
       "      <td>1.000772</td>\n",
       "      <td>...</td>\n",
       "      <td>1.001678</td>\n",
       "      <td>1.570085</td>\n",
       "      <td>0.042546</td>\n",
       "      <td>0.042552</td>\n",
       "      <td>0.016733</td>\n",
       "      <td>0.118036</td>\n",
       "      <td>0.236072</td>\n",
       "      <td>3847.028260</td>\n",
       "      <td>-4.999969</td>\n",
       "      <td>176.000005</td>\n",
       "    </tr>\n",
       "    <tr>\n",
       "      <th>2023-01-22 23:59:58</th>\n",
       "      <td>1/22/2023 11:59:58 PM</td>\n",
       "      <td>180.532633</td>\n",
       "      <td>21.309150</td>\n",
       "      <td>1.001629</td>\n",
       "      <td>0.0</td>\n",
       "      <td>40632.0</td>\n",
       "      <td>126351.0</td>\n",
       "      <td>-2785343.0</td>\n",
       "      <td>34821.0</td>\n",
       "      <td>1.000771</td>\n",
       "      <td>...</td>\n",
       "      <td>1.001673</td>\n",
       "      <td>1.571072</td>\n",
       "      <td>0.042420</td>\n",
       "      <td>0.042421</td>\n",
       "      <td>-0.006492</td>\n",
       "      <td>0.118035</td>\n",
       "      <td>0.236070</td>\n",
       "      <td>3846.996964</td>\n",
       "      <td>-5.000009</td>\n",
       "      <td>176.999997</td>\n",
       "    </tr>\n",
       "  </tbody>\n",
       "</table>\n",
       "<p>50895 rows × 35 columns</p>\n",
       "</div>"
      ],
      "text/plain": [
       "                                      Time  Magnet Current [A]  \\\n",
       "Datetime                                                         \n",
       "2023-01-16 08:59:14   1/16/2023 8:59:14 AM          180.531953   \n",
       "2023-01-16 08:59:22   1/16/2023 8:59:22 AM          180.531897   \n",
       "2023-01-16 08:59:30   1/16/2023 8:59:30 AM          180.532010   \n",
       "2023-01-16 08:59:38   1/16/2023 8:59:38 AM          180.531897   \n",
       "2023-01-16 08:59:46   1/16/2023 8:59:46 AM          180.531897   \n",
       "...                                    ...                 ...   \n",
       "2023-01-22 23:59:25  1/22/2023 11:59:25 PM          180.532577   \n",
       "2023-01-22 23:59:33  1/22/2023 11:59:33 PM          180.532577   \n",
       "2023-01-22 23:59:42  1/22/2023 11:59:42 PM          180.532690   \n",
       "2023-01-22 23:59:50  1/22/2023 11:59:50 PM          180.532690   \n",
       "2023-01-22 23:59:58  1/22/2023 11:59:58 PM          180.532633   \n",
       "\n",
       "                     Magnet Voltage [V]   NMR [T]  NMR [FFT]  \\\n",
       "Datetime                                                       \n",
       "2023-01-16 08:59:14           21.194067  1.002062        0.0   \n",
       "2023-01-16 08:59:22           21.194100  1.002062        0.0   \n",
       "2023-01-16 08:59:30           21.193967  1.002062        0.0   \n",
       "2023-01-16 08:59:38           21.193883  1.002062        0.0   \n",
       "2023-01-16 08:59:46           21.193767  1.002062        0.0   \n",
       "...                                 ...       ...        ...   \n",
       "2023-01-22 23:59:25           21.309517  1.001629        0.0   \n",
       "2023-01-22 23:59:33           21.309483  1.001629        0.0   \n",
       "2023-01-22 23:59:42           21.309383  1.001629        0.0   \n",
       "2023-01-22 23:59:50           21.309317  1.001629        0.0   \n",
       "2023-01-22 23:59:58           21.309150  1.001629        0.0   \n",
       "\n",
       "                     2F0000000D5EC73A_Raw_X  2F0000000D5EC73A_Raw_Y  \\\n",
       "Datetime                                                              \n",
       "2023-01-16 08:59:14                135204.0                322328.0   \n",
       "2023-01-16 08:59:22                141441.0                320305.0   \n",
       "2023-01-16 08:59:30                147215.0                318007.0   \n",
       "2023-01-16 08:59:38                153200.0                315641.0   \n",
       "2023-01-16 08:59:46                159215.0                313148.0   \n",
       "...                                     ...                     ...   \n",
       "2023-01-22 23:59:25                 30025.0                127458.0   \n",
       "2023-01-22 23:59:33                 32719.0                127239.0   \n",
       "2023-01-22 23:59:42                 35348.0                126992.0   \n",
       "2023-01-22 23:59:50                 37958.0                126679.0   \n",
       "2023-01-22 23:59:58                 40632.0                126351.0   \n",
       "\n",
       "                     2F0000000D5EC73A_Raw_Z  2F0000000D5EC73A_Raw_T  \\\n",
       "Datetime                                                              \n",
       "2023-01-16 08:59:14              -2787348.0                 20148.0   \n",
       "2023-01-16 08:59:22              -2787386.0                 20143.0   \n",
       "2023-01-16 08:59:30              -2787392.0                 20143.0   \n",
       "2023-01-16 08:59:38              -2787264.0                 20143.0   \n",
       "2023-01-16 08:59:46              -2787195.0                 20137.0   \n",
       "...                                     ...                     ...   \n",
       "2023-01-22 23:59:25              -2785324.0                 34816.0   \n",
       "2023-01-22 23:59:33              -2785339.0                 34826.0   \n",
       "2023-01-22 23:59:42              -2785248.0                 34829.0   \n",
       "2023-01-22 23:59:50              -2785366.0                 34822.0   \n",
       "2023-01-22 23:59:58              -2785343.0                 34821.0   \n",
       "\n",
       "                     2F0000000D5EC73A_Cal_X  ...  2F0000000D5EC73A_Cal_Bmag  \\\n",
       "Datetime                                     ...                              \n",
       "2023-01-16 08:59:14                0.994923  ...                   1.002053   \n",
       "2023-01-16 08:59:22                0.994960  ...                   1.002093   \n",
       "2023-01-16 08:59:30                0.994988  ...                   1.002112   \n",
       "2023-01-16 08:59:38                0.994971  ...                   1.002091   \n",
       "2023-01-16 08:59:46                0.994972  ...                   1.002089   \n",
       "...                                     ...  ...                        ...   \n",
       "2023-01-22 23:59:25                1.000731  ...                   1.001657   \n",
       "2023-01-22 23:59:33                1.000748  ...                   1.001667   \n",
       "2023-01-22 23:59:42                1.000725  ...                   1.001638   \n",
       "2023-01-22 23:59:50                1.000772  ...                   1.001678   \n",
       "2023-01-22 23:59:58                1.000771  ...                   1.001673   \n",
       "\n",
       "                     2F0000000D5EC73A_Cal_Theta  2F0000000D5EC73A_Cal_Phi  \\\n",
       "Datetime                                                                    \n",
       "2023-01-16 08:59:14                    1.608186                  0.113380   \n",
       "2023-01-16 08:59:22                    1.610457                  0.112633   \n",
       "2023-01-16 08:59:30                    1.612554                  0.111789   \n",
       "2023-01-16 08:59:38                    1.614731                  0.110926   \n",
       "2023-01-16 08:59:46                    1.616916                  0.110013   \n",
       "...                                         ...                       ...   \n",
       "2023-01-22 23:59:25                    1.567154                  0.042849   \n",
       "2023-01-22 23:59:33                    1.568150                  0.042762   \n",
       "2023-01-22 23:59:42                    1.569122                  0.042668   \n",
       "2023-01-22 23:59:50                    1.570085                  0.042546   \n",
       "2023-01-22 23:59:58                    1.571072                  0.042420   \n",
       "\n",
       "                     2F0000000D5EC73A_Cal_Theta2  2F0000000D5EC73A_Cal_Phi2  \\\n",
       "Datetime                                                                      \n",
       "2023-01-16 08:59:14                     0.119361                  -0.319321   \n",
       "2023-01-16 08:59:22                     0.119384                  -0.339391   \n",
       "2023-01-16 08:59:30                     0.119303                  -0.358366   \n",
       "2023-01-16 08:59:38                     0.119276                  -0.378042   \n",
       "2023-01-16 08:59:46                     0.119253                  -0.397939   \n",
       "...                                          ...                        ...   \n",
       "2023-01-22 23:59:25                     0.043003                   0.084832   \n",
       "2023-01-22 23:59:33                     0.042844                   0.061826   \n",
       "2023-01-22 23:59:42                     0.042700                   0.039234   \n",
       "2023-01-22 23:59:50                     0.042552                   0.016733   \n",
       "2023-01-22 23:59:58                     0.042421                  -0.006492   \n",
       "\n",
       "                     Magnet Resistance [Ohm]  Coil Resistance [Ohm]  \\\n",
       "Datetime                                                              \n",
       "2023-01-16 08:59:14                 0.117398               0.234796   \n",
       "2023-01-16 08:59:22                 0.117398               0.234796   \n",
       "2023-01-16 08:59:30                 0.117397               0.234795   \n",
       "2023-01-16 08:59:38                 0.117397               0.234794   \n",
       "2023-01-16 08:59:46                 0.117396               0.234792   \n",
       "...                                      ...                    ...   \n",
       "2023-01-22 23:59:25                 0.118037               0.236074   \n",
       "2023-01-22 23:59:33                 0.118037               0.236074   \n",
       "2023-01-22 23:59:42                 0.118036               0.236072   \n",
       "2023-01-22 23:59:50                 0.118036               0.236072   \n",
       "2023-01-22 23:59:58                 0.118035               0.236070   \n",
       "\n",
       "                     Magnet Power [W]  SmarAct_Meas_Angle_1_Centered  \\\n",
       "Datetime                                                               \n",
       "2023-01-16 08:59:14       3826.206254                      -9.499997   \n",
       "2023-01-16 08:59:22       3826.211071                      -9.500027   \n",
       "2023-01-16 08:59:30       3826.189402                      -9.500005   \n",
       "2023-01-16 08:59:38       3826.171956                      -9.499996   \n",
       "2023-01-16 08:59:46       3826.150894                      -9.500003   \n",
       "...                               ...                            ...   \n",
       "2023-01-22 23:59:25       3847.061951                      -4.999999   \n",
       "2023-01-22 23:59:33       3847.055934                      -5.000015   \n",
       "2023-01-22 23:59:42       3847.040295                      -5.000022   \n",
       "2023-01-22 23:59:50       3847.028260                      -4.999969   \n",
       "2023-01-22 23:59:58       3846.996964                      -5.000009   \n",
       "\n",
       "                     SmarAct_Meas_Angle_2_Centered  \n",
       "Datetime                                            \n",
       "2023-01-16 08:59:14                    -179.000005  \n",
       "2023-01-16 08:59:22                    -177.999993  \n",
       "2023-01-16 08:59:30                    -177.000000  \n",
       "2023-01-16 08:59:38                    -176.000001  \n",
       "2023-01-16 08:59:46                    -175.000004  \n",
       "...                                            ...  \n",
       "2023-01-22 23:59:25                     172.999997  \n",
       "2023-01-22 23:59:33                     174.000002  \n",
       "2023-01-22 23:59:42                     174.999999  \n",
       "2023-01-22 23:59:50                     176.000005  \n",
       "2023-01-22 23:59:58                     176.999997  \n",
       "\n",
       "[50895 rows x 35 columns]"
      ]
     },
     "execution_count": 14,
     "metadata": {},
     "output_type": "execute_result"
    }
   ],
   "source": [
    "df"
   ]
  },
  {
   "cell_type": "code",
   "execution_count": 15,
   "metadata": {},
   "outputs": [],
   "source": [
    "smar_cols = [c for c in df.columns if \"SmarAct\" in c]"
   ]
  },
  {
   "cell_type": "code",
   "execution_count": 16,
   "metadata": {},
   "outputs": [
    {
     "data": {
      "text/html": [
       "<div>\n",
       "<style scoped>\n",
       "    .dataframe tbody tr th:only-of-type {\n",
       "        vertical-align: middle;\n",
       "    }\n",
       "\n",
       "    .dataframe tbody tr th {\n",
       "        vertical-align: top;\n",
       "    }\n",
       "\n",
       "    .dataframe thead th {\n",
       "        text-align: right;\n",
       "    }\n",
       "</style>\n",
       "<table border=\"1\" class=\"dataframe\">\n",
       "  <thead>\n",
       "    <tr style=\"text-align: right;\">\n",
       "      <th></th>\n",
       "      <th>SmarAct_Pattern_Angle_1</th>\n",
       "      <th>SmarAct_Pattern_Angle_2</th>\n",
       "      <th>SmarAct_Meas_Angle_1</th>\n",
       "      <th>SmarAct_Meas_Rotation_Angle_1</th>\n",
       "      <th>SmarAct_Meas_Angle_2</th>\n",
       "      <th>SmarAct_Meas_Rotation_Angle_2</th>\n",
       "      <th>SmarAct_Meas_Angle_1_Centered</th>\n",
       "      <th>SmarAct_Meas_Angle_2_Centered</th>\n",
       "    </tr>\n",
       "    <tr>\n",
       "      <th>Datetime</th>\n",
       "      <th></th>\n",
       "      <th></th>\n",
       "      <th></th>\n",
       "      <th></th>\n",
       "      <th></th>\n",
       "      <th></th>\n",
       "      <th></th>\n",
       "      <th></th>\n",
       "    </tr>\n",
       "  </thead>\n",
       "  <tbody>\n",
       "    <tr>\n",
       "      <th>2023-01-16 08:59:14</th>\n",
       "      <td>-7.5</td>\n",
       "      <td>-179.0</td>\n",
       "      <td>350.500003</td>\n",
       "      <td>-1.0</td>\n",
       "      <td>180.999995</td>\n",
       "      <td>-1.0</td>\n",
       "      <td>-9.499997</td>\n",
       "      <td>-179.000005</td>\n",
       "    </tr>\n",
       "    <tr>\n",
       "      <th>2023-01-16 08:59:22</th>\n",
       "      <td>-7.5</td>\n",
       "      <td>-178.0</td>\n",
       "      <td>350.499973</td>\n",
       "      <td>-1.0</td>\n",
       "      <td>182.000007</td>\n",
       "      <td>-1.0</td>\n",
       "      <td>-9.500027</td>\n",
       "      <td>-177.999993</td>\n",
       "    </tr>\n",
       "    <tr>\n",
       "      <th>2023-01-16 08:59:30</th>\n",
       "      <td>-7.5</td>\n",
       "      <td>-177.0</td>\n",
       "      <td>350.499995</td>\n",
       "      <td>-1.0</td>\n",
       "      <td>183.000000</td>\n",
       "      <td>-1.0</td>\n",
       "      <td>-9.500005</td>\n",
       "      <td>-177.000000</td>\n",
       "    </tr>\n",
       "    <tr>\n",
       "      <th>2023-01-16 08:59:38</th>\n",
       "      <td>-7.5</td>\n",
       "      <td>-176.0</td>\n",
       "      <td>350.500004</td>\n",
       "      <td>-1.0</td>\n",
       "      <td>183.999999</td>\n",
       "      <td>-1.0</td>\n",
       "      <td>-9.499996</td>\n",
       "      <td>-176.000001</td>\n",
       "    </tr>\n",
       "    <tr>\n",
       "      <th>2023-01-16 08:59:46</th>\n",
       "      <td>-7.5</td>\n",
       "      <td>-175.0</td>\n",
       "      <td>350.499997</td>\n",
       "      <td>-1.0</td>\n",
       "      <td>184.999996</td>\n",
       "      <td>-1.0</td>\n",
       "      <td>-9.500003</td>\n",
       "      <td>-175.000004</td>\n",
       "    </tr>\n",
       "    <tr>\n",
       "      <th>...</th>\n",
       "      <td>...</td>\n",
       "      <td>...</td>\n",
       "      <td>...</td>\n",
       "      <td>...</td>\n",
       "      <td>...</td>\n",
       "      <td>...</td>\n",
       "      <td>...</td>\n",
       "      <td>...</td>\n",
       "    </tr>\n",
       "    <tr>\n",
       "      <th>2023-01-22 23:59:25</th>\n",
       "      <td>-3.0</td>\n",
       "      <td>173.0</td>\n",
       "      <td>355.000001</td>\n",
       "      <td>-1.0</td>\n",
       "      <td>172.999997</td>\n",
       "      <td>0.0</td>\n",
       "      <td>-4.999999</td>\n",
       "      <td>172.999997</td>\n",
       "    </tr>\n",
       "    <tr>\n",
       "      <th>2023-01-22 23:59:33</th>\n",
       "      <td>-3.0</td>\n",
       "      <td>174.0</td>\n",
       "      <td>354.999985</td>\n",
       "      <td>-1.0</td>\n",
       "      <td>174.000002</td>\n",
       "      <td>0.0</td>\n",
       "      <td>-5.000015</td>\n",
       "      <td>174.000002</td>\n",
       "    </tr>\n",
       "    <tr>\n",
       "      <th>2023-01-22 23:59:42</th>\n",
       "      <td>-3.0</td>\n",
       "      <td>175.0</td>\n",
       "      <td>354.999978</td>\n",
       "      <td>-1.0</td>\n",
       "      <td>174.999999</td>\n",
       "      <td>0.0</td>\n",
       "      <td>-5.000022</td>\n",
       "      <td>174.999999</td>\n",
       "    </tr>\n",
       "    <tr>\n",
       "      <th>2023-01-22 23:59:50</th>\n",
       "      <td>-3.0</td>\n",
       "      <td>176.0</td>\n",
       "      <td>355.000031</td>\n",
       "      <td>-1.0</td>\n",
       "      <td>176.000005</td>\n",
       "      <td>0.0</td>\n",
       "      <td>-4.999969</td>\n",
       "      <td>176.000005</td>\n",
       "    </tr>\n",
       "    <tr>\n",
       "      <th>2023-01-22 23:59:58</th>\n",
       "      <td>-3.0</td>\n",
       "      <td>177.0</td>\n",
       "      <td>354.999991</td>\n",
       "      <td>-1.0</td>\n",
       "      <td>176.999997</td>\n",
       "      <td>0.0</td>\n",
       "      <td>-5.000009</td>\n",
       "      <td>176.999997</td>\n",
       "    </tr>\n",
       "  </tbody>\n",
       "</table>\n",
       "<p>50895 rows × 8 columns</p>\n",
       "</div>"
      ],
      "text/plain": [
       "                     SmarAct_Pattern_Angle_1  SmarAct_Pattern_Angle_2  \\\n",
       "Datetime                                                                \n",
       "2023-01-16 08:59:14                     -7.5                   -179.0   \n",
       "2023-01-16 08:59:22                     -7.5                   -178.0   \n",
       "2023-01-16 08:59:30                     -7.5                   -177.0   \n",
       "2023-01-16 08:59:38                     -7.5                   -176.0   \n",
       "2023-01-16 08:59:46                     -7.5                   -175.0   \n",
       "...                                      ...                      ...   \n",
       "2023-01-22 23:59:25                     -3.0                    173.0   \n",
       "2023-01-22 23:59:33                     -3.0                    174.0   \n",
       "2023-01-22 23:59:42                     -3.0                    175.0   \n",
       "2023-01-22 23:59:50                     -3.0                    176.0   \n",
       "2023-01-22 23:59:58                     -3.0                    177.0   \n",
       "\n",
       "                     SmarAct_Meas_Angle_1  SmarAct_Meas_Rotation_Angle_1  \\\n",
       "Datetime                                                                   \n",
       "2023-01-16 08:59:14            350.500003                           -1.0   \n",
       "2023-01-16 08:59:22            350.499973                           -1.0   \n",
       "2023-01-16 08:59:30            350.499995                           -1.0   \n",
       "2023-01-16 08:59:38            350.500004                           -1.0   \n",
       "2023-01-16 08:59:46            350.499997                           -1.0   \n",
       "...                                   ...                            ...   \n",
       "2023-01-22 23:59:25            355.000001                           -1.0   \n",
       "2023-01-22 23:59:33            354.999985                           -1.0   \n",
       "2023-01-22 23:59:42            354.999978                           -1.0   \n",
       "2023-01-22 23:59:50            355.000031                           -1.0   \n",
       "2023-01-22 23:59:58            354.999991                           -1.0   \n",
       "\n",
       "                     SmarAct_Meas_Angle_2  SmarAct_Meas_Rotation_Angle_2  \\\n",
       "Datetime                                                                   \n",
       "2023-01-16 08:59:14            180.999995                           -1.0   \n",
       "2023-01-16 08:59:22            182.000007                           -1.0   \n",
       "2023-01-16 08:59:30            183.000000                           -1.0   \n",
       "2023-01-16 08:59:38            183.999999                           -1.0   \n",
       "2023-01-16 08:59:46            184.999996                           -1.0   \n",
       "...                                   ...                            ...   \n",
       "2023-01-22 23:59:25            172.999997                            0.0   \n",
       "2023-01-22 23:59:33            174.000002                            0.0   \n",
       "2023-01-22 23:59:42            174.999999                            0.0   \n",
       "2023-01-22 23:59:50            176.000005                            0.0   \n",
       "2023-01-22 23:59:58            176.999997                            0.0   \n",
       "\n",
       "                     SmarAct_Meas_Angle_1_Centered  \\\n",
       "Datetime                                             \n",
       "2023-01-16 08:59:14                      -9.499997   \n",
       "2023-01-16 08:59:22                      -9.500027   \n",
       "2023-01-16 08:59:30                      -9.500005   \n",
       "2023-01-16 08:59:38                      -9.499996   \n",
       "2023-01-16 08:59:46                      -9.500003   \n",
       "...                                            ...   \n",
       "2023-01-22 23:59:25                      -4.999999   \n",
       "2023-01-22 23:59:33                      -5.000015   \n",
       "2023-01-22 23:59:42                      -5.000022   \n",
       "2023-01-22 23:59:50                      -4.999969   \n",
       "2023-01-22 23:59:58                      -5.000009   \n",
       "\n",
       "                     SmarAct_Meas_Angle_2_Centered  \n",
       "Datetime                                            \n",
       "2023-01-16 08:59:14                    -179.000005  \n",
       "2023-01-16 08:59:22                    -177.999993  \n",
       "2023-01-16 08:59:30                    -177.000000  \n",
       "2023-01-16 08:59:38                    -176.000001  \n",
       "2023-01-16 08:59:46                    -175.000004  \n",
       "...                                            ...  \n",
       "2023-01-22 23:59:25                     172.999997  \n",
       "2023-01-22 23:59:33                     174.000002  \n",
       "2023-01-22 23:59:42                     174.999999  \n",
       "2023-01-22 23:59:50                     176.000005  \n",
       "2023-01-22 23:59:58                     176.999997  \n",
       "\n",
       "[50895 rows x 8 columns]"
      ]
     },
     "execution_count": 16,
     "metadata": {},
     "output_type": "execute_result"
    }
   ],
   "source": [
    "df[smar_cols]"
   ]
  },
  {
   "cell_type": "markdown",
   "metadata": {
    "jp-MarkdownHeadingCollapsed": true
   },
   "source": [
    "# Exploratory Plotting"
   ]
  },
  {
   "cell_type": "markdown",
   "metadata": {},
   "source": [
    "## Basics"
   ]
  },
  {
   "cell_type": "markdown",
   "metadata": {},
   "source": [
    "- 2023-01-09 20:33:52 **Please adjust to have same x axes!!**"
   ]
  },
  {
   "cell_type": "code",
   "execution_count": null,
   "metadata": {},
   "outputs": [],
   "source": [
    "'''\n",
    "#t0_ = '01-09-23 11:50' # magnet on\n",
    "#tf_ = '01-09-23 12:20' # coarse scan end\n",
    "t0_ = '01-09-23 20:29' # finer scan start\n",
    "#tf_ = '01-11-23 00:00' # PLACEHOLDER\n",
    "##tf_ = '01-10-23 11:45:22' # magnet tripped during finer scan\n",
    "tf_ = '01-10-23 11:45:10' # magnet tripped during finer scan\n",
    "df_ = df.query(f\"'{t0_}' <= Datetime <= '{tf_}'\").copy()\n",
    "# df_t_ = df_t.query(f\"'{t0_}' <= Datetime <= '{tf_}'\").copy()\n",
    "df_t_ = df_temp.query(f\"'{t0_}' <= Datetime <= '{tf_}'\").copy()\n",
    "'''\n",
    "\n",
    "df_ = df.copy()\n",
    "df_t_ = df_temp.copy()\n",
    "\n",
    "fig = plt.figure(figsize=(14, 16))\n",
    "##ax = plt.subplot(211)\n",
    "ax = plt.axes([0.1, 0.4, 0.8, 0.5])\n",
    "#ax2 = plt.subplot(212, sharex=ax)\n",
    "ax2 = ax.twinx()\n",
    "ax3 = plt.axes([0.1, 0.1, 0.8, 0.25])\n",
    "##ax3 = plt.subplot(212, sharex=ax)\n",
    "ax4 = ax3.twinx()\n",
    "df_[f'{probe}_Cal_Bmag'].plot(ax=ax, color='blue')\n",
    "# df_[f'{probe}_Raw_Bmag'].plot(ax=ax, color='blue')\n",
    "df_t_['NMR [T]'].plot(ax=ax2, color='red')\n",
    "df_['SmarAct_Meas_Angle_2_Centered'].plot(ax=ax3, color='black', linestyle='None', marker='.')\n",
    "df_['SmarAct_Meas_Angle_1_Centered'].plot(ax=ax4, color='green', linestyle='None', marker='.')\n",
    "ax.set_ylabel(f'Hall probe |B| [T]')\n",
    "ax.yaxis.label.set_color('blue')\n",
    "ax2.set_ylabel(f'NMR |B| [T]')\n",
    "ax2.yaxis.label.set_color('red')\n",
    "ax3.set_ylabel('SmarAct Angle 2 [Rad], centered')\n",
    "ax4.set_ylabel('SmarAct Angle 1 [Rad], centered')\n",
    "ax3.yaxis.label.set_color('black')\n",
    "ax4.yaxis.label.set_color('green')\n",
    "ax.set_title(f\"|B| Comparisons for Hall Probe: {probe}\\n\")"
   ]
  },
  {
   "cell_type": "code",
   "execution_count": null,
   "metadata": {},
   "outputs": [],
   "source": [
    "df_.tail()"
   ]
  },
  {
   "cell_type": "code",
   "execution_count": null,
   "metadata": {},
   "outputs": [],
   "source": [
    "temps_list = list(df_temp.columns)\n",
    "[temps_list.remove(i) for i in ['Time', 'Magnet Current [A]', 'Magnet Voltage [V]', 'NMR [T]', 'NMR [FFT]', 'seconds_delta', 'hours_delta', 'days_delta']]"
   ]
  },
  {
   "cell_type": "code",
   "execution_count": null,
   "metadata": {},
   "outputs": [],
   "source": [
    "#temps_list"
   ]
  },
  {
   "cell_type": "code",
   "execution_count": null,
   "metadata": {},
   "outputs": [],
   "source": [
    "len(temps_list)"
   ]
  },
  {
   "cell_type": "code",
   "execution_count": null,
   "metadata": {},
   "outputs": [],
   "source": [
    "fig, ax = plt.subplots(figsize=(18, 8))\n",
    "\n",
    "for c in temps_list[:20]:\n",
    "    ax.plot(df_temp.index, df_temp[c], label=c)\n",
    "    \n",
    "ax.set_xlabel('Datetime')\n",
    "ax.set_ylabel('Temp [deg C]')\n",
    "ax.legend(ncol=3, bbox_to_anchor=(1., 1.), loc='upper left');"
   ]
  },
  {
   "cell_type": "code",
   "execution_count": null,
   "metadata": {},
   "outputs": [],
   "source": [
    "fig, ax = plt.subplots(figsize=(18, 8))\n",
    "\n",
    "for c in temps_list[20:]:\n",
    "    ax.plot(df_temp.index, df_temp[c], label=c)\n",
    "    \n",
    "ax.set_xlabel('Datetime')\n",
    "ax.set_ylabel('Temp [deg C]')\n",
    "ax.legend(ncol=3, bbox_to_anchor=(1., 1.), loc='upper left');"
   ]
  },
  {
   "cell_type": "code",
   "execution_count": null,
   "metadata": {},
   "outputs": [],
   "source": [
    "#temps_list"
   ]
  },
  {
   "cell_type": "code",
   "execution_count": null,
   "metadata": {},
   "outputs": [],
   "source": [
    "# only in the chamber\n",
    "temps_ch = [a for a in df.columns if (\"CH\" in a) and int(a[-2:])<21]# or \"HVAC\" in a]\n",
    "temps_ch.append(\"Hall Element\")\n",
    "temps_ch.append(\"Floor\")\n",
    "temps_ch.append(\"Roof\")\n",
    "temps_ch.append(\"Yoke (center magnet)\")\n",
    "temps_ch.append(\"Yoke (near pole)\")"
   ]
  },
  {
   "cell_type": "code",
   "execution_count": null,
   "metadata": {},
   "outputs": [],
   "source": [
    "fig, ax = plt.subplots(figsize=(18, 8))\n",
    "\n",
    "for c in temps_ch:\n",
    "    ax.plot(df_temp.index, df_temp[c], label=c)\n",
    "\n",
    "ax.plot(df.index, df[f'{probe}_Cal_T'], label=f'{probe}')\n",
    "    \n",
    "ax.set_xlabel('Datetime')\n",
    "ax.set_ylabel('Temp [deg C]')\n",
    "ax.legend(ncol=1, bbox_to_anchor=(1., 1.), loc='upper left');"
   ]
  },
  {
   "cell_type": "code",
   "execution_count": null,
   "metadata": {},
   "outputs": [],
   "source": [
    "for a in ['1', '2']:\n",
    "    fig, ax = plt.subplots()\n",
    "\n",
    "    ax.scatter(df[f'SmarAct_Meas_Angle_{a}_Centered'], df[f'{probe}_Cal_T'], s=1)\n",
    "\n",
    "    ax.set_xlabel(f'SmarAct {a} [rad] centered')\n",
    "    ax.set_ylabel(f'{probe}_Cal_T [deg C]');"
   ]
  },
  {
   "cell_type": "code",
   "execution_count": null,
   "metadata": {},
   "outputs": [],
   "source": [
    "#q_str = '\"01-20-23 09:00\" < Datetime < \"01-01-24\"'\n",
    "q_str = '`NMR [T]` > 0'\n",
    "df_temp_ = df_temp.query(q_str).copy()\n",
    "df_hp_ = df.query(q_str).copy()\n",
    "\n",
    "\n",
    "fig, ax = plt.subplots(figsize=(18, 8))\n",
    "\n",
    "for c in temps_ch:\n",
    "    ax.plot(df_temp_.index, df_temp_[c], label=c)\n",
    "\n",
    "ax.plot(df_hp_.index, df_hp_[f'{probe}_Cal_T'], label=f'{probe}')\n",
    "    \n",
    "ax.set_xlabel('Datetime')\n",
    "ax.set_ylabel('Temp [deg C]')\n",
    "ax.legend(ncol=1, bbox_to_anchor=(1., 1.), loc='upper left');"
   ]
  },
  {
   "cell_type": "code",
   "execution_count": null,
   "metadata": {},
   "outputs": [],
   "source": [
    "fig, ax = plt.subplots()\\\n",
    "\n",
    "ax.scatter(df_[f'{probe}_Raw_Bmag'], df_[f'{probe}_Cal_Bmag'], s=1)\n",
    "\n",
    "ax.set_xlabel('|V| [ADC]')\n",
    "ax.set_ylabel('|B| [T]');"
   ]
  },
  {
   "cell_type": "code",
   "execution_count": null,
   "metadata": {},
   "outputs": [],
   "source": [
    "(2.804-2.790) / 2.796"
   ]
  },
  {
   "cell_type": "code",
   "execution_count": null,
   "metadata": {},
   "outputs": [],
   "source": [
    "fig, ax = plt.subplots()\\\n",
    "\n",
    "ax.scatter(df_['NMR [T]'], df_[f'{probe}_Cal_Bmag'], s=1)\n",
    "\n",
    "ax.set_xlabel('NMR [T]')\n",
    "ax.set_ylabel('|B| [T]');"
   ]
  },
  {
   "cell_type": "markdown",
   "metadata": {
    "heading_collapsed": true
   },
   "source": [
    "## Correlations"
   ]
  },
  {
   "cell_type": "code",
   "execution_count": null,
   "metadata": {
    "hidden": true
   },
   "outputs": [],
   "source": [
    "fig, ax = plt.subplots()\n",
    "\n",
    "\n",
    "ax.scatter(df_['SmarAct_Meas_Angle_2_Centered'], df_[f'NMR [T]'], s=1)\n",
    "\n",
    "ax.set_xlabel('SmarAct 2 [rad] centered')\n",
    "ax.set_ylabel('NMR [T]');"
   ]
  },
  {
   "cell_type": "code",
   "execution_count": null,
   "metadata": {
    "hidden": true
   },
   "outputs": [],
   "source": [
    "fig, ax = plt.subplots()\n",
    "\n",
    "\n",
    "ax.scatter(df_['SmarAct_Meas_Angle_1_Centered'], df_[f'NMR [T]'], s=1)\n",
    "\n",
    "ax.set_xlabel('SmarAct 1 [rad] centered')\n",
    "ax.set_ylabel('NMR [T]');"
   ]
  },
  {
   "cell_type": "code",
   "execution_count": null,
   "metadata": {
    "hidden": true
   },
   "outputs": [],
   "source": [
    "fig, ax = plt.subplots()\n",
    "\n",
    "\n",
    "ax.scatter(df_['SmarAct_Meas_Angle_2_Centered'], df_[f'{probe}_Raw_Phi'], s=1)\n",
    "\n",
    "ax.set_ylabel(f'{probe}_Raw_Phi')\n",
    "ax.set_xlabel('SmarAct 2 [rad] centered');"
   ]
  },
  {
   "cell_type": "code",
   "execution_count": null,
   "metadata": {
    "hidden": true
   },
   "outputs": [],
   "source": [
    "fig, ax = plt.subplots()\n",
    "#ax.hist(df_[f'{probe}_Raw_Theta'], bins=75, histtype='step');\n",
    "ax.scatter(df_['days_delta'], df_[f'{probe}_Raw_Theta'], s=1);\n",
    "\n",
    "ax.set_xlabel(f'Time from start (days)')\n",
    "ax.set_ylabel(f'{probe}_Raw_Theta');"
   ]
  },
  {
   "cell_type": "code",
   "execution_count": null,
   "metadata": {
    "hidden": true
   },
   "outputs": [],
   "source": [
    "fig, ax = plt.subplots()\n",
    "#ax.hist(df_[f'{probe}_Raw_Theta'], bins=75, histtype='step');\n",
    "ax.scatter(df_['SmarAct_Meas_Angle_1_Centered'], df_[f'{probe}_Raw_Theta'], s=1);\n",
    "\n",
    "ax.set_xlabel(f'SmarAct 1 [rad] centered')\n",
    "ax.set_ylabel(f'{probe}_Raw_Theta');"
   ]
  },
  {
   "cell_type": "code",
   "execution_count": null,
   "metadata": {
    "hidden": true
   },
   "outputs": [],
   "source": [
    "# check flip of Angle 2 by pi (plate is now upside-down)\n",
    "a2_flipped = np.radians(df_['SmarAct_Meas_Angle_2_Centered']) - np.pi\n",
    "a2_flipped[a2_flipped<-np.pi] = a2_flipped[a2_flipped<-np.pi]+2*np.pi"
   ]
  },
  {
   "cell_type": "code",
   "execution_count": null,
   "metadata": {
    "hidden": true
   },
   "outputs": [],
   "source": [
    "df_.SmarAct_Meas_Angle_1_Centered"
   ]
  },
  {
   "cell_type": "code",
   "execution_count": null,
   "metadata": {
    "hidden": true
   },
   "outputs": [],
   "source": [
    "fig, ax = plt.subplots()\n",
    "\n",
    "#ax.scatter(np.radians(df_['SmarAct_Meas_Angle_2_Centered']), df_[f'{probe}_Raw_Phi'], s=1)\n",
    "#ax.scatter(a2_flipped, df_[f'{probe}_Raw_Phi'], s=1)\n",
    "sc = ax.scatter(a2_flipped, df_[f'{probe}_Raw_Phi'], c=df_.SmarAct_Meas_Angle_1_Centered, s=4)\n",
    "cb = fig.colorbar(sc, label='SmarAct 1 [deg], centered')\n",
    "\n",
    "# zoom in\n",
    "# ax.set_xlim([-np.pi-0.01, -2.0])\n",
    "# ax.set_ylim([-np.pi-0.01, -1.7])\n",
    "# ax.set_xlim([-np.pi-0.01, -3.0])\n",
    "# ax.set_ylim([-2.0, -1.55])\n",
    "\n",
    "# ax.set_xlim([-0.01, 0.01])\n",
    "# ax.set_ylim([1.194, 1.203])\n",
    "\n",
    "# ax.set_xlim([-1., 1.0])\n",
    "# ax.set_ylim([0., 1.8])\n",
    "\n",
    "ax.set_facecolor('gray')\n",
    "\n",
    "ax.set_xlabel(r'(SmarAct 2 [rad] centered)  - $\\pi$, (re-centered)')\n",
    "ax.set_ylabel(f'{probe}_Raw_Phi');"
   ]
  },
  {
   "cell_type": "code",
   "execution_count": null,
   "metadata": {
    "hidden": true
   },
   "outputs": [],
   "source": [
    "# NOT -PI\n",
    "fig, ax = plt.subplots()\n",
    "\n",
    "#ax.scatter(np.radians(df_['SmarAct_Meas_Angle_2_Centered']), df_[f'{probe}_Raw_Phi'], s=1)\n",
    "#ax.scatter(a2_flipped, df_[f'{probe}_Raw_Phi'], s=1)\n",
    "sc = ax.scatter(np.radians(df_.SmarAct_Meas_Angle_2_Centered), df_[f'{probe}_Raw_Phi'], c=df_.SmarAct_Meas_Angle_1_Centered, s=4)\n",
    "cb = fig.colorbar(sc, label='SmarAct 1 [deg], centered')\n",
    "\n",
    "# zoom in\n",
    "# ax.set_xlim([-np.pi-0.01, -2.0])\n",
    "# ax.set_ylim([-np.pi-0.01, -1.7])\n",
    "# ax.set_xlim([-np.pi-0.01, -3.0])\n",
    "# ax.set_ylim([-2.0, -1.55])\n",
    "\n",
    "# ax.set_xlim([-0.01, 0.01])\n",
    "# ax.set_ylim([1.194, 1.203])\n",
    "\n",
    "ax.set_facecolor('gray')\n",
    "\n",
    "ax.set_xlabel(r'(SmarAct 2 [rad] centered)  - $\\pi$, (re-centered)')\n",
    "ax.set_ylabel(f'{probe}_Raw_Phi');"
   ]
  },
  {
   "cell_type": "code",
   "execution_count": null,
   "metadata": {
    "hidden": true
   },
   "outputs": [],
   "source": [
    "df_.SmarAct_Meas_Angle_1_Centered.round(1).unique()"
   ]
  },
  {
   "cell_type": "code",
   "execution_count": null,
   "metadata": {
    "hidden": true
   },
   "outputs": [],
   "source": [
    "len(df_.SmarAct_Meas_Angle_1_Centered.round(1).unique())"
   ]
  },
  {
   "cell_type": "markdown",
   "metadata": {
    "hidden": true
   },
   "source": [
    "- This seems to match the previous results from a finer scan."
   ]
  },
  {
   "cell_type": "code",
   "execution_count": null,
   "metadata": {
    "hidden": true
   },
   "outputs": [],
   "source": [
    "df_.SmarAct_Meas_Angle_1_Centered"
   ]
  },
  {
   "cell_type": "code",
   "execution_count": null,
   "metadata": {
    "hidden": true
   },
   "outputs": [],
   "source": [
    "df_.SmarAct_Meas_Angle_1"
   ]
  },
  {
   "cell_type": "code",
   "execution_count": null,
   "metadata": {
    "hidden": true
   },
   "outputs": [],
   "source": [
    "fig, ax = plt.subplots()\n",
    "\n",
    "\n",
    "ax.scatter(df_['SmarAct_Meas_Angle_1_Centered'], df_[f'{probe}_Raw_Z'], s=1)\n",
    "\n",
    "ax.set_xlabel('SmarAct 1 [rad] centered')\n",
    "ax.set_ylabel(f'{probe}_Raw_Z');"
   ]
  },
  {
   "cell_type": "code",
   "execution_count": null,
   "metadata": {
    "hidden": true
   },
   "outputs": [],
   "source": [
    "fig, ax = plt.subplots()\n",
    "ax.hist(df_[f'{probe}_Raw_Theta'], bins=75, histtype='step')\n",
    "ax.set_xlabel(f'{probe}_Raw_Theta');"
   ]
  },
  {
   "cell_type": "code",
   "execution_count": null,
   "metadata": {
    "hidden": true
   },
   "outputs": [],
   "source": [
    "df['2F0000000D5EC73A_Raw_Phi']"
   ]
  },
  {
   "cell_type": "code",
   "execution_count": null,
   "metadata": {
    "hidden": true
   },
   "outputs": [],
   "source": [
    "##### calibrated info"
   ]
  },
  {
   "cell_type": "code",
   "execution_count": null,
   "metadata": {
    "hidden": true
   },
   "outputs": [],
   "source": [
    "fig, ax = plt.subplots()\n",
    "\n",
    "ax.scatter(np.radians(df_['SmarAct_Meas_Angle_1_Centered']), df_[f'{probe}_Cal_Theta2'], s=1);\n",
    "\n",
    "ax.set_xlabel(f'SmarAct 1 [rad] centered')\n",
    "ax.set_ylabel(f'{probe}_Cal_Theta (redef. Cal components)');"
   ]
  },
  {
   "cell_type": "code",
   "execution_count": null,
   "metadata": {
    "hidden": true
   },
   "outputs": [],
   "source": [
    "np.arccos(1.0 / 10.0), np.arccos(-1.0 / 10.0)"
   ]
  },
  {
   "cell_type": "code",
   "execution_count": null,
   "metadata": {
    "hidden": true
   },
   "outputs": [],
   "source": [
    "df_[['2F0000000D5EC73A_Raw_Z', '2F0000000D5EC73A_Cal_X']]"
   ]
  },
  {
   "cell_type": "code",
   "execution_count": null,
   "metadata": {
    "hidden": true
   },
   "outputs": [],
   "source": [
    "df_[['2F0000000D5EC73A_Raw_Y', '2F0000000D5EC73A_Cal_Y']]"
   ]
  },
  {
   "cell_type": "code",
   "execution_count": null,
   "metadata": {
    "hidden": true
   },
   "outputs": [],
   "source": [
    "df_[['2F0000000D5EC73A_Raw_X', '2F0000000D5EC73A_Cal_Z']]"
   ]
  },
  {
   "cell_type": "code",
   "execution_count": null,
   "metadata": {
    "hidden": true
   },
   "outputs": [],
   "source": [
    "df_upside_down = df_[np.isclose(df_.SmarAct_Meas_Angle_2_Centered, -16)]\n",
    "df_pos90 = df_[np.isclose(df_.SmarAct_Meas_Angle_2_Centered, -16+90)]"
   ]
  },
  {
   "cell_type": "code",
   "execution_count": null,
   "metadata": {
    "hidden": true
   },
   "outputs": [],
   "source": [
    "-16+90"
   ]
  },
  {
   "cell_type": "code",
   "execution_count": null,
   "metadata": {
    "hidden": true,
    "scrolled": true
   },
   "outputs": [],
   "source": [
    "for i in ['X', 'Y', 'Z']:\n",
    "    print(i)\n",
    "    print(np.ptp(df_upside_down[f'2F0000000D5EC73A_Cal_{i}']))\n",
    "    fig, ax = plt.subplots()\n",
    "\n",
    "    ax.scatter(df_upside_down.SmarAct_Meas_Angle_1_Centered, df_upside_down[f'2F0000000D5EC73A_Cal_{i}'])\n",
    "\n",
    "    ax.set_xlabel('SmarAct1 [deg]')\n",
    "    ax.set_ylabel(f'Cal {i} [T]')"
   ]
  },
  {
   "cell_type": "code",
   "execution_count": null,
   "metadata": {
    "hidden": true,
    "scrolled": true
   },
   "outputs": [],
   "source": [
    "for i in ['X', 'Y', 'Z']:\n",
    "    print(i)\n",
    "    print(np.ptp(df_pos90[f'2F0000000D5EC73A_Cal_{i}']))\n",
    "    fig, ax = plt.subplots()\n",
    "\n",
    "    ax.scatter(df_pos90.SmarAct_Meas_Angle_1_Centered, df_pos90[f'2F0000000D5EC73A_Cal_{i}'])\n",
    "\n",
    "    ax.set_xlabel('SmarAct1 [deg]')\n",
    "    ax.set_ylabel(f'Cal {i} [T]')"
   ]
  },
  {
   "cell_type": "code",
   "execution_count": null,
   "metadata": {
    "hidden": true,
    "scrolled": true
   },
   "outputs": [],
   "source": [
    "np.radians(-9.5 + 2)"
   ]
  },
  {
   "cell_type": "code",
   "execution_count": null,
   "metadata": {
    "hidden": true
   },
   "outputs": [],
   "source": [
    "np.radians(-16)"
   ]
  },
  {
   "cell_type": "code",
   "execution_count": null,
   "metadata": {
    "hidden": true
   },
   "outputs": [],
   "source": [
    "fig, ax = plt.subplots()\n",
    "\n",
    "ax.scatter(np.radians(df_['SmarAct_Meas_Angle_2_Centered']), df_[f'{probe}_Cal_Phi2'], s=1);\n",
    "ax.plot([-.2793, -.2793], [-np.pi, np.pi], 'r--')\n",
    "\n",
    "ax.set_xlabel(f'SmarAct 2 [rad] centered')\n",
    "ax.set_ylabel(f'{probe}_Cal_Phi (redef. Cal components)');"
   ]
  },
  {
   "cell_type": "code",
   "execution_count": null,
   "metadata": {
    "hidden": true
   },
   "outputs": [],
   "source": [
    "phi2_flipped = df_[f'{probe}_Cal_Phi2']\n",
    "# check flip of Phi2 by pi (plate is now upside-down), or maybe the -theta correction isn't working\n",
    "# phi2_flipped = df_[f'{probe}_Cal_Phi2'] - np.pi\n",
    "# phi2_flipped[phi2_flipped<-np.pi] = phi2_flipped[phi2_flipped<-np.pi]+2*np.pi"
   ]
  },
  {
   "cell_type": "code",
   "execution_count": null,
   "metadata": {
    "hidden": true
   },
   "outputs": [],
   "source": [
    "fig, ax = plt.subplots()\n",
    "\n",
    "ax.scatter(-np.radians(df_['SmarAct_Meas_Angle_2_Centered']), phi2_flipped, s=1);\n",
    "ax.plot([.2793, .2793], [-np.pi, np.pi], 'r--')\n",
    "\n",
    "ax.set_xlabel(f'- SmarAct 2 [rad] centered')\n",
    "ax.set_ylabel(fr'{probe}_Cal_Phi (redef. Cal components)') #, -$\\pi$ and recentered');"
   ]
  },
  {
   "cell_type": "code",
   "execution_count": null,
   "metadata": {
    "hidden": true
   },
   "outputs": [],
   "source": [
    "# th0 = -2.0\n",
    "th0 = -1.8\n",
    "\n",
    "fig, ax = plt.subplots()\n",
    "\n",
    "ax.scatter(-np.radians(df_['SmarAct_Meas_Angle_1_Centered']-th0), df_[f'{probe}_Cal_Theta2'], s=1);\n",
    "\n",
    "ax.plot([0.0, 0.15], [0.0, 0.15], 'r--')\n",
    "\n",
    "ax.set_xlabel(f'-(SmarAct 1 [rad] centered + rad({-th0} deg))')\n",
    "ax.set_ylabel(f'{probe}_Cal_Theta (redef. Cal components)');"
   ]
  },
  {
   "cell_type": "code",
   "execution_count": null,
   "metadata": {
    "hidden": true
   },
   "outputs": [],
   "source": [
    "np.radians(-1.8)"
   ]
  },
  {
   "cell_type": "code",
   "execution_count": null,
   "metadata": {
    "hidden": true
   },
   "outputs": [],
   "source": [
    "fig, ax = plt.subplots()\n",
    "\n",
    "ax.scatter(np.radians(df_['SmarAct_Meas_Angle_2_Centered']), df_[f'{probe}_Cal_Theta'], s=1);\n",
    "\n",
    "ax.set_xlabel(f'SmarAct 2 [rad] centered')\n",
    "ax.set_ylabel(f'{probe}_Cal_Theta');"
   ]
  },
  {
   "cell_type": "code",
   "execution_count": null,
   "metadata": {
    "hidden": true
   },
   "outputs": [],
   "source": []
  },
  {
   "cell_type": "markdown",
   "metadata": {},
   "source": [
    "# Analysis 1: Using Cal Values (a.k.a.  Assessing Bergsma Calibration)"
   ]
  },
  {
   "cell_type": "markdown",
   "metadata": {},
   "source": [
    "## Pole-to-Pole"
   ]
  },
  {
   "attachments": {
    "image.png": {
     "image/png": "[encoded data removed]"
    }
   },
   "cell_type": "markdown",
   "metadata": {},
   "source": [
    "- Preliminary results from June 2022:\n",
    "![image.png](attachment:image.png)"
   ]
  },
  {
   "cell_type": "code",
   "execution_count": 17,
   "metadata": {},
   "outputs": [
    {
     "ename": "NameError",
     "evalue": "name 'df_' is not defined",
     "output_type": "error",
     "traceback": [
      "\u001b[0;31m---------------------------------------------------------------------------\u001b[0m",
      "\u001b[0;31mNameError\u001b[0m                                 Traceback (most recent call last)",
      "Input \u001b[0;32mIn [17]\u001b[0m, in \u001b[0;36m<cell line: 1>\u001b[0;34m()\u001b[0m\n\u001b[0;32m----> 1\u001b[0m \u001b[43mdf_\u001b[49m[\u001b[38;5;124m'\u001b[39m\u001b[38;5;124mMagnet Current [A]\u001b[39m\u001b[38;5;124m'\u001b[39m]\n",
      "\u001b[0;31mNameError\u001b[0m: name 'df_' is not defined"
     ]
    }
   ],
   "source": [
    "df_['Magnet Current [A]']"
   ]
  },
  {
   "cell_type": "code",
   "execution_count": 18,
   "metadata": {},
   "outputs": [],
   "source": [
    "# FIXME!\n",
    "# using a fixed value for a quick approximation\n",
    "BHall_on_BNMR = 0.99976\n",
    "# BHall_on_BNMR = 0.9998 # test based on NMR not in exact Hall probe location for V vs. B, T\n",
    "B_Hall_NMR = BHall_on_BNMR * df['NMR [T]'].values"
   ]
  },
  {
   "cell_type": "code",
   "execution_count": 19,
   "metadata": {},
   "outputs": [
    {
     "data": {
      "text/plain": [
       "array([1.00182141, 1.00182139, 1.00182137, ..., 1.00138823, 1.00138823,\n",
       "       1.00138823])"
      ]
     },
     "execution_count": 19,
     "metadata": {},
     "output_type": "execute_result"
    }
   ],
   "source": [
    "B_Hall_NMR"
   ]
  },
  {
   "cell_type": "code",
   "execution_count": 20,
   "metadata": {},
   "outputs": [],
   "source": [
    "df.loc[:, 'B_Hall_NMR'] = B_Hall_NMR"
   ]
  },
  {
   "cell_type": "code",
   "execution_count": 21,
   "metadata": {},
   "outputs": [
    {
     "data": {
      "text/plain": [
       "count    5.089500e+04\n",
       "mean    -2.405286e-04\n",
       "std      7.145305e-08\n",
       "min     -2.406029e-04\n",
       "25%     -2.406022e-04\n",
       "50%     -2.404955e-04\n",
       "75%     -2.404951e-04\n",
       "max     -2.403908e-04\n",
       "dtype: float64"
      ]
     },
     "execution_count": 21,
     "metadata": {},
     "output_type": "execute_result"
    }
   ],
   "source": [
    "(df['B_Hall_NMR'] - df['NMR [T]']).describe()"
   ]
  },
  {
   "cell_type": "code",
   "execution_count": null,
   "metadata": {},
   "outputs": [],
   "source": []
  },
  {
   "cell_type": "markdown",
   "metadata": {
    "heading_collapsed": true
   },
   "source": [
    "## Assign better axis labels"
   ]
  },
  {
   "cell_type": "code",
   "execution_count": 22,
   "metadata": {
    "hidden": true
   },
   "outputs": [],
   "source": [
    "df.loc[:, 'Cal_X'] = df.loc[:, f'{probe}_Cal_Y']\n",
    "df.loc[:, 'Cal_Y'] = df.loc[:, f'{probe}_Cal_Z']\n",
    "df.loc[:, 'Cal_Z'] = df.loc[:, f'{probe}_Cal_X']\n",
    "df.loc[:, 'Cal_Bmag'] = df.loc[:, f'{probe}_Cal_Bmag']\n",
    "# field angles\n",
    "df.loc[:, 'Cal_Trans'] = (df.loc[:, 'Cal_X']**2 + df.loc[:, 'Cal_Y']**2)**(1/2)\n",
    "df.loc[:, 'Cal_Theta'] = np.arctan2(df.loc[:, 'Cal_Trans'], df.loc[:, 'Cal_Bmag'])\n",
    "df.loc[:, 'Cal_Phi'] = np.arctan2(df.loc[:, 'Cal_Y'], df.loc[:, 'Cal_X'])"
   ]
  },
  {
   "cell_type": "code",
   "execution_count": 23,
   "metadata": {
    "hidden": true
   },
   "outputs": [],
   "source": [
    "#t0_ = '01-09-23 20:29' # finer scan start\n",
    "#tf_ = '01-10-23 11:45:10' # magnet tripped during finer scan\n",
    "t0_ = t0\n",
    "tf_ = tf\n",
    "df_ = df.query(f\"'{t0_}' <= Datetime <= '{tf_}'\").copy()\n",
    "# df_t_ = df_t.query(f\"'{t0_}' <= Datetime <= '{tf_}'\").copy()\n",
    "\n",
    "# remove partial line\n",
    "#df_ = df_.query('SmarAct_Meas_Angle_1_Centered < -5.3').copy()\n",
    "#df_ = df_.query('SmarAct_Meas_Angle_1_Centered < 3.4').copy()"
   ]
  },
  {
   "cell_type": "code",
   "execution_count": 24,
   "metadata": {
    "hidden": true
   },
   "outputs": [
    {
     "data": {
      "text/plain": [
       "array([-9.5 , -9.25, -9.  , -8.75, -8.5 , -8.25, -8.  , -7.75, -7.5 ,\n",
       "       -7.25, -7.  , -6.75, -6.5 , -6.25, -6.  , -5.75, -5.5 , -5.25,\n",
       "       -5.  , -4.75, -4.5 , -4.25, -4.  , -3.75, -3.5 , -3.25, -3.  ,\n",
       "       -2.75, -2.5 , -2.25, -2.  , -1.75, -1.5 , -1.25, -1.  , -0.75,\n",
       "       -0.5 , -0.25,  0.  ,  0.25,  0.5 ,  0.75,  1.  ,  1.25,  1.5 ,\n",
       "        1.75,  2.  ,  2.25,  2.5 ,  2.75,  3.  ,  3.25,  3.5 ,  3.75,\n",
       "        4.  ,  4.25,  4.5 ,  4.75,  5.  ,  5.25,  5.5 ])"
      ]
     },
     "execution_count": 24,
     "metadata": {},
     "output_type": "execute_result"
    }
   ],
   "source": [
    "df_.SmarAct_Meas_Angle_1_Centered.round(3).unique()"
   ]
  },
  {
   "cell_type": "markdown",
   "metadata": {
    "heading_collapsed": true
   },
   "source": [
    "## Field Strength"
   ]
  },
  {
   "cell_type": "code",
   "execution_count": 25,
   "metadata": {
    "hidden": true
   },
   "outputs": [
    {
     "data": {
      "text/plain": [
       "Index(['Time', 'Magnet Current [A]', 'Magnet Voltage [V]', 'NMR [T]',\n",
       "       'NMR [FFT]', '2F0000000D5EC73A_Raw_X', '2F0000000D5EC73A_Raw_Y',\n",
       "       '2F0000000D5EC73A_Raw_Z', '2F0000000D5EC73A_Raw_T',\n",
       "       '2F0000000D5EC73A_Cal_X', '2F0000000D5EC73A_Cal_Y',\n",
       "       '2F0000000D5EC73A_Cal_Z', '2F0000000D5EC73A_Cal_T',\n",
       "       'SmarAct_Pattern_Angle_1', 'SmarAct_Pattern_Angle_2',\n",
       "       'SmarAct_Meas_Angle_1', 'SmarAct_Meas_Rotation_Angle_1',\n",
       "       'SmarAct_Meas_Angle_2', 'SmarAct_Meas_Rotation_Angle_2',\n",
       "       'seconds_delta', 'hours_delta', 'days_delta',\n",
       "       '2F0000000D5EC73A_Raw_Bmag', '2F0000000D5EC73A_Raw_Theta',\n",
       "       '2F0000000D5EC73A_Raw_Phi', '2F0000000D5EC73A_Cal_Bmag',\n",
       "       '2F0000000D5EC73A_Cal_Theta', '2F0000000D5EC73A_Cal_Phi',\n",
       "       '2F0000000D5EC73A_Cal_Theta2', '2F0000000D5EC73A_Cal_Phi2',\n",
       "       'Magnet Resistance [Ohm]', 'Coil Resistance [Ohm]', 'Magnet Power [W]',\n",
       "       'SmarAct_Meas_Angle_1_Centered', 'SmarAct_Meas_Angle_2_Centered',\n",
       "       'B_Hall_NMR', 'Cal_X', 'Cal_Y', 'Cal_Z', 'Cal_Bmag', 'Cal_Trans',\n",
       "       'Cal_Theta', 'Cal_Phi'],\n",
       "      dtype='object')"
      ]
     },
     "execution_count": 25,
     "metadata": {},
     "output_type": "execute_result"
    }
   ],
   "source": [
    "df_.columns"
   ]
  },
  {
   "cell_type": "code",
   "execution_count": 26,
   "metadata": {
    "hidden": true
   },
   "outputs": [
    {
     "data": {
      "image/png": "[encoded data removed]",
      "text/plain": [
       "<Figure size 720x576 with 1 Axes>"
      ]
     },
     "metadata": {
      "needs_background": "light"
     },
     "output_type": "display_data"
    }
   ],
   "source": [
    "fig, ax = plt.subplots()\n",
    "\n",
    "x = (df_[f'{probe}_Cal_Bmag']-df_['B_Hall_NMR'])/df_['B_Hall_NMR']\n",
    "xmi = np.min(x)\n",
    "xma = np.max(x)\n",
    "xra = xma-xmi\n",
    "bins = np.linspace(xmi-0.05*xra, xma+0.05*xra, 100)\n",
    "\n",
    "ax.hist(x, histtype='step', bins=bins, label=get_label(x, bins=bins));\n",
    "\n",
    "\n",
    "ax.ticklabel_format(axis='x', style='sci', scilimits=(0,0))\n",
    "\n",
    "ax.set_xlabel(r'$\\frac{|B|_{Hall} - |B|_{NMR}}{|B|_{NMR}}$');\n",
    "ax.legend(loc='upper left', bbox_to_anchor=(1.0,1.0));"
   ]
  },
  {
   "cell_type": "markdown",
   "metadata": {
    "heading_collapsed": true
   },
   "source": [
    "## v1. Reconstruct single coordinate direction (Bz)"
   ]
  },
  {
   "cell_type": "markdown",
   "metadata": {
    "hidden": true
   },
   "source": [
    "### Voltage Function (using same function for calibration orientation)"
   ]
  },
  {
   "cell_type": "code",
   "execution_count": null,
   "metadata": {
    "hidden": true
   },
   "outputs": [],
   "source": [
    "'''\n",
    "def Hall_Cal_B_gen_v1(axis0, axis1, **params):\n",
    "    Bmax = params['Bmax']\n",
    "    # calculate normal vectors\n",
    "    # Hall element is w.r.t. \"SmarAct coordinates\" (or better, Kinematic plate coordinates) and is fixed, regardless of axis0, axis1\n",
    "    norm_Hall = np.array([np.sin(params['theta'])*np.cos(params['phi']), np.sin(params['theta'])*np.sin(params['phi']), np.cos(params['theta'])])\n",
    "    # B field has some nominal orientation w.r.t. kinematic plate, and is further rotated by axis0, axis1\n",
    "    norm_B = np.array([np.sin(params['alpha'])*np.cos(params['beta']), np.sin(params['alpha'])*np.sin(params['beta']), np.cos(params['alpha'])])\n",
    "    # rotate the field vector w.r.t.\n",
    "    #rot = Rotation.from_euler('yz', angles=np.array([-axis0, -axis1]), degrees=False) # ok\n",
    "    #rot = Rotation.from_euler('yz', angles=np.array([-axis0, -axis1]).T, degrees=False) # ok\n",
    "    rot = Rotation.from_euler('yz', angles=np.array([-axis0, -axis1]).T, degrees=True) # ok\n",
    "    norm_B_rot = rot.apply(norm_B)\n",
    "    # calculate signed fraction of B vector along Hall normal i.e. Hall only reads perpendicular field (to first order)\n",
    "    frac_B = np.dot(norm_B_rot, norm_Hall)\n",
    "    B_meas = Bmax * frac_B\n",
    "    if params['verbose'] == 1.:\n",
    "        return B_meas, norm_Hall, norm_B, norm_B_rot, frac_B\n",
    "    else:\n",
    "        return B_meas\n",
    "'''\n",
    "# VECTORIZED\n",
    "def Hall_Cal_B_gen_v1(axis0, axis1, Bmag, **params):\n",
    "    if not isinstance(axis0, Iterable):\n",
    "        axis0 = np.array([axis0])\n",
    "        axis1 = np.array([axis1])\n",
    "        Bmag = np.array([Bmag])\n",
    "    # FIXME! Try passing NMR measurements (adjusted with pole-to-pole) in along with axis0, axis1.\n",
    "#     Bmax = params['Bmax']\n",
    "    # calculate normal vectors\n",
    "    # Hall element is w.r.t. \"SmarAct coordinates\" (or better, Kinematic plate coordinates) and is fixed, regardless of axis0, axis1\n",
    "    norm_Hall = np.array([np.sin(params['theta'])*np.cos(params['phi']), np.sin(params['theta'])*np.sin(params['phi']), np.cos(params['theta'])])\n",
    "    # B field has some nominal orientation w.r.t. kinematic plate, and is further rotated by axis0, axis1\n",
    "    norm_B = np.array([np.sin(params['alpha'])*np.cos(params['beta']), np.sin(params['alpha'])*np.sin(params['beta']), np.cos(params['alpha'])])\n",
    "    # rotate the field vector w.r.t.\n",
    "    #rot = Rotation.from_euler('yz', angles=np.array([-axis0, -axis1]), degrees=False) # ok\n",
    "    #rot = Rotation.from_euler('yz', angles=np.array([-axis0, -axis1]).T, degrees=False) # ok\n",
    "    rot = Rotation.from_euler('yz', angles=np.array([-axis0, -axis1]).T, degrees=True) # ok\n",
    "#     rot = Rotation.from_euler('yz', angles=np.array([-axis0, axis1]).T, degrees=True) # CHECK!\n",
    "#     rot = Rotation.from_euler('zy', angles=np.array([-axis0, -axis1]).T, degrees=True) # CHECK\n",
    "    norm_B_rot = rot.apply(np.repeat(norm_B[:, np.newaxis], len(axis0), axis=1).T)\n",
    "    # calculate signed fraction of B vector along Hall normal i.e. Hall only reads perpendicular field (to first order)\n",
    "    frac_B = np.dot(norm_B_rot, norm_Hall)\n",
    "    B_meas = Bmag * frac_B\n",
    "    if params['verbose'] == 1.:\n",
    "        return B_meas, norm_Hall, norm_B, norm_B_rot, frac_B\n",
    "    else:\n",
    "        return B_meas"
   ]
  },
  {
   "cell_type": "code",
   "execution_count": null,
   "metadata": {
    "hidden": true
   },
   "outputs": [],
   "source": [
    "# B aligned perfectly with Kinematic plate\n",
    "# params = {\n",
    "#     'Bmax': 1.0, # ~2e6\n",
    "#     'verbose': 0,\n",
    "#     'theta': np.radians(2.),\n",
    "#     #'phi': np.radians(45.),\n",
    "#     'phi': np.radians(0.),\n",
    "# #     'phi': np.radians(180.),\n",
    "#     'alpha': 0.,\n",
    "#     'beta': 0.\n",
    "# }\n",
    "\n",
    "params = {\n",
    "    'Bmax': 1.0, # ~2e6\n",
    "    'verbose': 0,\n",
    "    'theta': np.radians(2.),\n",
    "    #'phi': np.radians(45.),\n",
    "    'phi': np.radians(0.),\n",
    "#     'phi': np.radians(180.),\n",
    "    'alpha': 0.,\n",
    "    'beta': np.radians(10.)\n",
    "}"
   ]
  },
  {
   "cell_type": "code",
   "execution_count": null,
   "metadata": {
    "hidden": true
   },
   "outputs": [],
   "source": [
    "ax0s = np.unique(np.round(df_.SmarAct_Meas_Angle_1_Centered, 3))\n",
    "ax1s = np.unique(np.round(df_.SmarAct_Meas_Angle_2_Centered, 3))\n",
    "A0, A1 = np.meshgrid(ax0s, ax1s, indexing='ij')"
   ]
  },
  {
   "cell_type": "code",
   "execution_count": null,
   "metadata": {
    "hidden": true
   },
   "outputs": [],
   "source": [
    "ax0s"
   ]
  },
  {
   "cell_type": "markdown",
   "metadata": {
    "hidden": true
   },
   "source": [
    "- 2023-01-15 13:03:19 How to handle the fact that the first data point of the second scan is  missing?\n",
    "    - Ideally, a step of processing should be to set up an ideal grid, and check specifically for each point. Any points that are missing should be inserted as NaNs."
   ]
  },
  {
   "cell_type": "code",
   "execution_count": null,
   "metadata": {
    "hidden": true
   },
   "outputs": [],
   "source": [
    "for ax0 in ax0s:\n",
    "    line = df_[np.isclose(df_.SmarAct_Meas_Angle_1_Centered, ax0, atol=1e-2, rtol=1e-3)]\n",
    "    print(f'ax0: {ax0} [deg], N: {len(line)}')"
   ]
  },
  {
   "cell_type": "code",
   "execution_count": null,
   "metadata": {
    "hidden": true
   },
   "outputs": [],
   "source": [
    "#Bs = np.array([Hall_Cal_B_gen_v1(a0, a1, **params) for a0, a1 in zip(A0.flatten(), A1.flatten())])\n",
    "Bs = Hall_Cal_B_gen_v1(A0.flatten(), A1.flatten(), **params)\n",
    "\n",
    "fig, ax = plt.subplots()\n",
    "sc = ax.scatter(A0.flatten(), A1.flatten(), c=Bs, s=4);\n",
    "cb = fig.colorbar(sc, label=r'$B_z$ [T] -- SIMULATED')\n",
    "\n",
    "ax.set_xlabel('Angle 1 (i.e. Axis 0) [rad]')\n",
    "ax.set_ylabel('Angle 2 (i.e. Axis 1) [rad]');"
   ]
  },
  {
   "cell_type": "code",
   "execution_count": null,
   "metadata": {
    "hidden": true
   },
   "outputs": [],
   "source": [
    "Bs = df_['Cal_Z'].copy().values\n",
    "# TEMPORARY FIX!!\n",
    "Bs = np.concatenate([[np.nan], Bs])\n",
    "\n",
    "fig, ax = plt.subplots()\n",
    "sc = ax.scatter(A0.flatten(), A1.flatten(), c=Bs, s=4);\n",
    "cb = fig.colorbar(sc, label=r'$B_z$ [T] -- SIMULATED')\n",
    "\n",
    "ax.set_xlabel('Angle 1 (i.e. Axis 0) [rad]')\n",
    "ax.set_ylabel('Angle 2 (i.e. Axis 1) [rad]');"
   ]
  },
  {
   "cell_type": "code",
   "execution_count": null,
   "metadata": {
    "hidden": true
   },
   "outputs": [],
   "source": []
  },
  {
   "cell_type": "code",
   "execution_count": null,
   "metadata": {
    "hidden": true,
    "scrolled": true
   },
   "outputs": [],
   "source": [
    "# B aligned perfectly with Kinematic plate\n",
    "# does phi change anything, or is it only theta that matters?\n",
    "phis = np.arange(0., 360., 45.)\n",
    "# phis = [0., 45., 60., 90., 1]\n",
    "for phi in phis:\n",
    "    params = {\n",
    "        'Bmax': 1.0, # ~2e6\n",
    "        'verbose': 0,\n",
    "        'theta': np.radians(2.),\n",
    "#         'theta': np.pi,\n",
    "        #'phi': np.radians(45.),\n",
    "    #     'phi': np.radians(0.),\n",
    "        'phi': np.radians(phi),\n",
    "        'alpha': np.radians(-2.),\n",
    "        'beta': 0.\n",
    "    }\n",
    "    ax0s = np.unique(np.round(df_.SmarAct_Meas_Angle_1_Centered, 3))\n",
    "    ax1s = np.unique(np.round(df_.SmarAct_Meas_Angle_2_Centered, 3))\n",
    "    A0, A1 = np.meshgrid(ax0s, ax1s, indexing='ij')\n",
    "    Bs = Hall_Cal_B_gen_v1(A0.flatten(), A1.flatten(), **params)\n",
    "\n",
    "    fig, ax = plt.subplots()\n",
    "    sc = ax.scatter(A0.flatten(), A1.flatten(), c=Bs, s=4);\n",
    "    cb = fig.colorbar(sc, label=r'$B_z$ [T] -- SIMULATED')\n",
    "\n",
    "    ax.set_xlabel('Angle 1 (i.e. Axis 0) [rad]')\n",
    "    ax.set_ylabel('Angle 2 (i.e. Axis 1) [rad]')\n",
    "    \n",
    "    ax.set_title(rf'$\\theta = {params[\"theta\"]:0.3f}, \\phi = {params[\"phi\"]:0.3f}$'+'\\n'+\n",
    "                 rf'$\\alpha = {params[\"alpha\"]:0.3f}, \\beta = {params[\"beta\"]:0.3f}$')"
   ]
  },
  {
   "cell_type": "code",
   "execution_count": null,
   "metadata": {
    "hidden": true,
    "scrolled": true
   },
   "outputs": [],
   "source": [
    "# B aligned perfectly with Kinematic plate\n",
    "# theta dependence (phi = 0)\n",
    "thetas = np.arange(0., 180., 10.)\n",
    "# phis = [0., 45., 60., 90., 1]\n",
    "for theta in thetas:\n",
    "    params = {\n",
    "        'Bmax': 1.0, # ~2e6\n",
    "        'verbose': 0,\n",
    "        'theta': np.radians(theta),\n",
    "        #'phi': np.radians(45.),\n",
    "    #     'phi': np.radians(0.),\n",
    "        'phi': 0.,\n",
    "        'alpha': 0.,\n",
    "        'beta': 0.\n",
    "    }\n",
    "    ax0s = np.unique(np.round(df_.SmarAct_Meas_Angle_1_Centered, 3))\n",
    "    ax1s = np.unique(np.round(df_.SmarAct_Meas_Angle_2_Centered, 3))\n",
    "    A0, A1 = np.meshgrid(ax0s, ax1s, indexing='ij')\n",
    "#     Bs = np.array([Hall_Cal_B_gen_v1(a0, a1, **params) for a0, a1 in zip(A0.flatten(), A1.flatten())])\n",
    "    Bs = Hall_Cal_B_gen_v1(A0.flatten(), A1.flatten(), **params)\n",
    "\n",
    "    fig, ax = plt.subplots()\n",
    "    sc = ax.scatter(A0.flatten(), A1.flatten(), c=Bs, s=4);\n",
    "    cb = fig.colorbar(sc, label=r'$B_z$ [T] -- SIMULATED')\n",
    "\n",
    "    ax.set_xlabel('Angle 1 (i.e. Axis 0) [rad]')\n",
    "    ax.set_ylabel('Angle 2 (i.e. Axis 1) [rad]')\n",
    "    \n",
    "    ax.set_title(rf'$\\theta = {params[\"theta\"]:0.3f}, \\phi = {params[\"phi\"]:0.3f}$'+'\\n'+\n",
    "                 rf'$\\alpha = {params[\"alpha\"]:0.3f}, \\beta = {params[\"beta\"]:0.3f}$')"
   ]
  },
  {
   "cell_type": "markdown",
   "metadata": {
    "heading_collapsed": true,
    "hidden": true
   },
   "source": [
    "### Fitting"
   ]
  },
  {
   "cell_type": "markdown",
   "metadata": {
    "hidden": true
   },
   "source": [
    "- See if fit for a single Hall element can constrain all four parameters.\n",
    "- Since we can physically see the Hall elements, SmarAct in the magnet, approximate field direction, we can be smart about initial conditions and limits, if it turns out it there are many minima.\n",
    "- If it is not possible, may need to combine Hall elements, or combine measurements from different Hall probes (this would be a reason to do a second Hall probe angular scan ASAP)."
   ]
  },
  {
   "cell_type": "code",
   "execution_count": null,
   "metadata": {
    "hidden": true
   },
   "outputs": [],
   "source": [
    "ax0s = np.unique(np.round(df_.SmarAct_Meas_Angle_1_Centered, 3))\n",
    "ax1s = np.unique(np.round(df_.SmarAct_Meas_Angle_2_Centered, 3))\n",
    "A0, A1 = np.meshgrid(ax0s, ax1s, indexing='ij')"
   ]
  },
  {
   "cell_type": "code",
   "execution_count": null,
   "metadata": {
    "hidden": true
   },
   "outputs": [],
   "source": [
    "# generate data, with noise\n",
    "B0 = 1.0\n",
    "sigma = 1e-4 #2.8e3\n",
    "params_true = {\n",
    "        'Bmax': B0, # ~2e6\n",
    "        'verbose': 0,\n",
    "        'theta': np.random.uniform(low=0., high=np.pi),\n",
    "        #'phi': np.radians(45.),\n",
    "    #     'phi': np.radians(0.),\n",
    "        'phi': np.random.uniform(low=-np.pi, high=np.pi),\n",
    "        'alpha': np.random.uniform(low=0., high=np.radians(12.)),\n",
    "        'beta': np.random.uniform(low=-np.pi, high=np.pi)\n",
    "}\n",
    "#Bs = np.array([Hall_Cal_B_gen_v1(a0, a1, **params_true) for a0, a1 in zip(A0.flatten(), A1.flatten())])\n",
    "Bs = Hall_Cal_B_gen_v1(A0.flatten(), A1.flatten(), **params)\n",
    "Bs_meas = Bs + np.random.normal(loc=0, scale=sigma, size=len(Bs)) # ~0.1% noise"
   ]
  },
  {
   "cell_type": "code",
   "execution_count": null,
   "metadata": {
    "hidden": true
   },
   "outputs": [],
   "source": [
    "params_true"
   ]
  },
  {
   "cell_type": "code",
   "execution_count": null,
   "metadata": {
    "hidden": true
   },
   "outputs": [],
   "source": [
    "Bs, Bs_meas"
   ]
  },
  {
   "cell_type": "code",
   "execution_count": null,
   "metadata": {
    "hidden": true
   },
   "outputs": [],
   "source": [
    "fig, ax = plt.subplots()\n",
    "sc = ax.scatter(A0.flatten(), A1.flatten(), c=Bs, s=4);\n",
    "cb = fig.colorbar(sc, label=r'$B_z$ [T] -- SIMULATED')\n",
    "\n",
    "ax.set_xlabel('Angle 1 (i.e. Axis 0) [rad]')\n",
    "ax.set_ylabel('Angle 2 (i.e. Axis 1) [rad]');"
   ]
  },
  {
   "cell_type": "code",
   "execution_count": null,
   "metadata": {
    "hidden": true
   },
   "outputs": [],
   "source": [
    "fig, ax = plt.subplots()\n",
    "sc = ax.scatter(A0.flatten(), A1.flatten(), c=Bs_meas, s=4);\n",
    "cb = fig.colorbar(sc, label=r'$B_z$ [T] -- SIMULATED')\n",
    "\n",
    "ax.set_xlabel('Angle 1 (i.e. Axis 0) [rad]')\n",
    "ax.set_ylabel('Angle 2 (i.e. Axis 1) [rad]');"
   ]
  },
  {
   "cell_type": "code",
   "execution_count": null,
   "metadata": {
    "hidden": true
   },
   "outputs": [],
   "source": [
    "# fit!\n",
    "model = lm.Model(Hall_Cal_B_gen_v1, independent_vars=['axis0', 'axis1'])\n",
    "params = lm.Parameters()\n",
    "# fixed parameters\n",
    "# params.add('Bmax', value=B0, vary=False)\n",
    "params.add('Bmax', value=B0, vary=True)\n",
    "params.add('verbose', value=0., vary=False)\n",
    "# parameters to vary\n",
    "params.add('theta', value=np.pi/2, min=0., max=np.pi)\n",
    "params.add('phi', value=0., min=-np.pi, max=np.pi)\n",
    "# params.add('alpha', value=np.pi/2, min=0., max=np.pi)\n",
    "params.add('alpha', value=np.radians(2), min=0., max=np.radians(12.))\n",
    "params.add('beta', value=0., min=-np.pi, max=np.pi)\n",
    "# run fit\n",
    "result = model.fit(Bs_meas, axis0=A0.flatten(), axis1=A1.flatten(),\n",
    "                   params=params, weights=1/(sigma*np.ones_like(Bs_meas)), scale_covar=False)"
   ]
  },
  {
   "cell_type": "code",
   "execution_count": null,
   "metadata": {
    "hidden": true
   },
   "outputs": [],
   "source": [
    "B0"
   ]
  },
  {
   "cell_type": "code",
   "execution_count": null,
   "metadata": {
    "hidden": true
   },
   "outputs": [],
   "source": [
    "result"
   ]
  },
  {
   "cell_type": "code",
   "execution_count": null,
   "metadata": {
    "hidden": true
   },
   "outputs": [],
   "source": [
    "params_true"
   ]
  },
  {
   "cell_type": "markdown",
   "metadata": {
    "hidden": true
   },
   "source": [
    "### Fit on real data!"
   ]
  },
  {
   "cell_type": "code",
   "execution_count": null,
   "metadata": {
    "hidden": true
   },
   "outputs": [],
   "source": [
    "B0 = df[f'Cal_Z'].abs().max()"
   ]
  },
  {
   "cell_type": "code",
   "execution_count": null,
   "metadata": {
    "hidden": true
   },
   "outputs": [],
   "source": [
    "B0"
   ]
  },
  {
   "cell_type": "code",
   "execution_count": null,
   "metadata": {
    "code_folding": [],
    "hidden": true
   },
   "outputs": [],
   "source": [
    "sigma_est = 3e-5\n",
    "#sigma_est = 1e-4\n",
    "# sigma_est = 1e-3\n",
    "coord = 'Z'\n",
    "# coord = 'X'\n",
    "# coord = 'Y'\n",
    "B0 = df[f'Cal_{coord}'].abs().max()\n",
    "Bs_meas = df[f'Cal_{coord}'].values\n",
    "# fit!\n",
    "model = lm.Model(Hall_Cal_B_gen_v1, independent_vars=['axis0', 'axis1', 'Bmag'])\n",
    "params = lm.Parameters()\n",
    "# fixed parameters\n",
    "#params.add('Bmax', value=B0, vary=True)\n",
    "# params.add('Bmax', value=1.00212872, vary=False)\n",
    "params.add('verbose', value=0., vary=False)\n",
    "# parameters to vary\n",
    "# params.add('theta', value=np.pi/2, min=0. - np.pi/4, max=np.pi + np.pi/4)\n",
    "# params.add('theta', value=np.pi/2, min=0., max=np.pi + np.pi/4) # GOOD\n",
    "params.add('theta', value=0.01475871, vary=False)\n",
    "# params.add('theta', value=0.02, min=0., max=np.pi + np.pi/4) # based on previous scans\n",
    "# params.add('phi', value=0., min=-np.pi, max=np.pi) # GOOD\n",
    "params.add('phi', value=3.06398294, vary=False)\n",
    "## TURN OFF THETA / PHI (Hall orientation on the plate)\n",
    "# params.add('theta', value=0., vary=True)\n",
    "# params.add('phi', value=0., vary=False)\n",
    "# params.add('alpha', value=np.pi/2, min=0., max=np.pi)\n",
    "# params.add('alpha', value=np.radians(2), min=np.radians(-4.), max=np.radians(12.))\n",
    "# params.add('alpha', value=np.radians(2), min=0., max=np.radians(12.)) # GOOD\n",
    "params.add('alpha', value=0.03490732, vary=False) # GOOD\n",
    "# params.add('beta', value=0., min=-np.pi - np.pi/4, max=np.pi + np.pi/4, vary=True)\n",
    "# params.add('beta', value=3.0, min=-np.pi, max=np.pi, vary=True)\n",
    "#params.add('beta', value=np.pi, min=0., max=2*np.pi, vary=True) # GOOD\n",
    "params.add('beta', value=2.74794549, vary=False) # GOOD\n",
    "# best fit alpha and beta\n",
    "# params.add('alpha', value=0.03240273, vary=False)\n",
    "# params.add('beta', value=-3.14159265, vary=False)\n",
    "\n",
    "### NOT SURE THAT THESE WORK ON THEIR OWN\n",
    "# phi for X (really Y)\n",
    "# if coord == 'X':\n",
    "#     params.add('phi', value=-np.pi/2, vary=True, min=-np.pi/2 + np.radians(-10), max=-np.pi/2 + np.radians(10))\n",
    "# phi for Y (really X)\n",
    "# if coord == 'Y':\n",
    "#     params.add('phi', value=0., vary=True, min=np.radians(-10), max=np.radians(10))\n",
    "\n",
    "# run fit\n",
    "#result = model.fit(Bs_meas, axis0=A0.flatten(), axis1=A1.flatten(),\n",
    "#                   params=params, weights=1/(sigma_est*B0*np.ones_like(Bs_meas)), scale_covar=False)\n",
    "###\n",
    "# result = model.fit(Bs_meas, axis0=df['SmarAct_Meas_Angle_1_Centered'].values, axis1=df['SmarAct_Meas_Angle_2_Centered'].values,\n",
    "#                   params=params, weights=1/(sigma_est*B0*np.ones_like(Bs_meas)), scale_covar=False)\n",
    "# add Bmag\n",
    "result = model.fit(Bs_meas, axis0=df['SmarAct_Meas_Angle_1_Centered'].values, axis1=df['SmarAct_Meas_Angle_2_Centered'].values,\n",
    "                   Bmag=df[f'{probe}_Cal_Bmag'].values,\n",
    "                   params=params, weights=1/(sigma_est*B0*np.ones_like(Bs_meas)), scale_covar=False)\n",
    "result_Zcoord = result"
   ]
  },
  {
   "cell_type": "code",
   "execution_count": null,
   "metadata": {
    "hidden": true
   },
   "outputs": [],
   "source": [
    "632 / 14644"
   ]
  },
  {
   "cell_type": "code",
   "execution_count": null,
   "metadata": {
    "hidden": true
   },
   "outputs": [],
   "source": [
    "B0"
   ]
  },
  {
   "cell_type": "code",
   "execution_count": null,
   "metadata": {
    "hidden": true
   },
   "outputs": [],
   "source": [
    "# scan 5 (incomplete)\n",
    "# only can get a good fit result if I fix alpha/beta to be the best fit values (used scan 3 values)\n",
    "result_Zcoord"
   ]
  },
  {
   "cell_type": "code",
   "execution_count": null,
   "metadata": {
    "hidden": true
   },
   "outputs": [],
   "source": [
    "# scan 4\n",
    "result_Zcoord"
   ]
  },
  {
   "cell_type": "code",
   "execution_count": null,
   "metadata": {
    "hidden": true
   },
   "outputs": [],
   "source": [
    "# scan 3\n",
    "result_Zcoord"
   ]
  },
  {
   "cell_type": "code",
   "execution_count": null,
   "metadata": {
    "hidden": true
   },
   "outputs": [],
   "source": [
    "-3.5352 + 2*np.pi"
   ]
  },
  {
   "cell_type": "code",
   "execution_count": null,
   "metadata": {
    "hidden": true
   },
   "outputs": [],
   "source": [
    "# scan 2\n",
    "result"
   ]
  },
  {
   "cell_type": "code",
   "execution_count": null,
   "metadata": {
    "hidden": true
   },
   "outputs": [],
   "source": [
    "np.degrees(0.011)"
   ]
  },
  {
   "cell_type": "code",
   "execution_count": null,
   "metadata": {
    "hidden": true
   },
   "outputs": [],
   "source": [
    "def normalize_angle(angle, degrees=False):\n",
    "    if degrees:\n",
    "        angle_rad = np.radians(angle)\n",
    "        return np.degrees(np.arctan2(np.sin(angle_rad), np.cos(angle_rad)))\n",
    "    else:\n",
    "        return np.arctan2(np.sin(angle), np.cos(angle))\n",
    "\n",
    "def normalize_polar_angle(angle, degrees=False):\n",
    "    if degrees:\n",
    "        angle_rad = np.radians(angle)\n",
    "        return np.degrees(np.arccos(np.cos(angle_rad)))\n",
    "    else:\n",
    "        return np.arccos(np.cos(angle))"
   ]
  },
  {
   "cell_type": "code",
   "execution_count": null,
   "metadata": {
    "hidden": true
   },
   "outputs": [],
   "source": [
    "for k in result.params.keys():\n",
    "    print(k, result.params[k].value, normalize_angle(result.params[k].value), normalize_polar_angle(result.params[k].value))"
   ]
  },
  {
   "cell_type": "code",
   "execution_count": null,
   "metadata": {
    "hidden": true
   },
   "outputs": [],
   "source": [
    "if not np.isclose(normalize_angle(result.params['theta'].value), normalize_polar_angle(result.params['theta'].value)):\n",
    "    print('Phi flipped')\n",
    "    print(f'Phi0: {result.params[\"phi\"].value}, Phi0 + pi: {normalize_angle(result.params[\"phi\"].value+np.pi)}')"
   ]
  },
  {
   "cell_type": "code",
   "execution_count": null,
   "metadata": {
    "hidden": true
   },
   "outputs": [],
   "source": [
    "if not np.isclose(normalize_angle(result.params['alpha'].value), normalize_polar_angle(result.params['alpha'].value)):\n",
    "    print('Beta flipped')\n",
    "    print(f'Beta0: {result.params[\"beta\"].value}, Beta0 + pi: {normalize_angle(result.params[\"beta\"].value+np.pi)}')"
   ]
  },
  {
   "cell_type": "code",
   "execution_count": null,
   "metadata": {
    "hidden": true
   },
   "outputs": [],
   "source": [
    "np.degrees(result.params['theta'])"
   ]
  },
  {
   "cell_type": "code",
   "execution_count": null,
   "metadata": {
    "hidden": true
   },
   "outputs": [],
   "source": [
    "np.degrees(result.params['phi'])"
   ]
  },
  {
   "cell_type": "code",
   "execution_count": null,
   "metadata": {
    "hidden": true
   },
   "outputs": [],
   "source": [
    "np.degrees(result.params['alpha'])"
   ]
  },
  {
   "cell_type": "code",
   "execution_count": null,
   "metadata": {
    "hidden": true
   },
   "outputs": [],
   "source": [
    "np.degrees(result.params['beta'])"
   ]
  },
  {
   "cell_type": "code",
   "execution_count": null,
   "metadata": {
    "hidden": true,
    "scrolled": true
   },
   "outputs": [],
   "source": [
    "result.best_fit"
   ]
  },
  {
   "cell_type": "code",
   "execution_count": null,
   "metadata": {
    "hidden": true
   },
   "outputs": [],
   "source": [
    "# plots!\n",
    "from matplotlib.colors import Normalize\n",
    "import matplotlib.cm as cm"
   ]
  },
  {
   "cell_type": "code",
   "execution_count": null,
   "metadata": {
    "hidden": true
   },
   "outputs": [],
   "source": [
    "Bmin = np.min([np.min(df[f'Cal_{coord}']), np.min(result.best_fit)])\n",
    "Bmax = np.max([np.max(df[f'Cal_{coord}']), np.max(result.best_fit)])"
   ]
  },
  {
   "cell_type": "code",
   "execution_count": null,
   "metadata": {
    "hidden": true
   },
   "outputs": [],
   "source": [
    "Bmin, Bmax"
   ]
  },
  {
   "cell_type": "code",
   "execution_count": null,
   "metadata": {
    "hidden": true
   },
   "outputs": [],
   "source": [
    "# data, fit\n",
    "fig, axs = plt.subplots(nrows=1, ncols=2, figsize=(24, 8))\n",
    "cmap = cm.get_cmap('viridis')\n",
    "normalizer = Normalize(Bmin, Bmax)\n",
    "im = cm.ScalarMappable(norm=normalizer)\n",
    "# sc = axs[0].scatter(A0.flatten(), A1.flatten(), c=Bs_meas, s=4, cmap=cmap, norm=normalizer)\n",
    "# sc1 = axs[1].scatter(A0.flatten(), A1.flatten(), c=result.best_fit, s=4, cmap=cmap, norm=normalizer)\n",
    "\n",
    "sc = axs[0].scatter(df['SmarAct_Meas_Angle_1_Centered'].values, df['SmarAct_Meas_Angle_2_Centered'].values, c=Bs_meas, s=4, cmap=cmap, norm=normalizer)\n",
    "sc1 = axs[1].scatter(df['SmarAct_Meas_Angle_1_Centered'].values, df['SmarAct_Meas_Angle_2_Centered'].values, c=result.best_fit, s=4, cmap=cmap, norm=normalizer)\n",
    "\n",
    "cb = fig.colorbar(im, label=r'$B_z$ [T]')\n",
    "\n",
    "axs[0].set_xlabel('Angle 1 (i.e. Axis 0) [rad]')\n",
    "axs[0].set_ylabel('Angle 2 (i.e. Axis 1) [rad]')\n",
    "axs[0].set_title('Measured Values')\n",
    "axs[1].set_xlabel('Angle 1 (i.e. Axis 0) [rad]')\n",
    "axs[1].set_ylabel('Angle 2 (i.e. Axis 1) [rad]')\n",
    "axs[1].set_title('Best Fit Values: \\n'+\n",
    "                 rf'$\\theta = {result.params[\"theta\"].value:0.3f},\\ \\phi = {result.params[\"phi\"].value:0.3f}$, '+#'\\n'+\n",
    "                 rf'$\\alpha = {result.params[\"alpha\"].value:0.3f},\\ \\beta = {result.params[\"beta\"].value:0.3f}$')"
   ]
  },
  {
   "cell_type": "code",
   "execution_count": null,
   "metadata": {
    "hidden": true
   },
   "outputs": [],
   "source": [
    "# data - fit\n",
    "fig, ax = plt.subplots(figsize=(12, 8))\n",
    "cmap = cm.get_cmap('viridis')\n",
    "# normalizer = Normalize(Bmin, Bmax)\n",
    "# im = cm.ScalarMappable(norm=normalizer)\n",
    "# sc = axs[0].scatter(A0.flatten(), A1.flatten(), c=Bs_meas, s=4, cmap=cmap, norm=normalizer)\n",
    "# sc1 = axs[1].scatter(A0.flatten(), A1.flatten(), c=result.best_fit, s=4, cmap=cmap, norm=normalizer)\n",
    "\n",
    "sc = ax.scatter(df['SmarAct_Meas_Angle_1_Centered'].values, df['SmarAct_Meas_Angle_2_Centered'].values, c=Bs_meas-result.best_fit, s=4, cmap=cmap)#, norm=normalizer)\n",
    "\n",
    "cb = fig.colorbar(sc, label=rf'$B_{coord}$ [T]')\n",
    "\n",
    "ax.set_xlabel('Angle 1 (i.e. Axis 0) [deg]')\n",
    "ax.set_ylabel('Angle 2 (i.e. Axis 1) [deg]')\n",
    "ax.set_title('Measured Values - Best Fit Values: \\n'+\n",
    "             rf'$\\theta = {result.params[\"theta\"].value:0.3f},\\ \\phi = {result.params[\"phi\"].value:0.3f}$, '+#'\\n'+\n",
    "             rf'$\\alpha = {result.params[\"alpha\"].value:0.3f},\\ \\beta = {result.params[\"beta\"].value:0.3f}$')"
   ]
  },
  {
   "cell_type": "code",
   "execution_count": null,
   "metadata": {
    "hidden": true
   },
   "outputs": [],
   "source": [
    "# hist\n",
    "fig, ax = plt.subplots()\n",
    "\n",
    "bins = np.arange(-1.50e-4, 1.52e-4, 2e-6)\n",
    "# bins = np.arange(-5.0e-5, 5.05e-5, 5e-7) # for good scans\n",
    "# bins = np.arange(-5.0e-3, 5.05e-3, 5e-5) # wide search for large residuals\n",
    "\n",
    "ax.hist(Bs_meas-result.best_fit, bins=bins, histtype='step', label=get_label(Bs_meas-result.best_fit, bins))\n",
    "\n",
    "ax.set_xlabel(rf'Data - Fit, $B_{coord}$ [T]')\n",
    "ax.ticklabel_format(axis='x', style='sci', scilimits=(0,0))\n",
    "ax.legend(loc='upper left', bbox_to_anchor=(0.6, 1.0));"
   ]
  },
  {
   "cell_type": "code",
   "execution_count": null,
   "metadata": {
    "hidden": true
   },
   "outputs": [],
   "source": [
    "# residual vs time\n",
    "fig, ax = plt.subplots()\n",
    "\n",
    "#bins = np.arange(-1.50e-4, 1.52e-4, 2e-6)\n",
    "# bins = np.arange(-5.0e-5, 5.05e-5, 5e-7) # for good scans\n",
    "# bins = np.arange(-5.0e-3, 5.05e-3, 5e-5) # for good scans\n",
    "\n",
    "ax.scatter(df.index, Bs_meas-result.best_fit)\n",
    "\n",
    "ax.set_xlabel('Datetime')\n",
    "ax.set_ylabel(rf'Data - Fit, $B_{coord}$ [T]')\n",
    "ax.ticklabel_format(axis='y', style='sci', scilimits=(0,0));\n",
    "# ax.legend(loc='upper left', bbox_to_anchor=(0.6, 1.0));"
   ]
  },
  {
   "cell_type": "code",
   "execution_count": null,
   "metadata": {
    "hidden": true
   },
   "outputs": [],
   "source": [
    "# how about transverse field?\n",
    "#BT_fit = (result_Zcoord.params['Bmax'].value**2 - result_Zcoord.best_fit**2)**(1/2)\n",
    "BT_fit = (df[f'{probe}_Cal_Bmag'].values**2 - result_Zcoord.best_fit**2)**(1/2)\n",
    "BT_meas = np.linalg.norm(df[['Cal_X', 'Cal_Y']].values, axis=1)"
   ]
  },
  {
   "cell_type": "code",
   "execution_count": null,
   "metadata": {
    "hidden": true
   },
   "outputs": [],
   "source": [
    "# data - fit\n",
    "fig, ax = plt.subplots(figsize=(12, 8))\n",
    "cmap = cm.get_cmap('viridis')\n",
    "# normalizer = Normalize(Bmin, Bmax)\n",
    "# im = cm.ScalarMappable(norm=normalizer)\n",
    "# sc = axs[0].scatter(A0.flatten(), A1.flatten(), c=Bs_meas, s=4, cmap=cmap, norm=normalizer)\n",
    "# sc1 = axs[1].scatter(A0.flatten(), A1.flatten(), c=result.best_fit, s=4, cmap=cmap, norm=normalizer)\n",
    "\n",
    "sc = ax.scatter(df['SmarAct_Meas_Angle_1_Centered'].values, df['SmarAct_Meas_Angle_2_Centered'].values, c=BT_meas-BT_fit, s=4, cmap=cmap)#, norm=normalizer)\n",
    "\n",
    "cb = fig.colorbar(sc, label=r'$\\Delta B_{T}$ [T]')\n",
    "\n",
    "ax.set_xlabel('Angle 1 (i.e. Axis 0) [deg]')\n",
    "ax.set_ylabel('Angle 2 (i.e. Axis 1) [deg]')\n",
    "ax.set_title('Measured Values - Best Fit Values: \\n'+\n",
    "             rf'$\\theta = {result.params[\"theta\"].value:0.3f},\\ \\phi = {result.params[\"phi\"].value:0.3f}$, '+#'\\n'+\n",
    "             rf'$\\alpha = {result.params[\"alpha\"].value:0.3f},\\ \\beta = {result.params[\"beta\"].value:0.3f}$')"
   ]
  },
  {
   "cell_type": "code",
   "execution_count": null,
   "metadata": {
    "hidden": true
   },
   "outputs": [],
   "source": [
    "# hist\n",
    "fig, ax = plt.subplots()\n",
    "\n",
    "# bins = np.arange(-1.50e-4, 1.52e-4, 2e-6)\n",
    "bins = np.arange(-1.50e-3, 1.52e-3, 2e-5)\n",
    "\n",
    "ax.hist(BT_meas-BT_fit, bins=bins, histtype='step', label=get_label(BT_meas-BT_fit, bins))\n",
    "\n",
    "ax.set_xlabel(r'Data - Fit, $B_{T}$ [T]')\n",
    "ax.ticklabel_format(axis='x', style='sci', scilimits=(0,0))\n",
    "ax.legend(loc='upper left', bbox_to_anchor=(0.6, 1.0));"
   ]
  },
  {
   "cell_type": "code",
   "execution_count": null,
   "metadata": {
    "hidden": true
   },
   "outputs": [],
   "source": []
  },
  {
   "cell_type": "code",
   "execution_count": null,
   "metadata": {
    "hidden": true
   },
   "outputs": [],
   "source": []
  },
  {
   "cell_type": "code",
   "execution_count": null,
   "metadata": {
    "hidden": true
   },
   "outputs": [],
   "source": [
    "BT_meas"
   ]
  },
  {
   "cell_type": "code",
   "execution_count": null,
   "metadata": {
    "hidden": true
   },
   "outputs": [],
   "source": [
    "BT_fit"
   ]
  },
  {
   "cell_type": "code",
   "execution_count": null,
   "metadata": {
    "hidden": true
   },
   "outputs": [],
   "source": [
    "df[['Cal_X', 'Cal_Y']].values.shape"
   ]
  },
  {
   "cell_type": "code",
   "execution_count": null,
   "metadata": {
    "hidden": true
   },
   "outputs": [],
   "source": [
    "BT_fit"
   ]
  },
  {
   "cell_type": "code",
   "execution_count": null,
   "metadata": {
    "hidden": true
   },
   "outputs": [],
   "source": []
  },
  {
   "cell_type": "markdown",
   "metadata": {
    "hidden": true
   },
   "source": [
    "- I think I need to go from here... 2023-01-15 13:15:40 \n",
    "    - Next step is probably getting theta / phi from SmarAct angles.\n",
    "    - Or looking at other fitting metrics"
   ]
  },
  {
   "cell_type": "code",
   "execution_count": null,
   "metadata": {
    "hidden": true
   },
   "outputs": [],
   "source": [
    "### BELOW ISN'T USEFUL, I THINK"
   ]
  },
  {
   "cell_type": "code",
   "execution_count": null,
   "metadata": {
    "hidden": true
   },
   "outputs": [],
   "source": [
    "# Bergsma fit\n",
    "fig, ax = plt.subplots()\n",
    "\n",
    "ax.scatter(df['NMR [T]'], df[f'{probe}_Cal_Bmag'], s=1)"
   ]
  },
  {
   "cell_type": "code",
   "execution_count": null,
   "metadata": {
    "hidden": true
   },
   "outputs": [],
   "source": [
    "# Bergsma fit\n",
    "fig, ax = plt.subplots()\n",
    "\n",
    "ax.scatter(df.index, df[f'{probe}_Cal_Bmag']-df['NMR [T]'], s=1)"
   ]
  },
  {
   "cell_type": "code",
   "execution_count": null,
   "metadata": {
    "hidden": true
   },
   "outputs": [],
   "source": [
    "fig, ax = plt.subplots()\n",
    "\n",
    "ax.hist((df[f'{probe}_Cal_Bmag']-df['NMR [T]'])/df['NMR [T]'], histtype='step', bins=100);"
   ]
  },
  {
   "cell_type": "code",
   "execution_count": null,
   "metadata": {
    "hidden": true
   },
   "outputs": [],
   "source": [
    "res_rel = (df[f'{probe}_Cal_Bmag']-df['NMR [T]'])/df['NMR [T]']\n",
    "res_rel.mean(), res_rel.std()"
   ]
  },
  {
   "cell_type": "code",
   "execution_count": null,
   "metadata": {
    "hidden": true
   },
   "outputs": [],
   "source": [
    "# check NMR and temp stability\n",
    "for col in ['NMR [T]', f'{probe}_Cal_T']:\n",
    "    fig, ax = plt.subplots()\n",
    "    sc = ax.scatter(A0.flatten(), A1.flatten(), c=df[col], s=4);\n",
    "    cb = fig.colorbar(sc, label=col)\n",
    "\n",
    "    ax.set_xlabel('Angle 1 (i.e. Axis 0) [rad]')\n",
    "    ax.set_ylabel('Angle 2 (i.e. Axis 1) [rad]');"
   ]
  },
  {
   "cell_type": "code",
   "execution_count": null,
   "metadata": {
    "hidden": true
   },
   "outputs": [],
   "source": [
    "result.params['theta'].value"
   ]
  },
  {
   "cell_type": "code",
   "execution_count": null,
   "metadata": {
    "hidden": true
   },
   "outputs": [],
   "source": [
    "# data - fit\n",
    "fig, ax = plt.subplots()\n",
    "sc = ax.scatter(a1, a2, c=Bs_meas - result.best_fit, s=4);\n",
    "cb = fig.colorbar(sc, label=r'$B_z$ [T]')\n",
    "\n",
    "ax.set_xlabel('Angle 1 (i.e. Axis 0) [rad]')\n",
    "ax.set_ylabel('Angle 2 (i.e. Axis 1) [rad]')\n",
    "ax.set_title('Data - Fit');"
   ]
  },
  {
   "cell_type": "code",
   "execution_count": null,
   "metadata": {
    "hidden": true
   },
   "outputs": [],
   "source": [
    "# data / fit\n",
    "fig, ax = plt.subplots()\n",
    "sc = ax.scatter(a1, a2, c=Bs_meas / result.best_fit, s=4);\n",
    "cb = fig.colorbar(sc, label=r'$B_{z, meas.} / B_{z, fit}$')\n",
    "\n",
    "ax.set_xlabel('Angle 1 (i.e. Axis 0) [rad]')\n",
    "ax.set_ylabel('Angle 2 (i.e. Axis 1) [rad]')\n",
    "ax.set_title('Data / Fit');"
   ]
  },
  {
   "cell_type": "code",
   "execution_count": null,
   "metadata": {
    "hidden": true
   },
   "outputs": [],
   "source": [
    "# histograms"
   ]
  },
  {
   "cell_type": "code",
   "execution_count": null,
   "metadata": {
    "hidden": true
   },
   "outputs": [],
   "source": [
    "len(Bs_meas)"
   ]
  },
  {
   "cell_type": "code",
   "execution_count": null,
   "metadata": {
    "hidden": true
   },
   "outputs": [],
   "source": [
    "fig, ax = plt.subplots()\n",
    "\n",
    "ax.hist(Bs_meas - result.best_fit, bins=100, histtype='step')\n",
    "\n",
    "ax.set_xlabel(r'Data - Fit [T]')"
   ]
  },
  {
   "cell_type": "code",
   "execution_count": null,
   "metadata": {
    "hidden": true
   },
   "outputs": [],
   "source": [
    "np.mean(Bs_meas - result.best_fit), np.std(Bs_meas - result.bes.t_fit, ddof=1)"
   ]
  },
  {
   "cell_type": "code",
   "execution_count": null,
   "metadata": {
    "hidden": true
   },
   "outputs": [],
   "source": [
    "fig, ax = plt.subplots()\n",
    "\n",
    "ax.hist(Bs_meas / result.best_fit, bins=100, histtype='step')\n",
    "\n",
    "ax.set_xlabel(r'Data / Fit')"
   ]
  },
  {
   "cell_type": "code",
   "execution_count": null,
   "metadata": {
    "hidden": true
   },
   "outputs": [],
   "source": [
    "np.mean(Bs_meas / result.best_fit), np.std(Bs_meas / result.best_fit, ddof=1)"
   ]
  },
  {
   "cell_type": "markdown",
   "metadata": {},
   "source": [
    "## v2. Reconstruct all coordinates at once"
   ]
  },
  {
   "cell_type": "markdown",
   "metadata": {},
   "source": [
    "### Voltage Function (using same function for calibration orientation)"
   ]
  },
  {
   "cell_type": "code",
   "execution_count": 27,
   "metadata": {
    "code_folding": []
   },
   "outputs": [],
   "source": [
    "'''\n",
    "def Hall_Cal_B_gen_v2(axis0, axis1, **params):\n",
    "    if not isinstance(axis0, Iterable):\n",
    "        axis0 = np.array([axis0])\n",
    "        axis1 = np.array([axis1])\n",
    "    # FIXME! Try passing NMR measurements (adjusted with pole-to-pole) in along with axis0, axis1.\n",
    "    Bmax = params['Bmax']\n",
    "    # calculate normal vectors\n",
    "    # Hall element is w.r.t. \"SmarAct coordinates\" (or better, Kinematic plate coordinates) and is fixed, regardless of axis0, axis1\n",
    "    norm_Hall = np.array([np.sin(params['theta'])*np.cos(params['phi']), np.sin(params['theta'])*np.sin(params['phi']), np.cos(params['theta'])])\n",
    "    # B field has some nominal orientation w.r.t. kinematic plate, and is further rotated by axis0, axis1\n",
    "    norm_B = np.array([np.sin(params['alpha'])*np.cos(params['beta']), np.sin(params['alpha'])*np.sin(params['beta']), np.cos(params['alpha'])])\n",
    "    # rotate the field vector w.r.t.\n",
    "    #rot = Rotation.from_euler('yz', angles=np.array([-axis0, -axis1]), degrees=False) # ok\n",
    "    #rot = Rotation.from_euler('yz', angles=np.array([-axis0, -axis1]).T, degrees=False) # ok\n",
    "    rot = Rotation.from_euler('yz', angles=np.array([-axis0, -axis1]).T, degrees=True) # ok\n",
    "#     rot = Rotation.from_euler('zy', angles=np.array([-axis0, -axis1]).T, degrees=True) # CHECK\n",
    "    norm_B_rot = rot.apply(np.repeat(norm_B[:, np.newaxis], len(axis0), axis=1).T)\n",
    "    # calculate signed fraction of B vector along Hall normal i.e. Hall only reads perpendicular field (to first order)\n",
    "    costh = np.dot(norm_B_rot, norm_Hall)\n",
    "    #sinth = np.sin(np.arccos(costh))\n",
    "    B_T = np.linalg.norm(norm_B_rot[:,:2], axis=1)\n",
    "    theta = np.arctan2(B_T, norm_B_rot[:,2])\n",
    "    phi = np.arctan2(norm_B_rot[:, 1], norm_B_rot[:, 0]) + params['phase']\n",
    "    Bx = Bmax * np.sin(theta) * np.cos(phi)\n",
    "    By = Bmax * np.sin(theta) * np.sin(phi)\n",
    "    Bz = Bmax * np.cos(theta)\n",
    "#     print(Bx, By, Bz)\n",
    "#     try:\n",
    "    B_meas = np.concatenate([Bx, By, Bz])\n",
    "#     except:\n",
    "#         B_meas = np.array([Bx, By, Bz])\n",
    "    if params['verbose'] == 1.:\n",
    "        return B_meas, norm_Hall, norm_B, norm_B_rot, theta, phi\n",
    "    else:\n",
    "        return B_meas\n",
    "'''\n",
    "\n",
    "'''\n",
    "# rotate Bvector into Hall probe frame\n",
    "def rodrigues_rotation(points, vec0, vec1):\n",
    "    # points should be N x 3\n",
    "    # rotate from vec0 to vec1\n",
    "    # note vec0 and vec1 should be normalized\n",
    "    k_vec = np.cross(vec0, vec1)\n",
    "    k_vec = k_vec / np.linalg.norm(k_vec)\n",
    "    costheta = np.dot(vec0, vec1)\n",
    "    sintheta = (1-costheta**2)**(1/2)\n",
    "    points_rot = points * costheta + np.cross(k_vec, points) * sintheta + np.outer(np.dot(points, k_vec), k_vec) * (1 - costheta)\n",
    "    return points_rot\n",
    "'''\n",
    "\n",
    "def Hall_Cal_B_gen_v2(axis0, axis1, Bmag, **params):\n",
    "    if not isinstance(axis0, Iterable):\n",
    "        axis0 = np.array([axis0])\n",
    "        axis1 = np.array([axis1])\n",
    "        Bmag = np.array([Bmag])\n",
    "    # FIXME! Try passing NMR measurements (adjusted with pole-to-pole) in along with axis0, axis1.\n",
    "#     Bmax = params['Bmax']\n",
    "    # calculate normal vectors\n",
    "    # Hall element is w.r.t. \"SmarAct coordinates\" (or better, Kinematic plate coordinates) and is fixed, regardless of axis0, axis1\n",
    "    norm_Hall = np.array([np.sin(params['theta'])*np.cos(params['phi']), np.sin(params['theta'])*np.sin(params['phi']), np.cos(params['theta'])])\n",
    "    # x_Hall is arbitary...\n",
    "    x_Hall = np.array([-np.sin(params['phi']), np.cos(params['phi']), 0.])\n",
    "    # B field has some nominal orientation w.r.t. kinematic plate, and is further rotated by axis0, axis1\n",
    "    norm_B = np.array([np.sin(params['alpha'])*np.cos(params['beta']), np.sin(params['alpha'])*np.sin(params['beta']), np.cos(params['alpha'])])\n",
    "    # rotate the field vector w.r.t.\n",
    "    #rot = Rotation.from_euler('yz', angles=np.array([-axis0, -axis1]), degrees=False) # ok\n",
    "    #rot = Rotation.from_euler('yz', angles=np.array([-axis0, -axis1]).T, degrees=False) # ok\n",
    "    rot = Rotation.from_euler('yz', angles=np.array([-axis0, -axis1]).T, degrees=True) # ok\n",
    "#     rot = Rotation.from_euler('yz', angles=np.array([-axis0, axis1]).T, degrees=True) # CHECK!\n",
    "    norm_B_rot = rot.apply(np.repeat(norm_B[:, np.newaxis], len(axis0), axis=1).T)\n",
    "    # calculate signed fraction of B vector along Hall normal i.e. Hall only reads perpendicular field (to first order)\n",
    "    costh = np.dot(norm_B_rot, norm_Hall)\n",
    "    sinth = (1 - costh**2)**(1/2)\n",
    "    theta = np.arccos(costh)\n",
    "    BT_rot90 = np.cross(norm_B_rot, norm_Hall)\n",
    "    BT_rot90 = BT_rot90 / np.linalg.norm(BT_rot90, axis=1)[:, None]\n",
    "    BT_rot = np.cross(norm_Hall, BT_rot90)\n",
    "#     BT_rot = np.cross(norm_B_rot, norm_Hall)\n",
    "    # must normalize BT_rot\n",
    "    BT_rot = BT_rot / np.linalg.norm(BT_rot, axis=1)[:, None]\n",
    "#     phi_Hall = np.arccos(np.dot(BT_rot, x_Hall)) + params['phase']\n",
    "    phi_Hall = np.arccos(np.dot(BT_rot, x_Hall))\n",
    "    sign_phi = 2*(np.dot(np.cross(x_Hall, BT_rot), norm_Hall) > 0.).astype(int) - 1.\n",
    "#     sign_phi = 2*(np.dot(np.cross(x_Hall, BT_rot), norm_Hall) < 0.).astype(int) - 1.\n",
    "#     phi_Hall = sign_phi * phi_Hall\n",
    "    phi_Hall = sign_phi * phi_Hall + params['phase']\n",
    "    # recenter phi\n",
    "    phi_Hall[phi_Hall > np.pi] = phi_Hall[phi_Hall > np.pi] - 2*np.pi\n",
    "    phi_Hall[phi_Hall < -np.pi] = phi_Hall[phi_Hall < -np.pi] + 2*np.pi\n",
    "    ###\n",
    "    Bx = Bmag * sinth * np.cos(phi_Hall)\n",
    "    By = Bmag * sinth * np.sin(phi_Hall)\n",
    "    Bz = Bmag * costh\n",
    "    B_meas = np.concatenate([Bx, By, Bz])\n",
    "    if params['verbose'] == 1.:\n",
    "        return B_meas, norm_Hall, norm_B, norm_B_rot, BT_rot, theta, phi_Hall\n",
    "    else:\n",
    "        return B_meas"
   ]
  },
  {
   "cell_type": "code",
   "execution_count": 28,
   "metadata": {},
   "outputs": [],
   "source": [
    "def Hall_Cal_B_gen_v2(axis0, axis1, Bmag, **params):\n",
    "    if not isinstance(axis0, Iterable):\n",
    "        axis0 = np.array([axis0])\n",
    "        axis1 = np.array([axis1])\n",
    "        Bmag = np.array([Bmag])\n",
    "    # calculate normal vectors\n",
    "    # Hall element is w.r.t. \"SmarAct coordinates\" (or better, Kinematic plate coordinates) and is fixed, regardless of axis0, axis1\n",
    "    norm_Hall = np.array([np.sin(params['theta'])*np.cos(params['phi']), np.sin(params['theta'])*np.sin(params['phi']), np.cos(params['theta'])])\n",
    "    # x_Hall is arbitary...\n",
    "    x_Hall = np.array([-np.sin(params['phi']), np.cos(params['phi']), 0.])\n",
    "    # B field has some nominal orientation w.r.t. kinematic plate, and is further rotated by axis0, axis1\n",
    "    norm_B = np.array([np.sin(params['alpha'])*np.cos(params['beta']), np.sin(params['alpha'])*np.sin(params['beta']), np.cos(params['alpha'])])\n",
    "    # rotate the field vector w.r.t.\n",
    "    rot = Rotation.from_euler('yz', angles=np.array([-axis0, -axis1]).T, degrees=True) # ok\n",
    "    norm_B_rot = rot.apply(np.repeat(norm_B[:, np.newaxis], len(axis0), axis=1).T)\n",
    "    # calculate signed fraction of B vector along Hall normal i.e. Hall only reads perpendicular field (to first order)\n",
    "    costh = np.dot(norm_B_rot, norm_Hall)\n",
    "    sinth = (1 - costh**2)**(1/2)\n",
    "    theta = np.arccos(costh)\n",
    "    BT_rot90 = np.cross(norm_B_rot, norm_Hall)\n",
    "    BT_rot90 = BT_rot90 / np.linalg.norm(BT_rot90, axis=1)[:, None]\n",
    "    BT_rot = np.cross(norm_Hall, BT_rot90)\n",
    "    # must normalize BT_rot\n",
    "    BT_rot = BT_rot / np.linalg.norm(BT_rot, axis=1)[:, None]\n",
    "    phi_Hall = np.arccos(np.dot(BT_rot, x_Hall))\n",
    "    sign_phi = 2*(np.dot(np.cross(x_Hall, BT_rot), norm_Hall) > 0.).astype(int) - 1.\n",
    "    phi_Hall = sign_phi * phi_Hall + params['phase']\n",
    "    # recenter phi\n",
    "    phi_Hall[phi_Hall > np.pi] = phi_Hall[phi_Hall > np.pi] - 2*np.pi\n",
    "    phi_Hall[phi_Hall < -np.pi] = phi_Hall[phi_Hall < -np.pi] + 2*np.pi\n",
    "    ###\n",
    "    Bx = Bmag * sinth * np.cos(phi_Hall)\n",
    "    By = Bmag * sinth * np.sin(phi_Hall)\n",
    "    Bz = Bmag * costh\n",
    "    B_meas = np.concatenate([Bx, By, Bz])\n",
    "    if params['verbose'] == 1.:\n",
    "        return B_meas, norm_Hall, norm_B, norm_B_rot, BT_rot, theta, phi_Hall\n",
    "    else:\n",
    "        return B_meas"
   ]
  },
  {
   "cell_type": "markdown",
   "metadata": {
    "heading_collapsed": true
   },
   "source": [
    "### Test"
   ]
  },
  {
   "cell_type": "code",
   "execution_count": null,
   "metadata": {
    "hidden": true
   },
   "outputs": [],
   "source": [
    "params= {'theta': np.radians(15.), 'phi': np.radians(-5.)}\n",
    "norm_Hall = np.array([np.sin(params['theta'])*np.cos(params['phi']), np.sin(params['theta'])*np.sin(params['phi']), np.cos(params['theta'])])\n",
    "# x_Hall is arbitary...\n",
    "x_Hall = np.array([-np.sin(params['phi']), np.cos(params['phi']), 0.])"
   ]
  },
  {
   "cell_type": "code",
   "execution_count": null,
   "metadata": {
    "hidden": true
   },
   "outputs": [],
   "source": [
    "norm_Hall, x_Hall"
   ]
  },
  {
   "cell_type": "code",
   "execution_count": null,
   "metadata": {
    "hidden": true,
    "scrolled": true
   },
   "outputs": [],
   "source": [
    "np.dot(norm_Hall, x_Hall)"
   ]
  },
  {
   "cell_type": "code",
   "execution_count": null,
   "metadata": {
    "hidden": true
   },
   "outputs": [],
   "source": [
    "params= {'theta': np.radians(15.), 'phi': np.radians(-5.)}\n",
    "norm_Hall = np.array([np.sin(params['theta'])*np.cos(params['phi']), np.sin(params['theta'])*np.sin(params['phi']), np.cos(params['theta'])])\n",
    "norm_B_rot = np.array([[0, 1, 2], [3, 4, 5], [6, 7,8], [9, 10, 11]])"
   ]
  },
  {
   "cell_type": "code",
   "execution_count": null,
   "metadata": {
    "hidden": true
   },
   "outputs": [],
   "source": [
    "norm_B_rot, norm_Hall"
   ]
  },
  {
   "cell_type": "code",
   "execution_count": null,
   "metadata": {
    "hidden": true
   },
   "outputs": [],
   "source": [
    "np.cross(norm_B_rot, norm_Hall)"
   ]
  },
  {
   "cell_type": "code",
   "execution_count": null,
   "metadata": {
    "hidden": true
   },
   "outputs": [],
   "source": [
    "np.cross(norm_B_rot[3], norm_Hall)"
   ]
  },
  {
   "cell_type": "code",
   "execution_count": null,
   "metadata": {
    "hidden": true
   },
   "outputs": [],
   "source": []
  },
  {
   "cell_type": "code",
   "execution_count": null,
   "metadata": {
    "hidden": true
   },
   "outputs": [],
   "source": [
    "np.cross(norm_Hall, np.cross(norm_B_rot, norm_Hall))"
   ]
  },
  {
   "cell_type": "code",
   "execution_count": null,
   "metadata": {
    "hidden": true
   },
   "outputs": [],
   "source": [
    "np.cross(norm_Hall, np.cross(norm_B_rot[3], norm_Hall))"
   ]
  },
  {
   "cell_type": "code",
   "execution_count": null,
   "metadata": {
    "hidden": true
   },
   "outputs": [],
   "source": []
  },
  {
   "cell_type": "code",
   "execution_count": null,
   "metadata": {
    "hidden": true
   },
   "outputs": [],
   "source": [
    "np.dot(norm_B_rot, norm_Hall)"
   ]
  },
  {
   "cell_type": "code",
   "execution_count": null,
   "metadata": {
    "hidden": true
   },
   "outputs": [],
   "source": [
    "np.dot(norm_B_rot[3], norm_Hall)"
   ]
  },
  {
   "cell_type": "code",
   "execution_count": null,
   "metadata": {
    "hidden": true
   },
   "outputs": [],
   "source": [
    "phi"
   ]
  },
  {
   "cell_type": "code",
   "execution_count": null,
   "metadata": {
    "hidden": true
   },
   "outputs": [],
   "source": [
    "np.ptp(phi)"
   ]
  },
  {
   "cell_type": "code",
   "execution_count": null,
   "metadata": {
    "hidden": true
   },
   "outputs": [],
   "source": []
  },
  {
   "cell_type": "markdown",
   "metadata": {
    "heading_collapsed": true
   },
   "source": [
    "### Fitting"
   ]
  },
  {
   "cell_type": "markdown",
   "metadata": {
    "hidden": true
   },
   "source": [
    "- See if fit works to constrain all five parameters."
   ]
  },
  {
   "cell_type": "code",
   "execution_count": null,
   "metadata": {
    "hidden": true
   },
   "outputs": [],
   "source": [
    "ax0s = np.unique(np.round(df_.SmarAct_Meas_Angle_1_Centered, 3))\n",
    "ax1s = np.unique(np.round(df_.SmarAct_Meas_Angle_2_Centered, 3))\n",
    "A0, A1 = np.meshgrid(ax0s, ax1s, indexing='ij')"
   ]
  },
  {
   "cell_type": "code",
   "execution_count": null,
   "metadata": {
    "hidden": true
   },
   "outputs": [],
   "source": [
    "ax0s"
   ]
  },
  {
   "cell_type": "code",
   "execution_count": null,
   "metadata": {
    "hidden": true
   },
   "outputs": [],
   "source": [
    "# generate data, with noise\n",
    "B0 = 1.0\n",
    "sigma = 3e-5\n",
    "params_true = {\n",
    "        'Bmax': B0, # ~2e6\n",
    "        'verbose': 1,\n",
    "        #'theta': np.random.uniform(low=0., high=np.pi),\n",
    "        'theta': np.random.uniform(low=0., high=np.pi/8.),\n",
    "        #'phi': np.radians(45.),\n",
    "    #     'phi': np.radians(0.),\n",
    "        'phi': np.random.uniform(low=-np.pi, high=np.pi),\n",
    "        #'alpha': np.random.uniform(low=0., high=np.radians(12.)),\n",
    "        'alpha': np.random.uniform(low=0., high=np.pi/8.),\n",
    "        'beta': np.random.uniform(low=-np.pi, high=np.pi),\n",
    "        'phase': np.random.uniform(low=-np.pi, high=np.pi)\n",
    "}\n",
    "Bmags = B0 * np.ones_like(A0.flatten())\n",
    "\n",
    "\n",
    "#Bs = np.array([Hall_Cal_B_gen_v2(a0, a1, **params_true) for a0, a1 in zip(A0.flatten(), A1.flatten())])\n",
    "# Bs = Hall_Cal_B_gen_v2(A0.flatten(), A1.flatten(), **params_true)\n",
    "Bs, norm_Hall, norm_B, norm_B_rot, BT_rot, theta, phi = Hall_Cal_B_gen_v2(A0.flatten(), A1.flatten(), Bmags, **params_true)\n",
    "Bs_meas = Bs + np.random.normal(loc=0, scale=sigma, size=Bs.shape) # ~0.1% noise\n",
    "\n",
    "N = len(A0.flatten())\n",
    "Bxs = Bs[:N]\n",
    "Bys = Bs[N:2*N]\n",
    "Bzs = Bs[2*N:]\n",
    "\n",
    "Bxs_meas = Bs_meas[:N]\n",
    "Bys_meas = Bs_meas[N:2*N]\n",
    "Bzs_meas = Bs_meas[2*N:]"
   ]
  },
  {
   "cell_type": "code",
   "execution_count": null,
   "metadata": {
    "hidden": true
   },
   "outputs": [],
   "source": [
    "np.linalg.norm(BT_rot, axis=1)"
   ]
  },
  {
   "cell_type": "code",
   "execution_count": null,
   "metadata": {
    "hidden": true
   },
   "outputs": [],
   "source": [
    "np.linalg.norm(norm_B_rot, axis=1)"
   ]
  },
  {
   "cell_type": "code",
   "execution_count": null,
   "metadata": {
    "hidden": true
   },
   "outputs": [],
   "source": [
    "np.linalg.norm(norm_B_rot, axis=1)"
   ]
  },
  {
   "cell_type": "code",
   "execution_count": null,
   "metadata": {
    "hidden": true
   },
   "outputs": [],
   "source": [
    "norm_Hall = np.array([np.sin(params['theta'])*np.cos(params['phi']), np.sin(params['theta'])*np.sin(params['phi']), np.cos(params['theta'])])"
   ]
  },
  {
   "cell_type": "code",
   "execution_count": null,
   "metadata": {
    "hidden": true
   },
   "outputs": [],
   "source": [
    "np.linalg.norm(norm_Hall)"
   ]
  },
  {
   "cell_type": "code",
   "execution_count": null,
   "metadata": {
    "hidden": true
   },
   "outputs": [],
   "source": [
    "np.linalg.norm(np.cross(norm_B_rot, norm_Hall), axis=1)"
   ]
  },
  {
   "cell_type": "code",
   "execution_count": null,
   "metadata": {
    "hidden": true
   },
   "outputs": [],
   "source": []
  },
  {
   "cell_type": "code",
   "execution_count": null,
   "metadata": {
    "hidden": true,
    "scrolled": true
   },
   "outputs": [],
   "source": [
    "np.ptp(phi)"
   ]
  },
  {
   "cell_type": "code",
   "execution_count": null,
   "metadata": {
    "hidden": true
   },
   "outputs": [],
   "source": [
    "np.pi*2"
   ]
  },
  {
   "cell_type": "code",
   "execution_count": null,
   "metadata": {
    "hidden": true
   },
   "outputs": [],
   "source": [
    "theta"
   ]
  },
  {
   "cell_type": "code",
   "execution_count": null,
   "metadata": {
    "hidden": true
   },
   "outputs": [],
   "source": [
    "params_true"
   ]
  },
  {
   "cell_type": "code",
   "execution_count": null,
   "metadata": {
    "hidden": true
   },
   "outputs": [],
   "source": [
    "Bs, Bs_meas"
   ]
  },
  {
   "cell_type": "code",
   "execution_count": null,
   "metadata": {
    "hidden": true
   },
   "outputs": [],
   "source": [
    "for Bs_, l in zip([Bxs, Bys, Bzs], ['x', 'y', 'z']):\n",
    "    fig, ax = plt.subplots()\n",
    "    sc = ax.scatter(A0.flatten(), A1.flatten(), c=Bs_, s=4);\n",
    "    cb = fig.colorbar(sc, label=rf'$B_{l}$ [T] -- SIMULATED')\n",
    "\n",
    "    ax.set_xlabel('Angle 1 (i.e. Axis 0) [rad]')\n",
    "    ax.set_ylabel('Angle 2 (i.e. Axis 1) [rad]');"
   ]
  },
  {
   "cell_type": "code",
   "execution_count": null,
   "metadata": {
    "hidden": true
   },
   "outputs": [],
   "source": [
    "# fit!\n",
    "model = lm.Model(Hall_Cal_B_gen_v2, independent_vars=['axis0', 'axis1'])\n",
    "params = lm.Parameters()\n",
    "# fixed parameters\n",
    "# params.add('Bmax', value=B0, vary=False)\n",
    "params.add('Bmax', value=B0, vary=True)\n",
    "params.add('verbose', value=0., vary=False)\n",
    "# parameters to vary\n",
    "params.add('theta', value=np.pi/2, min=0., max=np.pi)\n",
    "params.add('phi', value=0., min=-np.pi, max=np.pi)\n",
    "# params.add('alpha', value=np.pi/2, min=0., max=np.pi)\n",
    "params.add('alpha', value=np.radians(2), min=0., max=np.radians(12.))\n",
    "params.add('beta', value=0., min=-np.pi, max=np.pi)\n",
    "params.add('phase', value=0., min=-np.pi, max=np.pi)\n",
    "# run fit\n",
    "result = model.fit(Bs_meas, axis0=A0.flatten(), axis1=A1.flatten(),\n",
    "                   params=params, weights=1/(sigma*np.ones_like(Bs_meas)), scale_covar=False)"
   ]
  },
  {
   "cell_type": "code",
   "execution_count": null,
   "metadata": {
    "hidden": true
   },
   "outputs": [],
   "source": [
    "B0"
   ]
  },
  {
   "cell_type": "code",
   "execution_count": null,
   "metadata": {
    "hidden": true
   },
   "outputs": [],
   "source": [
    "result"
   ]
  },
  {
   "cell_type": "code",
   "execution_count": null,
   "metadata": {
    "hidden": true
   },
   "outputs": [],
   "source": [
    "params_true"
   ]
  },
  {
   "cell_type": "markdown",
   "metadata": {},
   "source": [
    "### Fit on real data!"
   ]
  },
  {
   "cell_type": "code",
   "execution_count": 29,
   "metadata": {
    "scrolled": true
   },
   "outputs": [
    {
     "data": {
      "text/html": [
       "<div>\n",
       "<style scoped>\n",
       "    .dataframe tbody tr th:only-of-type {\n",
       "        vertical-align: middle;\n",
       "    }\n",
       "\n",
       "    .dataframe tbody tr th {\n",
       "        vertical-align: top;\n",
       "    }\n",
       "\n",
       "    .dataframe thead th {\n",
       "        text-align: right;\n",
       "    }\n",
       "</style>\n",
       "<table border=\"1\" class=\"dataframe\">\n",
       "  <thead>\n",
       "    <tr style=\"text-align: right;\">\n",
       "      <th></th>\n",
       "      <th>Time</th>\n",
       "      <th>Magnet Current [A]</th>\n",
       "      <th>Magnet Voltage [V]</th>\n",
       "      <th>NMR [T]</th>\n",
       "      <th>NMR [FFT]</th>\n",
       "      <th>2F0000000D5EC73A_Raw_X</th>\n",
       "      <th>2F0000000D5EC73A_Raw_Y</th>\n",
       "      <th>2F0000000D5EC73A_Raw_Z</th>\n",
       "      <th>2F0000000D5EC73A_Raw_T</th>\n",
       "      <th>2F0000000D5EC73A_Cal_X</th>\n",
       "      <th>...</th>\n",
       "      <th>SmarAct_Meas_Angle_1_Centered</th>\n",
       "      <th>SmarAct_Meas_Angle_2_Centered</th>\n",
       "      <th>B_Hall_NMR</th>\n",
       "      <th>Cal_X</th>\n",
       "      <th>Cal_Y</th>\n",
       "      <th>Cal_Z</th>\n",
       "      <th>Cal_Bmag</th>\n",
       "      <th>Cal_Trans</th>\n",
       "      <th>Cal_Theta</th>\n",
       "      <th>Cal_Phi</th>\n",
       "    </tr>\n",
       "    <tr>\n",
       "      <th>Datetime</th>\n",
       "      <th></th>\n",
       "      <th></th>\n",
       "      <th></th>\n",
       "      <th></th>\n",
       "      <th></th>\n",
       "      <th></th>\n",
       "      <th></th>\n",
       "      <th></th>\n",
       "      <th></th>\n",
       "      <th></th>\n",
       "      <th></th>\n",
       "      <th></th>\n",
       "      <th></th>\n",
       "      <th></th>\n",
       "      <th></th>\n",
       "      <th></th>\n",
       "      <th></th>\n",
       "      <th></th>\n",
       "      <th></th>\n",
       "      <th></th>\n",
       "      <th></th>\n",
       "    </tr>\n",
       "  </thead>\n",
       "  <tbody>\n",
       "    <tr>\n",
       "      <th>2023-01-16 08:59:14</th>\n",
       "      <td>1/16/2023 8:59:14 AM</td>\n",
       "      <td>180.531953</td>\n",
       "      <td>21.194067</td>\n",
       "      <td>1.002062</td>\n",
       "      <td>0.0</td>\n",
       "      <td>135204.0</td>\n",
       "      <td>322328.0</td>\n",
       "      <td>-2787348.0</td>\n",
       "      <td>20148.0</td>\n",
       "      <td>0.994923</td>\n",
       "      <td>...</td>\n",
       "      <td>-9.499997</td>\n",
       "      <td>-179.000005</td>\n",
       "      <td>1.001821</td>\n",
       "      <td>0.113290</td>\n",
       "      <td>-0.037458</td>\n",
       "      <td>0.994923</td>\n",
       "      <td>1.002053</td>\n",
       "      <td>0.119322</td>\n",
       "      <td>0.118520</td>\n",
       "      <td>-0.319321</td>\n",
       "    </tr>\n",
       "    <tr>\n",
       "      <th>2023-01-16 08:59:22</th>\n",
       "      <td>1/16/2023 8:59:22 AM</td>\n",
       "      <td>180.531897</td>\n",
       "      <td>21.194100</td>\n",
       "      <td>1.002062</td>\n",
       "      <td>0.0</td>\n",
       "      <td>141441.0</td>\n",
       "      <td>320305.0</td>\n",
       "      <td>-2787386.0</td>\n",
       "      <td>20143.0</td>\n",
       "      <td>0.994960</td>\n",
       "      <td>...</td>\n",
       "      <td>-9.500027</td>\n",
       "      <td>-177.999993</td>\n",
       "      <td>1.001821</td>\n",
       "      <td>0.112542</td>\n",
       "      <td>-0.039733</td>\n",
       "      <td>0.994960</td>\n",
       "      <td>1.002093</td>\n",
       "      <td>0.119350</td>\n",
       "      <td>0.118542</td>\n",
       "      <td>-0.339391</td>\n",
       "    </tr>\n",
       "    <tr>\n",
       "      <th>2023-01-16 08:59:30</th>\n",
       "      <td>1/16/2023 8:59:30 AM</td>\n",
       "      <td>180.532010</td>\n",
       "      <td>21.193967</td>\n",
       "      <td>1.002062</td>\n",
       "      <td>0.0</td>\n",
       "      <td>147215.0</td>\n",
       "      <td>318007.0</td>\n",
       "      <td>-2787392.0</td>\n",
       "      <td>20143.0</td>\n",
       "      <td>0.994988</td>\n",
       "      <td>...</td>\n",
       "      <td>-9.500005</td>\n",
       "      <td>-177.000000</td>\n",
       "      <td>1.001821</td>\n",
       "      <td>0.111695</td>\n",
       "      <td>-0.041834</td>\n",
       "      <td>0.994988</td>\n",
       "      <td>1.002112</td>\n",
       "      <td>0.119272</td>\n",
       "      <td>0.118463</td>\n",
       "      <td>-0.358366</td>\n",
       "    </tr>\n",
       "    <tr>\n",
       "      <th>2023-01-16 08:59:38</th>\n",
       "      <td>1/16/2023 8:59:38 AM</td>\n",
       "      <td>180.531897</td>\n",
       "      <td>21.193883</td>\n",
       "      <td>1.002062</td>\n",
       "      <td>0.0</td>\n",
       "      <td>153200.0</td>\n",
       "      <td>315641.0</td>\n",
       "      <td>-2787264.0</td>\n",
       "      <td>20143.0</td>\n",
       "      <td>0.994971</td>\n",
       "      <td>...</td>\n",
       "      <td>-9.499996</td>\n",
       "      <td>-176.000001</td>\n",
       "      <td>1.001821</td>\n",
       "      <td>0.110823</td>\n",
       "      <td>-0.044013</td>\n",
       "      <td>0.994971</td>\n",
       "      <td>1.002091</td>\n",
       "      <td>0.119242</td>\n",
       "      <td>0.118437</td>\n",
       "      <td>-0.378042</td>\n",
       "    </tr>\n",
       "    <tr>\n",
       "      <th>2023-01-16 08:59:46</th>\n",
       "      <td>1/16/2023 8:59:46 AM</td>\n",
       "      <td>180.531897</td>\n",
       "      <td>21.193767</td>\n",
       "      <td>1.002062</td>\n",
       "      <td>0.0</td>\n",
       "      <td>159215.0</td>\n",
       "      <td>313148.0</td>\n",
       "      <td>-2787195.0</td>\n",
       "      <td>20137.0</td>\n",
       "      <td>0.994972</td>\n",
       "      <td>...</td>\n",
       "      <td>-9.500003</td>\n",
       "      <td>-175.000004</td>\n",
       "      <td>1.001821</td>\n",
       "      <td>0.109904</td>\n",
       "      <td>-0.046200</td>\n",
       "      <td>0.994972</td>\n",
       "      <td>1.002089</td>\n",
       "      <td>0.119220</td>\n",
       "      <td>0.118414</td>\n",
       "      <td>-0.397939</td>\n",
       "    </tr>\n",
       "    <tr>\n",
       "      <th>...</th>\n",
       "      <td>...</td>\n",
       "      <td>...</td>\n",
       "      <td>...</td>\n",
       "      <td>...</td>\n",
       "      <td>...</td>\n",
       "      <td>...</td>\n",
       "      <td>...</td>\n",
       "      <td>...</td>\n",
       "      <td>...</td>\n",
       "      <td>...</td>\n",
       "      <td>...</td>\n",
       "      <td>...</td>\n",
       "      <td>...</td>\n",
       "      <td>...</td>\n",
       "      <td>...</td>\n",
       "      <td>...</td>\n",
       "      <td>...</td>\n",
       "      <td>...</td>\n",
       "      <td>...</td>\n",
       "      <td>...</td>\n",
       "      <td>...</td>\n",
       "    </tr>\n",
       "    <tr>\n",
       "      <th>2023-01-22 23:59:25</th>\n",
       "      <td>1/22/2023 11:59:25 PM</td>\n",
       "      <td>180.532577</td>\n",
       "      <td>21.309517</td>\n",
       "      <td>1.001629</td>\n",
       "      <td>0.0</td>\n",
       "      <td>30025.0</td>\n",
       "      <td>127458.0</td>\n",
       "      <td>-2785324.0</td>\n",
       "      <td>34816.0</td>\n",
       "      <td>1.000731</td>\n",
       "      <td>...</td>\n",
       "      <td>-4.999999</td>\n",
       "      <td>172.999997</td>\n",
       "      <td>1.001388</td>\n",
       "      <td>0.042906</td>\n",
       "      <td>0.003649</td>\n",
       "      <td>1.000731</td>\n",
       "      <td>1.001657</td>\n",
       "      <td>0.043061</td>\n",
       "      <td>0.042963</td>\n",
       "      <td>0.084832</td>\n",
       "    </tr>\n",
       "    <tr>\n",
       "      <th>2023-01-22 23:59:33</th>\n",
       "      <td>1/22/2023 11:59:33 PM</td>\n",
       "      <td>180.532577</td>\n",
       "      <td>21.309483</td>\n",
       "      <td>1.001629</td>\n",
       "      <td>0.0</td>\n",
       "      <td>32719.0</td>\n",
       "      <td>127239.0</td>\n",
       "      <td>-2785339.0</td>\n",
       "      <td>34826.0</td>\n",
       "      <td>1.000748</td>\n",
       "      <td>...</td>\n",
       "      <td>-5.000015</td>\n",
       "      <td>174.000002</td>\n",
       "      <td>1.001388</td>\n",
       "      <td>0.042820</td>\n",
       "      <td>0.002651</td>\n",
       "      <td>1.000748</td>\n",
       "      <td>1.001667</td>\n",
       "      <td>0.042902</td>\n",
       "      <td>0.042805</td>\n",
       "      <td>0.061826</td>\n",
       "    </tr>\n",
       "    <tr>\n",
       "      <th>2023-01-22 23:59:42</th>\n",
       "      <td>1/22/2023 11:59:42 PM</td>\n",
       "      <td>180.532690</td>\n",
       "      <td>21.309383</td>\n",
       "      <td>1.001629</td>\n",
       "      <td>0.0</td>\n",
       "      <td>35348.0</td>\n",
       "      <td>126992.0</td>\n",
       "      <td>-2785248.0</td>\n",
       "      <td>34829.0</td>\n",
       "      <td>1.000725</td>\n",
       "      <td>...</td>\n",
       "      <td>-5.000022</td>\n",
       "      <td>174.999999</td>\n",
       "      <td>1.001388</td>\n",
       "      <td>0.042724</td>\n",
       "      <td>0.001677</td>\n",
       "      <td>1.000725</td>\n",
       "      <td>1.001638</td>\n",
       "      <td>0.042757</td>\n",
       "      <td>0.042662</td>\n",
       "      <td>0.039234</td>\n",
       "    </tr>\n",
       "    <tr>\n",
       "      <th>2023-01-22 23:59:50</th>\n",
       "      <td>1/22/2023 11:59:50 PM</td>\n",
       "      <td>180.532690</td>\n",
       "      <td>21.309317</td>\n",
       "      <td>1.001629</td>\n",
       "      <td>0.0</td>\n",
       "      <td>37958.0</td>\n",
       "      <td>126679.0</td>\n",
       "      <td>-2785366.0</td>\n",
       "      <td>34822.0</td>\n",
       "      <td>1.000772</td>\n",
       "      <td>...</td>\n",
       "      <td>-4.999969</td>\n",
       "      <td>176.000005</td>\n",
       "      <td>1.001388</td>\n",
       "      <td>0.042604</td>\n",
       "      <td>0.000713</td>\n",
       "      <td>1.000772</td>\n",
       "      <td>1.001678</td>\n",
       "      <td>0.042610</td>\n",
       "      <td>0.042513</td>\n",
       "      <td>0.016733</td>\n",
       "    </tr>\n",
       "    <tr>\n",
       "      <th>2023-01-22 23:59:58</th>\n",
       "      <td>1/22/2023 11:59:58 PM</td>\n",
       "      <td>180.532633</td>\n",
       "      <td>21.309150</td>\n",
       "      <td>1.001629</td>\n",
       "      <td>0.0</td>\n",
       "      <td>40632.0</td>\n",
       "      <td>126351.0</td>\n",
       "      <td>-2785343.0</td>\n",
       "      <td>34821.0</td>\n",
       "      <td>1.000771</td>\n",
       "      <td>...</td>\n",
       "      <td>-5.000009</td>\n",
       "      <td>176.999997</td>\n",
       "      <td>1.001388</td>\n",
       "      <td>0.042479</td>\n",
       "      <td>-0.000276</td>\n",
       "      <td>1.000771</td>\n",
       "      <td>1.001673</td>\n",
       "      <td>0.042479</td>\n",
       "      <td>0.042383</td>\n",
       "      <td>-0.006492</td>\n",
       "    </tr>\n",
       "  </tbody>\n",
       "</table>\n",
       "<p>50895 rows × 43 columns</p>\n",
       "</div>"
      ],
      "text/plain": [
       "                                      Time  Magnet Current [A]  \\\n",
       "Datetime                                                         \n",
       "2023-01-16 08:59:14   1/16/2023 8:59:14 AM          180.531953   \n",
       "2023-01-16 08:59:22   1/16/2023 8:59:22 AM          180.531897   \n",
       "2023-01-16 08:59:30   1/16/2023 8:59:30 AM          180.532010   \n",
       "2023-01-16 08:59:38   1/16/2023 8:59:38 AM          180.531897   \n",
       "2023-01-16 08:59:46   1/16/2023 8:59:46 AM          180.531897   \n",
       "...                                    ...                 ...   \n",
       "2023-01-22 23:59:25  1/22/2023 11:59:25 PM          180.532577   \n",
       "2023-01-22 23:59:33  1/22/2023 11:59:33 PM          180.532577   \n",
       "2023-01-22 23:59:42  1/22/2023 11:59:42 PM          180.532690   \n",
       "2023-01-22 23:59:50  1/22/2023 11:59:50 PM          180.532690   \n",
       "2023-01-22 23:59:58  1/22/2023 11:59:58 PM          180.532633   \n",
       "\n",
       "                     Magnet Voltage [V]   NMR [T]  NMR [FFT]  \\\n",
       "Datetime                                                       \n",
       "2023-01-16 08:59:14           21.194067  1.002062        0.0   \n",
       "2023-01-16 08:59:22           21.194100  1.002062        0.0   \n",
       "2023-01-16 08:59:30           21.193967  1.002062        0.0   \n",
       "2023-01-16 08:59:38           21.193883  1.002062        0.0   \n",
       "2023-01-16 08:59:46           21.193767  1.002062        0.0   \n",
       "...                                 ...       ...        ...   \n",
       "2023-01-22 23:59:25           21.309517  1.001629        0.0   \n",
       "2023-01-22 23:59:33           21.309483  1.001629        0.0   \n",
       "2023-01-22 23:59:42           21.309383  1.001629        0.0   \n",
       "2023-01-22 23:59:50           21.309317  1.001629        0.0   \n",
       "2023-01-22 23:59:58           21.309150  1.001629        0.0   \n",
       "\n",
       "                     2F0000000D5EC73A_Raw_X  2F0000000D5EC73A_Raw_Y  \\\n",
       "Datetime                                                              \n",
       "2023-01-16 08:59:14                135204.0                322328.0   \n",
       "2023-01-16 08:59:22                141441.0                320305.0   \n",
       "2023-01-16 08:59:30                147215.0                318007.0   \n",
       "2023-01-16 08:59:38                153200.0                315641.0   \n",
       "2023-01-16 08:59:46                159215.0                313148.0   \n",
       "...                                     ...                     ...   \n",
       "2023-01-22 23:59:25                 30025.0                127458.0   \n",
       "2023-01-22 23:59:33                 32719.0                127239.0   \n",
       "2023-01-22 23:59:42                 35348.0                126992.0   \n",
       "2023-01-22 23:59:50                 37958.0                126679.0   \n",
       "2023-01-22 23:59:58                 40632.0                126351.0   \n",
       "\n",
       "                     2F0000000D5EC73A_Raw_Z  2F0000000D5EC73A_Raw_T  \\\n",
       "Datetime                                                              \n",
       "2023-01-16 08:59:14              -2787348.0                 20148.0   \n",
       "2023-01-16 08:59:22              -2787386.0                 20143.0   \n",
       "2023-01-16 08:59:30              -2787392.0                 20143.0   \n",
       "2023-01-16 08:59:38              -2787264.0                 20143.0   \n",
       "2023-01-16 08:59:46              -2787195.0                 20137.0   \n",
       "...                                     ...                     ...   \n",
       "2023-01-22 23:59:25              -2785324.0                 34816.0   \n",
       "2023-01-22 23:59:33              -2785339.0                 34826.0   \n",
       "2023-01-22 23:59:42              -2785248.0                 34829.0   \n",
       "2023-01-22 23:59:50              -2785366.0                 34822.0   \n",
       "2023-01-22 23:59:58              -2785343.0                 34821.0   \n",
       "\n",
       "                     2F0000000D5EC73A_Cal_X  ...  \\\n",
       "Datetime                                     ...   \n",
       "2023-01-16 08:59:14                0.994923  ...   \n",
       "2023-01-16 08:59:22                0.994960  ...   \n",
       "2023-01-16 08:59:30                0.994988  ...   \n",
       "2023-01-16 08:59:38                0.994971  ...   \n",
       "2023-01-16 08:59:46                0.994972  ...   \n",
       "...                                     ...  ...   \n",
       "2023-01-22 23:59:25                1.000731  ...   \n",
       "2023-01-22 23:59:33                1.000748  ...   \n",
       "2023-01-22 23:59:42                1.000725  ...   \n",
       "2023-01-22 23:59:50                1.000772  ...   \n",
       "2023-01-22 23:59:58                1.000771  ...   \n",
       "\n",
       "                     SmarAct_Meas_Angle_1_Centered  \\\n",
       "Datetime                                             \n",
       "2023-01-16 08:59:14                      -9.499997   \n",
       "2023-01-16 08:59:22                      -9.500027   \n",
       "2023-01-16 08:59:30                      -9.500005   \n",
       "2023-01-16 08:59:38                      -9.499996   \n",
       "2023-01-16 08:59:46                      -9.500003   \n",
       "...                                            ...   \n",
       "2023-01-22 23:59:25                      -4.999999   \n",
       "2023-01-22 23:59:33                      -5.000015   \n",
       "2023-01-22 23:59:42                      -5.000022   \n",
       "2023-01-22 23:59:50                      -4.999969   \n",
       "2023-01-22 23:59:58                      -5.000009   \n",
       "\n",
       "                     SmarAct_Meas_Angle_2_Centered  B_Hall_NMR     Cal_X  \\\n",
       "Datetime                                                                   \n",
       "2023-01-16 08:59:14                    -179.000005    1.001821  0.113290   \n",
       "2023-01-16 08:59:22                    -177.999993    1.001821  0.112542   \n",
       "2023-01-16 08:59:30                    -177.000000    1.001821  0.111695   \n",
       "2023-01-16 08:59:38                    -176.000001    1.001821  0.110823   \n",
       "2023-01-16 08:59:46                    -175.000004    1.001821  0.109904   \n",
       "...                                            ...         ...       ...   \n",
       "2023-01-22 23:59:25                     172.999997    1.001388  0.042906   \n",
       "2023-01-22 23:59:33                     174.000002    1.001388  0.042820   \n",
       "2023-01-22 23:59:42                     174.999999    1.001388  0.042724   \n",
       "2023-01-22 23:59:50                     176.000005    1.001388  0.042604   \n",
       "2023-01-22 23:59:58                     176.999997    1.001388  0.042479   \n",
       "\n",
       "                        Cal_Y     Cal_Z  Cal_Bmag  Cal_Trans  Cal_Theta  \\\n",
       "Datetime                                                                  \n",
       "2023-01-16 08:59:14 -0.037458  0.994923  1.002053   0.119322   0.118520   \n",
       "2023-01-16 08:59:22 -0.039733  0.994960  1.002093   0.119350   0.118542   \n",
       "2023-01-16 08:59:30 -0.041834  0.994988  1.002112   0.119272   0.118463   \n",
       "2023-01-16 08:59:38 -0.044013  0.994971  1.002091   0.119242   0.118437   \n",
       "2023-01-16 08:59:46 -0.046200  0.994972  1.002089   0.119220   0.118414   \n",
       "...                       ...       ...       ...        ...        ...   \n",
       "2023-01-22 23:59:25  0.003649  1.000731  1.001657   0.043061   0.042963   \n",
       "2023-01-22 23:59:33  0.002651  1.000748  1.001667   0.042902   0.042805   \n",
       "2023-01-22 23:59:42  0.001677  1.000725  1.001638   0.042757   0.042662   \n",
       "2023-01-22 23:59:50  0.000713  1.000772  1.001678   0.042610   0.042513   \n",
       "2023-01-22 23:59:58 -0.000276  1.000771  1.001673   0.042479   0.042383   \n",
       "\n",
       "                      Cal_Phi  \n",
       "Datetime                       \n",
       "2023-01-16 08:59:14 -0.319321  \n",
       "2023-01-16 08:59:22 -0.339391  \n",
       "2023-01-16 08:59:30 -0.358366  \n",
       "2023-01-16 08:59:38 -0.378042  \n",
       "2023-01-16 08:59:46 -0.397939  \n",
       "...                       ...  \n",
       "2023-01-22 23:59:25  0.084832  \n",
       "2023-01-22 23:59:33  0.061826  \n",
       "2023-01-22 23:59:42  0.039234  \n",
       "2023-01-22 23:59:50  0.016733  \n",
       "2023-01-22 23:59:58 -0.006492  \n",
       "\n",
       "[50895 rows x 43 columns]"
      ]
     },
     "execution_count": 29,
     "metadata": {},
     "output_type": "execute_result"
    }
   ],
   "source": [
    "df"
   ]
  },
  {
   "cell_type": "code",
   "execution_count": 30,
   "metadata": {},
   "outputs": [],
   "source": [
    "# do we query a particular run?\n",
    "# df_ = df.copy() # no\n",
    "df_ = df.query('\"01-16-23 08:55\" <= Datetime <= \"01-18-23 15:25\"').copy() # yes, query run 3.\n",
    "#df_ = df.query('(\"01-16-23 08:55\" <= Datetime <= \"01-18-23 15:25\") or (\"01-22-23 06:37\" <= Datetime)').copy() # yes, query run 3 and 5\n",
    "# df_ = df.query('(\"01-16-23 08:55\" <= Datetime <= \"01-18-23 15:25\") or (\"01-22-23 06:37\" >= Datetime)').copy() # yes, query run 3 and 4"
   ]
  },
  {
   "cell_type": "code",
   "execution_count": 31,
   "metadata": {},
   "outputs": [],
   "source": [
    "sigma_est = 3e-5\n",
    "# sigma_est = 1e-4\n",
    "# sigma_est = 1e-3\n",
    "# coord = 'Z'\n",
    "# coord = 'X'\n",
    "# coord = 'Y'\n",
    "#B0 = df[f'Cal_{coord}'].abs().max()\n",
    "B0 = df_['B_Hall_NMR'].mean()\n",
    "Bs_meas = np.concatenate([df_[f'Cal_{coord}'].values for coord in ['X', 'Y', 'Z']])\n",
    "# fit!\n",
    "model = lm.Model(Hall_Cal_B_gen_v2, independent_vars=['axis0', 'axis1', 'Bmag'])\n",
    "params = lm.Parameters()\n",
    "# '''\n",
    "# fixed parameters\n",
    "# params.add('Bmax', value=B0, vary=True, min=0.5, max=1.5)\n",
    "# params.add('Bmax', value=B0, vary=False)\n",
    "# params.add('Bmax', value=1.00212872, vary=False)\n",
    "params.add('verbose', value=0., vary=False)\n",
    "# parameters to vary\n",
    "# params.add('theta', value=np.pi/2, min=0. - np.pi/4, max=np.pi + np.pi/4)\n",
    "params.add('theta', value=np.radians(2), min=0., max=np.radians(5.))\n",
    "params.add('phi', value=0., min=-np.pi, max=np.pi)\n",
    "# params.add('alpha', value=np.pi/2, min=0., max=np.pi)\n",
    "# params.add('alpha', value=np.radians(2), min=np.radians(-4.), max=np.radians(12.))\n",
    "params.add('alpha', value=np.radians(2), min=0., max=np.radians(5.))\n",
    "# params.add('alpha', value=-0.03523667, vary=False)\n",
    "# params.add('beta', value=0., min=-np.pi - np.pi/4, max=np.pi + np.pi/4, vary=True)\n",
    "# params.add('beta', value=0., min=-np.pi, max=np.pi, vary=True)\n",
    "params.add('beta', value=np.pi, min=0., max=2*np.pi, vary=True)\n",
    "# params.add('beta', value=-0.40267806, vary=False,)\n",
    "params.add('phase', value=0., min=-np.pi, max=np.pi)\n",
    "# best fit alpha and beta\n",
    "# params.add('alpha', value=0.03240273, vary=False)\n",
    "# params.add('beta', value=-3.14159265, vary=False)\n",
    "# '''\n",
    "\n",
    "'''\n",
    "# var = False\n",
    "var = True\n",
    "params.add('verbose', value=0., vary=False)\n",
    "# params.add('Bmax', value=result_Zcoord.params['Bmax'].value, vary = False)\n",
    "params.add('theta', value=result_Zcoord.params['theta'].value, vary = var)\n",
    "params.add('phi', value=result_Zcoord.params['phi'].value, vary = var)\n",
    "params.add('alpha', value=result_Zcoord.params['alpha'].value, vary = var)\n",
    "params.add('beta', value=result_Zcoord.params['beta'].value, vary = var)\n",
    "params.add('phase', value=0., min=-np.pi, max=np.pi, vary=var)\n",
    "'''\n",
    "\n",
    "### NOT SURE THAT THESE WORK ON THEIR OWN\n",
    "# phi for X (really Y)\n",
    "# if coord == 'X':\n",
    "#     params.add('phi', value=-np.pi/2, vary=True, min=-np.pi/2 + np.radians(-10), max=-np.pi/2 + np.radians(10))\n",
    "# phi for Y (really X)\n",
    "# if coord == 'Y':\n",
    "#     params.add('phi', value=0., vary=True, min=np.radians(-10), max=np.radians(10))\n",
    "\n",
    "# run fit\n",
    "#result = model.fit(Bs_meas, axis0=A0.flatten(), axis1=A1.flatten(),\n",
    "#                   params=params, weights=1/(sigma_est*B0*np.ones_like(Bs_meas)), scale_covar=False)\n",
    "####\n",
    "# result = model.fit(Bs_meas, axis0=df['SmarAct_Meas_Angle_1_Centered'].values, axis1=df['SmarAct_Meas_Angle_2_Centered'].values,\n",
    "#                   params=params, weights=1/(sigma_est*B0*np.ones_like(Bs_meas)), scale_covar=False)\n",
    "# adding Bmag\n",
    "result = model.fit(Bs_meas, axis0=df_['SmarAct_Meas_Angle_1_Centered'].values, axis1=df_['SmarAct_Meas_Angle_2_Centered'].values,\n",
    "                   Bmag=df_[f'{probe}_Cal_Bmag'].values, params=params, weights=1/(sigma_est*B0*np.ones_like(Bs_meas)), scale_covar=False)"
   ]
  },
  {
   "cell_type": "code",
   "execution_count": 32,
   "metadata": {},
   "outputs": [
    {
     "data": {
      "text/html": [
       "<h2> Model</h2> Model(Hall_Cal_B_gen_v2) <h2>Fit Statistics</h2><table><tr><td>fitting method</td><td>leastsq</td><td></td></tr><tr><td># function evals</td><td>49</td><td></td></tr><tr><td># data points</td><td>66060</td><td></td></tr><tr><td># variables</td><td>5</td><td></td></tr><tr><td>chi-square</td><td> 74651.6962</td><td></td></tr><tr><td>reduced chi-square</td><td> 1.13014452</td><td></td></tr><tr><td>Akaike info crit.</td><td> 8087.14472</td><td></td></tr><tr><td>Bayesian info crit.</td><td> 8132.63632</td><td></td></tr></table><h2>Variables</h2><table><tr><th> name </th><th> value </th><th> standard error </th><th> relative error </th><th> initial value </th><th> min </th><th> max </th><th> vary </th></tr><tr><td> verbose </td><td>  0.00000000 </td><td>  0.00000000 </td><td>  </td><td> 0.0 </td><td>        -inf </td><td>         inf </td><td> False </td></tr><tr><td> theta </td><td>  0.01498990 </td><td>  2.0242e-07 </td><td> (0.00%) </td><td> 0.03490658503988659 </td><td>  0.00000000 </td><td>  0.08726646 </td><td> True </td></tr><tr><td> phi </td><td>  3.06481464 </td><td>  1.3758e-05 </td><td> (0.00%) </td><td> 0.0 </td><td> -3.14159265 </td><td>  3.14159265 </td><td> True </td></tr><tr><td> alpha </td><td>  0.03489199 </td><td>  2.0514e-07 </td><td> (0.00%) </td><td> 0.03490658503988659 </td><td>  0.00000000 </td><td>  0.08726646 </td><td> True </td></tr><tr><td> beta </td><td>  2.74907575 </td><td>  5.7972e-06 </td><td> (0.00%) </td><td> 3.141592653589793 </td><td>  0.00000000 </td><td>  6.28318531 </td><td> True </td></tr><tr><td> phase </td><td>  1.07235833 </td><td>  1.3504e-05 </td><td> (0.00%) </td><td> 0.0 </td><td> -3.14159265 </td><td>  3.14159265 </td><td> True </td></tr></table><h2>Correlations (unreported correlations are < 0.100)</h2><table><tr><td>phi</td><td>phase</td><td>0.9815</td></tr></table>"
      ],
      "text/plain": [
       "<lmfit.model.ModelResult at 0x7fb570ea0dc0>"
      ]
     },
     "execution_count": 32,
     "metadata": {},
     "output_type": "execute_result"
    }
   ],
   "source": [
    "# scan 3 fit\n",
    "result"
   ]
  },
  {
   "cell_type": "code",
   "execution_count": null,
   "metadata": {},
   "outputs": [],
   "source": [
    "# scan 3-5 simulataneous fit\n",
    "result"
   ]
  },
  {
   "cell_type": "code",
   "execution_count": null,
   "metadata": {},
   "outputs": [],
   "source": [
    "# scan 3 & 4 simulataneous fit\n",
    "result"
   ]
  },
  {
   "cell_type": "code",
   "execution_count": null,
   "metadata": {},
   "outputs": [],
   "source": [
    "# scan 3 & 5 simulataneous fit\n",
    "result"
   ]
  },
  {
   "cell_type": "code",
   "execution_count": null,
   "metadata": {},
   "outputs": [],
   "source": [
    "# scan 3-5 simulataneous fit\n",
    "result"
   ]
  },
  {
   "cell_type": "code",
   "execution_count": null,
   "metadata": {
    "code_folding": []
   },
   "outputs": [],
   "source": [
    "# old scan\n",
    "result"
   ]
  },
  {
   "cell_type": "code",
   "execution_count": null,
   "metadata": {},
   "outputs": [],
   "source": [
    "# scan 3-5 simulataneous fit\n",
    "# query only scan 3.\n",
    "result"
   ]
  },
  {
   "cell_type": "code",
   "execution_count": null,
   "metadata": {},
   "outputs": [],
   "source": [
    "# scan 3-5 simulataneous fit\n",
    "result"
   ]
  },
  {
   "cell_type": "code",
   "execution_count": null,
   "metadata": {},
   "outputs": [],
   "source": [
    "# scan 5 (incomplete)\n",
    "result"
   ]
  },
  {
   "cell_type": "code",
   "execution_count": null,
   "metadata": {},
   "outputs": [],
   "source": [
    "# scan 4\n",
    "result"
   ]
  },
  {
   "cell_type": "code",
   "execution_count": null,
   "metadata": {},
   "outputs": [],
   "source": [
    "# scan 3\n",
    "result"
   ]
  },
  {
   "cell_type": "code",
   "execution_count": null,
   "metadata": {},
   "outputs": [],
   "source": [
    "np.sin(result.params['theta']) * np.cos(result.params['phi']), np.sin(result.params['theta']) * np.sin(result.params['phi']), np.cos(result.params['theta'])"
   ]
  },
  {
   "cell_type": "code",
   "execution_count": null,
   "metadata": {},
   "outputs": [],
   "source": [
    "np.degrees(1.07236) + 180"
   ]
  },
  {
   "cell_type": "code",
   "execution_count": null,
   "metadata": {},
   "outputs": [],
   "source": [
    "result_Zcoord"
   ]
  },
  {
   "cell_type": "code",
   "execution_count": null,
   "metadata": {},
   "outputs": [],
   "source": [
    "np.degrees(0.011)"
   ]
  },
  {
   "cell_type": "code",
   "execution_count": 33,
   "metadata": {},
   "outputs": [],
   "source": [
    "def normalize_angle(angle, degrees=False):\n",
    "    if degrees:\n",
    "        angle_rad = np.radians(angle)\n",
    "        return np.degrees(np.arctan2(np.sin(angle_rad), np.cos(angle_rad)))\n",
    "    else:\n",
    "        return np.arctan2(np.sin(angle), np.cos(angle))\n",
    "\n",
    "def normalize_polar_angle(angle, degrees=False):\n",
    "    if degrees:\n",
    "        angle_rad = np.radians(angle)\n",
    "        return np.degrees(np.arccos(np.cos(angle_rad)))\n",
    "    else:\n",
    "        return np.arccos(np.cos(angle))"
   ]
  },
  {
   "cell_type": "code",
   "execution_count": 34,
   "metadata": {
    "scrolled": true
   },
   "outputs": [
    {
     "name": "stdout",
     "output_type": "stream",
     "text": [
      "verbose 0.0 0.0 0.0\n",
      "theta 0.014989903387307855 0.014989903387307855 0.01498990338730731\n",
      "phi 3.0648146407613597 3.0648146407613597 3.06481464076136\n",
      "alpha 0.03489199237187584 0.03489199237187584 0.0348919923718749\n",
      "beta 2.749075749844544 2.749075749844544 2.749075749844544\n",
      "phase 1.0723583336594071 1.0723583336594071 1.0723583336594071\n"
     ]
    }
   ],
   "source": [
    "for k in result.params.keys():\n",
    "    print(k, result.params[k].value, normalize_angle(result.params[k].value), normalize_polar_angle(result.params[k].value))"
   ]
  },
  {
   "cell_type": "code",
   "execution_count": 35,
   "metadata": {},
   "outputs": [],
   "source": [
    "if not np.isclose(normalize_angle(result.params['theta'].value), normalize_polar_angle(result.params['theta'].value)):\n",
    "    print('Phi flipped')\n",
    "    print(f'Phi0: {result.params[\"phi\"].value}, Phi0 + pi: {normalize_angle(result.params[\"phi\"].value+np.pi)}')"
   ]
  },
  {
   "cell_type": "code",
   "execution_count": 36,
   "metadata": {},
   "outputs": [],
   "source": [
    "if not np.isclose(normalize_angle(result.params['alpha'].value), normalize_polar_angle(result.params['alpha'].value)):\n",
    "    print('Beta flipped')\n",
    "    print(f'Beta0: {result.params[\"beta\"].value}, Beta0 + pi: {normalize_angle(result.params[\"beta\"].value+np.pi)}')"
   ]
  },
  {
   "cell_type": "code",
   "execution_count": null,
   "metadata": {},
   "outputs": [],
   "source": [
    "np.degrees(result.params['theta'])"
   ]
  },
  {
   "cell_type": "code",
   "execution_count": null,
   "metadata": {},
   "outputs": [],
   "source": [
    "np.degrees(result.params['phi'])"
   ]
  },
  {
   "cell_type": "code",
   "execution_count": null,
   "metadata": {},
   "outputs": [],
   "source": [
    "np.degrees(result.params['alpha'])"
   ]
  },
  {
   "cell_type": "code",
   "execution_count": null,
   "metadata": {},
   "outputs": [],
   "source": [
    "np.degrees(result.params['beta'])"
   ]
  },
  {
   "cell_type": "code",
   "execution_count": null,
   "metadata": {
    "scrolled": true
   },
   "outputs": [],
   "source": [
    "result.best_fit"
   ]
  },
  {
   "cell_type": "code",
   "execution_count": 37,
   "metadata": {},
   "outputs": [],
   "source": [
    "# plots!\n",
    "from matplotlib.colors import Normalize\n",
    "import matplotlib.cm as cm"
   ]
  },
  {
   "cell_type": "code",
   "execution_count": null,
   "metadata": {},
   "outputs": [],
   "source": [
    "#N = len(df)\n",
    "N = len(df_)\n",
    "### X\n",
    "# coord = 'X'\n",
    "# ind0 = 0\n",
    "# ind1 = 1*N\n",
    "### Y\n",
    "coord = 'Y'\n",
    "ind0 = 1*N\n",
    "ind1 = 2*N\n",
    "### Z\n",
    "# coord = 'Z'\n",
    "# ind0 = 2*N\n",
    "# ind1 = 3*N\n",
    "####\n",
    "bf = result.best_fit[ind0:ind1]\n",
    "\n",
    "Bmin = np.min([np.min(df[f'Cal_{coord}']), np.min(bf)])\n",
    "Bmax = np.max([np.max(df[f'Cal_{coord}']), np.max(bf)])"
   ]
  },
  {
   "cell_type": "code",
   "execution_count": null,
   "metadata": {},
   "outputs": [],
   "source": [
    "Bmin, Bmax"
   ]
  },
  {
   "cell_type": "code",
   "execution_count": null,
   "metadata": {},
   "outputs": [],
   "source": [
    "# data, fit\n",
    "fig, axs = plt.subplots(nrows=1, ncols=2, figsize=(24, 8))\n",
    "cmap = cm.get_cmap('viridis')\n",
    "normalizer = Normalize(Bmin, Bmax)\n",
    "im = cm.ScalarMappable(norm=normalizer)\n",
    "# sc = axs[0].scatter(A0.flatten(), A1.flatten(), c=Bs_meas, s=4, cmap=cmap, norm=normalizer)\n",
    "# sc1 = axs[1].scatter(A0.flatten(), A1.flatten(), c=result.best_fit, s=4, cmap=cmap, norm=normalizer)\n",
    "\n",
    "sc = axs[0].scatter(df_['SmarAct_Meas_Angle_1_Centered'].values, df_['SmarAct_Meas_Angle_2_Centered'].values, c=Bs_meas[ind0:ind1], s=4, cmap=cmap, norm=normalizer)\n",
    "sc1 = axs[1].scatter(df_['SmarAct_Meas_Angle_1_Centered'].values, df_['SmarAct_Meas_Angle_2_Centered'].values, c=bf, s=4, cmap=cmap, norm=normalizer)\n",
    "\n",
    "cb = fig.colorbar(im, label=rf'$B_{coord}$ [T]')\n",
    "\n",
    "axs[0].set_xlabel('Angle 1 (i.e. Axis 0) [rad]')\n",
    "axs[0].set_ylabel('Angle 2 (i.e. Axis 1) [rad]')\n",
    "axs[0].set_title('Measured Values')\n",
    "axs[1].set_xlabel('Angle 1 (i.e. Axis 0) [rad]')\n",
    "axs[1].set_ylabel('Angle 2 (i.e. Axis 1) [rad]')\n",
    "axs[1].set_title('Best Fit Values: \\n'+\n",
    "                 rf'$\\theta = {result.params[\"theta\"].value:0.3f},\\ \\phi = {result.params[\"phi\"].value:0.3f}$, '+#'\\n'+\n",
    "                 rf'$\\alpha = {result.params[\"alpha\"].value:0.3f},\\ \\beta = {result.params[\"beta\"].value:0.3f},\\ \\mathrm{{phase}} = {result.params[\"phase\"].value:0.3f}$')"
   ]
  },
  {
   "cell_type": "code",
   "execution_count": null,
   "metadata": {},
   "outputs": [],
   "source": [
    "# data - fit\n",
    "fig, ax = plt.subplots(figsize=(12, 8))\n",
    "cmap = cm.get_cmap('viridis')\n",
    "# normalizer = Normalize(Bmin, Bmax)\n",
    "# im = cm.ScalarMappable(norm=normalizer)\n",
    "# sc = axs[0].scatter(A0.flatten(), A1.flatten(), c=Bs_meas, s=4, cmap=cmap, norm=normalizer)\n",
    "# sc1 = axs[1].scatter(A0.flatten(), A1.flatten(), c=result.best_fit, s=4, cmap=cmap, norm=normalizer)\n",
    "\n",
    "sc = ax.scatter(df_['SmarAct_Meas_Angle_1_Centered'].values, df_['SmarAct_Meas_Angle_2_Centered'].values, c=Bs_meas[ind0:ind1]-bf, s=4, cmap=cmap)#, norm=normalizer)\n",
    "\n",
    "cb = fig.colorbar(sc, label=rf'$B_{coord}$ [T]')\n",
    "\n",
    "ax.set_xlabel('Angle 1 (i.e. Axis 0) [deg]')\n",
    "ax.set_ylabel('Angle 2 (i.e. Axis 1) [deg]')\n",
    "ax.set_title('Measured Values - Best Fit Values: \\n'+\n",
    "             rf'$\\theta = {result.params[\"theta\"].value:0.3f},\\ \\phi = {result.params[\"phi\"].value:0.3f}$, '+#'\\n'+\n",
    "             rf'$\\alpha = {result.params[\"alpha\"].value:0.3f},\\ \\beta = {result.params[\"beta\"].value:0.3f},$'+'\\n'+rf'$\\ \\mathrm{{phase}} = {result.params[\"phase\"].value:0.3f}$')"
   ]
  },
  {
   "cell_type": "code",
   "execution_count": null,
   "metadata": {},
   "outputs": [],
   "source": [
    "# hist\n",
    "fig, ax = plt.subplots()\n",
    "\n",
    "bins = np.arange(-1.50e-4, 1.52e-4, 2e-6)\n",
    "# bins = np.arange(-5e-4, 5.05e-4, 5e-6)\n",
    "# bins = np.arange(-1e-3, 10.05e-4, 5e-6)\n",
    "# bins = np.arange(-1.50e-1, 2.52e-1, 2e-3)\n",
    "\n",
    "ax.hist(Bs_meas[ind0:ind1]-bf, bins=bins, histtype='step', label=get_label(Bs_meas[ind0:ind1]-bf, bins))\n",
    "\n",
    "ax.set_xlabel(rf'Data - Fit, $B_{coord}$ [T]')\n",
    "ax.ticklabel_format(axis='x', style='sci', scilimits=(0,0))\n",
    "ax.legend(loc='upper left', bbox_to_anchor=(0.6, 1.0));"
   ]
  },
  {
   "cell_type": "markdown",
   "metadata": {},
   "source": [
    "- I think I need to go from here... 2023-01-15 13:15:40 \n",
    "    - Next step is probably getting theta / phi from SmarAct angles.\n",
    "    - Or looking at other fitting metrics"
   ]
  },
  {
   "cell_type": "code",
   "execution_count": null,
   "metadata": {},
   "outputs": [],
   "source": [
    "# what is the error in the angle?\n",
    "N = len(df_)\n",
    "### X\n",
    "# coord = 'X'\n",
    "ind0x = 0\n",
    "ind1x = 1*N\n",
    "### Y\n",
    "# coord = 'Y'\n",
    "ind0y = 1*N\n",
    "ind1y = 2*N\n",
    "### Z\n",
    "# coord = 'Z'\n",
    "ind0z = 2*N\n",
    "ind1z = 3*N\n",
    "####\n",
    "Bx_fit = result.best_fit[ind0x:ind1x]\n",
    "By_fit = result.best_fit[ind0y:ind1y]\n",
    "Bz_fit = result.best_fit[ind0z:ind1z]\n",
    "Bvec_fit = np.array([Bx_fit, By_fit, Bz_fit]).T\n",
    "Bvec_meas = df_[['Cal_X', 'Cal_Y', 'Cal_Z']].values\n",
    "magBvec_fit = np.linalg.norm(Bvec_fit, axis=1)\n",
    "magBvec_meas = np.linalg.norm(Bvec_meas, axis=1)\n",
    "# dot product\n",
    "dot_Bvec = np.sum((Bvec_fit * Bvec_meas), axis=1)\n",
    "cos_angle_bw = dot_Bvec / (magBvec_fit * magBvec_meas)\n",
    "angle_bw = np.arccos(cos_angle_bw)"
   ]
  },
  {
   "cell_type": "code",
   "execution_count": null,
   "metadata": {},
   "outputs": [],
   "source": [
    "angle_bw"
   ]
  },
  {
   "cell_type": "code",
   "execution_count": null,
   "metadata": {},
   "outputs": [],
   "source": [
    "# hist\n",
    "fig, ax = plt.subplots()\n",
    "\n",
    "bins = np.arange(-0.12e-4, 10.02e-4, 2e-6)\n",
    "# bins = np.arange(-0.12e-4, 3.02e-4, 2e-6) ### GOOD!\n",
    "# bins = np.arange(-5e-4, 5.05e-4, 5e-6)\n",
    "# bins = np.arange(-1.50e-1, 2.52e-1, 2e-3)\n",
    "\n",
    "n, _, _ = ax.hist(angle_bw, bins=bins, histtype='step', label=get_label(angle_bw, bins))\n",
    "\n",
    "ym = np.max(n)\n",
    "ax.plot([0.1e-3, 0.1e-3], [0, ym], 'r--', label='0.1 mrad')\n",
    "\n",
    "ax.set_xlabel(r'Angle Between $\\vec{B}_{\\mathrm{fit}}$ and $\\vec{B}_{cal}}$  [rad]')\n",
    "ax.ticklabel_format(axis='x', style='sci', scilimits=(0,0))\n",
    "ax.legend(loc='upper left', bbox_to_anchor=(0.6, 1.0));"
   ]
  },
  {
   "cell_type": "code",
   "execution_count": null,
   "metadata": {},
   "outputs": [],
   "source": [
    "Bvec_fit.shape, Bvec_meas.shape"
   ]
  },
  {
   "cell_type": "code",
   "execution_count": null,
   "metadata": {},
   "outputs": [],
   "source": [
    "2.863e6 / 3.4e6 * 5e-4"
   ]
  },
  {
   "cell_type": "markdown",
   "metadata": {},
   "source": [
    "# Analysis 2: Using Raw Values"
   ]
  },
  {
   "cell_type": "markdown",
   "metadata": {},
   "source": [
    "- Using the previous analysis, we get $\\theta, \\phi$ for free.\n",
    "- Ultimately, want a cleaner function to go from SmarAct angle 1 angle 2 to $\\theta, \\phi$.\n",
    "    - But what we have will work for now."
   ]
  },
  {
   "cell_type": "code",
   "execution_count": null,
   "metadata": {},
   "outputs": [],
   "source": []
  },
  {
   "cell_type": "code",
   "execution_count": 38,
   "metadata": {},
   "outputs": [],
   "source": [
    "bf_params = deepcopy(result.params)\n",
    "bf_params['verbose'].value = 1.0"
   ]
  },
  {
   "cell_type": "code",
   "execution_count": 39,
   "metadata": {},
   "outputs": [
    {
     "data": {
      "text/html": [
       "<table><tr><th> name </th><th> value </th><th> standard error </th><th> relative error </th><th> initial value </th><th> min </th><th> max </th><th> vary </th></tr><tr><td> verbose </td><td>  1.00000000 </td><td>  0.00000000 </td><td> (0.00%) </td><td> 0.0 </td><td>        -inf </td><td>         inf </td><td> False </td></tr><tr><td> theta </td><td>  0.01498990 </td><td>  2.0242e-07 </td><td> (0.00%) </td><td> 0.03490658503988659 </td><td>  0.00000000 </td><td>  0.08726646 </td><td> True </td></tr><tr><td> phi </td><td>  3.06481464 </td><td>  1.3758e-05 </td><td> (0.00%) </td><td> 0.0 </td><td> -3.14159265 </td><td>  3.14159265 </td><td> True </td></tr><tr><td> alpha </td><td>  0.03489199 </td><td>  2.0514e-07 </td><td> (0.00%) </td><td> 0.03490658503988659 </td><td>  0.00000000 </td><td>  0.08726646 </td><td> True </td></tr><tr><td> beta </td><td>  2.74907575 </td><td>  5.7972e-06 </td><td> (0.00%) </td><td> 3.141592653589793 </td><td>  0.00000000 </td><td>  6.28318531 </td><td> True </td></tr><tr><td> phase </td><td>  1.07235833 </td><td>  1.3504e-05 </td><td> (0.00%) </td><td> 0.0 </td><td> -3.14159265 </td><td>  3.14159265 </td><td> True </td></tr></table>"
      ],
      "text/plain": [
       "Parameters([('verbose', <Parameter 'verbose', value=1.0 (fixed), bounds=[-inf:inf]>), ('theta', <Parameter 'theta', value=0.014989903387307855 +/- 2.02e-07, bounds=[0.0:0.08726646259971647]>), ('phi', <Parameter 'phi', value=3.0648146407613597 +/- 1.38e-05, bounds=[-3.141592653589793:3.141592653589793]>), ('alpha', <Parameter 'alpha', value=0.03489199237187584 +/- 2.05e-07, bounds=[0.0:0.08726646259971647]>), ('beta', <Parameter 'beta', value=2.749075749844544 +/- 5.8e-06, bounds=[0.0:6.283185307179586]>), ('phase', <Parameter 'phase', value=1.0723583336594071 +/- 1.35e-05, bounds=[-3.141592653589793:3.141592653589793]>)])"
      ]
     },
     "execution_count": 39,
     "metadata": {},
     "output_type": "execute_result"
    }
   ],
   "source": [
    "bf_params"
   ]
  },
  {
   "cell_type": "code",
   "execution_count": 40,
   "metadata": {},
   "outputs": [],
   "source": [
    "#B_meas, norm_Hall, norm_B, norm_B_rot, BT_rot, theta, phi_Hall =\n",
    "B_meas_full, _, _, _, _, theta, phi = Hall_Cal_B_gen_v2(df.SmarAct_Meas_Angle_1_Centered.values, df.SmarAct_Meas_Angle_2_Centered.values, df[f'{probe}_Cal_Bmag'].values, **bf_params)"
   ]
  },
  {
   "cell_type": "code",
   "execution_count": 41,
   "metadata": {},
   "outputs": [],
   "source": [
    "N = len(df)\n",
    "### X\n",
    "# coord = 'X'\n",
    "ind0x = 0\n",
    "ind1x = 1*N\n",
    "### Y\n",
    "# coord = 'Y'\n",
    "ind0y = 1*N\n",
    "ind1y = 2*N\n",
    "### Z\n",
    "# coord = 'Z'\n",
    "ind0z = 2*N\n",
    "ind1z = 3*N\n",
    "####\n",
    "Bx_fit_full = B_meas_full[ind0x:ind1x]\n",
    "By_fit_full = B_meas_full[ind0y:ind1y]\n",
    "Bz_fit_full = B_meas_full[ind0z:ind1z]"
   ]
  },
  {
   "cell_type": "code",
   "execution_count": 42,
   "metadata": {},
   "outputs": [],
   "source": [
    "df.loc[:, 'Bx_true'] = Bx_fit_full\n",
    "df.loc[:, 'By_true'] = By_fit_full\n",
    "df.loc[:, 'Bz_true'] = Bz_fit_full\n",
    "df.loc[:, 'theta_B_true'] = theta\n",
    "df.loc[:, 'phi_B_true'] = phi\n",
    "df.loc[:, 'theta_B_true_deg'] = np.degrees(theta)\n",
    "df.loc[:, 'phi_B_true_deg'] = np.degrees(phi)"
   ]
  },
  {
   "cell_type": "code",
   "execution_count": 43,
   "metadata": {},
   "outputs": [
    {
     "data": {
      "text/plain": [
       "6.282862847367454"
      ]
     },
     "execution_count": 43,
     "metadata": {},
     "output_type": "execute_result"
    }
   ],
   "source": [
    "np.ptp(df.phi_B_true)"
   ]
  },
  {
   "cell_type": "code",
   "execution_count": 44,
   "metadata": {},
   "outputs": [
    {
     "data": {
      "text/plain": [
       "6.283185307179586"
      ]
     },
     "execution_count": 44,
     "metadata": {},
     "output_type": "execute_result"
    }
   ],
   "source": [
    "2*np.pi"
   ]
  },
  {
   "cell_type": "code",
   "execution_count": 45,
   "metadata": {},
   "outputs": [
    {
     "data": {
      "text/plain": [
       "8.541738004737173"
      ]
     },
     "execution_count": 45,
     "metadata": {},
     "output_type": "execute_result"
    }
   ],
   "source": [
    "np.degrees(np.ptp(df.theta_B_true))"
   ]
  },
  {
   "cell_type": "code",
   "execution_count": 46,
   "metadata": {},
   "outputs": [
    {
     "data": {
      "text/plain": [
       "Index(['Time', 'Magnet Current [A]', 'Magnet Voltage [V]', 'NMR [T]',\n",
       "       'NMR [FFT]', '2F0000000D5EC73A_Raw_X', '2F0000000D5EC73A_Raw_Y',\n",
       "       '2F0000000D5EC73A_Raw_Z', '2F0000000D5EC73A_Raw_T',\n",
       "       '2F0000000D5EC73A_Cal_X', '2F0000000D5EC73A_Cal_Y',\n",
       "       '2F0000000D5EC73A_Cal_Z', '2F0000000D5EC73A_Cal_T',\n",
       "       'SmarAct_Pattern_Angle_1', 'SmarAct_Pattern_Angle_2',\n",
       "       'SmarAct_Meas_Angle_1', 'SmarAct_Meas_Rotation_Angle_1',\n",
       "       'SmarAct_Meas_Angle_2', 'SmarAct_Meas_Rotation_Angle_2',\n",
       "       'seconds_delta', 'hours_delta', 'days_delta',\n",
       "       '2F0000000D5EC73A_Raw_Bmag', '2F0000000D5EC73A_Raw_Theta',\n",
       "       '2F0000000D5EC73A_Raw_Phi', '2F0000000D5EC73A_Cal_Bmag',\n",
       "       '2F0000000D5EC73A_Cal_Theta', '2F0000000D5EC73A_Cal_Phi',\n",
       "       '2F0000000D5EC73A_Cal_Theta2', '2F0000000D5EC73A_Cal_Phi2',\n",
       "       'Magnet Resistance [Ohm]', 'Coil Resistance [Ohm]', 'Magnet Power [W]',\n",
       "       'SmarAct_Meas_Angle_1_Centered', 'SmarAct_Meas_Angle_2_Centered',\n",
       "       'B_Hall_NMR', 'Cal_X', 'Cal_Y', 'Cal_Z', 'Cal_Bmag', 'Cal_Trans',\n",
       "       'Cal_Theta', 'Cal_Phi', 'Bx_true', 'By_true', 'Bz_true', 'theta_B_true',\n",
       "       'phi_B_true', 'theta_B_true_deg', 'phi_B_true_deg'],\n",
       "      dtype='object')"
      ]
     },
     "execution_count": 46,
     "metadata": {},
     "output_type": "execute_result"
    }
   ],
   "source": [
    "df.columns"
   ]
  },
  {
   "cell_type": "code",
   "execution_count": 47,
   "metadata": {},
   "outputs": [],
   "source": [
    "# DUMP DATA FOR SYMBOLIC REGRESSION TEST\n",
    "#df.to_pickle('/home/ckampa/coding/sandbox/data/Hall_Probe_Data/01-16-23_Finer_Scan_20deg_1T.pkl')"
   ]
  },
  {
   "cell_type": "code",
   "execution_count": 48,
   "metadata": {},
   "outputs": [],
   "source": [
    "df_ = df.copy()\n",
    "# df_ = df.query('-2. <= theta_B_true_deg <= 2.').copy()\n",
    "df_neg = df.query('SmarAct_Meas_Angle_1_Centered <= -1.4').copy()"
   ]
  },
  {
   "cell_type": "markdown",
   "metadata": {
    "heading_collapsed": true
   },
   "source": [
    "## Visualize One Component"
   ]
  },
  {
   "cell_type": "code",
   "execution_count": null,
   "metadata": {
    "code_folding": [],
    "hidden": true
   },
   "outputs": [],
   "source": [
    "# REMEMBER! phi & theta expected to be passed in as degrees.\n",
    "fig = spherical_scatter3d(phi_list=[df_.phi_B_true_deg], theta_list=[df_.theta_B_true_deg], r_list=[df_[f'{probe}_Raw_Z']],\n",
    "                          units_list=None, absval=True, colors_list=None, opacity_list=None, size_list=None,\n",
    "                          inline=True, title=None, filename=None)"
   ]
  },
  {
   "cell_type": "code",
   "execution_count": null,
   "metadata": {
    "hidden": true
   },
   "outputs": [],
   "source": [
    "fig, ax = plt.subplots()\n",
    "\n",
    "ax.scatter(df_.index, df_.theta_B_true_deg, label=r'$\\theta$ [deg]')\n",
    "ax.scatter(df_.index, df_.phi_B_true_deg, label=r'$\\phi$ [deg]')\n",
    "\n",
    "ax.set_xlabel('Datetime')\n",
    "ax.set_ylabel('B vector angle [deg]')\n",
    "ax.legend();"
   ]
  },
  {
   "cell_type": "code",
   "execution_count": null,
   "metadata": {
    "hidden": true
   },
   "outputs": [],
   "source": [
    "fig, ax = plt.subplots()\n",
    "\n",
    "sc = ax.scatter(df_.theta_B_true_deg, df_.phi_B_true_deg, c=df_[f'{probe}_Raw_Z'])\n",
    "cb = fig.colorbar(sc, label='V3 (a.k.a. Z) [adc]')\n",
    "\n",
    "ax.set_xlabel(r'$\\theta$ [deg]')\n",
    "ax.set_ylabel(r'$\\phi$ [deg]');"
   ]
  },
  {
   "cell_type": "code",
   "execution_count": null,
   "metadata": {
    "hidden": true
   },
   "outputs": [],
   "source": [
    "a1s = np.linspace(-2.5, -1.5, 101)\n",
    "a2s = np.linspace(-180, 180, 361)\n",
    "A1, A2 = np.meshgrid(a1s, a2s)\n",
    "_, _, _, _, _, theta_grid, phi_grid = Hall_Cal_B_gen_v2(A1.flatten(), A2.flatten(), np.ones_like(A1.flatten()), **bf_params)\n",
    "theta_grid = np.degrees(theta_grid)\n",
    "phi_grid = np.degrees(phi_grid)"
   ]
  },
  {
   "cell_type": "code",
   "execution_count": null,
   "metadata": {
    "hidden": true
   },
   "outputs": [],
   "source": [
    "fig, ax = plt.subplots()\n",
    "\n",
    "sc = ax.scatter(df_neg.theta_B_true_deg, df_neg.phi_B_true_deg, c=df_neg['SmarAct_Meas_Angle_1_Centered'])\n",
    "cb = fig.colorbar(sc, label='SmarAct_Meas_Angle_1_Centered [deg]')\n",
    "\n",
    "sc2 = ax.scatter(theta_grid, phi_grid, c=A1.flatten(), alpha=0.4, cmap='hot')\n",
    "cb2 = fig.colorbar(sc2, label='Fine Grid Angle 1')\n",
    "\n",
    "ax.set_xlabel(r'$\\theta$ [deg]')\n",
    "ax.set_ylabel(r'$\\phi$ [deg]');"
   ]
  },
  {
   "cell_type": "code",
   "execution_count": null,
   "metadata": {
    "hidden": true
   },
   "outputs": [],
   "source": [
    "fig, ax = plt.subplots()\n",
    "\n",
    "sc = ax.scatter(df_neg.theta_B_true_deg, df_neg.phi_B_true_deg, c=df_neg['SmarAct_Meas_Angle_2_Centered'])\n",
    "cb = fig.colorbar(sc, label='SmarAct_Meas_Angle_2_Centered [deg]')\n",
    "\n",
    "sc2 = ax.scatter(theta_grid, phi_grid, c=A2.flatten(), alpha=0.4, cmap='hot')\n",
    "cb2 = fig.colorbar(sc2, label='Fine Grid Angle 2')\n",
    "\n",
    "ax.set_xlabel(r'$\\theta$ [deg]')\n",
    "ax.set_ylabel(r'$\\phi$ [deg]');"
   ]
  },
  {
   "cell_type": "code",
   "execution_count": null,
   "metadata": {
    "hidden": true
   },
   "outputs": [],
   "source": [
    "fig, ax = plt.subplots()\n",
    "\n",
    "sc = ax.scatter(df_.theta_B_true_deg, df_.phi_B_true_deg, c=df_['SmarAct_Meas_Angle_2_Centered'])\n",
    "cb = fig.colorbar(sc, label='SmarAct_Meas_Angle_2_Centered [deg]')\n",
    "\n",
    "ax.set_xlabel(r'$\\theta$ [deg]')\n",
    "ax.set_ylabel(r'$\\phi$ [deg]');"
   ]
  },
  {
   "cell_type": "code",
   "execution_count": null,
   "metadata": {
    "hidden": true
   },
   "outputs": [],
   "source": []
  },
  {
   "cell_type": "code",
   "execution_count": null,
   "metadata": {
    "hidden": true
   },
   "outputs": [],
   "source": [
    "fig, ax = plt.subplots()\n",
    "\n",
    "ax.scatter(df_.theta_B_true_deg, df_[f'{probe}_Raw_X'], s=3, label='V1 (a.k.a. Z)')\n",
    "ax.scatter(df_.theta_B_true_deg, df_[f'{probe}_Raw_Y'], s=3, label='V2 (a.k.a. Z)')\n",
    "ax.scatter(df_.theta_B_true_deg, df_[f'{probe}_Raw_Z'], s=3, label='V3 (a.k.a. Z)')\n",
    "\n",
    "# ax.set_ylim([-4e6, 4e6])\n",
    "\n",
    "ax.set_xlabel(r'$\\theta$ [deg]')\n",
    "ax.set_ylabel('V [adc]');\n",
    "ax.legend();"
   ]
  },
  {
   "cell_type": "markdown",
   "metadata": {
    "heading_collapsed": true
   },
   "source": [
    "## Fit $\\cos \\theta$"
   ]
  },
  {
   "cell_type": "code",
   "execution_count": null,
   "metadata": {
    "hidden": true
   },
   "outputs": [],
   "source": [
    "def costheta_fit(theta, **params):\n",
    "    return params['Vmax'] * np.cos(theta) + params['Voff']"
   ]
  },
  {
   "cell_type": "code",
   "execution_count": null,
   "metadata": {
    "hidden": true
   },
   "outputs": [],
   "source": [
    "Vm = df_[f'{probe}_Raw_Z'].abs().max()\n",
    "if abs(df_[f'{probe}_Raw_Z'].max()) > abs(df_[f'{probe}_Raw_Z'].min()):\n",
    "    pass\n",
    "else:\n",
    "    Vm = -1 * Vm\n",
    "Vm"
   ]
  },
  {
   "cell_type": "code",
   "execution_count": null,
   "metadata": {
    "hidden": true
   },
   "outputs": [],
   "source": [
    "model = lm.Model(costheta_fit, independent_vars=['theta'])\n",
    "params = lm.Parameters()\n",
    "params.add('Vmax', value=Vm, vary=True)\n",
    "params.add('Voff', value=0., vary=False)\n",
    "result_costheta = model.fit(df_[f'{probe}_Raw_Z'].values, theta=df_['theta_B_true'].values, params=params)\n",
    "# subtract off cos(theta)\n",
    "df_.loc[:, f'costheta_fit'] = result_costheta.best_fit\n",
    "df_.loc[:, f'{probe}_Raw_Z_min_cos'] = df_.loc[:, f'{probe}_Raw_Z'] - result_costheta.best_fit"
   ]
  },
  {
   "cell_type": "code",
   "execution_count": null,
   "metadata": {
    "hidden": true
   },
   "outputs": [],
   "source": [
    "result_costheta"
   ]
  },
  {
   "cell_type": "code",
   "execution_count": null,
   "metadata": {
    "hidden": true,
    "scrolled": true
   },
   "outputs": [],
   "source": [
    "result_costheta.plot()"
   ]
  },
  {
   "cell_type": "code",
   "execution_count": null,
   "metadata": {
    "hidden": true
   },
   "outputs": [],
   "source": [
    "# REMEMBER! phi & theta expected to be passed in as degrees.\n",
    "fig = spherical_scatter3d(phi_list=[df_.phi_B_true_deg], theta_list=[df_.theta_B_true_deg], r_list=[df_[f'{probe}_Raw_Z_min_cos']],\n",
    "                          units_list=None, absval=True, colors_list=None, opacity_list=None, size_list=None,\n",
    "                          inline=True, title=None, filename=None)"
   ]
  },
  {
   "cell_type": "markdown",
   "metadata": {
    "heading_collapsed": true
   },
   "source": [
    "## $Y_{1,1}$ Fit to residuals"
   ]
  },
  {
   "cell_type": "code",
   "execution_count": null,
   "metadata": {
    "hidden": true
   },
   "outputs": [],
   "source": [
    "# fitting real part of Y_11\n",
    "def Y11_fit(theta, phi, **params):\n",
    "    return params['Vmax_Y11'] * np.cos(phi + params['phase_phi']) * np.sin(theta) # + params['Voff']"
   ]
  },
  {
   "cell_type": "code",
   "execution_count": null,
   "metadata": {
    "hidden": true
   },
   "outputs": [],
   "source": [
    "Vm = df_[f'{probe}_Raw_Z_min_cos'].abs().max()\n",
    "# if abs(df_[f'{probe}_Raw_Z_min_cos'].max()) > abs(df_[f'{probe}_Raw_Z_min_cos'].min()):\n",
    "#     pass\n",
    "# else:\n",
    "#     Vm = -1 * Vm\n",
    "Vm"
   ]
  },
  {
   "cell_type": "code",
   "execution_count": null,
   "metadata": {
    "hidden": true
   },
   "outputs": [],
   "source": [
    "model = lm.Model(Y11_fit, independent_vars=['theta', 'phi'])\n",
    "# params = deepcopy(result.params) #lm.Parameters()\n",
    "params = lm.Parameters()\n",
    "params.add('Vmax_Y11', value=Vm, vary=True, min=0.)\n",
    "params.add('phase_phi', value=0., vary=True, min=-np.pi, max=np.pi)\n",
    "result_Y11 = model.fit(df_[f'{probe}_Raw_Z_min_cos'].values, theta=df_['theta_B_true'].values, phi=df_['phi_B_true'].values, params=params)\n",
    "# add to dataframe\n",
    "df_.loc[:, f'Y11_fit'] = result_Y11.best_fit\n",
    "df_.loc[:, f'{probe}_Raw_Z_min_cos_Y11'] = df_.loc[:, f'{probe}_Raw_Z_min_cos'] - result_Y11.best_fit"
   ]
  },
  {
   "cell_type": "code",
   "execution_count": null,
   "metadata": {
    "hidden": true
   },
   "outputs": [],
   "source": [
    "result_Y11"
   ]
  },
  {
   "cell_type": "code",
   "execution_count": null,
   "metadata": {
    "hidden": true
   },
   "outputs": [],
   "source": [
    "result_Y11.best_fit"
   ]
  },
  {
   "cell_type": "code",
   "execution_count": null,
   "metadata": {
    "hidden": true
   },
   "outputs": [],
   "source": [
    "df_[f'{probe}_Raw_Z_min_cos']"
   ]
  },
  {
   "cell_type": "code",
   "execution_count": null,
   "metadata": {
    "hidden": true
   },
   "outputs": [],
   "source": []
  },
  {
   "cell_type": "code",
   "execution_count": null,
   "metadata": {
    "hidden": true
   },
   "outputs": [],
   "source": [
    "# REMEMBER! phi & theta expected to be passed in as degrees.\n",
    "fig = spherical_scatter3d(phi_list=2*[df_.phi_B_true_deg], theta_list=2*[df_.theta_B_true_deg], r_list=[df_[f'{probe}_Raw_Z_min_cos'], df_['Y11_fit']],\n",
    "                          units_list=['adc', 'adc'], absval=True, colors_list=['viridis', 'hot'], opacity_list=None, size_list=None,\n",
    "                          inline=True, title=None, filename=None)"
   ]
  },
  {
   "cell_type": "code",
   "execution_count": null,
   "metadata": {
    "hidden": true
   },
   "outputs": [],
   "source": [
    "# residuals\n",
    "# REMEMBER! phi & theta expected to be passed in as degrees.\n",
    "fig = spherical_scatter3d(phi_list=[df_.phi_B_true_deg], theta_list=[df_.theta_B_true_deg], r_list=[df_[f'{probe}_Raw_Z_min_cos_Y11']],\n",
    "                          units_list=['adc'], absval=True, colors_list=['viridis'], opacity_list=None, size_list=None,\n",
    "                          inline=True, title=None, filename=None)"
   ]
  },
  {
   "cell_type": "code",
   "execution_count": null,
   "metadata": {
    "hidden": true
   },
   "outputs": [],
   "source": [
    "1000 / 3e6"
   ]
  },
  {
   "cell_type": "markdown",
   "metadata": {
    "heading_collapsed": true
   },
   "source": [
    "## $Y_{0,0}$ (constant) Fit to residuals"
   ]
  },
  {
   "cell_type": "code",
   "execution_count": null,
   "metadata": {
    "hidden": true
   },
   "outputs": [],
   "source": [
    "# fitting real part of Y_11\n",
    "def Y00_fit(theta, phi, **params):\n",
    "    return params['Vmax_Y00'] * np.ones_like(theta)"
   ]
  },
  {
   "cell_type": "code",
   "execution_count": null,
   "metadata": {
    "hidden": true
   },
   "outputs": [],
   "source": [
    "Vm = df_[f'{probe}_Raw_Z_min_cos_Y11'].abs().max()\n",
    "if abs(df_[f'{probe}_Raw_Z_min_cos_Y11'].max()) > abs(df_[f'{probe}_Raw_Z_min_cos_Y11'].min()):\n",
    "    pass\n",
    "else:\n",
    "    Vm = -1 * Vm\n",
    "Vm"
   ]
  },
  {
   "cell_type": "code",
   "execution_count": null,
   "metadata": {
    "hidden": true
   },
   "outputs": [],
   "source": [
    "model = lm.Model(Y00_fit, independent_vars=['theta', 'phi'])\n",
    "# params = deepcopy(result.params) #lm.Parameters()\n",
    "params = lm.Parameters()\n",
    "params.add('Vmax_Y00', value=Vm, vary=True)\n",
    "result_Y00 = model.fit(df_[f'{probe}_Raw_Z_min_cos_Y11'].values, theta=df_['theta_B_true'].values, phi=df_['phi_B_true'].values, params=params)\n",
    "# add to dataframe\n",
    "df_.loc[:, f'Y00_fit'] = result_Y00.best_fit\n",
    "df_.loc[:, f'{probe}_Raw_Z_min_cos_Y11_Y00'] = df_.loc[:, f'{probe}_Raw_Z_min_cos_Y11'] - result_Y00.best_fit"
   ]
  },
  {
   "cell_type": "code",
   "execution_count": null,
   "metadata": {
    "hidden": true
   },
   "outputs": [],
   "source": [
    "result_Y00"
   ]
  },
  {
   "cell_type": "code",
   "execution_count": null,
   "metadata": {
    "hidden": true
   },
   "outputs": [],
   "source": [
    "result_Y00.best_fit"
   ]
  },
  {
   "cell_type": "code",
   "execution_count": null,
   "metadata": {
    "hidden": true
   },
   "outputs": [],
   "source": [
    "fig, ax = plt.subplots()\n",
    "\n",
    "ax.hist(df_[f'{probe}_Raw_Z_min_cos_Y11'], bins=100, histtype='step')\n",
    "\n",
    "ax.set_xlabel('Residuals from cos(theta) and Y11 fits');"
   ]
  },
  {
   "cell_type": "code",
   "execution_count": null,
   "metadata": {
    "hidden": true
   },
   "outputs": [],
   "source": [
    "# REMEMBER! phi & theta expected to be passed in as degrees.\n",
    "fig = spherical_scatter3d(phi_list=2*[df_.phi_B_true_deg], theta_list=2*[df_.theta_B_true_deg], r_list=[df_[f'{probe}_Raw_Z_min_cos_Y11'], df_['Y00_fit']],\n",
    "                          units_list=['adc', 'adc'], absval=True, colors_list=['viridis', 'hot'], opacity_list=None, size_list=None,\n",
    "                          inline=True, title=None, filename=None)"
   ]
  },
  {
   "cell_type": "code",
   "execution_count": null,
   "metadata": {
    "hidden": true
   },
   "outputs": [],
   "source": [
    "# residuals\n",
    "# REMEMBER! phi & theta expected to be passed in as degrees.\n",
    "fig = spherical_scatter3d(phi_list=[df_.phi_B_true_deg], theta_list=[df_.theta_B_true_deg], r_list=[df_[f'{probe}_Raw_Z_min_cos_Y11_Y00']],\n",
    "                          units_list=['adc'], absval=True, colors_list=['viridis'], opacity_list=None, size_list=None,\n",
    "                          inline=True, title=None, filename=None)"
   ]
  },
  {
   "cell_type": "code",
   "execution_count": null,
   "metadata": {
    "hidden": true
   },
   "outputs": [],
   "source": [
    "800 / 3e6"
   ]
  },
  {
   "cell_type": "markdown",
   "metadata": {
    "hidden": true
   },
   "source": [
    "- Looks like either Y20 or Y30"
   ]
  },
  {
   "cell_type": "markdown",
   "metadata": {
    "heading_collapsed": true
   },
   "source": [
    "## $Y_{3,0}$ or $Y_{2,0}$ Fit to residuals"
   ]
  },
  {
   "cell_type": "code",
   "execution_count": null,
   "metadata": {
    "code_folding": [],
    "hidden": true
   },
   "outputs": [],
   "source": [
    "# fitting real part of Y_11\n",
    "def Y30_fit(theta, **params):\n",
    "    return params['Vmax_Y30'] * (5*np.cos(theta)**3 - 3*np.cos(theta)) + params['Voff']\n",
    "\n",
    "def Y20_fit(theta, **params):\n",
    "    return params['Vmax_Y20'] * (3*np.cos(theta)**2 - 1) + params['Voff']"
   ]
  },
  {
   "cell_type": "code",
   "execution_count": null,
   "metadata": {
    "hidden": true
   },
   "outputs": [],
   "source": [
    "Vm = df_[f'{probe}_Raw_Z_min_cos_Y11_Y00'].abs().max()\n",
    "if abs(df_[f'{probe}_Raw_Z_min_cos_Y11_Y00'].max()) > abs(df_[f'{probe}_Raw_Z_min_cos_Y11_Y00'].min()):\n",
    "    pass\n",
    "else:\n",
    "    Vm = -1 * Vm\n",
    "Vm"
   ]
  },
  {
   "cell_type": "code",
   "execution_count": null,
   "metadata": {
    "hidden": true
   },
   "outputs": [],
   "source": [
    "# model = lm.Model(Y30_fit, independent_vars=['theta'])\n",
    "model = lm.Model(Y20_fit, independent_vars=['theta'])\n",
    "# params = deepcopy(result.params) #lm.Parameters()\n",
    "params = lm.Parameters()\n",
    "# params.add('Vmax_Y30', value=Vm, vary=True)\n",
    "params.add('Vmax_Y20', value=Vm, vary=True)\n",
    "params.add('Voff', value=0., vary=True)\n",
    "result_Y30 = model.fit(df_[f'{probe}_Raw_Z_min_cos_Y11_Y00'].values, theta=df_['theta_B_true'].values, params=params)\n",
    "# add to dataframe\n",
    "df_.loc[:, f'Y30_fit'] = result_Y30.best_fit\n",
    "df_.loc[:, f'{probe}_Raw_Z_min_cos_Y11_Y00_Y30'] = df_.loc[:, f'{probe}_Raw_Z_min_cos_Y11_Y00'] - result_Y30.best_fit"
   ]
  },
  {
   "cell_type": "code",
   "execution_count": null,
   "metadata": {
    "hidden": true
   },
   "outputs": [],
   "source": [
    "result_Y30"
   ]
  },
  {
   "cell_type": "code",
   "execution_count": null,
   "metadata": {
    "hidden": true
   },
   "outputs": [],
   "source": [
    "result_Y30.plot()"
   ]
  },
  {
   "cell_type": "code",
   "execution_count": null,
   "metadata": {
    "hidden": true
   },
   "outputs": [],
   "source": [
    "fig, ax = plt.subplots()\n",
    "\n",
    "bins=np.arange(-500, 510, 10)\n",
    "\n",
    "ax.hist(df_[f'{probe}_Raw_Z_min_cos_Y11_Y00_Y30'], bins=bins, histtype='step', label=get_label(df_[f'{probe}_Raw_Z_min_cos_Y11_Y00_Y30'], bins))\n",
    "\n",
    "ax.set_xlabel('Residuals from cos(theta), Y11, Y00, Y30 fits');\n",
    "ax.legend();"
   ]
  },
  {
   "cell_type": "code",
   "execution_count": null,
   "metadata": {
    "hidden": true
   },
   "outputs": [],
   "source": [
    "100 / 3e6"
   ]
  },
  {
   "cell_type": "code",
   "execution_count": null,
   "metadata": {
    "hidden": true
   },
   "outputs": [],
   "source": [
    "fig, ax = plt.subplots()\n",
    "\n",
    "ax.scatter(df_.theta_B_true_deg, df_[f'{probe}_Raw_Z_min_cos_Y11_Y00_Y30'], s=2)\n",
    "\n",
    "ax.set_xlabel(r'$\\theta$ [deg]')\n",
    "ax.set_ylabel('Residuals from cos(theta), Y11, Y00, Y30 fits');"
   ]
  },
  {
   "cell_type": "code",
   "execution_count": null,
   "metadata": {
    "hidden": true
   },
   "outputs": [],
   "source": [
    "fig, ax = plt.subplots()\n",
    "\n",
    "ax.scatter(df_.phi_B_true_deg, df_[f'{probe}_Raw_Z_min_cos_Y11_Y00_Y30'], s=2)\n",
    "\n",
    "ax.set_xlabel(r'$\\phi$ [deg]')\n",
    "ax.set_ylabel('Residuals from cos(theta), Y11, Y00, Y30 fits');"
   ]
  },
  {
   "cell_type": "code",
   "execution_count": null,
   "metadata": {
    "hidden": true
   },
   "outputs": [],
   "source": [
    "# REMEMBER! phi & theta expected to be passed in as degrees.\n",
    "fig = spherical_scatter3d(phi_list=2*[df_.phi_B_true_deg], theta_list=2*[df_.theta_B_true_deg], r_list=[df_[f'{probe}_Raw_Z_min_cos_Y11_Y00'], df_['Y30_fit']],\n",
    "                          units_list=['adc', 'adc'], absval=True, colors_list=['viridis', 'hot'], opacity_list=None, size_list=None,\n",
    "                          inline=True, title=None, filename=None)"
   ]
  },
  {
   "cell_type": "code",
   "execution_count": null,
   "metadata": {
    "hidden": true
   },
   "outputs": [],
   "source": [
    "# residuals\n",
    "# REMEMBER! phi & theta expected to be passed in as degrees.\n",
    "fig = spherical_scatter3d(phi_list=[df_.phi_B_true_deg], theta_list=[df_.theta_B_true_deg], r_list=[df_[f'{probe}_Raw_Z_min_cos_Y11_Y00_Y30']],\n",
    "                          units_list=['adc'], absval=True, colors_list=['viridis'], opacity_list=None, size_list=None,\n",
    "                          inline=True, title=None, filename=None)"
   ]
  },
  {
   "cell_type": "code",
   "execution_count": null,
   "metadata": {
    "hidden": true
   },
   "outputs": [],
   "source": [
    "800 / 3e6"
   ]
  },
  {
   "cell_type": "code",
   "execution_count": null,
   "metadata": {
    "hidden": true
   },
   "outputs": [],
   "source": []
  },
  {
   "cell_type": "markdown",
   "metadata": {
    "heading_collapsed": true
   },
   "source": [
    "## $\\cos \\theta$ Fit (with rotation)"
   ]
  },
  {
   "cell_type": "code",
   "execution_count": null,
   "metadata": {
    "hidden": true
   },
   "outputs": [],
   "source": [
    "def costheta_fit_rot(theta, phi, **params):\n",
    "    B_n_vec = np.array([np.sin(theta) * np.cos(phi), np.sin(theta) * np.sin(phi), np.cos(theta)]).T\n",
    "#     print(B_n_vec.shape)\n",
    "    rot = Rotation.from_euler('XYZ', angles=np.array([params['alpha'], params['beta'], params['gamma']]), degrees=False)\n",
    "    B_n_vec_rot = rot.apply(B_n_vec)\n",
    "#     print(B_n_vec_rot.shape)\n",
    "#     B_n_T = np.linalg.norm(B_n_vec_rot[:2])\n",
    "    B_n = np.linalg.norm(B_n_vec_rot, axis=1)\n",
    "    costheta = B_n_vec_rot[:, 2] / B_n\n",
    "    return params['Vmax'] * costheta + params['Voff']"
   ]
  },
  {
   "cell_type": "code",
   "execution_count": null,
   "metadata": {
    "hidden": true
   },
   "outputs": [],
   "source": [
    "Vm = df_[f'{probe}_Raw_Z'].abs().max()\n",
    "if abs(df_[f'{probe}_Raw_Z'].max()) > abs(df_[f'{probe}_Raw_Z'].min()):\n",
    "    pass\n",
    "else:\n",
    "    Vm = -1 * Vm\n",
    "Vm"
   ]
  },
  {
   "cell_type": "code",
   "execution_count": null,
   "metadata": {
    "hidden": true
   },
   "outputs": [],
   "source": [
    "costheta_fit_rot(theta=df_['theta_B_true'].values, phi=df_['phi_B_true'].values, **params).shape"
   ]
  },
  {
   "cell_type": "code",
   "execution_count": null,
   "metadata": {
    "hidden": true
   },
   "outputs": [],
   "source": [
    "params"
   ]
  },
  {
   "cell_type": "code",
   "execution_count": null,
   "metadata": {
    "hidden": true
   },
   "outputs": [],
   "source": [
    "model = lm.Model(costheta_fit_rot, independent_vars=['theta', 'phi'])\n",
    "params = lm.Parameters()\n",
    "params.add('Vmax', value=Vm, vary=True)\n",
    "params.add('alpha', value=0., vary=True, min=-np.pi, max=np.pi)\n",
    "params.add('beta', value=0., vary=True, min=-np.pi, max=np.pi)\n",
    "params.add('gamma', value=0., vary=True, min=-np.pi, max=np.pi)\n",
    "params.add('Voff', value=0., vary=False)\n",
    "result_costheta_rot = model.fit(df_[f'{probe}_Raw_Z'].values, theta=df_['theta_B_true'].values, phi=df_['phi_B_true'].values, params=params)\n",
    "# subtract off cos(theta)\n",
    "df_.loc[:, f'costheta_rot_fit'] = result_costheta_rot.best_fit\n",
    "df_.loc[:, f'{probe}_Raw_Z_min_cos_rot'] = df_.loc[:, f'{probe}_Raw_Z'] - result_costheta_rot.best_fit"
   ]
  },
  {
   "cell_type": "code",
   "execution_count": null,
   "metadata": {
    "hidden": true
   },
   "outputs": [],
   "source": [
    "result_costheta_rot"
   ]
  },
  {
   "cell_type": "code",
   "execution_count": null,
   "metadata": {
    "hidden": true
   },
   "outputs": [],
   "source": [
    "result_costheta"
   ]
  },
  {
   "cell_type": "code",
   "execution_count": null,
   "metadata": {
    "hidden": true,
    "scrolled": true
   },
   "outputs": [],
   "source": [
    "result_costheta_rot.plot()"
   ]
  },
  {
   "cell_type": "code",
   "execution_count": null,
   "metadata": {
    "hidden": true
   },
   "outputs": [],
   "source": [
    "# REMEMBER! phi & theta expected to be passed in as degrees.\n",
    "fig = spherical_scatter3d(phi_list=[df_.phi_B_true_deg], theta_list=[df_.theta_B_true_deg], r_list=[df_[f'{probe}_Raw_Z_min_cos_rot']],\n",
    "                          units_list=None, absval=True, colors_list=None, opacity_list=None, size_list=None,\n",
    "                          inline=True, title=None, filename=None)"
   ]
  },
  {
   "cell_type": "code",
   "execution_count": null,
   "metadata": {
    "hidden": true
   },
   "outputs": [],
   "source": []
  },
  {
   "cell_type": "code",
   "execution_count": null,
   "metadata": {
    "hidden": true
   },
   "outputs": [],
   "source": []
  },
  {
   "cell_type": "markdown",
   "metadata": {
    "jp-MarkdownHeadingCollapsed": true
   },
   "source": [
    "## Simultaneous Fit"
   ]
  },
  {
   "cell_type": "markdown",
   "metadata": {},
   "source": [
    "- ~costheta (Y10), Y11, Y30, Y20 (?)~"
   ]
  },
  {
   "cell_type": "markdown",
   "metadata": {},
   "source": [
    "- Alternatively, what if I include an $\\alpha, \\beta, \\gamma$ Euler rotation, so that Y11 is 0 ?\n",
    "    - Seems to work ok.\n",
    "- So, fit $\\alpha, \\beta, \\gamma$ and then contribution from Y10, Y30, Y20, Y00 --> up to 7 parameters\n",
    "- For fun, also try adding Y22, though I cannot see it."
   ]
  },
  {
   "cell_type": "code",
   "execution_count": 60,
   "metadata": {},
   "outputs": [],
   "source": [
    "def simultaneous_fit_rot(theta, phi, **params):\n",
    "    B_n_vec = np.array([np.sin(theta) * np.cos(phi), np.sin(theta) * np.sin(phi), np.cos(theta)]).T\n",
    "    rot = Rotation.from_euler('XYZ', angles=np.array([params['alpha'], params['beta'], params['gamma']]), degrees=False)\n",
    "    B_n_vec_rot = rot.apply(B_n_vec)\n",
    "    B_n_T = np.linalg.norm(B_n_vec_rot[:,:2], axis=1)\n",
    "    B_n = np.linalg.norm(B_n_vec_rot, axis=1)\n",
    "    costheta = B_n_vec_rot[:, 2] / B_n\n",
    "    sintheta = B_n_T / B_n\n",
    "    cosphi = B_n_vec_rot[:, 0] / B_n_T\n",
    "#     sinphi = B_n_vec_rot[:, 1] / B_n_T\n",
    "    \n",
    "    return params['C00'] + params['C10'] * costheta + params['C20'] * (3*costheta**2 - 1) + params['C22'] * (2*cosphi**2 - 1)*(sintheta**2) \\\n",
    "    + params['C30'] * (5*costheta**3 - 3*costheta) + params['C32'] * (2*cosphi**2 - 1)*(sintheta**2)*costheta"
   ]
  },
  {
   "cell_type": "code",
   "execution_count": 61,
   "metadata": {},
   "outputs": [
    {
     "data": {
      "text/plain": [
       "-2816400.0"
      ]
     },
     "execution_count": 61,
     "metadata": {},
     "output_type": "execute_result"
    }
   ],
   "source": [
    "Vm = df_[f'{probe}_Raw_Z'].abs().max()\n",
    "if abs(df_[f'{probe}_Raw_Z'].max()) > abs(df_[f'{probe}_Raw_Z'].min()):\n",
    "    pass\n",
    "else:\n",
    "    Vm = -1 * Vm\n",
    "Vm"
   ]
  },
  {
   "cell_type": "code",
   "execution_count": 62,
   "metadata": {},
   "outputs": [],
   "source": [
    "# which component?\n",
    "# comp = 'X'\n",
    "# comp = 'Y'\n",
    "comp = 'Z'\n",
    "# rescale data?\n",
    "data = deepcopy(df_[f'{probe}_Raw_{comp}'].values)\n",
    "# data = data / np.max(np.abs(data))\n",
    "###\n",
    "# uncertainty\n",
    "sigma_est = 100 # 100 / 3e-6 ~ 3e-5\n",
    "# sigma_est = 3e-5\n",
    "###\n",
    "model = lm.Model(simultaneous_fit_rot, independent_vars=['theta', 'phi'])\n",
    "params = lm.Parameters()\n",
    "# params.add('alpha', value=0., vary=True, min=-np.pi, max=np.pi)\n",
    "# params.add('beta', value=0., vary=True, min=-np.pi, max=np.pi)\n",
    "# params.add('gamma', value=0., vary=True, min=-np.pi, max=np.pi)\n",
    "\n",
    "params.add('alpha', value=-1.55, vary=True, min=-np.pi, max=np.pi)\n",
    "params.add('beta', value=2.25, vary=True, min=-np.pi, max=np.pi)\n",
    "params.add('gamma', value=-3.08, vary=True, min=-np.pi, max=np.pi)\n",
    "\n",
    "# spherical\n",
    "# min_ = 0. # use 0 min?\n",
    "min_ = None # or allow negative?\n",
    "# max_ = 1.0\n",
    "max_ = None\n",
    "params.add('C00', value=0.5, vary=True, min=min_, max=max_)\n",
    "# params.add('C10', value=0.5, vary=True, min=min_, max=max_)\n",
    "params.add('C10', value=Vm, vary=True, min=min_, max=max_)\n",
    "params.add('C20', value=0.5, vary=True, min=min_, max=max_)\n",
    "params.add('C22', value=0.5, vary=True, min=min_, max=max_) # PHE\n",
    "params.add('C30', value=0.5, vary=True, min=min_, max=max_)\n",
    "params.add('C32', value=0.5, vary=True, min=min_, max=max_) # 3D Hall effect\n",
    "\n",
    "result_simul_rot = model.fit(data, theta=df_['theta_B_true'].values, phi=df_['phi_B_true'].values, params=params,\n",
    "                             weights=1/(sigma_est*np.ones_like(df_[f'{probe}_Raw_{comp}'].values)), scale_covar=False)\n",
    "                             #weights=1/(sigma_est*df_[f'{probe}_Raw_Z'].values), scale_covar=False)\n",
    "# subtract off cos(theta)\n",
    "df_.loc[:, f'simul_rot_fit'] = result_simul_rot.best_fit\n",
    "df_.loc[:, f'{probe}_Raw_{comp}_min_simul_rot'] = data - result_simul_rot.best_fit"
   ]
  },
  {
   "cell_type": "code",
   "execution_count": 63,
   "metadata": {},
   "outputs": [
    {
     "data": {
      "text/html": [
       "<h2> Model</h2> Model(simultaneous_fit_rot) <h2>Fit Statistics</h2><table><tr><td>fitting method</td><td>leastsq</td><td></td></tr><tr><td># function evals</td><td>261</td><td></td></tr><tr><td># data points</td><td>50895</td><td></td></tr><tr><td># variables</td><td>9</td><td></td></tr><tr><td>chi-square</td><td> 4.4610e+08</td><td></td></tr><tr><td>reduced chi-square</td><td> 8766.74835</td><td></td></tr><tr><td>Akaike info crit.</td><td> 462070.517</td><td></td></tr><tr><td>Bayesian info crit.</td><td> 462150.055</td><td></td></tr></table><h2>Variables</h2><table><tr><th> name </th><th> value </th><th> standard error </th><th> relative error </th><th> initial value </th><th> min </th><th> max </th><th> vary </th></tr><tr><td> alpha </td><td> -3.13458553 </td><td>  6.9315e-06 </td><td> (0.00%) </td><td> -1.55 </td><td> -3.14159265 </td><td>  3.14159265 </td><td> True </td></tr><tr><td> beta </td><td> -3.13132317 </td><td>  4.8267e-06 </td><td> (0.00%) </td><td> 2.25 </td><td> -3.14159265 </td><td>  3.14159265 </td><td> True </td></tr><tr><td> gamma </td><td> -3.14154651 </td><td>  5.7419e-04 </td><td> (0.02%) </td><td> -3.08 </td><td> -3.14159265 </td><td>  3.14159265 </td><td> True </td></tr><tr><td> C00 </td><td>  2962113.66 </td><td>         nan </td><td> (nan%) </td><td> 0.5 </td><td>        -inf </td><td>         inf </td><td> True </td></tr><tr><td> C10 </td><td> -43811874.6 </td><td>         nan </td><td> (nan%) </td><td> -2816400.0 </td><td>        -inf </td><td>         inf </td><td> True </td></tr><tr><td> C20 </td><td>  31460536.0 </td><td>         nan </td><td> (nan%) </td><td> 0.5 </td><td>        -inf </td><td>         inf </td><td> True </td></tr><tr><td> C22 </td><td>  19465932.9 </td><td>  28263.2055 </td><td> (0.15%) </td><td> 0.5 </td><td>        -inf </td><td>         inf </td><td> True </td></tr><tr><td> C30 </td><td> -12440663.4 </td><td>         nan </td><td> (nan%) </td><td> 0.5 </td><td>        -inf </td><td>         inf </td><td> True </td></tr><tr><td> C32 </td><td> -19578636.1 </td><td>  28465.2756 </td><td> (0.15%) </td><td> 0.5 </td><td>        -inf </td><td>         inf </td><td> True </td></tr></table><h2>Correlations (unreported correlations are < 0.100)</h2><table><tr><td>C22</td><td>C32</td><td>-1.0000</td></tr><tr><td>alpha</td><td>gamma</td><td>0.9390</td></tr><tr><td>beta</td><td>gamma</td><td>-0.8334</td></tr><tr><td>alpha</td><td>beta</td><td>-0.7824</td></tr></table>"
      ],
      "text/plain": [
       "<lmfit.model.ModelResult at 0x7fb570eb5ac0>"
      ]
     },
     "execution_count": 63,
     "metadata": {},
     "output_type": "execute_result"
    }
   ],
   "source": [
    "# old scan\n",
    "# Z\n",
    "result_simul_rot"
   ]
  },
  {
   "cell_type": "code",
   "execution_count": 64,
   "metadata": {},
   "outputs": [
    {
     "data": {
      "text/html": [
       "<h2> Model</h2> Model(simultaneous_fit_rot) <h2>Fit Statistics</h2><table><tr><td>fitting method</td><td>leastsq</td><td></td></tr><tr><td># function evals</td><td>261</td><td></td></tr><tr><td># data points</td><td>50895</td><td></td></tr><tr><td># variables</td><td>9</td><td></td></tr><tr><td>chi-square</td><td> 4.4610e+08</td><td></td></tr><tr><td>reduced chi-square</td><td> 8766.74835</td><td></td></tr><tr><td>Akaike info crit.</td><td> 462070.517</td><td></td></tr><tr><td>Bayesian info crit.</td><td> 462150.055</td><td></td></tr></table><h2>Variables</h2><table><tr><th> name </th><th> value </th><th> standard error </th><th> relative error </th><th> initial value </th><th> min </th><th> max </th><th> vary </th></tr><tr><td> alpha </td><td> -3.13458553 </td><td>  6.9315e-06 </td><td> (0.00%) </td><td> -1.55 </td><td> -3.14159265 </td><td>  3.14159265 </td><td> True </td></tr><tr><td> beta </td><td> -3.13132317 </td><td>  4.8267e-06 </td><td> (0.00%) </td><td> 2.25 </td><td> -3.14159265 </td><td>  3.14159265 </td><td> True </td></tr><tr><td> gamma </td><td> -3.14154651 </td><td>  5.7419e-04 </td><td> (0.02%) </td><td> -3.08 </td><td> -3.14159265 </td><td>  3.14159265 </td><td> True </td></tr><tr><td> C00 </td><td>  2962113.66 </td><td>         nan </td><td> (nan%) </td><td> 0.5 </td><td>        -inf </td><td>         inf </td><td> True </td></tr><tr><td> C10 </td><td> -43811874.6 </td><td>         nan </td><td> (nan%) </td><td> -2816400.0 </td><td>        -inf </td><td>         inf </td><td> True </td></tr><tr><td> C20 </td><td>  31460536.0 </td><td>         nan </td><td> (nan%) </td><td> 0.5 </td><td>        -inf </td><td>         inf </td><td> True </td></tr><tr><td> C22 </td><td>  19465932.9 </td><td>  28263.2055 </td><td> (0.15%) </td><td> 0.5 </td><td>        -inf </td><td>         inf </td><td> True </td></tr><tr><td> C30 </td><td> -12440663.4 </td><td>         nan </td><td> (nan%) </td><td> 0.5 </td><td>        -inf </td><td>         inf </td><td> True </td></tr><tr><td> C32 </td><td> -19578636.1 </td><td>  28465.2756 </td><td> (0.15%) </td><td> 0.5 </td><td>        -inf </td><td>         inf </td><td> True </td></tr></table><h2>Correlations (unreported correlations are < 0.100)</h2><table><tr><td>C22</td><td>C32</td><td>-1.0000</td></tr><tr><td>alpha</td><td>gamma</td><td>0.9390</td></tr><tr><td>beta</td><td>gamma</td><td>-0.8334</td></tr><tr><td>alpha</td><td>beta</td><td>-0.7824</td></tr></table>"
      ],
      "text/plain": [
       "<lmfit.model.ModelResult at 0x7fb570eb5ac0>"
      ]
     },
     "execution_count": 64,
     "metadata": {},
     "output_type": "execute_result"
    }
   ],
   "source": [
    "# scan 5 (incomplete)\n",
    "# Z\n",
    "result_simul_rot"
   ]
  },
  {
   "cell_type": "code",
   "execution_count": null,
   "metadata": {},
   "outputs": [],
   "source": []
  },
  {
   "cell_type": "code",
   "execution_count": null,
   "metadata": {
    "scrolled": true
   },
   "outputs": [],
   "source": [
    "# scan 4\n",
    "# X\n",
    "result_simul_rot"
   ]
  },
  {
   "cell_type": "code",
   "execution_count": null,
   "metadata": {
    "scrolled": true
   },
   "outputs": [],
   "source": [
    "# scan 3\n",
    "# X\n",
    "result_simul_rot"
   ]
  },
  {
   "cell_type": "code",
   "execution_count": null,
   "metadata": {
    "scrolled": true
   },
   "outputs": [],
   "source": [
    "# Y\n",
    "result_simul_rot"
   ]
  },
  {
   "cell_type": "code",
   "execution_count": null,
   "metadata": {
    "scrolled": true
   },
   "outputs": [],
   "source": [
    "# scan 4\n",
    "# Z\n",
    "result_simul_rot"
   ]
  },
  {
   "cell_type": "code",
   "execution_count": null,
   "metadata": {
    "scrolled": true
   },
   "outputs": [],
   "source": [
    "# scan 3\n",
    "# Z\n",
    "result_simul_rot"
   ]
  },
  {
   "cell_type": "code",
   "execution_count": null,
   "metadata": {},
   "outputs": [],
   "source": [
    "# REMEMBER! phi & theta expected to be passed in as degrees.\n",
    "fig = spherical_scatter3d(phi_list=[df_.phi_B_true_deg], theta_list=[df_.theta_B_true_deg], r_list=[df_[f'{probe}_Raw_{comp}_min_simul_rot']],\n",
    "                          units_list=None, absval=True, colors_list=None, opacity_list=None, size_list=None,\n",
    "                          inline=True, title=None, filename=None)"
   ]
  },
  {
   "cell_type": "code",
   "execution_count": null,
   "metadata": {},
   "outputs": [],
   "source": [
    "fig, ax = plt.subplots()\n",
    "\n",
    "bins=np.arange(-500, 510, 10)\n",
    "\n",
    "ax.hist(df_[f'{probe}_Raw_{comp}_min_simul_rot'], bins=bins, histtype='step', label=get_label(df_[f'{probe}_Raw_{comp}_min_simul_rot'], bins))\n",
    "\n",
    "ax.set_xlabel('Residuals from cos(theta), Y11, Y00, Y30 fits');\n",
    "ax.legend();"
   ]
  },
  {
   "cell_type": "code",
   "execution_count": null,
   "metadata": {},
   "outputs": [],
   "source": [
    "fig, ax = plt.subplots()\n",
    "\n",
    "ax.scatter(df_.theta_B_true_deg, df_[f'{probe}_Raw_{comp}_min_simul_rot'], s=2)\n",
    "\n",
    "ax.set_xlabel(r'$\\theta$ [deg]')\n",
    "ax.set_ylabel('Residuals from cos(theta), Y11, Y00, Y30 fits');"
   ]
  },
  {
   "cell_type": "code",
   "execution_count": null,
   "metadata": {},
   "outputs": [],
   "source": [
    "fig, ax = plt.subplots()\n",
    "\n",
    "ax.scatter(df_.phi_B_true_deg, df_[f'{probe}_Raw_{comp}_min_simul_rot'], s=2)\n",
    "\n",
    "ax.set_xlabel(r'$\\phi$ [deg]')\n",
    "ax.set_ylabel('Residuals from cos(theta), Y11, Y00, Y30 fits');"
   ]
  },
  {
   "cell_type": "code",
   "execution_count": null,
   "metadata": {},
   "outputs": [],
   "source": [
    "fig, ax = plt.subplots()\n",
    "\n",
    "ax.scatter(df_[f'{probe}_Raw_{comp}'], df_[f'{probe}_Raw_{comp}_min_simul_rot'], s=2)\n",
    "\n",
    "ax.set_xlabel(f'Raw {comp}')\n",
    "ax.set_ylabel('Residuals from cos(theta), Y11, Y00, Y30 fits');"
   ]
  },
  {
   "cell_type": "code",
   "execution_count": null,
   "metadata": {},
   "outputs": [],
   "source": [
    "# REMEMBER! phi & theta expected to be passed in as degrees.\n",
    "fig = spherical_scatter3d(phi_list=2*[df_.phi_B_true_deg], theta_list=2*[df_.theta_B_true_deg], r_list=[df_[f'{probe}_Raw_{comp}'], df_['simul_rot_fit']],\n",
    "                          units_list=['adc', 'adc'], absval=True, colors_list=['viridis', 'hot'], opacity_list=None, size_list=None,\n",
    "                          inline=True, title=None, filename=None)"
   ]
  },
  {
   "cell_type": "markdown",
   "metadata": {},
   "source": [
    "## Simultaneous Fit, with Temperature"
   ]
  },
  {
   "cell_type": "markdown",
   "metadata": {},
   "source": [
    "- Alternatively, what if I include an $\\alpha, \\beta, \\gamma$ Euler rotation, so that Y11 is 0 ?\n",
    "    - Seems to work ok.\n",
    "- So, fit $\\alpha, \\beta, \\gamma$ and then contribution from Y10, Y30, Y20, Y00 --> up to 7 parameters\n",
    "- For fun, also try adding Y22, though I cannot see it."
   ]
  },
  {
   "cell_type": "markdown",
   "metadata": {},
   "source": [
    "- Note use scans 3-5 (20 deg, 10 deg, 40 deg (not completed))"
   ]
  },
  {
   "cell_type": "code",
   "execution_count": 65,
   "metadata": {},
   "outputs": [],
   "source": [
    "# rescale temperature\n",
    "# tmax = 40.\n",
    "# tmin = 10.\n",
    "tmax = df[f'{probe}_Cal_T'].max()\n",
    "tmin = df[f'{probe}_Cal_T'].min()\n",
    "t_sub = (tmax + tmin) / 2\n",
    "t_div = (tmax - tmin) / 2\n",
    "ts_scaled = (df[f'{probe}_Cal_T'].values - t_sub) / t_div\n",
    "df.loc[:, f'{probe}_Cal_T_rescaled'] = ts_scaled"
   ]
  },
  {
   "cell_type": "code",
   "execution_count": 66,
   "metadata": {},
   "outputs": [],
   "source": [
    "df_ = df.copy()"
   ]
  },
  {
   "cell_type": "code",
   "execution_count": 67,
   "metadata": {},
   "outputs": [
    {
     "data": {
      "text/plain": [
       "(34.902, 11.303)"
      ]
     },
     "execution_count": 67,
     "metadata": {},
     "output_type": "execute_result"
    }
   ],
   "source": [
    "tmax, tmin"
   ]
  },
  {
   "cell_type": "code",
   "execution_count": 68,
   "metadata": {},
   "outputs": [],
   "source": [
    "def simultaneous_fit_rot_temp(theta, phi, temp_rescaled, **params):\n",
    "    # how many temperature terms to include?\n",
    "    nmax = params['nmax']\n",
    "    # angular info\n",
    "    B_n_vec = np.array([np.sin(theta) * np.cos(phi), np.sin(theta) * np.sin(phi), np.cos(theta)]).T\n",
    "    rot = Rotation.from_euler('XYZ', angles=np.array([params['alpha'], params['beta'], params['gamma']]), degrees=False)\n",
    "    B_n_vec_rot = rot.apply(B_n_vec)\n",
    "    B_n_T = np.linalg.norm(B_n_vec_rot[:,:2], axis=1)\n",
    "    B_n = np.linalg.norm(B_n_vec_rot, axis=1)\n",
    "    costheta = B_n_vec_rot[:, 2] / B_n\n",
    "    sintheta = B_n_T / B_n\n",
    "    cosphi = B_n_vec_rot[:, 0] / B_n_T\n",
    "#     sinphi = B_n_vec_rot[:, 1] / B_n_T\n",
    "    \n",
    "    result = np.zeros_like(theta)\n",
    "    for n in range(nmax+1):\n",
    "        # turn on appropriate Chebyshev term\n",
    "        coeffs_n = np.zeros(nmax+1)\n",
    "        coeffs_n[n] = 1.\n",
    "        T_n = np.polynomial.chebyshev.chebval(temp_rescaled, coeffs_n)\n",
    "        # angular encodes the coefficient values\n",
    "        # coeff \"CNLM\" -- C_nlm\n",
    "        angular = params[f'C{n}00'] + params[f'C{n}10'] * costheta + params[f'C{n}20'] * (3*costheta**2 - 1) + params[f'C{n}22'] * (2*cosphi**2 - 1)*(sintheta**2) \\\n",
    "        + params[f'C{n}30'] * (5*costheta**3 - 3*costheta) + params[f'C{n}32'] * (2*cosphi**2 - 1)*(sintheta**2)*costheta\n",
    "        result += T_n * angular\n",
    "    \n",
    "    return result"
   ]
  },
  {
   "cell_type": "code",
   "execution_count": 69,
   "metadata": {},
   "outputs": [],
   "source": [
    "# try it (TESTING)\n",
    "#simultaneous_fit_rot_temp(theta=df_.theta_B_true.values, phi=df_.phi_B_true.values, temp_rescaled=df[f'{probe}_Cal_T_rescaled'].values, **params)"
   ]
  },
  {
   "cell_type": "code",
   "execution_count": 70,
   "metadata": {},
   "outputs": [
    {
     "data": {
      "text/plain": [
       "-2816400.0"
      ]
     },
     "execution_count": 70,
     "metadata": {},
     "output_type": "execute_result"
    }
   ],
   "source": [
    "Vm = df_[f'{probe}_Raw_Z'].abs().max()\n",
    "if abs(df_[f'{probe}_Raw_Z'].max()) > abs(df_[f'{probe}_Raw_Z'].min()):\n",
    "    pass\n",
    "else:\n",
    "    Vm = -1 * Vm\n",
    "Vm"
   ]
  },
  {
   "cell_type": "markdown",
   "metadata": {},
   "source": [
    "### One Component"
   ]
  },
  {
   "cell_type": "code",
   "execution_count": 72,
   "metadata": {},
   "outputs": [],
   "source": [
    "# which component?\n",
    "# comp = 'X'\n",
    "#comp = 'Y'\n",
    "comp = 'Z'\n",
    "# rescale data?\n",
    "data = deepcopy(df_[f'{probe}_Raw_{comp}'].values)\n",
    "# data = data / np.max(np.abs(data))\n",
    "tempdata = df_[f'{probe}_Cal_T_rescaled'].values\n",
    "###\n",
    "# uncertainty\n",
    "sigma_est = 100 # 100 / 3e-6 ~ 3e-5\n",
    "# sigma_est = 3e-5\n",
    "###\n",
    "model = lm.Model(simultaneous_fit_rot_temp, independent_vars=['theta', 'phi', 'temp_rescaled'])\n",
    "params = lm.Parameters()\n",
    "\n",
    "params.add('nmax', value=2, vary=False)\n",
    "\n",
    "params.add('alpha', value=-1.55, vary=True, min=-np.pi, max=np.pi)\n",
    "params.add('beta', value=2.25, vary=True, min=-np.pi, max=np.pi)\n",
    "params.add('gamma', value=-3.08, vary=True, min=-np.pi, max=np.pi)\n",
    "\n",
    "# spherical\n",
    "# min_ = 0. # use 0 min?\n",
    "min_ = None # or allow negative?\n",
    "# max_ = 1.0\n",
    "max_ = None\n",
    "\n",
    "for n in range(params['nmax'] + 1):\n",
    "    params.add(f'C{n}00', value=0.5, vary=True, min=min_, max=max_)\n",
    "    # params.add('C10', value=0.5, vary=True, min=min_, max=max_)\n",
    "    params.add(f'C{n}10', value=Vm, vary=True, min=min_, max=max_)\n",
    "    params.add(f'C{n}20', value=0.5, vary=True, min=min_, max=max_)\n",
    "    params.add(f'C{n}22', value=0.5, vary=True, min=min_, max=max_) # PHE\n",
    "    params.add(f'C{n}30', value=0.5, vary=True, min=min_, max=max_)\n",
    "    params.add(f'C{n}32', value=0.5, vary=True, min=min_, max=max_) # 3D Hall effect\n",
    "#     params.add(f'C{n}32', value=0.0, vary=False, min=min_, max=max_) # 3D Hall effect\n",
    "\n",
    "result_simul_rot_temp = model.fit(data, theta=df_['theta_B_true'].values, phi=df_['phi_B_true'].values, \n",
    "                                  temp_rescaled=tempdata, params=params,\n",
    "                                  weights=1/(sigma_est*np.ones_like(df_[f'{probe}_Raw_{comp}'].values)), scale_covar=False)\n",
    "# subtract off cos(theta)\n",
    "df_.loc[:, f'simul_rot_temp_fit'] = result_simul_rot_temp.best_fit\n",
    "df_.loc[:, f'{probe}_Raw_{comp}_min_simul_rot_temp'] = data - result_simul_rot_temp.best_fit"
   ]
  },
  {
   "cell_type": "code",
   "execution_count": 73,
   "metadata": {},
   "outputs": [
    {
     "data": {
      "text/plain": [
       "(-0.9999999999999999, 1.0000000000000002)"
      ]
     },
     "execution_count": 73,
     "metadata": {},
     "output_type": "execute_result"
    }
   ],
   "source": [
    "np.min(tempdata), np.max(tempdata)"
   ]
  },
  {
   "cell_type": "code",
   "execution_count": 74,
   "metadata": {
    "scrolled": true
   },
   "outputs": [
    {
     "data": {
      "text/html": [
       "<h2> Model</h2> Model(simultaneous_fit_rot_temp) <h2>Fit Statistics</h2><table><tr><td>fitting method</td><td>leastsq</td><td></td></tr><tr><td># function evals</td><td>3059</td><td></td></tr><tr><td># data points</td><td>50895</td><td></td></tr><tr><td># variables</td><td>21</td><td></td></tr><tr><td>chi-square</td><td> 33021.3880</td><td></td></tr><tr><td>reduced chi-square</td><td> 0.64908181</td><td></td></tr><tr><td>Akaike info crit.</td><td>-21975.6460</td><td></td></tr><tr><td>Bayesian info crit.</td><td>-21790.0581</td><td></td></tr></table><h2>Variables</h2><table><tr><th> name </th><th> value </th><th> standard error </th><th> relative error </th><th> initial value </th><th> min </th><th> max </th><th> vary </th></tr><tr><td> nmax </td><td>  2.00000000 </td><td>  0.00000000 </td><td> (0.00%) </td><td> 2 </td><td>        -inf </td><td>         inf </td><td> False </td></tr><tr><td> alpha </td><td>  1.77798296 </td><td>  0.03935412 </td><td> (2.21%) </td><td> -1.55 </td><td> -3.14159265 </td><td>  3.14159265 </td><td> True </td></tr><tr><td> beta </td><td> -1.55450141 </td><td>  1.4071e-04 </td><td> (0.01%) </td><td> 2.25 </td><td> -3.14159265 </td><td>  3.14159265 </td><td> True </td></tr><tr><td> gamma </td><td> -3.14159265 </td><td>  0.05221320 </td><td> (1.66%) </td><td> -3.08 </td><td> -3.14159265 </td><td>  3.14159265 </td><td> True </td></tr><tr><td> C000 </td><td> -1844150.37 </td><td>  79.6740673 </td><td> (0.00%) </td><td> 0.5 </td><td>        -inf </td><td>         inf </td><td> True </td></tr><tr><td> C010 </td><td> -1412.71636 </td><td>  1785.51988 </td><td> (126.39%) </td><td> -2816400.0 </td><td>        -inf </td><td>         inf </td><td> True </td></tr><tr><td> C020 </td><td>  235947.727 </td><td>  51.5355694 </td><td> (0.02%) </td><td> 0.5 </td><td>        -inf </td><td>         inf </td><td> True </td></tr><tr><td> C022 </td><td> -720768.588 </td><td>  74.5840043 </td><td> (0.01%) </td><td> 0.5 </td><td>        -inf </td><td>         inf </td><td> True </td></tr><tr><td> C030 </td><td>  605.222470 </td><td>  406.801367 </td><td> (67.22%) </td><td> 0.5 </td><td>        -inf </td><td>         inf </td><td> True </td></tr><tr><td> C032 </td><td>  23267.8157 </td><td>  1337.71929 </td><td> (5.75%) </td><td> 0.5 </td><td>        -inf </td><td>         inf </td><td> True </td></tr><tr><td> C100 </td><td>  3412.60721 </td><td>  101.511449 </td><td> (2.97%) </td><td> 0.5 </td><td>        -inf </td><td>         inf </td><td> True </td></tr><tr><td> C110 </td><td> -14417.0453 </td><td>  1769.36594 </td><td> (12.27%) </td><td> -2816400.0 </td><td>        -inf </td><td>         inf </td><td> True </td></tr><tr><td> C120 </td><td> -3190.27475 </td><td>  67.6977359 </td><td> (2.12%) </td><td> 0.5 </td><td>        -inf </td><td>         inf </td><td> True </td></tr><tr><td> C122 </td><td>  8340.74947 </td><td>  82.6869717 </td><td> (0.99%) </td><td> 0.5 </td><td>        -inf </td><td>         inf </td><td> True </td></tr><tr><td> C130 </td><td> -691.580653 </td><td>  515.553234 </td><td> (74.55%) </td><td> 0.5 </td><td>        -inf </td><td>         inf </td><td> True </td></tr><tr><td> C132 </td><td>  10879.9709 </td><td>  1355.75194 </td><td> (12.46%) </td><td> 0.5 </td><td>        -inf </td><td>         inf </td><td> True </td></tr><tr><td> C200 </td><td> -2434.00622 </td><td>  67.8376295 </td><td> (2.79%) </td><td> 0.5 </td><td>        -inf </td><td>         inf </td><td> True </td></tr><tr><td> C210 </td><td> -3778.91234 </td><td>  1402.51336 </td><td> (37.11%) </td><td> -2816400.0 </td><td>        -inf </td><td>         inf </td><td> True </td></tr><tr><td> C220 </td><td> -819.890165 </td><td>  53.6256929 </td><td> (6.54%) </td><td> 0.5 </td><td>        -inf </td><td>         inf </td><td> True </td></tr><tr><td> C222 </td><td>  1122.06808 </td><td>  54.7049402 </td><td> (4.88%) </td><td> 0.5 </td><td>        -inf </td><td>         inf </td><td> True </td></tr><tr><td> C230 </td><td> -298.639541 </td><td>  423.909521 </td><td> (141.95%) </td><td> 0.5 </td><td>        -inf </td><td>         inf </td><td> True </td></tr><tr><td> C232 </td><td>  3023.81413 </td><td>  1118.33897 </td><td> (36.98%) </td><td> 0.5 </td><td>        -inf </td><td>         inf </td><td> True </td></tr></table><h2>Correlations (unreported correlations are < 0.100)</h2><table><tr><td>alpha</td><td>gamma</td><td>0.9876</td></tr><tr><td>alpha</td><td>beta</td><td>0.9850</td></tr><tr><td>beta</td><td>gamma</td><td>0.9459</td></tr><tr><td>C000</td><td>C022</td><td>-0.7875</td></tr><tr><td>C100</td><td>C122</td><td>-0.7526</td></tr><tr><td>C110</td><td>C130</td><td>0.6807</td></tr><tr><td>C210</td><td>C230</td><td>0.6611</td></tr><tr><td>C200</td><td>C222</td><td>-0.6410</td></tr><tr><td>C200</td><td>C220</td><td>0.6242</td></tr><tr><td>gamma</td><td>C010</td><td>0.6203</td></tr><tr><td>C100</td><td>C120</td><td>0.5961</td></tr><tr><td>C000</td><td>C100</td><td>0.5919</td></tr><tr><td>alpha</td><td>C010</td><td>0.5710</td></tr><tr><td>C110</td><td>C132</td><td>-0.5467</td></tr><tr><td>C022</td><td>C122</td><td>0.5437</td></tr><tr><td>C210</td><td>C232</td><td>-0.5189</td></tr><tr><td>beta</td><td>C010</td><td>0.5010</td></tr><tr><td>beta</td><td>C032</td><td>0.5007</td></tr><tr><td>C000</td><td>C122</td><td>-0.4875</td></tr><tr><td>C020</td><td>C030</td><td>0.4791</td></tr><tr><td>C022</td><td>C100</td><td>-0.4786</td></tr><tr><td>C000</td><td>C020</td><td>0.4668</td></tr><tr><td>C220</td><td>C230</td><td>0.4573</td></tr><tr><td>C022</td><td>C032</td><td>0.4550</td></tr><tr><td>C200</td><td>C210</td><td>0.4532</td></tr><tr><td>C120</td><td>C130</td><td>0.4494</td></tr><tr><td>C210</td><td>C220</td><td>0.4365</td></tr><tr><td>C110</td><td>C120</td><td>0.4278</td></tr><tr><td>alpha</td><td>C032</td><td>0.4258</td></tr><tr><td>C020</td><td>C120</td><td>0.4103</td></tr><tr><td>C100</td><td>C110</td><td>0.4003</td></tr><tr><td>C000</td><td>C032</td><td>-0.3986</td></tr><tr><td>beta</td><td>C022</td><td>0.3795</td></tr><tr><td>C030</td><td>C130</td><td>0.3539</td></tr><tr><td>C032</td><td>C122</td><td>0.3500</td></tr><tr><td>gamma</td><td>C032</td><td>0.3458</td></tr><tr><td>C010</td><td>C110</td><td>0.3240</td></tr><tr><td>C032</td><td>C132</td><td>0.3090</td></tr><tr><td>C032</td><td>C100</td><td>-0.3066</td></tr><tr><td>alpha</td><td>C022</td><td>0.3041</td></tr><tr><td>C100</td><td>C200</td><td>0.3034</td></tr><tr><td>C000</td><td>C120</td><td>0.3013</td></tr><tr><td>C230</td><td>C232</td><td>0.2983</td></tr><tr><td>C200</td><td>C230</td><td>0.2930</td></tr><tr><td>beta</td><td>C000</td><td>-0.2888</td></tr><tr><td>C010</td><td>C030</td><td>0.2855</td></tr><tr><td>C222</td><td>C232</td><td>0.2695</td></tr><tr><td>C020</td><td>C100</td><td>0.2687</td></tr><tr><td>C100</td><td>C130</td><td>0.2615</td></tr><tr><td>C030</td><td>C110</td><td>0.2560</td></tr><tr><td>C000</td><td>C010</td><td>0.2521</td></tr><tr><td>beta</td><td>C100</td><td>-0.2469</td></tr><tr><td>C130</td><td>C132</td><td>0.2410</td></tr><tr><td>C122</td><td>C132</td><td>0.2408</td></tr><tr><td>C200</td><td>C232</td><td>-0.2400</td></tr><tr><td>gamma</td><td>C022</td><td>0.2384</td></tr><tr><td>C010</td><td>C032</td><td>-0.2329</td></tr><tr><td>beta</td><td>C122</td><td>0.2308</td></tr><tr><td>gamma</td><td>C030</td><td>-0.2285</td></tr><tr><td>alpha</td><td>C000</td><td>-0.2277</td></tr><tr><td>C100</td><td>C132</td><td>-0.2263</td></tr><tr><td>C122</td><td>C200</td><td>-0.2238</td></tr><tr><td>C010</td><td>C130</td><td>0.2164</td></tr><tr><td>C030</td><td>C032</td><td>0.2112</td></tr><tr><td>C122</td><td>C222</td><td>0.2095</td></tr><tr><td>C000</td><td>C030</td><td>0.2088</td></tr><tr><td>C032</td><td>C110</td><td>-0.2065</td></tr><tr><td>C100</td><td>C222</td><td>-0.2036</td></tr><tr><td>C220</td><td>C222</td><td>0.1995</td></tr><tr><td>C030</td><td>C120</td><td>0.1992</td></tr><tr><td>alpha</td><td>C030</td><td>-0.1980</td></tr><tr><td>C010</td><td>C132</td><td>-0.1929</td></tr><tr><td>alpha</td><td>C100</td><td>-0.1899</td></tr><tr><td>C110</td><td>C210</td><td>0.1896</td></tr><tr><td>C120</td><td>C200</td><td>0.1877</td></tr><tr><td>C120</td><td>C220</td><td>0.1859</td></tr><tr><td>C010</td><td>C020</td><td>0.1825</td></tr><tr><td>C100</td><td>C220</td><td>0.1823</td></tr><tr><td>gamma</td><td>C020</td><td>-0.1757</td></tr><tr><td>gamma</td><td>C000</td><td>-0.1743</td></tr><tr><td>C000</td><td>C110</td><td>0.1714</td></tr><tr><td>C020</td><td>C110</td><td>0.1712</td></tr><tr><td>C020</td><td>C130</td><td>0.1707</td></tr><tr><td>alpha</td><td>C020</td><td>-0.1612</td></tr><tr><td>beta</td><td>C030</td><td>-0.1593</td></tr><tr><td>C130</td><td>C230</td><td>0.1578</td></tr><tr><td>C020</td><td>C022</td><td>0.1568</td></tr><tr><td>C132</td><td>C232</td><td>0.1523</td></tr><tr><td>alpha</td><td>C122</td><td>0.1501</td></tr><tr><td>C110</td><td>C122</td><td>-0.1454</td></tr><tr><td>C210</td><td>C222</td><td>-0.1387</td></tr><tr><td>beta</td><td>C020</td><td>-0.1374</td></tr><tr><td>gamma</td><td>C100</td><td>-0.1347</td></tr><tr><td>C010</td><td>C100</td><td>0.1293</td></tr><tr><td>C130</td><td>C210</td><td>0.1285</td></tr><tr><td>C110</td><td>C230</td><td>0.1232</td></tr><tr><td>C010</td><td>C122</td><td>-0.1214</td></tr><tr><td>C022</td><td>C220</td><td>-0.1187</td></tr><tr><td>C000</td><td>C130</td><td>0.1063</td></tr><tr><td>C132</td><td>C210</td><td>-0.1045</td></tr><tr><td>C030</td><td>C230</td><td>-0.1045</td></tr><tr><td>C000</td><td>C132</td><td>-0.1011</td></tr><tr><td>C110</td><td>C232</td><td>-0.1010</td></tr><tr><td>C022</td><td>C200</td><td>-0.1005</td></tr></table>"
      ],
      "text/plain": [
       "<lmfit.model.ModelResult at 0x7fb5724c15b0>"
      ]
     },
     "execution_count": 74,
     "metadata": {},
     "output_type": "execute_result"
    }
   ],
   "source": [
    "# scan 3-5, using orientation from scan 3-5 fit\n",
    "# X\n",
    "result_simul_rot_temp"
   ]
  },
  {
   "cell_type": "code",
   "execution_count": null,
   "metadata": {},
   "outputs": [],
   "source": [
    "# scan 3-5, using orientation from scan 3-5 fit\n",
    "# Y\n",
    "result_simul_rot_temp"
   ]
  },
  {
   "cell_type": "code",
   "execution_count": null,
   "metadata": {},
   "outputs": [],
   "source": [
    "# scan 3-5, using orientation from scan 3-5 fit\n",
    "# Z\n",
    "result_simul_rot_temp"
   ]
  },
  {
   "cell_type": "code",
   "execution_count": null,
   "metadata": {},
   "outputs": [],
   "source": []
  },
  {
   "cell_type": "code",
   "execution_count": null,
   "metadata": {
    "scrolled": true
   },
   "outputs": [],
   "source": [
    "# scan 3-5, using orientation from scan 3 fit\n",
    "# X\n",
    "result_simul_rot_temp"
   ]
  },
  {
   "cell_type": "code",
   "execution_count": null,
   "metadata": {},
   "outputs": [],
   "source": [
    "# scan 3-5, using orientation from scan 3 fit\n",
    "# Y\n",
    "result_simul_rot_temp"
   ]
  },
  {
   "cell_type": "code",
   "execution_count": null,
   "metadata": {},
   "outputs": [],
   "source": [
    "# scan 3-5, using orientation from scan 3 fit\n",
    "# Z\n",
    "result_simul_rot_temp"
   ]
  },
  {
   "cell_type": "code",
   "execution_count": null,
   "metadata": {
    "scrolled": true
   },
   "outputs": [],
   "source": [
    "# REMEMBER! phi & theta expected to be passed in as degrees.\n",
    "fig = spherical_scatter3d(phi_list=[df_.phi_B_true_deg], theta_list=[df_.theta_B_true_deg], r_list=[df_[f'{probe}_Raw_{comp}_min_simul_rot_temp']],\n",
    "                          units_list=None, absval=True, colors_list=None, opacity_list=None, size_list=None,\n",
    "                          inline=True, title=None, filename=None)"
   ]
  },
  {
   "cell_type": "code",
   "execution_count": null,
   "metadata": {},
   "outputs": [],
   "source": [
    "fig, ax = plt.subplots()\n",
    "\n",
    "# bins=np.arange(-500, 510, 10)\n",
    "bins=np.arange(-750, 760, 10)\n",
    "# bins=np.arange(-1000, 1050, 50)\n",
    "\n",
    "ax.hist(df_[f'{probe}_Raw_{comp}_min_simul_rot_temp'], bins=bins, histtype='step', label=get_label(df_[f'{probe}_Raw_{comp}_min_simul_rot_temp'], bins))\n",
    "\n",
    "ax.set_xlabel('Residuals from Spherical Harmonic & Temp Fit');\n",
    "ax.set_title(f\"Voltage Fit: {comp}\")\n",
    "ax.legend(loc='upper left', bbox_to_anchor=(0.7, 1.0));"
   ]
  },
  {
   "cell_type": "code",
   "execution_count": null,
   "metadata": {},
   "outputs": [],
   "source": [
    "150 / 100  * 3e-5"
   ]
  },
  {
   "cell_type": "code",
   "execution_count": null,
   "metadata": {},
   "outputs": [],
   "source": [
    "fig, ax = plt.subplots()\n",
    "\n",
    "ax.scatter(df_.theta_B_true_deg, df_[f'{probe}_Raw_{comp}_min_simul_rot_temp'], s=2)\n",
    "\n",
    "ax.set_xlabel(r'$\\theta$ [deg]')\n",
    "ax.set_ylabel('Residuals from Spherical Harmonic & Temp Fit');"
   ]
  },
  {
   "cell_type": "code",
   "execution_count": null,
   "metadata": {},
   "outputs": [],
   "source": [
    "fig, ax = plt.subplots()\n",
    "\n",
    "ax.scatter(df_.phi_B_true_deg, df_[f'{probe}_Raw_{comp}_min_simul_rot_temp'], s=2)\n",
    "\n",
    "ax.set_xlabel(r'$\\phi$ [deg]')\n",
    "ax.set_ylabel('Residuals from Spherical Harmonic & Temp Fit');"
   ]
  },
  {
   "cell_type": "code",
   "execution_count": null,
   "metadata": {},
   "outputs": [],
   "source": [
    "fig, ax = plt.subplots()\n",
    "\n",
    "ax.scatter(df_[f'{probe}_Cal_T'], df_[f'{probe}_Raw_{comp}_min_simul_rot_temp'], s=2)\n",
    "\n",
    "ax.set_xlabel(f'{probe}_Cal_T [deg C]')\n",
    "ax.set_ylabel('Residuals from Spherical Harmonic & Temp Fit');"
   ]
  },
  {
   "cell_type": "code",
   "execution_count": null,
   "metadata": {},
   "outputs": [],
   "source": [
    "fig, ax = plt.subplots()\n",
    "\n",
    "ax.scatter(df_[f'{probe}_Raw_{comp}'], df_[f'{probe}_Raw_{comp}_min_simul_rot_temp'], s=2)\n",
    "\n",
    "ax.set_xlabel(f'Raw {comp}')\n",
    "ax.set_ylabel('Residuals from Spherical Harmonic & Temp Fit');"
   ]
  },
  {
   "cell_type": "code",
   "execution_count": null,
   "metadata": {
    "scrolled": true
   },
   "outputs": [],
   "source": [
    "# REMEMBER! phi & theta expected to be passed in as degrees.\n",
    "fig = spherical_scatter3d(phi_list=2*[df_.phi_B_true_deg], theta_list=2*[df_.theta_B_true_deg], r_list=[df_[f'{probe}_Raw_{comp}'], df_['simul_rot_temp_fit']],\n",
    "                          units_list=['adc', 'adc'], absval=True, colors_list=['viridis', 'hot'], opacity_list=None, size_list=None,\n",
    "                          inline=True, title=None, filename=None)"
   ]
  },
  {
   "cell_type": "markdown",
   "metadata": {},
   "source": [
    "### All components (collect results)"
   ]
  },
  {
   "cell_type": "code",
   "execution_count": 75,
   "metadata": {},
   "outputs": [
    {
     "name": "stdout",
     "output_type": "stream",
     "text": [
      "Fitting X\n",
      "Fitting Y\n",
      "Fitting Z\n"
     ]
    }
   ],
   "source": [
    "comps = ['X', 'Y', 'Z']\n",
    "result_dict = dict()\n",
    "\n",
    "for comp in comps:\n",
    "    print(f'Fitting {comp}')\n",
    "    # rescale data?\n",
    "    data = deepcopy(df_[f'{probe}_Raw_{comp}'].values)\n",
    "    # data = data / np.max(np.abs(data))\n",
    "    tempdata = df_[f'{probe}_Cal_T_rescaled'].values\n",
    "    ###\n",
    "    # uncertainty\n",
    "    sigma_est = 100 # 100 / 3e-6 ~ 3e-5\n",
    "    # sigma_est = 3e-5\n",
    "    ###\n",
    "    model = lm.Model(simultaneous_fit_rot_temp, independent_vars=['theta', 'phi', 'temp_rescaled'])\n",
    "    params = lm.Parameters()\n",
    "\n",
    "    params.add('nmax', value=2, vary=False)\n",
    "\n",
    "    params.add('alpha', value=-1.55, vary=True, min=-np.pi, max=np.pi)\n",
    "    params.add('beta', value=2.25, vary=True, min=-np.pi, max=np.pi)\n",
    "    params.add('gamma', value=-3.08, vary=True, min=-np.pi, max=np.pi)\n",
    "\n",
    "    # spherical\n",
    "    # min_ = 0. # use 0 min?\n",
    "    min_ = None # or allow negative?\n",
    "    # max_ = 1.0\n",
    "    max_ = None\n",
    "\n",
    "    for n in range(params['nmax'] + 1):\n",
    "        params.add(f'C{n}00', value=0.5, vary=True, min=min_, max=max_)\n",
    "        # params.add('C10', value=0.5, vary=True, min=min_, max=max_)\n",
    "        params.add(f'C{n}10', value=Vm, vary=True, min=min_, max=max_)\n",
    "        params.add(f'C{n}20', value=0.5, vary=True, min=min_, max=max_)\n",
    "        params.add(f'C{n}22', value=0.5, vary=True, min=min_, max=max_) # PHE\n",
    "        params.add(f'C{n}30', value=0.5, vary=True, min=min_, max=max_)\n",
    "        params.add(f'C{n}32', value=0.5, vary=True, min=min_, max=max_) # 3D Hall effect\n",
    "    #     params.add(f'C{n}32', value=0.0, vary=False, min=min_, max=max_) # 3D Hall effect\n",
    "\n",
    "    result_simul_rot_temp = model.fit(data, theta=df_['theta_B_true'].values, phi=df_['phi_B_true'].values, \n",
    "                                      temp_rescaled=tempdata, params=params,\n",
    "                                      weights=1/(sigma_est*np.ones_like(df_[f'{probe}_Raw_{comp}'].values)), scale_covar=False)\n",
    "    # subtract off cos(theta)\n",
    "    df_.loc[:, f'simul_rot_temp_fit_{comp}'] = result_simul_rot_temp.best_fit\n",
    "    df_.loc[:, f'{probe}_Raw_{comp}_min_simul_rot_temp'] = data - result_simul_rot_temp.best_fit\n",
    "    result_dict[comp] = result_simul_rot_temp"
   ]
  },
  {
   "cell_type": "code",
   "execution_count": 76,
   "metadata": {},
   "outputs": [
    {
     "data": {
      "text/plain": [
       "count    50895.000000\n",
       "mean         1.002202\n",
       "std          0.000298\n",
       "min          1.001629\n",
       "25%          1.002063\n",
       "50%          1.002065\n",
       "75%          1.002509\n",
       "max          1.002512\n",
       "Name: NMR [T], dtype: float64"
      ]
     },
     "execution_count": 76,
     "metadata": {},
     "output_type": "execute_result"
    }
   ],
   "source": [
    "df_['NMR [T]'].describe()"
   ]
  },
  {
   "cell_type": "code",
   "execution_count": 77,
   "metadata": {},
   "outputs": [
    {
     "data": {
      "text/plain": [
       "2529.7632029331894"
      ]
     },
     "execution_count": 77,
     "metadata": {},
     "output_type": "execute_result"
    }
   ],
   "source": [
    "# expected contribution from |B| changes\n",
    "(df_['NMR [T]'].max() - df_['NMR [T]'].min()) * 2.863e6"
   ]
  },
  {
   "cell_type": "code",
   "execution_count": 78,
   "metadata": {},
   "outputs": [
    {
     "data": {
      "image/png": "[encoded data removed]",
      "text/plain": [
       "<Figure size 720x576 with 1 Axes>"
      ]
     },
     "metadata": {
      "needs_background": "light"
     },
     "output_type": "display_data"
    },
    {
     "data": {
      "image/png": "[encoded data removed]",
      "text/plain": [
       "<Figure size 720x576 with 1 Axes>"
      ]
     },
     "metadata": {
      "needs_background": "light"
     },
     "output_type": "display_data"
    },
    {
     "data": {
      "image/png": "[encoded data removed]",
      "text/plain": [
       "<Figure size 720x576 with 1 Axes>"
      ]
     },
     "metadata": {
      "needs_background": "light"
     },
     "output_type": "display_data"
    }
   ],
   "source": [
    "for comp in comps:\n",
    "    fig, ax = plt.subplots()\n",
    "\n",
    "    # bins=np.arange(-500, 510, 10)\n",
    "    bins=np.arange(-750, 760, 10)\n",
    "    # bins=np.arange(-1000, 1050, 50)\n",
    "\n",
    "    ax.hist(df_[f'{probe}_Raw_{comp}_min_simul_rot_temp'], bins=bins, histtype='step', label=f'{comp}\\n'+get_label(df_[f'{probe}_Raw_{comp}_min_simul_rot_temp'], bins))\n",
    "\n",
    "    ax.set_xlabel('Residuals from Spherical Harmonics & Temp Fit, (Data - Fit) [ADC]');\n",
    "    ax.set_title(f\"Voltage Fit: {comp}\")\n",
    "    ax.legend(loc='upper left', bbox_to_anchor=(0.7, 1.0));"
   ]
  },
  {
   "cell_type": "code",
   "execution_count": null,
   "metadata": {},
   "outputs": [],
   "source": [
    "for comp in comps:\n",
    "    fig, ax = plt.subplots()\n",
    "\n",
    "    ax.scatter(df_.theta_B_true_deg, df_[f'{probe}_Raw_{comp}_min_simul_rot_temp'], s=2)\n",
    "\n",
    "    ax.set_xlabel(r'$\\theta$ [deg]')\n",
    "    ax.set_ylabel('Residuals from Spherical Harmonic & Temp Fit')\n",
    "    ax.set_title(f\"Voltage Fit: {comp}\");"
   ]
  },
  {
   "cell_type": "code",
   "execution_count": null,
   "metadata": {
    "code_folding": []
   },
   "outputs": [],
   "source": [
    "for comp in comps:\n",
    "    fig, ax = plt.subplots()\n",
    "\n",
    "    ax.scatter(df_.phi_B_true_deg, df_[f'{probe}_Raw_{comp}_min_simul_rot_temp'], s=2)\n",
    "\n",
    "    ax.set_xlabel(r'$\\phi$ [deg]')\n",
    "    ax.set_ylabel('Residuals from Spherical Harmonic & Temp Fit');\n",
    "    ax.set_title(f\"Voltage Fit: {comp}\");"
   ]
  },
  {
   "cell_type": "code",
   "execution_count": null,
   "metadata": {},
   "outputs": [],
   "source": [
    "for comp in comps:\n",
    "    fig, ax = plt.subplots()\n",
    "\n",
    "    ax.scatter(df_[f'{probe}_Cal_T'], df_[f'{probe}_Raw_{comp}_min_simul_rot_temp'], s=2)\n",
    "\n",
    "    ax.set_xlabel(f'{probe}_Cal_T [deg C]')\n",
    "    ax.set_ylabel('Residuals from Spherical Harmonic & Temp Fit');\n",
    "    ax.set_title(f\"Voltage Fit: {comp}\");"
   ]
  },
  {
   "cell_type": "code",
   "execution_count": null,
   "metadata": {},
   "outputs": [],
   "source": [
    "for comp in comps:\n",
    "    fig, ax = plt.subplots()\n",
    "\n",
    "    ax.scatter(df_[f'{probe}_Raw_{comp}'], df_[f'{probe}_Raw_{comp}_min_simul_rot_temp'], s=2)\n",
    "\n",
    "    ax.set_xlabel(f'Raw {comp}')\n",
    "    ax.set_ylabel('Residuals from Spherical Harmonic & Temp Fit');\n",
    "    ax.set_title(f\"Voltage Fit: {comp}\");"
   ]
  },
  {
   "cell_type": "markdown",
   "metadata": {},
   "source": [
    "## Simultaneous Fit, with Temperature & Field Strength"
   ]
  },
  {
   "cell_type": "code",
   "execution_count": 79,
   "metadata": {},
   "outputs": [],
   "source": [
    "# rescale temperature\n",
    "# tmax = 40.\n",
    "# tmin = 10.\n",
    "tmax = df[f'{probe}_Cal_T'].max()\n",
    "tmin = df[f'{probe}_Cal_T'].min()\n",
    "t_sub = (tmax + tmin) / 2\n",
    "t_div = (tmax - tmin) / 2\n",
    "ts_scaled = (df[f'{probe}_Cal_T'].values - t_sub) / t_div\n",
    "df.loc[:, f'{probe}_Cal_T_rescaled'] = ts_scaled\n",
    "# field\n",
    "bmax = df['B_Hall_NMR'].max()\n",
    "bmin = df['B_Hall_NMR'].min()\n",
    "b_sub = (bmax + bmin) / 2\n",
    "b_div = (bmax - bmin) / 2\n",
    "bs_scaled = (df['B_Hall_NMR'].values - b_sub) / b_div\n",
    "df.loc[:, 'B_Hall_NMR_rescaled'] = bs_scaled"
   ]
  },
  {
   "cell_type": "code",
   "execution_count": 80,
   "metadata": {},
   "outputs": [],
   "source": [
    "df_ = df.copy()"
   ]
  },
  {
   "cell_type": "code",
   "execution_count": 81,
   "metadata": {},
   "outputs": [
    {
     "data": {
      "text/plain": [
       "(34.902, 11.303)"
      ]
     },
     "execution_count": 81,
     "metadata": {},
     "output_type": "execute_result"
    }
   ],
   "source": [
    "tmax, tmin"
   ]
  },
  {
   "cell_type": "code",
   "execution_count": 82,
   "metadata": {},
   "outputs": [
    {
     "data": {
      "text/plain": [
       "(1.00227150809336, 1.0013881144294534, 0.0008833936639065509)"
      ]
     },
     "execution_count": 82,
     "metadata": {},
     "output_type": "execute_result"
    }
   ],
   "source": [
    "bmax, bmin, bmax-bmin"
   ]
  },
  {
   "cell_type": "code",
   "execution_count": 83,
   "metadata": {
    "scrolled": true
   },
   "outputs": [
    {
     "data": {
      "text/plain": [
       "2529.156059764455"
      ]
     },
     "execution_count": 83,
     "metadata": {},
     "output_type": "execute_result"
    }
   ],
   "source": [
    "# expected change from field strength\n",
    "(bmax-bmin) * 2.863e6"
   ]
  },
  {
   "cell_type": "code",
   "execution_count": 84,
   "metadata": {},
   "outputs": [],
   "source": [
    "def simultaneous_fit_rot_temp_B(theta, phi, temp_rescaled, B_rescaled, **params):\n",
    "    # how many B terms to include?\n",
    "    kmax = params['kmax']\n",
    "    # how many temperature terms to include?\n",
    "    nmax = params['nmax']\n",
    "    # angular info\n",
    "    B_n_vec = np.array([np.sin(theta) * np.cos(phi), np.sin(theta) * np.sin(phi), np.cos(theta)]).T\n",
    "    rot = Rotation.from_euler('XYZ', angles=np.array([params['alpha'], params['beta'], params['gamma']]), degrees=False)\n",
    "    B_n_vec_rot = rot.apply(B_n_vec)\n",
    "    B_n_T = np.linalg.norm(B_n_vec_rot[:,:2], axis=1)\n",
    "    B_n = np.linalg.norm(B_n_vec_rot, axis=1)\n",
    "    costheta = B_n_vec_rot[:, 2] / B_n\n",
    "    sintheta = B_n_T / B_n\n",
    "    cosphi = B_n_vec_rot[:, 0] / B_n_T\n",
    "#     sinphi = B_n_vec_rot[:, 1] / B_n_T\n",
    "    \n",
    "    result = np.zeros_like(theta)\n",
    "    # loop through B Chebyshev\n",
    "    for k in range(kmax+1):\n",
    "        # turn on appropriate Chebyshev term\n",
    "        coeffs_k = np.zeros(kmax+1)\n",
    "        coeffs_k[k] = 1.\n",
    "        T_k = np.polynomial.chebyshev.chebval(B_rescaled, coeffs_k)\n",
    "        # loop through Temp Chebyshev\n",
    "        for n in range(nmax+1):\n",
    "            # turn on appropriate Chebyshev term\n",
    "            coeffs_n = np.zeros(nmax+1)\n",
    "            coeffs_n[n] = 1.\n",
    "            T_n = np.polynomial.chebyshev.chebval(temp_rescaled, coeffs_n)\n",
    "            # angular encodes the coefficient values\n",
    "            # coeff \"CNLM\" -- C_nlm\n",
    "            angular = params[f'C{k}{n}00'] + params[f'C{k}{n}10'] * costheta + params[f'C{k}{n}20'] * (3*costheta**2 - 1) + params[f'C{k}{n}22'] * (2*cosphi**2 - 1)*(sintheta**2) \\\n",
    "            + params[f'C{k}{n}30'] * (5*costheta**3 - 3*costheta) + params[f'C{k}{n}32'] * (2*cosphi**2 - 1)*(sintheta**2)*costheta\n",
    "            result += T_k * T_n * angular\n",
    "    \n",
    "    return result"
   ]
  },
  {
   "cell_type": "code",
   "execution_count": 85,
   "metadata": {},
   "outputs": [
    {
     "data": {
      "text/plain": [
       "-2816400.0"
      ]
     },
     "execution_count": 85,
     "metadata": {},
     "output_type": "execute_result"
    }
   ],
   "source": [
    "Vm = df_[f'{probe}_Raw_Z'].abs().max()\n",
    "if abs(df_[f'{probe}_Raw_Z'].max()) > abs(df_[f'{probe}_Raw_Z'].min()):\n",
    "    pass\n",
    "else:\n",
    "    Vm = -1 * Vm\n",
    "Vm"
   ]
  },
  {
   "cell_type": "markdown",
   "metadata": {
    "heading_collapsed": true,
    "jp-MarkdownHeadingCollapsed": true
   },
   "source": [
    "### One Component"
   ]
  },
  {
   "cell_type": "markdown",
   "metadata": {
    "hidden": true
   },
   "source": [
    "- RESULTS FROM ANGULAR + TEMP FIT\n",
    "\n",
    "alpha\t1.77403701\t0.01432254\t(0.81%)\t-1.55\t-3.14159265\t3.14159265\tTrue\n",
    "\n",
    "beta\t-1.55454189\t6.2355e-05\t(0.00%)\t2.25\t-3.14159265\t3.14159265\tTrue\n",
    "\n",
    "gamma\t-3.14159265\t0.02662969\t(0.85%)\t-3.08\t-3.14159265\t3.14159265\tTrue"
   ]
  },
  {
   "cell_type": "code",
   "execution_count": 56,
   "metadata": {
    "hidden": true
   },
   "outputs": [
    {
     "ename": "NameError",
     "evalue": "name 'result_dict' is not defined",
     "output_type": "error",
     "traceback": [
      "\u001b[0;31m---------------------------------------------------------------------------\u001b[0m",
      "\u001b[0;31mNameError\u001b[0m                                 Traceback (most recent call last)",
      "Input \u001b[0;32mIn [56]\u001b[0m, in \u001b[0;36m<cell line: 1>\u001b[0;34m()\u001b[0m\n\u001b[0;32m----> 1\u001b[0m \u001b[43mresult_dict\u001b[49m[comp]\u001b[38;5;241m.\u001b[39mparams[\u001b[38;5;124m'\u001b[39m\u001b[38;5;124malpha\u001b[39m\u001b[38;5;124m'\u001b[39m]\u001b[38;5;241m.\u001b[39mvalue\n",
      "\u001b[0;31mNameError\u001b[0m: name 'result_dict' is not defined"
     ]
    }
   ],
   "source": [
    "result_dict[comp].params['alpha'].value"
   ]
  },
  {
   "cell_type": "code",
   "execution_count": 57,
   "metadata": {
    "hidden": true
   },
   "outputs": [
    {
     "ename": "NameError",
     "evalue": "name 'Bdata' is not defined",
     "output_type": "error",
     "traceback": [
      "\u001b[0;31m---------------------------------------------------------------------------\u001b[0m",
      "\u001b[0;31mNameError\u001b[0m                                 Traceback (most recent call last)",
      "Input \u001b[0;32mIn [57]\u001b[0m, in \u001b[0;36m<cell line: 1>\u001b[0;34m()\u001b[0m\n\u001b[0;32m----> 1\u001b[0m \u001b[43mBdata\u001b[49m\u001b[38;5;241m.\u001b[39mmin(), Bdata\u001b[38;5;241m.\u001b[39mmax()\n",
      "\u001b[0;31mNameError\u001b[0m: name 'Bdata' is not defined"
     ]
    }
   ],
   "source": [
    "Bdata.min(), Bdata.max()"
   ]
  },
  {
   "cell_type": "code",
   "execution_count": 58,
   "metadata": {
    "hidden": true
   },
   "outputs": [
    {
     "ename": "NameError",
     "evalue": "name 'result_dict' is not defined",
     "output_type": "error",
     "traceback": [
      "\u001b[0;31m---------------------------------------------------------------------------\u001b[0m",
      "\u001b[0;31mNameError\u001b[0m                                 Traceback (most recent call last)",
      "Input \u001b[0;32mIn [58]\u001b[0m, in \u001b[0;36m<cell line: 33>\u001b[0;34m()\u001b[0m\n\u001b[1;32m     21\u001b[0m \u001b[38;5;66;03m# params.add('alpha', value=-1.55, vary=True, min=-np.pi, max=np.pi)\u001b[39;00m\n\u001b[1;32m     22\u001b[0m \u001b[38;5;66;03m# params.add('beta', value=2.25, vary=True, min=-np.pi, max=np.pi)\u001b[39;00m\n\u001b[1;32m     23\u001b[0m \u001b[38;5;66;03m# params.add('gamma', value=-3.08, vary=True, min=-np.pi, max=np.pi)\u001b[39;00m\n\u001b[0;32m   (...)\u001b[0m\n\u001b[1;32m     29\u001b[0m \n\u001b[1;32m     30\u001b[0m \u001b[38;5;66;03m# var_rot = True # takes a long time...not sure if fit will converge.\u001b[39;00m\n\u001b[1;32m     31\u001b[0m var_rot \u001b[38;5;241m=\u001b[39m \u001b[38;5;28;01mFalse\u001b[39;00m\n\u001b[0;32m---> 33\u001b[0m params\u001b[38;5;241m.\u001b[39madd(\u001b[38;5;124m'\u001b[39m\u001b[38;5;124malpha\u001b[39m\u001b[38;5;124m'\u001b[39m, value\u001b[38;5;241m=\u001b[39m\u001b[43mresult_dict\u001b[49m[comp]\u001b[38;5;241m.\u001b[39mparams[\u001b[38;5;124m'\u001b[39m\u001b[38;5;124malpha\u001b[39m\u001b[38;5;124m'\u001b[39m]\u001b[38;5;241m.\u001b[39mvalue, vary\u001b[38;5;241m=\u001b[39mvar_rot, \u001b[38;5;28mmin\u001b[39m\u001b[38;5;241m=\u001b[39m\u001b[38;5;241m-\u001b[39mnp\u001b[38;5;241m.\u001b[39mpi, \u001b[38;5;28mmax\u001b[39m\u001b[38;5;241m=\u001b[39mnp\u001b[38;5;241m.\u001b[39mpi)\n\u001b[1;32m     34\u001b[0m params\u001b[38;5;241m.\u001b[39madd(\u001b[38;5;124m'\u001b[39m\u001b[38;5;124mbeta\u001b[39m\u001b[38;5;124m'\u001b[39m, value\u001b[38;5;241m=\u001b[39mresult_dict[comp]\u001b[38;5;241m.\u001b[39mparams[\u001b[38;5;124m'\u001b[39m\u001b[38;5;124mbeta\u001b[39m\u001b[38;5;124m'\u001b[39m]\u001b[38;5;241m.\u001b[39mvalue, vary\u001b[38;5;241m=\u001b[39mvar_rot, \u001b[38;5;28mmin\u001b[39m\u001b[38;5;241m=\u001b[39m\u001b[38;5;241m-\u001b[39mnp\u001b[38;5;241m.\u001b[39mpi, \u001b[38;5;28mmax\u001b[39m\u001b[38;5;241m=\u001b[39mnp\u001b[38;5;241m.\u001b[39mpi)\n\u001b[1;32m     35\u001b[0m params\u001b[38;5;241m.\u001b[39madd(\u001b[38;5;124m'\u001b[39m\u001b[38;5;124mgamma\u001b[39m\u001b[38;5;124m'\u001b[39m, value\u001b[38;5;241m=\u001b[39mresult_dict[comp]\u001b[38;5;241m.\u001b[39mparams[\u001b[38;5;124m'\u001b[39m\u001b[38;5;124mgamma\u001b[39m\u001b[38;5;124m'\u001b[39m]\u001b[38;5;241m.\u001b[39mvalue, vary\u001b[38;5;241m=\u001b[39mvar_rot, \u001b[38;5;28mmin\u001b[39m\u001b[38;5;241m=\u001b[39m\u001b[38;5;241m-\u001b[39mnp\u001b[38;5;241m.\u001b[39mpi, \u001b[38;5;28mmax\u001b[39m\u001b[38;5;241m=\u001b[39mnp\u001b[38;5;241m.\u001b[39mpi)\n",
      "\u001b[0;31mNameError\u001b[0m: name 'result_dict' is not defined"
     ]
    }
   ],
   "source": [
    "# which component?\n",
    "# comp = 'X'\n",
    "# comp = 'Y'\n",
    "comp = 'Z'\n",
    "# rescale data?\n",
    "data = deepcopy(df_[f'{probe}_Raw_{comp}'].values)\n",
    "# data = data / np.max(np.abs(data))\n",
    "tempdata = df_[f'{probe}_Cal_T_rescaled'].values\n",
    "Bdata = df_['B_Hall_NMR_rescaled'].values\n",
    "###\n",
    "# uncertainty\n",
    "sigma_est = 100 # 100 / 3e-6 ~ 3e-5\n",
    "# sigma_est = 3e-5\n",
    "###\n",
    "model = lm.Model(simultaneous_fit_rot_temp_B, independent_vars=['theta', 'phi', 'temp_rescaled', 'B_rescaled'])\n",
    "params = lm.Parameters()\n",
    "\n",
    "params.add('kmax', value=1, vary=False)\n",
    "params.add('nmax', value=2, vary=False)\n",
    "\n",
    "# params.add('alpha', value=-1.55, vary=True, min=-np.pi, max=np.pi)\n",
    "# params.add('beta', value=2.25, vary=True, min=-np.pi, max=np.pi)\n",
    "# params.add('gamma', value=-3.08, vary=True, min=-np.pi, max=np.pi)\n",
    "\n",
    "# Z\n",
    "# params.add('alpha', value=1.77403701, vary=False, min=-np.pi, max=np.pi)\n",
    "# params.add('beta', value=-1.55454189, vary=False, min=-np.pi, max=np.pi)\n",
    "# params.add('gamma', value=-3.14159265, vary=False, min=-np.pi, max=np.pi)\n",
    "\n",
    "# var_rot = True # takes a long time...not sure if fit will converge.\n",
    "var_rot = False\n",
    "\n",
    "params.add('alpha', value=result_dict[comp].params['alpha'].value, vary=var_rot, min=-np.pi, max=np.pi)\n",
    "params.add('beta', value=result_dict[comp].params['beta'].value, vary=var_rot, min=-np.pi, max=np.pi)\n",
    "params.add('gamma', value=result_dict[comp].params['gamma'].value, vary=var_rot, min=-np.pi, max=np.pi)\n",
    "\n",
    "# spherical\n",
    "# min_ = 0. # use 0 min?\n",
    "min_ = None # or allow negative?\n",
    "# max_ = 1.0\n",
    "max_ = None\n",
    "\n",
    "for k in range(params['kmax'] + 1):\n",
    "    for n in range(params['nmax'] + 1):\n",
    "        params.add(f'C{k}{n}00', value=0.5, vary=True, min=min_, max=max_)\n",
    "        params.add(f'C{k}{n}10', value=0.5, vary=True, min=min_, max=max_)\n",
    "#         params.add(f'C{k}{n}10', value=Vm, vary=True, min=min_, max=max_)\n",
    "        params.add(f'C{k}{n}20', value=0.5, vary=True, min=min_, max=max_)\n",
    "        params.add(f'C{k}{n}22', value=0.5, vary=True, min=min_, max=max_) # PHE\n",
    "        params.add(f'C{k}{n}30', value=0.5, vary=True, min=min_, max=max_)\n",
    "        params.add(f'C{k}{n}32', value=0.5, vary=True, min=min_, max=max_) # 3D Hall effect\n",
    "    #     params.add(f'C{n}32', value=0.0, vary=False, min=min_, max=max_) # 3D Hall effect\n",
    "\n",
    "result_simul_rot_temp_B = model.fit(data, theta=df_['theta_B_true'].values, phi=df_['phi_B_true'].values, \n",
    "                                    temp_rescaled=tempdata, B_rescaled=Bdata, params=params,\n",
    "                                    weights=1/(sigma_est*np.ones_like(df_[f'{probe}_Raw_{comp}'].values)), scale_covar=False)\n",
    "# subtract off cos(theta)\n",
    "df_.loc[:, f'simul_rot_temp_B_fit'] = result_simul_rot_temp_B.best_fit\n",
    "df_.loc[:, f'{probe}_Raw_{comp}_min_simul_rot_temp_B'] = data - result_simul_rot_temp_B.best_fit"
   ]
  },
  {
   "cell_type": "code",
   "execution_count": null,
   "metadata": {
    "hidden": true
   },
   "outputs": [],
   "source": [
    "result_dict['X']"
   ]
  },
  {
   "cell_type": "code",
   "execution_count": null,
   "metadata": {
    "hidden": true
   },
   "outputs": [],
   "source": [
    "# scan 3-5, using orientation from scan 3-5 fit, angles float\n",
    "# X\n",
    "result_simul_rot_temp_B"
   ]
  },
  {
   "cell_type": "code",
   "execution_count": null,
   "metadata": {
    "hidden": true
   },
   "outputs": [],
   "source": [
    "# scan 3-5, using orientation from scan 3-5 fit, angles fixed\n",
    "# X\n",
    "result_simul_rot_temp_B"
   ]
  },
  {
   "cell_type": "code",
   "execution_count": null,
   "metadata": {
    "hidden": true
   },
   "outputs": [],
   "source": [
    "# scan 3-5, using orientation from scan 3-5 fit, angles fixed\n",
    "# Y\n",
    "result_simul_rot_temp_B"
   ]
  },
  {
   "cell_type": "code",
   "execution_count": null,
   "metadata": {
    "hidden": true
   },
   "outputs": [],
   "source": [
    "# scan 3-5, using orientation from scan 3-5 fit, angles fixed\n",
    "# Z\n",
    "result_simul_rot_temp_B"
   ]
  },
  {
   "cell_type": "code",
   "execution_count": null,
   "metadata": {
    "hidden": true,
    "scrolled": true
   },
   "outputs": [],
   "source": [
    "# REMEMBER! phi & theta expected to be passed in as degrees.\n",
    "fig = spherical_scatter3d(phi_list=[df_.phi_B_true_deg], theta_list=[df_.theta_B_true_deg], r_list=[df_[f'{probe}_Raw_{comp}_min_simul_rot_temp']],\n",
    "                          units_list=None, absval=True, colors_list=None, opacity_list=None, size_list=None,\n",
    "                          inline=True, title=None, filename=None)"
   ]
  },
  {
   "cell_type": "code",
   "execution_count": null,
   "metadata": {
    "hidden": true
   },
   "outputs": [],
   "source": []
  },
  {
   "cell_type": "code",
   "execution_count": null,
   "metadata": {
    "hidden": true
   },
   "outputs": [],
   "source": [
    "df_.columns"
   ]
  },
  {
   "cell_type": "code",
   "execution_count": null,
   "metadata": {
    "hidden": true
   },
   "outputs": [],
   "source": [
    "fig, ax = plt.subplots()\n",
    "\n",
    "# bins=np.arange(-500, 510, 10)\n",
    "bins=np.arange(-750, 760, 10)\n",
    "# bins=np.arange(-1000, 1050, 50)\n",
    "\n",
    "ax.hist(df_[f'{probe}_Raw_{comp}_min_simul_rot_temp_B'], bins=bins, histtype='step', label=get_label(df_[f'{probe}_Raw_{comp}_min_simul_rot_temp_B'], bins))\n",
    "\n",
    "ax.set_xlabel('Residuals from Spherical Harmonic & Temp Fit');\n",
    "ax.set_title(f\"Voltage Fit: {comp}\")\n",
    "ax.legend(loc='upper left', bbox_to_anchor=(0.7, 1.0));"
   ]
  },
  {
   "cell_type": "code",
   "execution_count": null,
   "metadata": {
    "hidden": true
   },
   "outputs": [],
   "source": [
    "150 / 100  * 3e-5"
   ]
  },
  {
   "cell_type": "code",
   "execution_count": null,
   "metadata": {
    "hidden": true
   },
   "outputs": [],
   "source": [
    "fig, ax = plt.subplots()\n",
    "\n",
    "ax.scatter(df_.theta_B_true_deg, df_[f'{probe}_Raw_{comp}_min_simul_rot_temp'], s=2)\n",
    "\n",
    "ax.set_xlabel(r'$\\theta$ [deg]')\n",
    "ax.set_ylabel('Residuals from Spherical Harmonic & Temp Fit');"
   ]
  },
  {
   "cell_type": "code",
   "execution_count": null,
   "metadata": {
    "hidden": true
   },
   "outputs": [],
   "source": [
    "fig, ax = plt.subplots()\n",
    "\n",
    "ax.scatter(df_.phi_B_true_deg, df_[f'{probe}_Raw_{comp}_min_simul_rot_temp'], s=2)\n",
    "\n",
    "ax.set_xlabel(r'$\\phi$ [deg]')\n",
    "ax.set_ylabel('Residuals from Spherical Harmonic & Temp Fit');"
   ]
  },
  {
   "cell_type": "code",
   "execution_count": null,
   "metadata": {
    "hidden": true
   },
   "outputs": [],
   "source": [
    "fig, ax = plt.subplots()\n",
    "\n",
    "ax.scatter(df_[f'{probe}_Cal_T'], df_[f'{probe}_Raw_{comp}_min_simul_rot_temp'], s=2)\n",
    "\n",
    "ax.set_xlabel(f'{probe}_Cal_T [deg C]')\n",
    "ax.set_ylabel('Residuals from Spherical Harmonic & Temp Fit');"
   ]
  },
  {
   "cell_type": "code",
   "execution_count": null,
   "metadata": {
    "hidden": true
   },
   "outputs": [],
   "source": [
    "fig, ax = plt.subplots()\n",
    "\n",
    "ax.scatter(df_[f'{probe}_Raw_{comp}'], df_[f'{probe}_Raw_{comp}_min_simul_rot_temp'], s=2)\n",
    "\n",
    "ax.set_xlabel(f'Raw {comp}')\n",
    "ax.set_ylabel('Residuals from Spherical Harmonic & Temp Fit');"
   ]
  },
  {
   "cell_type": "code",
   "execution_count": null,
   "metadata": {
    "hidden": true,
    "scrolled": true
   },
   "outputs": [],
   "source": [
    "# REMEMBER! phi & theta expected to be passed in as degrees.\n",
    "fig = spherical_scatter3d(phi_list=2*[df_.phi_B_true_deg], theta_list=2*[df_.theta_B_true_deg], r_list=[df_[f'{probe}_Raw_{comp}'], df_['simul_rot_temp_fit']],\n",
    "                          units_list=['adc', 'adc'], absval=True, colors_list=['viridis', 'hot'], opacity_list=None, size_list=None,\n",
    "                          inline=True, title=None, filename=None)"
   ]
  },
  {
   "cell_type": "markdown",
   "metadata": {},
   "source": [
    "### All components (collect results)"
   ]
  },
  {
   "cell_type": "code",
   "execution_count": 86,
   "metadata": {},
   "outputs": [
    {
     "name": "stdout",
     "output_type": "stream",
     "text": [
      "Fitting X\n",
      "Fitting Y\n",
      "Fitting Z\n"
     ]
    }
   ],
   "source": [
    "comps = ['X', 'Y', 'Z']\n",
    "result_dict_B = dict()\n",
    "\n",
    "for comp in comps:\n",
    "    print(f'Fitting {comp}')\n",
    "    # rescale data?\n",
    "    data = deepcopy(df_[f'{probe}_Raw_{comp}'].values)\n",
    "    # data = data / np.max(np.abs(data))\n",
    "    tempdata = df_[f'{probe}_Cal_T_rescaled'].values\n",
    "    Bdata = df_['B_Hall_NMR_rescaled'].values\n",
    "    ###\n",
    "    # uncertainty\n",
    "    sigma_est = 100 # 100 / 3e-6 ~ 3e-5\n",
    "    # sigma_est = 3e-5\n",
    "    ###\n",
    "    model = lm.Model(simultaneous_fit_rot_temp_B, independent_vars=['theta', 'phi', 'temp_rescaled', 'B_rescaled'])\n",
    "    params = lm.Parameters()\n",
    "\n",
    "    params.add('kmax', value=1, vary=False)\n",
    "    params.add('nmax', value=2, vary=False)\n",
    "\n",
    "    # var_rot = True # takes a long time...not sure if fit will converge.\n",
    "    var_rot = False\n",
    "\n",
    "    params.add('alpha', value=result_dict[comp].params['alpha'].value, vary=var_rot, min=-np.pi, max=np.pi)\n",
    "    params.add('beta', value=result_dict[comp].params['beta'].value, vary=var_rot, min=-np.pi, max=np.pi)\n",
    "    params.add('gamma', value=result_dict[comp].params['gamma'].value, vary=var_rot, min=-np.pi, max=np.pi)\n",
    "\n",
    "    # spherical\n",
    "    # min_ = 0. # use 0 min?\n",
    "    min_ = None # or allow negative?\n",
    "    # max_ = 1.0\n",
    "    max_ = None\n",
    "\n",
    "    for k in range(params['kmax'] + 1):\n",
    "        for n in range(params['nmax'] + 1):\n",
    "            params.add(f'C{k}{n}00', value=0.5, vary=True, min=min_, max=max_)\n",
    "            params.add(f'C{k}{n}10', value=0.5, vary=True, min=min_, max=max_)\n",
    "    #         params.add(f'C{k}{n}10', value=Vm, vary=True, min=min_, max=max_)\n",
    "            params.add(f'C{k}{n}20', value=0.5, vary=True, min=min_, max=max_)\n",
    "            params.add(f'C{k}{n}22', value=0.5, vary=True, min=min_, max=max_) # PHE\n",
    "            params.add(f'C{k}{n}30', value=0.5, vary=True, min=min_, max=max_)\n",
    "            params.add(f'C{k}{n}32', value=0.5, vary=True, min=min_, max=max_) # 3D Hall effect\n",
    "        #     params.add(f'C{n}32', value=0.0, vary=False, min=min_, max=max_) # 3D Hall effect\n",
    "\n",
    "    result_simul_rot_temp_B = model.fit(data, theta=df_['theta_B_true'].values, phi=df_['phi_B_true'].values, \n",
    "                                        temp_rescaled=tempdata, B_rescaled=Bdata, params=params,\n",
    "                                        weights=1/(sigma_est*np.ones_like(df_[f'{probe}_Raw_{comp}'].values)), scale_covar=False)\n",
    "    # subtract off cos(theta)\n",
    "    df_.loc[:, f'simul_rot_temp_B_fit'] = result_simul_rot_temp_B.best_fit\n",
    "    df_.loc[:, f'{probe}_Raw_{comp}_min_simul_rot_temp_B'] = data - result_simul_rot_temp_B.best_fit\n",
    "    result_dict_B[comp] = result_simul_rot_temp_B"
   ]
  },
  {
   "cell_type": "code",
   "execution_count": 87,
   "metadata": {
    "scrolled": true
   },
   "outputs": [
    {
     "data": {
      "text/html": [
       "<h2> Model</h2> Model(simultaneous_fit_rot_temp_B) <h2>Fit Statistics</h2><table><tr><td>fitting method</td><td>leastsq</td><td></td></tr><tr><td># function evals</td><td>519</td><td></td></tr><tr><td># data points</td><td>50895</td><td></td></tr><tr><td># variables</td><td>36</td><td></td></tr><tr><td>chi-square</td><td> 93421.2628</td><td></td></tr><tr><td>reduced chi-square</td><td> 1.83686787</td><td></td></tr><tr><td>Akaike info crit.</td><td> 30983.2964</td><td></td></tr><tr><td>Bayesian info crit.</td><td> 31301.4471</td><td></td></tr></table><h2>Variables</h2><table><tr><th> name </th><th> value </th><th> standard error </th><th> relative error </th><th> initial value </th><th> min </th><th> max </th><th> vary </th></tr><tr><td> kmax </td><td>  1.00000000 </td><td>  0.00000000 </td><td> (0.00%) </td><td> 1 </td><td>        -inf </td><td>         inf </td><td> False </td></tr><tr><td> nmax </td><td>  2.00000000 </td><td>  0.00000000 </td><td> (0.00%) </td><td> 2 </td><td>        -inf </td><td>         inf </td><td> False </td></tr><tr><td> alpha </td><td> -1.52094696 </td><td>  0.00000000 </td><td> (0.00%) </td><td> -1.5209469616314246 </td><td> -3.14159265 </td><td>  3.14159265 </td><td> False </td></tr><tr><td> beta </td><td>  2.37457513 </td><td>  0.00000000 </td><td> (0.00%) </td><td> 2.3745751289460717 </td><td> -3.14159265 </td><td>  3.14159265 </td><td> False </td></tr><tr><td> gamma </td><td> -3.05053678 </td><td>  0.00000000 </td><td> (0.00%) </td><td> -3.050536781652464 </td><td> -3.14159265 </td><td>  3.14159265 </td><td> False </td></tr><tr><td> C0000 </td><td>  71665.0330 </td><td>  4413.37976 </td><td> (6.16%) </td><td> 0.5 </td><td>        -inf </td><td>         inf </td><td> True </td></tr><tr><td> C0010 </td><td> -1668730.53 </td><td>  63872.2672 </td><td> (3.83%) </td><td> 0.5 </td><td>        -inf </td><td>         inf </td><td> True </td></tr><tr><td> C0020 </td><td>  119908.754 </td><td>  4453.31850 </td><td> (3.71%) </td><td> 0.5 </td><td>        -inf </td><td>         inf </td><td> True </td></tr><tr><td> C0022 </td><td>  117788.231 </td><td>  281.419155 </td><td> (0.24%) </td><td> 0.5 </td><td>        -inf </td><td>         inf </td><td> True </td></tr><tr><td> C0030 </td><td>  346429.692 </td><td>  21480.0941 </td><td> (6.20%) </td><td> 0.5 </td><td>        -inf </td><td>         inf </td><td> True </td></tr><tr><td> C0032 </td><td>  78844.2518 </td><td>  4098.90685 </td><td> (5.20%) </td><td> 0.5 </td><td>        -inf </td><td>         inf </td><td> True </td></tr><tr><td> C0100 </td><td> -72341.5543 </td><td>  3870.58295 </td><td> (5.35%) </td><td> 0.5 </td><td>        -inf </td><td>         inf </td><td> True </td></tr><tr><td> C0110 </td><td>  315335.602 </td><td>  68264.6908 </td><td> (21.65%) </td><td> 0.5 </td><td>        -inf </td><td>         inf </td><td> True </td></tr><tr><td> C0120 </td><td> -69781.7018 </td><td>  3895.12824 </td><td> (5.58%) </td><td> 0.5 </td><td>        -inf </td><td>         inf </td><td> True </td></tr><tr><td> C0122 </td><td> -414.090223 </td><td>  295.816730 </td><td> (71.44%) </td><td> 0.5 </td><td>        -inf </td><td>         inf </td><td> True </td></tr><tr><td> C0130 </td><td>  113379.471 </td><td>  22973.0095 </td><td> (20.26%) </td><td> 0.5 </td><td>        -inf </td><td>         inf </td><td> True </td></tr><tr><td> C0132 </td><td> -233722.011 </td><td>  5241.56431 </td><td> (2.24%) </td><td> 0.5 </td><td>        -inf </td><td>         inf </td><td> True </td></tr><tr><td> C0200 </td><td>  156112.084 </td><td>  5580.24846 </td><td> (3.57%) </td><td> 0.5 </td><td>        -inf </td><td>         inf </td><td> True </td></tr><tr><td> C0210 </td><td>  1134398.26 </td><td>  85154.8253 </td><td> (7.51%) </td><td> 0.5 </td><td>        -inf </td><td>         inf </td><td> True </td></tr><tr><td> C0220 </td><td>  156730.862 </td><td>  5627.46748 </td><td> (3.59%) </td><td> 0.5 </td><td>        -inf </td><td>         inf </td><td> True </td></tr><tr><td> C0222 </td><td> -3002.53667 </td><td>  372.894683 </td><td> (12.42%) </td><td> 0.5 </td><td>        -inf </td><td>         inf </td><td> True </td></tr><tr><td> C0230 </td><td>  376725.288 </td><td>  28642.5944 </td><td> (7.60%) </td><td> 0.5 </td><td>        -inf </td><td>         inf </td><td> True </td></tr><tr><td> C0232 </td><td>  170585.345 </td><td>  5727.92017 </td><td> (3.36%) </td><td> 0.5 </td><td>        -inf </td><td>         inf </td><td> True </td></tr><tr><td> C1000 </td><td> -72838.0123 </td><td>  4904.26954 </td><td> (6.73%) </td><td> 0.5 </td><td>        -inf </td><td>         inf </td><td> True </td></tr><tr><td> C1010 </td><td>  389096.164 </td><td>  83904.3972 </td><td> (21.56%) </td><td> 0.5 </td><td>        -inf </td><td>         inf </td><td> True </td></tr><tr><td> C1020 </td><td> -71083.8842 </td><td>  4938.47911 </td><td> (6.95%) </td><td> 0.5 </td><td>        -inf </td><td>         inf </td><td> True </td></tr><tr><td> C1022 </td><td> -5932.99990 </td><td>  365.896412 </td><td> (6.17%) </td><td> 0.5 </td><td>        -inf </td><td>         inf </td><td> True </td></tr><tr><td> C1030 </td><td>  147215.805 </td><td>  28235.9188 </td><td> (19.18%) </td><td> 0.5 </td><td>        -inf </td><td>         inf </td><td> True </td></tr><tr><td> C1032 </td><td> -296671.537 </td><td>  6440.55036 </td><td> (2.17%) </td><td> 0.5 </td><td>        -inf </td><td>         inf </td><td> True </td></tr><tr><td> C1100 </td><td>  273111.752 </td><td>  9844.70656 </td><td> (3.60%) </td><td> 0.5 </td><td>        -inf </td><td>         inf </td><td> True </td></tr><tr><td> C1110 </td><td>  2296730.14 </td><td>  146319.000 </td><td> (6.37%) </td><td> 0.5 </td><td>        -inf </td><td>         inf </td><td> True </td></tr><tr><td> C1120 </td><td>  275069.894 </td><td>  9931.09931 </td><td> (3.61%) </td><td> 0.5 </td><td>        -inf </td><td>         inf </td><td> True </td></tr><tr><td> C1122 </td><td> -10333.8387 </td><td>  645.329195 </td><td> (6.24%) </td><td> 0.5 </td><td>        -inf </td><td>         inf </td><td> True </td></tr><tr><td> C1130 </td><td>  768451.058 </td><td>  49211.3595 </td><td> (6.40%) </td><td> 0.5 </td><td>        -inf </td><td>         inf </td><td> True </td></tr><tr><td> C1132 </td><td>  248964.210 </td><td>  9651.07827 </td><td> (3.88%) </td><td> 0.5 </td><td>        -inf </td><td>         inf </td><td> True </td></tr><tr><td> C1200 </td><td>  13838.6684 </td><td>  2509.95694 </td><td> (18.14%) </td><td> 0.5 </td><td>        -inf </td><td>         inf </td><td> True </td></tr><tr><td> C1210 </td><td>  67662.1468 </td><td>  37844.1567 </td><td> (55.93%) </td><td> 0.5 </td><td>        -inf </td><td>         inf </td><td> True </td></tr><tr><td> C1220 </td><td>  13400.7572 </td><td>  2535.16091 </td><td> (18.92%) </td><td> 0.5 </td><td>        -inf </td><td>         inf </td><td> True </td></tr><tr><td> C1222 </td><td>  3121.42030 </td><td>  164.147804 </td><td> (5.26%) </td><td> 0.5 </td><td>        -inf </td><td>         inf </td><td> True </td></tr><tr><td> C1230 </td><td>  19242.6760 </td><td>  12750.2837 </td><td> (66.26%) </td><td> 0.5 </td><td>        -inf </td><td>         inf </td><td> True </td></tr><tr><td> C1232 </td><td>  70930.9642 </td><td>  2473.95897 </td><td> (3.49%) </td><td> 0.5 </td><td>        -inf </td><td>         inf </td><td> True </td></tr></table><h2>Correlations (unreported correlations are < 0.100)</h2><table><tr><td>C0000</td><td>C0020</td><td>1.0000</td></tr><tr><td>C1100</td><td>C1120</td><td>1.0000</td></tr><tr><td>C0200</td><td>C0220</td><td>0.9999</td></tr><tr><td>C1200</td><td>C1220</td><td>0.9999</td></tr><tr><td>C1000</td><td>C1020</td><td>0.9999</td></tr><tr><td>C0100</td><td>C0120</td><td>0.9999</td></tr><tr><td>C0210</td><td>C0230</td><td>0.9999</td></tr><tr><td>C1110</td><td>C1130</td><td>0.9999</td></tr><tr><td>C0010</td><td>C0030</td><td>0.9999</td></tr><tr><td>C1210</td><td>C1230</td><td>0.9999</td></tr><tr><td>C0110</td><td>C0130</td><td>0.9999</td></tr><tr><td>C1010</td><td>C1030</td><td>0.9999</td></tr><tr><td>C0220</td><td>C1100</td><td>0.9949</td></tr><tr><td>C0220</td><td>C1120</td><td>0.9948</td></tr><tr><td>C0200</td><td>C1100</td><td>0.9948</td></tr><tr><td>C0000</td><td>C1120</td><td>0.9947</td></tr><tr><td>C0020</td><td>C1120</td><td>0.9946</td></tr><tr><td>C0000</td><td>C1100</td><td>0.9946</td></tr><tr><td>C0200</td><td>C1120</td><td>0.9946</td></tr><tr><td>C0020</td><td>C1100</td><td>0.9944</td></tr><tr><td>C0222</td><td>C1122</td><td>0.9943</td></tr><tr><td>C0230</td><td>C1130</td><td>0.9942</td></tr><tr><td>C0210</td><td>C1110</td><td>0.9942</td></tr><tr><td>C0210</td><td>C1130</td><td>0.9941</td></tr><tr><td>C0230</td><td>C1110</td><td>0.9941</td></tr><tr><td>C0232</td><td>C1132</td><td>0.9934</td></tr><tr><td>C0010</td><td>C1110</td><td>0.9929</td></tr><tr><td>C0030</td><td>C1130</td><td>0.9929</td></tr><tr><td>C0030</td><td>C1110</td><td>0.9928</td></tr><tr><td>C0010</td><td>C1130</td><td>0.9928</td></tr><tr><td>C0022</td><td>C1122</td><td>0.9923</td></tr><tr><td>C0032</td><td>C1132</td><td>0.9905</td></tr><tr><td>C0000</td><td>C0220</td><td>0.9795</td></tr><tr><td>C0020</td><td>C0220</td><td>0.9793</td></tr><tr><td>C0000</td><td>C0200</td><td>0.9793</td></tr><tr><td>C0020</td><td>C0200</td><td>0.9790</td></tr><tr><td>C0010</td><td>C0210</td><td>0.9749</td></tr><tr><td>C0030</td><td>C0230</td><td>0.9749</td></tr><tr><td>C0030</td><td>C0210</td><td>0.9749</td></tr><tr><td>C0010</td><td>C0230</td><td>0.9748</td></tr><tr><td>C0022</td><td>C0222</td><td>0.9740</td></tr><tr><td>C0032</td><td>C0232</td><td>0.9687</td></tr><tr><td>C0132</td><td>C1032</td><td>0.9437</td></tr><tr><td>C0110</td><td>C1010</td><td>0.9144</td></tr><tr><td>C0110</td><td>C1030</td><td>0.9143</td></tr><tr><td>C0130</td><td>C1030</td><td>0.9141</td></tr><tr><td>C0130</td><td>C1010</td><td>0.9140</td></tr><tr><td>C0122</td><td>C1022</td><td>0.9119</td></tr><tr><td>C0100</td><td>C1000</td><td>0.8826</td></tr><tr><td>C0120</td><td>C1000</td><td>0.8824</td></tr><tr><td>C0100</td><td>C1020</td><td>0.8818</td></tr><tr><td>C0120</td><td>C1020</td><td>0.8817</td></tr><tr><td>C0000</td><td>C0010</td><td>0.8397</td></tr><tr><td>C0010</td><td>C0020</td><td>0.8389</td></tr><tr><td>C0010</td><td>C1100</td><td>0.8385</td></tr><tr><td>C0010</td><td>C1120</td><td>0.8379</td></tr><tr><td>C0000</td><td>C0030</td><td>0.8353</td></tr><tr><td>C0020</td><td>C0030</td><td>0.8345</td></tr><tr><td>C0030</td><td>C1100</td><td>0.8341</td></tr><tr><td>C0030</td><td>C1120</td><td>0.8335</td></tr><tr><td>C0200</td><td>C1110</td><td>0.8312</td></tr><tr><td>C1100</td><td>C1110</td><td>0.8311</td></tr><tr><td>C0220</td><td>C1110</td><td>0.8308</td></tr><tr><td>C1110</td><td>C1120</td><td>0.8304</td></tr><tr><td>C0010</td><td>C0200</td><td>0.8298</td></tr><tr><td>C0010</td><td>C0220</td><td>0.8293</td></tr><tr><td>C0200</td><td>C1130</td><td>0.8270</td></tr><tr><td>C1100</td><td>C1130</td><td>0.8268</td></tr><tr><td>C0220</td><td>C1130</td><td>0.8265</td></tr><tr><td>C1120</td><td>C1130</td><td>0.8261</td></tr><tr><td>C0030</td><td>C0200</td><td>0.8254</td></tr><tr><td>C0030</td><td>C0220</td><td>0.8251</td></tr><tr><td>C0200</td><td>C0210</td><td>0.8232</td></tr><tr><td>C0000</td><td>C1110</td><td>0.8227</td></tr><tr><td>C0210</td><td>C0220</td><td>0.8227</td></tr><tr><td>C0020</td><td>C1110</td><td>0.8219</td></tr><tr><td>C1200</td><td>C1210</td><td>0.8196</td></tr><tr><td>C0200</td><td>C0230</td><td>0.8191</td></tr><tr><td>C0220</td><td>C0230</td><td>0.8185</td></tr><tr><td>C1210</td><td>C1220</td><td>0.8185</td></tr><tr><td>C0000</td><td>C1130</td><td>0.8184</td></tr><tr><td>C0020</td><td>C1130</td><td>0.8176</td></tr><tr><td>C1200</td><td>C1230</td><td>0.8155</td></tr><tr><td>C0210</td><td>C1100</td><td>0.8144</td></tr><tr><td>C1220</td><td>C1230</td><td>0.8143</td></tr><tr><td>C0210</td><td>C1120</td><td>0.8136</td></tr><tr><td>C0230</td><td>C1100</td><td>0.8102</td></tr><tr><td>C0230</td><td>C1120</td><td>0.8095</td></tr><tr><td>C0000</td><td>C0210</td><td>0.7977</td></tr><tr><td>C0020</td><td>C0210</td><td>0.7969</td></tr><tr><td>C0000</td><td>C0230</td><td>0.7936</td></tr><tr><td>C0020</td><td>C0230</td><td>0.7928</td></tr><tr><td>C0110</td><td>C0120</td><td>0.7668</td></tr><tr><td>C0100</td><td>C0110</td><td>0.7667</td></tr><tr><td>C0120</td><td>C0130</td><td>0.7632</td></tr><tr><td>C0100</td><td>C0130</td><td>0.7631</td></tr><tr><td>C1000</td><td>C1010</td><td>0.7623</td></tr><tr><td>C1010</td><td>C1020</td><td>0.7621</td></tr><tr><td>C1000</td><td>C1030</td><td>0.7585</td></tr><tr><td>C1020</td><td>C1030</td><td>0.7583</td></tr><tr><td>C0132</td><td>C0232</td><td>-0.7293</td></tr><tr><td>C0020</td><td>C1220</td><td>-0.7169</td></tr><tr><td>C0020</td><td>C1200</td><td>-0.7159</td></tr><tr><td>C0000</td><td>C1220</td><td>-0.7157</td></tr><tr><td>C0000</td><td>C1200</td><td>-0.7148</td></tr><tr><td>C0100</td><td>C1010</td><td>0.7015</td></tr><tr><td>C0120</td><td>C1010</td><td>0.7014</td></tr><tr><td>C0120</td><td>C1030</td><td>0.6982</td></tr><tr><td>C0100</td><td>C1030</td><td>0.6981</td></tr><tr><td>C0130</td><td>C0230</td><td>-0.6735</td></tr><tr><td>C0130</td><td>C0210</td><td>-0.6734</td></tr><tr><td>C0110</td><td>C0230</td><td>-0.6732</td></tr><tr><td>C0110</td><td>C0210</td><td>-0.6732</td></tr><tr><td>C1032</td><td>C1232</td><td>-0.6643</td></tr><tr><td>C0110</td><td>C1000</td><td>0.6594</td></tr><tr><td>C0110</td><td>C1020</td><td>0.6589</td></tr><tr><td>C0130</td><td>C1000</td><td>0.6559</td></tr><tr><td>C0130</td><td>C1020</td><td>0.6554</td></tr><tr><td>C1120</td><td>C1220</td><td>-0.6537</td></tr><tr><td>C1120</td><td>C1200</td><td>-0.6526</td></tr><tr><td>C1100</td><td>C1220</td><td>-0.6523</td></tr><tr><td>C1100</td><td>C1200</td><td>-0.6513</td></tr><tr><td>C1020</td><td>C1200</td><td>-0.6507</td></tr><tr><td>C0122</td><td>C0222</td><td>-0.6500</td></tr><tr><td>C1020</td><td>C1220</td><td>-0.6499</td></tr><tr><td>C1000</td><td>C1200</td><td>-0.6498</td></tr><tr><td>C1000</td><td>C1220</td><td>-0.6489</td></tr><tr><td>C0132</td><td>C1132</td><td>-0.6469</td></tr><tr><td>C0022</td><td>C1222</td><td>-0.6365</td></tr><tr><td>C1010</td><td>C1210</td><td>-0.6337</td></tr><tr><td>C1030</td><td>C1210</td><td>-0.6335</td></tr><tr><td>C1010</td><td>C1230</td><td>-0.6333</td></tr><tr><td>C1030</td><td>C1230</td><td>-0.6332</td></tr><tr><td>C1022</td><td>C1222</td><td>-0.6268</td></tr><tr><td>C0010</td><td>C1200</td><td>-0.5975</td></tr><tr><td>C0010</td><td>C1220</td><td>-0.5973</td></tr><tr><td>C0030</td><td>C1200</td><td>-0.5952</td></tr><tr><td>C0030</td><td>C1220</td><td>-0.5949</td></tr><tr><td>C0220</td><td>C1220</td><td>-0.5928</td></tr><tr><td>C0220</td><td>C1200</td><td>-0.5917</td></tr><tr><td>C0130</td><td>C1130</td><td>-0.5914</td></tr><tr><td>C0130</td><td>C1110</td><td>-0.5913</td></tr><tr><td>C0200</td><td>C1220</td><td>-0.5912</td></tr><tr><td>C0110</td><td>C1130</td><td>-0.5911</td></tr><tr><td>C0110</td><td>C1110</td><td>-0.5911</td></tr><tr><td>C0030</td><td>C1210</td><td>-0.5908</td></tr><tr><td>C0030</td><td>C1230</td><td>-0.5908</td></tr><tr><td>C0200</td><td>C1200</td><td>-0.5901</td></tr><tr><td>C0010</td><td>C1210</td><td>-0.5900</td></tr><tr><td>C0010</td><td>C1230</td><td>-0.5899</td></tr><tr><td>C0122</td><td>C1122</td><td>-0.5667</td></tr><tr><td>C0100</td><td>C0200</td><td>-0.5597</td></tr><tr><td>C0120</td><td>C0200</td><td>-0.5594</td></tr><tr><td>C0100</td><td>C0220</td><td>-0.5583</td></tr><tr><td>C0120</td><td>C0220</td><td>-0.5581</td></tr><tr><td>C1122</td><td>C1222</td><td>-0.5505</td></tr><tr><td>C1020</td><td>C1210</td><td>-0.5495</td></tr><tr><td>C1000</td><td>C1210</td><td>-0.5491</td></tr><tr><td>C1020</td><td>C1230</td><td>-0.5465</td></tr><tr><td>C1000</td><td>C1230</td><td>-0.5462</td></tr><tr><td>C0020</td><td>C1210</td><td>-0.5411</td></tr><tr><td>C0000</td><td>C1210</td><td>-0.5409</td></tr><tr><td>C0032</td><td>C0132</td><td>-0.5379</td></tr><tr><td>C0020</td><td>C1230</td><td>-0.5379</td></tr><tr><td>C0000</td><td>C1230</td><td>-0.5377</td></tr><tr><td>C1110</td><td>C1200</td><td>-0.5315</td></tr><tr><td>C1110</td><td>C1220</td><td>-0.5314</td></tr><tr><td>C1130</td><td>C1200</td><td>-0.5294</td></tr><tr><td>C1130</td><td>C1220</td><td>-0.5294</td></tr><tr><td>C0022</td><td>C0032</td><td>0.5185</td></tr><tr><td>C1130</td><td>C1230</td><td>-0.5047</td></tr><tr><td>C1130</td><td>C1210</td><td>-0.5047</td></tr><tr><td>C1110</td><td>C1210</td><td>-0.5039</td></tr><tr><td>C1110</td><td>C1230</td><td>-0.5039</td></tr><tr><td>C0032</td><td>C1122</td><td>0.5030</td></tr><tr><td>C0100</td><td>C0210</td><td>-0.4955</td></tr><tr><td>C0120</td><td>C0210</td><td>-0.4954</td></tr><tr><td>C0100</td><td>C0230</td><td>-0.4932</td></tr><tr><td>C0120</td><td>C0230</td><td>-0.4932</td></tr><tr><td>C0030</td><td>C0130</td><td>-0.4932</td></tr><tr><td>C0010</td><td>C0130</td><td>-0.4932</td></tr><tr><td>C0010</td><td>C0110</td><td>-0.4930</td></tr><tr><td>C0030</td><td>C0110</td><td>-0.4930</td></tr><tr><td>C0232</td><td>C1032</td><td>-0.4928</td></tr><tr><td>C0022</td><td>C1132</td><td>0.4928</td></tr><tr><td>C1120</td><td>C1210</td><td>-0.4878</td></tr><tr><td>C1100</td><td>C1210</td><td>-0.4874</td></tr><tr><td>C0032</td><td>C0222</td><td>0.4856</td></tr><tr><td>C1120</td><td>C1230</td><td>-0.4850</td></tr><tr><td>C1100</td><td>C1230</td><td>-0.4846</td></tr><tr><td>C1122</td><td>C1132</td><td>0.4828</td></tr><tr><td>C0222</td><td>C1222</td><td>-0.4776</td></tr><tr><td>C0100</td><td>C1100</td><td>-0.4733</td></tr><tr><td>C0120</td><td>C1100</td><td>-0.4730</td></tr><tr><td>C0100</td><td>C1120</td><td>-0.4720</td></tr><tr><td>C0120</td><td>C1120</td><td>-0.4718</td></tr><tr><td>C0210</td><td>C1220</td><td>-0.4713</td></tr><tr><td>C0210</td><td>C1200</td><td>-0.4713</td></tr><tr><td>C0222</td><td>C1132</td><td>0.4706</td></tr><tr><td>C0230</td><td>C1220</td><td>-0.4696</td></tr><tr><td>C0230</td><td>C1200</td><td>-0.4696</td></tr><tr><td>C0110</td><td>C0200</td><td>-0.4665</td></tr><tr><td>C0110</td><td>C0220</td><td>-0.4656</td></tr><tr><td>C0022</td><td>C0232</td><td>0.4655</td></tr><tr><td>C0130</td><td>C0200</td><td>-0.4647</td></tr><tr><td>C0130</td><td>C0220</td><td>-0.4638</td></tr><tr><td>C0022</td><td>C0122</td><td>-0.4622</td></tr><tr><td>C0232</td><td>C1122</td><td>0.4603</td></tr><tr><td>C1010</td><td>C1200</td><td>-0.4531</td></tr><tr><td>C0222</td><td>C0232</td><td>0.4530</td></tr><tr><td>C1010</td><td>C1220</td><td>-0.4520</td></tr><tr><td>C1030</td><td>C1200</td><td>-0.4505</td></tr><tr><td>C1030</td><td>C1220</td><td>-0.4494</td></tr><tr><td>C0032</td><td>C1232</td><td>-0.4490</td></tr><tr><td>C1222</td><td>C1232</td><td>0.4409</td></tr><tr><td>C0220</td><td>C1210</td><td>-0.4383</td></tr><tr><td>C0200</td><td>C1210</td><td>-0.4377</td></tr><tr><td>C0220</td><td>C1230</td><td>-0.4357</td></tr><tr><td>C0200</td><td>C1230</td><td>-0.4351</td></tr><tr><td>C0230</td><td>C1230</td><td>-0.4304</td></tr><tr><td>C0100</td><td>C1110</td><td>-0.4303</td></tr><tr><td>C0230</td><td>C1210</td><td>-0.4303</td></tr><tr><td>C0120</td><td>C1110</td><td>-0.4303</td></tr><tr><td>C0210</td><td>C1230</td><td>-0.4296</td></tr><tr><td>C0210</td><td>C1210</td><td>-0.4295</td></tr><tr><td>C0100</td><td>C1130</td><td>-0.4284</td></tr><tr><td>C0120</td><td>C1130</td><td>-0.4284</td></tr><tr><td>C0110</td><td>C1100</td><td>-0.4026</td></tr><tr><td>C0110</td><td>C1120</td><td>-0.4017</td></tr><tr><td>C0130</td><td>C1100</td><td>-0.4012</td></tr><tr><td>C0130</td><td>C1120</td><td>-0.4003</td></tr><tr><td>C1032</td><td>C1132</td><td>-0.3937</td></tr><tr><td>C0000</td><td>C0100</td><td>-0.3814</td></tr><tr><td>C0000</td><td>C0120</td><td>-0.3811</td></tr><tr><td>C0132</td><td>C1232</td><td>-0.3810</td></tr><tr><td>C0020</td><td>C0100</td><td>-0.3802</td></tr><tr><td>C0020</td><td>C0120</td><td>-0.3799</td></tr><tr><td>C0032</td><td>C1222</td><td>-0.3641</td></tr><tr><td>C0010</td><td>C0100</td><td>-0.3551</td></tr><tr><td>C0010</td><td>C0120</td><td>-0.3550</td></tr><tr><td>C0030</td><td>C0100</td><td>-0.3534</td></tr><tr><td>C0030</td><td>C0120</td><td>-0.3533</td></tr><tr><td>C0210</td><td>C1010</td><td>-0.3509</td></tr><tr><td>C0210</td><td>C1030</td><td>-0.3509</td></tr><tr><td>C0230</td><td>C1030</td><td>-0.3506</td></tr><tr><td>C0230</td><td>C1010</td><td>-0.3506</td></tr><tr><td>C0022</td><td>C1232</td><td>-0.3368</td></tr><tr><td>C1132</td><td>C1232</td><td>-0.3366</td></tr><tr><td>C0000</td><td>C0110</td><td>-0.3338</td></tr><tr><td>C0020</td><td>C0110</td><td>-0.3330</td></tr><tr><td>C0000</td><td>C0130</td><td>-0.3327</td></tr><tr><td>C0020</td><td>C0130</td><td>-0.3319</td></tr><tr><td>C1132</td><td>C1222</td><td>-0.3204</td></tr><tr><td>C0222</td><td>C1022</td><td>-0.3143</td></tr><tr><td>C1122</td><td>C1232</td><td>-0.3025</td></tr><tr><td>C0232</td><td>C1222</td><td>-0.2833</td></tr><tr><td>C0122</td><td>C0132</td><td>0.2832</td></tr><tr><td>C1022</td><td>C1032</td><td>0.2790</td></tr><tr><td>C0222</td><td>C1232</td><td>-0.2724</td></tr><tr><td>C0110</td><td>C1210</td><td>-0.2681</td></tr><tr><td>C0110</td><td>C1230</td><td>-0.2676</td></tr><tr><td>C0130</td><td>C1210</td><td>-0.2673</td></tr><tr><td>C0130</td><td>C1230</td><td>-0.2668</td></tr><tr><td>C0032</td><td>C1032</td><td>-0.2651</td></tr><tr><td>C0122</td><td>C1222</td><td>-0.2529</td></tr><tr><td>C1010</td><td>C1110</td><td>-0.2526</td></tr><tr><td>C1030</td><td>C1110</td><td>-0.2526</td></tr><tr><td>C1030</td><td>C1130</td><td>-0.2524</td></tr><tr><td>C1010</td><td>C1130</td><td>-0.2524</td></tr><tr><td>C0122</td><td>C1032</td><td>0.2502</td></tr><tr><td>C0232</td><td>C1232</td><td>-0.2485</td></tr><tr><td>C0132</td><td>C1022</td><td>0.2415</td></tr><tr><td>C1022</td><td>C1232</td><td>-0.2313</td></tr><tr><td>C0100</td><td>C1200</td><td>-0.2182</td></tr><tr><td>C0120</td><td>C1200</td><td>-0.2177</td></tr><tr><td>C0100</td><td>C1220</td><td>-0.2170</td></tr><tr><td>C0122</td><td>C0232</td><td>-0.2167</td></tr><tr><td>C0120</td><td>C1220</td><td>-0.2164</td></tr><tr><td>C1022</td><td>C1122</td><td>-0.2156</td></tr><tr><td>C0100</td><td>C1210</td><td>-0.2034</td></tr><tr><td>C0120</td><td>C1210</td><td>-0.2031</td></tr><tr><td>C0132</td><td>C0222</td><td>-0.2022</td></tr><tr><td>C0100</td><td>C1230</td><td>-0.2020</td></tr><tr><td>C0120</td><td>C1230</td><td>-0.2018</td></tr><tr><td>C0122</td><td>C1132</td><td>-0.1938</td></tr><tr><td>C1032</td><td>C1222</td><td>-0.1887</td></tr><tr><td>C0200</td><td>C1010</td><td>-0.1823</td></tr><tr><td>C0200</td><td>C1030</td><td>-0.1818</td></tr><tr><td>C0220</td><td>C1010</td><td>-0.1813</td></tr><tr><td>C0220</td><td>C1030</td><td>-0.1809</td></tr><tr><td>C0132</td><td>C1122</td><td>-0.1788</td></tr><tr><td>C0032</td><td>C0122</td><td>-0.1662</td></tr><tr><td>C0022</td><td>C0132</td><td>-0.1537</td></tr><tr><td>C0210</td><td>C1000</td><td>-0.1511</td></tr><tr><td>C0230</td><td>C1000</td><td>-0.1503</td></tr><tr><td>C0210</td><td>C1020</td><td>-0.1501</td></tr><tr><td>C0230</td><td>C1020</td><td>-0.1493</td></tr><tr><td>C0200</td><td>C1000</td><td>-0.1412</td></tr><tr><td>C0220</td><td>C1000</td><td>-0.1394</td></tr><tr><td>C0200</td><td>C1020</td><td>-0.1393</td></tr><tr><td>C0010</td><td>C1010</td><td>-0.1377</td></tr><tr><td>C0010</td><td>C1030</td><td>-0.1376</td></tr><tr><td>C0220</td><td>C1020</td><td>-0.1375</td></tr><tr><td>C0030</td><td>C1010</td><td>-0.1373</td></tr><tr><td>C0030</td><td>C1030</td><td>-0.1373</td></tr><tr><td>C0110</td><td>C1200</td><td>-0.1337</td></tr><tr><td>C0110</td><td>C1220</td><td>-0.1328</td></tr><tr><td>C0130</td><td>C1200</td><td>-0.1321</td></tr><tr><td>C0130</td><td>C1220</td><td>-0.1313</td></tr><tr><td>C1010</td><td>C1100</td><td>-0.1092</td></tr><tr><td>C1030</td><td>C1100</td><td>-0.1091</td></tr><tr><td>C1010</td><td>C1120</td><td>-0.1083</td></tr><tr><td>C1030</td><td>C1120</td><td>-0.1083</td></tr></table>"
      ],
      "text/plain": [
       "<lmfit.model.ModelResult at 0x7fb568765ee0>"
      ]
     },
     "execution_count": 87,
     "metadata": {},
     "output_type": "execute_result"
    }
   ],
   "source": [
    "result_dict_B['X']"
   ]
  },
  {
   "cell_type": "code",
   "execution_count": 88,
   "metadata": {
    "scrolled": true
   },
   "outputs": [
    {
     "data": {
      "text/html": [
       "<h2> Model</h2> Model(simultaneous_fit_rot_temp_B) <h2>Fit Statistics</h2><table><tr><td>fitting method</td><td>leastsq</td><td></td></tr><tr><td># function evals</td><td>482</td><td></td></tr><tr><td># data points</td><td>50895</td><td></td></tr><tr><td># variables</td><td>36</td><td></td></tr><tr><td>chi-square</td><td> 61663.3571</td><td></td></tr><tr><td>reduced chi-square</td><td> 1.21243747</td><td></td></tr><tr><td>Akaike info crit.</td><td> 9840.03202</td><td></td></tr><tr><td>Bayesian info crit.</td><td> 10158.1827</td><td></td></tr></table><h2>Variables</h2><table><tr><th> name </th><th> value </th><th> standard error </th><th> relative error </th><th> initial value </th><th> min </th><th> max </th><th> vary </th></tr><tr><td> kmax </td><td>  1.00000000 </td><td>  0.00000000 </td><td> (0.00%) </td><td> 1 </td><td>        -inf </td><td>         inf </td><td> False </td></tr><tr><td> nmax </td><td>  2.00000000 </td><td>  0.00000000 </td><td> (0.00%) </td><td> 2 </td><td>        -inf </td><td>         inf </td><td> False </td></tr><tr><td> alpha </td><td> -1.62172753 </td><td>  0.00000000 </td><td> (0.00%) </td><td> -1.6217275274752507 </td><td> -3.14159265 </td><td>  3.14159265 </td><td> False </td></tr><tr><td> beta </td><td>  2.23114262 </td><td>  0.00000000 </td><td> (0.00%) </td><td> 2.231142615530495 </td><td> -3.14159265 </td><td>  3.14159265 </td><td> False </td></tr><tr><td> gamma </td><td> -1.47003342 </td><td>  0.00000000 </td><td> (0.00%) </td><td> -1.4700334165100615 </td><td> -3.14159265 </td><td>  3.14159265 </td><td> False </td></tr><tr><td> C0000 </td><td> -110691.464 </td><td>  2868.85263 </td><td> (2.59%) </td><td> 0.5 </td><td>        -inf </td><td>         inf </td><td> True </td></tr><tr><td> C0010 </td><td>  2793546.41 </td><td>  65341.0638 </td><td> (2.34%) </td><td> 0.5 </td><td>        -inf </td><td>         inf </td><td> True </td></tr><tr><td> C0020 </td><td> -53368.1099 </td><td>  2908.59090 </td><td> (5.45%) </td><td> 0.5 </td><td>        -inf </td><td>         inf </td><td> True </td></tr><tr><td> C0022 </td><td> -70500.2879 </td><td>  257.083540 </td><td> (0.36%) </td><td> 0.5 </td><td>        -inf </td><td>         inf </td><td> True </td></tr><tr><td> C0030 </td><td>  2192.08582 </td><td>  22084.1526 </td><td> (1007.45%) </td><td> 0.5 </td><td>        -inf </td><td>         inf </td><td> True </td></tr><tr><td> C0032 </td><td> -124515.298 </td><td>  4221.35823 </td><td> (3.39%) </td><td> 0.5 </td><td>        -inf </td><td>         inf </td><td> True </td></tr><tr><td> C0100 </td><td>  137561.312 </td><td>  3132.25913 </td><td> (2.28%) </td><td> 0.5 </td><td>        -inf </td><td>         inf </td><td> True </td></tr><tr><td> C0110 </td><td> -1686777.79 </td><td>  75974.8064 </td><td> (4.50%) </td><td> 0.5 </td><td>        -inf </td><td>         inf </td><td> True </td></tr><tr><td> C0120 </td><td>  137115.993 </td><td>  3154.79051 </td><td> (2.30%) </td><td> 0.5 </td><td>        -inf </td><td>         inf </td><td> True </td></tr><tr><td> C0122 </td><td> -7336.30099 </td><td>  283.133014 </td><td> (3.86%) </td><td> 0.5 </td><td>        -inf </td><td>         inf </td><td> True </td></tr><tr><td> C0130 </td><td> -553697.656 </td><td>  25569.6279 </td><td> (4.62%) </td><td> 0.5 </td><td>        -inf </td><td>         inf </td><td> True </td></tr><tr><td> C0132 </td><td>  229314.336 </td><td>  5354.52386 </td><td> (2.34%) </td><td> 0.5 </td><td>        -inf </td><td>         inf </td><td> True </td></tr><tr><td> C0200 </td><td> -110400.989 </td><td>  3810.84986 </td><td> (3.45%) </td><td> 0.5 </td><td>        -inf </td><td>         inf </td><td> True </td></tr><tr><td> C0210 </td><td>  529444.620 </td><td>  89675.8198 </td><td> (16.94%) </td><td> 0.5 </td><td>        -inf </td><td>         inf </td><td> True </td></tr><tr><td> C0220 </td><td> -109705.128 </td><td>  3855.72571 </td><td> (3.51%) </td><td> 0.5 </td><td>        -inf </td><td>         inf </td><td> True </td></tr><tr><td> C0222 </td><td>  10595.4759 </td><td>  341.048282 </td><td> (3.22%) </td><td> 0.5 </td><td>        -inf </td><td>         inf </td><td> True </td></tr><tr><td> C0230 </td><td>  161340.307 </td><td>  30266.8381 </td><td> (18.76%) </td><td> 0.5 </td><td>        -inf </td><td>         inf </td><td> True </td></tr><tr><td> C0232 </td><td> -212390.447 </td><td>  5882.58064 </td><td> (2.77%) </td><td> 0.5 </td><td>        -inf </td><td>         inf </td><td> True </td></tr><tr><td> C1000 </td><td>  142286.452 </td><td>  3970.60182 </td><td> (2.79%) </td><td> 0.5 </td><td>        -inf </td><td>         inf </td><td> True </td></tr><tr><td> C1010 </td><td> -1636277.54 </td><td>  93610.7114 </td><td> (5.72%) </td><td> 0.5 </td><td>        -inf </td><td>         inf </td><td> True </td></tr><tr><td> C1020 </td><td>  142984.733 </td><td>  4003.03280 </td><td> (2.80%) </td><td> 0.5 </td><td>        -inf </td><td>         inf </td><td> True </td></tr><tr><td> C1022 </td><td> -2347.77570 </td><td>  353.385245 </td><td> (15.05%) </td><td> 0.5 </td><td>        -inf </td><td>         inf </td><td> True </td></tr><tr><td> C1030 </td><td> -542646.499 </td><td>  31515.3964 </td><td> (5.81%) </td><td> 0.5 </td><td>        -inf </td><td>         inf </td><td> True </td></tr><tr><td> C1032 </td><td>  260528.961 </td><td>  6584.10674 </td><td> (2.53%) </td><td> 0.5 </td><td>        -inf </td><td>         inf </td><td> True </td></tr><tr><td> C1100 </td><td> -164699.070 </td><td>  6573.25274 </td><td> (3.99%) </td><td> 0.5 </td><td>        -inf </td><td>         inf </td><td> True </td></tr><tr><td> C1110 </td><td>  385757.198 </td><td>  152471.993 </td><td> (39.53%) </td><td> 0.5 </td><td>        -inf </td><td>         inf </td><td> True </td></tr><tr><td> C1120 </td><td> -162190.284 </td><td>  6656.39710 </td><td> (4.10%) </td><td> 0.5 </td><td>        -inf </td><td>         inf </td><td> True </td></tr><tr><td> C1122 </td><td>  22893.4881 </td><td>  586.675073 </td><td> (2.56%) </td><td> 0.5 </td><td>        -inf </td><td>         inf </td><td> True </td></tr><tr><td> C1130 </td><td>  99647.4548 </td><td>  51490.1762 </td><td> (51.67%) </td><td> 0.5 </td><td>        -inf </td><td>         inf </td><td> True </td></tr><tr><td> C1132 </td><td> -328788.120 </td><td>  9924.38038 </td><td> (3.02%) </td><td> 0.5 </td><td>        -inf </td><td>         inf </td><td> True </td></tr><tr><td> C1200 </td><td> -1745.35699 </td><td>  1858.89124 </td><td> (106.50%) </td><td> 0.5 </td><td>        -inf </td><td>         inf </td><td> True </td></tr><tr><td> C1210 </td><td> -197358.949 </td><td>  40237.9778 </td><td> (20.39%) </td><td> 0.5 </td><td>        -inf </td><td>         inf </td><td> True </td></tr><tr><td> C1220 </td><td> -1665.00761 </td><td>  1884.06148 </td><td> (113.16%) </td><td> 0.5 </td><td>        -inf </td><td>         inf </td><td> True </td></tr><tr><td> C1222 </td><td> -1450.23654 </td><td>  155.482181 </td><td> (10.72%) </td><td> 0.5 </td><td>        -inf </td><td>         inf </td><td> True </td></tr><tr><td> C1230 </td><td> -67018.1142 </td><td>  13599.0439 </td><td> (20.29%) </td><td> 0.5 </td><td>        -inf </td><td>         inf </td><td> True </td></tr><tr><td> C1232 </td><td> -36607.8781 </td><td>  2542.70972 </td><td> (6.95%) </td><td> 0.5 </td><td>        -inf </td><td>         inf </td><td> True </td></tr></table><h2>Correlations (unreported correlations are < 0.100)</h2><table><tr><td>C0110</td><td>C0130</td><td>0.9999</td></tr><tr><td>C1010</td><td>C1030</td><td>0.9999</td></tr><tr><td>C1210</td><td>C1230</td><td>0.9999</td></tr><tr><td>C0210</td><td>C0230</td><td>0.9999</td></tr><tr><td>C1110</td><td>C1130</td><td>0.9998</td></tr><tr><td>C0010</td><td>C0030</td><td>0.9998</td></tr><tr><td>C0100</td><td>C0120</td><td>0.9998</td></tr><tr><td>C1000</td><td>C1020</td><td>0.9998</td></tr><tr><td>C1200</td><td>C1220</td><td>0.9997</td></tr><tr><td>C0200</td><td>C0220</td><td>0.9997</td></tr><tr><td>C1100</td><td>C1120</td><td>0.9997</td></tr><tr><td>C0000</td><td>C0020</td><td>0.9997</td></tr><tr><td>C0230</td><td>C1110</td><td>0.9946</td></tr><tr><td>C0230</td><td>C1130</td><td>0.9945</td></tr><tr><td>C0210</td><td>C1110</td><td>0.9945</td></tr><tr><td>C0210</td><td>C1130</td><td>0.9941</td></tr><tr><td>C0220</td><td>C1100</td><td>0.9940</td></tr><tr><td>C0220</td><td>C1120</td><td>0.9938</td></tr><tr><td>C0200</td><td>C1100</td><td>0.9938</td></tr><tr><td>C0222</td><td>C1122</td><td>0.9936</td></tr><tr><td>C0232</td><td>C1132</td><td>0.9934</td></tr><tr><td>C0200</td><td>C1120</td><td>0.9931</td></tr><tr><td>C0022</td><td>C1122</td><td>0.9918</td></tr><tr><td>C0010</td><td>C1130</td><td>0.9916</td></tr><tr><td>C0000</td><td>C1120</td><td>0.9916</td></tr><tr><td>C0030</td><td>C1130</td><td>0.9913</td></tr><tr><td>C0010</td><td>C1110</td><td>0.9913</td></tr><tr><td>C0020</td><td>C1120</td><td>0.9913</td></tr><tr><td>C0000</td><td>C1100</td><td>0.9912</td></tr><tr><td>C0030</td><td>C1110</td><td>0.9907</td></tr><tr><td>C0032</td><td>C1132</td><td>0.9906</td></tr><tr><td>C0020</td><td>C1100</td><td>0.9902</td></tr><tr><td>C0010</td><td>C0230</td><td>0.9734</td></tr><tr><td>C0030</td><td>C0230</td><td>0.9728</td></tr><tr><td>C0010</td><td>C0210</td><td>0.9728</td></tr><tr><td>C0000</td><td>C0220</td><td>0.9721</td></tr><tr><td>C0030</td><td>C0210</td><td>0.9719</td></tr><tr><td>C0022</td><td>C0222</td><td>0.9715</td></tr><tr><td>C0020</td><td>C0220</td><td>0.9714</td></tr><tr><td>C0000</td><td>C0200</td><td>0.9712</td></tr><tr><td>C0020</td><td>C0200</td><td>0.9699</td></tr><tr><td>C0032</td><td>C0232</td><td>0.9688</td></tr><tr><td>C0132</td><td>C1032</td><td>0.9430</td></tr><tr><td>C0110</td><td>C1010</td><td>0.9240</td></tr><tr><td>C0130</td><td>C1010</td><td>0.9236</td></tr><tr><td>C0110</td><td>C1030</td><td>0.9234</td></tr><tr><td>C0130</td><td>C1030</td><td>0.9232</td></tr><tr><td>C0122</td><td>C1022</td><td>0.9213</td></tr><tr><td>C0100</td><td>C1000</td><td>0.9082</td></tr><tr><td>C0120</td><td>C1000</td><td>0.9077</td></tr><tr><td>C0100</td><td>C1020</td><td>0.9071</td></tr><tr><td>C0120</td><td>C1020</td><td>0.9070</td></tr><tr><td>C0132</td><td>C0232</td><td>-0.7251</td></tr><tr><td>C0110</td><td>C0210</td><td>-0.7165</td></tr><tr><td>C0130</td><td>C0210</td><td>-0.7164</td></tr><tr><td>C0130</td><td>C0230</td><td>-0.7143</td></tr><tr><td>C0110</td><td>C0230</td><td>-0.7142</td></tr><tr><td>C1032</td><td>C1232</td><td>-0.6644</td></tr><tr><td>C1022</td><td>C1222</td><td>-0.6590</td></tr><tr><td>C1020</td><td>C1200</td><td>-0.6535</td></tr><tr><td>C1020</td><td>C1220</td><td>-0.6523</td></tr><tr><td>C1000</td><td>C1200</td><td>-0.6521</td></tr><tr><td>C1000</td><td>C1220</td><td>-0.6505</td></tr><tr><td>C0122</td><td>C0222</td><td>-0.6458</td></tr><tr><td>C0100</td><td>C0200</td><td>-0.6446</td></tr><tr><td>C0120</td><td>C0200</td><td>-0.6443</td></tr><tr><td>C0132</td><td>C1132</td><td>-0.6423</td></tr><tr><td>C0110</td><td>C1110</td><td>-0.6408</td></tr><tr><td>C0100</td><td>C0220</td><td>-0.6408</td></tr><tr><td>C0130</td><td>C1110</td><td>-0.6408</td></tr><tr><td>C0120</td><td>C0220</td><td>-0.6408</td></tr><tr><td>C0130</td><td>C1130</td><td>-0.6385</td></tr><tr><td>C0110</td><td>C1130</td><td>-0.6384</td></tr><tr><td>C1030</td><td>C1210</td><td>-0.6322</td></tr><tr><td>C1010</td><td>C1210</td><td>-0.6313</td></tr><tr><td>C1030</td><td>C1230</td><td>-0.6309</td></tr><tr><td>C1010</td><td>C1230</td><td>-0.6298</td></tr><tr><td>C0020</td><td>C1220</td><td>-0.6250</td></tr><tr><td>C0020</td><td>C1200</td><td>-0.6231</td></tr><tr><td>C0000</td><td>C1220</td><td>-0.6215</td></tr><tr><td>C0000</td><td>C1200</td><td>-0.6200</td></tr><tr><td>C1200</td><td>C1210</td><td>-0.6043</td></tr><tr><td>C1210</td><td>C1220</td><td>-0.6025</td></tr><tr><td>C1200</td><td>C1230</td><td>-0.6019</td></tr><tr><td>C1220</td><td>C1230</td><td>-0.6002</td></tr><tr><td>C0022</td><td>C1222</td><td>-0.5984</td></tr><tr><td>C0000</td><td>C0010</td><td>-0.5802</td></tr><tr><td>C0010</td><td>C0020</td><td>-0.5792</td></tr><tr><td>C0000</td><td>C0030</td><td>-0.5787</td></tr><tr><td>C0020</td><td>C0030</td><td>-0.5779</td></tr><tr><td>C0010</td><td>C1100</td><td>-0.5714</td></tr><tr><td>C0010</td><td>C1120</td><td>-0.5709</td></tr><tr><td>C0030</td><td>C1100</td><td>-0.5698</td></tr><tr><td>C0030</td><td>C1120</td><td>-0.5694</td></tr><tr><td>C1100</td><td>C1110</td><td>-0.5601</td></tr><tr><td>C0000</td><td>C1110</td><td>-0.5600</td></tr><tr><td>C1110</td><td>C1120</td><td>-0.5593</td></tr><tr><td>C0000</td><td>C1130</td><td>-0.5589</td></tr><tr><td>C1100</td><td>C1130</td><td>-0.5589</td></tr><tr><td>C0020</td><td>C1110</td><td>-0.5588</td></tr><tr><td>C0010</td><td>C0200</td><td>-0.5586</td></tr><tr><td>C0010</td><td>C0220</td><td>-0.5584</td></tr><tr><td>C1120</td><td>C1130</td><td>-0.5582</td></tr><tr><td>C0020</td><td>C1130</td><td>-0.5578</td></tr><tr><td>C0100</td><td>C1100</td><td>-0.5573</td></tr><tr><td>C0120</td><td>C1100</td><td>-0.5571</td></tr><tr><td>C0030</td><td>C0200</td><td>-0.5570</td></tr><tr><td>C0030</td><td>C0220</td><td>-0.5569</td></tr><tr><td>C0122</td><td>C1122</td><td>-0.5566</td></tr><tr><td>C0200</td><td>C1110</td><td>-0.5543</td></tr><tr><td>C0030</td><td>C1230</td><td>-0.5540</td></tr><tr><td>C0220</td><td>C1110</td><td>-0.5538</td></tr><tr><td>C0100</td><td>C1120</td><td>-0.5534</td></tr><tr><td>C0120</td><td>C1120</td><td>-0.5534</td></tr><tr><td>C0200</td><td>C1130</td><td>-0.5531</td></tr><tr><td>C0220</td><td>C1130</td><td>-0.5527</td></tr><tr><td>C0030</td><td>C1210</td><td>-0.5523</td></tr><tr><td>C0010</td><td>C1230</td><td>-0.5513</td></tr><tr><td>C0010</td><td>C1210</td><td>-0.5499</td></tr><tr><td>C0200</td><td>C0210</td><td>-0.5447</td></tr><tr><td>C0210</td><td>C1100</td><td>-0.5441</td></tr><tr><td>C0210</td><td>C0220</td><td>-0.5439</td></tr><tr><td>C0200</td><td>C0230</td><td>-0.5436</td></tr><tr><td>C0210</td><td>C1120</td><td>-0.5431</td></tr><tr><td>C0230</td><td>C1100</td><td>-0.5431</td></tr><tr><td>C0220</td><td>C0230</td><td>-0.5430</td></tr><tr><td>C0230</td><td>C1120</td><td>-0.5423</td></tr><tr><td>C0000</td><td>C0210</td><td>-0.5370</td></tr><tr><td>C0010</td><td>C0110</td><td>-0.5363</td></tr><tr><td>C0010</td><td>C0130</td><td>-0.5363</td></tr><tr><td>C0000</td><td>C0230</td><td>-0.5362</td></tr><tr><td>C0020</td><td>C0210</td><td>-0.5356</td></tr><tr><td>C0020</td><td>C0230</td><td>-0.5350</td></tr><tr><td>C0030</td><td>C0130</td><td>-0.5339</td></tr><tr><td>C0030</td><td>C0110</td><td>-0.5338</td></tr><tr><td>C0032</td><td>C0132</td><td>-0.5333</td></tr><tr><td>C1120</td><td>C1220</td><td>-0.5319</td></tr><tr><td>C1120</td><td>C1200</td><td>-0.5299</td></tr><tr><td>C1100</td><td>C1220</td><td>-0.5276</td></tr><tr><td>C1100</td><td>C1200</td><td>-0.5260</td></tr><tr><td>C1122</td><td>C1222</td><td>-0.5054</td></tr><tr><td>C0232</td><td>C1032</td><td>-0.4855</td></tr><tr><td>C1000</td><td>C1010</td><td>-0.4821</td></tr><tr><td>C1000</td><td>C1030</td><td>-0.4810</td></tr><tr><td>C1010</td><td>C1020</td><td>-0.4809</td></tr><tr><td>C1020</td><td>C1030</td><td>-0.4798</td></tr><tr><td>C0100</td><td>C0110</td><td>-0.4675</td></tr><tr><td>C0100</td><td>C0130</td><td>-0.4666</td></tr><tr><td>C0110</td><td>C0120</td><td>-0.4666</td></tr><tr><td>C0120</td><td>C0130</td><td>-0.4658</td></tr><tr><td>C0220</td><td>C1220</td><td>-0.4581</td></tr><tr><td>C0220</td><td>C1200</td><td>-0.4561</td></tr><tr><td>C0032</td><td>C1232</td><td>-0.4559</td></tr><tr><td>C0200</td><td>C1220</td><td>-0.4536</td></tr><tr><td>C1130</td><td>C1230</td><td>-0.4526</td></tr><tr><td>C0200</td><td>C1200</td><td>-0.4518</td></tr><tr><td>C1130</td><td>C1210</td><td>-0.4509</td></tr><tr><td>C1110</td><td>C1230</td><td>-0.4496</td></tr><tr><td>C1110</td><td>C1210</td><td>-0.4480</td></tr><tr><td>C0022</td><td>C0122</td><td>-0.4476</td></tr><tr><td>C0000</td><td>C0100</td><td>-0.4453</td></tr><tr><td>C0000</td><td>C0120</td><td>-0.4450</td></tr><tr><td>C0020</td><td>C0100</td><td>-0.4414</td></tr><tr><td>C0020</td><td>C0120</td><td>-0.4414</td></tr><tr><td>C0210</td><td>C1010</td><td>-0.4253</td></tr><tr><td>C0100</td><td>C1010</td><td>-0.4239</td></tr><tr><td>C0222</td><td>C1222</td><td>-0.4239</td></tr><tr><td>C0210</td><td>C1030</td><td>-0.4238</td></tr><tr><td>C0120</td><td>C1010</td><td>-0.4228</td></tr><tr><td>C0100</td><td>C1030</td><td>-0.4228</td></tr><tr><td>C0230</td><td>C1010</td><td>-0.4222</td></tr><tr><td>C0120</td><td>C1030</td><td>-0.4217</td></tr><tr><td>C0110</td><td>C1000</td><td>-0.4214</td></tr><tr><td>C0230</td><td>C1030</td><td>-0.4208</td></tr><tr><td>C0130</td><td>C1000</td><td>-0.4204</td></tr><tr><td>C0110</td><td>C1020</td><td>-0.4200</td></tr><tr><td>C0130</td><td>C1020</td><td>-0.4191</td></tr><tr><td>C0020</td><td>C1210</td><td>0.4093</td></tr><tr><td>C0000</td><td>C1210</td><td>0.4088</td></tr><tr><td>C0020</td><td>C1230</td><td>0.4085</td></tr><tr><td>C0000</td><td>C1230</td><td>0.4079</td></tr><tr><td>C0010</td><td>C1220</td><td>0.3889</td></tr><tr><td>C0010</td><td>C1200</td><td>0.3889</td></tr><tr><td>C0030</td><td>C1220</td><td>0.3887</td></tr><tr><td>C0030</td><td>C1200</td><td>0.3886</td></tr><tr><td>C1032</td><td>C1132</td><td>-0.3860</td></tr><tr><td>C0132</td><td>C1232</td><td>-0.3790</td></tr><tr><td>C0230</td><td>C1230</td><td>-0.3768</td></tr><tr><td>C0230</td><td>C1210</td><td>-0.3750</td></tr><tr><td>C0210</td><td>C1230</td><td>-0.3736</td></tr><tr><td>C0210</td><td>C1210</td><td>-0.3719</td></tr><tr><td>C1120</td><td>C1210</td><td>0.3580</td></tr><tr><td>C1120</td><td>C1230</td><td>0.3574</td></tr><tr><td>C1100</td><td>C1210</td><td>0.3568</td></tr><tr><td>C1100</td><td>C1230</td><td>0.3561</td></tr><tr><td>C0022</td><td>C0032</td><td>-0.3509</td></tr><tr><td>C1222</td><td>C1232</td><td>-0.3508</td></tr><tr><td>C0032</td><td>C1122</td><td>-0.3507</td></tr><tr><td>C1000</td><td>C1210</td><td>0.3492</td></tr><tr><td>C1020</td><td>C1210</td><td>0.3491</td></tr><tr><td>C1000</td><td>C1230</td><td>0.3473</td></tr><tr><td>C1020</td><td>C1230</td><td>0.3472</td></tr><tr><td>C1122</td><td>C1132</td><td>-0.3464</td></tr><tr><td>C1132</td><td>C1232</td><td>-0.3444</td></tr><tr><td>C0222</td><td>C1132</td><td>-0.3435</td></tr><tr><td>C0032</td><td>C0222</td><td>-0.3424</td></tr><tr><td>C1022</td><td>C1032</td><td>-0.3412</td></tr><tr><td>C1010</td><td>C1200</td><td>0.3406</td></tr><tr><td>C0022</td><td>C1132</td><td>-0.3403</td></tr><tr><td>C1030</td><td>C1200</td><td>0.3401</td></tr><tr><td>C1010</td><td>C1220</td><td>0.3387</td></tr><tr><td>C1030</td><td>C1220</td><td>0.3383</td></tr><tr><td>C0222</td><td>C0232</td><td>-0.3379</td></tr><tr><td>C0232</td><td>C1122</td><td>-0.3361</td></tr><tr><td>C1010</td><td>C1110</td><td>-0.3328</td></tr><tr><td>C1130</td><td>C1220</td><td>0.3317</td></tr><tr><td>C0222</td><td>C1022</td><td>-0.3315</td></tr><tr><td>C1110</td><td>C1220</td><td>0.3314</td></tr><tr><td>C1130</td><td>C1200</td><td>0.3313</td></tr><tr><td>C1030</td><td>C1110</td><td>-0.3312</td></tr><tr><td>C1110</td><td>C1200</td><td>0.3311</td></tr><tr><td>C1010</td><td>C1130</td><td>-0.3297</td></tr><tr><td>C1030</td><td>C1130</td><td>-0.3282</td></tr><tr><td>C0100</td><td>C0210</td><td>0.3256</td></tr><tr><td>C0120</td><td>C0210</td><td>0.3252</td></tr><tr><td>C0022</td><td>C0232</td><td>-0.3250</td></tr><tr><td>C0100</td><td>C0230</td><td>0.3242</td></tr><tr><td>C0120</td><td>C0230</td><td>0.3239</td></tr><tr><td>C0122</td><td>C0132</td><td>-0.3216</td></tr><tr><td>C0220</td><td>C1210</td><td>0.3182</td></tr><tr><td>C0220</td><td>C1230</td><td>0.3178</td></tr><tr><td>C0200</td><td>C1210</td><td>0.3167</td></tr><tr><td>C0200</td><td>C1230</td><td>0.3162</td></tr><tr><td>C0122</td><td>C1222</td><td>-0.3156</td></tr><tr><td>C0122</td><td>C1032</td><td>-0.3101</td></tr><tr><td>C0132</td><td>C1022</td><td>-0.3075</td></tr><tr><td>C0110</td><td>C0200</td><td>0.3053</td></tr><tr><td>C0130</td><td>C0200</td><td>0.3049</td></tr><tr><td>C0200</td><td>C1000</td><td>-0.3037</td></tr><tr><td>C0110</td><td>C0220</td><td>0.3033</td></tr><tr><td>C0130</td><td>C0220</td><td>0.3030</td></tr><tr><td>C0200</td><td>C1020</td><td>-0.3011</td></tr><tr><td>C0220</td><td>C1000</td><td>-0.2989</td></tr><tr><td>C0220</td><td>C1020</td><td>-0.2964</td></tr><tr><td>C0100</td><td>C1110</td><td>0.2883</td></tr><tr><td>C0120</td><td>C1110</td><td>0.2880</td></tr><tr><td>C0110</td><td>C1210</td><td>-0.2880</td></tr><tr><td>C0130</td><td>C1210</td><td>-0.2873</td></tr><tr><td>C0100</td><td>C1130</td><td>0.2870</td></tr><tr><td>C0120</td><td>C1130</td><td>0.2868</td></tr><tr><td>C0230</td><td>C1220</td><td>0.2865</td></tr><tr><td>C0110</td><td>C1230</td><td>-0.2863</td></tr><tr><td>C0230</td><td>C1200</td><td>0.2860</td></tr><tr><td>C0210</td><td>C1220</td><td>0.2860</td></tr><tr><td>C0130</td><td>C1230</td><td>-0.2857</td></tr><tr><td>C0210</td><td>C1200</td><td>0.2856</td></tr><tr><td>C0100</td><td>C1200</td><td>-0.2764</td></tr><tr><td>C0120</td><td>C1200</td><td>-0.2756</td></tr><tr><td>C0100</td><td>C1220</td><td>-0.2746</td></tr><tr><td>C0120</td><td>C1220</td><td>-0.2739</td></tr><tr><td>C0110</td><td>C1100</td><td>0.2645</td></tr><tr><td>C0130</td><td>C1100</td><td>0.2642</td></tr><tr><td>C0110</td><td>C1120</td><td>0.2626</td></tr><tr><td>C0130</td><td>C1120</td><td>0.2623</td></tr><tr><td>C0032</td><td>C1032</td><td>-0.2575</td></tr><tr><td>C0232</td><td>C1232</td><td>-0.2565</td></tr><tr><td>C1022</td><td>C1232</td><td>0.2553</td></tr><tr><td>C0010</td><td>C0100</td><td>0.2401</td></tr><tr><td>C0010</td><td>C0120</td><td>0.2399</td></tr><tr><td>C0030</td><td>C0100</td><td>0.2388</td></tr><tr><td>C0030</td><td>C0120</td><td>0.2387</td></tr><tr><td>C1032</td><td>C1222</td><td>0.2286</td></tr><tr><td>C1022</td><td>C1122</td><td>-0.2268</td></tr><tr><td>C0122</td><td>C0232</td><td>0.2238</td></tr><tr><td>C0000</td><td>C0110</td><td>0.2126</td></tr><tr><td>C0000</td><td>C0130</td><td>0.2124</td></tr><tr><td>C0020</td><td>C0110</td><td>0.2108</td></tr><tr><td>C0020</td><td>C0130</td><td>0.2107</td></tr><tr><td>C0010</td><td>C1010</td><td>-0.2074</td></tr><tr><td>C0010</td><td>C1030</td><td>-0.2058</td></tr><tr><td>C0030</td><td>C1010</td><td>-0.2045</td></tr><tr><td>C0030</td><td>C1030</td><td>-0.2028</td></tr><tr><td>C0132</td><td>C0222</td><td>0.2017</td></tr><tr><td>C1000</td><td>C1100</td><td>-0.2015</td></tr><tr><td>C1020</td><td>C1100</td><td>-0.1989</td></tr><tr><td>C1000</td><td>C1120</td><td>-0.1969</td></tr><tr><td>C0122</td><td>C1132</td><td>0.1962</td></tr><tr><td>C0032</td><td>C1222</td><td>0.1944</td></tr><tr><td>C1020</td><td>C1120</td><td>-0.1942</td></tr><tr><td>C0022</td><td>C1232</td><td>0.1938</td></tr><tr><td>C0132</td><td>C1122</td><td>0.1730</td></tr><tr><td>C0032</td><td>C0122</td><td>0.1590</td></tr><tr><td>C1122</td><td>C1232</td><td>0.1581</td></tr><tr><td>C1132</td><td>C1222</td><td>0.1540</td></tr><tr><td>C0122</td><td>C1232</td><td>0.1393</td></tr><tr><td>C0022</td><td>C0132</td><td>0.1350</td></tr><tr><td>C0210</td><td>C1000</td><td>0.1289</td></tr><tr><td>C0230</td><td>C1000</td><td>0.1277</td></tr><tr><td>C0210</td><td>C1020</td><td>0.1275</td></tr><tr><td>C0222</td><td>C1232</td><td>0.1268</td></tr><tr><td>C0230</td><td>C1020</td><td>0.1263</td></tr><tr><td>C0232</td><td>C1022</td><td>0.1259</td></tr><tr><td>C0132</td><td>C1222</td><td>0.1252</td></tr><tr><td>C0110</td><td>C1200</td><td>0.1220</td></tr><tr><td>C0130</td><td>C1200</td><td>0.1215</td></tr><tr><td>C0110</td><td>C1220</td><td>0.1206</td></tr><tr><td>C0232</td><td>C1222</td><td>0.1202</td></tr><tr><td>C0130</td><td>C1220</td><td>0.1201</td></tr><tr><td>C0200</td><td>C1010</td><td>0.1166</td></tr><tr><td>C0200</td><td>C1030</td><td>0.1159</td></tr><tr><td>C0220</td><td>C1010</td><td>0.1144</td></tr><tr><td>C0222</td><td>C1032</td><td>0.1140</td></tr><tr><td>C0220</td><td>C1030</td><td>0.1137</td></tr><tr><td>C0100</td><td>C1210</td><td>0.1115</td></tr><tr><td>C0120</td><td>C1210</td><td>0.1107</td></tr><tr><td>C0100</td><td>C1230</td><td>0.1104</td></tr><tr><td>C0120</td><td>C1230</td><td>0.1095</td></tr><tr><td>C0022</td><td>C1022</td><td>-0.1021</td></tr></table>"
      ],
      "text/plain": [
       "<lmfit.model.ModelResult at 0x7fb568756610>"
      ]
     },
     "execution_count": 88,
     "metadata": {},
     "output_type": "execute_result"
    }
   ],
   "source": [
    "result_dict_B['Y']"
   ]
  },
  {
   "cell_type": "code",
   "execution_count": 89,
   "metadata": {
    "scrolled": true
   },
   "outputs": [
    {
     "data": {
      "text/html": [
       "<h2> Model</h2> Model(simultaneous_fit_rot_temp_B) <h2>Fit Statistics</h2><table><tr><td>fitting method</td><td>leastsq</td><td></td></tr><tr><td># function evals</td><td>630</td><td></td></tr><tr><td># data points</td><td>50895</td><td></td></tr><tr><td># variables</td><td>36</td><td></td></tr><tr><td>chi-square</td><td> 29772.0428</td><td></td></tr><tr><td>reduced chi-square</td><td> 0.58538396</td><td></td></tr><tr><td>Akaike info crit.</td><td>-27217.6392</td><td></td></tr><tr><td>Bayesian info crit.</td><td>-26899.4885</td><td></td></tr></table><h2>Variables</h2><table><tr><th> name </th><th> value </th><th> standard error </th><th> relative error </th><th> initial value </th><th> min </th><th> max </th><th> vary </th></tr><tr><td> kmax </td><td>  1.00000000 </td><td>  0.00000000 </td><td> (0.00%) </td><td> 1 </td><td>        -inf </td><td>         inf </td><td> False </td></tr><tr><td> nmax </td><td>  2.00000000 </td><td>  0.00000000 </td><td> (0.00%) </td><td> 2 </td><td>        -inf </td><td>         inf </td><td> False </td></tr><tr><td> alpha </td><td>  1.77798296 </td><td>  0.00000000 </td><td> (0.00%) </td><td> 1.7779829562950784 </td><td> -3.14159265 </td><td>  3.14159265 </td><td> False </td></tr><tr><td> beta </td><td> -1.55450141 </td><td>  0.00000000 </td><td> (0.00%) </td><td> -1.5545014058805864 </td><td> -3.14159265 </td><td>  3.14159265 </td><td> False </td></tr><tr><td> gamma </td><td> -3.14159265 </td><td>  0.00000000 </td><td> (0.00%) </td><td> -3.141592653533296 </td><td> -3.14159265 </td><td>  3.14159265 </td><td> False </td></tr><tr><td> C0000 </td><td> -1881380.84 </td><td>  3886.16546 </td><td> (0.21%) </td><td> 0.5 </td><td>        -inf </td><td>         inf </td><td> True </td></tr><tr><td> C0010 </td><td> -466926.077 </td><td>  80415.1320 </td><td> (17.22%) </td><td> 0.5 </td><td>        -inf </td><td>         inf </td><td> True </td></tr><tr><td> C0020 </td><td>  191913.650 </td><td>  2608.81952 </td><td> (1.36%) </td><td> 0.5 </td><td>        -inf </td><td>         inf </td><td> True </td></tr><tr><td> C0022 </td><td> -726273.362 </td><td>  2968.70432 </td><td> (0.41%) </td><td> 0.5 </td><td>        -inf </td><td>         inf </td><td> True </td></tr><tr><td> C0030 </td><td> -206788.664 </td><td>  21368.7027 </td><td> (10.33%) </td><td> 0.5 </td><td>        -inf </td><td>         inf </td><td> True </td></tr><tr><td> C0032 </td><td> -123593.866 </td><td>  54778.3232 </td><td> (44.32%) </td><td> 0.5 </td><td>        -inf </td><td>         inf </td><td> True </td></tr><tr><td> C0100 </td><td>  35888.5863 </td><td>  4079.39590 </td><td> (11.37%) </td><td> 0.5 </td><td>        -inf </td><td>         inf </td><td> True </td></tr><tr><td> C0110 </td><td> -241086.246 </td><td>  78214.6532 </td><td> (32.44%) </td><td> 0.5 </td><td>        -inf </td><td>         inf </td><td> True </td></tr><tr><td> C0120 </td><td>  76739.2679 </td><td>  3267.56682 </td><td> (4.26%) </td><td> 0.5 </td><td>        -inf </td><td>         inf </td><td> True </td></tr><tr><td> C0122 </td><td>  54352.2309 </td><td>  3647.96315 </td><td> (6.71%) </td><td> 0.5 </td><td>        -inf </td><td>         inf </td><td> True </td></tr><tr><td> C0130 </td><td>  288548.189 </td><td>  23602.9063 </td><td> (8.18%) </td><td> 0.5 </td><td>        -inf </td><td>         inf </td><td> True </td></tr><tr><td> C0132 </td><td>  1111881.70 </td><td>  65359.1719 </td><td> (5.88%) </td><td> 0.5 </td><td>        -inf </td><td>         inf </td><td> True </td></tr><tr><td> C0200 </td><td> -54269.7611 </td><td>  5094.39190 </td><td> (9.39%) </td><td> 0.5 </td><td>        -inf </td><td>         inf </td><td> True </td></tr><tr><td> C0210 </td><td> -458383.815 </td><td>  105100.838 </td><td> (22.93%) </td><td> 0.5 </td><td>        -inf </td><td>         inf </td><td> True </td></tr><tr><td> C0220 </td><td> -76597.3702 </td><td>  3614.91381 </td><td> (4.72%) </td><td> 0.5 </td><td>        -inf </td><td>         inf </td><td> True </td></tr><tr><td> C0222 </td><td> -20914.5499 </td><td>  4049.55007 </td><td> (19.36%) </td><td> 0.5 </td><td>        -inf </td><td>         inf </td><td> True </td></tr><tr><td> C0230 </td><td> -329931.730 </td><td>  28688.0489 </td><td> (8.70%) </td><td> 0.5 </td><td>        -inf </td><td>         inf </td><td> True </td></tr><tr><td> C0232 </td><td> -522203.219 </td><td>  74489.7706 </td><td> (14.26%) </td><td> 0.5 </td><td>        -inf </td><td>         inf </td><td> True </td></tr><tr><td> C1000 </td><td> -2464.36184 </td><td>  5132.97628 </td><td> (208.29%) </td><td> 0.5 </td><td>        -inf </td><td>         inf </td><td> True </td></tr><tr><td> C1010 </td><td> -586460.591 </td><td>  95217.2912 </td><td> (16.24%) </td><td> 0.5 </td><td>        -inf </td><td>         inf </td><td> True </td></tr><tr><td> C1020 </td><td>  83532.6516 </td><td>  4000.25479 </td><td> (4.79%) </td><td> 0.5 </td><td>        -inf </td><td>         inf </td><td> True </td></tr><tr><td> C1022 </td><td>  85697.7308 </td><td>  4635.23890 </td><td> (5.41%) </td><td> 0.5 </td><td>        -inf </td><td>         inf </td><td> True </td></tr><tr><td> C1030 </td><td>  315256.303 </td><td>  28892.6909 </td><td> (9.16%) </td><td> 0.5 </td><td>        -inf </td><td>         inf </td><td> True </td></tr><tr><td> C1032 </td><td>  1544760.14 </td><td>  81650.1945 </td><td> (5.29%) </td><td> 0.5 </td><td>        -inf </td><td>         inf </td><td> True </td></tr><tr><td> C1100 </td><td> -88732.5895 </td><td>  8823.82468 </td><td> (9.94%) </td><td> 0.5 </td><td>        -inf </td><td>         inf </td><td> True </td></tr><tr><td> C1110 </td><td> -896316.210 </td><td>  182094.344 </td><td> (20.32%) </td><td> 0.5 </td><td>        -inf </td><td>         inf </td><td> True </td></tr><tr><td> C1120 </td><td> -118801.291 </td><td>  6096.14958 </td><td> (5.13%) </td><td> 0.5 </td><td>        -inf </td><td>         inf </td><td> True </td></tr><tr><td> C1122 </td><td> -26909.8083 </td><td>  6898.74078 </td><td> (25.64%) </td><td> 0.5 </td><td>        -inf </td><td>         inf </td><td> True </td></tr><tr><td> C1130 </td><td> -526983.001 </td><td>  49154.2233 </td><td> (9.33%) </td><td> 0.5 </td><td>        -inf </td><td>         inf </td><td> True </td></tr><tr><td> C1132 </td><td> -666096.521 </td><td>  126878.415 </td><td> (19.05%) </td><td> 0.5 </td><td>        -inf </td><td>         inf </td><td> True </td></tr><tr><td> C1200 </td><td>  35026.3237 </td><td>  2487.97190 </td><td> (7.10%) </td><td> 0.5 </td><td>        -inf </td><td>         inf </td><td> True </td></tr><tr><td> C1210 </td><td>  403737.773 </td><td>  49372.7393 </td><td> (12.23%) </td><td> 0.5 </td><td>        -inf </td><td>         inf </td><td> True </td></tr><tr><td> C1220 </td><td> -6315.27643 </td><td>  1601.53041 </td><td> (25.36%) </td><td> 0.5 </td><td>        -inf </td><td>         inf </td><td> True </td></tr><tr><td> C1222 </td><td> -42539.4464 </td><td>  1989.12772 </td><td> (4.68%) </td><td> 0.5 </td><td>        -inf </td><td>         inf </td><td> True </td></tr><tr><td> C1230 </td><td> -30040.8037 </td><td>  12749.6383 </td><td> (42.44%) </td><td> 0.5 </td><td>        -inf </td><td>         inf </td><td> True </td></tr><tr><td> C1232 </td><td> -500472.411 </td><td>  35251.1734 </td><td> (7.04%) </td><td> 0.5 </td><td>        -inf </td><td>         inf </td><td> True </td></tr></table><h2>Correlations (unreported correlations are < 0.100)</h2><table><tr><td>C0210</td><td>C1110</td><td>0.9951</td></tr><tr><td>C0230</td><td>C1130</td><td>0.9940</td></tr><tr><td>C0200</td><td>C1100</td><td>0.9940</td></tr><tr><td>C0010</td><td>C1110</td><td>0.9935</td></tr><tr><td>C0220</td><td>C1120</td><td>0.9934</td></tr><tr><td>C0232</td><td>C1132</td><td>0.9933</td></tr><tr><td>C0222</td><td>C1122</td><td>0.9930</td></tr><tr><td>C0030</td><td>C1130</td><td>0.9924</td></tr><tr><td>C0000</td><td>C1100</td><td>0.9919</td></tr><tr><td>C0020</td><td>C1120</td><td>0.9908</td></tr><tr><td>C0032</td><td>C1132</td><td>0.9906</td></tr><tr><td>C0022</td><td>C1122</td><td>0.9894</td></tr><tr><td>C0010</td><td>C0210</td><td>0.9780</td></tr><tr><td>C0030</td><td>C0230</td><td>0.9737</td></tr><tr><td>C0000</td><td>C0200</td><td>0.9727</td></tr><tr><td>C0020</td><td>C0220</td><td>0.9694</td></tr><tr><td>C0032</td><td>C0232</td><td>0.9690</td></tr><tr><td>C0022</td><td>C0222</td><td>0.9659</td></tr><tr><td>C0120</td><td>C1020</td><td>0.9373</td></tr><tr><td>C0122</td><td>C1022</td><td>0.9264</td></tr><tr><td>C0132</td><td>C1032</td><td>0.9255</td></tr><tr><td>C0130</td><td>C1030</td><td>0.9183</td></tr><tr><td>C0100</td><td>C1000</td><td>0.8973</td></tr><tr><td>C0110</td><td>C1010</td><td>0.8777</td></tr><tr><td>C1200</td><td>C1222</td><td>-0.7734</td></tr><tr><td>C0000</td><td>C0022</td><td>-0.7496</td></tr><tr><td>C0010</td><td>C0030</td><td>0.7439</td></tr><tr><td>C0022</td><td>C1100</td><td>-0.7424</td></tr><tr><td>C0030</td><td>C1110</td><td>0.7410</td></tr><tr><td>C1100</td><td>C1122</td><td>-0.7326</td></tr><tr><td>C0030</td><td>C0210</td><td>0.7319</td></tr><tr><td>C1110</td><td>C1130</td><td>0.7314</td></tr><tr><td>C0210</td><td>C1130</td><td>0.7297</td></tr><tr><td>C0000</td><td>C1122</td><td>-0.7267</td></tr><tr><td>C0010</td><td>C1130</td><td>0.7257</td></tr><tr><td>C0200</td><td>C1122</td><td>-0.7245</td></tr><tr><td>C0022</td><td>C0200</td><td>-0.7234</td></tr><tr><td>C0210</td><td>C0230</td><td>0.7220</td></tr><tr><td>C0120</td><td>C0220</td><td>-0.7171</td></tr><tr><td>C0230</td><td>C1110</td><td>0.7168</td></tr><tr><td>C0200</td><td>C0222</td><td>-0.7165</td></tr><tr><td>C0222</td><td>C1100</td><td>-0.7156</td></tr><tr><td>C1210</td><td>C1230</td><td>0.7144</td></tr><tr><td>C0010</td><td>C0230</td><td>0.7040</td></tr><tr><td>C0000</td><td>C0222</td><td>-0.6997</td></tr><tr><td>C0010</td><td>C1210</td><td>-0.6883</td></tr><tr><td>C0132</td><td>C0232</td><td>-0.6847</td></tr><tr><td>C1022</td><td>C1222</td><td>-0.6841</td></tr><tr><td>C0130</td><td>C0230</td><td>-0.6816</td></tr><tr><td>C0122</td><td>C0222</td><td>-0.6739</td></tr><tr><td>C1000</td><td>C1022</td><td>-0.6728</td></tr><tr><td>C1032</td><td>C1232</td><td>-0.6610</td></tr><tr><td>C0000</td><td>C0020</td><td>0.6597</td></tr><tr><td>C0020</td><td>C1100</td><td>0.6550</td></tr><tr><td>C1020</td><td>C1220</td><td>-0.6545</td></tr><tr><td>C0100</td><td>C0122</td><td>-0.6513</td></tr><tr><td>C1210</td><td>C1232</td><td>-0.6496</td></tr><tr><td>C1000</td><td>C1200</td><td>-0.6479</td></tr><tr><td>C0020</td><td>C0200</td><td>0.6469</td></tr><tr><td>C0110</td><td>C0210</td><td>-0.6459</td></tr><tr><td>C1100</td><td>C1120</td><td>0.6393</td></tr><tr><td>C0200</td><td>C1120</td><td>0.6391</td></tr><tr><td>C0000</td><td>C1120</td><td>0.6349</td></tr><tr><td>C0120</td><td>C1120</td><td>-0.6338</td></tr><tr><td>C1030</td><td>C1230</td><td>-0.6289</td></tr><tr><td>C0000</td><td>C1200</td><td>-0.6281</td></tr><tr><td>C0110</td><td>C0130</td><td>0.6269</td></tr><tr><td>C0200</td><td>C0220</td><td>0.6257</td></tr><tr><td>C0010</td><td>C0032</td><td>-0.6214</td></tr><tr><td>C1110</td><td>C1210</td><td>-0.6202</td></tr><tr><td>C0220</td><td>C1100</td><td>0.6187</td></tr><tr><td>C1200</td><td>C1220</td><td>0.6186</td></tr><tr><td>C0100</td><td>C0200</td><td>-0.6157</td></tr><tr><td>C0032</td><td>C1110</td><td>-0.6149</td></tr><tr><td>C1010</td><td>C1030</td><td>0.6082</td></tr><tr><td>C1110</td><td>C1132</td><td>-0.6079</td></tr><tr><td>C0000</td><td>C0220</td><td>0.6069</td></tr><tr><td>C0010</td><td>C1132</td><td>-0.6054</td></tr><tr><td>C0120</td><td>C0130</td><td>0.6047</td></tr><tr><td>C0210</td><td>C1132</td><td>-0.6024</td></tr><tr><td>C0032</td><td>C0210</td><td>-0.6022</td></tr><tr><td>C0130</td><td>C1130</td><td>-0.5989</td></tr><tr><td>C0210</td><td>C0232</td><td>-0.5986</td></tr><tr><td>C0232</td><td>C1110</td><td>-0.5978</td></tr><tr><td>C0132</td><td>C1132</td><td>-0.5974</td></tr><tr><td>C1010</td><td>C1210</td><td>-0.5952</td></tr><tr><td>C0100</td><td>C1022</td><td>-0.5941</td></tr><tr><td>C0122</td><td>C1000</td><td>-0.5918</td></tr><tr><td>C0010</td><td>C0232</td><td>-0.5885</td></tr><tr><td>C0122</td><td>C1122</td><td>-0.5834</td></tr><tr><td>C0100</td><td>C0110</td><td>0.5762</td></tr><tr><td>C0030</td><td>C1230</td><td>-0.5727</td></tr><tr><td>C0130</td><td>C1020</td><td>0.5706</td></tr><tr><td>C0110</td><td>C1110</td><td>-0.5686</td></tr><tr><td>C1020</td><td>C1030</td><td>0.5674</td></tr><tr><td>C0210</td><td>C1210</td><td>-0.5598</td></tr><tr><td>C0130</td><td>C1010</td><td>0.5518</td></tr><tr><td>C1100</td><td>C1200</td><td>-0.5472</td></tr><tr><td>C0120</td><td>C1030</td><td>0.5457</td></tr><tr><td>C0032</td><td>C1232</td><td>-0.5396</td></tr><tr><td>C1010</td><td>C1032</td><td>-0.5361</td></tr><tr><td>C1000</td><td>C1010</td><td>0.5350</td></tr><tr><td>C0110</td><td>C0132</td><td>-0.5333</td></tr><tr><td>C0100</td><td>C0120</td><td>0.5327</td></tr><tr><td>C0110</td><td>C1030</td><td>0.5312</td></tr><tr><td>C0022</td><td>C1222</td><td>-0.5292</td></tr><tr><td>C0100</td><td>C1100</td><td>-0.5270</td></tr><tr><td>C0020</td><td>C0120</td><td>-0.5252</td></tr><tr><td>C0110</td><td>C0120</td><td>0.5223</td></tr><tr><td>C1000</td><td>C1222</td><td>0.5205</td></tr><tr><td>C1000</td><td>C1020</td><td>0.5160</td></tr><tr><td>C0100</td><td>C1010</td><td>0.5117</td></tr><tr><td>C0110</td><td>C1000</td><td>0.5113</td></tr><tr><td>C0010</td><td>C1230</td><td>-0.5084</td></tr><tr><td>C0030</td><td>C0130</td><td>-0.4983</td></tr><tr><td>C0030</td><td>C1210</td><td>-0.4982</td></tr><tr><td>C0122</td><td>C0132</td><td>0.4970</td></tr><tr><td>C0022</td><td>C1200</td><td>0.4874</td></tr><tr><td>C1010</td><td>C1020</td><td>0.4870</td></tr><tr><td>C1022</td><td>C1032</td><td>0.4856</td></tr><tr><td>C0032</td><td>C0132</td><td>-0.4845</td></tr><tr><td>C1130</td><td>C1230</td><td>-0.4838</td></tr><tr><td>C0000</td><td>C1222</td><td>0.4826</td></tr><tr><td>C0122</td><td>C1032</td><td>0.4805</td></tr><tr><td>C0110</td><td>C1020</td><td>0.4778</td></tr><tr><td>C0200</td><td>C1200</td><td>-0.4770</td></tr><tr><td>C0110</td><td>C0230</td><td>-0.4770</td></tr><tr><td>C0010</td><td>C0110</td><td>-0.4737</td></tr><tr><td>C0110</td><td>C1032</td><td>-0.4726</td></tr><tr><td>C0100</td><td>C1020</td><td>0.4725</td></tr><tr><td>C0132</td><td>C1022</td><td>0.4717</td></tr><tr><td>C0020</td><td>C1220</td><td>-0.4694</td></tr><tr><td>C0120</td><td>C1000</td><td>0.4688</td></tr><tr><td>C0220</td><td>C1020</td><td>-0.4675</td></tr><tr><td>C0132</td><td>C1010</td><td>-0.4659</td></tr><tr><td>C1110</td><td>C1230</td><td>-0.4627</td></tr><tr><td>C0022</td><td>C0122</td><td>-0.4609</td></tr><tr><td>C0120</td><td>C1010</td><td>0.4583</td></tr><tr><td>C0120</td><td>C0230</td><td>-0.4482</td></tr><tr><td>C1022</td><td>C1200</td><td>0.4464</td></tr><tr><td>C0032</td><td>C1210</td><td>0.4461</td></tr><tr><td>C1130</td><td>C1210</td><td>-0.4431</td></tr><tr><td>C0220</td><td>C0230</td><td>0.4382</td></tr><tr><td>C1132</td><td>C1232</td><td>-0.4361</td></tr><tr><td>C0130</td><td>C0220</td><td>-0.4339</td></tr><tr><td>C0200</td><td>C0210</td><td>0.4339</td></tr><tr><td>C0010</td><td>C1232</td><td>0.4307</td></tr><tr><td>C0110</td><td>C1130</td><td>-0.4302</td></tr><tr><td>C0100</td><td>C0222</td><td>0.4261</td></tr><tr><td>C0210</td><td>C0220</td><td>0.4257</td></tr><tr><td>C0210</td><td>C1230</td><td>-0.4222</td></tr><tr><td>C0100</td><td>C0132</td><td>-0.4208</td></tr><tr><td>C1122</td><td>C1222</td><td>-0.4193</td></tr><tr><td>C1100</td><td>C1222</td><td>0.4184</td></tr><tr><td>C0200</td><td>C1110</td><td>0.4172</td></tr><tr><td>C0000</td><td>C0100</td><td>-0.4170</td></tr><tr><td>C1010</td><td>C1232</td><td>0.4152</td></tr><tr><td>C0210</td><td>C1100</td><td>0.4142</td></tr><tr><td>C0220</td><td>C1130</td><td>0.4142</td></tr><tr><td>C0230</td><td>C1120</td><td>0.4136</td></tr><tr><td>C0210</td><td>C1120</td><td>0.4134</td></tr><tr><td>C1122</td><td>C1200</td><td>0.4118</td></tr><tr><td>C1000</td><td>C1032</td><td>-0.4118</td></tr><tr><td>C1220</td><td>C1230</td><td>0.4096</td></tr><tr><td>C1210</td><td>C1220</td><td>0.4093</td></tr><tr><td>C0230</td><td>C1230</td><td>-0.4083</td></tr><tr><td>C0220</td><td>C1110</td><td>0.4077</td></tr><tr><td>C1100</td><td>C1110</td><td>0.4024</td></tr><tr><td>C0120</td><td>C1130</td><td>-0.4017</td></tr><tr><td>C0130</td><td>C0210</td><td>-0.4015</td></tr><tr><td>C1110</td><td>C1120</td><td>0.4000</td></tr><tr><td>C0020</td><td>C1200</td><td>-0.3995</td></tr><tr><td>C0100</td><td>C0220</td><td>-0.3975</td></tr><tr><td>C1010</td><td>C1230</td><td>-0.3972</td></tr><tr><td>C1200</td><td>C1210</td><td>0.3969</td></tr><tr><td>C0000</td><td>C1220</td><td>-0.3965</td></tr><tr><td>C0232</td><td>C1032</td><td>-0.3956</td></tr><tr><td>C0010</td><td>C0200</td><td>0.3951</td></tr><tr><td>C1120</td><td>C1130</td><td>0.3947</td></tr><tr><td>C0230</td><td>C1210</td><td>-0.3945</td></tr><tr><td>C0020</td><td>C0210</td><td>0.3941</td></tr><tr><td>C0122</td><td>C0200</td><td>0.3938</td></tr><tr><td>C0100</td><td>C1032</td><td>-0.3936</td></tr><tr><td>C1132</td><td>C1210</td><td>0.3920</td></tr><tr><td>C0132</td><td>C1000</td><td>-0.3901</td></tr><tr><td>C0100</td><td>C0210</td><td>-0.3901</td></tr><tr><td>C0222</td><td>C1022</td><td>-0.3880</td></tr><tr><td>C0000</td><td>C0210</td><td>0.3870</td></tr><tr><td>C0020</td><td>C1110</td><td>0.3859</td></tr><tr><td>C0010</td><td>C1100</td><td>0.3859</td></tr><tr><td>C0010</td><td>C0220</td><td>0.3858</td></tr><tr><td>C0110</td><td>C0220</td><td>-0.3847</td></tr><tr><td>C0030</td><td>C0220</td><td>0.3839</td></tr><tr><td>C0130</td><td>C1120</td><td>-0.3838</td></tr><tr><td>C0110</td><td>C0200</td><td>-0.3838</td></tr><tr><td>C1110</td><td>C1232</td><td>0.3836</td></tr><tr><td>C0010</td><td>C1120</td><td>0.3832</td></tr><tr><td>C0000</td><td>C1110</td><td>0.3806</td></tr><tr><td>C0020</td><td>C0230</td><td>0.3776</td></tr><tr><td>C0010</td><td>C0020</td><td>0.3761</td></tr><tr><td>C0230</td><td>C1030</td><td>-0.3738</td></tr><tr><td>C0030</td><td>C0110</td><td>-0.3731</td></tr><tr><td>C1000</td><td>C1220</td><td>-0.3727</td></tr><tr><td>C0110</td><td>C0232</td><td>0.3721</td></tr><tr><td>C0000</td><td>C0010</td><td>0.3712</td></tr><tr><td>C0030</td><td>C1120</td><td>0.3705</td></tr><tr><td>C1030</td><td>C1210</td><td>-0.3684</td></tr><tr><td>C1020</td><td>C1120</td><td>-0.3675</td></tr><tr><td>C0100</td><td>C1122</td><td>0.3662</td></tr><tr><td>C0020</td><td>C1130</td><td>0.3649</td></tr><tr><td>C1120</td><td>C1220</td><td>-0.3640</td></tr><tr><td>C0200</td><td>C1222</td><td>0.3611</td></tr><tr><td>C0120</td><td>C0210</td><td>-0.3604</td></tr><tr><td>C0122</td><td>C1222</td><td>-0.3601</td></tr><tr><td>C0230</td><td>C1020</td><td>-0.3596</td></tr><tr><td>C0100</td><td>C1120</td><td>-0.3545</td></tr><tr><td>C0132</td><td>C1030</td><td>0.3524</td></tr><tr><td>C0232</td><td>C1232</td><td>-0.3523</td></tr><tr><td>C0130</td><td>C1110</td><td>-0.3520</td></tr><tr><td>C0222</td><td>C1200</td><td>0.3518</td></tr><tr><td>C0120</td><td>C1220</td><td>-0.3516</td></tr><tr><td>C0232</td><td>C1210</td><td>0.3492</td></tr><tr><td>C1100</td><td>C1220</td><td>-0.3491</td></tr><tr><td>C0020</td><td>C0030</td><td>0.3488</td></tr><tr><td>C0132</td><td>C0210</td><td>0.3477</td></tr><tr><td>C0100</td><td>C1110</td><td>-0.3468</td></tr><tr><td>C0132</td><td>C0222</td><td>-0.3459</td></tr><tr><td>C1030</td><td>C1032</td><td>0.3439</td></tr><tr><td>C0030</td><td>C0120</td><td>-0.3433</td></tr><tr><td>C0110</td><td>C1120</td><td>-0.3426</td></tr><tr><td>C1120</td><td>C1200</td><td>-0.3426</td></tr><tr><td>C0210</td><td>C1232</td><td>0.3416</td></tr><tr><td>C1030</td><td>C1220</td><td>-0.3416</td></tr><tr><td>C0122</td><td>C1100</td><td>0.3365</td></tr><tr><td>C0120</td><td>C0200</td><td>-0.3349</td></tr><tr><td>C0110</td><td>C1100</td><td>-0.3348</td></tr><tr><td>C0122</td><td>C0232</td><td>-0.3335</td></tr><tr><td>C0200</td><td>C0232</td><td>-0.3324</td></tr><tr><td>C0222</td><td>C0232</td><td>0.3323</td></tr><tr><td>C0222</td><td>C1222</td><td>-0.3312</td></tr><tr><td>C0132</td><td>C1232</td><td>-0.3290</td></tr><tr><td>C0220</td><td>C1030</td><td>-0.3280</td></tr><tr><td>C0110</td><td>C1132</td><td>0.3266</td></tr><tr><td>C0130</td><td>C0132</td><td>0.3247</td></tr><tr><td>C1020</td><td>C1200</td><td>-0.3246</td></tr><tr><td>C0130</td><td>C1032</td><td>0.3244</td></tr><tr><td>C0200</td><td>C1132</td><td>-0.3224</td></tr><tr><td>C0120</td><td>C1110</td><td>-0.3213</td></tr><tr><td>C1010</td><td>C1220</td><td>-0.3193</td></tr><tr><td>C0232</td><td>C1100</td><td>-0.3181</td></tr><tr><td>C0020</td><td>C0130</td><td>-0.3168</td></tr><tr><td>C1032</td><td>C1210</td><td>0.3136</td></tr><tr><td>C1100</td><td>C1132</td><td>-0.3125</td></tr><tr><td>C0232</td><td>C1122</td><td>0.3122</td></tr><tr><td>C0222</td><td>C1132</td><td>0.3113</td></tr><tr><td>C1020</td><td>C1130</td><td>-0.3107</td></tr><tr><td>C0200</td><td>C1220</td><td>-0.3097</td></tr><tr><td>C1200</td><td>C1232</td><td>-0.3082</td></tr><tr><td>C0032</td><td>C0200</td><td>-0.3079</td></tr><tr><td>C0132</td><td>C1110</td><td>0.3075</td></tr><tr><td>C0122</td><td>C1020</td><td>0.3072</td></tr><tr><td>C0032</td><td>C1100</td><td>-0.3032</td></tr><tr><td>C0132</td><td>C1122</td><td>-0.3016</td></tr><tr><td>C0020</td><td>C0100</td><td>-0.3011</td></tr><tr><td>C0000</td><td>C0232</td><td>-0.2974</td></tr><tr><td>C0000</td><td>C1132</td><td>-0.2969</td></tr><tr><td>C1010</td><td>C1200</td><td>-0.2968</td></tr><tr><td>C1122</td><td>C1132</td><td>0.2962</td></tr><tr><td>C0120</td><td>C0122</td><td>0.2953</td></tr><tr><td>C0000</td><td>C0032</td><td>-0.2944</td></tr><tr><td>C0010</td><td>C0130</td><td>-0.2939</td></tr><tr><td>C0220</td><td>C1200</td><td>-0.2929</td></tr><tr><td>C0010</td><td>C0100</td><td>-0.2924</td></tr><tr><td>C0100</td><td>C0232</td><td>0.2918</td></tr><tr><td>C1032</td><td>C1132</td><td>-0.2918</td></tr><tr><td>C0122</td><td>C1132</td><td>-0.2895</td></tr><tr><td>C0222</td><td>C1032</td><td>-0.2877</td></tr><tr><td>C0020</td><td>C0110</td><td>-0.2872</td></tr><tr><td>C0120</td><td>C1100</td><td>-0.2871</td></tr><tr><td>C1020</td><td>C1022</td><td>0.2865</td></tr><tr><td>C0120</td><td>C1022</td><td>0.2858</td></tr><tr><td>C0022</td><td>C0100</td><td>0.2854</td></tr><tr><td>C0022</td><td>C0232</td><td>0.2827</td></tr><tr><td>C1022</td><td>C1232</td><td>-0.2819</td></tr><tr><td>C0032</td><td>C0222</td><td>0.2810</td></tr><tr><td>C1022</td><td>C1122</td><td>-0.2809</td></tr><tr><td>C1222</td><td>C1232</td><td>0.2802</td></tr><tr><td>C0220</td><td>C1220</td><td>-0.2790</td></tr><tr><td>C1032</td><td>C1222</td><td>-0.2785</td></tr><tr><td>C1030</td><td>C1120</td><td>-0.2762</td></tr><tr><td>C1030</td><td>C1130</td><td>-0.2748</td></tr><tr><td>C0000</td><td>C0110</td><td>-0.2739</td></tr><tr><td>C0010</td><td>C0120</td><td>-0.2735</td></tr><tr><td>C0022</td><td>C1132</td><td>0.2729</td></tr><tr><td>C0232</td><td>C1022</td><td>-0.2722</td></tr><tr><td>C0032</td><td>C1122</td><td>0.2720</td></tr><tr><td>C0130</td><td>C1230</td><td>-0.2716</td></tr><tr><td>C1020</td><td>C1230</td><td>-0.2690</td></tr><tr><td>C0122</td><td>C1030</td><td>0.2680</td></tr><tr><td>C0132</td><td>C0200</td><td>0.2680</td></tr><tr><td>C0032</td><td>C0110</td><td>0.2678</td></tr><tr><td>C0000</td><td>C0122</td><td>0.2612</td></tr><tr><td>C1022</td><td>C1030</td><td>0.2610</td></tr><tr><td>C0200</td><td>C1000</td><td>-0.2601</td></tr><tr><td>C1000</td><td>C1232</td><td>0.2589</td></tr><tr><td>C0130</td><td>C1022</td><td>0.2586</td></tr><tr><td>C0022</td><td>C0032</td><td>0.2570</td></tr><tr><td>C0010</td><td>C0132</td><td>0.2554</td></tr><tr><td>C0100</td><td>C1132</td><td>0.2554</td></tr><tr><td>C0122</td><td>C0130</td><td>0.2552</td></tr><tr><td>C0100</td><td>C0130</td><td>0.2536</td></tr><tr><td>C1000</td><td>C1210</td><td>-0.2536</td></tr><tr><td>C0210</td><td>C1020</td><td>-0.2493</td></tr><tr><td>C0210</td><td>C1000</td><td>-0.2487</td></tr><tr><td>C0200</td><td>C0230</td><td>0.2485</td></tr><tr><td>C0030</td><td>C1020</td><td>-0.2482</td></tr><tr><td>C0210</td><td>C1010</td><td>-0.2478</td></tr><tr><td>C0100</td><td>C1200</td><td>-0.2466</td></tr><tr><td>C0220</td><td>C1010</td><td>-0.2459</td></tr><tr><td>C0200</td><td>C1130</td><td>0.2441</td></tr><tr><td>C0022</td><td>C0132</td><td>-0.2417</td></tr><tr><td>C0020</td><td>C1020</td><td>-0.2405</td></tr><tr><td>C1032</td><td>C1122</td><td>-0.2405</td></tr><tr><td>C0030</td><td>C0200</td><td>0.2388</td></tr><tr><td>C0200</td><td>C1010</td><td>-0.2384</td></tr><tr><td>C0230</td><td>C1100</td><td>0.2366</td></tr><tr><td>C1200</td><td>C1230</td><td>0.2351</td></tr><tr><td>C1100</td><td>C1130</td><td>0.2342</td></tr><tr><td>C0222</td><td>C1020</td><td>-0.2329</td></tr><tr><td>C0000</td><td>C0120</td><td>-0.2323</td></tr><tr><td>C0132</td><td>C1100</td><td>0.2316</td></tr><tr><td>C0032</td><td>C0122</td><td>-0.2313</td></tr><tr><td>C0030</td><td>C1100</td><td>0.2313</td></tr><tr><td>C1032</td><td>C1200</td><td>0.2293</td></tr><tr><td>C0100</td><td>C0230</td><td>-0.2285</td></tr><tr><td>C0232</td><td>C1030</td><td>-0.2282</td></tr><tr><td>C1022</td><td>C1132</td><td>-0.2264</td></tr><tr><td>C0130</td><td>C1220</td><td>-0.2215</td></tr><tr><td>C0000</td><td>C0230</td><td>0.2210</td></tr><tr><td>C0000</td><td>C1130</td><td>0.2205</td></tr><tr><td>C0000</td><td>C0030</td><td>0.2203</td></tr><tr><td>C0122</td><td>C1232</td><td>-0.2190</td></tr><tr><td>C0120</td><td>C0222</td><td>-0.2159</td></tr><tr><td>C0130</td><td>C0232</td><td>-0.2148</td></tr><tr><td>C0132</td><td>C1230</td><td>-0.2146</td></tr><tr><td>C0100</td><td>C1130</td><td>-0.2129</td></tr><tr><td>C1020</td><td>C1210</td><td>-0.2127</td></tr><tr><td>C0132</td><td>C1222</td><td>-0.2111</td></tr><tr><td>C0220</td><td>C1022</td><td>-0.2108</td></tr><tr><td>C0100</td><td>C1222</td><td>0.2106</td></tr><tr><td>C0130</td><td>C1000</td><td>0.2093</td></tr><tr><td>C1020</td><td>C1110</td><td>-0.2079</td></tr><tr><td>C0032</td><td>C0100</td><td>0.2078</td></tr><tr><td>C0020</td><td>C1030</td><td>-0.2070</td></tr><tr><td>C1020</td><td>C1122</td><td>-0.2067</td></tr><tr><td>C1000</td><td>C1030</td><td>0.2046</td></tr><tr><td>C1000</td><td>C1110</td><td>-0.2033</td></tr><tr><td>C0000</td><td>C1210</td><td>-0.2017</td></tr><tr><td>C1010</td><td>C1120</td><td>-0.1991</td></tr><tr><td>C1032</td><td>C1230</td><td>-0.1979</td></tr><tr><td>C0232</td><td>C1000</td><td>0.1965</td></tr><tr><td>C0100</td><td>C1030</td><td>0.1956</td></tr><tr><td>C1030</td><td>C1132</td><td>-0.1953</td></tr><tr><td>C0122</td><td>C0220</td><td>-0.1949</td></tr><tr><td>C0020</td><td>C1210</td><td>-0.1942</td></tr><tr><td>C0030</td><td>C0100</td><td>-0.1932</td></tr><tr><td>C0230</td><td>C1010</td><td>-0.1917</td></tr><tr><td>C0120</td><td>C1122</td><td>-0.1904</td></tr><tr><td>C1022</td><td>C1120</td><td>-0.1880</td></tr><tr><td>C1010</td><td>C1100</td><td>-0.1868</td></tr><tr><td>C0130</td><td>C1132</td><td>-0.1853</td></tr><tr><td>C0000</td><td>C0132</td><td>0.1847</td></tr><tr><td>C0200</td><td>C1032</td><td>0.1843</td></tr><tr><td>C0110</td><td>C0122</td><td>-0.1818</td></tr><tr><td>C0130</td><td>C0200</td><td>-0.1802</td></tr><tr><td>C0222</td><td>C1030</td><td>-0.1790</td></tr><tr><td>C0010</td><td>C1200</td><td>-0.1790</td></tr><tr><td>C0122</td><td>C1220</td><td>-0.1775</td></tr><tr><td>C0022</td><td>C1032</td><td>-0.1768</td></tr><tr><td>C1010</td><td>C1022</td><td>-0.1767</td></tr><tr><td>C0220</td><td>C1000</td><td>-0.1749</td></tr><tr><td>C0122</td><td>C1200</td><td>0.1732</td></tr><tr><td>C0230</td><td>C1032</td><td>-0.1728</td></tr><tr><td>C1210</td><td>C1222</td><td>-0.1727</td></tr><tr><td>C1100</td><td>C1210</td><td>-0.1722</td></tr><tr><td>C0022</td><td>C1020</td><td>-0.1720</td></tr><tr><td>C0210</td><td>C0222</td><td>-0.1713</td></tr><tr><td>C0222</td><td>C1000</td><td>0.1699</td></tr><tr><td>C0210</td><td>C1122</td><td>-0.1699</td></tr><tr><td>C0122</td><td>C1120</td><td>-0.1687</td></tr><tr><td>C1110</td><td>C1122</td><td>-0.1665</td></tr><tr><td>C0010</td><td>C1220</td><td>-0.1663</td></tr><tr><td>C0222</td><td>C1110</td><td>-0.1662</td></tr><tr><td>C0122</td><td>C1010</td><td>-0.1660</td></tr><tr><td>C0032</td><td>C1022</td><td>-0.1659</td></tr><tr><td>C0130</td><td>C1232</td><td>-0.1658</td></tr><tr><td>C0022</td><td>C0210</td><td>-0.1655</td></tr><tr><td>C0022</td><td>C1110</td><td>-0.1642</td></tr><tr><td>C0032</td><td>C1220</td><td>0.1631</td></tr><tr><td>C0132</td><td>C0230</td><td>-0.1613</td></tr><tr><td>C1120</td><td>C1210</td><td>-0.1611</td></tr><tr><td>C0010</td><td>C0022</td><td>-0.1606</td></tr><tr><td>C0032</td><td>C1032</td><td>-0.1605</td></tr><tr><td>C0010</td><td>C1122</td><td>-0.1601</td></tr><tr><td>C0200</td><td>C1022</td><td>0.1594</td></tr><tr><td>C0130</td><td>C1100</td><td>-0.1592</td></tr><tr><td>C1030</td><td>C1232</td><td>-0.1590</td></tr><tr><td>C0230</td><td>C1022</td><td>-0.1586</td></tr><tr><td>C0130</td><td>C0222</td><td>-0.1582</td></tr><tr><td>C0110</td><td>C1022</td><td>-0.1581</td></tr><tr><td>C0010</td><td>C0222</td><td>-0.1578</td></tr><tr><td>C1000</td><td>C1100</td><td>-0.1576</td></tr><tr><td>C0030</td><td>C1030</td><td>-0.1570</td></tr><tr><td>C0010</td><td>C1020</td><td>-0.1566</td></tr><tr><td>C0110</td><td>C1220</td><td>-0.1565</td></tr><tr><td>C1000</td><td>C1132</td><td>0.1560</td></tr><tr><td>C1132</td><td>C1220</td><td>0.1557</td></tr><tr><td>C0022</td><td>C0120</td><td>-0.1556</td></tr><tr><td>C1010</td><td>C1110</td><td>-0.1550</td></tr><tr><td>C1030</td><td>C1122</td><td>-0.1545</td></tr><tr><td>C0032</td><td>C1030</td><td>-0.1541</td></tr><tr><td>C0020</td><td>C1022</td><td>-0.1540</td></tr><tr><td>C0100</td><td>C1232</td><td>0.1529</td></tr><tr><td>C0122</td><td>C1230</td><td>-0.1521</td></tr><tr><td>C0020</td><td>C1232</td><td>0.1518</td></tr><tr><td>C0020</td><td>C0032</td><td>-0.1510</td></tr><tr><td>C0000</td><td>C1230</td><td>-0.1509</td></tr><tr><td>C0232</td><td>C1220</td><td>0.1501</td></tr><tr><td>C0220</td><td>C1222</td><td>0.1498</td></tr><tr><td>C0130</td><td>C1222</td><td>-0.1494</td></tr><tr><td>C0222</td><td>C1220</td><td>0.1484</td></tr><tr><td>C0200</td><td>C1210</td><td>-0.1478</td></tr><tr><td>C0200</td><td>C1020</td><td>-0.1472</td></tr><tr><td>C1022</td><td>C1220</td><td>-0.1471</td></tr><tr><td>C0032</td><td>C0130</td><td>-0.1470</td></tr><tr><td>C0120</td><td>C1230</td><td>-0.1468</td></tr><tr><td>C1110</td><td>C1200</td><td>-0.1468</td></tr><tr><td>C1120</td><td>C1232</td><td>0.1466</td></tr><tr><td>C0010</td><td>C1000</td><td>-0.1463</td></tr><tr><td>C1032</td><td>C1100</td><td>0.1450</td></tr><tr><td>C1120</td><td>C1222</td><td>0.1444</td></tr><tr><td>C0210</td><td>C1030</td><td>-0.1441</td></tr><tr><td>C0110</td><td>C0222</td><td>0.1438</td></tr><tr><td>C0122</td><td>C0230</td><td>-0.1432</td></tr><tr><td>C1100</td><td>C1230</td><td>-0.1417</td></tr><tr><td>C1032</td><td>C1130</td><td>-0.1412</td></tr><tr><td>C0022</td><td>C1022</td><td>-0.1408</td></tr><tr><td>C0220</td><td>C1232</td><td>0.1397</td></tr><tr><td>C0110</td><td>C1210</td><td>-0.1391</td></tr><tr><td>C0020</td><td>C1010</td><td>-0.1388</td></tr><tr><td>C0120</td><td>C1222</td><td>-0.1381</td></tr><tr><td>C0210</td><td>C1032</td><td>0.1373</td></tr><tr><td>C0020</td><td>C1132</td><td>-0.1366</td></tr><tr><td>C1220</td><td>C1232</td><td>-0.1361</td></tr><tr><td>C0032</td><td>C1120</td><td>-0.1359</td></tr><tr><td>C0230</td><td>C1000</td><td>-0.1359</td></tr><tr><td>C1022</td><td>C1130</td><td>-0.1356</td></tr><tr><td>C0232</td><td>C1230</td><td>0.1352</td></tr><tr><td>C0220</td><td>C1210</td><td>-0.1348</td></tr><tr><td>C0132</td><td>C1200</td><td>0.1348</td></tr><tr><td>C0000</td><td>C0130</td><td>-0.1347</td></tr><tr><td>C0200</td><td>C1230</td><td>-0.1337</td></tr><tr><td>C1122</td><td>C1220</td><td>0.1335</td></tr><tr><td>C0110</td><td>C1200</td><td>-0.1332</td></tr><tr><td>C0130</td><td>C1122</td><td>-0.1332</td></tr><tr><td>C1030</td><td>C1222</td><td>-0.1320</td></tr><tr><td>C0020</td><td>C0122</td><td>-0.1318</td></tr><tr><td>C0020</td><td>C1222</td><td>0.1317</td></tr><tr><td>C1110</td><td>C1220</td><td>-0.1314</td></tr><tr><td>C0232</td><td>C1010</td><td>0.1304</td></tr><tr><td>C1022</td><td>C1230</td><td>-0.1298</td></tr><tr><td>C0110</td><td>C1122</td><td>0.1296</td></tr><tr><td>C1010</td><td>C1130</td><td>-0.1295</td></tr><tr><td>C0032</td><td>C1200</td><td>0.1294</td></tr><tr><td>C0132</td><td>C1130</td><td>-0.1284</td></tr><tr><td>C0020</td><td>C0232</td><td>-0.1262</td></tr><tr><td>C0222</td><td>C1230</td><td>0.1258</td></tr><tr><td>C0000</td><td>C1232</td><td>0.1242</td></tr><tr><td>C0032</td><td>C0220</td><td>-0.1238</td></tr><tr><td>C0000</td><td>C1010</td><td>-0.1237</td></tr><tr><td>C0110</td><td>C1232</td><td>0.1234</td></tr><tr><td>C0100</td><td>C1220</td><td>-0.1227</td></tr><tr><td>C0230</td><td>C0232</td><td>0.1221</td></tr><tr><td>C0210</td><td>C1200</td><td>-0.1220</td></tr><tr><td>C1120</td><td>C1132</td><td>-0.1220</td></tr><tr><td>C0022</td><td>C1030</td><td>-0.1208</td></tr><tr><td>C0230</td><td>C1232</td><td>0.1205</td></tr><tr><td>C0122</td><td>C1130</td><td>-0.1192</td></tr><tr><td>C1000</td><td>C1130</td><td>-0.1186</td></tr><tr><td>C0030</td><td>C1200</td><td>-0.1182</td></tr><tr><td>C1000</td><td>C1120</td><td>-0.1182</td></tr><tr><td>C0122</td><td>C0210</td><td>0.1173</td></tr><tr><td>C1010</td><td>C1222</td><td>0.1172</td></tr><tr><td>C0230</td><td>C1222</td><td>0.1164</td></tr><tr><td>C0022</td><td>C1220</td><td>0.1162</td></tr><tr><td>C1020</td><td>C1222</td><td>-0.1159</td></tr><tr><td>C0020</td><td>C1230</td><td>-0.1158</td></tr><tr><td>C0120</td><td>C1200</td><td>-0.1156</td></tr><tr><td>C1122</td><td>C1230</td><td>0.1148</td></tr><tr><td>C1132</td><td>C1230</td><td>0.1141</td></tr><tr><td>C1030</td><td>C1200</td><td>-0.1132</td></tr><tr><td>C0232</td><td>C1120</td><td>-0.1119</td></tr><tr><td>C0230</td><td>C1132</td><td>0.1114</td></tr><tr><td>C0220</td><td>C1132</td><td>-0.1104</td></tr><tr><td>C0022</td><td>C0110</td><td>0.1098</td></tr><tr><td>C1130</td><td>C1232</td><td>0.1077</td></tr><tr><td>C0030</td><td>C1022</td><td>-0.1063</td></tr><tr><td>C1130</td><td>C1222</td><td>0.1057</td></tr><tr><td>C0210</td><td>C1220</td><td>-0.1053</td></tr><tr><td>C0232</td><td>C1130</td><td>0.1038</td></tr><tr><td>C1130</td><td>C1200</td><td>-0.1035</td></tr><tr><td>C0122</td><td>C1110</td><td>0.1035</td></tr><tr><td>C0032</td><td>C1000</td><td>0.1031</td></tr><tr><td>C0030</td><td>C1032</td><td>-0.1021</td></tr><tr><td>C0220</td><td>C0232</td><td>-0.1009</td></tr><tr><td>C0022</td><td>C0130</td><td>-0.1000</td></tr></table>"
      ],
      "text/plain": [
       "<lmfit.model.ModelResult at 0x7fb5686f5190>"
      ]
     },
     "execution_count": 89,
     "metadata": {},
     "output_type": "execute_result"
    }
   ],
   "source": [
    "result_dict_B['Z']"
   ]
  },
  {
   "cell_type": "code",
   "execution_count": 97,
   "metadata": {},
   "outputs": [],
   "source": [
    "z_dict = {k: result_dict_B['Z'].params[k].value for k in result_dict_B['Z'].params.keys() if k[0] == 'C'}"
   ]
  },
  {
   "cell_type": "code",
   "execution_count": 98,
   "metadata": {},
   "outputs": [
    {
     "data": {
      "text/plain": [
       "{'C0000': -1881380.8449812671,\n",
       " 'C0010': -466926.07726273214,\n",
       " 'C0020': 191913.64964856106,\n",
       " 'C0022': -726273.3617769319,\n",
       " 'C0030': -206788.66407728312,\n",
       " 'C0032': -123593.86607010859,\n",
       " 'C0100': 35888.5863340367,\n",
       " 'C0110': -241086.2456066586,\n",
       " 'C0120': 76739.26794736736,\n",
       " 'C0122': 54352.230949207915,\n",
       " 'C0130': 288548.18921048514,\n",
       " 'C0132': 1111881.7015990668,\n",
       " 'C0200': -54269.76109876385,\n",
       " 'C0210': -458383.81512703386,\n",
       " 'C0220': -76597.37017137928,\n",
       " 'C0222': -20914.549855356112,\n",
       " 'C0230': -329931.729810944,\n",
       " 'C0232': -522203.2193979804,\n",
       " 'C1000': -2464.3618363920905,\n",
       " 'C1010': -586460.5913436033,\n",
       " 'C1020': 83532.65163570429,\n",
       " 'C1022': 85697.73078014643,\n",
       " 'C1030': 315256.302741876,\n",
       " 'C1032': 1544760.144693295,\n",
       " 'C1100': -88732.5894765991,\n",
       " 'C1110': -896316.2101119664,\n",
       " 'C1120': -118801.29073794554,\n",
       " 'C1122': -26909.808292788835,\n",
       " 'C1130': -526983.0007473563,\n",
       " 'C1132': -666096.5213122327,\n",
       " 'C1200': 35026.32367991641,\n",
       " 'C1210': 403737.7727530774,\n",
       " 'C1220': -6315.276428702903,\n",
       " 'C1222': -42539.44639390976,\n",
       " 'C1230': -30040.80373983374,\n",
       " 'C1232': -500472.4110009191}"
      ]
     },
     "execution_count": 98,
     "metadata": {},
     "output_type": "execute_result"
    }
   ],
   "source": [
    "z_dict"
   ]
  },
  {
   "cell_type": "code",
   "execution_count": 101,
   "metadata": {},
   "outputs": [],
   "source": [
    "sorted_values_z_dict = sorted(z_dict.items(), key=lambda x:abs(x[1]))"
   ]
  },
  {
   "cell_type": "code",
   "execution_count": 102,
   "metadata": {},
   "outputs": [
    {
     "data": {
      "text/plain": [
       "[('C1000', -2464.3618363920905),\n",
       " ('C1220', -6315.276428702903),\n",
       " ('C0222', -20914.549855356112),\n",
       " ('C1122', -26909.808292788835),\n",
       " ('C1230', -30040.80373983374),\n",
       " ('C1200', 35026.32367991641),\n",
       " ('C0100', 35888.5863340367),\n",
       " ('C1222', -42539.44639390976),\n",
       " ('C0200', -54269.76109876385),\n",
       " ('C0122', 54352.230949207915),\n",
       " ('C0220', -76597.37017137928),\n",
       " ('C0120', 76739.26794736736),\n",
       " ('C1020', 83532.65163570429),\n",
       " ('C1022', 85697.73078014643),\n",
       " ('C1100', -88732.5894765991),\n",
       " ('C1120', -118801.29073794554),\n",
       " ('C0032', -123593.86607010859),\n",
       " ('C0020', 191913.64964856106),\n",
       " ('C0030', -206788.66407728312),\n",
       " ('C0110', -241086.2456066586),\n",
       " ('C0130', 288548.18921048514),\n",
       " ('C1030', 315256.302741876),\n",
       " ('C0230', -329931.729810944),\n",
       " ('C1210', 403737.7727530774),\n",
       " ('C0210', -458383.81512703386),\n",
       " ('C0010', -466926.07726273214),\n",
       " ('C1232', -500472.4110009191),\n",
       " ('C0232', -522203.2193979804),\n",
       " ('C1130', -526983.0007473563),\n",
       " ('C1010', -586460.5913436033),\n",
       " ('C1132', -666096.5213122327),\n",
       " ('C0022', -726273.3617769319),\n",
       " ('C1110', -896316.2101119664),\n",
       " ('C0132', 1111881.7015990668),\n",
       " ('C1032', 1544760.144693295),\n",
       " ('C0000', -1881380.8449812671)]"
      ]
     },
     "execution_count": 102,
     "metadata": {},
     "output_type": "execute_result"
    }
   ],
   "source": [
    "sorted_values_z_dict"
   ]
  },
  {
   "cell_type": "code",
   "execution_count": null,
   "metadata": {},
   "outputs": [],
   "source": [
    "# re-add previous results\n",
    "for comp in comps:\n",
    "    data = deepcopy(df_[f'{probe}_Raw_{comp}'].values)\n",
    "    df_.loc[:, f'{probe}_Raw_{comp}_min_simul_rot_temp'] = data - result_dict[comp].best_fit"
   ]
  },
  {
   "cell_type": "code",
   "execution_count": null,
   "metadata": {},
   "outputs": [],
   "source": [
    "for comp in comps:\n",
    "    fig, ax = plt.subplots()\n",
    "\n",
    "    # bins=np.arange(-500, 510, 10)\n",
    "    bins=np.arange(-750, 760, 10)\n",
    "    # bins=np.arange(-1000, 1050, 50)\n",
    "\n",
    "    ax.hist(df_[f'{probe}_Raw_{comp}_min_simul_rot_temp'], bins=bins, histtype='step', label=f'Fit 1 (no B): {comp}\\n'+get_label(df_[f'{probe}_Raw_{comp}_min_simul_rot_temp'], bins))\n",
    "    ax.hist(df_[f'{probe}_Raw_{comp}_min_simul_rot_temp_B'], bins=bins, histtype='step', label=f'Fit 2 (with B): {comp}\\n'+get_label(df_[f'{probe}_Raw_{comp}_min_simul_rot_temp_B'], bins))\n",
    "\n",
    "    ax.set_xlabel('Residuals from Spherical Harmonics & Temp Fit, (Data - Fit) [ADC]');\n",
    "    ax.set_title(f\"Voltage Fit: {comp}\")\n",
    "    ax.legend(loc='upper left', bbox_to_anchor=(0.7, 1.0));"
   ]
  },
  {
   "cell_type": "code",
   "execution_count": null,
   "metadata": {},
   "outputs": [],
   "source": [
    "for comp in comps:\n",
    "    fig, ax = plt.subplots()\n",
    "\n",
    "    ax.scatter(df_.theta_B_true_deg, df_[f'{probe}_Raw_{comp}_min_simul_rot_temp_B'], s=2)\n",
    "\n",
    "    ax.set_xlabel(r'$\\theta$ [deg]')\n",
    "    ax.set_ylabel('Residuals from Spherical Harmonic & Temp & B Fit')\n",
    "    ax.set_title(f\"Voltage Fit: {comp}\");"
   ]
  },
  {
   "cell_type": "code",
   "execution_count": null,
   "metadata": {
    "code_folding": []
   },
   "outputs": [],
   "source": [
    "for comp in comps:\n",
    "    fig, ax = plt.subplots()\n",
    "\n",
    "    ax.scatter(df_.phi_B_true_deg, df_[f'{probe}_Raw_{comp}_min_simul_rot_temp'], s=2)\n",
    "\n",
    "    ax.set_xlabel(r'$\\phi$ [deg]')\n",
    "    ax.set_ylabel('Residuals from Spherical Harmonic & Temp Fit');\n",
    "    ax.set_title(f\"Voltage Fit: {comp}\");"
   ]
  },
  {
   "cell_type": "code",
   "execution_count": null,
   "metadata": {},
   "outputs": [],
   "source": [
    "for comp in comps:\n",
    "    fig, ax = plt.subplots()\n",
    "\n",
    "    ax.scatter(df_[f'{probe}_Cal_T'], df_[f'{probe}_Raw_{comp}_min_simul_rot_temp'], s=2)\n",
    "\n",
    "    ax.set_xlabel(f'{probe}_Cal_T [deg C]')\n",
    "    ax.set_ylabel('Residuals from Spherical Harmonic & Temp Fit');\n",
    "    ax.set_title(f\"Voltage Fit: {comp}\");"
   ]
  },
  {
   "cell_type": "code",
   "execution_count": null,
   "metadata": {},
   "outputs": [],
   "source": [
    "for comp in comps:\n",
    "    fig, ax = plt.subplots()\n",
    "\n",
    "    ax.scatter(df_[f'{probe}_Raw_{comp}'], df_[f'{probe}_Raw_{comp}_min_simul_rot_temp'], s=2)\n",
    "\n",
    "    ax.set_xlabel(f'Raw {comp}')\n",
    "    ax.set_ylabel('Residuals from Spherical Harmonic & Temp Fit');\n",
    "    ax.set_title(f\"Voltage Fit: {comp}\");"
   ]
  },
  {
   "cell_type": "code",
   "execution_count": null,
   "metadata": {},
   "outputs": [],
   "source": []
  }
 ],
 "metadata": {
  "kernelspec": {
   "display_name": "Python [conda env:mu2eBFit]",
   "language": "python",
   "name": "conda-env-mu2eBFit-py"
  },
  "language_info": {
   "codemirror_mode": {
    "name": "ipython",
    "version": 3
   },
   "file_extension": ".py",
   "mimetype": "text/x-python",
   "name": "python",
   "nbconvert_exporter": "python",
   "pygments_lexer": "ipython3",
   "version": "3.10.16"
  }
 },
 "nbformat": 4,
 "nbformat_minor": 4
}
