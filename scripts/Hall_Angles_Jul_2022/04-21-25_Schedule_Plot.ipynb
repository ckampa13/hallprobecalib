{
 "cells": [
  {
   "cell_type": "markdown",
   "id": "2060bd6f-96c1-453b-af79-a3fee5b09d91",
   "metadata": {},
   "source": [
    "# Background"
   ]
  },
  {
   "cell_type": "code",
   "execution_count": null,
   "id": "6dcdd881-7d7a-4e63-8321-7e4ca33337e5",
   "metadata": {},
   "outputs": [],
   "source": []
  },
  {
   "cell_type": "markdown",
   "id": "f558b739-2a9c-4aa1-b816-5f326e2d0ee4",
   "metadata": {},
   "source": [
    "# Imports"
   ]
  },
  {
   "cell_type": "code",
   "execution_count": 401,
   "id": "65290825-1360-49f1-9b0f-214ff28d0e44",
   "metadata": {},
   "outputs": [],
   "source": [
    "from datetime import datetime, timedelta\n",
    "from dateutil import parser\n",
    "import numpy as np\n",
    "import pandas as pd\n",
    "import matplotlib.pyplot as plt\n",
    "%matplotlib inline\n",
    "\n",
    "from plotting import config_plots\n",
    "config_plots()"
   ]
  },
  {
   "cell_type": "markdown",
   "id": "2dc4a05b-2fb2-4eed-bb65-82b32be9b636",
   "metadata": {},
   "source": [
    "# Functions"
   ]
  },
  {
   "cell_type": "code",
   "execution_count": null,
   "id": "85623720-f8ce-4955-bbee-4c63752e9650",
   "metadata": {},
   "outputs": [],
   "source": []
  },
  {
   "cell_type": "markdown",
   "id": "c1624d9f-0f27-4e31-8c14-a6d7bfbb3944",
   "metadata": {},
   "source": [
    "# Main"
   ]
  },
  {
   "cell_type": "markdown",
   "id": "738141dd-30a1-4b13-ade1-adab048bc599",
   "metadata": {},
   "source": [
    "## Schedule / Progress Plot"
   ]
  },
  {
   "cell_type": "code",
   "execution_count": 499,
   "id": "93130f90-fe0e-4bae-9392-13b348a4e059",
   "metadata": {},
   "outputs": [],
   "source": [
    "sheet_id = '1EzbKnFX4WIXyA44qGYbzsQWjBDsja9BSYjaAtJX03Z0'\n",
    "gid = '0' # first sheet\n",
    "url = f'https://docs.google.com/spreadsheets/d/{sheet_id}/export?format=csv&gid={gid}'"
   ]
  },
  {
   "cell_type": "code",
   "execution_count": 500,
   "id": "e37c1fd4-70d7-4123-85a7-5d63b77d7a11",
   "metadata": {},
   "outputs": [],
   "source": [
    "df = pd.read_csv(url)"
   ]
  },
  {
   "cell_type": "code",
   "execution_count": 501,
   "id": "94547e2f-cd0b-410f-8ee4-5efc5d74828d",
   "metadata": {},
   "outputs": [],
   "source": [
    "# dates\n",
    "df.loc[:,'ExSched'] = df.loc[:,'Example Schedule']\n",
    "dates = [parser.parse(row.ExSched) for row in df.itertuples()]\n",
    "df['ExSched_dt'] = pd.to_datetime(dates)\n",
    "df.loc[:,'ActSched'] = df.loc[:,'Date of change']\n",
    "#dates_change = [parser.parse(row.ActSched) for row in df.itertuples()]\n",
    "dates_change = []\n",
    "for row in df.itertuples():\n",
    "    try:\n",
    "        dates_change.append(parser.parse(row.ActSched))\n",
    "    except:\n",
    "        dates_change.append(parser.parse('01/01/2200'))\n",
    "df['ActSched_dt'] = pd.to_datetime(dates_change)"
   ]
  },
  {
   "cell_type": "code",
   "execution_count": 502,
   "id": "d3200b2f-0d88-4315-b27e-b259981d9c68",
   "metadata": {},
   "outputs": [
    {
     "data": {
      "text/html": [
       "<div>\n",
       "<style scoped>\n",
       "    .dataframe tbody tr th:only-of-type {\n",
       "        vertical-align: middle;\n",
       "    }\n",
       "\n",
       "    .dataframe tbody tr th {\n",
       "        vertical-align: top;\n",
       "    }\n",
       "\n",
       "    .dataframe thead th {\n",
       "        text-align: right;\n",
       "    }\n",
       "</style>\n",
       "<table border=\"1\" class=\"dataframe\">\n",
       "  <thead>\n",
       "    <tr style=\"text-align: right;\">\n",
       "      <th></th>\n",
       "      <th>Power Supply ADC</th>\n",
       "      <th>Polarity (+/-)</th>\n",
       "      <th>Estimated Current [A]</th>\n",
       "      <th>Estimated Field [T]</th>\n",
       "      <th>Which NMR?</th>\n",
       "      <th>Example Schedule</th>\n",
       "      <th>Date of change</th>\n",
       "      <th>Time of change</th>\n",
       "      <th>Actual Current [A]</th>\n",
       "      <th>Actual Field [T]</th>\n",
       "      <th>Scans Done?</th>\n",
       "      <th>Chiller Temp</th>\n",
       "      <th>Notes</th>\n",
       "      <th>ExSched</th>\n",
       "      <th>ExSched_dt</th>\n",
       "      <th>ActSched</th>\n",
       "      <th>ActSched_dt</th>\n",
       "    </tr>\n",
       "  </thead>\n",
       "  <tbody>\n",
       "    <tr>\n",
       "      <th>0</th>\n",
       "      <td>410,000</td>\n",
       "      <td>+</td>\n",
       "      <td>131.2</td>\n",
       "      <td>0.75</td>\n",
       "      <td>High Field</td>\n",
       "      <td>4/16</td>\n",
       "      <td>04/16/25</td>\n",
       "      <td>16:00</td>\n",
       "      <td>131.2</td>\n",
       "      <td>0.751</td>\n",
       "      <td>y</td>\n",
       "      <td>40 deg F</td>\n",
       "      <td>NaN</td>\n",
       "      <td>4/16</td>\n",
       "      <td>2025-04-16</td>\n",
       "      <td>04/16/25</td>\n",
       "      <td>2025-04-16</td>\n",
       "    </tr>\n",
       "    <tr>\n",
       "      <th>1</th>\n",
       "      <td>500,000</td>\n",
       "      <td>+</td>\n",
       "      <td>160.0</td>\n",
       "      <td>0.91</td>\n",
       "      <td>High Field</td>\n",
       "      <td>4/18</td>\n",
       "      <td>04/18/25</td>\n",
       "      <td>15:50</td>\n",
       "      <td>160.0</td>\n",
       "      <td>0.910</td>\n",
       "      <td>y</td>\n",
       "      <td>55 deg F</td>\n",
       "      <td>NaN</td>\n",
       "      <td>4/18</td>\n",
       "      <td>2025-04-18</td>\n",
       "      <td>04/18/25</td>\n",
       "      <td>2025-04-18</td>\n",
       "    </tr>\n",
       "    <tr>\n",
       "      <th>2</th>\n",
       "      <td>550,000</td>\n",
       "      <td>+</td>\n",
       "      <td>176.1</td>\n",
       "      <td>0.98</td>\n",
       "      <td>High Field</td>\n",
       "      <td>4/22</td>\n",
       "      <td>04/22/25</td>\n",
       "      <td>17:17</td>\n",
       "      <td>176.0</td>\n",
       "      <td>0.980</td>\n",
       "      <td>y</td>\n",
       "      <td>55 deg F</td>\n",
       "      <td>NaN</td>\n",
       "      <td>4/22</td>\n",
       "      <td>2025-04-22</td>\n",
       "      <td>04/22/25</td>\n",
       "      <td>2025-04-22</td>\n",
       "    </tr>\n",
       "    <tr>\n",
       "      <th>3</th>\n",
       "      <td>650,000</td>\n",
       "      <td>+</td>\n",
       "      <td>208.1</td>\n",
       "      <td>1.11</td>\n",
       "      <td>High Field</td>\n",
       "      <td>4/23</td>\n",
       "      <td>04/23/25</td>\n",
       "      <td>18:02</td>\n",
       "      <td>208.1</td>\n",
       "      <td>1.110</td>\n",
       "      <td>y</td>\n",
       "      <td>55 deg F</td>\n",
       "      <td>NaN</td>\n",
       "      <td>4/23</td>\n",
       "      <td>2025-04-23</td>\n",
       "      <td>04/23/25</td>\n",
       "      <td>2025-04-23</td>\n",
       "    </tr>\n",
       "    <tr>\n",
       "      <th>4</th>\n",
       "      <td>750,000</td>\n",
       "      <td>+</td>\n",
       "      <td>240.1</td>\n",
       "      <td>1.21</td>\n",
       "      <td>High Field</td>\n",
       "      <td>4/24</td>\n",
       "      <td>04/24/25</td>\n",
       "      <td>16:50</td>\n",
       "      <td>240.1</td>\n",
       "      <td>1.210</td>\n",
       "      <td>y</td>\n",
       "      <td>40 deg F</td>\n",
       "      <td>NaN</td>\n",
       "      <td>4/24</td>\n",
       "      <td>2025-04-24</td>\n",
       "      <td>04/24/25</td>\n",
       "      <td>2025-04-24</td>\n",
       "    </tr>\n",
       "    <tr>\n",
       "      <th>5</th>\n",
       "      <td>880,000</td>\n",
       "      <td>+</td>\n",
       "      <td>281.7</td>\n",
       "      <td>1.31</td>\n",
       "      <td>High Field</td>\n",
       "      <td>4/25</td>\n",
       "      <td>04/28/25</td>\n",
       "      <td>9:10</td>\n",
       "      <td>281.7</td>\n",
       "      <td>1.310</td>\n",
       "      <td>y</td>\n",
       "      <td>40 deg F</td>\n",
       "      <td>WH closed 4/28</td>\n",
       "      <td>4/25</td>\n",
       "      <td>2025-04-25</td>\n",
       "      <td>04/28/25</td>\n",
       "      <td>2025-04-28</td>\n",
       "    </tr>\n",
       "    <tr>\n",
       "      <th>6</th>\n",
       "      <td>880,000</td>\n",
       "      <td>-</td>\n",
       "      <td>-281.7</td>\n",
       "      <td>1.31</td>\n",
       "      <td>High Field</td>\n",
       "      <td>4/28</td>\n",
       "      <td>04/29/25</td>\n",
       "      <td>9:39</td>\n",
       "      <td>-281.7</td>\n",
       "      <td>1.310</td>\n",
       "      <td>y</td>\n",
       "      <td>40 deg F</td>\n",
       "      <td>NaN</td>\n",
       "      <td>4/28</td>\n",
       "      <td>2025-04-28</td>\n",
       "      <td>04/29/25</td>\n",
       "      <td>2025-04-29</td>\n",
       "    </tr>\n",
       "    <tr>\n",
       "      <th>7</th>\n",
       "      <td>750,000</td>\n",
       "      <td>-</td>\n",
       "      <td>-240.1</td>\n",
       "      <td>1.21</td>\n",
       "      <td>High Field</td>\n",
       "      <td>4/29</td>\n",
       "      <td>4/30/25</td>\n",
       "      <td>9:39</td>\n",
       "      <td>-240.1</td>\n",
       "      <td>1.210</td>\n",
       "      <td>y</td>\n",
       "      <td>40 deg F</td>\n",
       "      <td>NaN</td>\n",
       "      <td>4/29</td>\n",
       "      <td>2025-04-29</td>\n",
       "      <td>4/30/25</td>\n",
       "      <td>2025-04-30</td>\n",
       "    </tr>\n",
       "    <tr>\n",
       "      <th>8</th>\n",
       "      <td>650,000</td>\n",
       "      <td>-</td>\n",
       "      <td>-208.1</td>\n",
       "      <td>1.11</td>\n",
       "      <td>High Field</td>\n",
       "      <td>4/30</td>\n",
       "      <td>05/01/25</td>\n",
       "      <td>16:34</td>\n",
       "      <td>-208.1</td>\n",
       "      <td>1.110</td>\n",
       "      <td>y</td>\n",
       "      <td>40 deg F</td>\n",
       "      <td>NaN</td>\n",
       "      <td>4/30</td>\n",
       "      <td>2025-04-30</td>\n",
       "      <td>05/01/25</td>\n",
       "      <td>2025-05-01</td>\n",
       "    </tr>\n",
       "    <tr>\n",
       "      <th>9</th>\n",
       "      <td>550,000</td>\n",
       "      <td>-</td>\n",
       "      <td>-176.1</td>\n",
       "      <td>0.98</td>\n",
       "      <td>High Field</td>\n",
       "      <td>5/1</td>\n",
       "      <td>05/02/25</td>\n",
       "      <td>14:07</td>\n",
       "      <td>-176.1</td>\n",
       "      <td>0.980</td>\n",
       "      <td>y</td>\n",
       "      <td>55 deg F</td>\n",
       "      <td>NaN</td>\n",
       "      <td>5/1</td>\n",
       "      <td>2025-05-01</td>\n",
       "      <td>05/02/25</td>\n",
       "      <td>2025-05-02</td>\n",
       "    </tr>\n",
       "    <tr>\n",
       "      <th>10</th>\n",
       "      <td>500,000</td>\n",
       "      <td>-</td>\n",
       "      <td>-160.0</td>\n",
       "      <td>0.91</td>\n",
       "      <td>High Field</td>\n",
       "      <td>5/6</td>\n",
       "      <td>05/05/25</td>\n",
       "      <td>10:21</td>\n",
       "      <td>-160.1</td>\n",
       "      <td>0.910</td>\n",
       "      <td>y</td>\n",
       "      <td>55 deg F</td>\n",
       "      <td>NaN</td>\n",
       "      <td>5/6</td>\n",
       "      <td>2025-05-06</td>\n",
       "      <td>05/05/25</td>\n",
       "      <td>2025-05-05</td>\n",
       "    </tr>\n",
       "    <tr>\n",
       "      <th>11</th>\n",
       "      <td>410,000</td>\n",
       "      <td>-</td>\n",
       "      <td>-131.2</td>\n",
       "      <td>0.75</td>\n",
       "      <td>High Field</td>\n",
       "      <td>5/7</td>\n",
       "      <td>05/06/2025</td>\n",
       "      <td>12:00</td>\n",
       "      <td>-131.2</td>\n",
       "      <td>0.752</td>\n",
       "      <td>y</td>\n",
       "      <td>55 deg F</td>\n",
       "      <td>Thomas changed the current (Jinglu waiting for...</td>\n",
       "      <td>5/7</td>\n",
       "      <td>2025-05-07</td>\n",
       "      <td>05/06/2025</td>\n",
       "      <td>2025-05-06</td>\n",
       "    </tr>\n",
       "    <tr>\n",
       "      <th>12</th>\n",
       "      <td>330,000</td>\n",
       "      <td>+</td>\n",
       "      <td>105.0</td>\n",
       "      <td>0.61</td>\n",
       "      <td>Low Field</td>\n",
       "      <td>5/8</td>\n",
       "      <td>05/09/2025</td>\n",
       "      <td>12:15</td>\n",
       "      <td>105.6</td>\n",
       "      <td>0.610</td>\n",
       "      <td>y</td>\n",
       "      <td>66 deg F</td>\n",
       "      <td>Thomas changed the current and swapped probes....</td>\n",
       "      <td>5/8</td>\n",
       "      <td>2025-05-08</td>\n",
       "      <td>05/09/2025</td>\n",
       "      <td>2025-05-09</td>\n",
       "    </tr>\n",
       "    <tr>\n",
       "      <th>13</th>\n",
       "      <td>250,000</td>\n",
       "      <td>+</td>\n",
       "      <td>80.0</td>\n",
       "      <td>0.46</td>\n",
       "      <td>Low Field</td>\n",
       "      <td>5/9</td>\n",
       "      <td>05/12/2025</td>\n",
       "      <td>9:21</td>\n",
       "      <td>80.0</td>\n",
       "      <td>0.460</td>\n",
       "      <td>y</td>\n",
       "      <td>66 deg F</td>\n",
       "      <td>NaN</td>\n",
       "      <td>5/9</td>\n",
       "      <td>2025-05-09</td>\n",
       "      <td>05/12/2025</td>\n",
       "      <td>2025-05-12</td>\n",
       "    </tr>\n",
       "    <tr>\n",
       "      <th>14</th>\n",
       "      <td>170,000</td>\n",
       "      <td>+</td>\n",
       "      <td>54.4</td>\n",
       "      <td>0.31</td>\n",
       "      <td>Low Field</td>\n",
       "      <td>5/12</td>\n",
       "      <td>05/13/2025</td>\n",
       "      <td>9:37</td>\n",
       "      <td>54.4</td>\n",
       "      <td>0.310</td>\n",
       "      <td>y</td>\n",
       "      <td>66 deg F</td>\n",
       "      <td>NaN</td>\n",
       "      <td>5/12</td>\n",
       "      <td>2025-05-12</td>\n",
       "      <td>05/13/2025</td>\n",
       "      <td>2025-05-13</td>\n",
       "    </tr>\n",
       "    <tr>\n",
       "      <th>15</th>\n",
       "      <td>330,000</td>\n",
       "      <td>-</td>\n",
       "      <td>-105.0</td>\n",
       "      <td>0.61</td>\n",
       "      <td>Low Field</td>\n",
       "      <td>5/13</td>\n",
       "      <td>05/14/2025</td>\n",
       "      <td>9:20</td>\n",
       "      <td>-105.6</td>\n",
       "      <td>0.610</td>\n",
       "      <td>y</td>\n",
       "      <td>66 deg F</td>\n",
       "      <td>NaN</td>\n",
       "      <td>5/13</td>\n",
       "      <td>2025-05-13</td>\n",
       "      <td>05/14/2025</td>\n",
       "      <td>2025-05-14</td>\n",
       "    </tr>\n",
       "    <tr>\n",
       "      <th>16</th>\n",
       "      <td>250,000</td>\n",
       "      <td>-</td>\n",
       "      <td>-80.0</td>\n",
       "      <td>0.46</td>\n",
       "      <td>Low Field</td>\n",
       "      <td>5/14</td>\n",
       "      <td>05/15/2025</td>\n",
       "      <td>9:58</td>\n",
       "      <td>-80.0</td>\n",
       "      <td>0.460</td>\n",
       "      <td>y</td>\n",
       "      <td>66 deg F</td>\n",
       "      <td>NaN</td>\n",
       "      <td>5/14</td>\n",
       "      <td>2025-05-14</td>\n",
       "      <td>05/15/2025</td>\n",
       "      <td>2025-05-15</td>\n",
       "    </tr>\n",
       "    <tr>\n",
       "      <th>17</th>\n",
       "      <td>170,000</td>\n",
       "      <td>-</td>\n",
       "      <td>-54.4</td>\n",
       "      <td>0.31</td>\n",
       "      <td>Low Field</td>\n",
       "      <td>5/15</td>\n",
       "      <td>05/16/2025</td>\n",
       "      <td>9:29</td>\n",
       "      <td>-54.4</td>\n",
       "      <td>0.310</td>\n",
       "      <td>y</td>\n",
       "      <td>66 deg F</td>\n",
       "      <td>Motor axis 1 failed at the end of this measure...</td>\n",
       "      <td>5/15</td>\n",
       "      <td>2025-05-15</td>\n",
       "      <td>05/16/2025</td>\n",
       "      <td>2025-05-16</td>\n",
       "    </tr>\n",
       "    <tr>\n",
       "      <th>18</th>\n",
       "      <td>410,000</td>\n",
       "      <td>+</td>\n",
       "      <td>131.2</td>\n",
       "      <td>0.75</td>\n",
       "      <td>High Field</td>\n",
       "      <td>5/16</td>\n",
       "      <td>05/20/2025</td>\n",
       "      <td>16:26</td>\n",
       "      <td>131.2</td>\n",
       "      <td>0.753</td>\n",
       "      <td>y</td>\n",
       "      <td>55 deg F</td>\n",
       "      <td>Repeat of first current for long timescale rep...</td>\n",
       "      <td>5/16</td>\n",
       "      <td>2025-05-16</td>\n",
       "      <td>05/20/2025</td>\n",
       "      <td>2025-05-20</td>\n",
       "    </tr>\n",
       "    <tr>\n",
       "      <th>19</th>\n",
       "      <td>NaN</td>\n",
       "      <td>NaN</td>\n",
       "      <td>NaN</td>\n",
       "      <td>NaN</td>\n",
       "      <td>NaN</td>\n",
       "      <td>5/19</td>\n",
       "      <td>05/21/2025</td>\n",
       "      <td>14:30</td>\n",
       "      <td>NaN</td>\n",
       "      <td>NaN</td>\n",
       "      <td>NaN</td>\n",
       "      <td>NaN</td>\n",
       "      <td>NaN</td>\n",
       "      <td>5/19</td>\n",
       "      <td>2025-05-19</td>\n",
       "      <td>05/21/2025</td>\n",
       "      <td>2025-05-21</td>\n",
       "    </tr>\n",
       "  </tbody>\n",
       "</table>\n",
       "</div>"
      ],
      "text/plain": [
       "   Power Supply ADC Polarity (+/-)  Estimated Current [A]  \\\n",
       "0           410,000              +                  131.2   \n",
       "1           500,000              +                  160.0   \n",
       "2           550,000              +                  176.1   \n",
       "3           650,000              +                  208.1   \n",
       "4           750,000              +                  240.1   \n",
       "5           880,000              +                  281.7   \n",
       "6           880,000              -                 -281.7   \n",
       "7           750,000              -                 -240.1   \n",
       "8           650,000              -                 -208.1   \n",
       "9           550,000              -                 -176.1   \n",
       "10          500,000              -                 -160.0   \n",
       "11          410,000              -                 -131.2   \n",
       "12          330,000              +                  105.0   \n",
       "13          250,000              +                   80.0   \n",
       "14          170,000              +                   54.4   \n",
       "15          330,000              -                 -105.0   \n",
       "16          250,000              -                  -80.0   \n",
       "17          170,000              -                  -54.4   \n",
       "18          410,000              +                  131.2   \n",
       "19              NaN            NaN                    NaN   \n",
       "\n",
       "    Estimated Field [T]  Which NMR? Example Schedule Date of change  \\\n",
       "0                  0.75  High Field             4/16       04/16/25   \n",
       "1                  0.91  High Field             4/18       04/18/25   \n",
       "2                  0.98  High Field             4/22       04/22/25   \n",
       "3                  1.11  High Field             4/23       04/23/25   \n",
       "4                  1.21  High Field             4/24       04/24/25   \n",
       "5                  1.31  High Field             4/25       04/28/25   \n",
       "6                  1.31  High Field             4/28       04/29/25   \n",
       "7                  1.21  High Field             4/29        4/30/25   \n",
       "8                  1.11  High Field             4/30       05/01/25   \n",
       "9                  0.98  High Field              5/1       05/02/25   \n",
       "10                 0.91  High Field              5/6       05/05/25   \n",
       "11                 0.75  High Field              5/7     05/06/2025   \n",
       "12                 0.61   Low Field              5/8     05/09/2025   \n",
       "13                 0.46   Low Field              5/9     05/12/2025   \n",
       "14                 0.31   Low Field             5/12     05/13/2025   \n",
       "15                 0.61   Low Field             5/13     05/14/2025   \n",
       "16                 0.46   Low Field             5/14     05/15/2025   \n",
       "17                 0.31   Low Field             5/15     05/16/2025   \n",
       "18                 0.75  High Field             5/16     05/20/2025   \n",
       "19                  NaN         NaN             5/19     05/21/2025   \n",
       "\n",
       "   Time of change  Actual Current [A]  Actual Field [T] Scans Done?  \\\n",
       "0           16:00               131.2             0.751           y   \n",
       "1           15:50               160.0             0.910           y   \n",
       "2           17:17               176.0             0.980           y   \n",
       "3           18:02               208.1             1.110           y   \n",
       "4           16:50               240.1             1.210           y   \n",
       "5            9:10               281.7             1.310           y   \n",
       "6            9:39              -281.7             1.310           y   \n",
       "7            9:39              -240.1             1.210           y   \n",
       "8           16:34              -208.1             1.110           y   \n",
       "9           14:07              -176.1             0.980           y   \n",
       "10          10:21              -160.1             0.910           y   \n",
       "11          12:00              -131.2             0.752           y   \n",
       "12          12:15               105.6             0.610           y   \n",
       "13           9:21                80.0             0.460           y   \n",
       "14           9:37                54.4             0.310           y   \n",
       "15           9:20              -105.6             0.610           y   \n",
       "16           9:58               -80.0             0.460           y   \n",
       "17           9:29               -54.4             0.310           y   \n",
       "18          16:26               131.2             0.753           y   \n",
       "19          14:30                 NaN               NaN         NaN   \n",
       "\n",
       "   Chiller Temp                                              Notes ExSched  \\\n",
       "0      40 deg F                                                NaN    4/16   \n",
       "1      55 deg F                                                NaN    4/18   \n",
       "2      55 deg F                                                NaN    4/22   \n",
       "3      55 deg F                                                NaN    4/23   \n",
       "4      40 deg F                                                NaN    4/24   \n",
       "5      40 deg F                                     WH closed 4/28    4/25   \n",
       "6      40 deg F                                                NaN    4/28   \n",
       "7      40 deg F                                                NaN    4/29   \n",
       "8      40 deg F                                                NaN    4/30   \n",
       "9      55 deg F                                                NaN     5/1   \n",
       "10     55 deg F                                                NaN     5/6   \n",
       "11     55 deg F  Thomas changed the current (Jinglu waiting for...     5/7   \n",
       "12     66 deg F  Thomas changed the current and swapped probes....     5/8   \n",
       "13     66 deg F                                                NaN     5/9   \n",
       "14     66 deg F                                                NaN    5/12   \n",
       "15     66 deg F                                                NaN    5/13   \n",
       "16     66 deg F                                                NaN    5/14   \n",
       "17     66 deg F  Motor axis 1 failed at the end of this measure...    5/15   \n",
       "18     55 deg F  Repeat of first current for long timescale rep...    5/16   \n",
       "19          NaN                                                NaN    5/19   \n",
       "\n",
       "   ExSched_dt    ActSched ActSched_dt  \n",
       "0  2025-04-16    04/16/25  2025-04-16  \n",
       "1  2025-04-18    04/18/25  2025-04-18  \n",
       "2  2025-04-22    04/22/25  2025-04-22  \n",
       "3  2025-04-23    04/23/25  2025-04-23  \n",
       "4  2025-04-24    04/24/25  2025-04-24  \n",
       "5  2025-04-25    04/28/25  2025-04-28  \n",
       "6  2025-04-28    04/29/25  2025-04-29  \n",
       "7  2025-04-29     4/30/25  2025-04-30  \n",
       "8  2025-04-30    05/01/25  2025-05-01  \n",
       "9  2025-05-01    05/02/25  2025-05-02  \n",
       "10 2025-05-06    05/05/25  2025-05-05  \n",
       "11 2025-05-07  05/06/2025  2025-05-06  \n",
       "12 2025-05-08  05/09/2025  2025-05-09  \n",
       "13 2025-05-09  05/12/2025  2025-05-12  \n",
       "14 2025-05-12  05/13/2025  2025-05-13  \n",
       "15 2025-05-13  05/14/2025  2025-05-14  \n",
       "16 2025-05-14  05/15/2025  2025-05-15  \n",
       "17 2025-05-15  05/16/2025  2025-05-16  \n",
       "18 2025-05-16  05/20/2025  2025-05-20  \n",
       "19 2025-05-19  05/21/2025  2025-05-21  "
      ]
     },
     "execution_count": 502,
     "metadata": {},
     "output_type": "execute_result"
    }
   ],
   "source": [
    "df"
   ]
  },
  {
   "cell_type": "code",
   "execution_count": 503,
   "id": "d6cd26b0-e854-4039-afeb-f1e971de8a46",
   "metadata": {},
   "outputs": [],
   "source": [
    "t0_test = np.datetime64(parser.parse('04/22'))"
   ]
  },
  {
   "cell_type": "code",
   "execution_count": 504,
   "id": "3f9a6c24-cb4d-4fe0-8499-cf07bb916af6",
   "metadata": {},
   "outputs": [
    {
     "data": {
      "text/plain": [
       "numpy.datetime64('2025-04-22T00:00:00.000000')"
      ]
     },
     "execution_count": 504,
     "metadata": {},
     "output_type": "execute_result"
    }
   ],
   "source": [
    "t0_test"
   ]
  },
  {
   "cell_type": "code",
   "execution_count": 505,
   "id": "56569385-30d9-4b02-bbd5-7aae521e5920",
   "metadata": {},
   "outputs": [
    {
     "data": {
      "text/plain": [
       "2"
      ]
     },
     "execution_count": 505,
     "metadata": {},
     "output_type": "execute_result"
    }
   ],
   "source": [
    "(df.ActSched_dt < t0_test).sum()"
   ]
  },
  {
   "cell_type": "code",
   "execution_count": null,
   "id": "a4cc6a8b-f32f-49aa-baa6-740f660c6926",
   "metadata": {},
   "outputs": [],
   "source": []
  },
  {
   "cell_type": "code",
   "execution_count": 506,
   "id": "1ae40601-575a-475b-bf1b-01a16f6abeda",
   "metadata": {},
   "outputs": [
    {
     "data": {
      "text/plain": [
       "Index(['Power Supply ADC', 'Polarity (+/-)', 'Estimated Current [A]',\n",
       "       'Estimated Field [T]', 'Which NMR?', 'Example Schedule',\n",
       "       'Date of change', 'Time of change', 'Actual Current [A]',\n",
       "       'Actual Field [T]', 'Scans Done?', 'Chiller Temp', 'Notes', 'ExSched',\n",
       "       'ExSched_dt', 'ActSched', 'ActSched_dt'],\n",
       "      dtype='object')"
      ]
     },
     "execution_count": 506,
     "metadata": {},
     "output_type": "execute_result"
    }
   ],
   "source": [
    "df.columns"
   ]
  },
  {
   "cell_type": "code",
   "execution_count": 507,
   "id": "3d121672-77a0-4ab7-929f-9bf75eef5470",
   "metadata": {},
   "outputs": [],
   "source": [
    "# modify to get step values\n",
    "t_init = np.datetime64(parser.parse('04/14/25')) # MONDAY\n",
    "exsched = df.ExSched_dt.values\n",
    "exsched_plot = np.concatenate([[t_init]]+[[e - np.timedelta64(1, 's'), e] for e in exsched]+\n",
    "                             [[exsched[-1]+np.timedelta64(1, 'D'), exsched[-1]+np.timedelta64(2, 'D'),\n",
    "#                                exsched[-1]+np.timedelta64(2, 'D'), exsched[-1]+np.timedelta64(3, 'D')\n",
    "]])\n",
    "#n_complete_plot = np.concatenate([[0.]]+[[i-1, i] for i in df.index]+[[df.index.max(), df.index.max(), df.index.max()+1, df.index.max()+1]])\n",
    "n_complete_plot = np.concatenate([[0.]]+[[i-1, i] for i in df.index]+[[df.index.max(), df.index.max()]])\n",
    "n_complete_plot[n_complete_plot<0] = 0\n",
    "# exsched_plot = np.concatenate([[e, e] for e in exsched])"
   ]
  },
  {
   "cell_type": "code",
   "execution_count": 516,
   "id": "fc39db74-b4c5-472c-890e-93a207c9a065",
   "metadata": {},
   "outputs": [],
   "source": [
    "# actual completed based on when we change the current\n",
    "n_complete_actual = []\n",
    "everyday0 = np.arange(exsched_plot[0], exsched_plot[-1]+1, dtype='datetime64[D]') - np.timedelta64(1, 's')\n",
    "everyday1 = np.arange(exsched_plot[0], exsched_plot[-1]+1, dtype='datetime64[D]')\n",
    "# everyday0 = np.arange(exsched_plot[0], exsched_plot[-1], dtype='datetime64[D]') - np.timedelta64(1, 's')\n",
    "# everyday1 = np.arange(exsched_plot[0], exsched_plot[-1], dtype='datetime64[D]')\n",
    "everyday = np.concatenate([[i,j] for i, j in zip(everyday0, everyday1)])\n",
    "for e in everyday:\n",
    "    n_comp = np.maximum(np.sum(df.ActSched_dt <= e) - 1, 0)\n",
    "    n_complete_actual.append(n_comp)\n",
    "n_complete_actual = np.array(n_complete_actual)\n",
    "#m_act = (everyday <= np.datetime64('today'))\n",
    "m_act = (everyday <= np.datetime64('2025-05-23 00:00'))"
   ]
  },
  {
   "cell_type": "code",
   "execution_count": 517,
   "id": "c8ce014d-a512-4f79-9bec-296ea4292514",
   "metadata": {},
   "outputs": [
    {
     "data": {
      "text/plain": [
       "1747612800000000000"
      ]
     },
     "execution_count": 517,
     "metadata": {},
     "output_type": "execute_result"
    }
   ],
   "source": [
    "exsched.astype(datetime)[-1]"
   ]
  },
  {
   "cell_type": "code",
   "execution_count": 518,
   "id": "b05da545-91d8-4dbd-ae7d-fac9bc91916e",
   "metadata": {},
   "outputs": [
    {
     "data": {
      "text/plain": [
       "1747612800000000000"
      ]
     },
     "execution_count": 518,
     "metadata": {},
     "output_type": "execute_result"
    }
   ],
   "source": [
    "exsched[-1].astype(datetime)"
   ]
  },
  {
   "cell_type": "code",
   "execution_count": 519,
   "id": "6613ce42-4b11-400d-9df1-100c0dea59f0",
   "metadata": {
    "scrolled": true
   },
   "outputs": [
    {
     "data": {
      "text/plain": [
       "array(['2025-04-14T00:00:00.000000000', '2025-04-15T23:59:59.000000000',\n",
       "       '2025-04-16T00:00:00.000000000', '2025-04-17T23:59:59.000000000',\n",
       "       '2025-04-18T00:00:00.000000000', '2025-04-21T23:59:59.000000000',\n",
       "       '2025-04-22T00:00:00.000000000', '2025-04-22T23:59:59.000000000',\n",
       "       '2025-04-23T00:00:00.000000000', '2025-04-23T23:59:59.000000000',\n",
       "       '2025-04-24T00:00:00.000000000', '2025-04-24T23:59:59.000000000',\n",
       "       '2025-04-25T00:00:00.000000000', '2025-04-27T23:59:59.000000000',\n",
       "       '2025-04-28T00:00:00.000000000', '2025-04-28T23:59:59.000000000',\n",
       "       '2025-04-29T00:00:00.000000000', '2025-04-29T23:59:59.000000000',\n",
       "       '2025-04-30T00:00:00.000000000', '2025-04-30T23:59:59.000000000',\n",
       "       '2025-05-01T00:00:00.000000000', '2025-05-05T23:59:59.000000000',\n",
       "       '2025-05-06T00:00:00.000000000', '2025-05-06T23:59:59.000000000',\n",
       "       '2025-05-07T00:00:00.000000000', '2025-05-07T23:59:59.000000000',\n",
       "       '2025-05-08T00:00:00.000000000', '2025-05-08T23:59:59.000000000',\n",
       "       '2025-05-09T00:00:00.000000000', '2025-05-11T23:59:59.000000000',\n",
       "       '2025-05-12T00:00:00.000000000', '2025-05-12T23:59:59.000000000',\n",
       "       '2025-05-13T00:00:00.000000000', '2025-05-13T23:59:59.000000000',\n",
       "       '2025-05-14T00:00:00.000000000', '2025-05-14T23:59:59.000000000',\n",
       "       '2025-05-15T00:00:00.000000000', '2025-05-15T23:59:59.000000000',\n",
       "       '2025-05-16T00:00:00.000000000', '2025-05-18T23:59:59.000000000',\n",
       "       '2025-05-19T00:00:00.000000000', '2025-05-20T00:00:00.000000000',\n",
       "       '2025-05-21T00:00:00.000000000'], dtype='datetime64[ns]')"
      ]
     },
     "execution_count": 519,
     "metadata": {},
     "output_type": "execute_result"
    }
   ],
   "source": [
    "exsched_plot"
   ]
  },
  {
   "cell_type": "code",
   "execution_count": 520,
   "id": "69bdbb63-6788-4c50-aece-cd6cc9807508",
   "metadata": {},
   "outputs": [
    {
     "data": {
      "text/plain": [
       "datetime.datetime"
      ]
     },
     "execution_count": 520,
     "metadata": {},
     "output_type": "execute_result"
    }
   ],
   "source": [
    "datetime"
   ]
  },
  {
   "cell_type": "code",
   "execution_count": 521,
   "id": "258b2dc0-ce1b-48ff-89b5-212cc39db4b8",
   "metadata": {},
   "outputs": [
    {
     "data": {
      "text/plain": [
       "array([ 0.,  0.,  0.,  0.,  1.,  1.,  2.,  2.,  3.,  3.,  4.,  4.,  5.,\n",
       "        5.,  6.,  6.,  7.,  7.,  8.,  8.,  9.,  9., 10., 10., 11., 11.,\n",
       "       12., 12., 13., 13., 14., 14., 15., 15., 16., 16., 17., 17., 18.,\n",
       "       18., 19., 19., 19.])"
      ]
     },
     "execution_count": 521,
     "metadata": {},
     "output_type": "execute_result"
    }
   ],
   "source": [
    "n_complete_plot"
   ]
  },
  {
   "cell_type": "code",
   "execution_count": 522,
   "id": "43503e05-f30c-4905-9e6d-f58e62f16ad6",
   "metadata": {},
   "outputs": [
    {
     "data": {
      "text/plain": [
       "numpy.datetime64('2025-05-21T00:00:00.000000000')"
      ]
     },
     "execution_count": 522,
     "metadata": {},
     "output_type": "execute_result"
    }
   ],
   "source": [
    "np.max(exsched_plot)"
   ]
  },
  {
   "cell_type": "code",
   "execution_count": 523,
   "id": "b686df40-4a94-4ec9-a8f6-452d6aae7043",
   "metadata": {},
   "outputs": [
    {
     "data": {
      "text/plain": [
       "<matplotlib.legend.Legend at 0x7fc8633b16c0>"
      ]
     },
     "execution_count": 523,
     "metadata": {},
     "output_type": "execute_result"
    },
    {
     "data": {
      "image/png": "[encoded data removed]",
      "text/plain": [
       "<Figure size 1000x800 with 1 Axes>"
      ]
     },
     "metadata": {},
     "output_type": "display_data"
    }
   ],
   "source": [
    "fig, ax = plt.subplots()\n",
    "\n",
    "ax.plot(exsched_plot, n_complete_plot, color='gray', linewidth=2, label='Projected Schedule', zorder=3)\n",
    "ax.plot(everyday[m_act], n_complete_actual[m_act], 'g--', linewidth=2, label='Realized Schedule', zorder=4)\n",
    "\n",
    "# today\n",
    "#today = np.datetime64('now') # today right now\n",
    "today = np.datetime64('today') # todays date\n",
    "ax.plot(2*[today], [0, np.max(n_complete_plot)], 'r-.', label='Today', zorder=2)\n",
    "\n",
    "# xticks\n",
    "date_ticks = np.arange(exsched_plot[0], exsched_plot[-1]+np.timedelta64(7, 'D'), dtype='datetime64[D]')[::7]\n",
    "ax.set_xticks(date_ticks)\n",
    "ax.tick_params(axis='x', labelrotation=70)\n",
    "\n",
    "# yticks\n",
    "n_comp = np.arange(0, n_complete_plot.max()+1, 1)[::3]\n",
    "ax.set_yticks(n_comp)\n",
    "\n",
    "ax.set_xlabel('Date')\n",
    "ax.set_ylabel('# Current Set Points Completed')\n",
    "ax.set_title('Probe #2 (8E0000000D51483A) Calibration Schedule')\n",
    "ax.legend(loc='upper left')"
   ]
  },
  {
   "cell_type": "code",
   "execution_count": null,
   "id": "78f5411f-e106-4baf-9b14-06a9f47d8b43",
   "metadata": {},
   "outputs": [],
   "source": []
  },
  {
   "cell_type": "code",
   "execution_count": 18,
   "id": "d5a7c829-84ff-4add-b46c-b06ee6e90d85",
   "metadata": {},
   "outputs": [
    {
     "data": {
      "text/plain": [
       "<matplotlib.collections.PathCollection at 0x7fc8706605b0>"
      ]
     },
     "execution_count": 18,
     "metadata": {},
     "output_type": "execute_result"
    },
    {
     "data": {
      "image/png": "[encoded data removed]",
      "text/plain": [
       "<Figure size 1000x800 with 1 Axes>"
      ]
     },
     "metadata": {},
     "output_type": "display_data"
    }
   ],
   "source": [
    "fig, ax = plt.subplots()\n",
    "\n",
    "ax.scatter(df['ExSched_dt'], df.index)"
   ]
  },
  {
   "cell_type": "code",
   "execution_count": null,
   "id": "43e6f18e-1a18-4489-8b54-fcc8d74a2faf",
   "metadata": {},
   "outputs": [],
   "source": []
  },
  {
   "cell_type": "code",
   "execution_count": null,
   "id": "d3392442-e961-4fbd-ad59-58e3b6b940d1",
   "metadata": {},
   "outputs": [],
   "source": []
  }
 ],
 "metadata": {
  "kernelspec": {
   "display_name": "Python [conda env:mu2eBFit]",
   "language": "python",
   "name": "conda-env-mu2eBFit-py"
  },
  "language_info": {
   "codemirror_mode": {
    "name": "ipython",
    "version": 3
   },
   "file_extension": ".py",
   "mimetype": "text/x-python",
   "name": "python",
   "nbconvert_exporter": "python",
   "pygments_lexer": "ipython3",
   "version": "3.10.16"
  }
 },
 "nbformat": 4,
 "nbformat_minor": 5
}
