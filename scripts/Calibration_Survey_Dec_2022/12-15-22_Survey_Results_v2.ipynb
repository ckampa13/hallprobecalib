{
 "cells": [
  {
   "cell_type": "markdown",
   "metadata": {},
   "source": [
    "# Background"
   ]
  },
  {
   "cell_type": "markdown",
   "metadata": {},
   "source": [
    "- Now that I have time information, this notebook will use the more refined processed data."
   ]
  },
  {
   "cell_type": "markdown",
   "metadata": {},
   "source": [
    "# Imports"
   ]
  },
  {
   "cell_type": "code",
   "execution_count": 1,
   "metadata": {
    "scrolled": true
   },
   "outputs": [
    {
     "data": {
      "text/html": [
       "<style>.container { width:100% !important; }</style>"
      ],
      "text/plain": [
       "<IPython.core.display.HTML object>"
      ]
     },
     "metadata": {},
     "output_type": "display_data"
    }
   ],
   "source": [
    "from IPython.display import display, HTML\n",
    "display(HTML(\"<style>.container { width:100% !important; }</style>\"))"
   ]
  },
  {
   "cell_type": "code",
   "execution_count": 2,
   "metadata": {},
   "outputs": [],
   "source": [
    "from copy import deepcopy\n",
    "import numpy as np\n",
    "import pandas as pd\n",
    "import lmfit as lm\n",
    "import plotly.express as px\n",
    "import plotly.graph_objects as go\n",
    "import matplotlib.pyplot as plt\n",
    "%matplotlib inline\n",
    "# %matplotlib notebook\n",
    "\n",
    "# local imports\n",
    "from plotting import config_plots, get_label\n",
    "config_plots()\n",
    "\n",
    "plt.rcParams['axes.facecolor'] = 'white'\n",
    "plt.rcParams['figure.facecolor'] = 'white'\n",
    "\n",
    "from load_slow import load_data\n",
    "from load_survey import *"
   ]
  },
  {
   "cell_type": "code",
   "execution_count": 3,
   "metadata": {},
   "outputs": [],
   "source": [
    "raw_ddir = '/home/ckampa/Dropbox/LogFiles/survey_12-06-22/'\n",
    "survey_ddir = '/home/ckampa/Dropbox/LogFiles/Dec22_Survey_Data/'\n",
    "proc_ddir = 'data/'\n",
    "plot_dir = 'plots/'"
   ]
  },
  {
   "cell_type": "markdown",
   "metadata": {},
   "source": [
    "# Load / Inital Processing"
   ]
  },
  {
   "cell_type": "code",
   "execution_count": 4,
   "metadata": {},
   "outputs": [],
   "source": [
    "# load data\n",
    "data_file = raw_ddir+'2022-12-06 093302slow.txt'\n",
    "group_time_file = raw_ddir+'group_time_table_12-06-22_to_12-08-22.txt'"
   ]
  },
  {
   "cell_type": "code",
   "execution_count": 5,
   "metadata": {},
   "outputs": [],
   "source": [
    "cols = ['Time', 'Magnet Current [A]', 'Magnet Voltage [V]', 'NMR [T]', 'NMR [FFT]',\n",
    "        'SmarAct_Meas_Angle_1', 'SmarAct_Meas_Rotation_Angle_1', 'SmarAct_Meas_Angle_2', 'SmarAct_Meas_Rotation_Angle_2']"
   ]
  },
  {
   "cell_type": "code",
   "execution_count": 6,
   "metadata": {},
   "outputs": [],
   "source": [
    "df_slow = load_data(data_file, header=cols).iloc[1:]"
   ]
  },
  {
   "cell_type": "code",
   "execution_count": 7,
   "metadata": {},
   "outputs": [],
   "source": [
    "df_groups = load_group_df(group_time_file, df_slow)"
   ]
  },
  {
   "cell_type": "code",
   "execution_count": 8,
   "metadata": {},
   "outputs": [],
   "source": [
    "df_meas, df_groups = construct_meas_df(df_groups, survey_ddir)"
   ]
  },
  {
   "cell_type": "code",
   "execution_count": 9,
   "metadata": {},
   "outputs": [
    {
     "data": {
      "text/html": [
       "<div>\n",
       "<style scoped>\n",
       "    .dataframe tbody tr th:only-of-type {\n",
       "        vertical-align: middle;\n",
       "    }\n",
       "\n",
       "    .dataframe tbody tr th {\n",
       "        vertical-align: top;\n",
       "    }\n",
       "\n",
       "    .dataframe thead th {\n",
       "        text-align: right;\n",
       "    }\n",
       "</style>\n",
       "<table border=\"1\" class=\"dataframe\">\n",
       "  <thead>\n",
       "    <tr style=\"text-align: right;\">\n",
       "      <th></th>\n",
       "      <th>Group</th>\n",
       "      <th>Time</th>\n",
       "      <th>seconds_delta</th>\n",
       "      <th>Stage_Removed</th>\n",
       "      <th>SmarAct1_Meas_Deg</th>\n",
       "      <th>SmarAct2_Meas_Deg</th>\n",
       "      <th>SmarAct1_Meas_Rad</th>\n",
       "      <th>SmarAct2_Meas_Rad</th>\n",
       "      <th>Group_Index</th>\n",
       "      <th>can_analyze</th>\n",
       "      <th>all_targets</th>\n",
       "    </tr>\n",
       "    <tr>\n",
       "      <th>Datetime</th>\n",
       "      <th></th>\n",
       "      <th></th>\n",
       "      <th></th>\n",
       "      <th></th>\n",
       "      <th></th>\n",
       "      <th></th>\n",
       "      <th></th>\n",
       "      <th></th>\n",
       "      <th></th>\n",
       "      <th></th>\n",
       "      <th></th>\n",
       "    </tr>\n",
       "  </thead>\n",
       "  <tbody>\n",
       "    <tr>\n",
       "      <th>2022-12-06 14:10:24</th>\n",
       "      <td>Black Plate Repeatability - 10th Installation ...</td>\n",
       "      <td>12-06-22 14:10:24</td>\n",
       "      <td>16639.0</td>\n",
       "      <td>True</td>\n",
       "      <td>357.999999</td>\n",
       "      <td>346.999992</td>\n",
       "      <td>6.248279</td>\n",
       "      <td>6.056292</td>\n",
       "      <td>0</td>\n",
       "      <td>True</td>\n",
       "      <td>True</td>\n",
       "    </tr>\n",
       "    <tr>\n",
       "      <th>2022-12-06 14:20:24</th>\n",
       "      <td>Black Plate Repeatability - 11th Installation</td>\n",
       "      <td>12-06-22 14:20:24</td>\n",
       "      <td>17239.0</td>\n",
       "      <td>True</td>\n",
       "      <td>357.999799</td>\n",
       "      <td>346.999992</td>\n",
       "      <td>6.248275</td>\n",
       "      <td>6.056292</td>\n",
       "      <td>1</td>\n",
       "      <td>True</td>\n",
       "      <td>True</td>\n",
       "    </tr>\n",
       "    <tr>\n",
       "      <th>2022-12-06 14:30:24</th>\n",
       "      <td>Black Plate Repeatability - 12th Installation</td>\n",
       "      <td>12-06-22 14:30:24</td>\n",
       "      <td>17839.0</td>\n",
       "      <td>True</td>\n",
       "      <td>357.999995</td>\n",
       "      <td>346.999993</td>\n",
       "      <td>6.248279</td>\n",
       "      <td>6.056292</td>\n",
       "      <td>2</td>\n",
       "      <td>True</td>\n",
       "      <td>True</td>\n",
       "    </tr>\n",
       "    <tr>\n",
       "      <th>2022-12-06 14:40:24</th>\n",
       "      <td>Black Plate Repeatability - 13th Installation</td>\n",
       "      <td>12-06-22 14:40:24</td>\n",
       "      <td>18439.0</td>\n",
       "      <td>True</td>\n",
       "      <td>357.999995</td>\n",
       "      <td>347.000003</td>\n",
       "      <td>6.248279</td>\n",
       "      <td>6.056293</td>\n",
       "      <td>3</td>\n",
       "      <td>True</td>\n",
       "      <td>True</td>\n",
       "    </tr>\n",
       "    <tr>\n",
       "      <th>2022-12-06 14:50:24</th>\n",
       "      <td>Black Plate Repeatability - 14th Installation</td>\n",
       "      <td>12-06-22 14:50:24</td>\n",
       "      <td>19039.0</td>\n",
       "      <td>True</td>\n",
       "      <td>357.999986</td>\n",
       "      <td>346.999998</td>\n",
       "      <td>6.248278</td>\n",
       "      <td>6.056292</td>\n",
       "      <td>4</td>\n",
       "      <td>True</td>\n",
       "      <td>True</td>\n",
       "    </tr>\n",
       "    <tr>\n",
       "      <th>...</th>\n",
       "      <td>...</td>\n",
       "      <td>...</td>\n",
       "      <td>...</td>\n",
       "      <td>...</td>\n",
       "      <td>...</td>\n",
       "      <td>...</td>\n",
       "      <td>...</td>\n",
       "      <td>...</td>\n",
       "      <td>...</td>\n",
       "      <td>...</td>\n",
       "      <td>...</td>\n",
       "    </tr>\n",
       "    <tr>\n",
       "      <th>2022-12-08 10:02:10</th>\n",
       "      <td>Black Plate Vertical Rotation 90 Degrees C</td>\n",
       "      <td>12-08-22 10:02:10</td>\n",
       "      <td>174545.0</td>\n",
       "      <td>False</td>\n",
       "      <td>357.999997</td>\n",
       "      <td>89.999996</td>\n",
       "      <td>6.248279</td>\n",
       "      <td>1.570796</td>\n",
       "      <td>84</td>\n",
       "      <td>True</td>\n",
       "      <td>True</td>\n",
       "    </tr>\n",
       "    <tr>\n",
       "      <th>2022-12-08 10:05:30</th>\n",
       "      <td>Horizontal  -5 Degrees Vertical 90 Degrees C</td>\n",
       "      <td>12-08-22 10:05:30</td>\n",
       "      <td>174745.0</td>\n",
       "      <td>False</td>\n",
       "      <td>354.999993</td>\n",
       "      <td>89.999989</td>\n",
       "      <td>6.195919</td>\n",
       "      <td>1.570796</td>\n",
       "      <td>85</td>\n",
       "      <td>True</td>\n",
       "      <td>True</td>\n",
       "    </tr>\n",
       "    <tr>\n",
       "      <th>2022-12-08 10:09:49</th>\n",
       "      <td>Black Plate Vertical Rotation 135 Degrees C</td>\n",
       "      <td>12-08-22 10:09:49</td>\n",
       "      <td>175004.0</td>\n",
       "      <td>False</td>\n",
       "      <td>357.999995</td>\n",
       "      <td>134.999997</td>\n",
       "      <td>6.248279</td>\n",
       "      <td>2.356194</td>\n",
       "      <td>86</td>\n",
       "      <td>True</td>\n",
       "      <td>True</td>\n",
       "    </tr>\n",
       "    <tr>\n",
       "      <th>2022-12-08 10:15:06</th>\n",
       "      <td>Black Plate Repeatability - 29th Installation ...</td>\n",
       "      <td>12-08-22 10:15:06</td>\n",
       "      <td>175321.0</td>\n",
       "      <td>False</td>\n",
       "      <td>357.999994</td>\n",
       "      <td>346.999993</td>\n",
       "      <td>6.248279</td>\n",
       "      <td>6.056292</td>\n",
       "      <td>87</td>\n",
       "      <td>True</td>\n",
       "      <td>True</td>\n",
       "    </tr>\n",
       "    <tr>\n",
       "      <th>2022-12-08 10:18:55</th>\n",
       "      <td>Black Plate Repeatability - 29th Installation ...</td>\n",
       "      <td>12-08-22 10:18:55</td>\n",
       "      <td>175550.0</td>\n",
       "      <td>False</td>\n",
       "      <td>357.999995</td>\n",
       "      <td>346.999997</td>\n",
       "      <td>6.248279</td>\n",
       "      <td>6.056292</td>\n",
       "      <td>88</td>\n",
       "      <td>True</td>\n",
       "      <td>True</td>\n",
       "    </tr>\n",
       "  </tbody>\n",
       "</table>\n",
       "<p>89 rows × 11 columns</p>\n",
       "</div>"
      ],
      "text/plain": [
       "                                                                 Group  \\\n",
       "Datetime                                                                 \n",
       "2022-12-06 14:10:24  Black Plate Repeatability - 10th Installation ...   \n",
       "2022-12-06 14:20:24      Black Plate Repeatability - 11th Installation   \n",
       "2022-12-06 14:30:24      Black Plate Repeatability - 12th Installation   \n",
       "2022-12-06 14:40:24      Black Plate Repeatability - 13th Installation   \n",
       "2022-12-06 14:50:24      Black Plate Repeatability - 14th Installation   \n",
       "...                                                                ...   \n",
       "2022-12-08 10:02:10         Black Plate Vertical Rotation 90 Degrees C   \n",
       "2022-12-08 10:05:30       Horizontal  -5 Degrees Vertical 90 Degrees C   \n",
       "2022-12-08 10:09:49        Black Plate Vertical Rotation 135 Degrees C   \n",
       "2022-12-08 10:15:06  Black Plate Repeatability - 29th Installation ...   \n",
       "2022-12-08 10:18:55  Black Plate Repeatability - 29th Installation ...   \n",
       "\n",
       "                                  Time  seconds_delta  Stage_Removed  \\\n",
       "Datetime                                                               \n",
       "2022-12-06 14:10:24  12-06-22 14:10:24        16639.0           True   \n",
       "2022-12-06 14:20:24  12-06-22 14:20:24        17239.0           True   \n",
       "2022-12-06 14:30:24  12-06-22 14:30:24        17839.0           True   \n",
       "2022-12-06 14:40:24  12-06-22 14:40:24        18439.0           True   \n",
       "2022-12-06 14:50:24  12-06-22 14:50:24        19039.0           True   \n",
       "...                                ...            ...            ...   \n",
       "2022-12-08 10:02:10  12-08-22 10:02:10       174545.0          False   \n",
       "2022-12-08 10:05:30  12-08-22 10:05:30       174745.0          False   \n",
       "2022-12-08 10:09:49  12-08-22 10:09:49       175004.0          False   \n",
       "2022-12-08 10:15:06  12-08-22 10:15:06       175321.0          False   \n",
       "2022-12-08 10:18:55  12-08-22 10:18:55       175550.0          False   \n",
       "\n",
       "                     SmarAct1_Meas_Deg  SmarAct2_Meas_Deg  SmarAct1_Meas_Rad  \\\n",
       "Datetime                                                                       \n",
       "2022-12-06 14:10:24         357.999999         346.999992           6.248279   \n",
       "2022-12-06 14:20:24         357.999799         346.999992           6.248275   \n",
       "2022-12-06 14:30:24         357.999995         346.999993           6.248279   \n",
       "2022-12-06 14:40:24         357.999995         347.000003           6.248279   \n",
       "2022-12-06 14:50:24         357.999986         346.999998           6.248278   \n",
       "...                                ...                ...                ...   \n",
       "2022-12-08 10:02:10         357.999997          89.999996           6.248279   \n",
       "2022-12-08 10:05:30         354.999993          89.999989           6.195919   \n",
       "2022-12-08 10:09:49         357.999995         134.999997           6.248279   \n",
       "2022-12-08 10:15:06         357.999994         346.999993           6.248279   \n",
       "2022-12-08 10:18:55         357.999995         346.999997           6.248279   \n",
       "\n",
       "                     SmarAct2_Meas_Rad  Group_Index  can_analyze  all_targets  \n",
       "Datetime                                                                       \n",
       "2022-12-06 14:10:24           6.056292            0         True         True  \n",
       "2022-12-06 14:20:24           6.056292            1         True         True  \n",
       "2022-12-06 14:30:24           6.056292            2         True         True  \n",
       "2022-12-06 14:40:24           6.056293            3         True         True  \n",
       "2022-12-06 14:50:24           6.056292            4         True         True  \n",
       "...                                ...          ...          ...          ...  \n",
       "2022-12-08 10:02:10           1.570796           84         True         True  \n",
       "2022-12-08 10:05:30           1.570796           85         True         True  \n",
       "2022-12-08 10:09:49           2.356194           86         True         True  \n",
       "2022-12-08 10:15:06           6.056292           87         True         True  \n",
       "2022-12-08 10:18:55           6.056292           88         True         True  \n",
       "\n",
       "[89 rows x 11 columns]"
      ]
     },
     "execution_count": 9,
     "metadata": {},
     "output_type": "execute_result"
    }
   ],
   "source": [
    "df_groups"
   ]
  },
  {
   "cell_type": "code",
   "execution_count": 10,
   "metadata": {},
   "outputs": [
    {
     "data": {
      "text/html": [
       "<div>\n",
       "<style scoped>\n",
       "    .dataframe tbody tr th:only-of-type {\n",
       "        vertical-align: middle;\n",
       "    }\n",
       "\n",
       "    .dataframe tbody tr th {\n",
       "        vertical-align: top;\n",
       "    }\n",
       "\n",
       "    .dataframe thead th {\n",
       "        text-align: right;\n",
       "    }\n",
       "</style>\n",
       "<table border=\"1\" class=\"dataframe\">\n",
       "  <thead>\n",
       "    <tr style=\"text-align: right;\">\n",
       "      <th></th>\n",
       "      <th>Group</th>\n",
       "      <th>Time</th>\n",
       "      <th>seconds_delta</th>\n",
       "      <th>Stage_Removed</th>\n",
       "      <th>SmarAct1_Meas_Deg</th>\n",
       "      <th>SmarAct2_Meas_Deg</th>\n",
       "      <th>SmarAct1_Meas_Rad</th>\n",
       "      <th>SmarAct2_Meas_Rad</th>\n",
       "      <th>Group_Index</th>\n",
       "      <th>can_analyze</th>\n",
       "      <th>all_targets</th>\n",
       "    </tr>\n",
       "    <tr>\n",
       "      <th>Datetime</th>\n",
       "      <th></th>\n",
       "      <th></th>\n",
       "      <th></th>\n",
       "      <th></th>\n",
       "      <th></th>\n",
       "      <th></th>\n",
       "      <th></th>\n",
       "      <th></th>\n",
       "      <th></th>\n",
       "      <th></th>\n",
       "      <th></th>\n",
       "    </tr>\n",
       "  </thead>\n",
       "  <tbody>\n",
       "    <tr>\n",
       "      <th>2022-12-07 15:01:35</th>\n",
       "      <td>Black Plate Vertical Rotation 30 Degrees Check</td>\n",
       "      <td>12-07-22 15:01:35</td>\n",
       "      <td>106110.0</td>\n",
       "      <td>False</td>\n",
       "      <td>358.000004</td>\n",
       "      <td>29.999997</td>\n",
       "      <td>6.248279</td>\n",
       "      <td>0.523599</td>\n",
       "      <td>60</td>\n",
       "      <td>False</td>\n",
       "      <td>False</td>\n",
       "    </tr>\n",
       "    <tr>\n",
       "      <th>2022-12-07 15:04:27</th>\n",
       "      <td>Black Plate Horizontal Rotation 0 Degrees Check</td>\n",
       "      <td>12-07-22 15:04:27</td>\n",
       "      <td>106282.0</td>\n",
       "      <td>False</td>\n",
       "      <td>359.999998</td>\n",
       "      <td>347.000000</td>\n",
       "      <td>6.283185</td>\n",
       "      <td>6.056293</td>\n",
       "      <td>61</td>\n",
       "      <td>False</td>\n",
       "      <td>False</td>\n",
       "    </tr>\n",
       "    <tr>\n",
       "      <th>2022-12-07 15:07:20</th>\n",
       "      <td>Black Plate Vertical Rotation 315 Degrees Check</td>\n",
       "      <td>12-07-22 15:07:20</td>\n",
       "      <td>106455.0</td>\n",
       "      <td>False</td>\n",
       "      <td>357.999992</td>\n",
       "      <td>314.999996</td>\n",
       "      <td>6.248279</td>\n",
       "      <td>5.497787</td>\n",
       "      <td>62</td>\n",
       "      <td>False</td>\n",
       "      <td>False</td>\n",
       "    </tr>\n",
       "    <tr>\n",
       "      <th>2022-12-07 15:08:41</th>\n",
       "      <td>Black Plate Vertical Rotation 180 Degrees Check</td>\n",
       "      <td>12-07-22 15:08:41</td>\n",
       "      <td>106536.0</td>\n",
       "      <td>False</td>\n",
       "      <td>357.999997</td>\n",
       "      <td>179.999993</td>\n",
       "      <td>6.248279</td>\n",
       "      <td>3.141593</td>\n",
       "      <td>63</td>\n",
       "      <td>False</td>\n",
       "      <td>False</td>\n",
       "    </tr>\n",
       "    <tr>\n",
       "      <th>2022-12-07 15:10:36</th>\n",
       "      <td>Black Plate Vertical Rotation 90 Degrees Check</td>\n",
       "      <td>12-07-22 15:10:36</td>\n",
       "      <td>106651.0</td>\n",
       "      <td>False</td>\n",
       "      <td>358.000002</td>\n",
       "      <td>90.000001</td>\n",
       "      <td>6.248279</td>\n",
       "      <td>1.570796</td>\n",
       "      <td>64</td>\n",
       "      <td>False</td>\n",
       "      <td>False</td>\n",
       "    </tr>\n",
       "  </tbody>\n",
       "</table>\n",
       "</div>"
      ],
      "text/plain": [
       "                                                               Group  \\\n",
       "Datetime                                                               \n",
       "2022-12-07 15:01:35   Black Plate Vertical Rotation 30 Degrees Check   \n",
       "2022-12-07 15:04:27  Black Plate Horizontal Rotation 0 Degrees Check   \n",
       "2022-12-07 15:07:20  Black Plate Vertical Rotation 315 Degrees Check   \n",
       "2022-12-07 15:08:41  Black Plate Vertical Rotation 180 Degrees Check   \n",
       "2022-12-07 15:10:36   Black Plate Vertical Rotation 90 Degrees Check   \n",
       "\n",
       "                                  Time  seconds_delta  Stage_Removed  \\\n",
       "Datetime                                                               \n",
       "2022-12-07 15:01:35  12-07-22 15:01:35       106110.0          False   \n",
       "2022-12-07 15:04:27  12-07-22 15:04:27       106282.0          False   \n",
       "2022-12-07 15:07:20  12-07-22 15:07:20       106455.0          False   \n",
       "2022-12-07 15:08:41  12-07-22 15:08:41       106536.0          False   \n",
       "2022-12-07 15:10:36  12-07-22 15:10:36       106651.0          False   \n",
       "\n",
       "                     SmarAct1_Meas_Deg  SmarAct2_Meas_Deg  SmarAct1_Meas_Rad  \\\n",
       "Datetime                                                                       \n",
       "2022-12-07 15:01:35         358.000004          29.999997           6.248279   \n",
       "2022-12-07 15:04:27         359.999998         347.000000           6.283185   \n",
       "2022-12-07 15:07:20         357.999992         314.999996           6.248279   \n",
       "2022-12-07 15:08:41         357.999997         179.999993           6.248279   \n",
       "2022-12-07 15:10:36         358.000002          90.000001           6.248279   \n",
       "\n",
       "                     SmarAct2_Meas_Rad  Group_Index  can_analyze  all_targets  \n",
       "Datetime                                                                       \n",
       "2022-12-07 15:01:35           0.523599           60        False        False  \n",
       "2022-12-07 15:04:27           6.056293           61        False        False  \n",
       "2022-12-07 15:07:20           5.497787           62        False        False  \n",
       "2022-12-07 15:08:41           3.141593           63        False        False  \n",
       "2022-12-07 15:10:36           1.570796           64        False        False  "
      ]
     },
     "execution_count": 10,
     "metadata": {},
     "output_type": "execute_result"
    }
   ],
   "source": [
    "df_groups.query(\"not can_analyze\")"
   ]
  },
  {
   "cell_type": "code",
   "execution_count": 11,
   "metadata": {},
   "outputs": [
    {
     "data": {
      "text/html": [
       "<div>\n",
       "<style scoped>\n",
       "    .dataframe tbody tr th:only-of-type {\n",
       "        vertical-align: middle;\n",
       "    }\n",
       "\n",
       "    .dataframe tbody tr th {\n",
       "        vertical-align: top;\n",
       "    }\n",
       "\n",
       "    .dataframe thead th {\n",
       "        text-align: right;\n",
       "    }\n",
       "</style>\n",
       "<table border=\"1\" class=\"dataframe\">\n",
       "  <thead>\n",
       "    <tr style=\"text-align: right;\">\n",
       "      <th></th>\n",
       "      <th>Group</th>\n",
       "      <th>Time</th>\n",
       "      <th>seconds_delta</th>\n",
       "      <th>Stage_Removed</th>\n",
       "      <th>SmarAct1_Meas_Deg</th>\n",
       "      <th>SmarAct2_Meas_Deg</th>\n",
       "      <th>SmarAct1_Meas_Rad</th>\n",
       "      <th>SmarAct2_Meas_Rad</th>\n",
       "      <th>Group_Index</th>\n",
       "      <th>can_analyze</th>\n",
       "      <th>all_targets</th>\n",
       "    </tr>\n",
       "    <tr>\n",
       "      <th>Datetime</th>\n",
       "      <th></th>\n",
       "      <th></th>\n",
       "      <th></th>\n",
       "      <th></th>\n",
       "      <th></th>\n",
       "      <th></th>\n",
       "      <th></th>\n",
       "      <th></th>\n",
       "      <th></th>\n",
       "      <th></th>\n",
       "      <th></th>\n",
       "    </tr>\n",
       "  </thead>\n",
       "  <tbody>\n",
       "    <tr>\n",
       "      <th>2022-12-08 08:49:16</th>\n",
       "      <td>Black Plate Vertical Rotation 135 Degrees Check</td>\n",
       "      <td>12-08-22 08:49:16</td>\n",
       "      <td>170171.0</td>\n",
       "      <td>False</td>\n",
       "      <td>357.999995</td>\n",
       "      <td>134.999996</td>\n",
       "      <td>6.248279</td>\n",
       "      <td>2.356194</td>\n",
       "      <td>67</td>\n",
       "      <td>True</td>\n",
       "      <td>False</td>\n",
       "    </tr>\n",
       "    <tr>\n",
       "      <th>2022-12-08 08:56:16</th>\n",
       "      <td>Black Plate Repeatability - 26th Installation ...</td>\n",
       "      <td>12-08-22 08:56:16</td>\n",
       "      <td>170591.0</td>\n",
       "      <td>True</td>\n",
       "      <td>358.000000</td>\n",
       "      <td>134.999995</td>\n",
       "      <td>6.248279</td>\n",
       "      <td>2.356194</td>\n",
       "      <td>68</td>\n",
       "      <td>True</td>\n",
       "      <td>False</td>\n",
       "    </tr>\n",
       "  </tbody>\n",
       "</table>\n",
       "</div>"
      ],
      "text/plain": [
       "                                                                 Group  \\\n",
       "Datetime                                                                 \n",
       "2022-12-08 08:49:16    Black Plate Vertical Rotation 135 Degrees Check   \n",
       "2022-12-08 08:56:16  Black Plate Repeatability - 26th Installation ...   \n",
       "\n",
       "                                  Time  seconds_delta  Stage_Removed  \\\n",
       "Datetime                                                               \n",
       "2022-12-08 08:49:16  12-08-22 08:49:16       170171.0          False   \n",
       "2022-12-08 08:56:16  12-08-22 08:56:16       170591.0           True   \n",
       "\n",
       "                     SmarAct1_Meas_Deg  SmarAct2_Meas_Deg  SmarAct1_Meas_Rad  \\\n",
       "Datetime                                                                       \n",
       "2022-12-08 08:49:16         357.999995         134.999996           6.248279   \n",
       "2022-12-08 08:56:16         358.000000         134.999995           6.248279   \n",
       "\n",
       "                     SmarAct2_Meas_Rad  Group_Index  can_analyze  all_targets  \n",
       "Datetime                                                                       \n",
       "2022-12-08 08:49:16           2.356194           67         True        False  \n",
       "2022-12-08 08:56:16           2.356194           68         True        False  "
      ]
     },
     "execution_count": 11,
     "metadata": {},
     "output_type": "execute_result"
    }
   ],
   "source": [
    "df_groups.query(\"(can_analyze) and (not all_targets)\")"
   ]
  },
  {
   "cell_type": "code",
   "execution_count": 12,
   "metadata": {},
   "outputs": [],
   "source": [
    "# ONLY LOOK AT GROUPS WE CAN ANALYZE. MAKE SURE I REMEMBER THIS\n",
    "#df_groups = df_groups.query('can_analyze').copy()\n",
    "# OR\n",
    "# ONLY LOOK AT GROUPS WITH ALL TARGETS. MAKE SURE I REMEMBER THIS\n",
    "df_groups = df_groups.query('all_targets').copy()\n",
    "# remove any measurements that aren't in the groups being analyzed\n",
    "df_meas = df_meas[np.isin(df_meas.Group_Index, df_groups.Group_Index)].copy()"
   ]
  },
  {
   "cell_type": "code",
   "execution_count": 13,
   "metadata": {},
   "outputs": [
    {
     "name": "stdout",
     "output_type": "stream",
     "text": [
      "Groups: 82\n",
      "column: norm_v, len of results: 82\n",
      "column: norm_v_x, len of results: 82\n",
      "column: norm_v_y, len of results: 82\n",
      "column: norm_v_z, len of results: 82\n",
      "column: centroid, len of results: 82\n",
      "column: centroid_x, len of results: 82\n",
      "column: centroid_y, len of results: 82\n",
      "column: centroid_z, len of results: 82\n",
      "column: vec_y, len of results: 82\n",
      "column: vec_y_x, len of results: 82\n",
      "column: vec_y_y, len of results: 82\n",
      "column: vec_y_z, len of results: 82\n",
      "column: vec_x, len of results: 82\n",
      "column: vec_x_x, len of results: 82\n",
      "column: vec_x_y, len of results: 82\n",
      "column: vec_x_z, len of results: 82\n"
     ]
    }
   ],
   "source": [
    "# run analysis steps\n",
    "df_groups = analyze_all_groups_plane(df_groups, df_meas)"
   ]
  },
  {
   "cell_type": "code",
   "execution_count": 14,
   "metadata": {},
   "outputs": [
    {
     "data": {
      "text/html": [
       "<div>\n",
       "<style scoped>\n",
       "    .dataframe tbody tr th:only-of-type {\n",
       "        vertical-align: middle;\n",
       "    }\n",
       "\n",
       "    .dataframe tbody tr th {\n",
       "        vertical-align: top;\n",
       "    }\n",
       "\n",
       "    .dataframe thead th {\n",
       "        text-align: right;\n",
       "    }\n",
       "</style>\n",
       "<table border=\"1\" class=\"dataframe\">\n",
       "  <thead>\n",
       "    <tr style=\"text-align: right;\">\n",
       "      <th></th>\n",
       "      <th>Group</th>\n",
       "      <th>Time</th>\n",
       "      <th>seconds_delta</th>\n",
       "      <th>Stage_Removed</th>\n",
       "      <th>SmarAct1_Meas_Deg</th>\n",
       "      <th>SmarAct2_Meas_Deg</th>\n",
       "      <th>SmarAct1_Meas_Rad</th>\n",
       "      <th>SmarAct2_Meas_Rad</th>\n",
       "      <th>Group_Index</th>\n",
       "      <th>can_analyze</th>\n",
       "      <th>...</th>\n",
       "      <th>vec_y_x</th>\n",
       "      <th>vec_y_y</th>\n",
       "      <th>vec_y_z</th>\n",
       "      <th>vec_x</th>\n",
       "      <th>vec_x_x</th>\n",
       "      <th>vec_x_y</th>\n",
       "      <th>vec_x_z</th>\n",
       "      <th>dnorm_v_Rad</th>\n",
       "      <th>dnorm_v_Deg</th>\n",
       "      <th>dcentroid</th>\n",
       "    </tr>\n",
       "    <tr>\n",
       "      <th>Datetime</th>\n",
       "      <th></th>\n",
       "      <th></th>\n",
       "      <th></th>\n",
       "      <th></th>\n",
       "      <th></th>\n",
       "      <th></th>\n",
       "      <th></th>\n",
       "      <th></th>\n",
       "      <th></th>\n",
       "      <th></th>\n",
       "      <th></th>\n",
       "      <th></th>\n",
       "      <th></th>\n",
       "      <th></th>\n",
       "      <th></th>\n",
       "      <th></th>\n",
       "      <th></th>\n",
       "      <th></th>\n",
       "      <th></th>\n",
       "      <th></th>\n",
       "      <th></th>\n",
       "    </tr>\n",
       "  </thead>\n",
       "  <tbody>\n",
       "    <tr>\n",
       "      <th>2022-12-06 14:10:24</th>\n",
       "      <td>Black Plate Repeatability - 10th Installation ...</td>\n",
       "      <td>12-06-22 14:10:24</td>\n",
       "      <td>16639.0</td>\n",
       "      <td>True</td>\n",
       "      <td>357.999999</td>\n",
       "      <td>346.999992</td>\n",
       "      <td>6.248279</td>\n",
       "      <td>6.056292</td>\n",
       "      <td>0</td>\n",
       "      <td>True</td>\n",
       "      <td>...</td>\n",
       "      <td>-0.015366</td>\n",
       "      <td>0.135423</td>\n",
       "      <td>-0.990669</td>\n",
       "      <td>[0.00843592122764007, -0.9907329102590897, -0....</td>\n",
       "      <td>0.008436</td>\n",
       "      <td>-0.990733</td>\n",
       "      <td>-0.135562</td>\n",
       "      <td>0.000000</td>\n",
       "      <td>0.000000</td>\n",
       "      <td>0.000000</td>\n",
       "    </tr>\n",
       "    <tr>\n",
       "      <th>2022-12-06 14:20:24</th>\n",
       "      <td>Black Plate Repeatability - 11th Installation</td>\n",
       "      <td>12-06-22 14:20:24</td>\n",
       "      <td>17239.0</td>\n",
       "      <td>True</td>\n",
       "      <td>357.999799</td>\n",
       "      <td>346.999992</td>\n",
       "      <td>6.248275</td>\n",
       "      <td>6.056292</td>\n",
       "      <td>1</td>\n",
       "      <td>True</td>\n",
       "      <td>...</td>\n",
       "      <td>-0.015961</td>\n",
       "      <td>0.135716</td>\n",
       "      <td>-0.990619</td>\n",
       "      <td>[0.008329827347464023, -0.9906930330086997, -0...</td>\n",
       "      <td>0.008330</td>\n",
       "      <td>-0.990693</td>\n",
       "      <td>-0.135860</td>\n",
       "      <td>0.000591</td>\n",
       "      <td>0.033882</td>\n",
       "      <td>0.003789</td>\n",
       "    </tr>\n",
       "    <tr>\n",
       "      <th>2022-12-06 14:30:24</th>\n",
       "      <td>Black Plate Repeatability - 12th Installation</td>\n",
       "      <td>12-06-22 14:30:24</td>\n",
       "      <td>17839.0</td>\n",
       "      <td>True</td>\n",
       "      <td>357.999995</td>\n",
       "      <td>346.999993</td>\n",
       "      <td>6.248279</td>\n",
       "      <td>6.056292</td>\n",
       "      <td>2</td>\n",
       "      <td>True</td>\n",
       "      <td>...</td>\n",
       "      <td>-0.013790</td>\n",
       "      <td>0.133320</td>\n",
       "      <td>-0.990977</td>\n",
       "      <td>[0.005762044179601676, -0.9910442815196192, -0...</td>\n",
       "      <td>0.005762</td>\n",
       "      <td>-0.991044</td>\n",
       "      <td>-0.133409</td>\n",
       "      <td>0.003124</td>\n",
       "      <td>0.179018</td>\n",
       "      <td>0.014879</td>\n",
       "    </tr>\n",
       "    <tr>\n",
       "      <th>2022-12-06 14:40:24</th>\n",
       "      <td>Black Plate Repeatability - 13th Installation</td>\n",
       "      <td>12-06-22 14:40:24</td>\n",
       "      <td>18439.0</td>\n",
       "      <td>True</td>\n",
       "      <td>357.999995</td>\n",
       "      <td>347.000003</td>\n",
       "      <td>6.248279</td>\n",
       "      <td>6.056293</td>\n",
       "      <td>3</td>\n",
       "      <td>True</td>\n",
       "      <td>...</td>\n",
       "      <td>-0.015347</td>\n",
       "      <td>0.135749</td>\n",
       "      <td>-0.990624</td>\n",
       "      <td>[0.006728479486120245, -0.9907046657808206, -0...</td>\n",
       "      <td>0.006728</td>\n",
       "      <td>-0.990705</td>\n",
       "      <td>-0.135864</td>\n",
       "      <td>0.001703</td>\n",
       "      <td>0.097565</td>\n",
       "      <td>0.002602</td>\n",
       "    </tr>\n",
       "    <tr>\n",
       "      <th>2022-12-06 14:50:24</th>\n",
       "      <td>Black Plate Repeatability - 14th Installation</td>\n",
       "      <td>12-06-22 14:50:24</td>\n",
       "      <td>19039.0</td>\n",
       "      <td>True</td>\n",
       "      <td>357.999986</td>\n",
       "      <td>346.999998</td>\n",
       "      <td>6.248278</td>\n",
       "      <td>6.056292</td>\n",
       "      <td>4</td>\n",
       "      <td>True</td>\n",
       "      <td>...</td>\n",
       "      <td>-0.015807</td>\n",
       "      <td>0.135701</td>\n",
       "      <td>-0.990624</td>\n",
       "      <td>[0.006684830747934325, -0.9907109763094498, -0...</td>\n",
       "      <td>0.006685</td>\n",
       "      <td>-0.990711</td>\n",
       "      <td>-0.135820</td>\n",
       "      <td>0.001800</td>\n",
       "      <td>0.103154</td>\n",
       "      <td>0.003978</td>\n",
       "    </tr>\n",
       "    <tr>\n",
       "      <th>...</th>\n",
       "      <td>...</td>\n",
       "      <td>...</td>\n",
       "      <td>...</td>\n",
       "      <td>...</td>\n",
       "      <td>...</td>\n",
       "      <td>...</td>\n",
       "      <td>...</td>\n",
       "      <td>...</td>\n",
       "      <td>...</td>\n",
       "      <td>...</td>\n",
       "      <td>...</td>\n",
       "      <td>...</td>\n",
       "      <td>...</td>\n",
       "      <td>...</td>\n",
       "      <td>...</td>\n",
       "      <td>...</td>\n",
       "      <td>...</td>\n",
       "      <td>...</td>\n",
       "      <td>...</td>\n",
       "      <td>...</td>\n",
       "      <td>...</td>\n",
       "    </tr>\n",
       "    <tr>\n",
       "      <th>2022-12-08 10:02:10</th>\n",
       "      <td>Black Plate Vertical Rotation 90 Degrees C</td>\n",
       "      <td>12-08-22 10:02:10</td>\n",
       "      <td>174545.0</td>\n",
       "      <td>False</td>\n",
       "      <td>357.999997</td>\n",
       "      <td>89.999996</td>\n",
       "      <td>6.248279</td>\n",
       "      <td>1.570796</td>\n",
       "      <td>84</td>\n",
       "      <td>True</td>\n",
       "      <td>...</td>\n",
       "      <td>-0.007025</td>\n",
       "      <td>0.942286</td>\n",
       "      <td>0.334734</td>\n",
       "      <td>[-0.01708701413013696, 0.3345803663793403, -0....</td>\n",
       "      <td>-0.017087</td>\n",
       "      <td>0.334580</td>\n",
       "      <td>-0.942212</td>\n",
       "      <td>0.001850</td>\n",
       "      <td>0.106005</td>\n",
       "      <td>0.553892</td>\n",
       "    </tr>\n",
       "    <tr>\n",
       "      <th>2022-12-08 10:05:30</th>\n",
       "      <td>Horizontal  -5 Degrees Vertical 90 Degrees C</td>\n",
       "      <td>12-08-22 10:05:30</td>\n",
       "      <td>174745.0</td>\n",
       "      <td>False</td>\n",
       "      <td>354.999993</td>\n",
       "      <td>89.999989</td>\n",
       "      <td>6.195919</td>\n",
       "      <td>1.570796</td>\n",
       "      <td>85</td>\n",
       "      <td>True</td>\n",
       "      <td>...</td>\n",
       "      <td>0.042344</td>\n",
       "      <td>0.942399</td>\n",
       "      <td>0.331799</td>\n",
       "      <td>[0.00021110485630057053, 0.3320886660800678, -...</td>\n",
       "      <td>0.000211</td>\n",
       "      <td>0.332089</td>\n",
       "      <td>-0.943248</td>\n",
       "      <td>0.050539</td>\n",
       "      <td>2.895651</td>\n",
       "      <td>0.551095</td>\n",
       "    </tr>\n",
       "    <tr>\n",
       "      <th>2022-12-08 10:09:49</th>\n",
       "      <td>Black Plate Vertical Rotation 135 Degrees C</td>\n",
       "      <td>12-08-22 10:09:49</td>\n",
       "      <td>175004.0</td>\n",
       "      <td>False</td>\n",
       "      <td>357.999995</td>\n",
       "      <td>134.999997</td>\n",
       "      <td>6.248279</td>\n",
       "      <td>2.356194</td>\n",
       "      <td>86</td>\n",
       "      <td>True</td>\n",
       "      <td>...</td>\n",
       "      <td>0.006647</td>\n",
       "      <td>0.432045</td>\n",
       "      <td>0.901828</td>\n",
       "      <td>[-0.016970739865649304, 0.9017662914716766, -0...</td>\n",
       "      <td>-0.016971</td>\n",
       "      <td>0.901766</td>\n",
       "      <td>-0.431891</td>\n",
       "      <td>0.002065</td>\n",
       "      <td>0.118329</td>\n",
       "      <td>0.684584</td>\n",
       "    </tr>\n",
       "    <tr>\n",
       "      <th>2022-12-08 10:15:06</th>\n",
       "      <td>Black Plate Repeatability - 29th Installation ...</td>\n",
       "      <td>12-08-22 10:15:06</td>\n",
       "      <td>175321.0</td>\n",
       "      <td>False</td>\n",
       "      <td>357.999994</td>\n",
       "      <td>346.999993</td>\n",
       "      <td>6.248279</td>\n",
       "      <td>6.056292</td>\n",
       "      <td>87</td>\n",
       "      <td>True</td>\n",
       "      <td>...</td>\n",
       "      <td>-0.014988</td>\n",
       "      <td>0.110480</td>\n",
       "      <td>-0.993765</td>\n",
       "      <td>[0.00995919084634944, -0.993811215431906, -0.1...</td>\n",
       "      <td>0.009959</td>\n",
       "      <td>-0.993811</td>\n",
       "      <td>-0.110635</td>\n",
       "      <td>0.001165</td>\n",
       "      <td>0.066773</td>\n",
       "      <td>0.008198</td>\n",
       "    </tr>\n",
       "    <tr>\n",
       "      <th>2022-12-08 10:18:55</th>\n",
       "      <td>Black Plate Repeatability - 29th Installation ...</td>\n",
       "      <td>12-08-22 10:18:55</td>\n",
       "      <td>175550.0</td>\n",
       "      <td>False</td>\n",
       "      <td>357.999995</td>\n",
       "      <td>346.999997</td>\n",
       "      <td>6.248279</td>\n",
       "      <td>6.056292</td>\n",
       "      <td>88</td>\n",
       "      <td>True</td>\n",
       "      <td>...</td>\n",
       "      <td>-0.014990</td>\n",
       "      <td>0.110472</td>\n",
       "      <td>-0.993766</td>\n",
       "      <td>[0.009939018016814492, -0.9938122922637846, -0...</td>\n",
       "      <td>0.009939</td>\n",
       "      <td>-0.993812</td>\n",
       "      <td>-0.110627</td>\n",
       "      <td>0.001146</td>\n",
       "      <td>0.065686</td>\n",
       "      <td>0.008287</td>\n",
       "    </tr>\n",
       "  </tbody>\n",
       "</table>\n",
       "<p>82 rows × 30 columns</p>\n",
       "</div>"
      ],
      "text/plain": [
       "                                                                 Group  \\\n",
       "Datetime                                                                 \n",
       "2022-12-06 14:10:24  Black Plate Repeatability - 10th Installation ...   \n",
       "2022-12-06 14:20:24      Black Plate Repeatability - 11th Installation   \n",
       "2022-12-06 14:30:24      Black Plate Repeatability - 12th Installation   \n",
       "2022-12-06 14:40:24      Black Plate Repeatability - 13th Installation   \n",
       "2022-12-06 14:50:24      Black Plate Repeatability - 14th Installation   \n",
       "...                                                                ...   \n",
       "2022-12-08 10:02:10         Black Plate Vertical Rotation 90 Degrees C   \n",
       "2022-12-08 10:05:30       Horizontal  -5 Degrees Vertical 90 Degrees C   \n",
       "2022-12-08 10:09:49        Black Plate Vertical Rotation 135 Degrees C   \n",
       "2022-12-08 10:15:06  Black Plate Repeatability - 29th Installation ...   \n",
       "2022-12-08 10:18:55  Black Plate Repeatability - 29th Installation ...   \n",
       "\n",
       "                                  Time  seconds_delta  Stage_Removed  \\\n",
       "Datetime                                                               \n",
       "2022-12-06 14:10:24  12-06-22 14:10:24        16639.0           True   \n",
       "2022-12-06 14:20:24  12-06-22 14:20:24        17239.0           True   \n",
       "2022-12-06 14:30:24  12-06-22 14:30:24        17839.0           True   \n",
       "2022-12-06 14:40:24  12-06-22 14:40:24        18439.0           True   \n",
       "2022-12-06 14:50:24  12-06-22 14:50:24        19039.0           True   \n",
       "...                                ...            ...            ...   \n",
       "2022-12-08 10:02:10  12-08-22 10:02:10       174545.0          False   \n",
       "2022-12-08 10:05:30  12-08-22 10:05:30       174745.0          False   \n",
       "2022-12-08 10:09:49  12-08-22 10:09:49       175004.0          False   \n",
       "2022-12-08 10:15:06  12-08-22 10:15:06       175321.0          False   \n",
       "2022-12-08 10:18:55  12-08-22 10:18:55       175550.0          False   \n",
       "\n",
       "                     SmarAct1_Meas_Deg  SmarAct2_Meas_Deg  SmarAct1_Meas_Rad  \\\n",
       "Datetime                                                                       \n",
       "2022-12-06 14:10:24         357.999999         346.999992           6.248279   \n",
       "2022-12-06 14:20:24         357.999799         346.999992           6.248275   \n",
       "2022-12-06 14:30:24         357.999995         346.999993           6.248279   \n",
       "2022-12-06 14:40:24         357.999995         347.000003           6.248279   \n",
       "2022-12-06 14:50:24         357.999986         346.999998           6.248278   \n",
       "...                                ...                ...                ...   \n",
       "2022-12-08 10:02:10         357.999997          89.999996           6.248279   \n",
       "2022-12-08 10:05:30         354.999993          89.999989           6.195919   \n",
       "2022-12-08 10:09:49         357.999995         134.999997           6.248279   \n",
       "2022-12-08 10:15:06         357.999994         346.999993           6.248279   \n",
       "2022-12-08 10:18:55         357.999995         346.999997           6.248279   \n",
       "\n",
       "                     SmarAct2_Meas_Rad  Group_Index  can_analyze  ...  \\\n",
       "Datetime                                                          ...   \n",
       "2022-12-06 14:10:24           6.056292            0         True  ...   \n",
       "2022-12-06 14:20:24           6.056292            1         True  ...   \n",
       "2022-12-06 14:30:24           6.056292            2         True  ...   \n",
       "2022-12-06 14:40:24           6.056293            3         True  ...   \n",
       "2022-12-06 14:50:24           6.056292            4         True  ...   \n",
       "...                                ...          ...          ...  ...   \n",
       "2022-12-08 10:02:10           1.570796           84         True  ...   \n",
       "2022-12-08 10:05:30           1.570796           85         True  ...   \n",
       "2022-12-08 10:09:49           2.356194           86         True  ...   \n",
       "2022-12-08 10:15:06           6.056292           87         True  ...   \n",
       "2022-12-08 10:18:55           6.056292           88         True  ...   \n",
       "\n",
       "                      vec_y_x   vec_y_y   vec_y_z  \\\n",
       "Datetime                                            \n",
       "2022-12-06 14:10:24 -0.015366  0.135423 -0.990669   \n",
       "2022-12-06 14:20:24 -0.015961  0.135716 -0.990619   \n",
       "2022-12-06 14:30:24 -0.013790  0.133320 -0.990977   \n",
       "2022-12-06 14:40:24 -0.015347  0.135749 -0.990624   \n",
       "2022-12-06 14:50:24 -0.015807  0.135701 -0.990624   \n",
       "...                       ...       ...       ...   \n",
       "2022-12-08 10:02:10 -0.007025  0.942286  0.334734   \n",
       "2022-12-08 10:05:30  0.042344  0.942399  0.331799   \n",
       "2022-12-08 10:09:49  0.006647  0.432045  0.901828   \n",
       "2022-12-08 10:15:06 -0.014988  0.110480 -0.993765   \n",
       "2022-12-08 10:18:55 -0.014990  0.110472 -0.993766   \n",
       "\n",
       "                                                                 vec_x  \\\n",
       "Datetime                                                                 \n",
       "2022-12-06 14:10:24  [0.00843592122764007, -0.9907329102590897, -0....   \n",
       "2022-12-06 14:20:24  [0.008329827347464023, -0.9906930330086997, -0...   \n",
       "2022-12-06 14:30:24  [0.005762044179601676, -0.9910442815196192, -0...   \n",
       "2022-12-06 14:40:24  [0.006728479486120245, -0.9907046657808206, -0...   \n",
       "2022-12-06 14:50:24  [0.006684830747934325, -0.9907109763094498, -0...   \n",
       "...                                                                ...   \n",
       "2022-12-08 10:02:10  [-0.01708701413013696, 0.3345803663793403, -0....   \n",
       "2022-12-08 10:05:30  [0.00021110485630057053, 0.3320886660800678, -...   \n",
       "2022-12-08 10:09:49  [-0.016970739865649304, 0.9017662914716766, -0...   \n",
       "2022-12-08 10:15:06  [0.00995919084634944, -0.993811215431906, -0.1...   \n",
       "2022-12-08 10:18:55  [0.009939018016814492, -0.9938122922637846, -0...   \n",
       "\n",
       "                      vec_x_x   vec_x_y   vec_x_z  dnorm_v_Rad  dnorm_v_Deg  \\\n",
       "Datetime                                                                      \n",
       "2022-12-06 14:10:24  0.008436 -0.990733 -0.135562     0.000000     0.000000   \n",
       "2022-12-06 14:20:24  0.008330 -0.990693 -0.135860     0.000591     0.033882   \n",
       "2022-12-06 14:30:24  0.005762 -0.991044 -0.133409     0.003124     0.179018   \n",
       "2022-12-06 14:40:24  0.006728 -0.990705 -0.135864     0.001703     0.097565   \n",
       "2022-12-06 14:50:24  0.006685 -0.990711 -0.135820     0.001800     0.103154   \n",
       "...                       ...       ...       ...          ...          ...   \n",
       "2022-12-08 10:02:10 -0.017087  0.334580 -0.942212     0.001850     0.106005   \n",
       "2022-12-08 10:05:30  0.000211  0.332089 -0.943248     0.050539     2.895651   \n",
       "2022-12-08 10:09:49 -0.016971  0.901766 -0.431891     0.002065     0.118329   \n",
       "2022-12-08 10:15:06  0.009959 -0.993811 -0.110635     0.001165     0.066773   \n",
       "2022-12-08 10:18:55  0.009939 -0.993812 -0.110627     0.001146     0.065686   \n",
       "\n",
       "                    dcentroid  \n",
       "Datetime                       \n",
       "2022-12-06 14:10:24  0.000000  \n",
       "2022-12-06 14:20:24  0.003789  \n",
       "2022-12-06 14:30:24  0.014879  \n",
       "2022-12-06 14:40:24  0.002602  \n",
       "2022-12-06 14:50:24  0.003978  \n",
       "...                       ...  \n",
       "2022-12-08 10:02:10  0.553892  \n",
       "2022-12-08 10:05:30  0.551095  \n",
       "2022-12-08 10:09:49  0.684584  \n",
       "2022-12-08 10:15:06  0.008198  \n",
       "2022-12-08 10:18:55  0.008287  \n",
       "\n",
       "[82 rows x 30 columns]"
      ]
     },
     "execution_count": 14,
     "metadata": {},
     "output_type": "execute_result"
    }
   ],
   "source": [
    "df_groups"
   ]
  },
  {
   "cell_type": "code",
   "execution_count": 15,
   "metadata": {},
   "outputs": [
    {
     "name": "stdout",
     "output_type": "stream",
     "text": [
      "<class 'pandas.core.frame.DataFrame'>\n",
      "DatetimeIndex: 82 entries, 2022-12-06 14:10:24 to 2022-12-08 10:18:55\n",
      "Data columns (total 30 columns):\n",
      " #   Column             Non-Null Count  Dtype  \n",
      "---  ------             --------------  -----  \n",
      " 0   Group              82 non-null     object \n",
      " 1   Time               82 non-null     object \n",
      " 2   seconds_delta      82 non-null     float64\n",
      " 3   Stage_Removed      82 non-null     bool   \n",
      " 4   SmarAct1_Meas_Deg  82 non-null     float64\n",
      " 5   SmarAct2_Meas_Deg  82 non-null     float64\n",
      " 6   SmarAct1_Meas_Rad  82 non-null     float64\n",
      " 7   SmarAct2_Meas_Rad  82 non-null     float64\n",
      " 8   Group_Index        82 non-null     int64  \n",
      " 9   can_analyze        82 non-null     bool   \n",
      " 10  all_targets        82 non-null     bool   \n",
      " 11  norm_v             82 non-null     object \n",
      " 12  norm_v_x           82 non-null     float64\n",
      " 13  norm_v_y           82 non-null     float64\n",
      " 14  norm_v_z           82 non-null     float64\n",
      " 15  centroid           82 non-null     object \n",
      " 16  centroid_x         82 non-null     float64\n",
      " 17  centroid_y         82 non-null     float64\n",
      " 18  centroid_z         82 non-null     float64\n",
      " 19  vec_y              82 non-null     object \n",
      " 20  vec_y_x            82 non-null     float64\n",
      " 21  vec_y_y            82 non-null     float64\n",
      " 22  vec_y_z            82 non-null     float64\n",
      " 23  vec_x              82 non-null     object \n",
      " 24  vec_x_x            82 non-null     float64\n",
      " 25  vec_x_y            82 non-null     float64\n",
      " 26  vec_x_z            82 non-null     float64\n",
      " 27  dnorm_v_Rad        82 non-null     float64\n",
      " 28  dnorm_v_Deg        82 non-null     float64\n",
      " 29  dcentroid          82 non-null     float64\n",
      "dtypes: bool(3), float64(20), int64(1), object(6)\n",
      "memory usage: 18.2+ KB\n"
     ]
    }
   ],
   "source": [
    "df_groups.info()"
   ]
  },
  {
   "cell_type": "code",
   "execution_count": null,
   "metadata": {},
   "outputs": [],
   "source": []
  },
  {
   "cell_type": "code",
   "execution_count": 41,
   "metadata": {},
   "outputs": [
    {
     "data": {
      "image/png": "[encoded data removed]",
      "text/plain": [
       "<Figure size 720x576 with 1 Axes>"
      ]
     },
     "metadata": {},
     "output_type": "display_data"
    }
   ],
   "source": [
    "# plot movement of normal vector\n",
    "df_ = df_groups.iloc[[i for i, g in enumerate(df_groups.Group) if 'Repeat' in g]]\n",
    "df_rep = df_groups.query(\"Stage_Removed\")\n",
    "\n",
    "fig, ax = plt.subplots()\n",
    "\n",
    "ax.scatter(df_.Group_Index, df_.dnorm_v_Deg, label='All Reproducibility')\n",
    "ax.scatter(df_rep.Group_Index, df_rep.dnorm_v_Deg, c='red', marker='+', label='Stage Removed')\n",
    "\n",
    "ax.legend()\n",
    "ax.set_xlabel('Measurement (Group) Index')\n",
    "ax.set_ylabel(r'$\\Delta \\hat{n}$ [Degrees]');"
   ]
  },
  {
   "cell_type": "code",
   "execution_count": 42,
   "metadata": {},
   "outputs": [
    {
     "data": {
      "text/plain": [
       "Index(['Group', 'Time', 'seconds_delta', 'Stage_Removed', 'SmarAct1_Meas_Deg',\n",
       "       'SmarAct2_Meas_Deg', 'SmarAct1_Meas_Rad', 'SmarAct2_Meas_Rad',\n",
       "       'Group_Index', 'can_analyze', 'all_targets', 'norm_v', 'norm_v_x',\n",
       "       'norm_v_y', 'norm_v_z', 'centroid', 'centroid_x', 'centroid_y',\n",
       "       'centroid_z', 'dnorm_v_Rad', 'dnorm_v_Deg', 'dcentroid'],\n",
       "      dtype='object')"
      ]
     },
     "execution_count": 42,
     "metadata": {},
     "output_type": "execute_result"
    }
   ],
   "source": [
    "df_groups.columns"
   ]
  },
  {
   "cell_type": "code",
   "execution_count": 43,
   "metadata": {},
   "outputs": [
    {
     "data": {
      "image/png": "[encoded data removed]",
      "text/plain": [
       "<Figure size 720x576 with 1 Axes>"
      ]
     },
     "metadata": {},
     "output_type": "display_data"
    }
   ],
   "source": [
    "# plot movement of normal vector\n",
    "df_ = df_groups.iloc[[i for i, g in enumerate(df_groups.Group) if 'Repeat' in g]]\n",
    "df_rep = df_groups.query(\"Stage_Removed\")\n",
    "\n",
    "fig, ax = plt.subplots()\n",
    "\n",
    "ax.scatter(df_.Group_Index, df_.dnorm_v_Rad, label='All Reproducibility')\n",
    "\n",
    "#ax.scatter(df_rep.Group_Index, 0.006 *np.ones(len(df_rep)), c='red', marker='+')\n",
    "ax.scatter(df_rep.Group_Index, df_rep.dnorm_v_Rad, c='red', marker='+', label='Stage Removed')\n",
    "\n",
    "ax.legend()\n",
    "ax.set_xlabel('Measurement (Group) Index')\n",
    "ax.set_ylabel(r'$\\Delta \\hat{n}$ [Rad]');"
   ]
  },
  {
   "cell_type": "code",
   "execution_count": 39,
   "metadata": {},
   "outputs": [
    {
     "data": {
      "text/html": [
       "<div>\n",
       "<style scoped>\n",
       "    .dataframe tbody tr th:only-of-type {\n",
       "        vertical-align: middle;\n",
       "    }\n",
       "\n",
       "    .dataframe tbody tr th {\n",
       "        vertical-align: top;\n",
       "    }\n",
       "\n",
       "    .dataframe thead th {\n",
       "        text-align: right;\n",
       "    }\n",
       "</style>\n",
       "<table border=\"1\" class=\"dataframe\">\n",
       "  <thead>\n",
       "    <tr style=\"text-align: right;\">\n",
       "      <th></th>\n",
       "      <th>dcentroid</th>\n",
       "      <th>dnorm_v_Rad</th>\n",
       "    </tr>\n",
       "  </thead>\n",
       "  <tbody>\n",
       "    <tr>\n",
       "      <th>count</th>\n",
       "      <td>12.000000</td>\n",
       "      <td>12.000000</td>\n",
       "    </tr>\n",
       "    <tr>\n",
       "      <th>mean</th>\n",
       "      <td>0.005496</td>\n",
       "      <td>0.001193</td>\n",
       "    </tr>\n",
       "    <tr>\n",
       "      <th>std</th>\n",
       "      <td>0.004841</td>\n",
       "      <td>0.000867</td>\n",
       "    </tr>\n",
       "    <tr>\n",
       "      <th>min</th>\n",
       "      <td>0.000000</td>\n",
       "      <td>0.000000</td>\n",
       "    </tr>\n",
       "    <tr>\n",
       "      <th>25%</th>\n",
       "      <td>0.002630</td>\n",
       "      <td>0.000612</td>\n",
       "    </tr>\n",
       "    <tr>\n",
       "      <th>50%</th>\n",
       "      <td>0.003883</td>\n",
       "      <td>0.001125</td>\n",
       "    </tr>\n",
       "    <tr>\n",
       "      <th>75%</th>\n",
       "      <td>0.005816</td>\n",
       "      <td>0.001721</td>\n",
       "    </tr>\n",
       "    <tr>\n",
       "      <th>max</th>\n",
       "      <td>0.014879</td>\n",
       "      <td>0.003124</td>\n",
       "    </tr>\n",
       "  </tbody>\n",
       "</table>\n",
       "</div>"
      ],
      "text/plain": [
       "       dcentroid  dnorm_v_Rad\n",
       "count  12.000000    12.000000\n",
       "mean    0.005496     0.001193\n",
       "std     0.004841     0.000867\n",
       "min     0.000000     0.000000\n",
       "25%     0.002630     0.000612\n",
       "50%     0.003883     0.001125\n",
       "75%     0.005816     0.001721\n",
       "max     0.014879     0.003124"
      ]
     },
     "execution_count": 39,
     "metadata": {},
     "output_type": "execute_result"
    }
   ],
   "source": [
    "df_.query('Group_Index < 20')[['dcentroid', 'dnorm_v_Rad']].describe()"
   ]
  },
  {
   "cell_type": "code",
   "execution_count": 40,
   "metadata": {
    "scrolled": false
   },
   "outputs": [
    {
     "data": {
      "text/html": [
       "<div>\n",
       "<style scoped>\n",
       "    .dataframe tbody tr th:only-of-type {\n",
       "        vertical-align: middle;\n",
       "    }\n",
       "\n",
       "    .dataframe tbody tr th {\n",
       "        vertical-align: top;\n",
       "    }\n",
       "\n",
       "    .dataframe thead th {\n",
       "        text-align: right;\n",
       "    }\n",
       "</style>\n",
       "<table border=\"1\" class=\"dataframe\">\n",
       "  <thead>\n",
       "    <tr style=\"text-align: right;\">\n",
       "      <th></th>\n",
       "      <th>dcentroid</th>\n",
       "      <th>dnorm_v_Rad</th>\n",
       "    </tr>\n",
       "    <tr>\n",
       "      <th>Datetime</th>\n",
       "      <th></th>\n",
       "      <th></th>\n",
       "    </tr>\n",
       "  </thead>\n",
       "  <tbody>\n",
       "    <tr>\n",
       "      <th>2022-12-06 14:10:24</th>\n",
       "      <td>0.000000</td>\n",
       "      <td>0.000000</td>\n",
       "    </tr>\n",
       "    <tr>\n",
       "      <th>2022-12-06 14:20:24</th>\n",
       "      <td>0.003789</td>\n",
       "      <td>0.000591</td>\n",
       "    </tr>\n",
       "    <tr>\n",
       "      <th>2022-12-06 14:30:24</th>\n",
       "      <td>0.014879</td>\n",
       "      <td>0.003124</td>\n",
       "    </tr>\n",
       "    <tr>\n",
       "      <th>2022-12-06 14:40:24</th>\n",
       "      <td>0.002602</td>\n",
       "      <td>0.001703</td>\n",
       "    </tr>\n",
       "    <tr>\n",
       "      <th>2022-12-06 14:50:24</th>\n",
       "      <td>0.003978</td>\n",
       "      <td>0.001800</td>\n",
       "    </tr>\n",
       "    <tr>\n",
       "      <th>2022-12-06 15:00:24</th>\n",
       "      <td>0.004294</td>\n",
       "      <td>0.001499</td>\n",
       "    </tr>\n",
       "    <tr>\n",
       "      <th>2022-12-06 15:10:24</th>\n",
       "      <td>0.003638</td>\n",
       "      <td>0.000967</td>\n",
       "    </tr>\n",
       "    <tr>\n",
       "      <th>2022-12-06 15:46:55</th>\n",
       "      <td>0.004320</td>\n",
       "      <td>0.000620</td>\n",
       "    </tr>\n",
       "    <tr>\n",
       "      <th>2022-12-07 08:11:31</th>\n",
       "      <td>0.010305</td>\n",
       "      <td>0.001284</td>\n",
       "    </tr>\n",
       "    <tr>\n",
       "      <th>2022-12-07 08:20:12</th>\n",
       "      <td>0.001503</td>\n",
       "      <td>0.000107</td>\n",
       "    </tr>\n",
       "    <tr>\n",
       "      <th>2022-12-07 08:24:12</th>\n",
       "      <td>0.014005</td>\n",
       "      <td>0.001774</td>\n",
       "    </tr>\n",
       "    <tr>\n",
       "      <th>2022-12-07 08:27:12</th>\n",
       "      <td>0.002639</td>\n",
       "      <td>0.000851</td>\n",
       "    </tr>\n",
       "  </tbody>\n",
       "</table>\n",
       "</div>"
      ],
      "text/plain": [
       "                     dcentroid  dnorm_v_Rad\n",
       "Datetime                                   \n",
       "2022-12-06 14:10:24   0.000000     0.000000\n",
       "2022-12-06 14:20:24   0.003789     0.000591\n",
       "2022-12-06 14:30:24   0.014879     0.003124\n",
       "2022-12-06 14:40:24   0.002602     0.001703\n",
       "2022-12-06 14:50:24   0.003978     0.001800\n",
       "2022-12-06 15:00:24   0.004294     0.001499\n",
       "2022-12-06 15:10:24   0.003638     0.000967\n",
       "2022-12-06 15:46:55   0.004320     0.000620\n",
       "2022-12-07 08:11:31   0.010305     0.001284\n",
       "2022-12-07 08:20:12   0.001503     0.000107\n",
       "2022-12-07 08:24:12   0.014005     0.001774\n",
       "2022-12-07 08:27:12   0.002639     0.000851"
      ]
     },
     "execution_count": 40,
     "metadata": {},
     "output_type": "execute_result"
    }
   ],
   "source": [
    "df_.query('Group_Index < 20')[['dcentroid', 'dnorm_v_Rad']]"
   ]
  },
  {
   "cell_type": "code",
   "execution_count": 30,
   "metadata": {},
   "outputs": [
    {
     "data": {
      "image/png": "[encoded data removed]",
      "text/plain": [
       "<Figure size 720x576 with 1 Axes>"
      ]
     },
     "metadata": {},
     "output_type": "display_data"
    }
   ],
   "source": [
    "# plot movement of centroid\n",
    "df_ = df_groups.iloc[[i for i, g in enumerate(df_groups.Group) if 'Repeat' in g]]\n",
    "df_rep = df_groups.query(\"Stage_Removed\")\n",
    "\n",
    "fig, ax = plt.subplots()\n",
    "\n",
    "ax.scatter(df_.Group_Index, df_.dcentroid, label='All Reproducibility')\n",
    "\n",
    "#ax.scatter(df_rep.Group_Index, 0.006 *np.ones(len(df_rep)), c='red', marker='+')\n",
    "ax.scatter(df_rep.Group_Index, df_rep.dcentroid, c='red', marker='+', label='Stage Removed')\n",
    "\n",
    "ax.legend()\n",
    "ax.set_xlabel('Measurement (Group) Index')\n",
    "ax.set_ylabel(r'$\\Delta$Centroid [in]');"
   ]
  },
  {
   "cell_type": "code",
   "execution_count": 31,
   "metadata": {},
   "outputs": [
    {
     "data": {
      "image/png": "[encoded data removed]",
      "text/plain": [
       "<Figure size 720x576 with 1 Axes>"
      ]
     },
     "metadata": {},
     "output_type": "display_data"
    }
   ],
   "source": [
    "# plot movement of centroid\n",
    "df_ = df_groups.iloc[[i for i, g in enumerate(df_groups.Group) if 'Repeat' in g]]\n",
    "df_rep = df_groups.query(\"Stage_Removed\")\n",
    "\n",
    "fig, ax = plt.subplots()\n",
    "\n",
    "ax.scatter(df_.Group_Index, inch_to_mm(df_.dcentroid), label='All Reproducibility')\n",
    "\n",
    "#ax.scatter(df_rep.Group_Index, 0.006 *np.ones(len(df_rep)), c='red', marker='+')\n",
    "ax.scatter(df_rep.Group_Index, inch_to_mm(df_rep.dcentroid), c='red', marker='+', label='Stage Removed')\n",
    "\n",
    "ax.legend()\n",
    "ax.set_xlabel('Measurement (Group) Index')\n",
    "ax.set_ylabel(r'$\\Delta$Centroid [mm]');"
   ]
  },
  {
   "cell_type": "code",
   "execution_count": null,
   "metadata": {},
   "outputs": [],
   "source": []
  },
  {
   "cell_type": "code",
   "execution_count": 15,
   "metadata": {},
   "outputs": [
    {
     "data": {
      "text/html": [
       "<div>\n",
       "<style scoped>\n",
       "    .dataframe tbody tr th:only-of-type {\n",
       "        vertical-align: middle;\n",
       "    }\n",
       "\n",
       "    .dataframe tbody tr th {\n",
       "        vertical-align: top;\n",
       "    }\n",
       "\n",
       "    .dataframe thead th {\n",
       "        text-align: right;\n",
       "    }\n",
       "</style>\n",
       "<table border=\"1\" class=\"dataframe\">\n",
       "  <thead>\n",
       "    <tr style=\"text-align: right;\">\n",
       "      <th></th>\n",
       "      <th>Group</th>\n",
       "      <th>Time</th>\n",
       "      <th>seconds_delta</th>\n",
       "      <th>Stage_Removed</th>\n",
       "      <th>SmarAct1_Meas_Deg</th>\n",
       "      <th>SmarAct2_Meas_Deg</th>\n",
       "      <th>SmarAct1_Meas_Rad</th>\n",
       "      <th>SmarAct2_Meas_Rad</th>\n",
       "      <th>Group_Index</th>\n",
       "      <th>can_analyze</th>\n",
       "      <th>all_targets</th>\n",
       "      <th>norm_v</th>\n",
       "      <th>norm_v_x</th>\n",
       "      <th>norm_v_y</th>\n",
       "      <th>norm_v_z</th>\n",
       "      <th>centroid</th>\n",
       "      <th>centroid_x</th>\n",
       "      <th>centroid_y</th>\n",
       "      <th>centroid_z</th>\n",
       "    </tr>\n",
       "    <tr>\n",
       "      <th>Datetime</th>\n",
       "      <th></th>\n",
       "      <th></th>\n",
       "      <th></th>\n",
       "      <th></th>\n",
       "      <th></th>\n",
       "      <th></th>\n",
       "      <th></th>\n",
       "      <th></th>\n",
       "      <th></th>\n",
       "      <th></th>\n",
       "      <th></th>\n",
       "      <th></th>\n",
       "      <th></th>\n",
       "      <th></th>\n",
       "      <th></th>\n",
       "      <th></th>\n",
       "      <th></th>\n",
       "      <th></th>\n",
       "      <th></th>\n",
       "    </tr>\n",
       "  </thead>\n",
       "  <tbody>\n",
       "  </tbody>\n",
       "</table>\n",
       "</div>"
      ],
      "text/plain": [
       "Empty DataFrame\n",
       "Columns: [Group, Time, seconds_delta, Stage_Removed, SmarAct1_Meas_Deg, SmarAct2_Meas_Deg, SmarAct1_Meas_Rad, SmarAct2_Meas_Rad, Group_Index, can_analyze, all_targets, norm_v, norm_v_x, norm_v_y, norm_v_z, centroid, centroid_x, centroid_y, centroid_z]\n",
       "Index: []"
      ]
     },
     "execution_count": 15,
     "metadata": {},
     "output_type": "execute_result"
    }
   ],
   "source": [
    "df_groups.query('norm_v_x < 0')"
   ]
  },
  {
   "cell_type": "code",
   "execution_count": 14,
   "metadata": {},
   "outputs": [
    {
     "data": {
      "text/html": [
       "<div>\n",
       "<style scoped>\n",
       "    .dataframe tbody tr th:only-of-type {\n",
       "        vertical-align: middle;\n",
       "    }\n",
       "\n",
       "    .dataframe tbody tr th {\n",
       "        vertical-align: top;\n",
       "    }\n",
       "\n",
       "    .dataframe thead th {\n",
       "        text-align: right;\n",
       "    }\n",
       "</style>\n",
       "<table border=\"1\" class=\"dataframe\">\n",
       "  <thead>\n",
       "    <tr style=\"text-align: right;\">\n",
       "      <th></th>\n",
       "      <th>Point</th>\n",
       "      <th>X</th>\n",
       "      <th>Y</th>\n",
       "      <th>Z</th>\n",
       "      <th>X_mm</th>\n",
       "      <th>Y_mm</th>\n",
       "      <th>Z_mm</th>\n",
       "      <th>Group</th>\n",
       "      <th>Group_Index</th>\n",
       "      <th>Datetime</th>\n",
       "    </tr>\n",
       "  </thead>\n",
       "  <tbody>\n",
       "    <tr>\n",
       "      <th>0</th>\n",
       "      <td>A</td>\n",
       "      <td>0.122124</td>\n",
       "      <td>1.193630</td>\n",
       "      <td>-1.959151</td>\n",
       "      <td>3.101950</td>\n",
       "      <td>30.318202</td>\n",
       "      <td>-49.762435</td>\n",
       "      <td>Black Plate Repeatability - 10th Installation ...</td>\n",
       "      <td>0</td>\n",
       "      <td>2022-12-06 14:10:24</td>\n",
       "    </tr>\n",
       "    <tr>\n",
       "      <th>1</th>\n",
       "      <td>B</td>\n",
       "      <td>0.139268</td>\n",
       "      <td>-0.565170</td>\n",
       "      <td>-2.160190</td>\n",
       "      <td>3.537407</td>\n",
       "      <td>-14.355318</td>\n",
       "      <td>-54.868826</td>\n",
       "      <td>Black Plate Repeatability - 10th Installation ...</td>\n",
       "      <td>0</td>\n",
       "      <td>2022-12-06 14:10:24</td>\n",
       "    </tr>\n",
       "    <tr>\n",
       "      <th>2</th>\n",
       "      <td>C</td>\n",
       "      <td>0.170145</td>\n",
       "      <td>-1.336052</td>\n",
       "      <td>-0.441168</td>\n",
       "      <td>4.321683</td>\n",
       "      <td>-33.935721</td>\n",
       "      <td>-11.205667</td>\n",
       "      <td>Black Plate Repeatability - 10th Installation ...</td>\n",
       "      <td>0</td>\n",
       "      <td>2022-12-06 14:10:24</td>\n",
       "    </tr>\n",
       "    <tr>\n",
       "      <th>3</th>\n",
       "      <td>D</td>\n",
       "      <td>0.194417</td>\n",
       "      <td>-0.306260</td>\n",
       "      <td>2.005804</td>\n",
       "      <td>4.938192</td>\n",
       "      <td>-7.779004</td>\n",
       "      <td>50.947422</td>\n",
       "      <td>Black Plate Repeatability - 10th Installation ...</td>\n",
       "      <td>0</td>\n",
       "      <td>2022-12-06 14:10:24</td>\n",
       "    </tr>\n",
       "    <tr>\n",
       "      <th>4</th>\n",
       "      <td>E</td>\n",
       "      <td>0.151015</td>\n",
       "      <td>1.202173</td>\n",
       "      <td>0.004039</td>\n",
       "      <td>3.835781</td>\n",
       "      <td>30.535194</td>\n",
       "      <td>0.102591</td>\n",
       "      <td>Black Plate Repeatability - 10th Installation ...</td>\n",
       "      <td>0</td>\n",
       "      <td>2022-12-06 14:10:24</td>\n",
       "    </tr>\n",
       "    <tr>\n",
       "      <th>...</th>\n",
       "      <td>...</td>\n",
       "      <td>...</td>\n",
       "      <td>...</td>\n",
       "      <td>...</td>\n",
       "      <td>...</td>\n",
       "      <td>...</td>\n",
       "      <td>...</td>\n",
       "      <td>...</td>\n",
       "      <td>...</td>\n",
       "      <td>...</td>\n",
       "    </tr>\n",
       "    <tr>\n",
       "      <th>0</th>\n",
       "      <td>A</td>\n",
       "      <td>0.118483</td>\n",
       "      <td>1.150370</td>\n",
       "      <td>-1.985691</td>\n",
       "      <td>3.009468</td>\n",
       "      <td>29.219398</td>\n",
       "      <td>-50.436551</td>\n",
       "      <td>Black Plate Repeatability - 29th Installation ...</td>\n",
       "      <td>88</td>\n",
       "      <td>2022-12-08 10:18:55</td>\n",
       "    </tr>\n",
       "    <tr>\n",
       "      <th>1</th>\n",
       "      <td>B</td>\n",
       "      <td>0.138190</td>\n",
       "      <td>-0.612875</td>\n",
       "      <td>-2.144690</td>\n",
       "      <td>3.510026</td>\n",
       "      <td>-15.567025</td>\n",
       "      <td>-54.475126</td>\n",
       "      <td>Black Plate Repeatability - 29th Installation ...</td>\n",
       "      <td>88</td>\n",
       "      <td>2022-12-08 10:18:55</td>\n",
       "    </tr>\n",
       "    <tr>\n",
       "      <th>2</th>\n",
       "      <td>C</td>\n",
       "      <td>0.168725</td>\n",
       "      <td>-1.342556</td>\n",
       "      <td>-0.407690</td>\n",
       "      <td>4.285615</td>\n",
       "      <td>-34.100922</td>\n",
       "      <td>-10.355326</td>\n",
       "      <td>Black Plate Repeatability - 29th Installation ...</td>\n",
       "      <td>88</td>\n",
       "      <td>2022-12-08 10:18:55</td>\n",
       "    </tr>\n",
       "    <tr>\n",
       "      <th>3</th>\n",
       "      <td>D</td>\n",
       "      <td>0.190342</td>\n",
       "      <td>-0.250500</td>\n",
       "      <td>2.013964</td>\n",
       "      <td>4.834687</td>\n",
       "      <td>-6.362700</td>\n",
       "      <td>51.154686</td>\n",
       "      <td>Black Plate Repeatability - 29th Installation ...</td>\n",
       "      <td>88</td>\n",
       "      <td>2022-12-08 10:18:55</td>\n",
       "    </tr>\n",
       "    <tr>\n",
       "      <th>4</th>\n",
       "      <td>E</td>\n",
       "      <td>0.145657</td>\n",
       "      <td>1.205636</td>\n",
       "      <td>-0.023134</td>\n",
       "      <td>3.699688</td>\n",
       "      <td>30.623154</td>\n",
       "      <td>-0.587604</td>\n",
       "      <td>Black Plate Repeatability - 29th Installation ...</td>\n",
       "      <td>88</td>\n",
       "      <td>2022-12-08 10:18:55</td>\n",
       "    </tr>\n",
       "  </tbody>\n",
       "</table>\n",
       "<p>410 rows × 10 columns</p>\n",
       "</div>"
      ],
      "text/plain": [
       "   Point         X         Y         Z      X_mm       Y_mm       Z_mm  \\\n",
       "0      A  0.122124  1.193630 -1.959151  3.101950  30.318202 -49.762435   \n",
       "1      B  0.139268 -0.565170 -2.160190  3.537407 -14.355318 -54.868826   \n",
       "2      C  0.170145 -1.336052 -0.441168  4.321683 -33.935721 -11.205667   \n",
       "3      D  0.194417 -0.306260  2.005804  4.938192  -7.779004  50.947422   \n",
       "4      E  0.151015  1.202173  0.004039  3.835781  30.535194   0.102591   \n",
       "..   ...       ...       ...       ...       ...        ...        ...   \n",
       "0      A  0.118483  1.150370 -1.985691  3.009468  29.219398 -50.436551   \n",
       "1      B  0.138190 -0.612875 -2.144690  3.510026 -15.567025 -54.475126   \n",
       "2      C  0.168725 -1.342556 -0.407690  4.285615 -34.100922 -10.355326   \n",
       "3      D  0.190342 -0.250500  2.013964  4.834687  -6.362700  51.154686   \n",
       "4      E  0.145657  1.205636 -0.023134  3.699688  30.623154  -0.587604   \n",
       "\n",
       "                                                Group  Group_Index  \\\n",
       "0   Black Plate Repeatability - 10th Installation ...            0   \n",
       "1   Black Plate Repeatability - 10th Installation ...            0   \n",
       "2   Black Plate Repeatability - 10th Installation ...            0   \n",
       "3   Black Plate Repeatability - 10th Installation ...            0   \n",
       "4   Black Plate Repeatability - 10th Installation ...            0   \n",
       "..                                                ...          ...   \n",
       "0   Black Plate Repeatability - 29th Installation ...           88   \n",
       "1   Black Plate Repeatability - 29th Installation ...           88   \n",
       "2   Black Plate Repeatability - 29th Installation ...           88   \n",
       "3   Black Plate Repeatability - 29th Installation ...           88   \n",
       "4   Black Plate Repeatability - 29th Installation ...           88   \n",
       "\n",
       "              Datetime  \n",
       "0  2022-12-06 14:10:24  \n",
       "1  2022-12-06 14:10:24  \n",
       "2  2022-12-06 14:10:24  \n",
       "3  2022-12-06 14:10:24  \n",
       "4  2022-12-06 14:10:24  \n",
       "..                 ...  \n",
       "0  2022-12-08 10:18:55  \n",
       "1  2022-12-08 10:18:55  \n",
       "2  2022-12-08 10:18:55  \n",
       "3  2022-12-08 10:18:55  \n",
       "4  2022-12-08 10:18:55  \n",
       "\n",
       "[410 rows x 10 columns]"
      ]
     },
     "execution_count": 14,
     "metadata": {},
     "output_type": "execute_result"
    }
   ],
   "source": [
    "df_meas"
   ]
  },
  {
   "cell_type": "code",
   "execution_count": 15,
   "metadata": {},
   "outputs": [
    {
     "data": {
      "text/plain": [
       "5.0"
      ]
     },
     "execution_count": 15,
     "metadata": {},
     "output_type": "execute_result"
    }
   ],
   "source": [
    "len(df_meas) / len(df_groups)"
   ]
  },
  {
   "cell_type": "code",
   "execution_count": 16,
   "metadata": {},
   "outputs": [
    {
     "data": {
      "image/png": "[encoded data removed]",
      "text/plain": [
       "<Figure size 720x576 with 1 Axes>"
      ]
     },
     "metadata": {},
     "output_type": "display_data"
    }
   ],
   "source": [
    "# plot everything, out of curiousity.\n",
    "fig, ax = plt.subplots()\n",
    "\n",
    "names = ['A', 'B', 'C', 'D', 'E']\n",
    "colors = ['red', 'green', 'blue', 'indigo', 'violet']\n",
    "\n",
    "for n, c in zip(names, colors):\n",
    "    df_ = df_meas.query(f'Point == \"{n}\"')\n",
    "    ax.scatter(df_.X, df_.Y, c=c, label=n)\n",
    "\n",
    "ax.axis('equal')\n",
    "    \n",
    "ax.set_xlabel('X [in]')\n",
    "ax.set_ylabel('Y [in]')\n",
    "ax.legend();"
   ]
  },
  {
   "cell_type": "code",
   "execution_count": 17,
   "metadata": {},
   "outputs": [
    {
     "data": {
      "image/png": "[encoded data removed]",
      "text/plain": [
       "<Figure size 720x576 with 1 Axes>"
      ]
     },
     "metadata": {},
     "output_type": "display_data"
    }
   ],
   "source": [
    "# X, Y plane should show this motion\n",
    "fig, ax = plt.subplots()\n",
    "\n",
    "names = ['A', 'B', 'C', 'D', 'E']\n",
    "colors = ['red', 'green', 'blue', 'indigo', 'violet']\n",
    "\n",
    "for n, c in zip(names, colors):\n",
    "    df_ = df_meas.query(f'Point == \"{n}\"')\n",
    "    ax.scatter(df_.Y, df_.Z, c=c, label=n)\n",
    "\n",
    "ax.axis('equal')\n",
    "    \n",
    "ax.set_xlabel('Y [in]')\n",
    "ax.set_ylabel('Z [in]')\n",
    "ax.legend();"
   ]
  },
  {
   "cell_type": "code",
   "execution_count": 17,
   "metadata": {},
   "outputs": [],
   "source": [
    "# floor, approximate dimensions\n",
    "# this is based on laser measurements I did 06-07-21. These are assuming center of magnet gap is center of magnet base\n",
    "# CAUTION! This also assumes the LT coordinates set up based on the magnet have XY plane completely coplanar with the floor.\n",
    "ypos_floor = mm_to_inch((0 + 0.838/2 + 1.307)*1e3) # m --> mm --> inch\n",
    "yneg_floor = mm_to_inch((0 - 0.838/2 - 0.594)*1e3) # m --> mm --> inch\n",
    "xpos_floor = mm_to_inch((0 + 0.825/2 + 0.270)*1e3) # m --> mm --> inch\n",
    "xneg_floor = mm_to_inch((0 - 0.825/2 - 0.730)*1e3) # m --> mm --> inch\n",
    "z_floor_height = -20. # ~17 inch to middle of magnet, plus extra few inches elevated from floor. NOT ACTUALLY SURE....THIS IS A GUESS.\n",
    "xs_fl = [xneg_floor, xpos_floor]\n",
    "ys_fl = [yneg_floor, ypos_floor]\n",
    "X_FL, Y_FL = np.meshgrid(xs_fl, ys_fl)\n",
    "Z_FL = z_floor_height*np.ones_like(X_FL)\n",
    "# door\n",
    "x0_door = xneg_floor\n",
    "y0_door = (ypos_floor+yneg_floor)/2\n",
    "Ly_door = 36.\n",
    "Lz_door = 78.\n",
    "ys_do = [y0_door-Ly_door/2, y0_door+Ly_door/2]\n",
    "zs_do = [z_floor_height, z_floor_height+Lz_door]\n",
    "Y_DO, Z_DO = np.meshgrid(ys_do, zs_do)\n",
    "X_DO = x0_door*np.ones_like(Y_DO)\n",
    "# laser tracker, approximate\n",
    "# Lx_LT = 2.\n",
    "# Ly_LT = 4.\n",
    "# Lz_LT = 4.\n",
    "X0_LT = 1.\n",
    "Y0_LT = -22.\n",
    "Z0_LT = 5.\n",
    "# X_LT = []\n",
    "# Y_LT = []\n",
    "# Z_LT = []\n",
    "# for s_x, s_y in zip([-1, -1, 1, 1], [-1, 1, -1, 1]):\n",
    "#     X_LT.append([])"
   ]
  },
  {
   "cell_type": "code",
   "execution_count": 59,
   "metadata": {},
   "outputs": [
    {
     "data": {
      "text/plain": [
       "107.83464566929135"
      ]
     },
     "execution_count": 59,
     "metadata": {},
     "output_type": "execute_result"
    }
   ],
   "source": [
    "(ypos_floor-yneg_floor)"
   ]
  },
  {
   "cell_type": "code",
   "execution_count": 60,
   "metadata": {},
   "outputs": [
    {
     "data": {
      "text/plain": [
       "107.83464566929135"
      ]
     },
     "execution_count": 60,
     "metadata": {},
     "output_type": "execute_result"
    }
   ],
   "source": [
    "mm_to_inch(2.739*1e3)"
   ]
  },
  {
   "cell_type": "code",
   "execution_count": 62,
   "metadata": {},
   "outputs": [
    {
     "data": {
      "text/plain": [
       "71.85039370078741"
      ]
     },
     "execution_count": 62,
     "metadata": {},
     "output_type": "execute_result"
    }
   ],
   "source": [
    "(xpos_floor-xneg_floor)"
   ]
  },
  {
   "cell_type": "code",
   "execution_count": 63,
   "metadata": {},
   "outputs": [
    {
     "data": {
      "text/plain": [
       "71.85039370078741"
      ]
     },
     "execution_count": 63,
     "metadata": {},
     "output_type": "execute_result"
    }
   ],
   "source": [
    "mm_to_inch(1.825*1e3)"
   ]
  },
  {
   "cell_type": "code",
   "execution_count": 64,
   "metadata": {},
   "outputs": [
    {
     "data": {
      "text/plain": [
       "14.035433070866148"
      ]
     },
     "execution_count": 64,
     "metadata": {},
     "output_type": "execute_result"
    }
   ],
   "source": [
    "(ypos_floor+yneg_floor)/2"
   ]
  },
  {
   "cell_type": "code",
   "execution_count": 61,
   "metadata": {},
   "outputs": [
    {
     "data": {
      "text/plain": [
       "-39.881889763779526"
      ]
     },
     "execution_count": 61,
     "metadata": {},
     "output_type": "execute_result"
    }
   ],
   "source": [
    "yneg_floor"
   ]
  },
  {
   "cell_type": "code",
   "execution_count": 54,
   "metadata": {},
   "outputs": [
    {
     "data": {
      "text/plain": [
       "94"
      ]
     },
     "execution_count": 54,
     "metadata": {},
     "output_type": "execute_result"
    }
   ],
   "source": [
    "7*12 +10"
   ]
  },
  {
   "cell_type": "code",
   "execution_count": 53,
   "metadata": {},
   "outputs": [
    {
     "data": {
      "text/plain": [
       "85"
      ]
     },
     "execution_count": 53,
     "metadata": {},
     "output_type": "execute_result"
    }
   ],
   "source": [
    "7*12 +1"
   ]
  },
  {
   "cell_type": "code",
   "execution_count": 55,
   "metadata": {},
   "outputs": [
    {
     "data": {
      "text/plain": [
       "0.838"
      ]
     },
     "execution_count": 55,
     "metadata": {},
     "output_type": "execute_result"
    }
   ],
   "source": [
    "2.739-1.307-0.594"
   ]
  },
  {
   "cell_type": "code",
   "execution_count": 56,
   "metadata": {},
   "outputs": [
    {
     "data": {
      "text/plain": [
       "0.825"
      ]
     },
     "execution_count": 56,
     "metadata": {},
     "output_type": "execute_result"
    }
   ],
   "source": [
    "1.825 - 0.270 - 0.730"
   ]
  },
  {
   "cell_type": "code",
   "execution_count": 77,
   "metadata": {},
   "outputs": [
    {
     "data": {
      "text/plain": [
       "16.358267716535433"
      ]
     },
     "execution_count": 77,
     "metadata": {},
     "output_type": "execute_result"
    }
   ],
   "source": [
    "mm_to_inch(831/2)"
   ]
  },
  {
   "cell_type": "code",
   "execution_count": 80,
   "metadata": {
    "code_folding": [
     0
    ]
   },
   "outputs": [],
   "source": [
    "# plot a single group\n",
    "group_ind = 0\n",
    "current_dir = 1\n",
    "# current_dir = -1\n",
    "\n",
    "point_dict = {\n",
    "    'A': 0,\n",
    "    'B': 1,\n",
    "    'C': 2,\n",
    "    'D': 3,\n",
    "    'E': 4,\n",
    "}\n",
    "point_cmap = [\n",
    "    [0/4, 'red'],\n",
    "    [1/4, 'green'],\n",
    "    [2/4, 'blue'],\n",
    "    [3/4, 'indigo'],\n",
    "    [4/4, 'violet'],\n",
    "]\n",
    "\n",
    "df_m = df_meas.query(f'Group_Index == {group_ind}')\n",
    "df_g = df_groups.query(f'Group_Index == {group_ind}')\n",
    "\n",
    "thetas = np.linspace(0, 2*np.pi, 100)\n",
    "# thetas = np.arange(0, 2*np.pi, 2*np.pi/100)\n",
    "R = mm_to_inch(250./2)\n",
    "Rs = np.linspace(0, R, 3)\n",
    "TH, RR = np.meshgrid(thetas, Rs)\n",
    "pole_pos = [mm_to_inch(75./2)*np.ones_like(TH), RR*np.cos(TH), RR*np.sin(TH)] # I think this is \"South\" for positive current --> blue. field points north to south\n",
    "pole_neg = [mm_to_inch(-75./2*np.ones_like(TH)), RR*np.cos(TH), RR*np.sin(TH)] # I think this is \"Norht\" for positive current --> red. field points north to south\n",
    "# pole_pos = [mm_to_inch(75./2)*np.ones_like(thetas), R*np.cos(thetas), R*np.sin(thetas)] # I think this is \"South\" for positive current --> blue. field points north to south\n",
    "# pole_neg = [mm_to_inch(-75./2*np.ones_like(thetas)), R*np.cos(thetas), R*np.sin(thetas)] # I think this is \"Norht\" for positive current --> red. field points north to south\n",
    "if current_dir > 0:\n",
    "    pole_labels = ['South', 'North']\n",
    "    pole_colors = ['blue', 'red']\n",
    "else:\n",
    "    pole_labels = ['North', 'South']\n",
    "    pole_colors = ['red', 'blue']\n",
    "#cvals = np.ones_like(thetas)\n",
    "cvals = np.ones_like(TH)\n",
    "\n",
    "data = [\n",
    "    # Pole Faces\n",
    "    go.Surface(x=pole_[0], y=pole_[1], z=pole_[2], surfacecolor=cvals,\n",
    "               colorscale=[[0,'rgba(0,0,0,0)'],[1,c_]],\n",
    "               showscale=False,\n",
    "               showlegend=True,\n",
    "               #legendgroup=1,\n",
    "               opacity=0.8,\n",
    "               name=f'Pole Face (\"{p_l}\" for Current Direction={current_dir})',\n",
    "              )\n",
    "for pole_, c_, p_l in zip([pole_pos, pole_neg], pole_colors, pole_labels)]\n",
    "\n",
    "# floor\n",
    "data.append(\n",
    "    go.Surface(x=X_FL, y=Y_FL, z=Z_FL, surfacecolor=cvals,\n",
    "               colorscale=[[0,'rgba(0,0,0,0)'],[1,'rgba(130,130,130,0.9)']],\n",
    "               showscale=False,\n",
    "               showlegend=True,\n",
    "               #legendgroup=1,\n",
    "               #opacity=0.8,\n",
    "               name=f'Floor (approx., assumes LT coords. XY coplanar to floor)',\n",
    "              )\n",
    ")\n",
    "# door\n",
    "data.append(\n",
    "    go.Surface(x=X_DO, y=Y_DO, z=Z_DO, surfacecolor=cvals,\n",
    "               colorscale=[[0,'rgba(0,0,0,0)'],[1,'rgba(250,247,155,0.9)']],\n",
    "               showscale=False,\n",
    "               showlegend=True,\n",
    "               #legendgroup=1,\n",
    "               #opacity=0.8,\n",
    "               name=f'Door',\n",
    "              )\n",
    ")\n",
    "\n",
    "# Laser Tracker approx. location\n",
    "data.append(go.Scatter3d(x=[X0_LT], y=[Y0_LT], z=[Z0_LT], mode='markers',\n",
    "                         name='Laser Tracker (approx.)',\n",
    "                         marker=dict(size=2, color='red', symbol='x',),\n",
    "#                          hovertemplate=f'{df_m.Point}',\n",
    "                        )\n",
    "           )\n",
    "\n",
    "# data = [\n",
    "#     # Pole Faces\n",
    "#     go.Scatter3d(x=pole_[0], y=pole_[1], z=pole_[2], mode='lines+markers',\n",
    "#                name=f'Pole Face (\"{p_l}\" for Current Direction={current_dir})',\n",
    "#               )\n",
    "# for pole_, c_, p_l in zip([pole_pos, pole_neg], pole_colors, pole_labels)]\n",
    "\n",
    "# data = [\n",
    "#     # Pole Faces\n",
    "#     go.Mesh3d(x=pole_[0], y=pole_[1], z=pole_[2], color=c_, opacity=0.8,\n",
    "#                name=f'Pole Face (\"{p_l}\" for Current Direction={current_dir})',\n",
    "#               )\n",
    "# for pole_, c_, p_l in zip([pole_pos, pole_neg], pole_colors, pole_labels)]\n",
    "\n",
    "data.append(go.Scatter3d(x=df_m.X, y=df_m.Y, z=df_m.Z, mode='markers',\n",
    "                         name='LT Measurements',\n",
    "                         text=df_m.Point,\n",
    "                         marker=dict(size=4, color=[point_dict[i] for i in df_m.Point], colorscale=point_cmap),\n",
    "#                          hovertemplate=f'{df_m.Point}',\n",
    "                        )\n",
    "           )\n",
    "\n",
    "layout = go.Layout(\n",
    "    title='Survey of SmarAct Kinematic Mounting Plate',\n",
    "    scene=dict(\n",
    "        xaxis=dict(title='X [inch]'),\n",
    "        yaxis=dict(title='Y [inch]'),\n",
    "        zaxis=dict(title='Z [inch]'),\n",
    "        aspectmode='data',\n",
    "    ),\n",
    "    #plot_bgcolor='rgb(240, 240, 240)',\n",
    ")\n",
    "\n",
    "fig = go.Figure(data=data, layout=layout)\n",
    "fig.write_html(plot_dir+'plotly_3d_test.html')"
   ]
  },
  {
   "cell_type": "code",
   "execution_count": 29,
   "metadata": {},
   "outputs": [
    {
     "data": {
      "application/vnd.plotly.v1+json": {
       "config": {
        "plotlyServerURL": "https://plot.ly"
       },
       "data": [
        {
         "colorscale": [
          [
           0,
           "rgba(0,0,0,0)"
          ],
          [
           1,
           "blue"
          ]
         ],
         "legendgroup": "1",
         "name": "Pole Face (\"South\" for Current Direction=1)",
         "opacity": 0.8,
         "showlegend": true,
         "showscale": false,
         "surfacecolor": [
          1,
          1,
          1,
          1,
          1,
          1,
          1,
          1,
          1,
          1,
          1,
          1,
          1,
          1,
          1,
          1,
          1,
          1,
          1,
          1,
          1,
          1,
          1,
          1,
          1,
          1,
          1,
          1,
          1,
          1,
          1,
          1,
          1,
          1,
          1,
          1,
          1,
          1,
          1,
          1,
          1,
          1,
          1,
          1,
          1,
          1,
          1,
          1,
          1,
          1,
          1,
          1,
          1,
          1,
          1,
          1,
          1,
          1,
          1,
          1,
          1,
          1,
          1,
          1,
          1,
          1,
          1,
          1,
          1,
          1,
          1,
          1,
          1,
          1,
          1,
          1,
          1,
          1,
          1,
          1,
          1,
          1,
          1,
          1,
          1,
          1,
          1,
          1,
          1,
          1,
          1,
          1,
          1,
          1,
          1,
          1,
          1,
          1,
          1,
          1
         ],
         "type": "surface",
         "x": [
          1.4763779527559056,
          1.4763779527559056,
          1.4763779527559056,
          1.4763779527559056,
          1.4763779527559056,
          1.4763779527559056,
          1.4763779527559056,
          1.4763779527559056,
          1.4763779527559056,
          1.4763779527559056,
          1.4763779527559056,
          1.4763779527559056,
          1.4763779527559056,
          1.4763779527559056,
          1.4763779527559056,
          1.4763779527559056,
          1.4763779527559056,
          1.4763779527559056,
          1.4763779527559056,
          1.4763779527559056,
          1.4763779527559056,
          1.4763779527559056,
          1.4763779527559056,
          1.4763779527559056,
          1.4763779527559056,
          1.4763779527559056,
          1.4763779527559056,
          1.4763779527559056,
          1.4763779527559056,
          1.4763779527559056,
          1.4763779527559056,
          1.4763779527559056,
          1.4763779527559056,
          1.4763779527559056,
          1.4763779527559056,
          1.4763779527559056,
          1.4763779527559056,
          1.4763779527559056,
          1.4763779527559056,
          1.4763779527559056,
          1.4763779527559056,
          1.4763779527559056,
          1.4763779527559056,
          1.4763779527559056,
          1.4763779527559056,
          1.4763779527559056,
          1.4763779527559056,
          1.4763779527559056,
          1.4763779527559056,
          1.4763779527559056,
          1.4763779527559056,
          1.4763779527559056,
          1.4763779527559056,
          1.4763779527559056,
          1.4763779527559056,
          1.4763779527559056,
          1.4763779527559056,
          1.4763779527559056,
          1.4763779527559056,
          1.4763779527559056,
          1.4763779527559056,
          1.4763779527559056,
          1.4763779527559056,
          1.4763779527559056,
          1.4763779527559056,
          1.4763779527559056,
          1.4763779527559056,
          1.4763779527559056,
          1.4763779527559056,
          1.4763779527559056,
          1.4763779527559056,
          1.4763779527559056,
          1.4763779527559056,
          1.4763779527559056,
          1.4763779527559056,
          1.4763779527559056,
          1.4763779527559056,
          1.4763779527559056,
          1.4763779527559056,
          1.4763779527559056,
          1.4763779527559056,
          1.4763779527559056,
          1.4763779527559056,
          1.4763779527559056,
          1.4763779527559056,
          1.4763779527559056,
          1.4763779527559056,
          1.4763779527559056,
          1.4763779527559056,
          1.4763779527559056,
          1.4763779527559056,
          1.4763779527559056,
          1.4763779527559056,
          1.4763779527559056,
          1.4763779527559056,
          1.4763779527559056,
          1.4763779527559056,
          1.4763779527559056,
          1.4763779527559056,
          1.4763779527559056
         ],
         "y": [
          4.921259842519685,
          4.91135175429077,
          4.881667385978323,
          4.8323262660566275,
          4.763527073800966,
          4.675546839276306,
          4.568739827835003,
          4.443536113615262,
          4.300439847784375,
          4.140027228499908,
          3.962944180763084,
          3.769903755506782,
          3.561683258391093,
          3.3391211198677766,
          3.1031135191167447,
          2.8546107754488097,
          2.594613521705228,
          2.324168675062415,
          2.0443652214659767,
          1.756329830668661,
          1.461222319528912,
          1.1602309818377328,
          0.8545678034789883,
          0.5454635821900152,
          0.23416297157353436,
          -0.07808053068311038,
          -0.39000963020073104,
          -0.7003682985890021,
          -1.007906831029482,
          -1.3113868783958418,
          -1.6095864336487287,
          -1.9013047524268145,
          -2.185367188020542,
          -2.4606299212598435,
          -2.7259845662702276,
          -2.98036263355151,
          -3.222739832407899,
          -3.452140195405125,
          -3.667640008246824,
          -3.8683715292460015,
          -4.053526483414531,
          -4.222359317101265,
          -4.374190200073442,
          -4.508407762953098,
          -4.6244715589857694,
          -4.721914240228826,
          -4.800343439396689,
          -4.859443349785405,
          -4.898975996914786,
          -4.918782196767643,
          -4.918782196767643,
          -4.898975996914786,
          -4.859443349785405,
          -4.800343439396689,
          -4.721914240228826,
          -4.62447155898577,
          -4.508407762953098,
          -4.374190200073443,
          -4.222359317101264,
          -4.053526483414531,
          -3.868371529246001,
          -3.667640008246825,
          -3.4521401954051245,
          -3.2227398324078997,
          -2.980362633551509,
          -2.725984566270229,
          -2.460629921259841,
          -2.185367188020541,
          -1.9013047524268145,
          -1.6095864336487298,
          -1.3113868783958398,
          -1.007906831029481,
          -0.7003682985890021,
          -0.39000963020073226,
          -0.07808053068310832,
          0.23416297157353536,
          0.5454635821900141,
          0.8545678034789861,
          1.1602309818377337,
          1.461222319528912,
          1.7563298306686599,
          2.0443652214659784,
          2.324168675062416,
          2.594613521705228,
          2.854610775448809,
          3.1031135191167465,
          3.339121119867777,
          3.561683258391093,
          3.7699037555067805,
          3.9629441807630843,
          4.140027228499908,
          4.300439847784375,
          4.443536113615261,
          4.568739827835003,
          4.675546839276306,
          4.763527073800966,
          4.832326266056628,
          4.881667385978323,
          4.91135175429077,
          4.921259842519685
         ],
         "z": [
          0,
          0.3121255888610458,
          0.6229943581385299,
          0.9313545490177668,
          1.2359645038438938,
          1.5355976658390114,
          1.8290475180134231,
          2.115132441383719,
          2.3927004729353776,
          2.660633944171248,
          2.917853981568112,
          3.163324850819583,
          3.3960581273725987,
          3.615116676464239,
          3.819618426632662,
          4.008739921507558,
          4.181719635578319,
          4.3378610405884945,
          4.476535410209244,
          4.59718435169836,
          4.699322054350757,
          4.782537245686721,
          4.846494847501024,
          4.8909373251045976,
          4.915685724325827,
          4.920640392095842,
          4.905781377716252,
          4.871168513193567,
          4.816941172316825,
          4.743317709448534,
          4.650594580288723,
          4.539145148152468,
          4.409418180567598,
          4.261936042246252,
          4.097292591706553,
          3.916150790013937,
          3.719240031270956,
          3.5073532056046393,
          3.2813435064778136,
          3.042120995180143,
          2.7906489363325337,
          2.527939919160464,
          2.2550517801545795,
          1.9730833435364843,
          1.6831699966814413,
          1.3864791183141225,
          1.0842053778865197,
          0.7775659250656983,
          0.46779548870168525,
          0.15614140501017548,
          -0.15614140501017648,
          -0.4677954887016862,
          -0.7775659250656992,
          -1.0842053778865186,
          -1.3864791183141232,
          -1.6831699966814402,
          -1.9730833435364852,
          -2.255051780154578,
          -2.5279399191604646,
          -2.790648936332533,
          -3.0421209951801442,
          -3.2813435064778127,
          -3.5073532056046406,
          -3.7192400312709557,
          -3.9161507900139374,
          -4.097292591706552,
          -4.261936042246254,
          -4.409418180567599,
          -4.539145148152468,
          -4.650594580288722,
          -4.743317709448534,
          -4.816941172316825,
          -4.871168513193567,
          -4.905781377716251,
          -4.920640392095842,
          -4.915685724325827,
          -4.8909373251045976,
          -4.846494847501025,
          -4.782537245686721,
          -4.699322054350757,
          -4.597184351698361,
          -4.476535410209244,
          -4.337861040588494,
          -4.181719635578319,
          -4.0087399215075585,
          -3.8196184266326605,
          -3.6151166764642384,
          -3.3960581273725987,
          -3.163324850819585,
          -2.9178539815681113,
          -2.660633944171247,
          -2.392700472935378,
          -2.1151324413837203,
          -1.8290475180134216,
          -1.5355976658390111,
          -1.2359645038438947,
          -0.9313545490177645,
          -0.6229943581385288,
          -0.31212558886104586,
          -1.205361022782828e-15
         ]
        },
        {
         "colorscale": [
          [
           0,
           "rgba(0,0,0,0)"
          ],
          [
           1,
           "red"
          ]
         ],
         "legendgroup": "1",
         "name": "Pole Face (\"North\" for Current Direction=1)",
         "opacity": 0.8,
         "showlegend": true,
         "showscale": false,
         "surfacecolor": [
          1,
          1,
          1,
          1,
          1,
          1,
          1,
          1,
          1,
          1,
          1,
          1,
          1,
          1,
          1,
          1,
          1,
          1,
          1,
          1,
          1,
          1,
          1,
          1,
          1,
          1,
          1,
          1,
          1,
          1,
          1,
          1,
          1,
          1,
          1,
          1,
          1,
          1,
          1,
          1,
          1,
          1,
          1,
          1,
          1,
          1,
          1,
          1,
          1,
          1,
          1,
          1,
          1,
          1,
          1,
          1,
          1,
          1,
          1,
          1,
          1,
          1,
          1,
          1,
          1,
          1,
          1,
          1,
          1,
          1,
          1,
          1,
          1,
          1,
          1,
          1,
          1,
          1,
          1,
          1,
          1,
          1,
          1,
          1,
          1,
          1,
          1,
          1,
          1,
          1,
          1,
          1,
          1,
          1,
          1,
          1,
          1,
          1,
          1,
          1
         ],
         "type": "surface",
         "x": [
          -1.4763779527559056,
          -1.4763779527559056,
          -1.4763779527559056,
          -1.4763779527559056,
          -1.4763779527559056,
          -1.4763779527559056,
          -1.4763779527559056,
          -1.4763779527559056,
          -1.4763779527559056,
          -1.4763779527559056,
          -1.4763779527559056,
          -1.4763779527559056,
          -1.4763779527559056,
          -1.4763779527559056,
          -1.4763779527559056,
          -1.4763779527559056,
          -1.4763779527559056,
          -1.4763779527559056,
          -1.4763779527559056,
          -1.4763779527559056,
          -1.4763779527559056,
          -1.4763779527559056,
          -1.4763779527559056,
          -1.4763779527559056,
          -1.4763779527559056,
          -1.4763779527559056,
          -1.4763779527559056,
          -1.4763779527559056,
          -1.4763779527559056,
          -1.4763779527559056,
          -1.4763779527559056,
          -1.4763779527559056,
          -1.4763779527559056,
          -1.4763779527559056,
          -1.4763779527559056,
          -1.4763779527559056,
          -1.4763779527559056,
          -1.4763779527559056,
          -1.4763779527559056,
          -1.4763779527559056,
          -1.4763779527559056,
          -1.4763779527559056,
          -1.4763779527559056,
          -1.4763779527559056,
          -1.4763779527559056,
          -1.4763779527559056,
          -1.4763779527559056,
          -1.4763779527559056,
          -1.4763779527559056,
          -1.4763779527559056,
          -1.4763779527559056,
          -1.4763779527559056,
          -1.4763779527559056,
          -1.4763779527559056,
          -1.4763779527559056,
          -1.4763779527559056,
          -1.4763779527559056,
          -1.4763779527559056,
          -1.4763779527559056,
          -1.4763779527559056,
          -1.4763779527559056,
          -1.4763779527559056,
          -1.4763779527559056,
          -1.4763779527559056,
          -1.4763779527559056,
          -1.4763779527559056,
          -1.4763779527559056,
          -1.4763779527559056,
          -1.4763779527559056,
          -1.4763779527559056,
          -1.4763779527559056,
          -1.4763779527559056,
          -1.4763779527559056,
          -1.4763779527559056,
          -1.4763779527559056,
          -1.4763779527559056,
          -1.4763779527559056,
          -1.4763779527559056,
          -1.4763779527559056,
          -1.4763779527559056,
          -1.4763779527559056,
          -1.4763779527559056,
          -1.4763779527559056,
          -1.4763779527559056,
          -1.4763779527559056,
          -1.4763779527559056,
          -1.4763779527559056,
          -1.4763779527559056,
          -1.4763779527559056,
          -1.4763779527559056,
          -1.4763779527559056,
          -1.4763779527559056,
          -1.4763779527559056,
          -1.4763779527559056,
          -1.4763779527559056,
          -1.4763779527559056,
          -1.4763779527559056,
          -1.4763779527559056,
          -1.4763779527559056,
          -1.4763779527559056
         ],
         "y": [
          4.921259842519685,
          4.91135175429077,
          4.881667385978323,
          4.8323262660566275,
          4.763527073800966,
          4.675546839276306,
          4.568739827835003,
          4.443536113615262,
          4.300439847784375,
          4.140027228499908,
          3.962944180763084,
          3.769903755506782,
          3.561683258391093,
          3.3391211198677766,
          3.1031135191167447,
          2.8546107754488097,
          2.594613521705228,
          2.324168675062415,
          2.0443652214659767,
          1.756329830668661,
          1.461222319528912,
          1.1602309818377328,
          0.8545678034789883,
          0.5454635821900152,
          0.23416297157353436,
          -0.07808053068311038,
          -0.39000963020073104,
          -0.7003682985890021,
          -1.007906831029482,
          -1.3113868783958418,
          -1.6095864336487287,
          -1.9013047524268145,
          -2.185367188020542,
          -2.4606299212598435,
          -2.7259845662702276,
          -2.98036263355151,
          -3.222739832407899,
          -3.452140195405125,
          -3.667640008246824,
          -3.8683715292460015,
          -4.053526483414531,
          -4.222359317101265,
          -4.374190200073442,
          -4.508407762953098,
          -4.6244715589857694,
          -4.721914240228826,
          -4.800343439396689,
          -4.859443349785405,
          -4.898975996914786,
          -4.918782196767643,
          -4.918782196767643,
          -4.898975996914786,
          -4.859443349785405,
          -4.800343439396689,
          -4.721914240228826,
          -4.62447155898577,
          -4.508407762953098,
          -4.374190200073443,
          -4.222359317101264,
          -4.053526483414531,
          -3.868371529246001,
          -3.667640008246825,
          -3.4521401954051245,
          -3.2227398324078997,
          -2.980362633551509,
          -2.725984566270229,
          -2.460629921259841,
          -2.185367188020541,
          -1.9013047524268145,
          -1.6095864336487298,
          -1.3113868783958398,
          -1.007906831029481,
          -0.7003682985890021,
          -0.39000963020073226,
          -0.07808053068310832,
          0.23416297157353536,
          0.5454635821900141,
          0.8545678034789861,
          1.1602309818377337,
          1.461222319528912,
          1.7563298306686599,
          2.0443652214659784,
          2.324168675062416,
          2.594613521705228,
          2.854610775448809,
          3.1031135191167465,
          3.339121119867777,
          3.561683258391093,
          3.7699037555067805,
          3.9629441807630843,
          4.140027228499908,
          4.300439847784375,
          4.443536113615261,
          4.568739827835003,
          4.675546839276306,
          4.763527073800966,
          4.832326266056628,
          4.881667385978323,
          4.91135175429077,
          4.921259842519685
         ],
         "z": [
          0,
          0.3121255888610458,
          0.6229943581385299,
          0.9313545490177668,
          1.2359645038438938,
          1.5355976658390114,
          1.8290475180134231,
          2.115132441383719,
          2.3927004729353776,
          2.660633944171248,
          2.917853981568112,
          3.163324850819583,
          3.3960581273725987,
          3.615116676464239,
          3.819618426632662,
          4.008739921507558,
          4.181719635578319,
          4.3378610405884945,
          4.476535410209244,
          4.59718435169836,
          4.699322054350757,
          4.782537245686721,
          4.846494847501024,
          4.8909373251045976,
          4.915685724325827,
          4.920640392095842,
          4.905781377716252,
          4.871168513193567,
          4.816941172316825,
          4.743317709448534,
          4.650594580288723,
          4.539145148152468,
          4.409418180567598,
          4.261936042246252,
          4.097292591706553,
          3.916150790013937,
          3.719240031270956,
          3.5073532056046393,
          3.2813435064778136,
          3.042120995180143,
          2.7906489363325337,
          2.527939919160464,
          2.2550517801545795,
          1.9730833435364843,
          1.6831699966814413,
          1.3864791183141225,
          1.0842053778865197,
          0.7775659250656983,
          0.46779548870168525,
          0.15614140501017548,
          -0.15614140501017648,
          -0.4677954887016862,
          -0.7775659250656992,
          -1.0842053778865186,
          -1.3864791183141232,
          -1.6831699966814402,
          -1.9730833435364852,
          -2.255051780154578,
          -2.5279399191604646,
          -2.790648936332533,
          -3.0421209951801442,
          -3.2813435064778127,
          -3.5073532056046406,
          -3.7192400312709557,
          -3.9161507900139374,
          -4.097292591706552,
          -4.261936042246254,
          -4.409418180567599,
          -4.539145148152468,
          -4.650594580288722,
          -4.743317709448534,
          -4.816941172316825,
          -4.871168513193567,
          -4.905781377716251,
          -4.920640392095842,
          -4.915685724325827,
          -4.8909373251045976,
          -4.846494847501025,
          -4.782537245686721,
          -4.699322054350757,
          -4.597184351698361,
          -4.476535410209244,
          -4.337861040588494,
          -4.181719635578319,
          -4.0087399215075585,
          -3.8196184266326605,
          -3.6151166764642384,
          -3.3960581273725987,
          -3.163324850819585,
          -2.9178539815681113,
          -2.660633944171247,
          -2.392700472935378,
          -2.1151324413837203,
          -1.8290475180134216,
          -1.5355976658390111,
          -1.2359645038438947,
          -0.9313545490177645,
          -0.6229943581385288,
          -0.31212558886104586,
          -1.205361022782828e-15
         ]
        },
        {
         "marker": {
          "color": [
           1,
           2,
           3,
           4,
           5
          ],
          "colorscale": [
           [
            0.2,
            "red"
           ],
           [
            0.4,
            "green"
           ],
           [
            0.6,
            "blue"
           ],
           [
            0.8,
            "indigo"
           ],
           [
            1,
            "violet"
           ]
          ],
          "size": 12
         },
         "mode": "markers",
         "type": "scatter3d",
         "x": [
          0.122124,
          0.139268,
          0.170145,
          0.194417,
          0.151015
         ],
         "y": [
          1.19363,
          -0.56517,
          -1.336052,
          -0.30626,
          1.202173
         ],
         "z": [
          -1.959151,
          -2.16019,
          -0.441168,
          2.005804,
          0.004039
         ]
        }
       ],
       "layout": {
        "scene": {
         "xaxis": {
          "title": {
           "text": "X [inch]"
          }
         },
         "yaxis": {
          "title": {
           "text": "Y [inch]"
          }
         },
         "zaxis": {
          "title": {
           "text": "Z [inch]"
          }
         }
        },
        "template": {
         "data": {
          "bar": [
           {
            "error_x": {
             "color": "#2a3f5f"
            },
            "error_y": {
             "color": "#2a3f5f"
            },
            "marker": {
             "line": {
              "color": "#E5ECF6",
              "width": 0.5
             },
             "pattern": {
              "fillmode": "overlay",
              "size": 10,
              "solidity": 0.2
             }
            },
            "type": "bar"
           }
          ],
          "barpolar": [
           {
            "marker": {
             "line": {
              "color": "#E5ECF6",
              "width": 0.5
             },
             "pattern": {
              "fillmode": "overlay",
              "size": 10,
              "solidity": 0.2
             }
            },
            "type": "barpolar"
           }
          ],
          "carpet": [
           {
            "aaxis": {
             "endlinecolor": "#2a3f5f",
             "gridcolor": "white",
             "linecolor": "white",
             "minorgridcolor": "white",
             "startlinecolor": "#2a3f5f"
            },
            "baxis": {
             "endlinecolor": "#2a3f5f",
             "gridcolor": "white",
             "linecolor": "white",
             "minorgridcolor": "white",
             "startlinecolor": "#2a3f5f"
            },
            "type": "carpet"
           }
          ],
          "choropleth": [
           {
            "colorbar": {
             "outlinewidth": 0,
             "ticks": ""
            },
            "type": "choropleth"
           }
          ],
          "contour": [
           {
            "colorbar": {
             "outlinewidth": 0,
             "ticks": ""
            },
            "colorscale": [
             [
              0,
              "#0d0887"
             ],
             [
              0.1111111111111111,
              "#46039f"
             ],
             [
              0.2222222222222222,
              "#7201a8"
             ],
             [
              0.3333333333333333,
              "#9c179e"
             ],
             [
              0.4444444444444444,
              "#bd3786"
             ],
             [
              0.5555555555555556,
              "#d8576b"
             ],
             [
              0.6666666666666666,
              "#ed7953"
             ],
             [
              0.7777777777777778,
              "#fb9f3a"
             ],
             [
              0.8888888888888888,
              "#fdca26"
             ],
             [
              1,
              "#f0f921"
             ]
            ],
            "type": "contour"
           }
          ],
          "contourcarpet": [
           {
            "colorbar": {
             "outlinewidth": 0,
             "ticks": ""
            },
            "type": "contourcarpet"
           }
          ],
          "heatmap": [
           {
            "colorbar": {
             "outlinewidth": 0,
             "ticks": ""
            },
            "colorscale": [
             [
              0,
              "#0d0887"
             ],
             [
              0.1111111111111111,
              "#46039f"
             ],
             [
              0.2222222222222222,
              "#7201a8"
             ],
             [
              0.3333333333333333,
              "#9c179e"
             ],
             [
              0.4444444444444444,
              "#bd3786"
             ],
             [
              0.5555555555555556,
              "#d8576b"
             ],
             [
              0.6666666666666666,
              "#ed7953"
             ],
             [
              0.7777777777777778,
              "#fb9f3a"
             ],
             [
              0.8888888888888888,
              "#fdca26"
             ],
             [
              1,
              "#f0f921"
             ]
            ],
            "type": "heatmap"
           }
          ],
          "heatmapgl": [
           {
            "colorbar": {
             "outlinewidth": 0,
             "ticks": ""
            },
            "colorscale": [
             [
              0,
              "#0d0887"
             ],
             [
              0.1111111111111111,
              "#46039f"
             ],
             [
              0.2222222222222222,
              "#7201a8"
             ],
             [
              0.3333333333333333,
              "#9c179e"
             ],
             [
              0.4444444444444444,
              "#bd3786"
             ],
             [
              0.5555555555555556,
              "#d8576b"
             ],
             [
              0.6666666666666666,
              "#ed7953"
             ],
             [
              0.7777777777777778,
              "#fb9f3a"
             ],
             [
              0.8888888888888888,
              "#fdca26"
             ],
             [
              1,
              "#f0f921"
             ]
            ],
            "type": "heatmapgl"
           }
          ],
          "histogram": [
           {
            "marker": {
             "pattern": {
              "fillmode": "overlay",
              "size": 10,
              "solidity": 0.2
             }
            },
            "type": "histogram"
           }
          ],
          "histogram2d": [
           {
            "colorbar": {
             "outlinewidth": 0,
             "ticks": ""
            },
            "colorscale": [
             [
              0,
              "#0d0887"
             ],
             [
              0.1111111111111111,
              "#46039f"
             ],
             [
              0.2222222222222222,
              "#7201a8"
             ],
             [
              0.3333333333333333,
              "#9c179e"
             ],
             [
              0.4444444444444444,
              "#bd3786"
             ],
             [
              0.5555555555555556,
              "#d8576b"
             ],
             [
              0.6666666666666666,
              "#ed7953"
             ],
             [
              0.7777777777777778,
              "#fb9f3a"
             ],
             [
              0.8888888888888888,
              "#fdca26"
             ],
             [
              1,
              "#f0f921"
             ]
            ],
            "type": "histogram2d"
           }
          ],
          "histogram2dcontour": [
           {
            "colorbar": {
             "outlinewidth": 0,
             "ticks": ""
            },
            "colorscale": [
             [
              0,
              "#0d0887"
             ],
             [
              0.1111111111111111,
              "#46039f"
             ],
             [
              0.2222222222222222,
              "#7201a8"
             ],
             [
              0.3333333333333333,
              "#9c179e"
             ],
             [
              0.4444444444444444,
              "#bd3786"
             ],
             [
              0.5555555555555556,
              "#d8576b"
             ],
             [
              0.6666666666666666,
              "#ed7953"
             ],
             [
              0.7777777777777778,
              "#fb9f3a"
             ],
             [
              0.8888888888888888,
              "#fdca26"
             ],
             [
              1,
              "#f0f921"
             ]
            ],
            "type": "histogram2dcontour"
           }
          ],
          "mesh3d": [
           {
            "colorbar": {
             "outlinewidth": 0,
             "ticks": ""
            },
            "type": "mesh3d"
           }
          ],
          "parcoords": [
           {
            "line": {
             "colorbar": {
              "outlinewidth": 0,
              "ticks": ""
             }
            },
            "type": "parcoords"
           }
          ],
          "pie": [
           {
            "automargin": true,
            "type": "pie"
           }
          ],
          "scatter": [
           {
            "marker": {
             "colorbar": {
              "outlinewidth": 0,
              "ticks": ""
             }
            },
            "type": "scatter"
           }
          ],
          "scatter3d": [
           {
            "line": {
             "colorbar": {
              "outlinewidth": 0,
              "ticks": ""
             }
            },
            "marker": {
             "colorbar": {
              "outlinewidth": 0,
              "ticks": ""
             }
            },
            "type": "scatter3d"
           }
          ],
          "scattercarpet": [
           {
            "marker": {
             "colorbar": {
              "outlinewidth": 0,
              "ticks": ""
             }
            },
            "type": "scattercarpet"
           }
          ],
          "scattergeo": [
           {
            "marker": {
             "colorbar": {
              "outlinewidth": 0,
              "ticks": ""
             }
            },
            "type": "scattergeo"
           }
          ],
          "scattergl": [
           {
            "marker": {
             "colorbar": {
              "outlinewidth": 0,
              "ticks": ""
             }
            },
            "type": "scattergl"
           }
          ],
          "scattermapbox": [
           {
            "marker": {
             "colorbar": {
              "outlinewidth": 0,
              "ticks": ""
             }
            },
            "type": "scattermapbox"
           }
          ],
          "scatterpolar": [
           {
            "marker": {
             "colorbar": {
              "outlinewidth": 0,
              "ticks": ""
             }
            },
            "type": "scatterpolar"
           }
          ],
          "scatterpolargl": [
           {
            "marker": {
             "colorbar": {
              "outlinewidth": 0,
              "ticks": ""
             }
            },
            "type": "scatterpolargl"
           }
          ],
          "scatterternary": [
           {
            "marker": {
             "colorbar": {
              "outlinewidth": 0,
              "ticks": ""
             }
            },
            "type": "scatterternary"
           }
          ],
          "surface": [
           {
            "colorbar": {
             "outlinewidth": 0,
             "ticks": ""
            },
            "colorscale": [
             [
              0,
              "#0d0887"
             ],
             [
              0.1111111111111111,
              "#46039f"
             ],
             [
              0.2222222222222222,
              "#7201a8"
             ],
             [
              0.3333333333333333,
              "#9c179e"
             ],
             [
              0.4444444444444444,
              "#bd3786"
             ],
             [
              0.5555555555555556,
              "#d8576b"
             ],
             [
              0.6666666666666666,
              "#ed7953"
             ],
             [
              0.7777777777777778,
              "#fb9f3a"
             ],
             [
              0.8888888888888888,
              "#fdca26"
             ],
             [
              1,
              "#f0f921"
             ]
            ],
            "type": "surface"
           }
          ],
          "table": [
           {
            "cells": {
             "fill": {
              "color": "#EBF0F8"
             },
             "line": {
              "color": "white"
             }
            },
            "header": {
             "fill": {
              "color": "#C8D4E3"
             },
             "line": {
              "color": "white"
             }
            },
            "type": "table"
           }
          ]
         },
         "layout": {
          "annotationdefaults": {
           "arrowcolor": "#2a3f5f",
           "arrowhead": 0,
           "arrowwidth": 1
          },
          "autotypenumbers": "strict",
          "coloraxis": {
           "colorbar": {
            "outlinewidth": 0,
            "ticks": ""
           }
          },
          "colorscale": {
           "diverging": [
            [
             0,
             "#8e0152"
            ],
            [
             0.1,
             "#c51b7d"
            ],
            [
             0.2,
             "#de77ae"
            ],
            [
             0.3,
             "#f1b6da"
            ],
            [
             0.4,
             "#fde0ef"
            ],
            [
             0.5,
             "#f7f7f7"
            ],
            [
             0.6,
             "#e6f5d0"
            ],
            [
             0.7,
             "#b8e186"
            ],
            [
             0.8,
             "#7fbc41"
            ],
            [
             0.9,
             "#4d9221"
            ],
            [
             1,
             "#276419"
            ]
           ],
           "sequential": [
            [
             0,
             "#0d0887"
            ],
            [
             0.1111111111111111,
             "#46039f"
            ],
            [
             0.2222222222222222,
             "#7201a8"
            ],
            [
             0.3333333333333333,
             "#9c179e"
            ],
            [
             0.4444444444444444,
             "#bd3786"
            ],
            [
             0.5555555555555556,
             "#d8576b"
            ],
            [
             0.6666666666666666,
             "#ed7953"
            ],
            [
             0.7777777777777778,
             "#fb9f3a"
            ],
            [
             0.8888888888888888,
             "#fdca26"
            ],
            [
             1,
             "#f0f921"
            ]
           ],
           "sequentialminus": [
            [
             0,
             "#0d0887"
            ],
            [
             0.1111111111111111,
             "#46039f"
            ],
            [
             0.2222222222222222,
             "#7201a8"
            ],
            [
             0.3333333333333333,
             "#9c179e"
            ],
            [
             0.4444444444444444,
             "#bd3786"
            ],
            [
             0.5555555555555556,
             "#d8576b"
            ],
            [
             0.6666666666666666,
             "#ed7953"
            ],
            [
             0.7777777777777778,
             "#fb9f3a"
            ],
            [
             0.8888888888888888,
             "#fdca26"
            ],
            [
             1,
             "#f0f921"
            ]
           ]
          },
          "colorway": [
           "#636efa",
           "#EF553B",
           "#00cc96",
           "#ab63fa",
           "#FFA15A",
           "#19d3f3",
           "#FF6692",
           "#B6E880",
           "#FF97FF",
           "#FECB52"
          ],
          "font": {
           "color": "#2a3f5f"
          },
          "geo": {
           "bgcolor": "white",
           "lakecolor": "white",
           "landcolor": "#E5ECF6",
           "showlakes": true,
           "showland": true,
           "subunitcolor": "white"
          },
          "hoverlabel": {
           "align": "left"
          },
          "hovermode": "closest",
          "mapbox": {
           "style": "light"
          },
          "paper_bgcolor": "white",
          "plot_bgcolor": "#E5ECF6",
          "polar": {
           "angularaxis": {
            "gridcolor": "white",
            "linecolor": "white",
            "ticks": ""
           },
           "bgcolor": "#E5ECF6",
           "radialaxis": {
            "gridcolor": "white",
            "linecolor": "white",
            "ticks": ""
           }
          },
          "scene": {
           "xaxis": {
            "backgroundcolor": "#E5ECF6",
            "gridcolor": "white",
            "gridwidth": 2,
            "linecolor": "white",
            "showbackground": true,
            "ticks": "",
            "zerolinecolor": "white"
           },
           "yaxis": {
            "backgroundcolor": "#E5ECF6",
            "gridcolor": "white",
            "gridwidth": 2,
            "linecolor": "white",
            "showbackground": true,
            "ticks": "",
            "zerolinecolor": "white"
           },
           "zaxis": {
            "backgroundcolor": "#E5ECF6",
            "gridcolor": "white",
            "gridwidth": 2,
            "linecolor": "white",
            "showbackground": true,
            "ticks": "",
            "zerolinecolor": "white"
           }
          },
          "shapedefaults": {
           "line": {
            "color": "#2a3f5f"
           }
          },
          "ternary": {
           "aaxis": {
            "gridcolor": "white",
            "linecolor": "white",
            "ticks": ""
           },
           "baxis": {
            "gridcolor": "white",
            "linecolor": "white",
            "ticks": ""
           },
           "bgcolor": "#E5ECF6",
           "caxis": {
            "gridcolor": "white",
            "linecolor": "white",
            "ticks": ""
           }
          },
          "title": {
           "x": 0.05
          },
          "xaxis": {
           "automargin": true,
           "gridcolor": "white",
           "linecolor": "white",
           "ticks": "",
           "title": {
            "standoff": 15
           },
           "zerolinecolor": "white",
           "zerolinewidth": 2
          },
          "yaxis": {
           "automargin": true,
           "gridcolor": "white",
           "linecolor": "white",
           "ticks": "",
           "title": {
            "standoff": 15
           },
           "zerolinecolor": "white",
           "zerolinewidth": 2
          }
         }
        },
        "title": {
         "text": "Survey of SmarAct Kinematic Mounting Plate"
        }
       }
      },
      "text/html": [
       "<div>                            <div id=\"7a41d5bf-f6e1-455d-b138-1329b29cf633\" class=\"plotly-graph-div\" style=\"height:525px; width:100%;\"></div>            <script type=\"text/javascript\">                require([\"plotly\"], function(Plotly) {                    window.PLOTLYENV=window.PLOTLYENV || {};                                    if (document.getElementById(\"7a41d5bf-f6e1-455d-b138-1329b29cf633\")) {                    Plotly.newPlot(                        \"7a41d5bf-f6e1-455d-b138-1329b29cf633\",                        [{\"colorscale\":[[0,\"rgba(0,0,0,0)\"],[1,\"blue\"]],\"legendgroup\":\"1\",\"name\":\"Pole Face (\\\"South\\\" for Current Direction=1)\",\"opacity\":0.8,\"showlegend\":true,\"showscale\":false,\"surfacecolor\":[1.0,1.0,1.0,1.0,1.0,1.0,1.0,1.0,1.0,1.0,1.0,1.0,1.0,1.0,1.0,1.0,1.0,1.0,1.0,1.0,1.0,1.0,1.0,1.0,1.0,1.0,1.0,1.0,1.0,1.0,1.0,1.0,1.0,1.0,1.0,1.0,1.0,1.0,1.0,1.0,1.0,1.0,1.0,1.0,1.0,1.0,1.0,1.0,1.0,1.0,1.0,1.0,1.0,1.0,1.0,1.0,1.0,1.0,1.0,1.0,1.0,1.0,1.0,1.0,1.0,1.0,1.0,1.0,1.0,1.0,1.0,1.0,1.0,1.0,1.0,1.0,1.0,1.0,1.0,1.0,1.0,1.0,1.0,1.0,1.0,1.0,1.0,1.0,1.0,1.0,1.0,1.0,1.0,1.0,1.0,1.0,1.0,1.0,1.0,1.0],\"type\":\"surface\",\"x\":[1.4763779527559056,1.4763779527559056,1.4763779527559056,1.4763779527559056,1.4763779527559056,1.4763779527559056,1.4763779527559056,1.4763779527559056,1.4763779527559056,1.4763779527559056,1.4763779527559056,1.4763779527559056,1.4763779527559056,1.4763779527559056,1.4763779527559056,1.4763779527559056,1.4763779527559056,1.4763779527559056,1.4763779527559056,1.4763779527559056,1.4763779527559056,1.4763779527559056,1.4763779527559056,1.4763779527559056,1.4763779527559056,1.4763779527559056,1.4763779527559056,1.4763779527559056,1.4763779527559056,1.4763779527559056,1.4763779527559056,1.4763779527559056,1.4763779527559056,1.4763779527559056,1.4763779527559056,1.4763779527559056,1.4763779527559056,1.4763779527559056,1.4763779527559056,1.4763779527559056,1.4763779527559056,1.4763779527559056,1.4763779527559056,1.4763779527559056,1.4763779527559056,1.4763779527559056,1.4763779527559056,1.4763779527559056,1.4763779527559056,1.4763779527559056,1.4763779527559056,1.4763779527559056,1.4763779527559056,1.4763779527559056,1.4763779527559056,1.4763779527559056,1.4763779527559056,1.4763779527559056,1.4763779527559056,1.4763779527559056,1.4763779527559056,1.4763779527559056,1.4763779527559056,1.4763779527559056,1.4763779527559056,1.4763779527559056,1.4763779527559056,1.4763779527559056,1.4763779527559056,1.4763779527559056,1.4763779527559056,1.4763779527559056,1.4763779527559056,1.4763779527559056,1.4763779527559056,1.4763779527559056,1.4763779527559056,1.4763779527559056,1.4763779527559056,1.4763779527559056,1.4763779527559056,1.4763779527559056,1.4763779527559056,1.4763779527559056,1.4763779527559056,1.4763779527559056,1.4763779527559056,1.4763779527559056,1.4763779527559056,1.4763779527559056,1.4763779527559056,1.4763779527559056,1.4763779527559056,1.4763779527559056,1.4763779527559056,1.4763779527559056,1.4763779527559056,1.4763779527559056,1.4763779527559056,1.4763779527559056],\"y\":[4.921259842519685,4.91135175429077,4.881667385978323,4.8323262660566275,4.763527073800966,4.675546839276306,4.568739827835003,4.443536113615262,4.300439847784375,4.140027228499908,3.962944180763084,3.769903755506782,3.561683258391093,3.3391211198677766,3.1031135191167447,2.8546107754488097,2.594613521705228,2.324168675062415,2.0443652214659767,1.756329830668661,1.461222319528912,1.1602309818377328,0.8545678034789883,0.5454635821900152,0.23416297157353436,-0.07808053068311038,-0.39000963020073104,-0.7003682985890021,-1.007906831029482,-1.3113868783958418,-1.6095864336487287,-1.9013047524268145,-2.185367188020542,-2.4606299212598435,-2.7259845662702276,-2.98036263355151,-3.222739832407899,-3.452140195405125,-3.667640008246824,-3.8683715292460015,-4.053526483414531,-4.222359317101265,-4.374190200073442,-4.508407762953098,-4.6244715589857694,-4.721914240228826,-4.800343439396689,-4.859443349785405,-4.898975996914786,-4.918782196767643,-4.918782196767643,-4.898975996914786,-4.859443349785405,-4.800343439396689,-4.721914240228826,-4.62447155898577,-4.508407762953098,-4.374190200073443,-4.222359317101264,-4.053526483414531,-3.868371529246001,-3.667640008246825,-3.4521401954051245,-3.2227398324078997,-2.980362633551509,-2.725984566270229,-2.460629921259841,-2.185367188020541,-1.9013047524268145,-1.6095864336487298,-1.3113868783958398,-1.007906831029481,-0.7003682985890021,-0.39000963020073226,-0.07808053068310832,0.23416297157353536,0.5454635821900141,0.8545678034789861,1.1602309818377337,1.461222319528912,1.7563298306686599,2.0443652214659784,2.324168675062416,2.594613521705228,2.854610775448809,3.1031135191167465,3.339121119867777,3.561683258391093,3.7699037555067805,3.9629441807630843,4.140027228499908,4.300439847784375,4.443536113615261,4.568739827835003,4.675546839276306,4.763527073800966,4.832326266056628,4.881667385978323,4.91135175429077,4.921259842519685],\"z\":[0.0,0.3121255888610458,0.6229943581385299,0.9313545490177668,1.2359645038438938,1.5355976658390114,1.8290475180134231,2.115132441383719,2.3927004729353776,2.660633944171248,2.917853981568112,3.163324850819583,3.3960581273725987,3.615116676464239,3.819618426632662,4.008739921507558,4.181719635578319,4.3378610405884945,4.476535410209244,4.59718435169836,4.699322054350757,4.782537245686721,4.846494847501024,4.8909373251045976,4.915685724325827,4.920640392095842,4.905781377716252,4.871168513193567,4.816941172316825,4.743317709448534,4.650594580288723,4.539145148152468,4.409418180567598,4.261936042246252,4.097292591706553,3.916150790013937,3.719240031270956,3.5073532056046393,3.2813435064778136,3.042120995180143,2.7906489363325337,2.527939919160464,2.2550517801545795,1.9730833435364843,1.6831699966814413,1.3864791183141225,1.0842053778865197,0.7775659250656983,0.46779548870168525,0.15614140501017548,-0.15614140501017648,-0.4677954887016862,-0.7775659250656992,-1.0842053778865186,-1.3864791183141232,-1.6831699966814402,-1.9730833435364852,-2.255051780154578,-2.5279399191604646,-2.790648936332533,-3.0421209951801442,-3.2813435064778127,-3.5073532056046406,-3.7192400312709557,-3.9161507900139374,-4.097292591706552,-4.261936042246254,-4.409418180567599,-4.539145148152468,-4.650594580288722,-4.743317709448534,-4.816941172316825,-4.871168513193567,-4.905781377716251,-4.920640392095842,-4.915685724325827,-4.8909373251045976,-4.846494847501025,-4.782537245686721,-4.699322054350757,-4.597184351698361,-4.476535410209244,-4.337861040588494,-4.181719635578319,-4.0087399215075585,-3.8196184266326605,-3.6151166764642384,-3.3960581273725987,-3.163324850819585,-2.9178539815681113,-2.660633944171247,-2.392700472935378,-2.1151324413837203,-1.8290475180134216,-1.5355976658390111,-1.2359645038438947,-0.9313545490177645,-0.6229943581385288,-0.31212558886104586,-1.205361022782828e-15]},{\"colorscale\":[[0,\"rgba(0,0,0,0)\"],[1,\"red\"]],\"legendgroup\":\"1\",\"name\":\"Pole Face (\\\"North\\\" for Current Direction=1)\",\"opacity\":0.8,\"showlegend\":true,\"showscale\":false,\"surfacecolor\":[1.0,1.0,1.0,1.0,1.0,1.0,1.0,1.0,1.0,1.0,1.0,1.0,1.0,1.0,1.0,1.0,1.0,1.0,1.0,1.0,1.0,1.0,1.0,1.0,1.0,1.0,1.0,1.0,1.0,1.0,1.0,1.0,1.0,1.0,1.0,1.0,1.0,1.0,1.0,1.0,1.0,1.0,1.0,1.0,1.0,1.0,1.0,1.0,1.0,1.0,1.0,1.0,1.0,1.0,1.0,1.0,1.0,1.0,1.0,1.0,1.0,1.0,1.0,1.0,1.0,1.0,1.0,1.0,1.0,1.0,1.0,1.0,1.0,1.0,1.0,1.0,1.0,1.0,1.0,1.0,1.0,1.0,1.0,1.0,1.0,1.0,1.0,1.0,1.0,1.0,1.0,1.0,1.0,1.0,1.0,1.0,1.0,1.0,1.0,1.0],\"type\":\"surface\",\"x\":[-1.4763779527559056,-1.4763779527559056,-1.4763779527559056,-1.4763779527559056,-1.4763779527559056,-1.4763779527559056,-1.4763779527559056,-1.4763779527559056,-1.4763779527559056,-1.4763779527559056,-1.4763779527559056,-1.4763779527559056,-1.4763779527559056,-1.4763779527559056,-1.4763779527559056,-1.4763779527559056,-1.4763779527559056,-1.4763779527559056,-1.4763779527559056,-1.4763779527559056,-1.4763779527559056,-1.4763779527559056,-1.4763779527559056,-1.4763779527559056,-1.4763779527559056,-1.4763779527559056,-1.4763779527559056,-1.4763779527559056,-1.4763779527559056,-1.4763779527559056,-1.4763779527559056,-1.4763779527559056,-1.4763779527559056,-1.4763779527559056,-1.4763779527559056,-1.4763779527559056,-1.4763779527559056,-1.4763779527559056,-1.4763779527559056,-1.4763779527559056,-1.4763779527559056,-1.4763779527559056,-1.4763779527559056,-1.4763779527559056,-1.4763779527559056,-1.4763779527559056,-1.4763779527559056,-1.4763779527559056,-1.4763779527559056,-1.4763779527559056,-1.4763779527559056,-1.4763779527559056,-1.4763779527559056,-1.4763779527559056,-1.4763779527559056,-1.4763779527559056,-1.4763779527559056,-1.4763779527559056,-1.4763779527559056,-1.4763779527559056,-1.4763779527559056,-1.4763779527559056,-1.4763779527559056,-1.4763779527559056,-1.4763779527559056,-1.4763779527559056,-1.4763779527559056,-1.4763779527559056,-1.4763779527559056,-1.4763779527559056,-1.4763779527559056,-1.4763779527559056,-1.4763779527559056,-1.4763779527559056,-1.4763779527559056,-1.4763779527559056,-1.4763779527559056,-1.4763779527559056,-1.4763779527559056,-1.4763779527559056,-1.4763779527559056,-1.4763779527559056,-1.4763779527559056,-1.4763779527559056,-1.4763779527559056,-1.4763779527559056,-1.4763779527559056,-1.4763779527559056,-1.4763779527559056,-1.4763779527559056,-1.4763779527559056,-1.4763779527559056,-1.4763779527559056,-1.4763779527559056,-1.4763779527559056,-1.4763779527559056,-1.4763779527559056,-1.4763779527559056,-1.4763779527559056,-1.4763779527559056],\"y\":[4.921259842519685,4.91135175429077,4.881667385978323,4.8323262660566275,4.763527073800966,4.675546839276306,4.568739827835003,4.443536113615262,4.300439847784375,4.140027228499908,3.962944180763084,3.769903755506782,3.561683258391093,3.3391211198677766,3.1031135191167447,2.8546107754488097,2.594613521705228,2.324168675062415,2.0443652214659767,1.756329830668661,1.461222319528912,1.1602309818377328,0.8545678034789883,0.5454635821900152,0.23416297157353436,-0.07808053068311038,-0.39000963020073104,-0.7003682985890021,-1.007906831029482,-1.3113868783958418,-1.6095864336487287,-1.9013047524268145,-2.185367188020542,-2.4606299212598435,-2.7259845662702276,-2.98036263355151,-3.222739832407899,-3.452140195405125,-3.667640008246824,-3.8683715292460015,-4.053526483414531,-4.222359317101265,-4.374190200073442,-4.508407762953098,-4.6244715589857694,-4.721914240228826,-4.800343439396689,-4.859443349785405,-4.898975996914786,-4.918782196767643,-4.918782196767643,-4.898975996914786,-4.859443349785405,-4.800343439396689,-4.721914240228826,-4.62447155898577,-4.508407762953098,-4.374190200073443,-4.222359317101264,-4.053526483414531,-3.868371529246001,-3.667640008246825,-3.4521401954051245,-3.2227398324078997,-2.980362633551509,-2.725984566270229,-2.460629921259841,-2.185367188020541,-1.9013047524268145,-1.6095864336487298,-1.3113868783958398,-1.007906831029481,-0.7003682985890021,-0.39000963020073226,-0.07808053068310832,0.23416297157353536,0.5454635821900141,0.8545678034789861,1.1602309818377337,1.461222319528912,1.7563298306686599,2.0443652214659784,2.324168675062416,2.594613521705228,2.854610775448809,3.1031135191167465,3.339121119867777,3.561683258391093,3.7699037555067805,3.9629441807630843,4.140027228499908,4.300439847784375,4.443536113615261,4.568739827835003,4.675546839276306,4.763527073800966,4.832326266056628,4.881667385978323,4.91135175429077,4.921259842519685],\"z\":[0.0,0.3121255888610458,0.6229943581385299,0.9313545490177668,1.2359645038438938,1.5355976658390114,1.8290475180134231,2.115132441383719,2.3927004729353776,2.660633944171248,2.917853981568112,3.163324850819583,3.3960581273725987,3.615116676464239,3.819618426632662,4.008739921507558,4.181719635578319,4.3378610405884945,4.476535410209244,4.59718435169836,4.699322054350757,4.782537245686721,4.846494847501024,4.8909373251045976,4.915685724325827,4.920640392095842,4.905781377716252,4.871168513193567,4.816941172316825,4.743317709448534,4.650594580288723,4.539145148152468,4.409418180567598,4.261936042246252,4.097292591706553,3.916150790013937,3.719240031270956,3.5073532056046393,3.2813435064778136,3.042120995180143,2.7906489363325337,2.527939919160464,2.2550517801545795,1.9730833435364843,1.6831699966814413,1.3864791183141225,1.0842053778865197,0.7775659250656983,0.46779548870168525,0.15614140501017548,-0.15614140501017648,-0.4677954887016862,-0.7775659250656992,-1.0842053778865186,-1.3864791183141232,-1.6831699966814402,-1.9730833435364852,-2.255051780154578,-2.5279399191604646,-2.790648936332533,-3.0421209951801442,-3.2813435064778127,-3.5073532056046406,-3.7192400312709557,-3.9161507900139374,-4.097292591706552,-4.261936042246254,-4.409418180567599,-4.539145148152468,-4.650594580288722,-4.743317709448534,-4.816941172316825,-4.871168513193567,-4.905781377716251,-4.920640392095842,-4.915685724325827,-4.8909373251045976,-4.846494847501025,-4.782537245686721,-4.699322054350757,-4.597184351698361,-4.476535410209244,-4.337861040588494,-4.181719635578319,-4.0087399215075585,-3.8196184266326605,-3.6151166764642384,-3.3960581273725987,-3.163324850819585,-2.9178539815681113,-2.660633944171247,-2.392700472935378,-2.1151324413837203,-1.8290475180134216,-1.5355976658390111,-1.2359645038438947,-0.9313545490177645,-0.6229943581385288,-0.31212558886104586,-1.205361022782828e-15]},{\"marker\":{\"color\":[1,2,3,4,5],\"colorscale\":[[0.2,\"red\"],[0.4,\"green\"],[0.6,\"blue\"],[0.8,\"indigo\"],[1.0,\"violet\"]],\"size\":12},\"mode\":\"markers\",\"type\":\"scatter3d\",\"x\":[0.122124,0.139268,0.170145,0.194417,0.151015],\"y\":[1.19363,-0.56517,-1.336052,-0.30626,1.202173],\"z\":[-1.959151,-2.16019,-0.441168,2.005804,0.004039]}],                        {\"scene\":{\"xaxis\":{\"title\":{\"text\":\"X [inch]\"}},\"yaxis\":{\"title\":{\"text\":\"Y [inch]\"}},\"zaxis\":{\"title\":{\"text\":\"Z [inch]\"}}},\"template\":{\"data\":{\"bar\":[{\"error_x\":{\"color\":\"#2a3f5f\"},\"error_y\":{\"color\":\"#2a3f5f\"},\"marker\":{\"line\":{\"color\":\"#E5ECF6\",\"width\":0.5},\"pattern\":{\"fillmode\":\"overlay\",\"size\":10,\"solidity\":0.2}},\"type\":\"bar\"}],\"barpolar\":[{\"marker\":{\"line\":{\"color\":\"#E5ECF6\",\"width\":0.5},\"pattern\":{\"fillmode\":\"overlay\",\"size\":10,\"solidity\":0.2}},\"type\":\"barpolar\"}],\"carpet\":[{\"aaxis\":{\"endlinecolor\":\"#2a3f5f\",\"gridcolor\":\"white\",\"linecolor\":\"white\",\"minorgridcolor\":\"white\",\"startlinecolor\":\"#2a3f5f\"},\"baxis\":{\"endlinecolor\":\"#2a3f5f\",\"gridcolor\":\"white\",\"linecolor\":\"white\",\"minorgridcolor\":\"white\",\"startlinecolor\":\"#2a3f5f\"},\"type\":\"carpet\"}],\"choropleth\":[{\"colorbar\":{\"outlinewidth\":0,\"ticks\":\"\"},\"type\":\"choropleth\"}],\"contour\":[{\"colorbar\":{\"outlinewidth\":0,\"ticks\":\"\"},\"colorscale\":[[0.0,\"#0d0887\"],[0.1111111111111111,\"#46039f\"],[0.2222222222222222,\"#7201a8\"],[0.3333333333333333,\"#9c179e\"],[0.4444444444444444,\"#bd3786\"],[0.5555555555555556,\"#d8576b\"],[0.6666666666666666,\"#ed7953\"],[0.7777777777777778,\"#fb9f3a\"],[0.8888888888888888,\"#fdca26\"],[1.0,\"#f0f921\"]],\"type\":\"contour\"}],\"contourcarpet\":[{\"colorbar\":{\"outlinewidth\":0,\"ticks\":\"\"},\"type\":\"contourcarpet\"}],\"heatmap\":[{\"colorbar\":{\"outlinewidth\":0,\"ticks\":\"\"},\"colorscale\":[[0.0,\"#0d0887\"],[0.1111111111111111,\"#46039f\"],[0.2222222222222222,\"#7201a8\"],[0.3333333333333333,\"#9c179e\"],[0.4444444444444444,\"#bd3786\"],[0.5555555555555556,\"#d8576b\"],[0.6666666666666666,\"#ed7953\"],[0.7777777777777778,\"#fb9f3a\"],[0.8888888888888888,\"#fdca26\"],[1.0,\"#f0f921\"]],\"type\":\"heatmap\"}],\"heatmapgl\":[{\"colorbar\":{\"outlinewidth\":0,\"ticks\":\"\"},\"colorscale\":[[0.0,\"#0d0887\"],[0.1111111111111111,\"#46039f\"],[0.2222222222222222,\"#7201a8\"],[0.3333333333333333,\"#9c179e\"],[0.4444444444444444,\"#bd3786\"],[0.5555555555555556,\"#d8576b\"],[0.6666666666666666,\"#ed7953\"],[0.7777777777777778,\"#fb9f3a\"],[0.8888888888888888,\"#fdca26\"],[1.0,\"#f0f921\"]],\"type\":\"heatmapgl\"}],\"histogram\":[{\"marker\":{\"pattern\":{\"fillmode\":\"overlay\",\"size\":10,\"solidity\":0.2}},\"type\":\"histogram\"}],\"histogram2d\":[{\"colorbar\":{\"outlinewidth\":0,\"ticks\":\"\"},\"colorscale\":[[0.0,\"#0d0887\"],[0.1111111111111111,\"#46039f\"],[0.2222222222222222,\"#7201a8\"],[0.3333333333333333,\"#9c179e\"],[0.4444444444444444,\"#bd3786\"],[0.5555555555555556,\"#d8576b\"],[0.6666666666666666,\"#ed7953\"],[0.7777777777777778,\"#fb9f3a\"],[0.8888888888888888,\"#fdca26\"],[1.0,\"#f0f921\"]],\"type\":\"histogram2d\"}],\"histogram2dcontour\":[{\"colorbar\":{\"outlinewidth\":0,\"ticks\":\"\"},\"colorscale\":[[0.0,\"#0d0887\"],[0.1111111111111111,\"#46039f\"],[0.2222222222222222,\"#7201a8\"],[0.3333333333333333,\"#9c179e\"],[0.4444444444444444,\"#bd3786\"],[0.5555555555555556,\"#d8576b\"],[0.6666666666666666,\"#ed7953\"],[0.7777777777777778,\"#fb9f3a\"],[0.8888888888888888,\"#fdca26\"],[1.0,\"#f0f921\"]],\"type\":\"histogram2dcontour\"}],\"mesh3d\":[{\"colorbar\":{\"outlinewidth\":0,\"ticks\":\"\"},\"type\":\"mesh3d\"}],\"parcoords\":[{\"line\":{\"colorbar\":{\"outlinewidth\":0,\"ticks\":\"\"}},\"type\":\"parcoords\"}],\"pie\":[{\"automargin\":true,\"type\":\"pie\"}],\"scatter\":[{\"marker\":{\"colorbar\":{\"outlinewidth\":0,\"ticks\":\"\"}},\"type\":\"scatter\"}],\"scatter3d\":[{\"line\":{\"colorbar\":{\"outlinewidth\":0,\"ticks\":\"\"}},\"marker\":{\"colorbar\":{\"outlinewidth\":0,\"ticks\":\"\"}},\"type\":\"scatter3d\"}],\"scattercarpet\":[{\"marker\":{\"colorbar\":{\"outlinewidth\":0,\"ticks\":\"\"}},\"type\":\"scattercarpet\"}],\"scattergeo\":[{\"marker\":{\"colorbar\":{\"outlinewidth\":0,\"ticks\":\"\"}},\"type\":\"scattergeo\"}],\"scattergl\":[{\"marker\":{\"colorbar\":{\"outlinewidth\":0,\"ticks\":\"\"}},\"type\":\"scattergl\"}],\"scattermapbox\":[{\"marker\":{\"colorbar\":{\"outlinewidth\":0,\"ticks\":\"\"}},\"type\":\"scattermapbox\"}],\"scatterpolar\":[{\"marker\":{\"colorbar\":{\"outlinewidth\":0,\"ticks\":\"\"}},\"type\":\"scatterpolar\"}],\"scatterpolargl\":[{\"marker\":{\"colorbar\":{\"outlinewidth\":0,\"ticks\":\"\"}},\"type\":\"scatterpolargl\"}],\"scatterternary\":[{\"marker\":{\"colorbar\":{\"outlinewidth\":0,\"ticks\":\"\"}},\"type\":\"scatterternary\"}],\"surface\":[{\"colorbar\":{\"outlinewidth\":0,\"ticks\":\"\"},\"colorscale\":[[0.0,\"#0d0887\"],[0.1111111111111111,\"#46039f\"],[0.2222222222222222,\"#7201a8\"],[0.3333333333333333,\"#9c179e\"],[0.4444444444444444,\"#bd3786\"],[0.5555555555555556,\"#d8576b\"],[0.6666666666666666,\"#ed7953\"],[0.7777777777777778,\"#fb9f3a\"],[0.8888888888888888,\"#fdca26\"],[1.0,\"#f0f921\"]],\"type\":\"surface\"}],\"table\":[{\"cells\":{\"fill\":{\"color\":\"#EBF0F8\"},\"line\":{\"color\":\"white\"}},\"header\":{\"fill\":{\"color\":\"#C8D4E3\"},\"line\":{\"color\":\"white\"}},\"type\":\"table\"}]},\"layout\":{\"annotationdefaults\":{\"arrowcolor\":\"#2a3f5f\",\"arrowhead\":0,\"arrowwidth\":1},\"autotypenumbers\":\"strict\",\"coloraxis\":{\"colorbar\":{\"outlinewidth\":0,\"ticks\":\"\"}},\"colorscale\":{\"diverging\":[[0,\"#8e0152\"],[0.1,\"#c51b7d\"],[0.2,\"#de77ae\"],[0.3,\"#f1b6da\"],[0.4,\"#fde0ef\"],[0.5,\"#f7f7f7\"],[0.6,\"#e6f5d0\"],[0.7,\"#b8e186\"],[0.8,\"#7fbc41\"],[0.9,\"#4d9221\"],[1,\"#276419\"]],\"sequential\":[[0.0,\"#0d0887\"],[0.1111111111111111,\"#46039f\"],[0.2222222222222222,\"#7201a8\"],[0.3333333333333333,\"#9c179e\"],[0.4444444444444444,\"#bd3786\"],[0.5555555555555556,\"#d8576b\"],[0.6666666666666666,\"#ed7953\"],[0.7777777777777778,\"#fb9f3a\"],[0.8888888888888888,\"#fdca26\"],[1.0,\"#f0f921\"]],\"sequentialminus\":[[0.0,\"#0d0887\"],[0.1111111111111111,\"#46039f\"],[0.2222222222222222,\"#7201a8\"],[0.3333333333333333,\"#9c179e\"],[0.4444444444444444,\"#bd3786\"],[0.5555555555555556,\"#d8576b\"],[0.6666666666666666,\"#ed7953\"],[0.7777777777777778,\"#fb9f3a\"],[0.8888888888888888,\"#fdca26\"],[1.0,\"#f0f921\"]]},\"colorway\":[\"#636efa\",\"#EF553B\",\"#00cc96\",\"#ab63fa\",\"#FFA15A\",\"#19d3f3\",\"#FF6692\",\"#B6E880\",\"#FF97FF\",\"#FECB52\"],\"font\":{\"color\":\"#2a3f5f\"},\"geo\":{\"bgcolor\":\"white\",\"lakecolor\":\"white\",\"landcolor\":\"#E5ECF6\",\"showlakes\":true,\"showland\":true,\"subunitcolor\":\"white\"},\"hoverlabel\":{\"align\":\"left\"},\"hovermode\":\"closest\",\"mapbox\":{\"style\":\"light\"},\"paper_bgcolor\":\"white\",\"plot_bgcolor\":\"#E5ECF6\",\"polar\":{\"angularaxis\":{\"gridcolor\":\"white\",\"linecolor\":\"white\",\"ticks\":\"\"},\"bgcolor\":\"#E5ECF6\",\"radialaxis\":{\"gridcolor\":\"white\",\"linecolor\":\"white\",\"ticks\":\"\"}},\"scene\":{\"xaxis\":{\"backgroundcolor\":\"#E5ECF6\",\"gridcolor\":\"white\",\"gridwidth\":2,\"linecolor\":\"white\",\"showbackground\":true,\"ticks\":\"\",\"zerolinecolor\":\"white\"},\"yaxis\":{\"backgroundcolor\":\"#E5ECF6\",\"gridcolor\":\"white\",\"gridwidth\":2,\"linecolor\":\"white\",\"showbackground\":true,\"ticks\":\"\",\"zerolinecolor\":\"white\"},\"zaxis\":{\"backgroundcolor\":\"#E5ECF6\",\"gridcolor\":\"white\",\"gridwidth\":2,\"linecolor\":\"white\",\"showbackground\":true,\"ticks\":\"\",\"zerolinecolor\":\"white\"}},\"shapedefaults\":{\"line\":{\"color\":\"#2a3f5f\"}},\"ternary\":{\"aaxis\":{\"gridcolor\":\"white\",\"linecolor\":\"white\",\"ticks\":\"\"},\"baxis\":{\"gridcolor\":\"white\",\"linecolor\":\"white\",\"ticks\":\"\"},\"bgcolor\":\"#E5ECF6\",\"caxis\":{\"gridcolor\":\"white\",\"linecolor\":\"white\",\"ticks\":\"\"}},\"title\":{\"x\":0.05},\"xaxis\":{\"automargin\":true,\"gridcolor\":\"white\",\"linecolor\":\"white\",\"ticks\":\"\",\"title\":{\"standoff\":15},\"zerolinecolor\":\"white\",\"zerolinewidth\":2},\"yaxis\":{\"automargin\":true,\"gridcolor\":\"white\",\"linecolor\":\"white\",\"ticks\":\"\",\"title\":{\"standoff\":15},\"zerolinecolor\":\"white\",\"zerolinewidth\":2}}},\"title\":{\"text\":\"Survey of SmarAct Kinematic Mounting Plate\"}},                        {\"responsive\": true}                    ).then(function(){\n",
       "                            \n",
       "var gd = document.getElementById('7a41d5bf-f6e1-455d-b138-1329b29cf633');\n",
       "var x = new MutationObserver(function (mutations, observer) {{\n",
       "        var display = window.getComputedStyle(gd).display;\n",
       "        if (!display || display === 'none') {{\n",
       "            console.log([gd, 'removed!']);\n",
       "            Plotly.purge(gd);\n",
       "            observer.disconnect();\n",
       "        }}\n",
       "}});\n",
       "\n",
       "// Listen for the removal of the full notebook cells\n",
       "var notebookContainer = gd.closest('#notebook-container');\n",
       "if (notebookContainer) {{\n",
       "    x.observe(notebookContainer, {childList: true});\n",
       "}}\n",
       "\n",
       "// Listen for the clearing of the current output cell\n",
       "var outputEl = gd.closest('.output');\n",
       "if (outputEl) {{\n",
       "    x.observe(outputEl, {childList: true});\n",
       "}}\n",
       "\n",
       "                        })                };                });            </script>        </div>"
      ]
     },
     "metadata": {},
     "output_type": "display_data"
    }
   ],
   "source": [
    "fig.show()"
   ]
  },
  {
   "cell_type": "code",
   "execution_count": null,
   "metadata": {},
   "outputs": [],
   "source": []
  },
  {
   "cell_type": "code",
   "execution_count": 133,
   "metadata": {
    "code_folding": [
     0
    ]
   },
   "outputs": [],
   "source": [
    "# slider to select group\n",
    "current_dir = 1\n",
    "# current_dir = -1\n",
    "\n",
    "point_dict = {\n",
    "    'A': 0,\n",
    "    'B': 1,\n",
    "    'C': 2,\n",
    "    'D': 3,\n",
    "    'E': 4,\n",
    "}\n",
    "point_cmap = [\n",
    "    [0/4, 'red'],\n",
    "    [1/4, 'green'],\n",
    "    [2/4, 'blue'],\n",
    "    [3/4, 'indigo'],\n",
    "    [4/4, 'violet'],\n",
    "]\n",
    "\n",
    "thetas = np.linspace(0, 2*np.pi, 100)\n",
    "# thetas = np.arange(0, 2*np.pi, 2*np.pi/100)\n",
    "R = mm_to_inch(250./2)\n",
    "Rs = np.linspace(0, R, 3)\n",
    "TH, RR = np.meshgrid(thetas, Rs)\n",
    "pole_pos = [mm_to_inch(75./2)*np.ones_like(TH), RR*np.cos(TH), RR*np.sin(TH)] # I think this is \"South\" for positive current --> blue. field points north to south\n",
    "pole_neg = [mm_to_inch(-75./2*np.ones_like(TH)), RR*np.cos(TH), RR*np.sin(TH)] # I think this is \"Norht\" for positive current --> red. field points north to south\n",
    "# pole_pos = [mm_to_inch(75./2)*np.ones_like(thetas), R*np.cos(thetas), R*np.sin(thetas)] # I think this is \"South\" for positive current --> blue. field points north to south\n",
    "# pole_neg = [mm_to_inch(-75./2*np.ones_like(thetas)), R*np.cos(thetas), R*np.sin(thetas)] # I think this is \"Norht\" for positive current --> red. field points north to south\n",
    "if current_dir > 0:\n",
    "    pole_labels = ['South', 'North']\n",
    "    pole_colors = ['blue', 'red']\n",
    "else:\n",
    "    pole_labels = ['North', 'South']\n",
    "    pole_colors = ['red', 'blue']\n",
    "#cvals = np.ones_like(thetas)\n",
    "cvals = np.ones_like(TH)\n",
    "\n",
    "data = [\n",
    "    # Pole Faces\n",
    "    go.Surface(x=pole_[0], y=pole_[1], z=pole_[2], surfacecolor=cvals,\n",
    "               colorscale=[[0,'rgba(0,0,0,0)'],[1,c_]],\n",
    "               showscale=False,\n",
    "               showlegend=True,\n",
    "               opacity=1.0,\n",
    "               name=f'Pole Face (\"{p_l}\" for Current Direction={current_dir})',\n",
    "              )\n",
    "for pole_, c_, p_l in zip([pole_pos, pole_neg], pole_colors, pole_labels)]\n",
    "\n",
    "# floor\n",
    "data.append(\n",
    "    go.Surface(x=X_FL, y=Y_FL, z=Z_FL, surfacecolor=cvals,\n",
    "               colorscale=[[0,'rgba(0,0,0,0)'],[1,'rgba(130,130,130,0.9)']],\n",
    "               showscale=False,\n",
    "               showlegend=True,\n",
    "               opacity=1.0,\n",
    "               name=f'Floor (approx., assumes LT coords. XY coplanar to floor)',\n",
    "              )\n",
    ")\n",
    "# door\n",
    "data.append(\n",
    "    go.Surface(x=X_DO, y=Y_DO, z=Z_DO, surfacecolor=cvals,\n",
    "               colorscale=[[0,'rgba(0,0,0,0)'],[1,'rgba(250,247,155,0.9)']],\n",
    "               showscale=False,\n",
    "               showlegend=True,\n",
    "               opacity=1.0,\n",
    "               name=f'Door',\n",
    "              )\n",
    ")\n",
    "\n",
    "# Laser Tracker approx. location\n",
    "data.append(go.Scatter3d(x=[X0_LT], y=[Y0_LT], z=[Z0_LT], mode='markers',\n",
    "                         name='Laser Tracker (approx.)',\n",
    "                         marker=dict(size=2, color='red', symbol='x',),\n",
    "                         opacity=1.0,\n",
    "                        )\n",
    "           )\n",
    "\n",
    "groups_ind = df_groups.Group_Index.values\n",
    "groups = df_groups.Group.values\n",
    "times = df_groups.Time.values\n",
    "sa1s = df_groups.SmarAct1_Meas_Deg.values\n",
    "sa2s = df_groups.SmarAct2_Meas_Deg.values\n",
    "\n",
    "layout = go.Layout(\n",
    "    title=f'Survey of SmarAct Kinematic Mounting Plate:<br>Group {groups_ind[0]}: {groups[0]}, Time: {times[0]}<br>'+\n",
    "    f'SmarAct1: {sa1s[0]} [deg], SmarAct2: {sa2s[0]} [deg]',\n",
    "    #title='Survey of SmarAct Kinematic Mounting Plate',\n",
    "    scene=dict(\n",
    "        xaxis=dict(title='X [inch]'),\n",
    "        yaxis=dict(title='Y [inch]'),\n",
    "        zaxis=dict(title='Z [inch]'),\n",
    "        aspectmode='data',\n",
    "    ),\n",
    "    #plot_bgcolor='rgb(240, 240, 240)',\n",
    ")\n",
    "\n",
    "fig = go.Figure(layout=layout)\n",
    "\n",
    "for group_ind in groups_ind:\n",
    "    df_m = df_meas.query(f'Group_Index == {group_ind}')\n",
    "    df_g = df_groups.query(f'Group_Index == {group_ind}')\n",
    "    fig.add_trace(go.Scatter3d(x=df_m.X, y=df_m.Y, z=df_m.Z, mode='markers', opacity=1.0,\n",
    "                             name=f'LT Measurements: {group_ind}',\n",
    "                             text=df_m.Point,\n",
    "                             marker=dict(size=4, color=[point_dict[i] for i in df_m.Point], colorscale=point_cmap),\n",
    "                             visible=False\n",
    "                            )\n",
    "               )\n",
    "\n",
    "# add other traces\n",
    "for trace in data:\n",
    "    fig.add_trace(trace)\n",
    "    \n",
    "# turn on 0th trace\n",
    "fig.data[0].visible=True\n",
    "\n",
    "# set up slider\n",
    "steps = []\n",
    "step_inds = [i for i in range(len(df_groups.Group_Index.values))]\n",
    "n_all_on = len(fig.data) - len(step_inds)\n",
    "for i in step_inds:\n",
    "    step = dict(\n",
    "        method='update',\n",
    "        args=[{'visible': [False]*len(step_inds) + [True]*n_all_on},\n",
    "              {'title': f'Survey of SmarAct Kinematic Mounting Plate:<br>Group {groups_ind[i]}: {groups[i]}, Time: {times[i]}<br>'+\n",
    "              f'SmarAct1: {sa1s[i]} [deg], SmarAct2: {sa2s[i]} [deg]'},\n",
    "             ],\n",
    "    )\n",
    "    step[\"args\"][0][\"visible\"][i] = True # toggle correct trace on\n",
    "    steps.append(step)\n",
    "\n",
    "sliders = [dict(\n",
    "    active=0,\n",
    "    currentvalue={'prefix': 'Index: '},\n",
    "    pad={'t': 50},\n",
    "    steps=steps\n",
    ")]\n",
    "\n",
    "fig.update_layout(\n",
    "    sliders=sliders\n",
    ")\n",
    "\n",
    "# visibility buttons\n",
    "# just doing one as an example for now...2022-12-15 17:03:29\n",
    "# probably can not do multiple toggles in this way...a particular toggle sets all values.\n",
    "\n",
    "# grab default opacity for each trace\n",
    "default_opacities = [trace['opacity'] for trace in fig.data]\n",
    "pole_off_opacities = deepcopy(default_opacities)\n",
    "# pole face is just after the measurement steps\n",
    "pole_off_opacities[len(step_inds)] = 0.0\n",
    "\n",
    "# fig.update_layout(\n",
    "#     updatemenus=[\n",
    "#         dict(\n",
    "#             type=\"buttons\",\n",
    "#             direction=\"left\",\n",
    "#             active=0,\n",
    "#             x=1.19,\n",
    "#             xanchor='left',\n",
    "#             yanchor='top',\n",
    "#             y=0.5,\n",
    "#             buttons=list([\n",
    "#                 dict(label=\"On\",\n",
    "#                      method=\"update\",\n",
    "#                      args=[{\"opacity\": default_opacities},\n",
    "#                           ]),\n",
    "#                 dict(label=\"Off\",\n",
    "#                      method=\"update\",\n",
    "#                      args=[{\"opacity\": pole_off_opacities},\n",
    "#                           ]),\n",
    "#             ]),\n",
    "#         )\n",
    "#     ]\n",
    "# )\n",
    "\n",
    "# Add annotation\n",
    "# fig.update_layout(\n",
    "#     annotations=[\n",
    "#         dict(text=\"+X Pole Visibility:\", showarrow=False,\n",
    "#              x=1.08, y=0.5, yref=\"paper\", align=\"left\")\n",
    "#     ]\n",
    "# )\n",
    "\n",
    "# camera\n",
    "camera_default = dict(\n",
    "    up=dict(x=0, y=0, z=1),\n",
    "    center=dict(x=0, y=0, z=0),\n",
    "    eye=dict(x=1.25, y=1.25, z=1.25)\n",
    ")\n",
    "\n",
    "camera_pos_x = dict(\n",
    "    up=dict(x=0, y=0, z=1),\n",
    "    center=dict(x=0.126, y=-0.13, z=-0.2),\n",
    "    eye=dict(x=0.4, y=-0.13, z=-0.2)\n",
    ")\n",
    "\n",
    "camera_pos_z = dict(\n",
    "    up=dict(x=-1, y=0, z=0),\n",
    "    center=dict(x=0.126, y=-0.13, z=-0.2),\n",
    "    eye=dict(x=0.126, y=-0.13, z=0.0)\n",
    ")\n",
    "\n",
    "#fig.update_layout(scene_camera=camera_pos_x)\n",
    "#fig.update_layout(scene_camera=camera_pos_z)\n",
    "\n",
    "# buttons for camera\n",
    "fig.update_layout(\n",
    "    updatemenus=[\n",
    "        # pole visibility\n",
    "        dict(\n",
    "            type=\"buttons\",\n",
    "            direction=\"left\",\n",
    "            active=0,\n",
    "            x=1.19,\n",
    "            xanchor='left',\n",
    "            yanchor='top',\n",
    "            y=0.5,\n",
    "            buttons=list([\n",
    "                dict(label=\"On\",\n",
    "                     method=\"restyle\",\n",
    "                     args=[{\"opacity\": default_opacities},\n",
    "                          ]),\n",
    "                dict(label=\"Off\",\n",
    "                     method=\"restyle\",\n",
    "                     args=[{\"opacity\": pole_off_opacities},\n",
    "                          ]),\n",
    "            ]),\n",
    "        ),\n",
    "        # camera\n",
    "        dict(\n",
    "            type=\"buttons\",\n",
    "            direction=\"left\",\n",
    "            active=0,\n",
    "            x=1.19,\n",
    "            xanchor='left',\n",
    "            yanchor='top',\n",
    "            y=0.4,\n",
    "            buttons=list([\n",
    "                dict(label=\"Room\",\n",
    "                     method=\"relayout\",\n",
    "                     args=[{\"scene.camera\": camera_default},\n",
    "                          ]),\n",
    "#                      args=[{\"scene.camera.up\": camera_default['up']},\n",
    "#                            {\"scene.camera.center\": camera_default['center']},\n",
    "#                            {\"scene.camera.eye\": camera_default['eye']},\n",
    "#                           ]),\n",
    "                dict(label=\"Side\",\n",
    "                     method=\"relayout\",\n",
    "                     args=[{\"scene.camera\": camera_pos_x},\n",
    "                          ]),\n",
    "#                      args=[{\"scene.camera.up\": camera_pos_x['up']},\n",
    "#                            {\"scene.camera.center\": camera_pos_x['center']},\n",
    "#                            {\"scene.camera.eye\": camera_pos_x['eye']},\n",
    "#                           ]),\n",
    "                dict(label=\"Top\",\n",
    "                     method=\"relayout\",\n",
    "                     args=[{\"scene.camera\": camera_pos_z},\n",
    "                          ]),\n",
    "#                      args=[{\"scene.camera.up\": camera_pos_z['up']},\n",
    "#                            {\"scene.camera.center\": camera_pos_z['center']},\n",
    "#                            {\"scene.camera.eye\": camera_pos_z['eye']},\n",
    "#                           ]),\n",
    "            ]),\n",
    "        ),\n",
    "        # camera perspective\n",
    "        dict(\n",
    "            type=\"buttons\",\n",
    "            direction=\"left\",\n",
    "            active=0,\n",
    "            x=1.19,\n",
    "            xanchor='left',\n",
    "            yanchor='top',\n",
    "            y=0.3,\n",
    "            buttons=list([\n",
    "                dict(label=\"Perspective\",\n",
    "                     method=\"relayout\",\n",
    "                     args=[{\"scene.camera.projection.type\": 'perspective'},\n",
    "                          ]),\n",
    "                dict(label=\"Orthographic\",\n",
    "                     method=\"relayout\",\n",
    "                     args=[{\"scene.camera.projection.type\": 'orthographic'},\n",
    "                          ]),\n",
    "            ]),\n",
    "        )\n",
    "    ]\n",
    ")\n",
    "\n",
    "# Add annotation\n",
    "fig.update_layout(\n",
    "    annotations=[\n",
    "        dict(text=\"+X Pole Visibility:\", showarrow=False,\n",
    "             x=1.1, y=0.5, xref=\"paper\", yref=\"paper\", align=\"left\"),\n",
    "        dict(text=\"Camera View:\", showarrow=False,\n",
    "             x=1.1, y=0.4, xref=\"paper\", yref=\"paper\", align=\"left\"),\n",
    "        dict(text=\"Camera Projection:\", showarrow=False,\n",
    "             x=1.1, y=0.3, xref=\"paper\", yref=\"paper\", align=\"left\"),\n",
    "    ]\n",
    ")\n",
    "\n",
    "#fig = go.Figure(data=data, layout=layout)\n",
    "fig.write_html(plot_dir+'plotly_3d_test_slider.html')"
   ]
  },
  {
   "cell_type": "code",
   "execution_count": 121,
   "metadata": {},
   "outputs": [
    {
     "data": {
      "text/plain": [
       "0.12602739726027398"
      ]
     },
     "execution_count": 121,
     "metadata": {},
     "output_type": "execute_result"
    }
   ],
   "source": [
    "x0 = (xneg_floor+xpos_floor)/2\n",
    "xrange = (xpos_floor-xneg_floor)\n",
    "(0.0 - x0) / xrange"
   ]
  },
  {
   "cell_type": "code",
   "execution_count": 119,
   "metadata": {},
   "outputs": [
    {
     "data": {
      "text/plain": [
       "-0.13015699160277477"
      ]
     },
     "execution_count": 119,
     "metadata": {},
     "output_type": "execute_result"
    }
   ],
   "source": [
    "y0 = (yneg_floor+ypos_floor)/2\n",
    "yrange = (ypos_floor-yneg_floor)\n",
    "(0.0 - y0) / yrange"
   ]
  },
  {
   "cell_type": "code",
   "execution_count": 120,
   "metadata": {},
   "outputs": [
    {
     "data": {
      "text/plain": [
       "14.035433070866148"
      ]
     },
     "execution_count": 120,
     "metadata": {},
     "output_type": "execute_result"
    }
   ],
   "source": [
    "y0"
   ]
  },
  {
   "cell_type": "code",
   "execution_count": 101,
   "metadata": {},
   "outputs": [
    {
     "data": {
      "text/plain": [
       "1.0"
      ]
     },
     "execution_count": 101,
     "metadata": {},
     "output_type": "execute_result"
    }
   ],
   "source": [
    "fig.data[1]['opacity']"
   ]
  },
  {
   "cell_type": "code",
   "execution_count": 102,
   "metadata": {},
   "outputs": [],
   "source": [
    "default_opacities = [trace['opacity'] for trace in fig.data]"
   ]
  },
  {
   "cell_type": "code",
   "execution_count": 104,
   "metadata": {},
   "outputs": [
    {
     "data": {
      "text/plain": [
       "Surface({\n",
       "    'colorscale': [[0, 'rgba(0,0,0,0)'], [1, 'blue']],\n",
       "    'name': 'Pole Face (\"South\" for Current Direction=1)',\n",
       "    'opacity': 1.0,\n",
       "    'showlegend': True,\n",
       "    'showscale': False,\n",
       "    'surfacecolor': array([[1., 1., 1., ..., 1., 1., 1.],\n",
       "                           [1., 1., 1., ..., 1., 1., 1.],\n",
       "                           [1., 1., 1., ..., 1., 1., 1.]]),\n",
       "    'x': array([[1.47637795, 1.47637795, 1.47637795, ..., 1.47637795, 1.47637795,\n",
       "                 1.47637795],\n",
       "                [1.47637795, 1.47637795, 1.47637795, ..., 1.47637795, 1.47637795,\n",
       "                 1.47637795],\n",
       "                [1.47637795, 1.47637795, 1.47637795, ..., 1.47637795, 1.47637795,\n",
       "                 1.47637795]]),\n",
       "    'y': array([[0.        , 0.        , 0.        , ..., 0.        , 0.        ,\n",
       "                 0.        ],\n",
       "                [2.46062992, 2.45567588, 2.44083369, ..., 2.44083369, 2.45567588,\n",
       "                 2.46062992],\n",
       "                [4.92125984, 4.91135175, 4.88166739, ..., 4.88166739, 4.91135175,\n",
       "                 4.92125984]]),\n",
       "    'z': array([[ 0.00000000e+00,  0.00000000e+00,  0.00000000e+00, ...,\n",
       "                 -0.00000000e+00, -0.00000000e+00, -0.00000000e+00],\n",
       "                [ 0.00000000e+00,  1.56062794e-01,  3.11497179e-01, ...,\n",
       "                 -3.11497179e-01, -1.56062794e-01, -6.02680511e-16],\n",
       "                [ 0.00000000e+00,  3.12125589e-01,  6.22994358e-01, ...,\n",
       "                 -6.22994358e-01, -3.12125589e-01, -1.20536102e-15]])\n",
       "})"
      ]
     },
     "execution_count": 104,
     "metadata": {},
     "output_type": "execute_result"
    }
   ],
   "source": [
    "fig.data[len(step_inds)]"
   ]
  },
  {
   "cell_type": "code",
   "execution_count": 31,
   "metadata": {},
   "outputs": [],
   "source": [
    "# add analyzed plane\n",
    "# slider to select group\n",
    "current_dir = 1\n",
    "# current_dir = -1\n",
    "\n",
    "point_dict = {\n",
    "    'A': 0,\n",
    "    'B': 1,\n",
    "    'C': 2,\n",
    "    'D': 3,\n",
    "    'E': 4,\n",
    "}\n",
    "point_cmap = [\n",
    "    [0/4, 'red'],\n",
    "    [1/4, 'green'],\n",
    "    [2/4, 'blue'],\n",
    "    [3/4, 'indigo'],\n",
    "    [4/4, 'violet'],\n",
    "]\n",
    "\n",
    "thetas = np.linspace(0, 2*np.pi, 100)\n",
    "# thetas = np.arange(0, 2*np.pi, 2*np.pi/100)\n",
    "R = mm_to_inch(250./2)\n",
    "Rs = np.linspace(0, R, 3)\n",
    "TH, RR = np.meshgrid(thetas, Rs)\n",
    "pole_pos = [mm_to_inch(75./2)*np.ones_like(TH), RR*np.cos(TH), RR*np.sin(TH)] # I think this is \"South\" for positive current --> blue. field points north to south\n",
    "pole_neg = [mm_to_inch(-75./2*np.ones_like(TH)), RR*np.cos(TH), RR*np.sin(TH)] # I think this is \"Norht\" for positive current --> red. field points north to south\n",
    "# pole_pos = [mm_to_inch(75./2)*np.ones_like(thetas), R*np.cos(thetas), R*np.sin(thetas)] # I think this is \"South\" for positive current --> blue. field points north to south\n",
    "# pole_neg = [mm_to_inch(-75./2*np.ones_like(thetas)), R*np.cos(thetas), R*np.sin(thetas)] # I think this is \"Norht\" for positive current --> red. field points north to south\n",
    "if current_dir > 0:\n",
    "    pole_labels = ['South', 'North']\n",
    "    pole_colors = ['blue', 'red']\n",
    "else:\n",
    "    pole_labels = ['North', 'South']\n",
    "    pole_colors = ['red', 'blue']\n",
    "#cvals = np.ones_like(thetas)\n",
    "cvals = np.ones_like(TH)\n",
    "\n",
    "data = [\n",
    "    # Pole Faces\n",
    "    go.Surface(x=pole_[0], y=pole_[1], z=pole_[2], surfacecolor=cvals,\n",
    "               colorscale=[[0,'rgba(0,0,0,0)'],[1,c_]],\n",
    "               showscale=False,\n",
    "               showlegend=True,\n",
    "               opacity=1.0,\n",
    "               name=f'Pole Face (\"{p_l}\" for Current Direction={current_dir})',\n",
    "              )\n",
    "for pole_, c_, p_l in zip([pole_pos, pole_neg], pole_colors, pole_labels)]\n",
    "\n",
    "# floor\n",
    "data.append(\n",
    "    go.Surface(x=X_FL, y=Y_FL, z=Z_FL, surfacecolor=cvals,\n",
    "               colorscale=[[0,'rgba(0,0,0,0)'],[1,'rgba(130,130,130,0.9)']],\n",
    "               showscale=False,\n",
    "               showlegend=True,\n",
    "               opacity=1.0,\n",
    "               name=f'Floor (approx., assumes LT coords. XY coplanar to floor)',\n",
    "              )\n",
    ")\n",
    "# door\n",
    "data.append(\n",
    "    go.Surface(x=X_DO, y=Y_DO, z=Z_DO, surfacecolor=cvals,\n",
    "               colorscale=[[0,'rgba(0,0,0,0)'],[1,'rgba(250,247,155,0.9)']],\n",
    "               showscale=False,\n",
    "               showlegend=True,\n",
    "               opacity=1.0,\n",
    "               name=f'Door',\n",
    "              )\n",
    ")\n",
    "\n",
    "# Laser Tracker approx. location\n",
    "data.append(go.Scatter3d(x=[X0_LT], y=[Y0_LT], z=[Z0_LT], mode='markers',\n",
    "                         name='Laser Tracker (approx.)',\n",
    "                         marker=dict(size=2, color='red', symbol='x',),\n",
    "                         opacity=1.0,\n",
    "                        )\n",
    "           )\n",
    "\n",
    "groups_ind = df_groups.Group_Index.values\n",
    "groups = df_groups.Group.values\n",
    "times = df_groups.Time.values\n",
    "sa1s = df_groups.SmarAct1_Meas_Deg.values\n",
    "sa2s = df_groups.SmarAct2_Meas_Deg.values\n",
    "\n",
    "layout = go.Layout(\n",
    "    title=f'Survey of SmarAct Kinematic Mounting Plate:<br>Group {groups_ind[0]}: {groups[0]}, Time: {times[0]}<br>'+\n",
    "    f'SmarAct1: {sa1s[0]} [deg], SmarAct2: {sa2s[0]} [deg]',\n",
    "    #title='Survey of SmarAct Kinematic Mounting Plate',\n",
    "    scene=dict(\n",
    "        xaxis=dict(title='X [inch]'),\n",
    "        yaxis=dict(title='Y [inch]'),\n",
    "        zaxis=dict(title='Z [inch]'),\n",
    "        aspectmode='data',\n",
    "    ),\n",
    "    #plot_bgcolor='rgb(240, 240, 240)',\n",
    ")\n",
    "\n",
    "fig = go.Figure(layout=layout)\n",
    "\n",
    "L_vecs = 3.0 # inch\n",
    "\n",
    "for group_ind in groups_ind:\n",
    "    df_m = df_meas.query(f'Group_Index == {group_ind}')\n",
    "    df_g = df_groups.query(f'Group_Index == {group_ind}').iloc[0]\n",
    "    fig.add_trace(go.Scatter3d(x=df_m.X, y=df_m.Y, z=df_m.Z, mode='markers', opacity=1.0,\n",
    "                             name=f'LT Measurements: {group_ind}',\n",
    "                             text=df_m.Point,\n",
    "                             marker=dict(size=4, color=[point_dict[i] for i in df_m.Point], colorscale=point_cmap),\n",
    "                             visible=False\n",
    "                            )\n",
    "               )\n",
    "    fig.add_trace(go.Scatter3d(x=[df_g.centroid_x], y=[df_g.centroid_y], z=[df_g.centroid_z], mode='markers', opacity=1.0,\n",
    "                             name=f'Centroid: {group_ind}',\n",
    "#                              text=df_m.Point,\n",
    "                             marker=dict(size=4, color='black', symbol='circle-open'),\n",
    "                             visible=False,\n",
    "                            )\n",
    "               )\n",
    "    # normal vector\n",
    "    fig.add_trace(go.Scatter3d(x=[df_g.centroid_x, df_g.centroid_x+L_vecs*df_g.norm_v_x],\n",
    "                               y=[df_g.centroid_y, df_g.centroid_y+L_vecs*df_g.norm_v_y],\n",
    "                               z=[df_g.centroid_z, df_g.centroid_z+L_vecs*df_g.norm_v_z],\n",
    "                               mode='lines', opacity=1.0,\n",
    "                             name=f'Normal Vector (\"Z\"): {group_ind}',\n",
    "#                              text=df_m.Point,\n",
    "                             #marker=dict(size=4, color='black', symbol='circle-open'),\n",
    "                             line=dict(width=2, color='blue'),\n",
    "                             visible=False,\n",
    "                            )\n",
    "               )\n",
    "    # y vector\n",
    "    fig.add_trace(go.Scatter3d(x=[df_g.centroid_x, df_g.centroid_x+L_vecs*df_g.vec_y_x],\n",
    "                               y=[df_g.centroid_y, df_g.centroid_y+L_vecs*df_g.vec_y_y],\n",
    "                               z=[df_g.centroid_z, df_g.centroid_z+L_vecs*df_g.vec_y_z],\n",
    "                               mode='lines', opacity=1.0,\n",
    "                             name=f'\"Y\" Vector: {group_ind}',\n",
    "#                              text=df_m.Point,\n",
    "                             #marker=dict(size=4, color='black', symbol='circle-open'),\n",
    "                             line=dict(width=2, color='green'),\n",
    "                             visible=False,\n",
    "                            )\n",
    "               )\n",
    "    # X vector\n",
    "    fig.add_trace(go.Scatter3d(x=[df_g.centroid_x, df_g.centroid_x+L_vecs*df_g.vec_x_x],\n",
    "                               y=[df_g.centroid_y, df_g.centroid_y+L_vecs*df_g.vec_x_y],\n",
    "                               z=[df_g.centroid_z, df_g.centroid_z+L_vecs*df_g.vec_x_z],\n",
    "                               mode='lines', opacity=1.0,\n",
    "                             name=f'\"Y\" Vector: {group_ind}',\n",
    "#                              text=df_m.Point,\n",
    "                             #marker=dict(size=4, color='black', symbol='circle-open'),\n",
    "                             line=dict(width=2, color='red'),\n",
    "                             visible=False,\n",
    "                            )\n",
    "               )\n",
    "\n",
    "# add other traces\n",
    "for trace in data:\n",
    "    fig.add_trace(trace)\n",
    "    \n",
    "# turn on 0th trace\n",
    "fig.data[0].visible=True\n",
    "fig.data[1].visible=True\n",
    "fig.data[2].visible=True\n",
    "fig.data[3].visible=True\n",
    "fig.data[4].visible=True\n",
    "\n",
    "# set up slider\n",
    "steps = []\n",
    "step_inds = [i for i in range(len(df_groups.Group_Index.values))]\n",
    "n_all_on = len(fig.data) - len(step_inds)\n",
    "for i in step_inds:\n",
    "    step = dict(\n",
    "        method='update',\n",
    "        args=[{'visible': [False]*5*len(step_inds) + [True]*n_all_on},\n",
    "              {'title': f'Survey of SmarAct Kinematic Mounting Plate:<br>Group {groups_ind[i]}: {groups[i]}, Time: {times[i]}<br>'+\n",
    "              f'SmarAct1: {sa1s[i]} [deg], SmarAct2: {sa2s[i]} [deg]'},\n",
    "             ],\n",
    "    )\n",
    "    step[\"args\"][0][\"visible\"][5*i] = True # toggle correct trace on -- measurements\n",
    "    step[\"args\"][0][\"visible\"][5*i+1] = True # toggle correct trace on -- centroid\n",
    "    step[\"args\"][0][\"visible\"][5*i+2] = True # toggle correct trace on -- normal (z) vector\n",
    "    step[\"args\"][0][\"visible\"][5*i+3] = True # toggle correct trace on -- y vector\n",
    "    step[\"args\"][0][\"visible\"][5*i+4] = True # toggle correct trace on -- x vector\n",
    "    steps.append(step)\n",
    "\n",
    "sliders = [dict(\n",
    "    active=0,\n",
    "    currentvalue={'prefix': 'Index: '},\n",
    "    pad={'t': 50},\n",
    "    steps=steps\n",
    ")]\n",
    "\n",
    "fig.update_layout(\n",
    "    sliders=sliders\n",
    ")\n",
    "\n",
    "# visibility buttons\n",
    "# just doing one as an example for now...2022-12-15 17:03:29\n",
    "# probably can not do multiple toggles in this way...a particular toggle sets all values.\n",
    "\n",
    "# grab default opacity for each trace\n",
    "default_opacities = [trace['opacity'] for trace in fig.data]\n",
    "pole_off_opacities = deepcopy(default_opacities)\n",
    "# pole face is just after the measurement steps\n",
    "#pole_off_opacities[len(step_inds)] = 0.0\n",
    "pole_off_opacities[5*len(step_inds)] = 0.0\n",
    "\n",
    "# fig.update_layout(\n",
    "#     updatemenus=[\n",
    "#         dict(\n",
    "#             type=\"buttons\",\n",
    "#             direction=\"left\",\n",
    "#             active=0,\n",
    "#             x=1.19,\n",
    "#             xanchor='left',\n",
    "#             yanchor='top',\n",
    "#             y=0.5,\n",
    "#             buttons=list([\n",
    "#                 dict(label=\"On\",\n",
    "#                      method=\"update\",\n",
    "#                      args=[{\"opacity\": default_opacities},\n",
    "#                           ]),\n",
    "#                 dict(label=\"Off\",\n",
    "#                      method=\"update\",\n",
    "#                      args=[{\"opacity\": pole_off_opacities},\n",
    "#                           ]),\n",
    "#             ]),\n",
    "#         )\n",
    "#     ]\n",
    "# )\n",
    "\n",
    "# Add annotation\n",
    "# fig.update_layout(\n",
    "#     annotations=[\n",
    "#         dict(text=\"+X Pole Visibility:\", showarrow=False,\n",
    "#              x=1.08, y=0.5, yref=\"paper\", align=\"left\")\n",
    "#     ]\n",
    "# )\n",
    "\n",
    "# camera\n",
    "camera_default = dict(\n",
    "    up=dict(x=0, y=0, z=1),\n",
    "    center=dict(x=0, y=0, z=0),\n",
    "    eye=dict(x=1.25, y=1.25, z=1.25)\n",
    ")\n",
    "\n",
    "camera_pos_x = dict(\n",
    "    up=dict(x=0, y=0, z=1),\n",
    "    center=dict(x=0.126, y=-0.13, z=-0.2),\n",
    "    eye=dict(x=0.4, y=-0.13, z=-0.2)\n",
    ")\n",
    "\n",
    "camera_pos_z = dict(\n",
    "    up=dict(x=-1, y=0, z=0),\n",
    "    center=dict(x=0.126, y=-0.13, z=-0.2),\n",
    "    eye=dict(x=0.126, y=-0.13, z=0.0)\n",
    ")\n",
    "\n",
    "#fig.update_layout(scene_camera=camera_pos_x)\n",
    "#fig.update_layout(scene_camera=camera_pos_z)\n",
    "\n",
    "# buttons for camera\n",
    "fig.update_layout(\n",
    "    updatemenus=[\n",
    "        # pole visibility\n",
    "        dict(\n",
    "            type=\"buttons\",\n",
    "            direction=\"left\",\n",
    "            active=0,\n",
    "            x=1.19,\n",
    "            xanchor='left',\n",
    "            yanchor='top',\n",
    "            y=0.5,\n",
    "            buttons=list([\n",
    "                dict(label=\"On\",\n",
    "                     method=\"restyle\",\n",
    "                     args=[{\"opacity\": default_opacities},\n",
    "                          ]),\n",
    "                dict(label=\"Off\",\n",
    "                     method=\"restyle\",\n",
    "                     args=[{\"opacity\": pole_off_opacities},\n",
    "                          ]),\n",
    "            ]),\n",
    "        ),\n",
    "        # camera\n",
    "        dict(\n",
    "            type=\"buttons\",\n",
    "            direction=\"left\",\n",
    "            active=0,\n",
    "            x=1.19,\n",
    "            xanchor='left',\n",
    "            yanchor='top',\n",
    "            y=0.4,\n",
    "            buttons=list([\n",
    "                dict(label=\"Room\",\n",
    "                     method=\"relayout\",\n",
    "                     args=[{\"scene.camera\": camera_default},\n",
    "                          ]),\n",
    "#                      args=[{\"scene.camera.up\": camera_default['up']},\n",
    "#                            {\"scene.camera.center\": camera_default['center']},\n",
    "#                            {\"scene.camera.eye\": camera_default['eye']},\n",
    "#                           ]),\n",
    "                dict(label=\"Side\",\n",
    "                     method=\"relayout\",\n",
    "                     args=[{\"scene.camera\": camera_pos_x},\n",
    "                          ]),\n",
    "#                      args=[{\"scene.camera.up\": camera_pos_x['up']},\n",
    "#                            {\"scene.camera.center\": camera_pos_x['center']},\n",
    "#                            {\"scene.camera.eye\": camera_pos_x['eye']},\n",
    "#                           ]),\n",
    "                dict(label=\"Top\",\n",
    "                     method=\"relayout\",\n",
    "                     args=[{\"scene.camera\": camera_pos_z},\n",
    "                          ]),\n",
    "#                      args=[{\"scene.camera.up\": camera_pos_z['up']},\n",
    "#                            {\"scene.camera.center\": camera_pos_z['center']},\n",
    "#                            {\"scene.camera.eye\": camera_pos_z['eye']},\n",
    "#                           ]),\n",
    "            ]),\n",
    "        ),\n",
    "        # camera perspective\n",
    "#         dict(\n",
    "#             type=\"buttons\",\n",
    "#             direction=\"left\",\n",
    "#             active=0,\n",
    "#             x=1.19,\n",
    "#             xanchor='left',\n",
    "#             yanchor='top',\n",
    "#             y=0.3,\n",
    "#             buttons=list([\n",
    "#                 dict(label=\"Perspective\",\n",
    "#                      method=\"relayout\",\n",
    "#                      args=[{\"scene.camera.projection.type\": 'perspective'},\n",
    "#                           ]),\n",
    "#                 dict(label=\"Orthographic\",\n",
    "#                      method=\"relayout\",\n",
    "#                      args=[{\"scene.camera.projection.type\": 'orthographic'},\n",
    "#                           ]),\n",
    "#             ]),\n",
    "#         )\n",
    "    ]\n",
    ")\n",
    "\n",
    "# Add annotation\n",
    "fig.update_layout(\n",
    "    annotations=[\n",
    "        dict(text=\"+X Pole Visibility:\", showarrow=False,\n",
    "             x=1.1, y=0.5, xref=\"paper\", yref=\"paper\", align=\"left\"),\n",
    "        dict(text=\"Camera View:\", showarrow=False,\n",
    "             x=1.1, y=0.4, xref=\"paper\", yref=\"paper\", align=\"left\"),\n",
    "#         dict(text=\"Camera Projection:\", showarrow=False,\n",
    "#              x=1.1, y=0.3, xref=\"paper\", yref=\"paper\", align=\"left\"),\n",
    "    ]\n",
    ")\n",
    "\n",
    "#fig = go.Figure(data=data, layout=layout)\n",
    "fig.write_html(plot_dir+'plotly_3d_test_slider_plane_analysis.html')"
   ]
  },
  {
   "cell_type": "code",
   "execution_count": 26,
   "metadata": {},
   "outputs": [
    {
     "name": "stdout",
     "output_type": "stream",
     "text": [
      "-0.5101332000000001\n",
      "-0.5106208000000001\n",
      "-0.5101829999999998\n",
      "-0.5105776\n",
      "-0.5104444\n",
      "-0.51047\n",
      "-0.510402\n",
      "-0.5103430000000001\n",
      "-0.5103626000000002\n",
      "-0.5103498000000001\n",
      "-0.5103442\n",
      "-0.5103188\n",
      "-0.5103281999999999\n",
      "-0.5103154000000001\n",
      "-0.5103055999999999\n",
      "-0.5103996\n",
      "-0.5100606\n",
      "-0.5101126\n",
      "-0.5098559999999999\n",
      "-0.5103242\n",
      "-0.5100728\n",
      "-0.509971\n",
      "-0.5101658000000001\n",
      "-0.5103076\n",
      "-0.5102845999999999\n",
      "-0.5102251999999999\n",
      "-0.5102205999999999\n",
      "-0.510194\n",
      "-0.5101689999999999\n",
      "-0.5102699999999998\n",
      "-0.5108651999999998\n",
      "-0.5113912\n",
      "-0.5117567999999999\n",
      "-0.5120322\n",
      "-0.5095852\n",
      "-0.4861968\n",
      "-0.4404014\n",
      "-0.294916\n",
      "-0.11439719999999994\n",
      "0.12132279999999995\n",
      "0.20119819999999994\n",
      "0.0727624\n",
      "-0.18914560000000002\n",
      "-0.4306697999999999\n",
      "-0.5090538\n",
      "-0.5091246\n",
      "-0.5091272000000001\n",
      "-0.5092046\n",
      "-0.5104711999999999\n",
      "-0.510531\n",
      "-0.12031360000000002\n",
      "-0.12068399999999997\n",
      "0.20112200000000008\n",
      "0.20116419999999993\n",
      "-0.1891092\n",
      "-0.18890339999999992\n",
      "-0.5094021999999999\n",
      "-0.5093764000000001\n",
      "-0.509431\n",
      "-0.5092611999999999\n",
      "-0.5092057999999998\n",
      "-0.5092335999999998\n",
      "-0.5093759999999999\n",
      "-0.5094494\n",
      "-0.5092865999999999\n",
      "-0.5094672000000001\n",
      "-0.5094719999999999\n",
      "-0.5094334\n",
      "-0.50942\n",
      "-0.5093981999999999\n",
      "-0.5094017999999999\n",
      "-0.5095029999999999\n",
      "-0.5102282\n",
      "-0.5108431999999999\n",
      "-0.5113688\n",
      "-0.5105218\n",
      "-0.5105548\n",
      "-0.1194016\n",
      "-0.12027079999999998\n",
      "0.12119119999999999\n",
      "-0.509457\n",
      "-0.5094481999999999\n"
     ]
    }
   ],
   "source": [
    "for group_ind in groups_ind:\n",
    "    df_m = df_meas.query(f'Group_Index == {group_ind}')\n",
    "    df_g = df_groups.query(f'Group_Index == {group_ind}').iloc[0]\n",
    "    print(df_g.centroid_z)"
   ]
  },
  {
   "cell_type": "code",
   "execution_count": null,
   "metadata": {},
   "outputs": [],
   "source": []
  }
 ],
 "metadata": {
  "kernelspec": {
   "display_name": "Python [conda env:mu2e]",
   "language": "python",
   "name": "conda-env-mu2e-py"
  },
  "language_info": {
   "codemirror_mode": {
    "name": "ipython",
    "version": 3
   },
   "file_extension": ".py",
   "mimetype": "text/x-python",
   "name": "python",
   "nbconvert_exporter": "python",
   "pygments_lexer": "ipython3",
   "version": "3.8.11"
  }
 },
 "nbformat": 4,
 "nbformat_minor": 2
}
